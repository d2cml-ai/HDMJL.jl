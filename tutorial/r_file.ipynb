{
 "cells": [
  {
   "cell_type": "markdown",
   "metadata": {},
   "source": [
    "# HIGH-DIMENSIONAL METRICS IN R"
   ]
  },
  {
   "cell_type": "markdown",
   "metadata": {},
   "source": [
    "## 2. How to get started"
   ]
  },
  {
   "cell_type": "code",
   "execution_count": 1,
   "metadata": {
    "vscode": {
     "languageId": "r"
    }
   },
   "outputs": [
    {
     "name": "stderr",
     "output_type": "stream",
     "text": [
      "Warning message:\n",
      "\"package 'hdm' was built under R version 4.2.1\"\n"
     ]
    }
   ],
   "source": [
    "library(hdm)\n",
    "library(stats)"
   ]
  },
  {
   "cell_type": "code",
   "execution_count": null,
   "metadata": {
    "vscode": {
     "languageId": "r"
    }
   },
   "outputs": [],
   "source": []
  },
  {
   "cell_type": "code",
   "execution_count": 115,
   "metadata": {
    "vscode": {
     "languageId": "r"
    }
   },
   "outputs": [
    {
     "data": {
      "text/html": [
       "<style>\n",
       ".list-inline {list-style: none; margin:0; padding: 0}\n",
       ".list-inline>li {display: inline-block}\n",
       ".list-inline>li:not(:last-child)::after {content: \"\\00b7\"; padding: 0 .5ex}\n",
       "</style>\n",
       "<ol class=list-inline><li>90</li><li>63</li></ol>\n"
      ],
      "text/latex": [
       "\\begin{enumerate*}\n",
       "\\item 90\n",
       "\\item 63\n",
       "\\end{enumerate*}\n"
      ],
      "text/markdown": [
       "1. 90\n",
       "2. 63\n",
       "\n",
       "\n"
      ],
      "text/plain": [
       "[1] 90 63"
      ]
     },
     "metadata": {},
     "output_type": "display_data"
    }
   ],
   "source": [
    "data(GrowthData)\n",
    "dim(GrowthData)\n",
    "## [1] 90 63\n",
    "y = GrowthData[, 1, drop = F]\n",
    "d = GrowthData[, 3, drop = F]\n",
    "x = as.matrix(GrowthData)[, -c(1, 2, 3)]\n",
    "\n",
    "# a = (rlasso(x = x, y = y)"
   ]
  },
  {
   "cell_type": "code",
   "execution_count": 118,
   "metadata": {
    "vscode": {
     "languageId": "r"
    }
   },
   "outputs": [
    {
     "data": {
      "text/plain": [
       "\n",
       "Call:\n",
       "rlasso.default(x = x, y = y)\n",
       "\n",
       "Coefficients:\n",
       "(Intercept)        bmp1l       freeop      freetar          h65         hm65  \n",
       "    0.05810     -0.07557      0.00000      0.00000      0.00000      0.00000  \n",
       "       hf65          p65         pm65         pf65          s65         sm65  \n",
       "    0.00000      0.00000      0.00000      0.00000      0.00000      0.00000  \n",
       "       sf65       fert65       mort65     lifee065        gpop1        fert1  \n",
       "    0.00000      0.00000      0.00000      0.00000      0.00000      0.00000  \n",
       "      mort1      invsh41      geetot1      geerec1         gde1       govwb1  \n",
       "    0.00000      0.00000      0.00000      0.00000      0.00000      0.00000  \n",
       "    govsh41     gvxdxe41       high65      highm65      highf65      highc65  \n",
       "    0.00000      0.00000      0.00000      0.00000      0.00000      0.00000  \n",
       "   highcm65     highcf65      human65     humanm65     humanf65        hyr65  \n",
       "    0.00000      0.00000      0.00000      0.00000      0.00000      0.00000  \n",
       "     hyrm65       hyrf65         no65        nom65        nof65     pinstab1  \n",
       "    0.00000      0.00000      0.00000      0.00000      0.00000      0.00000  \n",
       "      pop65     worker65      pop1565      pop6565        sec65       secm65  \n",
       "    0.00000      0.00000      0.00000      0.00000      0.00000      0.00000  \n",
       "     secf65       secc65      seccm65      seccf65        syr65       syrm65  \n",
       "    0.00000      0.00000      0.00000      0.00000      0.00000      0.00000  \n",
       "     syrf65     teapri65     teasec65          ex1          im1         xr65  \n",
       "    0.00000      0.00000      0.00000      0.00000      0.00000      0.00000  \n",
       "       tot1  \n",
       "    0.00000  \n"
      ]
     },
     "metadata": {},
     "output_type": "display_data"
    }
   ],
   "source": [
    "rlasso(x = x, y = y)"
   ]
  },
  {
   "cell_type": "code",
   "execution_count": 117,
   "metadata": {
    "vscode": {
     "languageId": "r"
    }
   },
   "outputs": [],
   "source": [
    "a = 5"
   ]
  },
  {
   "cell_type": "markdown",
   "metadata": {},
   "source": [
    "## 4. Inference on Target Regression Coefficients"
   ]
  },
  {
   "cell_type": "markdown",
   "metadata": {},
   "source": [
    "### 4.1. Intuition for the Orthogonality Principle in Linear Models via Partialling Out."
   ]
  },
  {
   "cell_type": "code",
   "execution_count": 469,
   "metadata": {
    "vscode": {
     "languageId": "r"
    }
   },
   "outputs": [],
   "source": [
    "set.seed(1)\n",
    "n = 5000\n",
    "p = 20\n",
    "X = matrix(rnorm(n * p), ncol = p)\n",
    "colnames(X) = c(\"d\", paste(\"x\", 1:19, sep = \"\"))\n",
    "xnames = colnames(X)[-1]\n",
    "beta = rep(1, 20)\n",
    "y = X %*% beta + rnorm(n)\n",
    "dat = data.frame(y = y, X)\n",
    "#save(dat, file = \"../data/4_1.csv\")\n",
    "#write.csv(dat,\"../data/4_1.csv\", row.names = FALSE)\n"
   ]
  },
  {
   "cell_type": "code",
   "execution_count": 471,
   "metadata": {
    "vscode": {
     "languageId": "r"
    }
   },
   "outputs": [
    {
     "data": {
      "text/html": [
       "<style>\n",
       ".dl-inline {width: auto; margin:0; padding: 0}\n",
       ".dl-inline>dt, .dl-inline>dd {float: none; width: auto; display: inline-block}\n",
       ".dl-inline>dt::after {content: \":\\0020\"; padding-right: .5ex}\n",
       ".dl-inline>dt:not(:first-of-type) {padding-left: .5ex}\n",
       "</style><dl class=dl-inline><dt>Estimate</dt><dd>0.978074548374755</dd><dt>Std. Error</dt><dd>0.0137122468163772</dd></dl>\n"
      ],
      "text/latex": [
       "\\begin{description*}\n",
       "\\item[Estimate] 0.978074548374755\n",
       "\\item[Std. Error] 0.0137122468163772\n",
       "\\end{description*}\n"
      ],
      "text/markdown": [
       "Estimate\n",
       ":   0.978074548374755Std. Error\n",
       ":   0.0137122468163772\n",
       "\n"
      ],
      "text/plain": [
       "  Estimate Std. Error \n",
       "0.97807455 0.01371225 "
      ]
     },
     "metadata": {},
     "output_type": "display_data"
    }
   ],
   "source": [
    "# full fit\n",
    "fmla = as.formula(paste(\"y ~ \", paste(colnames(X), collapse = \"+\")))\n",
    "full.fit = lm(fmla, data = dat)\n",
    "summary(full.fit)$coef[\"d\", 1:2]"
   ]
  },
  {
   "cell_type": "code",
   "execution_count": 485,
   "metadata": {
    "vscode": {
     "languageId": "r"
    }
   },
   "outputs": [
    {
     "data": {
      "text/html": [
       "<style>\n",
       ".dl-inline {width: auto; margin:0; padding: 0}\n",
       ".dl-inline>dt, .dl-inline>dd {float: none; width: auto; display: inline-block}\n",
       ".dl-inline>dt::after {content: \":\\0020\"; padding-right: .5ex}\n",
       ".dl-inline>dt:not(:first-of-type) {padding-left: .5ex}\n",
       "</style><dl class=dl-inline><dt>Estimate</dt><dd>0.978074548374761</dd><dt>Std. Error</dt><dd>0.0136861583043357</dd></dl>\n"
      ],
      "text/latex": [
       "\\begin{description*}\n",
       "\\item[Estimate] 0.978074548374761\n",
       "\\item[Std. Error] 0.0136861583043357\n",
       "\\end{description*}\n"
      ],
      "text/markdown": [
       "Estimate\n",
       ":   0.978074548374761Std. Error\n",
       ":   0.0136861583043357\n",
       "\n"
      ],
      "text/plain": [
       "  Estimate Std. Error \n",
       "0.97807455 0.01368616 "
      ]
     },
     "metadata": {},
     "output_type": "display_data"
    }
   ],
   "source": [
    "fmla.y = as.formula(paste(\"y ~ \", paste(xnames, collapse = \"+\")))\n",
    "fmla.d = as.formula(paste(\"d ~ \", paste(xnames, collapse = \"+\")))\n",
    "# partial fit via ols\n",
    "rY = lm(fmla.y, data = dat)$res\n",
    "rD = lm(fmla.d, data = dat)$res\n",
    "partial.fit.ls = lm(rY ~ rD)\n",
    "summary(partial.fit.ls)$coef[\"rD\", 1:2]"
   ]
  },
  {
   "cell_type": "code",
   "execution_count": 488,
   "metadata": {
    "vscode": {
     "languageId": "r"
    }
   },
   "outputs": [
    {
     "data": {
      "text/html": [
       "<style>\n",
       ".dl-inline {width: auto; margin:0; padding: 0}\n",
       ".dl-inline>dt, .dl-inline>dd {float: none; width: auto; display: inline-block}\n",
       ".dl-inline>dt::after {content: \":\\0020\"; padding-right: .5ex}\n",
       ".dl-inline>dt:not(:first-of-type) {padding-left: .5ex}\n",
       "</style><dl class=dl-inline><dt>Estimate</dt><dd>0.972738704584573</dd><dt>Std. Error</dt><dd>0.0136867656564768</dd></dl>\n"
      ],
      "text/latex": [
       "\\begin{description*}\n",
       "\\item[Estimate] 0.972738704584573\n",
       "\\item[Std. Error] 0.0136867656564768\n",
       "\\end{description*}\n"
      ],
      "text/markdown": [
       "Estimate\n",
       ":   0.972738704584573Std. Error\n",
       ":   0.0136867656564768\n",
       "\n"
      ],
      "text/plain": [
       "  Estimate Std. Error \n",
       "0.97273870 0.01368677 "
      ]
     },
     "metadata": {},
     "output_type": "display_data"
    }
   ],
   "source": [
    "rY = rlasso(fmla.y, data = dat)$res\n",
    "rD = rlasso(fmla.d, data = dat)$res\n",
    "partial.fit.postlasso = lm(rY ~ rD)\n",
    "summary(partial.fit.postlasso)$coef[\"rD\", 1:2]"
   ]
  },
  {
   "cell_type": "code",
   "execution_count": null,
   "metadata": {
    "vscode": {
     "languageId": "r"
    }
   },
   "outputs": [],
   "source": []
  },
  {
   "cell_type": "code",
   "execution_count": null,
   "metadata": {
    "vscode": {
     "languageId": "r"
    }
   },
   "outputs": [],
   "source": []
  },
  {
   "cell_type": "code",
   "execution_count": null,
   "metadata": {
    "vscode": {
     "languageId": "r"
    }
   },
   "outputs": [],
   "source": []
  },
  {
   "cell_type": "code",
   "execution_count": null,
   "metadata": {
    "vscode": {
     "languageId": "r"
    }
   },
   "outputs": [],
   "source": []
  },
  {
   "cell_type": "markdown",
   "metadata": {},
   "source": [
    "### 4.2. Inference: Confidence Intervals and Significance Testing. The function rlassoEffects"
   ]
  },
  {
   "cell_type": "code",
   "execution_count": 496,
   "metadata": {
    "vscode": {
     "languageId": "r"
    }
   },
   "outputs": [],
   "source": [
    "set.seed(1)\n",
    "n = 100 #sample size\n",
    "p = 100 # number of variables\n",
    "s = 3 # nubmer of non-zero variables\n",
    "X = matrix(rnorm(n * p), ncol = p)\n",
    "colnames(X) <- paste(\"X\", 1:p, sep = \"\")\n",
    "beta = c(rep(3, s), rep(0, p - s))\n",
    "y = 1 + X %*% beta + rnorm(n)\n",
    "data = data.frame(cbind(y, X))\n",
    "#write.csv(data,\"../data/4_2.csv\", row.names = FALSE)\n",
    "colnames(data)[1] <- \"y\"\n",
    "fm = paste(\"y ~\", paste(colnames(X), collapse = \"+\"))\n",
    "fm = as.formula(fm)"
   ]
  },
  {
   "cell_type": "code",
   "execution_count": 497,
   "metadata": {
    "vscode": {
     "languageId": "r"
    }
   },
   "outputs": [
    {
     "name": "stdout",
     "output_type": "stream",
     "text": [
      "\n",
      "Call:\n",
      "rlassoEffects.formula(formula = fm, data = data, I = ~X1 + X2 + \n",
      "    X3 + X50)\n",
      "\n",
      "Coefficients:\n",
      "     X1       X2       X3      X50  \n",
      "2.94448  3.04127  2.97540  0.07196  \n",
      "\n"
     ]
    }
   ],
   "source": [
    "# lasso.effect = rlassoEffects(X, y, index=c(1,2,3,50))\n",
    "lasso.effect = rlassoEffects(fm, I = ~X1 + X2 + X3 + X50, data = data)\n",
    "print(lasso.effect)"
   ]
  },
  {
   "cell_type": "code",
   "execution_count": 499,
   "metadata": {
    "vscode": {
     "languageId": "r"
    }
   },
   "outputs": [
    {
     "data": {
      "text/plain": [
       "[1] \"Estimates and significance testing of the effect of target variables\"\n",
       "    Estimate. Std. Error t value Pr(>|t|)    \n",
       "X1    2.94448    0.08815  33.404   <2e-16 ***\n",
       "X2    3.04127    0.08389  36.253   <2e-16 ***\n",
       "X3    2.97540    0.07804  38.127   <2e-16 ***\n",
       "X50   0.07196    0.07765   0.927    0.354    \n",
       "---\n",
       "Signif. codes:  0 '***' 0.001 '**' 0.01 '*' 0.05 '.' 0.1 ' ' 1\n",
       "\n"
      ]
     },
     "metadata": {},
     "output_type": "display_data"
    }
   ],
   "source": [
    "summary(lasso.effect)"
   ]
  },
  {
   "cell_type": "code",
   "execution_count": 500,
   "metadata": {
    "vscode": {
     "languageId": "r"
    }
   },
   "outputs": [
    {
     "data": {
      "text/html": [
       "<table class=\"dataframe\">\n",
       "<caption>A matrix: 4 × 2 of type dbl</caption>\n",
       "<thead>\n",
       "\t<tr><th></th><th scope=col>2.5 %</th><th scope=col>97.5 %</th></tr>\n",
       "</thead>\n",
       "<tbody>\n",
       "\t<tr><th scope=row>X1</th><td> 2.77171308</td><td>3.1172421</td></tr>\n",
       "\t<tr><th scope=row>X2</th><td> 2.87685121</td><td>3.2056979</td></tr>\n",
       "\t<tr><th scope=row>X3</th><td> 2.82244962</td><td>3.1283583</td></tr>\n",
       "\t<tr><th scope=row>X50</th><td>-0.08022708</td><td>0.2241377</td></tr>\n",
       "</tbody>\n",
       "</table>\n"
      ],
      "text/latex": [
       "A matrix: 4 × 2 of type dbl\n",
       "\\begin{tabular}{r|ll}\n",
       "  & 2.5 \\% & 97.5 \\%\\\\\n",
       "\\hline\n",
       "\tX1 &  2.77171308 & 3.1172421\\\\\n",
       "\tX2 &  2.87685121 & 3.2056979\\\\\n",
       "\tX3 &  2.82244962 & 3.1283583\\\\\n",
       "\tX50 & -0.08022708 & 0.2241377\\\\\n",
       "\\end{tabular}\n"
      ],
      "text/markdown": [
       "\n",
       "A matrix: 4 × 2 of type dbl\n",
       "\n",
       "| <!--/--> | 2.5 % | 97.5 % |\n",
       "|---|---|---|\n",
       "| X1 |  2.77171308 | 3.1172421 |\n",
       "| X2 |  2.87685121 | 3.2056979 |\n",
       "| X3 |  2.82244962 | 3.1283583 |\n",
       "| X50 | -0.08022708 | 0.2241377 |\n",
       "\n"
      ],
      "text/plain": [
       "    2.5 %       97.5 %   \n",
       "X1   2.77171308 3.1172421\n",
       "X2   2.87685121 3.2056979\n",
       "X3   2.82244962 3.1283583\n",
       "X50 -0.08022708 0.2241377"
      ]
     },
     "metadata": {},
     "output_type": "display_data"
    }
   ],
   "source": [
    "confint(lasso.effect)\n"
   ]
  },
  {
   "cell_type": "code",
   "execution_count": 501,
   "metadata": {
    "vscode": {
     "languageId": "r"
    }
   },
   "outputs": [
    {
     "data": {
      "text/html": [
       "<table class=\"dataframe\">\n",
       "<caption>A matrix: 4 × 2 of type dbl</caption>\n",
       "<thead>\n",
       "\t<tr><th></th><th scope=col>2.5 %</th><th scope=col>97.5 %</th></tr>\n",
       "</thead>\n",
       "<tbody>\n",
       "\t<tr><th scope=row>X1</th><td> 2.7279477</td><td>3.1610075</td></tr>\n",
       "\t<tr><th scope=row>X2</th><td> 2.8371214</td><td>3.2454278</td></tr>\n",
       "\t<tr><th scope=row>X3</th><td> 2.7833176</td><td>3.1674903</td></tr>\n",
       "\t<tr><th scope=row>X50</th><td>-0.1154509</td><td>0.2593615</td></tr>\n",
       "</tbody>\n",
       "</table>\n"
      ],
      "text/latex": [
       "A matrix: 4 × 2 of type dbl\n",
       "\\begin{tabular}{r|ll}\n",
       "  & 2.5 \\% & 97.5 \\%\\\\\n",
       "\\hline\n",
       "\tX1 &  2.7279477 & 3.1610075\\\\\n",
       "\tX2 &  2.8371214 & 3.2454278\\\\\n",
       "\tX3 &  2.7833176 & 3.1674903\\\\\n",
       "\tX50 & -0.1154509 & 0.2593615\\\\\n",
       "\\end{tabular}\n"
      ],
      "text/markdown": [
       "\n",
       "A matrix: 4 × 2 of type dbl\n",
       "\n",
       "| <!--/--> | 2.5 % | 97.5 % |\n",
       "|---|---|---|\n",
       "| X1 |  2.7279477 | 3.1610075 |\n",
       "| X2 |  2.8371214 | 3.2454278 |\n",
       "| X3 |  2.7833176 | 3.1674903 |\n",
       "| X50 | -0.1154509 | 0.2593615 |\n",
       "\n"
      ],
      "text/plain": [
       "    2.5 %      97.5 %   \n",
       "X1   2.7279477 3.1610075\n",
       "X2   2.8371214 3.2454278\n",
       "X3   2.7833176 3.1674903\n",
       "X50 -0.1154509 0.2593615"
      ]
     },
     "metadata": {},
     "output_type": "display_data"
    }
   ],
   "source": [
    "confint(lasso.effect, level = 0.95, joint = TRUE)\n"
   ]
  },
  {
   "cell_type": "markdown",
   "metadata": {},
   "source": [
    "### 4.3. Application: the effect of gender on wage."
   ]
  },
  {
   "cell_type": "code",
   "execution_count": 311,
   "metadata": {
    "vscode": {
     "languageId": "r"
    }
   },
   "outputs": [
    {
     "data": {
      "text/html": [
       "<style>\n",
       ".list-inline {list-style: none; margin:0; padding: 0}\n",
       ".list-inline>li {display: inline-block}\n",
       ".list-inline>li:not(:last-child)::after {content: \"\\00b7\"; padding: 0 .5ex}\n",
       "</style>\n",
       "<ol class=list-inline><li>29217</li><li>136</li></ol>\n"
      ],
      "text/latex": [
       "\\begin{enumerate*}\n",
       "\\item 29217\n",
       "\\item 136\n",
       "\\end{enumerate*}\n"
      ],
      "text/markdown": [
       "1. 29217\n",
       "2. 136\n",
       "\n",
       "\n"
      ],
      "text/plain": [
       "[1] 29217   136"
      ]
     },
     "metadata": {},
     "output_type": "display_data"
    },
    {
     "data": {
      "text/html": [
       "<style>\n",
       ".list-inline {list-style: none; margin:0; padding: 0}\n",
       ".list-inline>li {display: inline-block}\n",
       ".list-inline>li:not(:last-child)::after {content: \"\\00b7\"; padding: 0 .5ex}\n",
       "</style>\n",
       "<ol class=list-inline><li>29217</li><li>116</li></ol>\n"
      ],
      "text/latex": [
       "\\begin{enumerate*}\n",
       "\\item 29217\n",
       "\\item 116\n",
       "\\end{enumerate*}\n"
      ],
      "text/markdown": [
       "1. 29217\n",
       "2. 116\n",
       "\n",
       "\n"
      ],
      "text/plain": [
       "[1] 29217   116"
      ]
     },
     "metadata": {},
     "output_type": "display_data"
    }
   ],
   "source": [
    "library(hdm)\n",
    "data(cps2012)\n",
    "X <- model.matrix(~-1 + female + female:(widowed + divorced + separated + nevermarried +\n",
    "hsd08 + hsd911 + hsg + cg + ad + mw + so + we + exp1 + exp2 + exp3) + +(widowed +\n",
    "divorced + separated + nevermarried + hsd08 + hsd911 + hsg + cg + ad + mw + so +\n",
    "we + exp1 + exp2 + exp3)^2, data = cps2012)\n",
    "dim(X)\n",
    "X <- X[, which(apply(X, 2, var) != 0)] # exclude all constant variables\n",
    "dim(X)\n",
    "index.gender <- grep(\"female\", colnames(X))\n",
    "index.gender <- grep(\"female\", colnames(X))\n",
    "y <- cps2012$lnw"
   ]
  },
  {
   "cell_type": "code",
   "execution_count": 319,
   "metadata": {
    "vscode": {
     "languageId": "r"
    }
   },
   "outputs": [
    {
     "data": {
      "text/plain": [
       "[1] \"Estimates and significance testing of the effect of target variables\"\n",
       "                    Estimate. Std. Error t value Pr(>|t|)    \n",
       "female              -0.154923   0.050162  -3.088 0.002012 ** \n",
       "female:widowed       0.136095   0.090663   1.501 0.133325    \n",
       "female:divorced      0.136939   0.022182   6.174 6.68e-10 ***\n",
       "female:separated     0.023303   0.053212   0.438 0.661441    \n",
       "female:nevermarried  0.186853   0.019942   9.370  < 2e-16 ***\n",
       "female:hsd08         0.027810   0.120914   0.230 0.818092    \n",
       "female:hsd911       -0.119335   0.051880  -2.300 0.021435 *  \n",
       "female:hsg          -0.012890   0.019223  -0.671 0.502518    \n",
       "female:cg            0.010139   0.018327   0.553 0.580114    \n",
       "female:ad           -0.030464   0.021806  -1.397 0.162405    \n",
       "female:mw           -0.001063   0.019192  -0.055 0.955811    \n",
       "female:so           -0.008183   0.019357  -0.423 0.672468    \n",
       "female:we           -0.004226   0.021168  -0.200 0.841760    \n",
       "female:exp1          0.004935   0.007804   0.632 0.527139    \n",
       "female:exp2         -0.159519   0.045300  -3.521 0.000429 ***\n",
       "female:exp3          0.038451   0.007861   4.891 1.00e-06 ***\n",
       "---\n",
       "Signif. codes:  0 '***' 0.001 '**' 0.01 '*' 0.05 '.' 0.1 ' ' 1\n",
       "\n"
      ]
     },
     "metadata": {},
     "output_type": "display_data"
    }
   ],
   "source": [
    "effects.female <- rlassoEffects(x = X, y = y, index = index.gender)\n",
    "summary(effects.female)"
   ]
  },
  {
   "cell_type": "code",
   "execution_count": 320,
   "metadata": {
    "vscode": {
     "languageId": "r"
    }
   },
   "outputs": [
    {
     "data": {
      "text/html": [
       "<table class=\"dataframe\">\n",
       "<caption>A matrix: 16 × 2 of type dbl</caption>\n",
       "<thead>\n",
       "\t<tr><th></th><th scope=col>2.5 %</th><th scope=col>97.5 %</th></tr>\n",
       "</thead>\n",
       "<tbody>\n",
       "\t<tr><th scope=row>female</th><td>-0.29392716</td><td>-0.01591940</td></tr>\n",
       "\t<tr><th scope=row>female:widowed</th><td>-0.13309530</td><td> 0.40528626</td></tr>\n",
       "\t<tr><th scope=row>female:divorced</th><td> 0.07492960</td><td> 0.19894917</td></tr>\n",
       "\t<tr><th scope=row>female:separated</th><td>-0.11641774</td><td> 0.16302326</td></tr>\n",
       "\t<tr><th scope=row>female:nevermarried</th><td> 0.12938077</td><td> 0.24432620</td></tr>\n",
       "\t<tr><th scope=row>female:hsd08</th><td>-0.37364347</td><td> 0.42926409</td></tr>\n",
       "\t<tr><th scope=row>female:hsd911</th><td>-0.26870533</td><td> 0.03003525</td></tr>\n",
       "\t<tr><th scope=row>female:hsg</th><td>-0.06502795</td><td> 0.03924839</td></tr>\n",
       "\t<tr><th scope=row>female:cg</th><td>-0.04157113</td><td> 0.06184824</td></tr>\n",
       "\t<tr><th scope=row>female:ad</th><td>-0.09569738</td><td> 0.03476989</td></tr>\n",
       "\t<tr><th scope=row>female:mw</th><td>-0.05459343</td><td> 0.05246655</td></tr>\n",
       "\t<tr><th scope=row>female:so</th><td>-0.06260432</td><td> 0.04623763</td></tr>\n",
       "\t<tr><th scope=row>female:we</th><td>-0.06549766</td><td> 0.05704541</td></tr>\n",
       "\t<tr><th scope=row>female:exp1</th><td>-0.01644965</td><td> 0.02632017</td></tr>\n",
       "\t<tr><th scope=row>female:exp2</th><td>-0.28387860</td><td>-0.03516005</td></tr>\n",
       "\t<tr><th scope=row>female:exp3</th><td> 0.01689389</td><td> 0.06000727</td></tr>\n",
       "</tbody>\n",
       "</table>\n"
      ],
      "text/latex": [
       "A matrix: 16 × 2 of type dbl\n",
       "\\begin{tabular}{r|ll}\n",
       "  & 2.5 \\% & 97.5 \\%\\\\\n",
       "\\hline\n",
       "\tfemale & -0.29392716 & -0.01591940\\\\\n",
       "\tfemale:widowed & -0.13309530 &  0.40528626\\\\\n",
       "\tfemale:divorced &  0.07492960 &  0.19894917\\\\\n",
       "\tfemale:separated & -0.11641774 &  0.16302326\\\\\n",
       "\tfemale:nevermarried &  0.12938077 &  0.24432620\\\\\n",
       "\tfemale:hsd08 & -0.37364347 &  0.42926409\\\\\n",
       "\tfemale:hsd911 & -0.26870533 &  0.03003525\\\\\n",
       "\tfemale:hsg & -0.06502795 &  0.03924839\\\\\n",
       "\tfemale:cg & -0.04157113 &  0.06184824\\\\\n",
       "\tfemale:ad & -0.09569738 &  0.03476989\\\\\n",
       "\tfemale:mw & -0.05459343 &  0.05246655\\\\\n",
       "\tfemale:so & -0.06260432 &  0.04623763\\\\\n",
       "\tfemale:we & -0.06549766 &  0.05704541\\\\\n",
       "\tfemale:exp1 & -0.01644965 &  0.02632017\\\\\n",
       "\tfemale:exp2 & -0.28387860 & -0.03516005\\\\\n",
       "\tfemale:exp3 &  0.01689389 &  0.06000727\\\\\n",
       "\\end{tabular}\n"
      ],
      "text/markdown": [
       "\n",
       "A matrix: 16 × 2 of type dbl\n",
       "\n",
       "| <!--/--> | 2.5 % | 97.5 % |\n",
       "|---|---|---|\n",
       "| female | -0.29392716 | -0.01591940 |\n",
       "| female:widowed | -0.13309530 |  0.40528626 |\n",
       "| female:divorced |  0.07492960 |  0.19894917 |\n",
       "| female:separated | -0.11641774 |  0.16302326 |\n",
       "| female:nevermarried |  0.12938077 |  0.24432620 |\n",
       "| female:hsd08 | -0.37364347 |  0.42926409 |\n",
       "| female:hsd911 | -0.26870533 |  0.03003525 |\n",
       "| female:hsg | -0.06502795 |  0.03924839 |\n",
       "| female:cg | -0.04157113 |  0.06184824 |\n",
       "| female:ad | -0.09569738 |  0.03476989 |\n",
       "| female:mw | -0.05459343 |  0.05246655 |\n",
       "| female:so | -0.06260432 |  0.04623763 |\n",
       "| female:we | -0.06549766 |  0.05704541 |\n",
       "| female:exp1 | -0.01644965 |  0.02632017 |\n",
       "| female:exp2 | -0.28387860 | -0.03516005 |\n",
       "| female:exp3 |  0.01689389 |  0.06000727 |\n",
       "\n"
      ],
      "text/plain": [
       "                    2.5 %       97.5 %     \n",
       "female              -0.29392716 -0.01591940\n",
       "female:widowed      -0.13309530  0.40528626\n",
       "female:divorced      0.07492960  0.19894917\n",
       "female:separated    -0.11641774  0.16302326\n",
       "female:nevermarried  0.12938077  0.24432620\n",
       "female:hsd08        -0.37364347  0.42926409\n",
       "female:hsd911       -0.26870533  0.03003525\n",
       "female:hsg          -0.06502795  0.03924839\n",
       "female:cg           -0.04157113  0.06184824\n",
       "female:ad           -0.09569738  0.03476989\n",
       "female:mw           -0.05459343  0.05246655\n",
       "female:so           -0.06260432  0.04623763\n",
       "female:we           -0.06549766  0.05704541\n",
       "female:exp1         -0.01644965  0.02632017\n",
       "female:exp2         -0.28387860 -0.03516005\n",
       "female:exp3          0.01689389  0.06000727"
      ]
     },
     "metadata": {},
     "output_type": "display_data"
    }
   ],
   "source": [
    "joint.CI <- confint(effects.female, level = 0.95, joint = TRUE)\n",
    "joint.CI"
   ]
  },
  {
   "cell_type": "code",
   "execution_count": null,
   "metadata": {
    "vscode": {
     "languageId": "r"
    }
   },
   "outputs": [],
   "source": []
  },
  {
   "cell_type": "markdown",
   "metadata": {},
   "source": [
    "### 4.4. Application: Estimation of the treatment effect in a linear model with many confounding factors"
   ]
  },
  {
   "cell_type": "code",
   "execution_count": 2,
   "metadata": {
    "vscode": {
     "languageId": "r"
    }
   },
   "outputs": [
    {
     "data": {
      "text/html": [
       "<style>\n",
       ".list-inline {list-style: none; margin:0; padding: 0}\n",
       ".list-inline>li {display: inline-block}\n",
       ".list-inline>li:not(:last-child)::after {content: \"\\00b7\"; padding: 0 .5ex}\n",
       "</style>\n",
       "<ol class=list-inline><li>90</li><li>63</li></ol>\n"
      ],
      "text/latex": [
       "\\begin{enumerate*}\n",
       "\\item 90\n",
       "\\item 63\n",
       "\\end{enumerate*}\n"
      ],
      "text/markdown": [
       "1. 90\n",
       "2. 63\n",
       "\n",
       "\n"
      ],
      "text/plain": [
       "[1] 90 63"
      ]
     },
     "metadata": {},
     "output_type": "display_data"
    }
   ],
   "source": [
    "data(GrowthData)\n",
    "dim(GrowthData)\n",
    "## [1] 90 63\n",
    "y = GrowthData[, 1, drop = F]\n",
    "d = GrowthData[, 3, drop = F]\n",
    "X = as.matrix(GrowthData)[, -c(1, 2, 3)]\n",
    "varnames = colnames(GrowthData)"
   ]
  },
  {
   "cell_type": "code",
   "execution_count": 3,
   "metadata": {
    "vscode": {
     "languageId": "r"
    }
   },
   "outputs": [],
   "source": [
    "x1 = as.matrix(GrowthData)[, -c(1, 3)]"
   ]
  },
  {
   "cell_type": "code",
   "execution_count": 4,
   "metadata": {
    "vscode": {
     "languageId": "r"
    }
   },
   "outputs": [],
   "source": [
    "xnames = varnames[-c(1, 2, 3)] # names of X variables\n",
    "dandxnames = varnames[-c(1, 2)] # names of D and X variables\n",
    "# create formulas by pasting names (this saves typing times)\n",
    "fmla = as.formula(paste(\"Outcome ~ \", paste(dandxnames, collapse = \"+\")))\n",
    "ls.effect = lm(fmla, data = GrowthData)"
   ]
  },
  {
   "cell_type": "code",
   "execution_count": null,
   "metadata": {
    "vscode": {
     "languageId": "r"
    }
   },
   "outputs": [],
   "source": []
  },
  {
   "cell_type": "code",
   "execution_count": 350,
   "metadata": {
    "vscode": {
     "languageId": "r"
    }
   },
   "outputs": [
    {
     "data": {
      "text/plain": [
       "$qr\n",
       "   (Intercept)      gdpsh465        bmp1l       freeop       freetar\n",
       "1   -9.4868330 -73.076189875 -1.600871443 -2.088070386 -0.2688004527\n",
       "2    0.1054093   8.454532979 -1.121146644  0.228693062 -0.1352109185\n",
       "3    0.1054093  -0.153543593 -2.065490021  0.143035910 -0.0255253643\n",
       "4    0.1054093   0.003745550  0.007092746 -0.652699019  0.0100417362\n",
       "5    0.1054093   0.051397832 -0.038251710  0.130489097 -0.1532203197\n",
       "6    0.1054093   0.044713582 -0.117878028  0.046966438 -0.0803360728\n",
       "7    0.1054093  -0.030357993 -0.066044277 -0.070287481 -0.0602104846\n",
       "8    0.1054093  -0.012652153  0.056129689  0.014449984  0.0021466978\n",
       "9    0.1054093  -0.173459731  0.032761428 -0.182553732 -0.0177601769\n",
       "10   0.1054093  -0.065641439  0.030164810 -0.161746212  0.0477454741\n",
       "11   0.1054093   0.078942905 -0.127181190 -0.091831330 -0.1216248075\n",
       "12   0.1054093   0.042481822 -0.012197156 -0.202671516 -0.1647674703\n",
       "13   0.1054093  -0.061372703  0.164424578 -0.085767624  0.0078096455\n",
       "14   0.1054093   0.038469121 -0.031794129 -0.076498474  0.0607120901\n",
       "15   0.1054093   0.056264457 -0.037157760 -0.038773422  0.0529406387\n",
       "16   0.1054093   0.073293323 -0.091036228 -0.024091478  0.2560947158\n",
       "17   0.1054093  -0.006239311 -0.071707080 -0.138213948  0.1259585341\n",
       "18   0.1054093  -0.054385217 -0.039384244 -0.044312954  0.1087355417\n",
       "19   0.1054093  -0.140043094  0.138181163 -0.026491385  0.1268408312\n",
       "20   0.1054093   0.154838074  0.009766142 -0.096720005  0.3634874549\n",
       "21   0.1054093   0.172595590 -0.139798652 -0.142404427 -0.2419263196\n",
       "22   0.1054093  -0.062917488 -0.043563321 -0.093878850 -0.1046369204\n",
       "23   0.1054093   0.108354593  0.066358841  0.059135889 -0.1221018038\n",
       "24   0.1054093   0.049668432 -0.112681333 -0.063603377 -0.1246398532\n",
       "25   0.1054093   0.112124184  0.066128416 -0.027942535  0.0650660412\n",
       "26   0.1054093   0.084875931 -0.003898720 -0.038091245 -0.0459211683\n",
       "27   0.1054093   0.029527646 -0.058155071  0.042324109  0.0316236645\n",
       "28   0.1054093   0.103129117 -0.145333188 -0.070431868  0.0294510652\n",
       "29   0.1054093  -0.101024058 -0.017252344  0.199133364  0.0224673626\n",
       "30   0.1054093  -0.118931569 -0.004887964  0.287431820  0.0291115359\n",
       "31   0.1054093  -0.120891992 -0.003534375  0.098828807 -0.0343269859\n",
       "32   0.1054093  -0.134461948  0.005835106  0.116520547  0.0181009453\n",
       "33   0.1054093  -0.008138980 -0.077996541  0.092887840 -0.0941161290\n",
       "34   0.1054093  -0.047516427 -0.054197103  0.179316428 -0.0899145189\n",
       "35   0.1054093  -0.081025753 -0.031060329  0.091786824 -0.0662737423\n",
       "36   0.1054093  -0.121849556 -0.002873217  0.219493241  0.0289521508\n",
       "37   0.1054093  -0.134385724  0.005782477  0.090271380 -0.0326665736\n",
       "38   0.1054093  -0.064820524 -0.042249355  0.010248999 -0.0586241287\n",
       "39   0.1054093  -0.138745813  0.008792934  0.056840775  0.0004712446\n",
       "40   0.1054093  -0.122441485 -0.002464516  0.083196866 -0.0364536885\n",
       "41   0.1054093  -0.132715594  0.004629323 -0.119958351  0.0932107760\n",
       "42   0.1054093   0.027937943  0.096126541  0.036962447 -0.0622829662\n",
       "43   0.1054093   0.114601337 -0.166132571 -0.047422714  0.0179942917\n",
       "44   0.1054093   0.110904794  0.132426975  0.008594031 -0.2105966729\n",
       "45   0.1054093   0.164690871 -0.020469494  0.009175632  0.0237182455\n",
       "46   0.1054093   0.141347247 -0.039645996 -0.056469663 -0.0658207662\n",
       "47   0.1054093   0.187263686 -0.096428152 -0.023359077 -0.2215265201\n",
       "48   0.1054093   0.205689541 -0.113314088  0.052672233  0.0053774012\n",
       "49   0.1054093   0.133383103  0.081757608 -0.047184193 -0.0577881919\n",
       "50   0.1054093   0.217030412  0.053874521 -0.041708222 -0.2654061720\n",
       "51   0.1054093   0.032537864 -0.040141415  0.148431606  0.1876672152\n",
       "52   0.1054093   0.096234406  0.114717828 -0.039248203 -0.1400532324\n",
       "53   0.1054093  -0.192558385  0.045948242 -0.037645782  0.0486374208\n",
       "54   0.1054093  -0.033575147  0.077886746  0.067476273  0.0633433969\n",
       "55   0.1054093   0.034986481 -0.032681710  0.128946369  0.0236940974\n",
       "56   0.1054093   0.017577352 -0.099141608  0.046860373 -0.0565990237\n",
       "57   0.1054093  -0.016638899  0.032496378  0.174502272  0.0339871607\n",
       "58   0.1054093  -0.069530806 -0.038997104 -0.070440592 -0.0259445978\n",
       "59   0.1054093  -0.025002078  0.015273835  0.001728142  0.0216013185\n",
       "60   0.1054093  -0.193139784  0.046349674 -0.182630653 -0.0005453171\n",
       "61   0.1054093  -0.088618193  0.129060432 -0.140527025  0.0532973598\n",
       "62   0.1054093   0.034747290  0.040686409 -0.056754150 -0.1070288727\n",
       "63   0.1054093  -0.030999325 -0.006438748 -0.214501614 -0.0926110078\n",
       "64   0.1054093  -0.047476689  0.738710784  0.064133029 -0.1066392411\n",
       "65   0.1054093  -0.006969262 -0.017075488 -0.080950298  0.1033765250\n",
       "66   0.1054093  -0.009242343 -0.037147375 -0.050634476  0.1181640593\n",
       "67   0.1054093  -0.027569343  0.168293826 -0.080483470  0.1051497059\n",
       "68   0.1054093  -0.106650438 -0.012883420 -0.059212750  0.1200576021\n",
       "69   0.1054093   0.163265796  0.166136271  0.073116980  0.0934191590\n",
       "70   0.1054093  -0.096700035 -0.020237899  0.223314542 -0.0881429605\n",
       "71   0.1054093   0.143524844 -0.013940495 -0.104852944  0.3789053645\n",
       "72   0.1054093  -0.140206526  0.009801495 -0.094180942 -0.0370293836\n",
       "73   0.1054093   0.040877146 -0.090247166  0.060943608  0.0777362248\n",
       "74   0.1054093   0.010103162 -0.043000357  0.013276110 -0.0051133899\n",
       "75   0.1054093  -0.013820096 -0.075042263 -0.065441937 -0.0680184226\n",
       "76   0.1054093   0.102703905  0.141768857 -0.010236355  0.0611939337\n",
       "77   0.1054093   0.048589065 -0.083758743 -0.065158201  0.0042008798\n",
       "78   0.1054093  -0.086236641 -0.025041698  0.143280999 -0.0665701198\n",
       "79   0.1054093  -0.035217639 -0.011272526  0.042630174  0.0878770318\n",
       "80   0.1054093   0.049849288 -0.121424016 -0.073945186  0.0783130983\n",
       "81   0.1054093  -0.169616972  0.030108166  0.098638361  0.0082945287\n",
       "82   0.1054093  -0.165425434  0.027214086  0.116399524  0.0451858345\n",
       "83   0.1054093  -0.075449244 -0.017336151  0.096265297 -0.0377226298\n",
       "84   0.1054093  -0.087007382 -0.026930267  0.179162074 -0.0553703422\n",
       "85   0.1054093  -0.124033373 -0.001365384  0.091618724 -0.0286534098\n",
       "86   0.1054093  -0.164896414  0.026848820  0.219324988  0.0666068058\n",
       "87   0.1054093  -0.050652965 -0.049610723  0.104778994 -0.0432035010\n",
       "88   0.1054093  -0.169517868  0.030039739  0.056720500  0.0273886827\n",
       "89   0.1054093  -0.150022417  0.016578953  0.083089063 -0.0123276421\n",
       "90   0.1054093  -0.155584751  0.020419510 -0.120047737  0.1132152607\n",
       "             h65         hm65          hf65           p65         pm65\n",
       "1  -1.0583089236 -1.301171848 -0.7801338988 -8.4749041293 -8.723669972\n",
       "2   0.6859495419  0.816564827  0.5692696523  1.0160034078  0.750922006\n",
       "3  -0.0775352056 -0.084125927 -0.0959815241  0.0207564252 -0.066334164\n",
       "4   0.2033549571  0.197709253  0.2197597794 -0.0064579715 -0.106501956\n",
       "5  -0.0272903207 -0.022652090 -0.0129776216 -0.1085499100 -0.041299661\n",
       "6   0.6290896119  0.685172485  0.5773386144  0.0384786412  0.098340525\n",
       "7   0.1446529990 -0.178244590  0.1184351329  0.0746151562 -0.035568978\n",
       "8   0.1434657218 -0.044697704 -0.1297465771 -0.0085593623 -0.018120547\n",
       "9  -0.2105612678  0.144468364 -0.0894905410  1.1702820889  0.909109778\n",
       "10  0.0705114752 -0.011914595 -0.0093289936 -0.1287719466 -0.440573331\n",
       "11  0.0054535143  0.046936835  0.0156170539  0.0052126302  0.173968431\n",
       "12  0.1468367750 -0.023320914  0.0210067121 -0.2596709794 -0.541623383\n",
       "13  0.2006376358 -0.066895110  0.0065999261 -0.1633995840  0.081454209\n",
       "14  0.0951511794  0.018183288  0.0286835088 -0.0649637139 -0.045573166\n",
       "15  0.0538727748  0.031920212  0.0265637523 -0.1213001769  0.051077022\n",
       "16  0.0167199390 -0.014558846  0.0763333132 -0.1851229657  0.067735259\n",
       "17  0.0785134760  0.032220899  0.0239429072 -0.1572147661  0.107581556\n",
       "18  0.1010996113 -0.053499365  0.0646872273 -0.1316345857  0.105105107\n",
       "19  0.2501650577 -0.056556526  0.0104406397 -0.0478300954  0.070009125\n",
       "20 -0.0511702230 -0.101387170 -0.3201704083  0.0270920861 -0.207542931\n",
       "21 -0.0574932825 -0.040046754 -0.1259725803 -0.0485510105 -0.086951729\n",
       "22  0.0501820970  0.209068333 -0.0743184975 -0.1167094161 -0.011691813\n",
       "23 -0.0693938759  0.067595614 -0.0384422662 -0.1981788612 -0.106022386\n",
       "24  0.0721060564 -0.033625977  0.0490383718 -0.1391565388  0.139320343\n",
       "25  0.0320496788  0.006241219  0.0108425586  0.2832358281  0.127434976\n",
       "26 -0.2203068817 -0.248874581  0.1514335574 -0.1752388652  0.013680635\n",
       "27 -0.0250993531  0.190630145 -0.0412182967  0.0526604116  0.336667670\n",
       "28  0.0194717702 -0.003515218  0.0692994382 -0.0481571350  0.031377740\n",
       "29  0.0560176313  0.064906824 -0.0157552273 -0.0471446121 -0.007743153\n",
       "30 -0.0457038691  0.040255205  0.0058844968  0.0044235930 -0.043894935\n",
       "31  0.0336895978 -0.106430415  0.0559346159 -0.0590262407  0.057507904\n",
       "32  0.1312720782  0.050302821 -0.0228763569 -0.0550352137  0.037528733\n",
       "33 -0.0366156284  0.063077121  0.0120236378 -0.1195605557 -0.032767083\n",
       "34 -0.0525667863  0.052620468 -0.0166024369 -0.0713153161 -0.050499583\n",
       "35  0.0410681818  0.011165848  0.0143530090 -0.0864982015  0.015534584\n",
       "36 -0.0490626985  0.196313880 -0.1032367613  0.0136391162 -0.082828191\n",
       "37  0.1094511332 -0.033155768  0.0098343827 -0.0383346711  0.110363492\n",
       "38  0.1316461772  0.043296313  0.0137884861 -0.1328631240  0.048723203\n",
       "39  0.0896838463 -0.098720486  0.0485476173 -0.0199805029  0.038991527\n",
       "40  0.0762623140  0.067123056 -0.0350804369  0.0112119115  0.089772466\n",
       "41  0.1247019126  0.003433401 -0.0078601920 -0.0835940704  0.113983989\n",
       "42  0.0836657920 -0.070023555 -0.0753647922 -0.1206507780  0.124786058\n",
       "43 -0.0029779595  0.007252235  0.0475151318 -0.2085732902  0.085476650\n",
       "44 -0.1586015277  0.165240103 -0.0812826916  0.0647590368  0.088109168\n",
       "45 -0.0473792336  0.016254581  0.0299776590  0.0005845255  0.020788774\n",
       "46  0.0017184832  0.020601719  0.0565677114 -0.2210995070  0.073300387\n",
       "47 -0.0716762823 -0.016908232  0.0169766884  0.0891603482  0.001946896\n",
       "48 -0.1153374485  0.012622363  0.0589083961  0.1180851233 -0.114331945\n",
       "49  0.0204952403  0.008322937  0.0018991486  0.1971199309 -0.023983875\n",
       "50 -0.0645459347 -0.008204267  0.0026620299  0.0869177157  0.009392798\n",
       "51  0.0001986082  0.037114703  0.0561648591 -0.1030347255  0.050344370\n",
       "52  0.0544723121  0.005038867 -0.0227432792 -0.2167881000  0.012003393\n",
       "53 -0.2236334338 -0.123201559  0.0627686558  0.0614375922  0.036854116\n",
       "54 -0.0899867195 -0.218521162 -0.2059636723 -0.0657040241  0.016895882\n",
       "55 -0.0547056980  0.033790672  0.0466824169  0.0801464350 -0.138348135\n",
       "56  0.0353808666  0.022691234  0.0153701625  0.1699684435 -0.040899712\n",
       "57  0.0172062689 -0.078920979  0.0679808589 -0.0879807617 -0.010597540\n",
       "58  0.0897975949  0.030182549 -0.2371849585 -0.1051079880  0.045603487\n",
       "59  0.0604251030  0.028701248  0.0397370867  0.0155959913 -0.039546288\n",
       "60 -0.4572339145 -0.080933449  0.1532389390  0.0864750729 -0.002122293\n",
       "61 -0.0935386485 -0.154327780  0.1880804372 -0.0848469828  0.073844603\n",
       "62 -0.0289763546 -0.019127150 -0.1949029713 -0.0320956001  0.170523604\n",
       "63  0.1010341761 -0.161249029 -0.0681913344 -0.0828550423  0.086601417\n",
       "64  0.0882324894 -0.116881771  0.0325630568 -0.1318856261 -0.118777938\n",
       "65  0.0704479773 -0.016980616  0.0039360546 -0.1569777010  0.071891868\n",
       "66 -0.2421741565  0.183002256 -0.0418568081 -0.0515462393 -0.074486325\n",
       "67  0.0254198253  0.094189667 -0.0956350421 -0.1144063829 -0.017560595\n",
       "68  0.0148145307 -0.150050328  0.0002717003 -0.0428679712  0.102252331\n",
       "69 -0.0494779007  0.110365488  0.0423427972  0.0054709922  0.228809226\n",
       "70  0.0219001235  0.070169056 -0.0186581487 -0.0479777725 -0.040412222\n",
       "71 -0.0923841977  0.207298349 -0.0272581002 -0.0081036914 -0.204610728\n",
       "72 -0.0370349237  0.222620377 -0.1076600484 -0.0166205888 -0.007153413\n",
       "73 -0.0658992219 -0.310225789 -0.5388104248 -0.0011524238 -0.009606937\n",
       "74 -0.0270843683  0.074881044 -0.0975403029 -0.1279480976 -0.023912834\n",
       "75  0.1351191448 -0.035369344  0.0181823570 -0.1100071420  0.130082249\n",
       "76  0.0495484613 -0.017512365 -0.0046020727  0.2372380533  0.238394455\n",
       "77 -0.1782773117 -0.203849657  0.3126716079 -0.1715495149  0.064901838\n",
       "78  0.0563488473 -0.065040178  0.0899707669 -0.0891604637  0.035840216\n",
       "79 -0.0073140946  0.150388902 -0.0637828728 -0.0519995445  0.044195254\n",
       "80  0.0544516497 -0.032819738  0.0547794917 -0.0566407997 -0.025040697\n",
       "81 -0.0677744457 -0.243056317  0.1207675911 -0.0017693273  0.085020417\n",
       "82 -0.0803169270 -0.195713823 -0.2116836322  0.0349676949  0.043991759\n",
       "83 -0.0842705382  0.010253280  0.0076729217 -0.0519860171 -0.020433790\n",
       "84 -0.1117844401  0.115680448  0.0404145961 -0.0245173746 -0.072096234\n",
       "85 -0.1408234914 -0.010855983 -0.0659028361  0.0052319719 -0.024278052\n",
       "86 -0.1323491145  0.170687655 -0.0820596976  0.0865322662 -0.074154078\n",
       "87 -0.0024771995 -0.109994663  0.0427170147 -0.1003610167  0.037950757\n",
       "88 -0.1205601852 -0.018780520  0.0071829063  0.0275447961  0.009068081\n",
       "89  0.0034146941  0.028801071 -0.0055926578 -0.0182788726  0.014746795\n",
       "90 -0.0225195273  0.198587059  0.2212791528 -0.0356029935  0.039122985\n",
       "           pf65           s65          sm65         sf65        fert65\n",
       "1  -8.059591663 -3.856925e+00 -4.1383673646 -3.602888347 -4.498656e+01\n",
       "2   1.454181444  1.854762e+00  1.6772071088  2.102102317 -1.497924e+01\n",
       "3   0.125415027 -4.379886e-02  0.0029411966 -0.068212816  2.167101e-01\n",
       "4  -0.013423626 -1.167485e-01 -0.1902547434 -0.081190217  1.383323e+00\n",
       "5   0.046672453  6.169716e-02 -0.0075660050  0.172604522 -2.069544e+00\n",
       "6   0.005793568  8.440428e-01  0.9115716469  0.747742375 -2.914649e+00\n",
       "7   0.146904497 -2.299957e-01 -0.3637244422 -0.086180674  6.708795e-01\n",
       "8  -0.158598864  7.331702e-02  0.1913505675 -0.119101826  5.640630e-01\n",
       "9   1.203995807  2.589570e-01  0.2869183056  0.226603590 -1.567765e+00\n",
       "10  0.050525456 -3.793602e-02 -0.0909330735  0.079740397 -2.036523e+00\n",
       "11  0.571772933 -2.569610e-02 -0.2295294682  0.097490138 -7.003288e-01\n",
       "12  0.448932238  1.067753e+00  1.1010562460  0.988010041 -4.608661e+00\n",
       "13 -0.028263880 -3.658031e-02  0.4527208396 -0.124793868 -1.696544e+00\n",
       "14 -0.211395315  4.518715e-02 -0.0500316314 -0.433870759  2.526395e+00\n",
       "15 -0.075776033  5.898490e-02  0.0122301955  0.025491739 -8.344712e+00\n",
       "16 -0.112395969  7.787510e-02  0.0340877868  0.085451678 -8.432242e-03\n",
       "17  0.030205167  6.442906e-02 -0.1307125081  0.109392290  1.906197e-01\n",
       "18  0.003078857 -7.085560e-02  0.0691073681  0.060288992 -1.693126e-01\n",
       "19  0.028326169  7.135858e-02 -0.0575527551 -0.018263822  2.083717e-01\n",
       "20  0.190265346 -1.325637e-01 -0.3294119936  0.123206038 -1.423248e-03\n",
       "21 -0.075866621  7.205382e-02  0.0003472615  0.001504902 -1.078273e-01\n",
       "22 -0.028773145 -2.713083e-01  0.1629589887  0.217340083 -2.313548e-02\n",
       "23 -0.144477969 -6.653325e-03 -0.0669527168 -0.050059174 -2.474153e-02\n",
       "24  0.114403367 -3.643447e-02 -0.0145182671 -0.087974623  9.673544e-02\n",
       "25  0.067206430 -1.045859e-01 -0.0094121238  0.035205680 -6.437649e-02\n",
       "26 -0.110341520  3.663174e-02 -0.0398246496 -0.085426983  2.497500e-01\n",
       "27  0.295745004  2.177700e-02 -0.0546003255 -0.126183976  1.242419e-01\n",
       "28 -0.104137949  1.912772e-02  0.0404869640 -0.041290537 -5.495630e-02\n",
       "29  0.040869834  4.265910e-03  0.0676475337 -0.003001586 -1.266455e-01\n",
       "30  0.058391563 -9.916029e-02  0.0471669320 -0.017197055 -9.650042e-03\n",
       "31  0.094163883 -4.921452e-04  0.0693876573 -0.031546659 -4.580529e-02\n",
       "32  0.070268667  5.217741e-02  0.2562428067  0.128321813 -1.721421e-01\n",
       "33 -0.028215112 -5.192512e-04 -0.1954100055  0.001524318 -1.513399e-01\n",
       "34  0.002474162  5.507647e-02  0.0328964944 -0.156850650 -4.124997e-03\n",
       "35  0.043238648  4.374316e-02 -0.0899729748 -0.112789978 -1.226765e-01\n",
       "36  0.004113419  7.575564e-02  0.0394731689 -0.074405122 -5.952401e-02\n",
       "37  0.035732461 -1.225208e-01 -0.0165327314  0.025634745  4.823620e-02\n",
       "38  0.029424499  2.383657e-02 -0.1284014276 -0.167450296 -1.493855e-01\n",
       "39  0.067581593 -9.167028e-02 -0.0280305178  0.527371498  9.217604e-02\n",
       "40 -0.093646367 -1.218385e-01  0.0268708932 -0.024961222  8.556944e-03\n",
       "41  0.039877559 -2.428901e-01  0.0729170763 -0.409486497  4.203039e-02\n",
       "42  0.188959570  5.536983e-02  0.0333096117 -0.058002339  1.736117e-01\n",
       "43  0.029121364  7.376694e-02  0.0142091993  0.004179050 -4.109539e-02\n",
       "44 -0.023748947 -7.132071e-02 -0.0622570735 -0.050358594  3.119777e-04\n",
       "45 -0.077607061 -2.517757e-01 -0.0024321580  0.024680785  5.455090e-02\n",
       "46 -0.119055223  3.520267e-02  0.0043704948  0.014606239  1.861720e-01\n",
       "47 -0.015217767  5.834772e-02  0.0850524191 -0.006226363  1.118824e-02\n",
       "48 -0.263714300  5.773751e-02  0.0010449528  0.040849160  1.488225e-02\n",
       "49 -0.018105349 -8.657716e-02  0.0161161054 -0.033240744 -6.302027e-02\n",
       "50 -0.136085436  1.156687e-02  0.0495686702  0.043018479 -1.220712e-01\n",
       "51  0.224412918  7.981955e-02  0.0167380872  0.005429163 -7.758478e-02\n",
       "52  0.012671451  6.307076e-02  0.0156502612 -0.006213645  9.364931e-02\n",
       "53  0.092388130  1.410029e-05 -0.0135440229 -0.022907233  4.453688e-02\n",
       "54 -0.120464677  1.164261e-01 -0.1924811183  0.118435754  7.500414e-02\n",
       "55 -0.079085097  1.493060e-01 -0.0126344566 -0.058349093 -3.917026e-02\n",
       "56  0.024997331  1.403443e-01  0.0158034937 -0.075382006 -1.240459e-02\n",
       "57 -0.042121527 -1.821565e-01  0.1677849904  0.097696011  8.673909e-02\n",
       "58 -0.063488638  1.374516e-01 -0.0874113607 -0.066240041  1.641914e-01\n",
       "59 -0.150549800  1.039775e-01 -0.0463920699 -0.017100155  1.526134e-01\n",
       "60  0.080392064  2.242103e-01 -0.0759442798 -0.108196204  1.820379e-02\n",
       "61  0.018731418  4.664623e-02  0.0108593258  0.037930486 -2.120827e-02\n",
       "62 -0.045779146  5.729813e-02  0.0174373429 -0.020667131  1.536282e-01\n",
       "63 -0.024700569  8.602750e-02 -0.0130283805  0.016693303 -8.950361e-03\n",
       "64 -0.147982063 -8.978748e-02  0.0471096126  0.082051903 -1.662922e-03\n",
       "65 -0.078430724 -5.319485e-02  0.0458731148  0.080331075 -7.342962e-02\n",
       "66 -0.147548361  2.588507e-01  0.0615025672 -0.047423384  3.820454e-02\n",
       "67 -0.151827942 -2.275832e-02  0.4913729276 -0.120971672 -3.889045e-02\n",
       "68  0.021549777  8.769476e-02  0.0221986199 -0.025149673  7.379987e-02\n",
       "69  0.078946900 -1.864793e-01  0.0024723000 -0.025611142 -8.653716e-02\n",
       "70  0.054375280  7.981294e-02 -0.4225481978  0.050391713  1.587410e-03\n",
       "71 -0.004823104 -6.713507e-02 -0.0532521441  0.217379542 -2.037429e-01\n",
       "72 -0.003357921 -1.696926e-01  0.0654110429  0.206957530  5.216393e-02\n",
       "73 -0.058322969 -8.019909e-02  0.1705924589 -0.188212770  3.405443e-01\n",
       "74 -0.113310187 -1.019946e-01 -0.1195075517  0.027106189 -6.623856e-03\n",
       "75  0.018878544 -1.278679e-01 -0.0641373782  0.002211747  5.418939e-02\n",
       "76  0.057043113 -1.363482e-01 -0.0251065059 -0.027554775 -4.002970e-02\n",
       "77 -0.015621880 -9.414468e-02 -0.0236854681 -0.103062005  1.345588e-01\n",
       "78  0.085269338 -3.078072e-02  0.0284738165 -0.044561448 -1.700287e-01\n",
       "79  0.223712945  3.200886e-02 -0.0961766491 -0.109436992  3.025176e-01\n",
       "80 -0.056440167 -3.391817e-02 -0.0077553416  0.005426184 -1.454271e-01\n",
       "81  0.146010104 -1.109530e-01 -0.0248829560 -0.032509490  3.503611e-02\n",
       "82  0.027309311  3.154905e-01 -0.0700580442 -0.137827100 -2.392855e-01\n",
       "83  0.010520394 -1.439714e-01 -0.1022463668 -0.091161548 -4.821279e-03\n",
       "84  0.031769124 -1.658185e-01  0.1584187702  0.206413409  1.510977e-01\n",
       "85  0.023817336  6.340635e-02 -0.0663533799 -0.072649903 -4.077713e-02\n",
       "86 -0.006631170 -5.441808e-02  0.0169554801  0.025381710 -3.815075e-02\n",
       "87  0.099726981 -4.253700e-02  0.0595225267 -0.043779373 -1.483415e-01\n",
       "88  0.160825003  1.481679e-02  0.1279182260  0.064331845 -6.904711e-02\n",
       "89  0.075577549 -1.600935e-01  0.1067975625  0.029609880 -2.927630e-02\n",
       "90  0.087000354 -1.416995e-01  0.0374837819  0.094467324 -2.603790e-02\n",
       "          mort65      lifee065         gpop1         fert1        mort1\n",
       "1  -0.6685054974 -3.891523e+01 -0.2020800834 -4.707788e+01 -0.827357245\n",
       "2  -0.3750962521  1.402382e+00 -0.0600027315 -1.436884e+01 -0.408029778\n",
       "3  -0.0490624185  8.524413e-02 -0.0007581515 -7.707292e-02 -0.089391764\n",
       "4   0.0635926241 -2.181669e-01  0.0270633636  1.552396e+00  0.052721345\n",
       "5  -0.0358927486  8.068216e-03 -0.0055317689 -2.381163e+00 -0.046250097\n",
       "6  -0.0386808099  7.292345e-02 -0.0157845965 -2.778852e+00 -0.030892343\n",
       "7  -0.0209351773  4.083100e-02  0.0030418203  8.957955e-01 -0.003888301\n",
       "8   0.0254225630 -6.207922e-02 -0.0003661977  5.894087e-01  0.054581901\n",
       "9  -0.0986941337  4.058459e-01  0.0003161236 -1.166008e+00 -0.075957924\n",
       "10 -0.0260258236  5.013381e-02 -0.0041296162 -1.715455e+00 -0.032060226\n",
       "11 -0.0541254405  1.334027e-01  0.0076131782 -5.356887e-01 -0.049399231\n",
       "12 -0.1000816729  2.086974e-01 -0.0259786314 -4.352973e+00 -0.109782507\n",
       "13 -0.0370469181  6.957080e-02 -0.0006535919 -1.723249e+00 -0.040214067\n",
       "14  0.0111471783 -6.613180e-02  0.0103379719  2.696930e+00  0.019065410\n",
       "15 -0.0511017748  1.806028e-01 -0.0378824462 -8.497854e+00 -0.064373244\n",
       "16  0.1396677159 -3.184149e-01 -0.0117135335 -1.648384e-01  0.125815352\n",
       "17 -0.2642335808  3.233472e-01 -0.0061229005 -7.417153e-02  0.014945549\n",
       "18  0.0049618589 -1.090193e-01  0.0393296343  9.631160e-01  0.025148779\n",
       "19  0.0280667093  1.026157e-01 -0.1635281385  1.873533e+00  0.016752512\n",
       "20 -0.0285887820  1.620222e-02  0.1020625454  6.483791e-04  0.111112770\n",
       "21 -0.1094119630  1.508067e-01 -0.3683737849  2.475650e-01  0.184399767\n",
       "22  0.1064362397 -6.254413e-02 -0.0154998774  9.348187e-02  0.034853360\n",
       "23  0.0234702210  1.569818e-01 -0.0893324548 -8.714401e-02  0.206177448\n",
       "24  0.2821334125  9.036108e-02 -0.0708612518 -1.172839e-01  0.093599617\n",
       "25  0.1098935776 -7.444044e-02 -0.0542046704  6.318955e-03  0.039196473\n",
       "26  0.0397105296  1.009979e-01  0.0287083868  7.882388e-02  0.181738380\n",
       "27  0.1753700775  5.211287e-02 -0.0983187518  1.441446e-01 -0.037851143\n",
       "28  0.1387739287 -5.910863e-02 -0.0605808022  1.544327e-02  0.078031968\n",
       "29 -0.0086623089  1.014515e-01  0.1215823222  3.204062e-02  0.007421879\n",
       "30 -0.0923760893  5.372953e-02 -0.0033964384  1.761177e-01  0.047077680\n",
       "31  0.0369976642  5.018694e-03 -0.0494639608 -3.457309e-01  0.184399972\n",
       "32  0.1378920411  2.014575e-01  0.0021761295  1.904442e-01 -0.044823937\n",
       "33 -0.1151999457 -2.065673e-01  0.1153932878  6.785083e-03  0.101964442\n",
       "34  0.0607452878 -4.890477e-02  0.3380770078 -3.807539e-03  0.024963760\n",
       "35 -0.1063012959 -1.288567e-01  0.1136229549  9.876056e-02  0.055449096\n",
       "36  0.0621039783  9.559395e-02 -0.0005163837  1.026800e-01  0.068144769\n",
       "37 -0.0002943486 -9.743113e-02  0.1042312323  9.007603e-02  0.064771976\n",
       "38 -0.0708674757 -2.187126e-01  0.1070188412  2.408791e-02  0.101076192\n",
       "39  0.1039196682 -2.910941e-03  0.1087583822  1.738125e-01 -0.047774733\n",
       "40 -0.0417074964 -2.750272e-02  0.1479803661  5.494435e-02  0.034077172\n",
       "41  0.0863267723 -1.362140e-01 -0.0783831857  5.940938e-02  0.207739646\n",
       "42 -0.0157067838 -9.944652e-02 -0.0452841553  7.238057e-02 -0.132198401\n",
       "43 -0.0434938548  7.438859e-02 -0.0064042908  1.655359e-01 -0.257875023\n",
       "44 -0.1865579571 -4.010238e-01 -0.0307413364 -1.185232e-01 -0.089328094\n",
       "45  0.1045293065 -4.037036e-02 -0.0489723277  7.074899e-02 -0.004917660\n",
       "46  0.1651548137  1.285695e-01  0.0516706861  3.050024e-02 -0.071622333\n",
       "47 -0.2284307839 -1.461482e-01 -0.0834090628 -3.715045e-02 -0.012456918\n",
       "48 -0.0323167879  4.687668e-02 -0.0001289389  7.645158e-02  0.083037525\n",
       "49  0.0764320089  7.949053e-02 -0.0641997623  1.161098e-01 -0.138567186\n",
       "50  0.1196590574 -1.108094e-01 -0.1983162534  1.555941e-01  0.080744275\n",
       "51  0.0610878922  7.882641e-03  0.0803581421 -1.195098e-01 -0.346156263\n",
       "52  0.1077448331  3.967195e-01  0.0687506434  1.080406e-01 -0.163652767\n",
       "53 -0.0266810216 -1.426133e-02 -0.1244489283  1.600298e-01  0.009101277\n",
       "54 -0.0114742774 -4.451297e-02 -0.1233652029  2.880172e-02 -0.083798674\n",
       "55 -0.0004073757 -4.763546e-02 -0.0242915871 -1.436309e-02 -0.240775075\n",
       "56  0.1529537881  4.740925e-03 -0.0198232620  4.543351e-02 -0.236284815\n",
       "57  0.1735285448 -7.355505e-03 -0.0200578981 -1.053045e-01 -0.021079881\n",
       "58 -0.0730871626 -5.398336e-02 -0.0679471512 -2.673187e-01  0.094428554\n",
       "59 -0.1416194472  4.328923e-02 -0.0115618866 -1.030860e-02 -0.190975482\n",
       "60 -0.0029247947 -3.571709e-03 -0.0022271750 -1.672913e-02  0.018030326\n",
       "61  0.0625133502 -8.337730e-02  0.0067545845  2.245134e-01 -0.037655157\n",
       "62 -0.3177458925  7.492330e-02  0.0567353068 -2.173608e-02 -0.002839756\n",
       "63 -0.0851120617 -2.202587e-01 -0.0336746186 -8.398857e-02  0.011357035\n",
       "64  0.0018721448 -3.772223e-02  0.0735202737  1.165027e-01 -0.191822262\n",
       "65 -0.0175856840  4.826145e-02  0.0003181486 -3.089520e-01 -0.132972480\n",
       "66 -0.0595550560  3.909886e-02 -0.0464499060 -8.936330e-02 -0.098026416\n",
       "67 -0.0776175869  8.931131e-02 -0.0887383199  2.377318e-02 -0.015861600\n",
       "68  0.0858154333  1.386179e-02 -0.3198646338  1.438367e-01 -0.028755809\n",
       "69  0.0803520380  1.421008e-01 -0.1337757771 -3.324853e-02  0.100464383\n",
       "70 -0.1369827414  1.074511e-02 -0.1821086592 -8.451438e-03  0.014521963\n",
       "71  0.0806284646  5.597885e-03  0.0354823104 -3.233641e-02 -0.108957738\n",
       "72  0.0896983982 -6.112493e-02 -0.0959404279  8.651714e-02 -0.022188177\n",
       "73  0.1446188074 -3.589724e-02  0.1620868649 -2.353532e-02 -0.105433087\n",
       "74 -0.0326242856  2.616170e-02 -0.0600016854 -1.260803e-01 -0.043634429\n",
       "75  0.1545438350 -4.806978e-02 -0.0827814580 -1.861891e-01 -0.032150709\n",
       "76  0.1686120742 -2.199096e-01 -0.1835366943  1.414981e-01 -0.009366922\n",
       "77  0.0433886441 -7.749631e-03 -0.1386196063 -1.527064e-01  0.085952770\n",
       "78  0.0430068807  9.443266e-02 -0.2446802904 -1.468362e-01  0.070555293\n",
       "79  0.1765302203  1.036247e-01 -0.0483276593  8.944095e-02 -0.303839811\n",
       "80  0.1529595342 -5.521033e-02 -0.2069341767 -4.711947e-02 -0.106466919\n",
       "81 -0.0762230073 -5.266089e-02 -0.0679096034 -4.312800e-03  0.055678605\n",
       "82 -0.0850698245  1.755880e-01  0.1468329944 -6.439597e-02  0.064228034\n",
       "83 -0.1137928847 -2.241766e-01  0.0559020260  1.106174e-01  0.029687671\n",
       "84  0.0858584559  7.110015e-03 -0.1030559504  2.359012e-02  0.025557655\n",
       "85 -0.0788393931 -4.378666e-02  0.0768096384  1.043736e-02 -0.039298824\n",
       "86 -0.0786663700  7.275821e-02 -0.0967717167 -1.100727e-02  0.083102175\n",
       "87 -0.0323372879 -1.105951e-01 -0.0232391189  2.713661e-02 -0.177677721\n",
       "88  0.1340357546  4.542999e-02  0.0638161105  8.447740e-02 -0.006760361\n",
       "89 -0.0222399162  9.993542e-04  0.0772431716 -8.043500e-02  0.048826308\n",
       "90  0.1396862999  1.068929e-02 -0.1607549007 -8.567242e-02  0.030808367\n",
       "        invsh41       geetot1       geerec1          gde1        govwb1\n",
       "1  -1.865705134 -0.3376785495 -0.2825389680 -0.3048435664 -1.2016128062\n",
       "2   0.424031415  0.0486149005  0.0378494981  0.0066686885  0.0908683437\n",
       "3  -0.115623507 -0.0313135697 -0.0249172118 -0.0286885519 -0.0654969332\n",
       "4   0.008652096 -0.0230480329 -0.0205568033 -0.0144360812 -0.0664857920\n",
       "5   0.205531862  0.0063263694  0.0005641557  0.0411460021  0.0479775947\n",
       "6  -0.008296198  0.0552816081  0.0543714362  0.0802765012  0.1419312371\n",
       "7  -0.048955131 -0.0078507571 -0.0048261435 -0.0200410335  0.0669695972\n",
       "8   0.028905973  0.0207586569  0.0133102086  0.1124913467  0.1321388854\n",
       "9   0.173210170  0.0095557374  0.0054197887 -0.0169424819  0.0065530856\n",
       "10  0.062873195 -0.0127981287 -0.0125672470 -0.0546791850 -0.0373824604\n",
       "11 -0.048362813 -0.0151260655 -0.0040916750 -0.0457820645 -0.0909950304\n",
       "12  0.132837529  0.0203335606  0.0123375938  0.0425706550  0.0574208214\n",
       "13 -0.002999808 -0.0221191030 -0.0158819459 -0.0092878818 -0.1153201022\n",
       "14 -0.114105563 -0.0205897653 -0.0166888986  0.0359060505 -0.0032745365\n",
       "15  0.136424778 -0.0171937407 -0.0188701337 -0.0132626236 -0.0538321560\n",
       "16 -0.033031108 -0.0116659290 -0.0102416666 -0.0191940399 -0.0821023879\n",
       "17 -0.044249995 -0.0154266587 -0.0121778910  0.0661960958  0.0161806527\n",
       "18 -0.099269587  0.0037663025  0.0019283676 -0.0192556085 -0.0817749415\n",
       "19  0.013994201  0.0028396566 -0.0033415503  0.0284104335  0.0290294601\n",
       "20  0.079203749  0.0202858539  0.0220501429  0.0465572186  0.0753670106\n",
       "21  0.574116643  0.0032045451 -0.0016076451 -0.0251412579  0.0105128767\n",
       "22  0.119900241  0.0918378399  0.0759971155 -0.0052895176  0.1413148324\n",
       "23  0.265010988 -0.0512231915  0.0297559281  0.0413902198  0.0562966023\n",
       "24  0.078447735 -0.0944558729 -0.0436326822  0.2447481588  0.1702268455\n",
       "25 -0.172202920  0.0312984092  0.1334592164  0.0329452307 -0.1481178690\n",
       "26  0.065273420  0.1389645822  0.0572228006  0.0248373386 -0.2366745726\n",
       "27 -0.083868197  0.0147926867 -0.0352597153 -0.0485878232 -0.0926584865\n",
       "28 -0.027025497 -0.0386802390 -0.0078388403 -0.0483220042  0.0473111532\n",
       "29  0.033927045  0.1007617603  0.0427449026  0.0300875681  0.1337399632\n",
       "30 -0.027925019 -0.0268177743 -0.0528737512 -0.0322078476 -0.1838165618\n",
       "31  0.085427164  0.0659852409  0.0047592593 -0.1427378436  0.1683961635\n",
       "32 -0.100522157  0.1640916147  0.1079878544 -0.1568159817  0.0532308289\n",
       "33 -0.063496778  0.1072524331  0.0236268007 -0.0921449996  0.2379660480\n",
       "34  0.022002908  0.0256499289  0.0610801020  0.1413173938 -0.0818283636\n",
       "35 -0.130394500 -0.1202266404  0.0297807872 -0.0363199327 -0.0479879276\n",
       "36 -0.125776346 -0.0886093126  0.1424997153 -0.0452452838 -0.1183074448\n",
       "37 -0.043113166 -0.1380067160  0.1745619639 -0.0124396461 -0.1038318171\n",
       "38  0.082325861 -0.0006213151  0.0095862385  0.0096786476  0.1034118235\n",
       "39  0.066333115 -0.0200954601  0.1043639238 -0.0841463822 -0.0583980676\n",
       "40  0.108501600 -0.1051226026  0.1880612130 -0.0847052438  0.0082945576\n",
       "41 -0.016906247 -0.1831900042  0.0565777234  0.0696010108  0.0778109819\n",
       "42 -0.093889053 -0.1807427969  0.2215392871  0.1282810774 -0.1863617188\n",
       "43  0.049649171 -0.0335705299 -0.0086224809  0.0171276150  0.0074986954\n",
       "44  0.173032907 -0.0782570301 -0.1690651199 -0.5985267959 -0.1690705546\n",
       "45  0.114054617 -0.0812600244 -0.0207525290  0.1108854068  0.0222303374\n",
       "46 -0.070053610 -0.1451556113 -0.0956782541  0.0650466829  0.1244786183\n",
       "47 -0.052769684 -0.0403861973 -0.0473152631  0.1433198018  0.2681336202\n",
       "48 -0.035468332  0.0061522958 -0.1377687780 -0.0301913421  0.0095915029\n",
       "49 -0.034794881 -0.1736746604 -0.1855413889  0.0435900419  0.1301040157\n",
       "50 -0.125535891 -0.0243681415 -0.1151568876  0.0307619679  0.0995660829\n",
       "51  0.037245642 -0.1841839755 -0.0789186875  0.1154272456 -0.1500140074\n",
       "52 -0.438870644 -0.0333309747  0.0162688261 -0.0884897231  0.1489217508\n",
       "53  0.011480848 -0.2841208869  0.0279933250  0.1491023696 -0.0580687455\n",
       "54  0.083554222 -0.0212583037 -0.1306236838  0.2163383450 -0.0432478160\n",
       "55  0.054570410  0.0228909821  0.0104223152  0.0822126572 -0.0622838917\n",
       "56  0.008840817  0.0902137979  0.0245391197  0.1266622824 -0.2396563226\n",
       "57  0.035717883 -0.0095050135  0.0184195685  0.1032005137 -0.0306216917\n",
       "58  0.078316643  0.0410804759 -0.0467000534  0.1629967754 -0.0267294897\n",
       "59 -0.022052489  0.0845469928  0.0307221046 -0.0011892857 -0.0280861691\n",
       "60  0.027719768 -0.1247928389  0.0148982841  0.0125322032  0.0103144555\n",
       "61 -0.105911615  0.1583167560 -0.0077956306  0.0004322952  0.0268777665\n",
       "62  0.094719992  0.0372423137 -0.0554286217  0.1911941515 -0.2278726548\n",
       "63 -0.012478070 -0.0796605780  0.0490783748  0.0731590145 -0.0325428804\n",
       "64  0.080731761  0.2339876964 -0.1904391680  0.0671923630 -0.0922782739\n",
       "65  0.145103599  0.0401010490  0.4087226567  0.0082924353  0.0601124202\n",
       "66 -0.153146423  0.1058767644  0.0621083675  0.0521411097  0.0093737081\n",
       "67  0.242311316  0.1624642998 -0.1710592831  0.0290427603  0.0005825558\n",
       "68  0.146790629 -0.0975064432 -0.0954271858  0.0634393520 -0.0542746964\n",
       "69  0.142004204  0.2756289523  0.0716666128  0.1037144308  0.2493010769\n",
       "70  0.090552421  0.0762940316  0.0223664831  0.0407851662  0.2043854839\n",
       "71 -0.115764094  0.1164999602 -0.2229245570 -0.1020553608  0.0653304346\n",
       "72 -0.107653268  0.0924578585  0.1703691689  0.1553777072 -0.0861273599\n",
       "73  0.031425872  0.0828334338 -0.0422974950 -0.2273355205  0.1044121476\n",
       "74  0.043319486 -0.0117224642  0.2657254211 -0.0399888635 -0.0965755583\n",
       "75  0.039992475 -0.1836120117 -0.1206742117  0.0042639382  0.1854455958\n",
       "76 -0.078766653  0.1278964796  0.0443723688 -0.0221792303  0.0727227748\n",
       "77  0.105159431  0.1245705053 -0.0050727719 -0.0286760776  0.0505985339\n",
       "78 -0.237300241  0.0954985720 -0.1705574844 -0.2182446650  0.0542822004\n",
       "79 -0.005931650  0.0881865829 -0.1142975040 -0.2204068321 -0.0983356656\n",
       "80 -0.033313849 -0.0870482995  0.0868931413 -0.0859744529  0.0677349340\n",
       "81 -0.052463350 -0.0090868076  0.2746406756 -0.0632008463  0.0254944111\n",
       "82 -0.193695663 -0.0163786153  0.1205659446  0.0167311850 -0.0180459786\n",
       "83 -0.196423394  0.2193850779  0.0072282742 -0.0636853566  0.1804742127\n",
       "84  0.047203144  0.1179789811  0.0366684142  0.0940407818  0.2535420377\n",
       "85 -0.053869472  0.0749701022 -0.0692947886  0.0953058438 -0.0326938247\n",
       "86 -0.060175868 -0.2124278362  0.1464363661  0.0320182342 -0.0552875210\n",
       "87 -0.026645817  0.2245257013 -0.0470860581 -0.1574717388  0.0050106007\n",
       "88  0.010450061 -0.2075161178 -0.2324985391  0.1103285005  0.0352757599\n",
       "89  0.190923911 -0.0614704426  0.1145814312 -0.0134170623  0.1114608217\n",
       "90  0.087624726 -0.1616289660  0.0860321187  0.0014490394  0.2551915110\n",
       "        govsh41      gvxdxe41        high65       highm65       highf65\n",
       "1  -1.471987546 -0.9004416983 -39.873159017 -52.476943678 -2.795664e+01\n",
       "2  -0.118040167 -0.1761310164  27.828999065  33.317901653  2.289620e+01\n",
       "3  -0.134584551 -0.0828253997  -3.108205431  -3.752775372 -2.444485e+00\n",
       "4  -0.014735908  0.0203362565  15.459547610  16.889914708  1.402297e+01\n",
       "5   0.056625982  0.0293599578   0.552532027   1.326308925  2.389770e-02\n",
       "6   0.097684435 -0.0258845233  27.757776151  30.315916505  2.543009e+01\n",
       "7   0.064447520  0.0711908145  -1.327285501  -5.340780973  2.541172e+00\n",
       "8   0.124565485  0.0109849206  -6.618572100  -4.821824488 -8.278800e+00\n",
       "9   0.047224194  0.0577567317  -1.913064128  -1.051466657 -2.638829e+00\n",
       "10  0.023711621  0.0736460129  -0.676055717  -0.757739405 -5.154032e-01\n",
       "11 -0.059829507 -0.0267299574  -1.488168374  -0.732419768 -2.101216e+00\n",
       "12  0.116222297  0.0582890346   4.140445000   6.514845968  1.922559e+00\n",
       "13 -0.096940213 -0.0653364890   1.084056793   2.016872722  1.221480e-01\n",
       "14 -0.043830665 -0.0588391213  -0.882004756  -0.666721921 -1.093460e+00\n",
       "15 -0.016175509  0.0104897038  -2.621813904  -1.666841099 -3.330331e+00\n",
       "16 -0.043367030 -0.0132893118   0.026366157   0.429051863 -2.854493e-01\n",
       "17  0.002478283 -0.0422884524  -1.986636818  -1.933203585 -2.127138e+00\n",
       "18 -0.141353603 -0.1114727915   2.000724213   2.799946347  9.848603e-01\n",
       "19  0.023107149 -0.0091326635   3.123476523   3.936773903  2.340056e+00\n",
       "20  0.033661226 -0.0278738727  -2.616505320  -2.810589244 -2.448256e+00\n",
       "21  0.120159544  0.1323875010  -4.590094662  -4.394901872 -4.770150e+00\n",
       "22  0.200646421  0.1278615425   7.677504710   7.184559696  8.137692e+00\n",
       "23  0.080444803  0.0177767742  -1.025694662  -2.850093598  6.109686e-01\n",
       "24  0.104652795 -0.1020463306  -1.625787994  -1.868832377 -1.428181e+00\n",
       "25 -0.163545379 -0.1490354975  -1.687806143  -0.331866721 -2.989821e+00\n",
       "26 -0.340695885 -0.3298477891  -4.371693324  -4.781230755 -4.013480e+00\n",
       "27 -0.104235270 -0.0380527342   3.827336430   5.005537623  2.646267e+00\n",
       "28 -0.096341871 -0.1068082538 -20.947487118 -21.962538477 -1.994911e+01\n",
       "29  0.039063751  0.1373922086   0.115157046  -4.955975257  4.483880e+00\n",
       "30 -0.056817335 -0.1008248951   0.030395693   0.003880934  5.463852e-01\n",
       "31 -0.072144828 -0.1028637813  -0.190492408   0.034518873 -7.485600e-02\n",
       "32 -0.010896149  0.0358936841   0.142164514  -0.178877344 -6.569346e-02\n",
       "33 -0.063364588 -0.1295918008   0.117953404  -0.064824086 -9.264514e-02\n",
       "34 -0.039566969  0.1362871018   0.176733933  -0.047079281  3.430510e-01\n",
       "35  0.003530943 -0.0485245525   0.037457122  -0.065903891 -2.880831e-02\n",
       "36 -0.033187937  0.0068665366  -0.064160030  -0.246409265  3.585738e-02\n",
       "37 -0.011173066  0.0400544373  -0.074355607  -0.017024038  1.316487e-01\n",
       "38  0.013094567 -0.1338766171   0.062050719  -0.112093404 -2.096554e-01\n",
       "39  0.160115508  0.0082500113   0.032908666  -0.088554851  1.075955e-01\n",
       "40  0.169008196 -0.0548892936  -0.151217299  -0.162660900 -6.813594e-02\n",
       "41  0.178415700  0.1182231480  -0.150838387  -0.009496561  4.798555e-02\n",
       "42 -0.093877656  0.0098477456  -0.013497161  -0.143966141 -2.774291e-01\n",
       "43  0.194891544 -0.1408172360   0.037069774  -0.124370125 -1.387455e-01\n",
       "44  0.150848656  0.0050336675  -0.195132244   0.113272046 -3.664392e-02\n",
       "45 -0.178275449 -0.1406392380  -0.080246631  -0.083046128 -1.528946e-01\n",
       "46  0.015414869 -0.0381850615  -0.029236435  -0.006305308 -9.719851e-02\n",
       "47  0.166089248  0.0586078142  -0.004322360   0.072392045  3.473392e-03\n",
       "48 -0.105615900 -0.1135953670   0.099505969   0.053514029 -3.355613e-03\n",
       "49  0.076148377 -0.0912740749  -0.150184172   0.169253399 -3.173499e-02\n",
       "50  0.406081038 -0.0854772997   0.012347332   0.082819332 -7.819480e-02\n",
       "51 -0.025579782 -0.0299533964  -0.027349853   0.152162321  3.114539e-02\n",
       "52  0.200398927  0.2564056157   0.063853496  -0.105540817  5.381442e-02\n",
       "53 -0.115723815  0.0004186494   0.602373601   0.046749345  1.240996e-01\n",
       "54  0.212599848  0.0793794820  -0.002670080  -0.058474298 -1.043228e-01\n",
       "55  0.237961874  0.1025239776  -0.037399128  -0.071899300 -2.606315e-02\n",
       "56  0.076980170  0.0692039477   0.071166775  -0.059848451  5.025383e-02\n",
       "57 -0.138865770  0.1446292032  -0.037311892  -0.060450362  1.024774e-02\n",
       "58  0.005094933 -0.0018323921   0.022985151   0.071211164 -5.911649e-02\n",
       "59  0.027845730  0.0578378317  -0.002801637  -0.065483351 -9.867800e-02\n",
       "60 -0.039993955 -0.1576589675  -0.037523147   0.104913529 -2.394214e-01\n",
       "61 -0.156028408  0.0429114964  -0.185326562  -0.022636723  7.085528e-02\n",
       "62  0.226385215 -0.0496294970   0.042803544   0.040543924 -5.896538e-02\n",
       "63  0.064554677  0.0453269876   0.009949948  -0.031633741 -1.997801e-04\n",
       "64  0.019114593 -0.0060474177  -0.107910971   0.150169695 -4.751655e-02\n",
       "65 -0.001680077  0.2269631823  -0.012530705  -0.166420949  1.606267e-02\n",
       "66 -0.013049933  0.1093528602  -0.212713165  -0.277098557 -4.123799e-02\n",
       "67  0.060792193 -0.1585124117   0.044299408   0.036339223  1.391533e-01\n",
       "68  0.064650929 -0.1625114704  -0.203149570   0.092321913 -5.516680e-02\n",
       "69 -0.137160147 -0.0778290848  -0.044172664  -0.123203328  4.530612e-03\n",
       "70 -0.054126916 -0.1339556673   0.030348719  -0.104365130  1.544294e-01\n",
       "71  0.015430688 -0.0244033155  -0.045521565   0.013540917  1.053986e-01\n",
       "72 -0.085558862  0.1171295341  -0.095220755   0.118614917  2.875366e-02\n",
       "73 -0.066303693 -0.2944676850   0.078911946  -0.011602178  4.545389e-02\n",
       "74  0.088837811 -0.0274486765   0.117488981   0.173734546  2.600695e-01\n",
       "75 -0.125040068 -0.1918263232  -0.124086830  -0.073411432 -1.827989e-01\n",
       "76  0.119089581 -0.1061599027   0.062304638   0.176081016  2.478748e-01\n",
       "77  0.192139874 -0.0245364663   0.063377802  -0.116065637 -6.533746e-02\n",
       "78 -0.148249876 -0.1547235278   0.063506295  -0.114873560  9.257060e-02\n",
       "79 -0.023842961  0.1966688029  -0.052409566   0.074369935  4.328515e-02\n",
       "80 -0.044218581 -0.0497412867   0.010618259  -0.210510345 -2.164255e-01\n",
       "81 -0.156314329  0.1084389537  -0.218348086   0.026342834  3.655865e-02\n",
       "82 -0.143703662  0.2841227974   0.134570896   0.347609084 -3.229711e-02\n",
       "83 -0.134434744 -0.0135749923   0.118962684  -0.022800525 -9.077034e-02\n",
       "84 -0.094134277  0.0537921910  -0.102449596  -0.115993893  1.357496e-01\n",
       "85  0.003729487  0.0503662801  -0.144393873  -0.063290449 -2.801619e-02\n",
       "86 -0.208117533  0.0138306482  -0.047163776   0.066667095  2.575238e-01\n",
       "87  0.044454060 -0.2004653468   0.041782680  -0.146297297 -2.943170e-01\n",
       "88  0.042881687 -0.0401530196  -0.158924952   0.106348562  1.769916e-01\n",
       "89  0.056419477 -0.0375439095   0.054277526   0.273227090  1.865601e-02\n",
       "90  0.164925150  0.0104106736   0.132362667   0.224663642  1.640277e-01\n",
       "         highc65      highcm65      highcf65       human65      humanm65\n",
       "1  -23.295445430 -3.257989e+01 -14.511692183 -3.998584e+01 -44.571671165\n",
       "2   12.425597458  1.669137e+01   8.601560652  1.917147e+01  17.515555071\n",
       "3   -2.151390957 -2.571432e+00  -1.695826763  1.148701e-01   0.654557235\n",
       "4    7.316674558  8.011896e+00   6.605436076  3.014233e+00   2.786102102\n",
       "5    1.059181028  1.982027e+00   0.335812078  1.089371e+00   1.228334990\n",
       "6   14.453527723  1.711490e+01  12.039969992  6.686989e+00   6.624636335\n",
       "7   -0.730218627 -3.812589e+00   2.235217146 -2.150704e+00  -2.831339525\n",
       "8   -2.594694580 -9.648185e-01  -4.127835720 -1.216359e+00  -0.258590629\n",
       "9    0.536954622  7.698739e-01   0.397254692  2.295841e+00   2.995362236\n",
       "10  -0.478313753 -4.181767e-01  -0.458937618  8.421566e-01   0.113754968\n",
       "11   0.351787620  5.364784e-01   0.259092040  2.707380e+00   2.164560869\n",
       "12   2.579035834  4.550370e+00   0.744919215  4.893852e+00   5.212098474\n",
       "13   0.520539951  1.146952e+00  -0.139241106 -1.788276e-01   0.758999545\n",
       "14  -1.244245715 -1.843141e+00  -0.671506959 -8.826047e-01  -0.696972158\n",
       "15  -1.287362983 -5.100967e-01  -1.888334874  2.401150e+00   2.545050892\n",
       "16   0.359343388  6.059975e-01   0.216020053 -1.104544e+00  -1.110166253\n",
       "17  -0.046033239  3.684578e-01  -0.505415953 -1.296555e+00  -1.953448836\n",
       "18   0.177837011  3.710989e-01  -0.188285726 -1.459698e+00  -0.857104052\n",
       "19   2.216058043  2.607069e+00   1.811275975 -3.858404e-01  -0.230909787\n",
       "20  -0.871844483 -8.987198e-01  -0.880366353 -3.621261e+00  -3.173962636\n",
       "21  -2.466657146 -2.374200e+00  -2.567123869  2.550738e-01   0.456515936\n",
       "22   0.306078119  2.430307e-01   0.342290245  2.087299e+00   1.667024607\n",
       "23  -0.270964667 -1.438487e+00   0.778799649 -7.602852e-01  -0.289272896\n",
       "24   0.035979092  2.022392e-01  -0.160421623 -7.845981e-01  -0.469955660\n",
       "25   0.086513206  9.065728e-01  -0.704337553 -1.033043e+00  -0.976120366\n",
       "26  -2.751524591 -2.613667e+00  -2.904923268 -3.512874e+00  -3.383760735\n",
       "27   2.967421721  4.330757e+00   1.627517651 -1.011285e-02   1.044435990\n",
       "28  -5.215036295 -6.170469e+00  -4.283201134 -3.290549e+00  -3.593786086\n",
       "29  -2.108794646 -5.500542e+00   0.955899498 -1.410239e-01  -0.902347256\n",
       "30   0.596333617  9.301168e-01   0.682829110 -1.125924e+00  -1.419736415\n",
       "31   7.033076378  7.668672e+00   6.462851867  1.439940e+00   1.643255222\n",
       "32  -0.042237571  1.674158e+00  -1.605062327 -9.022139e-01  -1.054446329\n",
       "33  -0.137957296 -1.072027e-01  -0.087859903 -8.995006e-01  -0.458727561\n",
       "34  -0.029930446 -1.717295e-02  -0.134070986  6.652231e+00   7.137475106\n",
       "35  -0.032990804  6.199164e-02  -0.035281027  8.985409e-02   1.549435641\n",
       "36   0.007136651  2.227108e-01  -0.130317554  2.092926e-01  -0.045351641\n",
       "37   0.069826550  2.545352e-01  -0.049373267  1.555940e-01  -0.081913294\n",
       "38  -0.074419482 -2.270743e-02  -0.196221291  5.486898e-02   0.118023083\n",
       "39  -0.063354212 -1.241503e-02  -0.175190060  1.582132e-02  -0.175673058\n",
       "40   0.081067954  4.220637e-02   0.119521842 -5.995849e-02   0.025017408\n",
       "41   0.017929380 -2.047274e-02   0.080991548 -2.743306e-01   0.162007690\n",
       "42  -0.114606297  1.224133e-01   0.043121543  3.742819e-02   0.013254006\n",
       "43   0.067907286 -6.846828e-02   0.069251114 -1.476424e-02   0.295296876\n",
       "44   0.046327926 -2.478581e-01  -0.139733680 -6.993155e-02   0.059032318\n",
       "45   0.043385725  1.600908e-01  -0.145515558 -1.399927e-01   0.006104120\n",
       "46   0.015217878 -6.112436e-02  -0.067375029  3.219240e-02   0.130975636\n",
       "47   0.161493617 -1.063825e-01   0.052929116 -3.648589e-01  -0.070062600\n",
       "48   0.146730786  5.173316e-02   0.008031629 -9.857719e-02   0.025510859\n",
       "49   0.067712116  2.111492e-02   0.198133285  3.561438e-02   0.238643295\n",
       "50   0.097086421 -1.097971e-01   0.065664851 -7.708606e-02   0.083884604\n",
       "51  -0.089469096 -7.246001e-03   0.105155945  3.670649e-02   0.191362375\n",
       "52  -0.095096240 -1.326684e-01   0.195782640  1.956968e-01  -0.008852945\n",
       "53   0.430005669 -4.727123e-02  -0.010539771  2.098051e-01   0.055744785\n",
       "54  -0.170902093  7.477907e-02   0.021444068  1.947994e-02   0.168089654\n",
       "55   0.070021017 -7.371201e-02   0.148864786 -1.246985e-01  -0.106180521\n",
       "56   0.068806363  3.606530e-02   0.083569023 -3.016815e-02   0.034897750\n",
       "57  -0.029545726  1.258722e-01  -0.117211262  1.991174e-01  -0.016570257\n",
       "58  -0.015775779  5.178851e-02  -0.119545330  6.299165e-02  -0.039553346\n",
       "59   0.012432208 -6.168311e-02  -0.112433313 -7.754410e-02   0.082041946\n",
       "60  -0.365220352 -1.474425e-01  -0.027552378 -1.152007e-01   0.099700987\n",
       "61   0.127420109  1.956357e-01  -0.127543875 -1.701345e-01   0.055431207\n",
       "62  -0.002640095 -4.316640e-02   0.126630269 -1.017473e-01  -0.182112822\n",
       "63  -0.107936742 -1.367855e-01  -0.201378270  1.433417e-01   0.014251164\n",
       "64  -0.169998002  1.695811e-01   0.055898147 -1.735459e-01  -0.091557350\n",
       "65  -0.107895112 -7.809880e-02   0.037652102  1.307247e-01  -0.075484707\n",
       "66   0.172493338 -4.655914e-02  -0.197192433 -1.127485e-01  -0.068412296\n",
       "67  -0.117995987 -8.260836e-03   0.008999355  1.862947e-01  -0.457698156\n",
       "68  -0.012648104 -6.787897e-02  -0.030103791  2.272454e-03   0.158819159\n",
       "69   0.027777431 -7.245877e-04   0.095425692  5.163837e-02   0.158403414\n",
       "70  -0.079786388  8.651047e-02  -0.009057020 -7.669560e-02  -0.221155838\n",
       "71   0.043055816  4.989882e-02   0.000349263 -3.062370e-02  -0.194119930\n",
       "72   0.079778184 -8.170587e-02   0.141084721 -4.414684e-05   0.185291202\n",
       "73   0.141880725  1.123038e-01  -0.088893504 -4.466814e-02   0.003325126\n",
       "74  -0.172948854 -1.055814e-01  -0.072915368  2.721250e-02  -0.019513427\n",
       "75  -0.119923550 -2.709382e-02  -0.193261685 -1.084151e-01  -0.066261118\n",
       "76  -0.079444093 -1.291938e-01  -0.181779189 -4.998970e-02   0.059249187\n",
       "77  -0.236938358  1.901619e-01   0.088299747  1.833934e-01   0.062215367\n",
       "78  -0.092032575 -1.352313e-02  -0.186935044  2.118628e-01  -0.126370304\n",
       "79  -0.028442456 -4.063299e-02   0.075946082 -1.694153e-02  -0.145943310\n",
       "80  -0.192639845 -4.816094e-02  -0.218884642 -1.605085e-01   0.235331317\n",
       "81   0.152190488 -5.346774e-02  -0.310500026  4.383768e-02  -0.046444486\n",
       "82  -0.020550663 -1.197728e-02  -0.132721903 -3.898062e-01   0.133243272\n",
       "83  -0.271818179 -1.432672e-01   0.040194435 -2.994228e-02  -0.017190588\n",
       "84   0.094542250  1.126029e-01  -0.115639704  3.660205e-02   0.076404422\n",
       "85   0.152620267 -1.793225e-02  -0.077586824 -1.489523e-02  -0.155693990\n",
       "86  -0.080661454  2.045761e-01  -0.052867024  1.572244e-01  -0.046220642\n",
       "87   0.129380551  4.531652e-02  -0.169672451  1.379369e-01   0.137507135\n",
       "88  -0.039745606 -2.455481e-01   0.032093188  1.890382e-02   0.085524244\n",
       "89  -0.105150291 -1.263969e-01   0.260380794  5.119998e-02   0.131603927\n",
       "90   0.100306153  5.276746e-01   0.216227269  1.118908e-01   0.074272749\n",
       "        humanf65         hyr65        hyrm65        hyrf65          no65\n",
       "1  -3.553736e+01 -1.263435e+00 -1.700989e+00 -8.493878e-01 -3.294124e+02\n",
       "2   2.084188e+01  8.050173e-01  1.000347e+00  6.300012e-01 -2.258212e+02\n",
       "3  -3.754765e-01 -1.050570e-01 -1.268907e-01 -8.245313e-02 -1.186097e+01\n",
       "4   3.215982e+00  4.557786e-01  4.980536e-01  4.125553e-01 -8.391738e+00\n",
       "5   1.099920e+00  3.250738e-02  6.627237e-02  6.563675e-03 -1.888493e+01\n",
       "6   6.764250e+00  8.445308e-01  9.484165e-01  7.494023e-01 -2.277002e+01\n",
       "7  -1.483084e+00 -4.143819e-02 -1.836435e-01  9.562103e-02 -9.686959e+00\n",
       "8  -2.171927e+00 -1.843855e-01 -1.159238e-01 -2.481189e-01  2.354008e+01\n",
       "9   1.685350e+00 -2.697101e-02 -5.191159e-03 -4.477528e-02 -5.873643e+01\n",
       "10  1.578350e+00 -2.324200e-02 -2.372368e-02 -1.957273e-02 -2.616253e+01\n",
       "11  3.318378e+00 -2.280421e-02 -3.970885e-03 -3.670046e-02 -6.849126e+01\n",
       "12  4.549554e+00  1.344683e-01  2.212204e-01  5.339023e-02 -4.319569e+01\n",
       "13 -1.146978e+00  3.183457e-02  6.369563e-02  1.161543e-04  8.247025e+00\n",
       "14 -1.060765e+00 -4.244148e-02 -5.028865e-02 -3.533428e-02  2.345494e+01\n",
       "15  2.312773e+00 -7.805810e-02 -4.359036e-02 -1.043731e-01 -3.078403e+01\n",
       "16 -1.011704e+00  7.412393e-03  2.096768e-02 -1.549068e-03  1.032884e+01\n",
       "17 -6.431843e-01 -4.092059e-02 -3.159976e-02 -5.237976e-02 -1.314137e+01\n",
       "18 -2.111212e+00  4.331754e-02  6.354172e-02  1.580296e-02  2.151147e+01\n",
       "19 -5.923445e-01  1.067584e-01  1.303035e-01  8.313118e-02 -2.317953e+00\n",
       "20 -4.036146e+00 -7.015621e-02 -7.415604e-02 -6.651849e-02  4.550062e+01\n",
       "21  7.856326e-02 -1.414248e-01 -1.362300e-01 -1.465319e-01 -1.262751e+01\n",
       "22  2.531633e+00  1.597078e-01  1.487986e-01  1.695824e-01  6.014650e+00\n",
       "23 -1.274400e+00 -2.625406e-02 -8.562314e-02  2.781847e-02  8.370349e+00\n",
       "24 -1.111621e+00 -3.191328e-02 -3.341932e-02 -3.143276e-02  2.409247e+01\n",
       "25 -1.071384e+00 -3.197530e-02  1.151923e-02 -7.421368e-02 -1.623576e+00\n",
       "26 -3.678832e+00 -1.424596e-01 -1.476841e-01 -1.383230e-01  3.021067e+01\n",
       "27 -1.042485e+00  1.354812e-01  1.867657e-01  8.526395e-02  3.242421e+01\n",
       "28 -2.997160e+00 -5.236526e-01 -5.626367e-01 -4.850926e-01  1.813753e+00\n",
       "29  5.390560e-01 -4.133475e-02 -2.091613e-01  1.088310e-01 -8.386162e+00\n",
       "30 -6.827413e-01  1.178126e-02  1.825103e-02  2.433233e-02 -1.734266e+00\n",
       "31  1.213616e+00  1.406152e-01  1.532817e-01  1.288181e-01 -4.046741e+00\n",
       "32 -7.778233e-01 -2.861669e-04  3.331408e-02 -3.200148e-02  1.298313e+00\n",
       "33 -1.363391e+00  9.751300e-05 -1.140347e-04 -1.675746e-03  1.333028e+00\n",
       "34  6.175279e+00 -6.319483e-04 -5.916627e-06  4.936864e-06 -3.462805e+01\n",
       "35 -1.491500e+00 -7.186094e-05 -1.635011e-04  5.839045e-05 -3.516055e+00\n",
       "36  1.776053e-01 -3.532643e-05 -1.471054e-04 -4.144354e-05 -4.482191e+00\n",
       "37  2.225577e-01  2.170051e-03  3.441279e-04 -2.318654e-04  4.711253e+00\n",
       "38 -1.437930e-02  2.337580e-01  1.956169e-03  3.132999e-06  1.282496e+01\n",
       "39  4.043261e-02 -1.648913e-01  1.356250e-01  2.358629e-03 -1.232016e+01\n",
       "40  3.627446e-01  2.470421e-01 -6.997288e-02 -2.448982e-01 -5.556892e+01\n",
       "41 -9.055581e-02  1.883085e-02 -1.077195e-01  3.137930e-02  1.265095e-01\n",
       "42 -3.413143e-02  5.448576e-02  1.018501e-01  7.990644e-02  7.259251e-02\n",
       "43 -8.069611e-04  1.423680e-01  2.632543e-01  1.383383e-01  9.733232e-02\n",
       "44  1.608468e-01  3.632728e-03  1.023097e-01  6.376222e-02  1.454975e-01\n",
       "45 -2.393218e-01  6.757591e-02 -2.099759e-02 -5.788188e-02 -9.457123e-03\n",
       "46  4.500527e-02  9.862411e-02 -2.782562e-02 -7.728016e-02  2.900412e-01\n",
       "47 -2.322513e-01 -1.342637e-01  1.320996e-01 -3.754426e-02 -2.641743e-01\n",
       "48 -6.973559e-02  2.857118e-02  4.167472e-02 -1.328567e-01  2.264139e-01\n",
       "49 -7.280743e-02  2.209526e-01  2.344872e-01 -2.051054e-01 -1.190768e-02\n",
       "50  5.061591e-02  1.918791e-01 -4.190413e-02  1.088238e-01 -9.849608e-02\n",
       "51 -3.659958e-03 -3.620496e-01  1.704616e-01 -8.028941e-02  2.011379e-01\n",
       "52  1.046816e-01  8.603649e-03 -2.766250e-01 -4.653326e-02  8.597357e-02\n",
       "53  1.122502e-01 -1.188274e-01 -5.109892e-02  1.003319e-01  2.166433e-02\n",
       "54 -2.044753e-01  1.375967e-03 -2.879958e-03  1.235017e-01 -1.216385e-01\n",
       "55  8.732667e-02 -5.675101e-02  1.559913e-01  4.180609e-02 -5.627882e-02\n",
       "56  3.453198e-02  1.957699e-01  3.071232e-01 -1.182558e-02  9.118470e-02\n",
       "57 -2.395378e-02 -3.484472e-01  7.533346e-02 -9.995684e-02 -1.684113e-01\n",
       "58 -2.374795e-01 -8.073275e-02  5.289767e-03  7.248129e-02  7.444421e-02\n",
       "59  6.261611e-03 -5.514747e-02 -7.209155e-02 -9.884415e-02  8.740999e-02\n",
       "60  1.840552e-01  1.543123e-02 -1.043446e-01 -1.443402e-02  9.410745e-02\n",
       "61 -1.860931e-02 -3.077449e-02 -1.084653e-01  1.586919e-01 -1.365465e-01\n",
       "62 -3.775380e-02 -1.262412e-02  1.053602e-01 -6.937602e-04  4.380718e-03\n",
       "63  2.555844e-02  1.188005e-01 -4.417781e-02 -7.305505e-02  9.324881e-03\n",
       "64  4.930614e-02  2.098447e-01  9.135848e-03  5.697717e-02 -4.576879e-02\n",
       "65  2.480246e-02 -1.656960e-02 -5.561628e-02  3.726637e-02 -7.209736e-02\n",
       "66 -6.019801e-02 -2.920597e-01  3.315240e-02 -2.968488e-01  7.185450e-02\n",
       "67 -3.084742e-02 -8.043443e-02 -5.338597e-02  1.391831e-01 -2.652523e-01\n",
       "68 -1.300375e-01  4.816840e-02  2.422936e-01 -2.484447e-01  1.271247e-01\n",
       "69  1.177800e-02  5.746891e-02  1.886280e-01  1.486477e-01 -4.130610e-02\n",
       "70  2.904501e-01  1.623610e-01 -3.461993e-02  5.465696e-03  1.065292e-01\n",
       "71  1.355960e-01  9.050617e-02 -1.580696e-01 -3.873810e-02 -4.508108e-02\n",
       "72  1.474909e-01  4.277946e-02 -7.302034e-02  9.360003e-02  1.229901e-01\n",
       "73  1.588506e-01 -5.945921e-02 -5.591609e-02  1.683103e-02 -7.594513e-02\n",
       "74 -1.110366e-01 -1.043098e-02 -1.594922e-01  1.898016e-01 -1.591006e-01\n",
       "75  1.756673e-01 -1.306745e-01  6.277391e-02 -1.258154e-01  1.209519e-02\n",
       "76 -8.094750e-03  2.196768e-01  3.374048e-01  1.956151e-01 -1.072055e-01\n",
       "77 -3.572971e-02 -5.489974e-02  3.210008e-02 -8.862732e-02 -1.388764e-01\n",
       "78  1.487031e-01 -5.981833e-02  2.753023e-02  5.202731e-02  3.009064e-01\n",
       "79  2.389641e-02  1.159266e-01 -1.149538e-01 -2.057191e-01 -1.008912e-01\n",
       "80 -1.689465e-01 -9.584642e-03  7.036994e-02 -2.820821e-01 -2.530185e-01\n",
       "81  1.285937e-01 -4.231319e-02 -1.203238e-01 -1.590462e-01 -5.270397e-02\n",
       "82  4.804256e-02 -4.318501e-02 -9.636042e-02  5.430336e-02  2.553212e-01\n",
       "83 -1.170082e-01  1.030578e-01  7.642407e-02  4.976112e-04  2.947388e-03\n",
       "84 -1.793390e-01  2.358712e-02 -8.376638e-02 -1.731567e-01  1.113578e-01\n",
       "85 -7.333239e-02 -1.784306e-01  6.457337e-02 -1.158524e-02 -8.038637e-02\n",
       "86 -6.305713e-02 -1.411398e-01 -3.214047e-01 -1.669837e-02 -2.268591e-01\n",
       "87 -2.036479e-01  1.412561e-01 -1.789736e-01  1.018520e-01  3.203223e-02\n",
       "88 -1.784474e-01 -1.769009e-02  8.617579e-02  2.455155e-01 -8.006220e-03\n",
       "89  2.426600e-01 -9.844690e-02 -8.135443e-03 -1.472834e-01  2.100751e-01\n",
       "90  8.687218e-03 -9.351549e-02 -2.034710e-01 -1.088599e-01  1.647125e-01\n",
       "           nom65         nof65     pinstab1         pop65     worker65\n",
       "1  -2.751171e+02 -3.825766e+02 -1.083014112 -3.778160e+05 -3.503181733\n",
       "2  -1.898883e+02 -2.609812e+02 -0.245847389 -9.918344e+04  0.115957885\n",
       "3  -1.921985e+01 -5.107572e+00 -0.168060504 -2.212009e+04  0.152985194\n",
       "4  -9.393891e+00 -7.462556e+00  0.296558745  2.426559e+05 -0.002230213\n",
       "5  -2.103191e+01 -1.875531e+01 -0.082263040 -3.391142e+05  0.114043328\n",
       "6  -2.123203e+01 -2.448395e+01 -0.089006202  1.977308e+05  0.148275053\n",
       "7  -2.947514e+00 -1.656168e+01  0.066198117 -9.993981e+04 -0.002204326\n",
       "8   1.564941e+01  3.170598e+01  0.322302091  1.812754e+05 -0.101740659\n",
       "9  -6.229026e+01 -5.611515e+01 -0.218378106 -2.892782e+04 -0.031765979\n",
       "10 -1.452196e+01 -3.777780e+01 -0.356400619  2.157033e+05  0.099181512\n",
       "11 -5.511653e+01 -8.261045e+01 -0.109900430 -1.665192e+05  0.087563414\n",
       "12 -3.947236e+01 -4.639319e+01 -0.369873822  1.269297e+05  0.199790822\n",
       "13  3.821045e-01  1.656698e+01 -0.145595756  1.673128e+05  0.024891374\n",
       "14  1.893386e+01  2.785332e+01 -0.081546118 -7.556834e+04 -0.176743851\n",
       "15 -2.926008e+01 -3.259336e+01 -0.257924479  1.736783e+05  0.263297454\n",
       "16  8.928182e+00  1.043537e+01 -0.007674059  3.226522e+04 -0.064605181\n",
       "17 -3.828948e+00 -2.292338e+01  0.004255152 -3.044467e+04 -0.082777734\n",
       "18  1.567621e+01  2.782974e+01 -0.022672828 -3.220386e+04 -0.047574922\n",
       "19  2.372458e-01 -4.074106e+00 -0.340048964  2.089422e+04 -0.113025495\n",
       "20  3.761496e+01  5.248857e+01  0.140004820 -7.556917e+04 -0.074751318\n",
       "21 -1.402113e+01 -1.161840e+01 -0.210379136  4.856378e+04  0.060625320\n",
       "22  1.195786e+01 -4.860945e-01 -0.515296868 -8.504113e+04  0.060547244\n",
       "23 -2.097104e+00  1.917210e+01  0.146211326  4.938241e+04  0.036104949\n",
       "24  2.074578e+01  2.762176e+01  0.177402643  1.662402e+04 -0.036145926\n",
       "25  2.535392e-01 -3.474034e+00  0.002595501  5.965340e+04 -0.066139127\n",
       "26  2.623436e+01  3.451487e+01  0.179138632 -6.057333e+04 -0.059783950\n",
       "27  2.156273e+01  4.266274e+01  0.143931570  9.126173e+03  0.020013261\n",
       "28  4.757609e+00 -1.053157e+00  0.064419463  4.113919e+04 -0.009624690\n",
       "29 -5.977607e+00 -1.052072e+01 -0.256367038  4.539703e+04 -0.028036738\n",
       "30  1.306876e+00 -6.136894e+00 -0.278240190  9.417022e+04  0.088311186\n",
       "31 -5.557580e+00 -2.209984e+00 -0.160369178  4.912413e+04 -0.045298401\n",
       "32 -5.250833e-01  3.410677e+00 -0.261792002  2.914691e+04  0.050942730\n",
       "33  1.689218e+00  1.783159e+00 -0.426139610  8.924389e+04  0.034135643\n",
       "34 -3.835366e+01 -3.097278e+01  0.049862365 -2.607243e+04  0.072520569\n",
       "35 -2.258383e+01  1.474934e+01  0.087695315  3.786921e+04  0.022472208\n",
       "36 -3.052514e+00 -8.215095e+00  0.272450322 -1.985433e+05 -0.078070824\n",
       "37  8.648573e+00  8.985755e-01  0.123761646 -6.855825e+04 -0.005918163\n",
       "38  1.123214e+01  1.405249e+01  0.141371743  3.672025e+04 -0.013326180\n",
       "39 -1.449042e+01 -1.014397e+01  0.384330820  2.776617e+04  0.039296393\n",
       "40 -5.521128e+01 -5.568903e+01  0.233722467 -3.124914e+04 -0.008287714\n",
       "41  1.452477e+01 -1.370893e+01 -0.133138275  7.937931e+04 -0.065403306\n",
       "42  6.243896e-02  8.467530e-01  0.025618928 -1.002462e+05 -0.041345250\n",
       "43 -7.027481e-03  8.437692e-03  1.435011230 -2.864883e+04 -0.039188748\n",
       "44 -5.101943e-02 -3.434955e-01  0.062473830 -3.816467e+05 -0.050346702\n",
       "45 -2.990887e-01 -7.304603e-02 -0.137086343 -2.142756e-01 -0.315806651\n",
       "46 -1.400871e-02 -1.213552e-01 -0.051104710  2.256061e-01  0.132929306\n",
       "47  2.340261e-01  1.268634e-01  0.087128808  3.334819e-01  0.127555933\n",
       "48  1.956662e-01  6.170384e-02 -0.070656623 -3.685820e-02  0.126647995\n",
       "49 -4.201494e-02  7.020118e-02 -0.294305211 -3.862004e-02 -0.044202887\n",
       "50  1.325750e-01 -2.265659e-03 -0.082940477  1.031593e-02 -0.004052852\n",
       "51  5.870712e-03  8.635196e-02  0.140321555  1.956806e-02  0.149850839\n",
       "52 -4.730434e-01  4.861206e-02 -0.014667306  2.895260e-02  0.015920175\n",
       "53 -4.255175e-02 -4.562359e-02  0.007182727 -1.358547e-01 -0.285016630\n",
       "54  4.813830e-02  7.911040e-02  0.101357278 -1.271801e-01 -0.006688091\n",
       "55  6.235001e-02 -8.593332e-02 -0.030215557  8.162947e-02  0.051118369\n",
       "56 -7.686620e-02 -2.931952e-02 -0.058830147  6.129939e-02 -0.040972181\n",
       "57  1.453937e-01  8.856123e-02 -0.015084151  1.364331e-01  0.208368406\n",
       "58 -2.996815e-01  2.536022e-01  0.100917677 -5.822735e-02  0.155794479\n",
       "59 -1.455521e-01 -1.491387e-02  0.112657074 -3.720700e-03 -0.038120251\n",
       "60 -1.004343e-01 -2.384295e-02 -0.102817587  2.619606e-01 -0.028380786\n",
       "61  1.622450e-01 -1.028679e-01 -0.081019341  9.867089e-02 -0.142735956\n",
       "62 -3.096092e-02  1.507743e-01 -0.487854674 -2.891186e-02  0.211011493\n",
       "63  4.082055e-02 -2.456136e-01  0.188465787  2.565671e-01 -0.092592866\n",
       "64  6.046724e-02  1.409666e-01 -0.112338435  5.818335e-02  0.108739403\n",
       "65  3.017499e-02 -9.705188e-02  0.058836191  6.650482e-02  0.137633300\n",
       "66  1.384374e-01 -2.224588e-01 -0.007672148 -1.085361e-01 -0.116775641\n",
       "67  9.656644e-02 -1.160787e-01  0.196612492 -5.015593e-03 -0.009173767\n",
       "68 -5.126499e-02  9.958250e-02  0.324394918 -4.095973e-02 -0.160058602\n",
       "69 -2.047961e-01  6.976829e-03  0.097952458 -3.852037e-02  0.020748923\n",
       "70  1.024099e-01  1.652031e-02 -0.004438733 -4.667767e-02  0.310765430\n",
       "71 -1.481545e-01  1.250681e-01 -0.158819966  5.678224e-01 -0.063441487\n",
       "72 -8.511775e-02  1.253680e-01  0.063327844 -1.427114e-01  0.199580903\n",
       "73 -9.937419e-02  1.134394e-02 -0.041204913 -4.924448e-02 -0.096943432\n",
       "74  4.031874e-02 -2.277215e-02 -0.134800026  5.692439e-02  0.182640789\n",
       "75 -1.636490e-01  1.337081e-01 -0.096538120  2.846140e-02  0.042681932\n",
       "76  7.472716e-02  2.771712e-02  0.080445871  1.439926e-01 -0.068904333\n",
       "77 -4.442761e-02 -6.097804e-02 -0.130694526  1.151576e-01  0.104160622\n",
       "78  1.430541e-01 -1.971678e-01 -0.101089691  1.068943e-01 -0.172391640\n",
       "79 -1.732655e-02 -1.902860e-01  0.292523224  1.109490e-02  0.096041921\n",
       "80  9.690886e-02 -1.175455e-01 -0.128802274  9.238574e-02  0.393694702\n",
       "81  1.801117e-01 -1.016768e-01  0.152558079  1.454390e-01 -0.076338422\n",
       "82  1.470800e-01  3.323960e-01  0.085734527  1.407549e-01 -0.211754287\n",
       "83  1.476914e-02 -9.947587e-02 -0.050993458 -5.007681e-03 -0.110487697\n",
       "84  7.816149e-02 -8.615132e-02 -0.111316806  6.082190e-02 -0.043097724\n",
       "85 -1.746758e-01 -1.889551e-01  0.126658301  8.036324e-03 -0.066688774\n",
       "86  6.998500e-02  2.435733e-02 -0.012480501 -1.374448e-01  0.054569148\n",
       "87  1.634046e-01  2.715237e-01 -0.257494337 -1.667280e-01 -0.076528975\n",
       "88 -8.616011e-02  1.204361e-01 -0.114368807  9.048444e-03  0.277087092\n",
       "89  4.631095e-02  1.242077e-01 -0.114570918  8.479489e-02  0.238654438\n",
       "90  2.337108e-01  4.735319e-02 -0.025892924 -2.175959e-01 -0.058686344\n",
       "         pop1565       pop6565         sec65        secm65        secf65\n",
       "1  -3.5590591791 -5.613818e-01 -1.453193e+02 -1.576912e+02 -1.330444e+02\n",
       "2  -0.6734673879  2.656483e-01  8.320153e+01  7.142418e+01  9.470543e+01\n",
       "3  -0.0362853584  1.938083e-02 -5.168739e+00 -8.390494e-01 -9.053442e+00\n",
       "4   0.1261236161 -9.291799e-02  2.080069e+01  1.587474e+01  2.547231e+01\n",
       "5  -0.0901432581  2.708375e-02  3.564981e+00  2.068935e+00  5.434300e+00\n",
       "6  -0.1353505681  5.730894e-02  3.842643e+01  3.487297e+01  4.174380e+01\n",
       "7   0.0543041520 -7.996572e-03 -2.437211e+01 -2.365434e+01 -2.512819e+01\n",
       "8   0.0060421226 -6.315685e-03 -3.097162e+00  1.746939e+00 -7.985268e+00\n",
       "9  -0.0004201105 -7.777762e-03  3.979451e+00  8.501828e+00 -7.785267e-02\n",
       "10 -0.0551094687  3.489955e-05  7.149989e-02 -4.695590e+00  4.976023e+00\n",
       "11  0.0535251239 -3.274502e-02  5.321098e+00  4.064147e+00  6.858299e+00\n",
       "12 -0.2143863096  6.882406e-02  4.162852e+01  4.425024e+01  3.877621e+01\n",
       "13 -0.0444118814 -1.882191e-02 -2.219613e+00  2.388286e+00 -6.847810e+00\n",
       "14  0.1286824483 -3.386462e-02  9.715112e-01  1.594248e+00  3.766220e-01\n",
       "15 -0.3691711027  9.322818e-02 -3.258281e+00 -2.166621e+00 -4.113176e+00\n",
       "16 -0.0682718008  1.334341e-02 -7.429501e-01 -6.971572e-01 -4.152683e-01\n",
       "17  0.0079988741 -4.629305e-04 -1.024351e+01 -1.375337e+01 -6.817539e+00\n",
       "18  0.1511319244 -9.597036e-02 -1.730228e+00  2.478590e+00 -5.985576e+00\n",
       "19  0.1191625967 -3.808470e-02  6.142754e+00  7.963539e+00  3.985237e+00\n",
       "20  0.0819779276 -4.715065e-02 -1.036133e+01 -7.838583e+00 -1.276607e+01\n",
       "21 -0.0156665222  7.695082e-03 -5.688088e+00 -7.166953e+00 -4.181077e+00\n",
       "22  0.0227981793  1.530364e-03  1.974314e+01  1.664627e+01  2.295718e+01\n",
       "23 -0.0157786915  4.064806e-03 -3.373995e+00 -1.234411e+00 -5.542911e+00\n",
       "24 -0.0424861575  1.740839e-02 -8.947863e+00 -5.560240e+00 -1.228513e+01\n",
       "25  0.0365070491 -3.606612e-02 -2.242232e+00 -1.255213e+00 -2.834451e+00\n",
       "26  0.0185774686 -1.137784e-02 -1.494499e+01 -1.307162e+01 -1.700575e+01\n",
       "27  0.0010692787 -3.257320e-02  9.627158e+00  1.830094e+01  1.082868e+00\n",
       "28 -0.0280736737  2.892172e-02 -1.462211e+01 -1.500712e+01 -1.426739e+01\n",
       "29  0.0112536833 -7.919830e-03  1.196610e-01 -2.841253e+00  2.910339e+00\n",
       "30 -0.0230701926  3.241352e-02 -1.518469e+01 -1.845694e+01 -1.151003e+01\n",
       "31  0.0351510865 -7.585567e-03  1.070762e+01  1.178190e+01  9.452913e+00\n",
       "32  0.0015242996  7.422458e-03 -4.112345e+00 -8.208520e+00 -2.649089e-01\n",
       "33  0.0024150310  1.324532e-02 -2.460856e+00  1.084304e+00 -5.881166e+00\n",
       "34 -0.0308275991  1.544689e-02  3.235403e+01  3.526999e+01  2.949873e+01\n",
       "35 -0.0042803047 -4.301629e-03 -1.389095e+00  7.388761e+00 -9.766323e+00\n",
       "36  0.0026330802  1.699205e-02 -2.186981e-01  2.120379e+00 -1.429657e+00\n",
       "37  0.0310938272 -3.491215e-02  9.836671e-01  2.840978e+00 -8.974848e-01\n",
       "38  0.0107247043 -1.177630e-02  8.571351e+00  8.116880e+00  8.950899e+00\n",
       "39  0.0102392926 -5.136703e-03 -7.009147e+00 -9.521121e+00 -4.528534e+00\n",
       "40 -0.0024289471 -2.350156e-03 -1.166334e+01 -9.899813e+00 -1.342728e+01\n",
       "41 -0.0086477360  4.637113e-05 -3.805626e+00  2.870560e+00 -1.018755e+01\n",
       "42 -0.0038124254 -8.808971e-03  3.017139e-01  2.163067e+00 -1.261233e+00\n",
       "43  0.0108466559 -1.084529e-02  5.249429e+00  6.585613e+00  4.058302e+00\n",
       "44  0.0281365640 -2.415395e-02  6.286868e+00  8.885451e+00  3.685859e+00\n",
       "45  0.0229803217 -8.496676e-03  9.406269e-01  2.778706e+00 -8.384267e-01\n",
       "46  0.0972051051 -4.420268e-02  1.267196e+00  1.366784e+00  1.214586e+00\n",
       "47 -0.0764249359  5.961062e-02 -6.496159e+00 -6.774171e+00 -6.279841e+00\n",
       "48  0.2058370042  3.278204e-02 -2.754486e+01 -2.771004e+01 -2.728839e+01\n",
       "49 -0.0754455023  1.393482e-01 -9.302448e-02 -4.283389e+00  4.078106e+00\n",
       "50 -0.4107590851 -2.683173e-01  3.558720e-02  1.745141e-01 -3.657307e-01\n",
       "51  0.1140965127 -3.335064e-02 -1.827006e-01  9.926717e-03  2.684024e-02\n",
       "52  0.0448049011  1.834204e-01  1.169933e-01 -9.289642e-02  9.902517e-02\n",
       "53 -0.1540758115  5.030474e-02 -3.142755e-01  1.337227e-01 -2.213420e-01\n",
       "54 -0.2898310469  3.751154e-02 -1.728701e-01  2.068358e-02 -1.481117e-02\n",
       "55 -0.0843308482 -1.195843e-01  1.789354e-01  5.761700e-02  4.994489e-02\n",
       "56 -0.0039833437 -7.552263e-02  2.328484e-01 -1.633867e-01  5.425149e-02\n",
       "57 -0.2985461290 -2.337441e-01  1.103386e-01  9.847390e-02 -1.370013e-01\n",
       "58 -0.0853117935  2.107308e-02 -8.885239e-02 -1.141950e-02 -9.663707e-03\n",
       "59  0.0025424468 -6.387597e-02  9.919881e-03 -1.689435e-02  7.100982e-02\n",
       "60  0.1095073762  1.687017e-01  2.342947e-01 -1.433564e-01  1.694882e-01\n",
       "61 -0.0300558810 -4.203843e-02 -3.123258e-02 -1.522281e-01 -5.980300e-02\n",
       "62 -0.0232968745 -1.267772e-01  1.068423e-01  1.074131e-01  1.260322e-01\n",
       "63  0.0625002016  1.691834e-01 -4.344458e-02  2.190481e-01 -1.832903e-01\n",
       "64  0.0246727594  3.100166e-03  7.986268e-02 -3.052716e-01  6.167050e-02\n",
       "65 -0.0126038286 -1.753837e-02  3.993130e-02 -2.337350e-01  1.411435e-01\n",
       "66  0.2130045467 -1.890461e-01  4.327563e-02 -1.318468e-01 -9.553881e-02\n",
       "67  0.1205301622 -7.698496e-02 -1.990943e-01  1.692134e-01  1.445106e-01\n",
       "68 -0.2770116212  7.097557e-02  2.702228e-02 -1.524051e-01  1.612940e-01\n",
       "69 -0.1078155357 -3.514601e-01  2.099628e-01  1.873865e-01 -5.398323e-01\n",
       "70 -0.0577386498  1.468874e-01  1.693886e-01  3.530556e-02  2.094686e-01\n",
       "71 -0.0455525910 -6.387960e-02  2.461373e-01  2.083254e-02 -6.272298e-02\n",
       "72  0.1079894100  3.374155e-01 -1.300163e-01  9.886103e-02  1.593691e-01\n",
       "73 -0.1622471290  6.503293e-02  1.507477e-01  2.216944e-02 -1.748815e-01\n",
       "74  0.0544590915  1.044959e-01 -1.759018e-01  2.837641e-01 -8.039771e-02\n",
       "75 -0.1428602050  4.136319e-02 -8.428693e-02 -1.336328e-01  2.051170e-01\n",
       "76  0.1003059194 -5.809391e-02  5.638412e-02 -2.686999e-02  1.502800e-01\n",
       "77  0.3212315992  1.731398e-01 -9.118390e-02  6.438718e-02 -1.941231e-01\n",
       "78  0.0186236254  2.870758e-01  1.629343e-01 -9.036487e-03 -1.130965e-01\n",
       "79  0.1950618568 -2.595810e-03 -1.322970e-01  6.422883e-02 -1.059728e-01\n",
       "80  0.1801627938  2.622809e-02 -1.721457e-01 -2.625846e-01 -2.286580e-01\n",
       "81  0.0639130716 -1.759548e-01 -3.931992e-02 -3.058509e-01 -1.398895e-01\n",
       "82 -0.0634363620 -7.826202e-02 -7.076407e-02  1.734036e-01 -5.995826e-02\n",
       "83  0.2721108925 -1.910805e-01 -8.861504e-02 -1.223607e-01  3.609956e-02\n",
       "84 -0.1023888835 -4.068900e-02 -1.509919e-01 -3.065103e-01 -1.291322e-01\n",
       "85  0.1373114780 -1.382628e-01  2.991008e-01 -4.860103e-02  2.997279e-02\n",
       "86  0.1112657182  1.273494e-01  9.853294e-02  4.965714e-03 -9.610741e-02\n",
       "87  0.0149346228 -9.105307e-02  3.336212e-03 -8.963044e-02  1.401404e-01\n",
       "88 -0.0455192212  9.210089e-03 -1.518376e-01  2.082174e-01  2.432669e-01\n",
       "89 -0.0014513233 -2.808156e-01 -2.556657e-01  2.057684e-01  1.820973e-01\n",
       "90 -0.0696003785 -6.756950e-02 -1.777176e-01 -4.787747e-02 -6.772502e-02\n",
       "          secc65       seccm65       seccf65        syr65       syrm65\n",
       "1  -61.134205819 -63.589187376 -5.855062e+01 -8.655997230 -9.917956835\n",
       "2   38.360442017  32.049327767  4.447253e+01  5.273209193  5.038918662\n",
       "3   -3.301549504   0.380464618 -6.663195e+00 -0.374333213 -0.151442745\n",
       "4   12.098414993   8.299703494  1.573404e+01  1.575981119  1.358621822\n",
       "5    2.349672850   1.542057371  3.253705e+00  0.473125332  0.494219591\n",
       "6   22.002209058  19.855121452  2.397356e+01  3.299012709  3.235050421\n",
       "7   -6.422450095  -5.785546972 -7.052492e+00 -1.025985133 -1.244420576\n",
       "8   -3.194900598  -0.998270468 -5.411513e+00 -0.398115587 -0.067496484\n",
       "9    1.600207271   4.081106887 -6.814949e-01 -0.055922505  0.173571435\n",
       "10   0.452369194  -1.942733383  2.868479e+00  0.019230150 -0.217094702\n",
       "11  -1.707086974  -2.956609769 -3.787704e-01 -0.179841772 -0.240334387\n",
       "12  12.801095492  13.499092188  1.188272e+01  1.895785656  2.165963665\n",
       "13   1.883430811   4.989267112 -1.208801e+00  0.266618382  0.631283866\n",
       "14  -2.215139822  -1.934381236 -2.459529e+00 -0.487956941 -0.468517457\n",
       "15  -2.231112119  -1.837235051 -2.486028e+00 -0.229410376 -0.102843188\n",
       "16  -2.339288192  -2.567924369 -1.971138e+00 -0.009464670  0.004648020\n",
       "17  -3.240180260  -4.806853061 -1.735003e+00 -0.370408765 -0.489985152\n",
       "18  -2.843382545  -0.989244744 -4.671132e+00 -0.128348682  0.099995452\n",
       "19   1.722278568   2.564118101  6.876778e-01  0.513100909  0.632972534\n",
       "20  -3.444788305  -3.095297034 -3.807796e+00 -0.422815656 -0.308555014\n",
       "21  -3.458452896  -4.248083801 -2.673451e+00 -0.605528461 -0.679622499\n",
       "22   7.214603093   5.764832463  8.706456e+00  1.313319885  1.150044425\n",
       "23   2.024852230   3.188227530  8.577006e-01  0.040049702  0.052508311\n",
       "24  -2.210071746   0.859401347 -5.156957e+00 -0.513689523 -0.369992911\n",
       "25  -3.814955986  -3.636845065 -3.842191e+00 -0.387227598 -0.308326667\n",
       "26  -7.811904363  -9.086241486 -6.723034e+00 -0.657538816 -0.643383335\n",
       "27   4.951838534   8.414073080  1.573825e+00  0.893720951  1.384213888\n",
       "28  -6.092387867  -6.877570701 -5.340549e+00 -1.667609990 -1.745283929\n",
       "29   0.527280312  -0.802200187  1.782766e+00  0.255880707 -0.152983887\n",
       "30  -7.580874085 -10.034712994 -5.042218e+00 -0.658904408 -0.817376747\n",
       "31  11.070778996  12.258533986  9.778483e+00  0.628781713  0.682405077\n",
       "32   1.264376304  -1.257525512  3.635296e+00  0.481658583  0.296528709\n",
       "33   1.317822813   3.903283803 -1.155953e+00  0.270843104  0.531341342\n",
       "34  16.210276739  18.325389472  1.417189e+01  1.133535919  1.249956890\n",
       "35   2.547895812   6.944491232 -1.674044e+00  0.392174863  0.868578002\n",
       "36   1.424358749   2.993819671  4.517081e-01 -0.013630160  0.092417015\n",
       "37  -0.294228076   0.056228255 -7.037687e-01 -0.159916503 -0.128968793\n",
       "38   1.124766074   0.457740225  1.742338e+00  0.291126068  0.271469648\n",
       "39  -8.328908679 -10.362911631 -6.338117e+00 -0.485102799 -0.620434182\n",
       "40  -7.429098907  -7.890637508 -7.044933e+00 -0.418012210 -0.377725663\n",
       "41  -1.044311476   1.427965275 -3.350748e+00 -0.058946296  0.258954127\n",
       "42  -0.420349943   0.557808986 -1.217108e+00 -0.046159056  0.059130175\n",
       "43   3.314197808   4.016081075  2.673483e+00  0.429746729  0.533045491\n",
       "44   3.677900843   4.948380925  2.407731e+00  0.432922971  0.607558769\n",
       "45  -0.478197394   1.226810934 -2.068797e+00 -0.132453963 -0.046777983\n",
       "46  -0.705650782  -2.412246324  9.041390e-01 -0.046246638 -0.117220885\n",
       "47  -1.976019503  -1.960797538 -1.996572e+00 -0.207773273 -0.223746990\n",
       "48 -12.915238235 -12.095130278 -1.361468e+01 -1.579912571 -1.645488302\n",
       "49   0.796211231  -1.501305702  3.018353e+00  0.010182396 -0.161322071\n",
       "50  -0.962167264  -0.231966171 -1.785791e+00 -0.101222927 -0.121350915\n",
       "51 -14.445530094 -16.195392892 -1.278124e+01 -0.446916833 -0.471279717\n",
       "52   0.091462836   3.422982596 -3.235824e+00 -0.076585911  0.017732121\n",
       "53  -0.060824329   0.360794054 -1.449285e-01  0.158284179  0.182442565\n",
       "54  -0.126430568  -0.184164679 -4.319087e-02 -0.349436623 -0.424320281\n",
       "55  -0.016689366   0.086038212  2.189448e-01  0.012563729 -0.091760785\n",
       "56  -0.082223293  -0.038814118 -3.212984e-02 -0.108632427 -0.054630761\n",
       "57   0.129823462   0.222345527 -3.797951e-01 -0.049121965 -0.148661883\n",
       "58   0.041508941   0.227451321 -1.474315e-01 -0.103976143 -0.277762542\n",
       "59   0.094365669   0.031373877 -2.947147e-07 -0.086346533  0.046863321\n",
       "60   0.278517018  -0.073662389 -3.585259e-01 -0.093483589  0.013068766\n",
       "61  -0.190926285   0.195955712  7.803453e-02  0.324363958 -0.037611148\n",
       "62  -0.056496358  -0.022306422 -1.695894e-02  0.135287364  0.049729863\n",
       "63  -0.055229107   0.011161327  5.227448e-02  0.066095682  0.037385174\n",
       "64  -0.177841302  -0.242972991 -4.029829e-01  0.151367326 -0.288569817\n",
       "65   0.034989991  -0.071951853  1.390563e-01  0.233508262 -0.007740720\n",
       "66   0.151247997   0.253699151  8.693965e-02  0.113525262  0.162715289\n",
       "67  -0.019721083  -0.092147422  6.973881e-02  0.178890592 -0.040098378\n",
       "68   0.009909199   0.018211805  1.738863e-01  0.007635140 -0.105847642\n",
       "69  -0.002973110  -0.244864730  1.934771e-01  0.046546735 -0.233919428\n",
       "70   0.203094445  -0.177902797 -1.192468e-01  0.135571518  0.085295070\n",
       "71  -0.056758700  -0.196304287 -5.354528e-02  0.164924215  0.194672172\n",
       "72  -0.097728548   0.011061971  8.825506e-02 -0.381526565 -0.081150003\n",
       "73   0.084265302  -0.068344075 -8.082649e-02 -0.221248046  0.073183985\n",
       "74   0.054585108  -0.031902290 -7.077844e-03  0.019870349 -0.015245375\n",
       "75   0.082773452  -0.243979263  1.595466e-01 -0.273614855  0.093385099\n",
       "76  -0.389827643  -0.002020334 -2.674228e-01  0.156000152  0.074993375\n",
       "77  -0.107063296   0.026298525  8.221303e-02  0.030705030 -0.002543558\n",
       "78  -0.211975481   0.087733393  1.838927e-03  0.278945314 -0.257776569\n",
       "79   0.083696635  -0.181110654  4.550777e-02  0.123013751 -0.082720983\n",
       "80   0.027095005  -0.062715252  6.110846e-02  0.063160986 -0.082293705\n",
       "81   0.038430780  -0.033562248 -2.004501e-01  0.165752485 -0.384745641\n",
       "82  -0.055539640   0.267636138  2.072524e-01 -0.147233144 -0.016530875\n",
       "83  -0.056630344   0.267100890  1.092753e-01 -0.261264742 -0.052960258\n",
       "84   0.104789639  -0.065416389 -4.716228e-02 -0.059151425  0.133621906\n",
       "85  -0.009515854  -0.207814810 -5.676139e-02  0.141070000  0.076487230\n",
       "86  -0.509429917   0.176820155  2.255564e-01 -0.273687299 -0.391277663\n",
       "87  -0.063745092   0.014310719  2.085645e-01 -0.162157815  0.103734926\n",
       "88   0.319551880   0.177869473  1.833145e-01  0.070546102 -0.421769912\n",
       "89  -0.184226945   0.150318921 -2.903346e-02 -0.003724098 -0.179496103\n",
       "90   0.126653195   0.158128922  8.159935e-02 -0.112209161 -0.110317025\n",
       "         syrf65      teapri65      teasec65           ex1          im1\n",
       "1  -7.435463462 -314.99447773 -184.16051000 -1.2710564237 -1.369477045\n",
       "2   5.526322833  -59.77001722  -15.60905493  0.4924925420  0.415838098\n",
       "3  -0.569653576  -14.35839994   -0.80549850  0.0400185231  0.063303964\n",
       "4   1.776375993  -11.10167657   -0.88869959 -0.4748461970 -0.573872818\n",
       "5   0.481376280   -3.08584705    4.59757670  0.1362929243  0.168399094\n",
       "6   3.363902142   -9.58744971    5.64347149 -0.0490789205  0.006531189\n",
       "7  -0.819378595  -16.06665002   -4.20696242  0.0367741592  0.064402911\n",
       "8  -0.723013586    6.26789858   -2.09266265 -0.0712237239 -0.004993147\n",
       "9  -0.254052063    5.96547142   14.92124959  0.0368021667  0.066521239\n",
       "10  0.266830970    2.45321868   -6.09405109 -0.0130620676 -0.016715912\n",
       "11 -0.099822506    8.24781859    2.04559092 -0.0733142696 -0.073766489\n",
       "12  1.624476896  -15.15221026   13.36741589  0.0247989415  0.111457309\n",
       "13 -0.098977611    2.78989765    9.22774680  0.0991070868  0.066629000\n",
       "14 -0.502319099   12.79726688   10.44669310 -0.0688744783 -0.061719081\n",
       "15 -0.329355712   -4.09480518   -4.88115991 -0.0126737281 -0.001031588\n",
       "16  0.004235971    2.32106337   -6.71245886 -0.1089000609 -0.083144173\n",
       "17 -0.259943526   -7.73909137   -9.52164770 -0.2689706718 -0.162334003\n",
       "18 -0.374323689    9.06230138   14.05743411  0.2833043261  0.245509381\n",
       "19  0.377279955    7.63915889   11.67828772  0.0423796977  0.099904781\n",
       "20 -0.532709361   -1.27067572   12.55873555  0.0198300858  0.052116419\n",
       "21 -0.535405559    1.91337882   -1.30663459  0.2548786909  0.307343123\n",
       "22  1.479747424    3.94412015    1.72792395  0.1966148407  0.151797184\n",
       "23  0.018622638  -13.52803026   -9.60459648  0.1920704949  0.211193147\n",
       "24 -0.657830934    0.68286302    4.36865602  0.0394605409  0.054508592\n",
       "25 -0.448511453   -4.64334328   -1.23635302 -0.0202190626 -0.027707513\n",
       "26 -0.686636588   -0.63945647   -6.50553268  0.0005684675  0.006514924\n",
       "27  0.408778835    8.06927409    3.75138698  0.0693075080  0.089323326\n",
       "28 -1.589780183   -2.95657324  -10.94249886 -0.0294843980 -0.083621685\n",
       "29  0.628920582   -4.93919821   -0.24086058  0.0816521336  0.106968387\n",
       "30 -0.443193981   -3.98976722    7.16376999 -0.2649201380 -0.287539921\n",
       "31  0.560785561    5.16405854    9.58118136  0.0366758829  0.034556213\n",
       "32  0.653917520   10.63861734   -4.70289312 -0.0212434835 -0.069291875\n",
       "33  0.021044382   -0.82016107    3.01469103  0.0218968701  0.026688450\n",
       "34  1.007590194   -6.06083643   -3.71389648 -0.0222882146 -0.005607480\n",
       "35 -0.065037223   -2.03083043    2.00199293  0.1515844592  0.121955071\n",
       "36 -0.062671943    4.97153628    0.66016822 -0.1121564458 -0.105529118\n",
       "37 -0.196001414    1.52277750    8.60913643 -0.0428698658 -0.055185706\n",
       "38  0.309390832   -9.21779651   -9.03530909  0.0103944774  0.010771517\n",
       "39 -0.352862831  -14.14607734   -2.01023166  0.0013082112 -0.020820848\n",
       "40 -0.455720955   -8.62534705   -7.19517043 -0.1978712945 -0.211954039\n",
       "41 -0.358674666   -2.15519605    1.60398892 -0.1612560105 -0.214413703\n",
       "42 -0.131619237   -8.03779603   -2.19081537 -0.0649569869 -0.046886229\n",
       "43  0.337051578  -14.64469925   -4.00404893  0.0342284599  0.014505024\n",
       "44  0.262776019   -2.08096018   -0.73943482  0.0942811485  0.120218344\n",
       "45 -0.214416083    2.94873678   -1.67971051 -0.0708927733 -0.018961358\n",
       "46  0.021512447    9.76614279    5.85230872  0.1556862888  0.177900944\n",
       "47 -0.192646261   -7.89093136   -4.79393374 -0.0574188460 -0.061011185\n",
       "48 -1.519596570    0.95595397   10.57868918 -0.0769172913 -0.090505050\n",
       "49  0.177731136    3.78654645  -11.12478917 -0.0119420658 -0.024584966\n",
       "50 -0.086847301    2.87570780   -4.21277484  0.0901218549  0.097397982\n",
       "51 -0.427091282   -8.24492180   -3.40009089  0.0789424378  0.040232408\n",
       "52 -0.163526248    0.14349772    2.02796581 -0.0970628979 -0.091527129\n",
       "53  0.125913844    7.35508476    6.69771648 -0.1025013433 -0.042331120\n",
       "54 -0.276837989    3.88508078   12.29717003 -0.0301376809 -0.041429144\n",
       "55  0.087297242   10.99914397   -1.97264221 -0.1478756688 -0.116405545\n",
       "56 -0.008898787   -0.96956047    4.48415119 -0.0351721187 -0.092719293\n",
       "57 -0.057439247   43.59470890    3.19584058 -0.1311687444 -0.126171417\n",
       "58  0.048582174   -0.18037319   27.16345190  0.0069419397  0.036797877\n",
       "59  0.113563238    0.05807287   -0.42684154 -0.3306730439 -0.290446343\n",
       "60  0.004611041   -0.11616415    0.16937312  0.0484432087 -0.124241742\n",
       "61  0.217949866   -0.10543634   -0.22706017 -0.0971621141  0.179392675\n",
       "62 -0.004381920    0.14785173   -0.04304829  0.1506222768  0.097778089\n",
       "63 -0.067867268    0.08762196    0.18278372 -0.1950520840 -0.024321161\n",
       "64 -0.001185829   -0.10442221    0.06130532  0.0043373759 -0.021444073\n",
       "65  0.031682798    0.25694399    0.06298181  0.3529909080 -0.308497159\n",
       "66  0.229348878    0.20235928    0.08394355  0.0855042732 -0.110316642\n",
       "67 -0.108595879    0.22449263   -0.01036602  0.0489376883 -0.110707032\n",
       "68 -0.071649995    0.05898440    0.02465143 -0.2412408128  0.035558683\n",
       "69  0.236314869    0.12688433    0.37194525  0.3308741765 -0.339251756\n",
       "70 -0.408010721   -0.23127877   -0.04192515  0.2597904453 -0.052184592\n",
       "71  0.008762600   -0.22911941   -0.24564258 -0.1934423803  0.175746225\n",
       "72  0.099238501   -0.03285283    0.06254682 -0.0092047727  0.134517088\n",
       "73 -0.059439681    0.07857056    0.02558644 -0.0679961204  0.389826697\n",
       "74  0.023710857   -0.34352832   -0.20301612 -0.1675632462 -0.106750342\n",
       "75 -0.053036398   -0.14375136    0.03999355 -0.1795060485 -0.037454214\n",
       "76 -0.237943532   -0.06417342   -0.02322564 -0.1002464668  0.097911182\n",
       "77  0.013926451   -0.44307551    0.26475270  0.0712828788 -0.078534063\n",
       "78 -0.149411120   -0.19424113   -0.05823380  0.3252194583  0.482117459\n",
       "79  0.029502364   -0.18271951    0.04203953 -0.3410929841  0.166579840\n",
       "80  0.221725373   -0.11170011   -0.11935878 -0.2006304836  0.003073297\n",
       "81 -0.067463339   -0.11405928    0.05982189 -0.1463338454  0.000739378\n",
       "82 -0.196733413    0.03829286    0.05781654 -0.0173398770 -0.198956407\n",
       "83  0.055175392   -0.09239349   -0.00745717 -0.1389315104  0.237971024\n",
       "84 -0.028461113   -0.05237897    0.18723342 -0.1183235724  0.214307181\n",
       "85 -0.013834761    0.22052404    0.20510043  0.2680730894  0.149730897\n",
       "86  0.070574653   -0.22252647   -0.01283793  0.1330617719  0.019715402\n",
       "87 -0.136961384    0.07591351    0.19438207 -0.0135451142 -0.079182966\n",
       "88  0.156958964   -0.04668618   -0.11333104  0.0603280598  0.137076553\n",
       "89  0.540482756   -0.22925715    0.28285847  0.0243535536 -0.045925088\n",
       "90  0.087083718   -0.03812750   -0.10261322 -0.1215903722 -0.029880196\n",
       "            xr65          tot1\n",
       "1  -4.047449e+02 -0.0876208110\n",
       "2   7.601391e+01  0.0214098619\n",
       "3   1.198082e+02  0.1237498721\n",
       "4  -3.194284e+01 -0.0298193511\n",
       "5   1.132250e+02 -0.0841096261\n",
       "6   7.134700e+01 -0.0083436146\n",
       "7  -1.880401e+02  0.0470789784\n",
       "8   1.169947e+02  0.1027001379\n",
       "9   2.186356e+02  0.0399114435\n",
       "10  4.096243e+01 -0.0926564188\n",
       "11  1.349334e+02 -0.0791874995\n",
       "12  1.415715e+02 -0.1010651324\n",
       "13  1.476546e+02 -0.0776988203\n",
       "14  6.481791e+00  0.0491237094\n",
       "15  1.951325e+02 -0.1405162742\n",
       "16  2.336898e+01  0.0255105614\n",
       "17  2.961208e+01  0.1053639790\n",
       "18 -8.915431e+01  0.0571556163\n",
       "19 -1.411167e+02  0.0637183305\n",
       "20  9.498295e+01  0.0937255596\n",
       "21  2.235338e+01 -0.0154763875\n",
       "22 -1.528784e+01  0.0473006330\n",
       "23 -1.050934e+02  0.0378960986\n",
       "24 -1.271212e+02  0.0158339871\n",
       "25  2.201622e+02  0.0853364136\n",
       "26 -5.023650e+01  0.0328028034\n",
       "27  1.672008e+02  0.0540906397\n",
       "28  1.080012e+02  0.0573304826\n",
       "29 -2.348785e+02  0.0003806715\n",
       "30 -2.697384e+01 -0.0238564005\n",
       "31 -1.359995e+02 -0.0230239180\n",
       "32  1.110270e+02 -0.0746532370\n",
       "33 -1.846731e+01 -0.0105340857\n",
       "34 -1.187684e+02  0.0453787585\n",
       "35  7.951819e+01  0.0786698551\n",
       "36  5.153641e+01  0.0748117481\n",
       "37  2.232648e+02  0.0274857013\n",
       "38  2.390828e+01 -0.0948364721\n",
       "39 -1.863737e+02  0.1179380793\n",
       "40  1.804837e+02 -0.0380252608\n",
       "41  1.154490e+02 -0.0577416340\n",
       "42  1.941379e+02  0.0021627929\n",
       "43 -4.118980e+01 -0.0049553968\n",
       "44 -7.238547e+01  0.0042072387\n",
       "45 -3.651178e+01  0.0607648496\n",
       "46 -1.325881e+02  0.0435690653\n",
       "47 -6.794543e+01  0.0205767249\n",
       "48 -1.694681e+02  0.0233578443\n",
       "49 -1.999883e+02 -0.0695763507\n",
       "50 -1.682411e+02  0.0549548090\n",
       "51 -6.255889e+01 -0.0503282470\n",
       "52  2.569037e+02  0.0055446388\n",
       "53  6.834770e+01  0.0412674928\n",
       "54 -1.242214e+02 -0.1070727560\n",
       "55  3.889938e+01 -0.0251160238\n",
       "56  2.532362e+01  0.0608478945\n",
       "57  5.633900e+01  0.0223452620\n",
       "58  3.661366e-01  0.0359399777\n",
       "59  5.964255e+01  0.0372667818\n",
       "60 -1.707232e+01 -0.0381485946\n",
       "61 -6.076580e+02  0.1045281348\n",
       "62  1.277865e-01  0.2730074340\n",
       "63 -1.743777e-01  0.0788193886\n",
       "64  6.643046e-02  0.0044725168\n",
       "65 -5.571258e-02 -0.0416495538\n",
       "66  1.147801e-02 -0.4349524105\n",
       "67  1.573729e-01  0.2618719444\n",
       "68 -1.285582e-01 -0.0195693502\n",
       "69 -3.690994e-01 -0.1510638329\n",
       "70  6.646274e-02 -0.1914973719\n",
       "71 -7.672525e-02 -0.0948002968\n",
       "72 -9.109612e-02 -0.1250681238\n",
       "73 -1.071318e-01  0.0088343517\n",
       "74  3.278600e-01 -0.1304808147\n",
       "75 -4.560051e-02  0.1306832744\n",
       "76 -5.903422e-02  0.1703357127\n",
       "77  1.118965e-01  0.0443054051\n",
       "78  1.662882e-01 -0.0840935552\n",
       "79 -3.707314e-02 -0.4057850088\n",
       "80 -6.246543e-04 -0.0604992325\n",
       "81 -5.593053e-02  0.1781689586\n",
       "82 -7.887807e-03  0.0772642534\n",
       "83  7.272069e-02  0.0776684262\n",
       "84  8.657033e-02  0.0130311476\n",
       "85  4.884930e-01  0.0850039306\n",
       "86 -1.121593e-01 -0.0511207957\n",
       "87 -2.629825e-01  0.4294171510\n",
       "88 -4.419028e-03  0.0674216577\n",
       "89  2.659727e-01  0.0950310649\n",
       "90  4.198220e-01  0.3963425921\n",
       "attr(,\"assign\")\n",
       " [1]  0  1  2  3  4  5  6  7  8  9 10 11 12 13 14 15 16 17 18 19 20 21 22 23 24\n",
       "[26] 25 26 27 28 29 30 31 32 33 34 35 36 37 38 39 40 41 42 43 44 45 46 47 48 49\n",
       "[51] 50 51 52 53 54 55 56 57 58 59 60 61\n",
       "\n",
       "$qraux\n",
       " [1] 1.105409 1.090738 1.019010 1.056067 1.008329 1.032496 1.027254 1.032528\n",
       " [9] 1.032105 1.083540 1.045379 1.131395 1.067304 1.009168 1.080607 1.212556\n",
       "[17] 1.108565 1.019370 1.146787 1.195271 1.275848 1.051124 1.020372 1.075090\n",
       "[25] 1.052578 1.107482 1.400304 1.061337 1.224636 1.044238 1.142150 1.141488\n",
       "[33] 1.209432 1.010573 1.026202 1.108806 1.095007 1.010618 1.379033 1.150449\n",
       "[41] 1.050020 1.343433 1.035454 1.036704 1.126785 1.052998 1.262637 1.189651\n",
       "[49] 1.166318 1.034950 1.198419 1.010931 1.081932 1.095029 1.007807 1.308323\n",
       "[57] 1.017141 1.351455 1.119492 1.189273 1.007287 1.019961\n",
       "\n",
       "$pivot\n",
       " [1]  1  2  3  4  5  6  7  8  9 10 11 12 13 14 15 16 17 18 19 20 21 22 23 24 25\n",
       "[26] 26 27 28 29 30 31 32 33 34 35 36 37 38 39 40 41 42 43 44 45 46 47 48 49 50\n",
       "[51] 51 52 53 54 55 56 57 58 59 60 61 62\n",
       "\n",
       "$tol\n",
       "[1] 1e-07\n",
       "\n",
       "$rank\n",
       "[1] 62\n",
       "\n",
       "attr(,\"class\")\n",
       "[1] \"qr\""
      ]
     },
     "metadata": {},
     "output_type": "display_data"
    }
   ],
   "source": [
    "stats:::qr.lm(object)"
   ]
  },
  {
   "cell_type": "code",
   "execution_count": 340,
   "metadata": {
    "vscode": {
     "languageId": "r"
    }
   },
   "outputs": [],
   "source": [
    "correlation = FALSE; symbolic.cor = FALSE\n",
    "\n",
    "z <- object\n",
    "p <- z$rank\n",
    "rdf <- z$df.residual\n",
    "if (p == 0) {\n",
    "    r <- z$residuals\n",
    "    n <- length(r)\n",
    "    w <- z$weights\n",
    "    if (is.null(w)) {\n",
    "        rss <- sum(r^2)\n",
    "    } else {\n",
    "        rss <- sum(w * r^2)\n",
    "        r <- sqrt(w) * r\n",
    "    }\n",
    "    resvar <- rss/rdf\n",
    "    ans <- z[c(\"call\", \"terms\", if(!is.null(z$weights)) \"weights\")]\n",
    "    class(ans) <- \"summary.lm\"\n",
    "    ans$aliased <- is.na(coef(object))  # used in print method\n",
    "    ans$residuals <- r\n",
    "    ans$df <- c(0L, n, length(ans$aliased))\n",
    "    ans$coefficients <- matrix(NA, 0L, 4L)\n",
    "    dimnames(ans$coefficients) <-\n",
    "        list(NULL, c(\"Estimate\", \"Std. Error\", \"t value\", \"Pr(>|t|)\"))\n",
    "    ans$sigma <- sqrt(resvar)\n",
    "    ans$r.squared <- ans$adj.r.squared <- 0\n",
    "    return(ans)\n",
    "}\n",
    "if (is.null(z$terms))\n",
    "stop(\"invalid 'lm' object:  no 'terms' component\")\n",
    "if(!inherits(object, \"lm\"))\n",
    "warning(\"calling summary.lm(<fake-lm-object>) ...\")\n",
    "Qr <- stats:::qr.lm(object)\n",
    "n <- NROW(Qr$qr)\n",
    "if(is.na(z$df.residual) || n - p != z$df.residual)\n",
    "    warning(\"residual degrees of freedom in object suggest this is not an \\\"lm\\\" fit\")\n",
    "## do not want missing values substituted here\n",
    "r <- z$residuals\n",
    "f <- z$fitted.values\n",
    "w <- z$weights\n",
    "if (is.null(w)) {\n",
    "    mss <- if (attr(z$terms, \"intercept\"))\n",
    "        sum((f - mean(f))^2) else sum(f^2)\n",
    "    rss <- sum(r^2)\n",
    "} else {\n",
    "    mss <- if (attr(z$terms, \"intercept\")) {\n",
    "        m <- sum(w * f /sum(w))\n",
    "        sum(w * (f - m)^2)\n",
    "    } else sum(w * f^2)\n",
    "    rss <- sum(w * r^2)\n",
    "    r <- sqrt(w) * r\n",
    "}\n",
    "resvar <- rss/rdf\n",
    "## see thread at https://stat.ethz.ch/pipermail/r-help/2014-March/367585.html\n",
    "if (is.finite(resvar) &&\n",
    "    resvar < (mean(f)^2 + var(f)) * 1e-30)  # a few times .Machine$double.eps^2\n",
    "    warning(\"essentially perfect fit: summary may be unreliable\")\n",
    "p1 <- 1L:p\n",
    "R <- chol2inv(Qr$qr[p1, p1, drop = FALSE])\n",
    "se <- sqrt(diag(R) * resvar)"
   ]
  },
  {
   "cell_type": "code",
   "execution_count": 336,
   "metadata": {
    "vscode": {
     "languageId": "r"
    }
   },
   "outputs": [],
   "source": [
    "object = ls.effect\n",
    "z <- object\n",
    "p <- z$rank\n",
    "rdf <- z$df.residual\n",
    "r <- z$residuals"
   ]
  },
  {
   "cell_type": "code",
   "execution_count": 5,
   "metadata": {
    "vscode": {
     "languageId": "r"
    }
   },
   "outputs": [
    {
     "data": {
      "text/html": [
       "<table class=\"dataframe\">\n",
       "<caption>A matrix: 62 × 4 of type dbl</caption>\n",
       "<thead>\n",
       "\t<tr><th></th><th scope=col>Estimate</th><th scope=col>Std. Error</th><th scope=col>t value</th><th scope=col>Pr(&gt;|t|)</th></tr>\n",
       "</thead>\n",
       "<tbody>\n",
       "\t<tr><th scope=row>(Intercept)</th><td> 0.247160893</td><td>0.78450163</td><td> 0.31505466</td><td>0.755056170</td></tr>\n",
       "\t<tr><th scope=row>gdpsh465</th><td>-0.009377989</td><td>0.02988773</td><td>-0.31377391</td><td>0.756018518</td></tr>\n",
       "\t<tr><th scope=row>bmp1l</th><td>-0.068862679</td><td>0.03253065</td><td>-2.11685513</td><td>0.043289718</td></tr>\n",
       "\t<tr><th scope=row>freeop</th><td> 0.080068974</td><td>0.20786400</td><td> 0.38519885</td><td>0.703000838</td></tr>\n",
       "\t<tr><th scope=row>freetar</th><td>-0.488962605</td><td>0.41816285</td><td>-1.16931143</td><td>0.252136477</td></tr>\n",
       "\t<tr><th scope=row>h65</th><td>-2.362098638</td><td>0.85729167</td><td>-2.75530338</td><td>0.010192435</td></tr>\n",
       "\t<tr><th scope=row>hm65</th><td> 0.707143400</td><td>0.52314511</td><td> 1.35171560</td><td>0.187285919</td></tr>\n",
       "\t<tr><th scope=row>hf65</th><td> 1.693448425</td><td>0.50318881</td><td> 3.36543337</td><td>0.002232683</td></tr>\n",
       "\t<tr><th scope=row>p65</th><td> 0.265526695</td><td>0.16429407</td><td> 1.61616729</td><td>0.117271229</td></tr>\n",
       "\t<tr><th scope=row>pm65</th><td> 0.136952626</td><td>0.15121749</td><td> 0.90566657</td><td>0.372840111</td></tr>\n",
       "\t<tr><th scope=row>pf65</th><td>-0.331266948</td><td>0.16512299</td><td>-2.00618303</td><td>0.054583866</td></tr>\n",
       "\t<tr><th scope=row>s65</th><td> 0.039079306</td><td>0.18552248</td><td> 0.21064459</td><td>0.834690082</td></tr>\n",
       "\t<tr><th scope=row>sm65</th><td>-0.030668507</td><td>0.11679396</td><td>-0.26258642</td><td>0.794791807</td></tr>\n",
       "\t<tr><th scope=row>sf65</th><td>-0.179917280</td><td>0.11809892</td><td>-1.52344556</td><td>0.138863011</td></tr>\n",
       "\t<tr><th scope=row>fert65</th><td> 0.006880834</td><td>0.02705142</td><td> 0.25436128</td><td>0.801075252</td></tr>\n",
       "\t<tr><th scope=row>mort65</th><td>-0.233454503</td><td>0.81742198</td><td>-0.28559852</td><td>0.777287824</td></tr>\n",
       "\t<tr><th scope=row>lifee065</th><td>-0.014914473</td><td>0.19333559</td><td>-0.07714292</td><td>0.939058459</td></tr>\n",
       "\t<tr><th scope=row>gpop1</th><td> 0.970184579</td><td>1.81220835</td><td> 0.53536039</td><td>0.596627593</td></tr>\n",
       "\t<tr><th scope=row>fert1</th><td> 0.008838189</td><td>0.03504148</td><td> 0.25222077</td><td>0.802712696</td></tr>\n",
       "\t<tr><th scope=row>mort1</th><td> 0.066562928</td><td>0.68481002</td><td> 0.09719911</td><td>0.923260701</td></tr>\n",
       "\t<tr><th scope=row>invsh41</th><td> 0.074461126</td><td>0.10844692</td><td> 0.68661354</td><td>0.497973611</td></tr>\n",
       "\t<tr><th scope=row>geetot1</th><td>-0.715104906</td><td>1.68013567</td><td>-0.42562331</td><td>0.673636102</td></tr>\n",
       "\t<tr><th scope=row>geerec1</th><td> 0.630004630</td><td>2.44737848</td><td> 0.25742019</td><td>0.798736842</td></tr>\n",
       "\t<tr><th scope=row>gde1</th><td>-0.443575219</td><td>1.67120674</td><td>-0.26542211</td><td>0.792628757</td></tr>\n",
       "\t<tr><th scope=row>govwb1</th><td> 0.337452364</td><td>0.43798695</td><td> 0.77046214</td><td>0.447478336</td></tr>\n",
       "\t<tr><th scope=row>govsh41</th><td> 0.463174632</td><td>1.92543733</td><td> 0.24055555</td><td>0.811652246</td></tr>\n",
       "\t<tr><th scope=row>gvxdxe41</th><td>-0.793381582</td><td>2.05939737</td><td>-0.38524939</td><td>0.702963815</td></tr>\n",
       "\t<tr><th scope=row>high65</th><td>-0.752483828</td><td>0.90572159</td><td>-0.83081141</td><td>0.413108816</td></tr>\n",
       "\t<tr><th scope=row>highm65</th><td>-0.390261804</td><td>0.68124930</td><td>-0.57286195</td><td>0.571310302</td></tr>\n",
       "\t<tr><th scope=row>highf65</th><td>-0.417748705</td><td>0.56149048</td><td>-0.74399963</td><td>0.463075062</td></tr>\n",
       "\t<tr><th scope=row>⋮</th><td>⋮</td><td>⋮</td><td>⋮</td><td>⋮</td></tr>\n",
       "\t<tr><th scope=row>highcf65</th><td> 3.920771e-01</td><td>7.660246e-01</td><td> 0.51183360</td><td>0.61278088</td></tr>\n",
       "\t<tr><th scope=row>human65</th><td> 2.337269e+00</td><td>3.307269e+00</td><td> 0.70670678</td><td>0.48558873</td></tr>\n",
       "\t<tr><th scope=row>humanm65</th><td>-1.209249e+00</td><td>1.618516e+00</td><td>-0.74713475</td><td>0.46121072</td></tr>\n",
       "\t<tr><th scope=row>humanf65</th><td>-1.103947e+00</td><td>1.684693e+00</td><td>-0.65528075</td><td>0.51763499</td></tr>\n",
       "\t<tr><th scope=row>hyr65</th><td> 5.491388e+01</td><td>2.388729e+01</td><td> 2.29887430</td><td>0.02918450</td></tr>\n",
       "\t<tr><th scope=row>hyrm65</th><td> 1.293505e+01</td><td>2.317142e+01</td><td> 0.55823278</td><td>0.58112223</td></tr>\n",
       "\t<tr><th scope=row>hyrf65</th><td> 9.092580e+00</td><td>1.766958e+01</td><td> 0.51458948</td><td>0.61087820</td></tr>\n",
       "\t<tr><th scope=row>no65</th><td> 3.720986e-02</td><td>1.319733e-01</td><td> 0.28194994</td><td>0.78005541</td></tr>\n",
       "\t<tr><th scope=row>nom65</th><td>-2.119769e-02</td><td>6.495975e-02</td><td>-0.32632032</td><td>0.74660861</td></tr>\n",
       "\t<tr><th scope=row>nof65</th><td>-1.685782e-02</td><td>6.700258e-02</td><td>-0.25159954</td><td>0.80318810</td></tr>\n",
       "\t<tr><th scope=row>pinstab1</th><td>-4.997113e-02</td><td>3.092081e-02</td><td>-1.61610019</td><td>0.11728579</td></tr>\n",
       "\t<tr><th scope=row>pop65</th><td> 1.031796e-07</td><td>1.317950e-07</td><td> 0.78287929</td><td>0.44026959</td></tr>\n",
       "\t<tr><th scope=row>worker65</th><td> 3.407897e-02</td><td>1.561909e-01</td><td> 0.21818786</td><td>0.82886516</td></tr>\n",
       "\t<tr><th scope=row>pop1565</th><td>-4.655346e-01</td><td>4.713340e-01</td><td>-0.98769582</td><td>0.33176044</td></tr>\n",
       "\t<tr><th scope=row>pop6565</th><td>-1.357450e+00</td><td>6.349424e-01</td><td>-2.13791049</td><td>0.04139326</td></tr>\n",
       "\t<tr><th scope=row>sec65</th><td>-1.089278e-02</td><td>3.076618e-01</td><td>-0.03540506</td><td>0.97200796</td></tr>\n",
       "\t<tr><th scope=row>secm65</th><td> 3.343664e-03</td><td>1.511923e-01</td><td> 0.02211530</td><td>0.98251284</td></tr>\n",
       "\t<tr><th scope=row>secf65</th><td>-2.304329e-03</td><td>1.579715e-01</td><td>-0.01458699</td><td>0.98846512</td></tr>\n",
       "\t<tr><th scope=row>secc65</th><td>-4.915284e-01</td><td>7.290408e-01</td><td>-0.67421246</td><td>0.50570489</td></tr>\n",
       "\t<tr><th scope=row>seccm65</th><td> 2.596016e-01</td><td>3.556533e-01</td><td> 0.72992873</td><td>0.47149686</td></tr>\n",
       "\t<tr><th scope=row>seccf65</th><td> 2.206524e-01</td><td>3.733333e-01</td><td> 0.59103325</td><td>0.55923950</td></tr>\n",
       "\t<tr><th scope=row>syr65</th><td>-7.555807e-01</td><td>7.976763e+00</td><td>-0.09472273</td><td>0.92520970</td></tr>\n",
       "\t<tr><th scope=row>syrm65</th><td> 3.109007e-01</td><td>3.896731e+00</td><td> 0.07978502</td><td>0.93697576</td></tr>\n",
       "\t<tr><th scope=row>syrf65</th><td> 7.592811e-01</td><td>4.110634e+00</td><td> 0.18471143</td><td>0.85478676</td></tr>\n",
       "\t<tr><th scope=row>teapri65</th><td> 3.954523e-05</td><td>7.700406e-04</td><td> 0.05135474</td><td>0.95940747</td></tr>\n",
       "\t<tr><th scope=row>teasec65</th><td> 2.496674e-04</td><td>1.171230e-03</td><td> 0.21316678</td><td>0.83274136</td></tr>\n",
       "\t<tr><th scope=row>ex1</th><td>-5.804081e-01</td><td>2.418472e-01</td><td>-2.39989593</td><td>0.02329485</td></tr>\n",
       "\t<tr><th scope=row>im1</th><td> 5.914450e-01</td><td>2.502978e-01</td><td> 2.36296558</td><td>0.02530892</td></tr>\n",
       "\t<tr><th scope=row>xr65</th><td>-1.037768e-04</td><td>5.416760e-05</td><td>-1.91584652</td><td>0.06564690</td></tr>\n",
       "\t<tr><th scope=row>tot1</th><td>-1.279011e-01</td><td>1.125951e-01</td><td>-1.13593842</td><td>0.26561200</td></tr>\n",
       "</tbody>\n",
       "</table>\n"
      ],
      "text/latex": [
       "A matrix: 62 × 4 of type dbl\n",
       "\\begin{tabular}{r|llll}\n",
       "  & Estimate & Std. Error & t value & Pr(>\\textbar{}t\\textbar{})\\\\\n",
       "\\hline\n",
       "\t(Intercept) &  0.247160893 & 0.78450163 &  0.31505466 & 0.755056170\\\\\n",
       "\tgdpsh465 & -0.009377989 & 0.02988773 & -0.31377391 & 0.756018518\\\\\n",
       "\tbmp1l & -0.068862679 & 0.03253065 & -2.11685513 & 0.043289718\\\\\n",
       "\tfreeop &  0.080068974 & 0.20786400 &  0.38519885 & 0.703000838\\\\\n",
       "\tfreetar & -0.488962605 & 0.41816285 & -1.16931143 & 0.252136477\\\\\n",
       "\th65 & -2.362098638 & 0.85729167 & -2.75530338 & 0.010192435\\\\\n",
       "\thm65 &  0.707143400 & 0.52314511 &  1.35171560 & 0.187285919\\\\\n",
       "\thf65 &  1.693448425 & 0.50318881 &  3.36543337 & 0.002232683\\\\\n",
       "\tp65 &  0.265526695 & 0.16429407 &  1.61616729 & 0.117271229\\\\\n",
       "\tpm65 &  0.136952626 & 0.15121749 &  0.90566657 & 0.372840111\\\\\n",
       "\tpf65 & -0.331266948 & 0.16512299 & -2.00618303 & 0.054583866\\\\\n",
       "\ts65 &  0.039079306 & 0.18552248 &  0.21064459 & 0.834690082\\\\\n",
       "\tsm65 & -0.030668507 & 0.11679396 & -0.26258642 & 0.794791807\\\\\n",
       "\tsf65 & -0.179917280 & 0.11809892 & -1.52344556 & 0.138863011\\\\\n",
       "\tfert65 &  0.006880834 & 0.02705142 &  0.25436128 & 0.801075252\\\\\n",
       "\tmort65 & -0.233454503 & 0.81742198 & -0.28559852 & 0.777287824\\\\\n",
       "\tlifee065 & -0.014914473 & 0.19333559 & -0.07714292 & 0.939058459\\\\\n",
       "\tgpop1 &  0.970184579 & 1.81220835 &  0.53536039 & 0.596627593\\\\\n",
       "\tfert1 &  0.008838189 & 0.03504148 &  0.25222077 & 0.802712696\\\\\n",
       "\tmort1 &  0.066562928 & 0.68481002 &  0.09719911 & 0.923260701\\\\\n",
       "\tinvsh41 &  0.074461126 & 0.10844692 &  0.68661354 & 0.497973611\\\\\n",
       "\tgeetot1 & -0.715104906 & 1.68013567 & -0.42562331 & 0.673636102\\\\\n",
       "\tgeerec1 &  0.630004630 & 2.44737848 &  0.25742019 & 0.798736842\\\\\n",
       "\tgde1 & -0.443575219 & 1.67120674 & -0.26542211 & 0.792628757\\\\\n",
       "\tgovwb1 &  0.337452364 & 0.43798695 &  0.77046214 & 0.447478336\\\\\n",
       "\tgovsh41 &  0.463174632 & 1.92543733 &  0.24055555 & 0.811652246\\\\\n",
       "\tgvxdxe41 & -0.793381582 & 2.05939737 & -0.38524939 & 0.702963815\\\\\n",
       "\thigh65 & -0.752483828 & 0.90572159 & -0.83081141 & 0.413108816\\\\\n",
       "\thighm65 & -0.390261804 & 0.68124930 & -0.57286195 & 0.571310302\\\\\n",
       "\thighf65 & -0.417748705 & 0.56149048 & -0.74399963 & 0.463075062\\\\\n",
       "\t⋮ & ⋮ & ⋮ & ⋮ & ⋮\\\\\n",
       "\thighcf65 &  3.920771e-01 & 7.660246e-01 &  0.51183360 & 0.61278088\\\\\n",
       "\thuman65 &  2.337269e+00 & 3.307269e+00 &  0.70670678 & 0.48558873\\\\\n",
       "\thumanm65 & -1.209249e+00 & 1.618516e+00 & -0.74713475 & 0.46121072\\\\\n",
       "\thumanf65 & -1.103947e+00 & 1.684693e+00 & -0.65528075 & 0.51763499\\\\\n",
       "\thyr65 &  5.491388e+01 & 2.388729e+01 &  2.29887430 & 0.02918450\\\\\n",
       "\thyrm65 &  1.293505e+01 & 2.317142e+01 &  0.55823278 & 0.58112223\\\\\n",
       "\thyrf65 &  9.092580e+00 & 1.766958e+01 &  0.51458948 & 0.61087820\\\\\n",
       "\tno65 &  3.720986e-02 & 1.319733e-01 &  0.28194994 & 0.78005541\\\\\n",
       "\tnom65 & -2.119769e-02 & 6.495975e-02 & -0.32632032 & 0.74660861\\\\\n",
       "\tnof65 & -1.685782e-02 & 6.700258e-02 & -0.25159954 & 0.80318810\\\\\n",
       "\tpinstab1 & -4.997113e-02 & 3.092081e-02 & -1.61610019 & 0.11728579\\\\\n",
       "\tpop65 &  1.031796e-07 & 1.317950e-07 &  0.78287929 & 0.44026959\\\\\n",
       "\tworker65 &  3.407897e-02 & 1.561909e-01 &  0.21818786 & 0.82886516\\\\\n",
       "\tpop1565 & -4.655346e-01 & 4.713340e-01 & -0.98769582 & 0.33176044\\\\\n",
       "\tpop6565 & -1.357450e+00 & 6.349424e-01 & -2.13791049 & 0.04139326\\\\\n",
       "\tsec65 & -1.089278e-02 & 3.076618e-01 & -0.03540506 & 0.97200796\\\\\n",
       "\tsecm65 &  3.343664e-03 & 1.511923e-01 &  0.02211530 & 0.98251284\\\\\n",
       "\tsecf65 & -2.304329e-03 & 1.579715e-01 & -0.01458699 & 0.98846512\\\\\n",
       "\tsecc65 & -4.915284e-01 & 7.290408e-01 & -0.67421246 & 0.50570489\\\\\n",
       "\tseccm65 &  2.596016e-01 & 3.556533e-01 &  0.72992873 & 0.47149686\\\\\n",
       "\tseccf65 &  2.206524e-01 & 3.733333e-01 &  0.59103325 & 0.55923950\\\\\n",
       "\tsyr65 & -7.555807e-01 & 7.976763e+00 & -0.09472273 & 0.92520970\\\\\n",
       "\tsyrm65 &  3.109007e-01 & 3.896731e+00 &  0.07978502 & 0.93697576\\\\\n",
       "\tsyrf65 &  7.592811e-01 & 4.110634e+00 &  0.18471143 & 0.85478676\\\\\n",
       "\tteapri65 &  3.954523e-05 & 7.700406e-04 &  0.05135474 & 0.95940747\\\\\n",
       "\tteasec65 &  2.496674e-04 & 1.171230e-03 &  0.21316678 & 0.83274136\\\\\n",
       "\tex1 & -5.804081e-01 & 2.418472e-01 & -2.39989593 & 0.02329485\\\\\n",
       "\tim1 &  5.914450e-01 & 2.502978e-01 &  2.36296558 & 0.02530892\\\\\n",
       "\txr65 & -1.037768e-04 & 5.416760e-05 & -1.91584652 & 0.06564690\\\\\n",
       "\ttot1 & -1.279011e-01 & 1.125951e-01 & -1.13593842 & 0.26561200\\\\\n",
       "\\end{tabular}\n"
      ],
      "text/markdown": [
       "\n",
       "A matrix: 62 × 4 of type dbl\n",
       "\n",
       "| <!--/--> | Estimate | Std. Error | t value | Pr(&gt;|t|) |\n",
       "|---|---|---|---|---|\n",
       "| (Intercept) |  0.247160893 | 0.78450163 |  0.31505466 | 0.755056170 |\n",
       "| gdpsh465 | -0.009377989 | 0.02988773 | -0.31377391 | 0.756018518 |\n",
       "| bmp1l | -0.068862679 | 0.03253065 | -2.11685513 | 0.043289718 |\n",
       "| freeop |  0.080068974 | 0.20786400 |  0.38519885 | 0.703000838 |\n",
       "| freetar | -0.488962605 | 0.41816285 | -1.16931143 | 0.252136477 |\n",
       "| h65 | -2.362098638 | 0.85729167 | -2.75530338 | 0.010192435 |\n",
       "| hm65 |  0.707143400 | 0.52314511 |  1.35171560 | 0.187285919 |\n",
       "| hf65 |  1.693448425 | 0.50318881 |  3.36543337 | 0.002232683 |\n",
       "| p65 |  0.265526695 | 0.16429407 |  1.61616729 | 0.117271229 |\n",
       "| pm65 |  0.136952626 | 0.15121749 |  0.90566657 | 0.372840111 |\n",
       "| pf65 | -0.331266948 | 0.16512299 | -2.00618303 | 0.054583866 |\n",
       "| s65 |  0.039079306 | 0.18552248 |  0.21064459 | 0.834690082 |\n",
       "| sm65 | -0.030668507 | 0.11679396 | -0.26258642 | 0.794791807 |\n",
       "| sf65 | -0.179917280 | 0.11809892 | -1.52344556 | 0.138863011 |\n",
       "| fert65 |  0.006880834 | 0.02705142 |  0.25436128 | 0.801075252 |\n",
       "| mort65 | -0.233454503 | 0.81742198 | -0.28559852 | 0.777287824 |\n",
       "| lifee065 | -0.014914473 | 0.19333559 | -0.07714292 | 0.939058459 |\n",
       "| gpop1 |  0.970184579 | 1.81220835 |  0.53536039 | 0.596627593 |\n",
       "| fert1 |  0.008838189 | 0.03504148 |  0.25222077 | 0.802712696 |\n",
       "| mort1 |  0.066562928 | 0.68481002 |  0.09719911 | 0.923260701 |\n",
       "| invsh41 |  0.074461126 | 0.10844692 |  0.68661354 | 0.497973611 |\n",
       "| geetot1 | -0.715104906 | 1.68013567 | -0.42562331 | 0.673636102 |\n",
       "| geerec1 |  0.630004630 | 2.44737848 |  0.25742019 | 0.798736842 |\n",
       "| gde1 | -0.443575219 | 1.67120674 | -0.26542211 | 0.792628757 |\n",
       "| govwb1 |  0.337452364 | 0.43798695 |  0.77046214 | 0.447478336 |\n",
       "| govsh41 |  0.463174632 | 1.92543733 |  0.24055555 | 0.811652246 |\n",
       "| gvxdxe41 | -0.793381582 | 2.05939737 | -0.38524939 | 0.702963815 |\n",
       "| high65 | -0.752483828 | 0.90572159 | -0.83081141 | 0.413108816 |\n",
       "| highm65 | -0.390261804 | 0.68124930 | -0.57286195 | 0.571310302 |\n",
       "| highf65 | -0.417748705 | 0.56149048 | -0.74399963 | 0.463075062 |\n",
       "| ⋮ | ⋮ | ⋮ | ⋮ | ⋮ |\n",
       "| highcf65 |  3.920771e-01 | 7.660246e-01 |  0.51183360 | 0.61278088 |\n",
       "| human65 |  2.337269e+00 | 3.307269e+00 |  0.70670678 | 0.48558873 |\n",
       "| humanm65 | -1.209249e+00 | 1.618516e+00 | -0.74713475 | 0.46121072 |\n",
       "| humanf65 | -1.103947e+00 | 1.684693e+00 | -0.65528075 | 0.51763499 |\n",
       "| hyr65 |  5.491388e+01 | 2.388729e+01 |  2.29887430 | 0.02918450 |\n",
       "| hyrm65 |  1.293505e+01 | 2.317142e+01 |  0.55823278 | 0.58112223 |\n",
       "| hyrf65 |  9.092580e+00 | 1.766958e+01 |  0.51458948 | 0.61087820 |\n",
       "| no65 |  3.720986e-02 | 1.319733e-01 |  0.28194994 | 0.78005541 |\n",
       "| nom65 | -2.119769e-02 | 6.495975e-02 | -0.32632032 | 0.74660861 |\n",
       "| nof65 | -1.685782e-02 | 6.700258e-02 | -0.25159954 | 0.80318810 |\n",
       "| pinstab1 | -4.997113e-02 | 3.092081e-02 | -1.61610019 | 0.11728579 |\n",
       "| pop65 |  1.031796e-07 | 1.317950e-07 |  0.78287929 | 0.44026959 |\n",
       "| worker65 |  3.407897e-02 | 1.561909e-01 |  0.21818786 | 0.82886516 |\n",
       "| pop1565 | -4.655346e-01 | 4.713340e-01 | -0.98769582 | 0.33176044 |\n",
       "| pop6565 | -1.357450e+00 | 6.349424e-01 | -2.13791049 | 0.04139326 |\n",
       "| sec65 | -1.089278e-02 | 3.076618e-01 | -0.03540506 | 0.97200796 |\n",
       "| secm65 |  3.343664e-03 | 1.511923e-01 |  0.02211530 | 0.98251284 |\n",
       "| secf65 | -2.304329e-03 | 1.579715e-01 | -0.01458699 | 0.98846512 |\n",
       "| secc65 | -4.915284e-01 | 7.290408e-01 | -0.67421246 | 0.50570489 |\n",
       "| seccm65 |  2.596016e-01 | 3.556533e-01 |  0.72992873 | 0.47149686 |\n",
       "| seccf65 |  2.206524e-01 | 3.733333e-01 |  0.59103325 | 0.55923950 |\n",
       "| syr65 | -7.555807e-01 | 7.976763e+00 | -0.09472273 | 0.92520970 |\n",
       "| syrm65 |  3.109007e-01 | 3.896731e+00 |  0.07978502 | 0.93697576 |\n",
       "| syrf65 |  7.592811e-01 | 4.110634e+00 |  0.18471143 | 0.85478676 |\n",
       "| teapri65 |  3.954523e-05 | 7.700406e-04 |  0.05135474 | 0.95940747 |\n",
       "| teasec65 |  2.496674e-04 | 1.171230e-03 |  0.21316678 | 0.83274136 |\n",
       "| ex1 | -5.804081e-01 | 2.418472e-01 | -2.39989593 | 0.02329485 |\n",
       "| im1 |  5.914450e-01 | 2.502978e-01 |  2.36296558 | 0.02530892 |\n",
       "| xr65 | -1.037768e-04 | 5.416760e-05 | -1.91584652 | 0.06564690 |\n",
       "| tot1 | -1.279011e-01 | 1.125951e-01 | -1.13593842 | 0.26561200 |\n",
       "\n"
      ],
      "text/plain": [
       "            Estimate      Std. Error   t value     Pr(>|t|)   \n",
       "(Intercept)  0.247160893  0.78450163    0.31505466 0.755056170\n",
       "gdpsh465    -0.009377989  0.02988773   -0.31377391 0.756018518\n",
       "bmp1l       -0.068862679  0.03253065   -2.11685513 0.043289718\n",
       "freeop       0.080068974  0.20786400    0.38519885 0.703000838\n",
       "freetar     -0.488962605  0.41816285   -1.16931143 0.252136477\n",
       "h65         -2.362098638  0.85729167   -2.75530338 0.010192435\n",
       "hm65         0.707143400  0.52314511    1.35171560 0.187285919\n",
       "hf65         1.693448425  0.50318881    3.36543337 0.002232683\n",
       "p65          0.265526695  0.16429407    1.61616729 0.117271229\n",
       "pm65         0.136952626  0.15121749    0.90566657 0.372840111\n",
       "pf65        -0.331266948  0.16512299   -2.00618303 0.054583866\n",
       "s65          0.039079306  0.18552248    0.21064459 0.834690082\n",
       "sm65        -0.030668507  0.11679396   -0.26258642 0.794791807\n",
       "sf65        -0.179917280  0.11809892   -1.52344556 0.138863011\n",
       "fert65       0.006880834  0.02705142    0.25436128 0.801075252\n",
       "mort65      -0.233454503  0.81742198   -0.28559852 0.777287824\n",
       "lifee065    -0.014914473  0.19333559   -0.07714292 0.939058459\n",
       "gpop1        0.970184579  1.81220835    0.53536039 0.596627593\n",
       "fert1        0.008838189  0.03504148    0.25222077 0.802712696\n",
       "mort1        0.066562928  0.68481002    0.09719911 0.923260701\n",
       "invsh41      0.074461126  0.10844692    0.68661354 0.497973611\n",
       "geetot1     -0.715104906  1.68013567   -0.42562331 0.673636102\n",
       "geerec1      0.630004630  2.44737848    0.25742019 0.798736842\n",
       "gde1        -0.443575219  1.67120674   -0.26542211 0.792628757\n",
       "govwb1       0.337452364  0.43798695    0.77046214 0.447478336\n",
       "govsh41      0.463174632  1.92543733    0.24055555 0.811652246\n",
       "gvxdxe41    -0.793381582  2.05939737   -0.38524939 0.702963815\n",
       "high65      -0.752483828  0.90572159   -0.83081141 0.413108816\n",
       "highm65     -0.390261804  0.68124930   -0.57286195 0.571310302\n",
       "highf65     -0.417748705  0.56149048   -0.74399963 0.463075062\n",
       "⋮           ⋮             ⋮            ⋮           ⋮          \n",
       "highcf65     3.920771e-01 7.660246e-01  0.51183360 0.61278088 \n",
       "human65      2.337269e+00 3.307269e+00  0.70670678 0.48558873 \n",
       "humanm65    -1.209249e+00 1.618516e+00 -0.74713475 0.46121072 \n",
       "humanf65    -1.103947e+00 1.684693e+00 -0.65528075 0.51763499 \n",
       "hyr65        5.491388e+01 2.388729e+01  2.29887430 0.02918450 \n",
       "hyrm65       1.293505e+01 2.317142e+01  0.55823278 0.58112223 \n",
       "hyrf65       9.092580e+00 1.766958e+01  0.51458948 0.61087820 \n",
       "no65         3.720986e-02 1.319733e-01  0.28194994 0.78005541 \n",
       "nom65       -2.119769e-02 6.495975e-02 -0.32632032 0.74660861 \n",
       "nof65       -1.685782e-02 6.700258e-02 -0.25159954 0.80318810 \n",
       "pinstab1    -4.997113e-02 3.092081e-02 -1.61610019 0.11728579 \n",
       "pop65        1.031796e-07 1.317950e-07  0.78287929 0.44026959 \n",
       "worker65     3.407897e-02 1.561909e-01  0.21818786 0.82886516 \n",
       "pop1565     -4.655346e-01 4.713340e-01 -0.98769582 0.33176044 \n",
       "pop6565     -1.357450e+00 6.349424e-01 -2.13791049 0.04139326 \n",
       "sec65       -1.089278e-02 3.076618e-01 -0.03540506 0.97200796 \n",
       "secm65       3.343664e-03 1.511923e-01  0.02211530 0.98251284 \n",
       "secf65      -2.304329e-03 1.579715e-01 -0.01458699 0.98846512 \n",
       "secc65      -4.915284e-01 7.290408e-01 -0.67421246 0.50570489 \n",
       "seccm65      2.596016e-01 3.556533e-01  0.72992873 0.47149686 \n",
       "seccf65      2.206524e-01 3.733333e-01  0.59103325 0.55923950 \n",
       "syr65       -7.555807e-01 7.976763e+00 -0.09472273 0.92520970 \n",
       "syrm65       3.109007e-01 3.896731e+00  0.07978502 0.93697576 \n",
       "syrf65       7.592811e-01 4.110634e+00  0.18471143 0.85478676 \n",
       "teapri65     3.954523e-05 7.700406e-04  0.05135474 0.95940747 \n",
       "teasec65     2.496674e-04 1.171230e-03  0.21316678 0.83274136 \n",
       "ex1         -5.804081e-01 2.418472e-01 -2.39989593 0.02329485 \n",
       "im1          5.914450e-01 2.502978e-01  2.36296558 0.02530892 \n",
       "xr65        -1.037768e-04 5.416760e-05 -1.91584652 0.06564690 \n",
       "tot1        -1.279011e-01 1.125951e-01 -1.13593842 0.26561200 "
      ]
     },
     "metadata": {},
     "output_type": "display_data"
    }
   ],
   "source": [
    "summary(ls.effect)$coef"
   ]
  },
  {
   "cell_type": "code",
   "execution_count": 6,
   "metadata": {
    "vscode": {
     "languageId": "r"
    }
   },
   "outputs": [
    {
     "data": {
      "text/plain": [
       "[1] \"Estimates and significance testing of the effect of target variables\"\n",
       "     Estimate. Std. Error t value Pr(>|t|)    \n",
       "[1,]  -0.04981    0.01394  -3.574 0.000351 ***\n",
       "---\n",
       "Signif. codes:  0 '***' 0.001 '**' 0.01 '*' 0.05 '.' 0.1 ' ' 1\n",
       "\n"
      ]
     },
     "metadata": {},
     "output_type": "display_data"
    }
   ],
   "source": [
    "dX = as.matrix(cbind(d, X))\n",
    "lasso.effect = rlassoEffect(x = X, y = y, d = d, method = \"partialling out\")\n",
    "summary(lasso.effect)"
   ]
  },
  {
   "cell_type": "code",
   "execution_count": 7,
   "metadata": {
    "vscode": {
     "languageId": "r"
    }
   },
   "outputs": [
    {
     "data": {
      "text/plain": [
       "[1] \"Estimates and significance testing of the effect of target variables\"\n",
       "         Estimate. Std. Error t value Pr(>|t|)   \n",
       "gdpsh465  -0.05001    0.01579  -3.167  0.00154 **\n",
       "---\n",
       "Signif. codes:  0 '***' 0.001 '**' 0.01 '*' 0.05 '.' 0.1 ' ' 1\n",
       "\n"
      ]
     },
     "metadata": {},
     "output_type": "display_data"
    }
   ],
   "source": [
    "doublesel.effect = rlassoEffect(x = X, y = y, d = d, method = \"double selection\")\n",
    "summary(doublesel.effect)"
   ]
  },
  {
   "cell_type": "code",
   "execution_count": 9,
   "metadata": {
    "vscode": {
     "languageId": "r"
    }
   },
   "outputs": [
    {
     "data": {
      "text/html": [
       "<table class=\"dataframe\">\n",
       "<caption>A xtable: 3 × 2</caption>\n",
       "<thead>\n",
       "\t<tr><th></th><th scope=col>Estimate</th><th scope=col>Std. Error</th></tr>\n",
       "\t<tr><th></th><th scope=col>&lt;dbl&gt;</th><th scope=col>&lt;dbl&gt;</th></tr>\n",
       "</thead>\n",
       "<tbody>\n",
       "\t<tr><th scope=row>full reg via ols</th><td>-0.009377989</td><td>0.02988773</td></tr>\n",
       "\t<tr><th scope=row>partial reg\n",
       "via post-lasso </th><td>-0.049811465</td><td>0.01393636</td></tr>\n",
       "\t<tr><th scope=row>partial reg via double selection</th><td>-0.050005855</td><td>0.01579138</td></tr>\n",
       "</tbody>\n",
       "</table>\n"
      ],
      "text/latex": [
       "A xtable: 3 × 2\n",
       "\\begin{tabular}{r|ll}\n",
       "  & Estimate & Std. Error\\\\\n",
       "  & <dbl> & <dbl>\\\\\n",
       "\\hline\n",
       "\tfull reg via ols & -0.009377989 & 0.02988773\\\\\n",
       "\tpartial reg\n",
       "via post-lasso  & -0.049811465 & 0.01393636\\\\\n",
       "\tpartial reg via double selection & -0.050005855 & 0.01579138\\\\\n",
       "\\end{tabular}\n"
      ],
      "text/markdown": [
       "\n",
       "A xtable: 3 × 2\n",
       "\n",
       "| <!--/--> | Estimate &lt;dbl&gt; | Std. Error &lt;dbl&gt; |\n",
       "|---|---|---|\n",
       "| full reg via ols | -0.009377989 | 0.02988773 |\n",
       "| partial reg\n",
       "via post-lasso  | -0.049811465 | 0.01393636 |\n",
       "| partial reg via double selection | -0.050005855 | 0.01579138 |\n",
       "\n"
      ],
      "text/plain": [
       "                                 Estimate     Std. Error\n",
       "full reg via ols                 -0.009377989 0.02988773\n",
       "partial reg\\nvia post-lasso      -0.049811465 0.01393636\n",
       "partial reg via double selection -0.050005855 0.01579138"
      ]
     },
     "metadata": {},
     "output_type": "display_data"
    }
   ],
   "source": [
    "library(xtable)\n",
    "table = rbind(summary(ls.effect)$coef[\"gdpsh465\", 1:2], summary(lasso.effect)$coef[,\n",
    "1:2], summary(doublesel.effect)$coef[, 1:2])\n",
    "colnames(table) = c(\"Estimate\", \"Std. Error\") #names(summary(full.fit)£coef)[1:2]\n",
    "rownames(table) = c(\"full reg via ols\", \"partial reg\n",
    "via post-lasso \", \"partial reg via double selection\")\n",
    "tab = xtable(table, digits = c(2, 2, 5))\n",
    "tab"
   ]
  },
  {
   "cell_type": "code",
   "execution_count": null,
   "metadata": {
    "vscode": {
     "languageId": "r"
    }
   },
   "outputs": [],
   "source": []
  },
  {
   "cell_type": "markdown",
   "metadata": {},
   "source": [
    "## 5. Instrumental Variable Estimation in a High-Dimensional Setting"
   ]
  },
  {
   "cell_type": "code",
   "execution_count": null,
   "metadata": {
    "vscode": {
     "languageId": "r"
    }
   },
   "outputs": [],
   "source": []
  },
  {
   "cell_type": "markdown",
   "metadata": {},
   "source": [
    "### 5.2. Application: Economic Development and Institutions."
   ]
  },
  {
   "cell_type": "code",
   "execution_count": 2,
   "metadata": {
    "vscode": {
     "languageId": "r"
    }
   },
   "outputs": [
    {
     "data": {
      "text/html": [
       "<style>\n",
       ".list-inline {list-style: none; margin:0; padding: 0}\n",
       ".list-inline>li {display: inline-block}\n",
       ".list-inline>li:not(:last-child)::after {content: \"\\00b7\"; padding: 0 .5ex}\n",
       "</style>\n",
       "<ol class=list-inline><li>64</li><li>21</li></ol>\n"
      ],
      "text/latex": [
       "\\begin{enumerate*}\n",
       "\\item 64\n",
       "\\item 21\n",
       "\\end{enumerate*}\n"
      ],
      "text/markdown": [
       "1. 64\n",
       "2. 21\n",
       "\n",
       "\n"
      ],
      "text/plain": [
       "[1] 64 21"
      ]
     },
     "metadata": {},
     "output_type": "display_data"
    }
   ],
   "source": [
    "data(AJR)\n",
    "y = AJR$GDP\n",
    "d = AJR$Exprop\n",
    "z = AJR$logMort\n",
    "x = model.matrix(~-1 + (Latitude + Latitude2 + Africa + Asia + Namer + Samer)^2,\n",
    "data = AJR)\n",
    "dim(x)\n"
   ]
  },
  {
   "cell_type": "code",
   "execution_count": 3,
   "metadata": {
    "vscode": {
     "languageId": "r"
    }
   },
   "outputs": [
    {
     "name": "stdout",
     "output_type": "stream",
     "text": [
      "[1] \"Estimation and significance testing of the effect of target variables in the IV regression model\"\n",
      "       coeff.    se. t-value p-value   \n",
      "Exprop 0.8450 0.2699   3.131 0.00174 **\n",
      "---\n",
      "Signif. codes:  0 '***' 0.001 '**' 0.01 '*' 0.05 '.' 0.1 ' ' 1\n",
      "\n",
      "\n"
     ]
    }
   ],
   "source": [
    "AJR.Xselect = rlassoIV(GDP ~ Exprop + (Latitude + Latitude2 + Africa + Asia + Namer +\n",
    "Samer)^2 | logMort + (Latitude + Latitude2 + Africa + Asia + Namer + Samer)^2,\n",
    "data = AJR, select.X = TRUE, select.Z = FALSE)\n",
    "summary(AJR.Xselect)\n"
   ]
  },
  {
   "cell_type": "code",
   "execution_count": 4,
   "metadata": {
    "vscode": {
     "languageId": "r"
    }
   },
   "outputs": [
    {
     "name": "stdout",
     "output_type": "stream",
     "text": [
      "           2.5 %   97.5 %\n",
      "Exprop 0.3159812 1.374072\n"
     ]
    }
   ],
   "source": [
    "confint(AJR.Xselect)"
   ]
  },
  {
   "cell_type": "code",
   "execution_count": 5,
   "metadata": {
    "vscode": {
     "languageId": "r"
    }
   },
   "outputs": [
    {
     "name": "stdout",
     "output_type": "stream",
     "text": [
      "   [,1] [,2]\n",
      "rD 1.27 1.73\n"
     ]
    }
   ],
   "source": [
    "# parialling out by linear model\n",
    "fmla.y = GDP ~ (Latitude + Latitude2 + Africa + Asia + Namer + Samer)^2\n",
    "fmla.d = Exprop ~ (Latitude + Latitude2 + Africa + Asia + Namer + Samer)^2\n",
    "fmla.z = logMort ~ (Latitude + Latitude2 + Africa + Asia + Namer + Samer)^2\n",
    "rY = lm(fmla.y, data = AJR)$res\n",
    "rD = lm(fmla.d, data = AJR)$res\n",
    "rZ = lm(fmla.z, data = AJR)$res\n",
    "# ivfit.lm = tsls(y=rY,d=rD, x=NULL, z=rZ, intercept=FALSE)\n",
    "ivfit.lm = tsls(rY ~ rD | rZ, intercept = FALSE)\n",
    "print(cbind(ivfit.lm$coef, ivfit.lm$se), digits = 3)"
   ]
  },
  {
   "cell_type": "code",
   "execution_count": 6,
   "metadata": {
    "vscode": {
     "languageId": "r"
    }
   },
   "outputs": [],
   "source": [
    "# parialling out by lasso\n",
    "rY = rlasso(fmla.y, data = AJR)$res\n",
    "rD = rlasso(fmla.d, data = AJR)$res\n",
    "rZ = rlasso(fmla.z, data = AJR)$res\n",
    "# ivfit.lasso = tsls(y=rY,d=rD, x=NULL, z=rZ, intercept=FALSE)\n",
    "ivfit.lasso = tsls(rY ~ rD | rZ, intercept = FALSE)"
   ]
  },
  {
   "cell_type": "code",
   "execution_count": 10,
   "metadata": {
    "vscode": {
     "languageId": "r"
    }
   },
   "outputs": [
    {
     "name": "stdout",
     "output_type": "stream",
     "text": [
      "[1] \"Estimates and Significance Testing from from tsls\"\n",
      "   Estimate Std. Error t value p value   \n",
      "rD   0.8450     0.2699   3.131 0.00174 **\n",
      "---\n",
      "Signif. codes:  0 '***' 0.001 '**' 0.01 '*' 0.05 '.' 0.1 ' ' 1\n",
      "\n",
      "\n"
     ]
    }
   ],
   "source": [
    "summary(ivfit.lasso)"
   ]
  },
  {
   "cell_type": "markdown",
   "metadata": {},
   "source": [
    "### 5.3. Application: Impact of Eminent Domain Decisions on Economic Outcomes."
   ]
  },
  {
   "cell_type": "code",
   "execution_count": 45,
   "metadata": {
    "vscode": {
     "languageId": "r"
    }
   },
   "outputs": [],
   "source": [
    "data(EminentDomain)\n",
    "z <- as.matrix(EminentDomain$logGDP$z)\n",
    "x <- as.matrix(EminentDomain$logGDP$x)\n",
    "y <- EminentDomain$logGDP$y\n",
    "d <- EminentDomain$logGDP$d\n",
    "x <- x[, apply(x, 2, mean, na.rm = TRUE) > 0.05] #\n",
    "z <- z[, apply(z, 2, mean, na.rm = TRUE) > 0.05] #"
   ]
  },
  {
   "cell_type": "code",
   "execution_count": 46,
   "metadata": {
    "vscode": {
     "languageId": "r"
    }
   },
   "outputs": [],
   "source": [
    "ED.ols = lm(y ~ cbind(d, x))\n",
    "ED.2sls = tsls(y = y, d = d, x = x, z = z[, 1:2], intercept = FALSE)"
   ]
  },
  {
   "cell_type": "code",
   "execution_count": 47,
   "metadata": {
    "vscode": {
     "languageId": "r"
    }
   },
   "outputs": [
    {
     "name": "stdout",
     "output_type": "stream",
     "text": [
      "[1] \"Estimates and significance testing of the effect of target variables in the IV regression model\"\n",
      "   coeff.    se. t-value p-value\n",
      "d1 0.4146 0.2902   1.428   0.153\n",
      "\n",
      "\n"
     ]
    }
   ],
   "source": [
    "lasso.IV.Z = rlassoIV(x = x, d = d, y = y, z = z, select.X = FALSE, select.Z = TRUE)\n",
    "summary(lasso.IV.Z)"
   ]
  },
  {
   "cell_type": "code",
   "execution_count": 22,
   "metadata": {
    "vscode": {
     "languageId": "r"
    }
   },
   "outputs": [
    {
     "name": "stdout",
     "output_type": "stream",
     "text": [
      "        2.5 %    97.5 %\n",
      "d1 -0.1542764 0.9834796\n"
     ]
    }
   ],
   "source": [
    "confint(lasso.IV.Z)"
   ]
  },
  {
   "cell_type": "code",
   "execution_count": 49,
   "metadata": {
    "vscode": {
     "languageId": "r"
    }
   },
   "outputs": [
    {
     "name": "stdout",
     "output_type": "stream",
     "text": [
      "Estimates and Significance Testing of the effect of target variables in the IV regression model \n",
      "     coeff.      se. t-value p-value\n",
      "d1 -0.02383  0.12851  -0.185   0.853\n",
      "\n",
      "\n"
     ]
    }
   ],
   "source": [
    "lasso.IV.XZ = rlassoIV(x = x, d = d, y = y, z = z, select.X = TRUE, select.Z = TRUE)\n",
    "summary(lasso.IV.XZ)"
   ]
  },
  {
   "cell_type": "code",
   "execution_count": 24,
   "metadata": {
    "vscode": {
     "languageId": "r"
    }
   },
   "outputs": [
    {
     "name": "stdout",
     "output_type": "stream",
     "text": [
      "        2.5 %    97.5 %\n",
      "d1 -0.2757029 0.2280335\n"
     ]
    }
   ],
   "source": [
    "confint(lasso.IV.XZ)"
   ]
  },
  {
   "cell_type": "code",
   "execution_count": 30,
   "metadata": {
    "vscode": {
     "languageId": "r"
    }
   },
   "outputs": [
    {
     "data": {
      "text/html": [
       "<style>\n",
       ".dl-inline {width: auto; margin:0; padding: 0}\n",
       ".dl-inline>dt, .dl-inline>dd {float: none; width: auto; display: inline-block}\n",
       ".dl-inline>dt::after {content: \":\\0020\"; padding-right: .5ex}\n",
       ".dl-inline>dt:not(:first-of-type) {padding-left: .5ex}\n",
       "</style><dl class=dl-inline><dt>Estimate</dt><dd>0.00786473183385086</dd><dt>Std. Error</dt><dd>0.00986592662133842</dd></dl>\n"
      ],
      "text/latex": [
       "\\begin{description*}\n",
       "\\item[Estimate] 0.00786473183385086\n",
       "\\item[Std. Error] 0.00986592662133842\n",
       "\\end{description*}\n"
      ],
      "text/markdown": [
       "Estimate\n",
       ":   0.00786473183385086Std. Error\n",
       ":   0.00986592662133842\n",
       "\n"
      ],
      "text/plain": [
       "   Estimate  Std. Error \n",
       "0.007864732 0.009865927 "
      ]
     },
     "metadata": {},
     "output_type": "display_data"
    }
   ],
   "source": [
    "summary(ED.ols)$coef[2, 1:2]"
   ]
  },
  {
   "cell_type": "code",
   "execution_count": 31,
   "metadata": {
    "vscode": {
     "languageId": "r"
    }
   },
   "outputs": [
    {
     "data": {
      "text/html": [
       "<table class=\"dataframe\">\n",
       "<caption>A matrix: 1 × 2 of type dbl</caption>\n",
       "<tbody>\n",
       "\t<tr><th scope=row>d1</th><td>-0.01073327</td><td>0.03376636</td></tr>\n",
       "</tbody>\n",
       "</table>\n"
      ],
      "text/latex": [
       "A matrix: 1 × 2 of type dbl\n",
       "\\begin{tabular}{r|ll}\n",
       "\td1 & -0.01073327 & 0.03376636\\\\\n",
       "\\end{tabular}\n"
      ],
      "text/markdown": [
       "\n",
       "A matrix: 1 × 2 of type dbl\n",
       "\n",
       "| d1 | -0.01073327 | 0.03376636 |\n",
       "\n"
      ],
      "text/plain": [
       "   [,1]        [,2]      \n",
       "d1 -0.01073327 0.03376636"
      ]
     },
     "metadata": {},
     "output_type": "display_data"
    }
   ],
   "source": [
    "cbind(ED.2sls$coef[1], ED.2sls$se[1])"
   ]
  },
  {
   "cell_type": "code",
   "execution_count": 32,
   "metadata": {
    "vscode": {
     "languageId": "r"
    }
   },
   "outputs": [
    {
     "name": "stdout",
     "output_type": "stream",
     "text": [
      "[1] \"Estimates and significance testing of the effect of target variables in the IV regression model\"\n",
      "   coeff.    se. t-value p-value\n",
      "d1 0.4146 0.2902   1.428   0.153\n",
      "\n",
      "\n"
     ]
    }
   ],
   "source": [
    "library(xtable)\n",
    "table = matrix(0, 4, 2)\n",
    "table[1, ] = summary(ED.ols)$coef[2, 1:2]\n",
    "table[2, ] = cbind(ED.2sls$coef[1], ED.2sls$se[1])\n",
    "table[3, ] = summary(lasso.IV.Z)[, 1:2]"
   ]
  },
  {
   "cell_type": "code",
   "execution_count": 27,
   "metadata": {
    "vscode": {
     "languageId": "r"
    }
   },
   "outputs": [
    {
     "data": {
      "text/html": [
       "<table class=\"dataframe\">\n",
       "<caption>A matrix: 4 × 2 of type dbl</caption>\n",
       "<tbody>\n",
       "\t<tr><td> 0.007864732</td><td>0.009865927</td></tr>\n",
       "\t<tr><td>-0.010733269</td><td>0.033766362</td></tr>\n",
       "\t<tr><td> 0.414601641</td><td>0.290249208</td></tr>\n",
       "\t<tr><td> 0.000000000</td><td>0.000000000</td></tr>\n",
       "</tbody>\n",
       "</table>\n"
      ],
      "text/latex": [
       "A matrix: 4 × 2 of type dbl\n",
       "\\begin{tabular}{ll}\n",
       "\t  0.007864732 & 0.009865927\\\\\n",
       "\t -0.010733269 & 0.033766362\\\\\n",
       "\t  0.414601641 & 0.290249208\\\\\n",
       "\t  0.000000000 & 0.000000000\\\\\n",
       "\\end{tabular}\n"
      ],
      "text/markdown": [
       "\n",
       "A matrix: 4 × 2 of type dbl\n",
       "\n",
       "|  0.007864732 | 0.009865927 |\n",
       "| -0.010733269 | 0.033766362 |\n",
       "|  0.414601641 | 0.290249208 |\n",
       "|  0.000000000 | 0.000000000 |\n",
       "\n"
      ],
      "text/plain": [
       "     [,1]         [,2]       \n",
       "[1,]  0.007864732 0.009865927\n",
       "[2,] -0.010733269 0.033766362\n",
       "[3,]  0.414601641 0.290249208\n",
       "[4,]  0.000000000 0.000000000"
      ]
     },
     "metadata": {},
     "output_type": "display_data"
    }
   ],
   "source": [
    "table"
   ]
  },
  {
   "cell_type": "code",
   "execution_count": null,
   "metadata": {
    "vscode": {
     "languageId": "r"
    }
   },
   "outputs": [],
   "source": []
  },
  {
   "cell_type": "markdown",
   "metadata": {},
   "source": [
    "## 7. The Lasso Methods for Discovery of Significant Causes amongst Many Potential Causes, with Many Controls"
   ]
  },
  {
   "cell_type": "code",
   "execution_count": 50,
   "metadata": {
    "vscode": {
     "languageId": "r"
    }
   },
   "outputs": [],
   "source": [
    "# library(hdm) library(stats)\n",
    "set.seed(1)\n",
    "n = 100\n",
    "p1 = 20\n",
    "p2 = 20\n",
    "D = matrix(rnorm(n * p1), n, p1) # Causes\n",
    "W = matrix(rnorm(n * p2), n, p2) # Controls\n",
    "X = cbind(D, W) # Regressors\n",
    "Y = D[, 1] * 5 + W[, 1] * 5 + rnorm(n) #Outcome"
   ]
  },
  {
   "cell_type": "code",
   "execution_count": 233,
   "metadata": {
    "vscode": {
     "languageId": "r"
    }
   },
   "outputs": [],
   "source": [
    "# data = data.frame(cbind(Y, X))\n",
    "# write.csv(data,\"../data/7_.csv\", row.names = FALSE)"
   ]
  },
  {
   "cell_type": "code",
   "execution_count": 51,
   "metadata": {
    "vscode": {
     "languageId": "r"
    }
   },
   "outputs": [
    {
     "data": {
      "text/html": [
       "<table class=\"dataframe\">\n",
       "<caption>A matrix: 20 × 2 of type dbl</caption>\n",
       "<thead>\n",
       "\t<tr><th></th><th scope=col>2.5 %</th><th scope=col>97.5 %</th></tr>\n",
       "</thead>\n",
       "<tbody>\n",
       "\t<tr><th scope=row>V1</th><td> 4.5145877</td><td>5.21430498</td></tr>\n",
       "\t<tr><th scope=row>V2</th><td>-0.3142909</td><td>0.30494650</td></tr>\n",
       "\t<tr><th scope=row>V3</th><td>-0.3524109</td><td>0.18678880</td></tr>\n",
       "\t<tr><th scope=row>V4</th><td>-0.2542430</td><td>0.28738914</td></tr>\n",
       "\t<tr><th scope=row>V5</th><td>-0.2765802</td><td>0.27627177</td></tr>\n",
       "\t<tr><th scope=row>V6</th><td>-0.3214676</td><td>0.29422684</td></tr>\n",
       "\t<tr><th scope=row>V7</th><td>-0.2262507</td><td>0.30094168</td></tr>\n",
       "\t<tr><th scope=row>V8</th><td>-0.0473541</td><td>0.47366372</td></tr>\n",
       "\t<tr><th scope=row>V9</th><td>-0.1865636</td><td>0.39023520</td></tr>\n",
       "\t<tr><th scope=row>V10</th><td>-0.2372356</td><td>0.26411185</td></tr>\n",
       "\t<tr><th scope=row>V11</th><td>-0.3147091</td><td>0.20945872</td></tr>\n",
       "\t<tr><th scope=row>V12</th><td>-0.3091905</td><td>0.26572176</td></tr>\n",
       "\t<tr><th scope=row>V13</th><td>-0.1741550</td><td>0.37682465</td></tr>\n",
       "\t<tr><th scope=row>V14</th><td>-0.3235734</td><td>0.38543162</td></tr>\n",
       "\t<tr><th scope=row>V15</th><td>-0.3219763</td><td>0.31312486</td></tr>\n",
       "\t<tr><th scope=row>V16</th><td>-0.2649505</td><td>0.33100700</td></tr>\n",
       "\t<tr><th scope=row>V17</th><td>-0.1792080</td><td>0.41696169</td></tr>\n",
       "\t<tr><th scope=row>V18</th><td>-0.3693247</td><td>0.04695928</td></tr>\n",
       "\t<tr><th scope=row>V19</th><td>-0.1073109</td><td>0.39368776</td></tr>\n",
       "\t<tr><th scope=row>V20</th><td>-0.2157182</td><td>0.25543839</td></tr>\n",
       "</tbody>\n",
       "</table>\n"
      ],
      "text/latex": [
       "A matrix: 20 × 2 of type dbl\n",
       "\\begin{tabular}{r|ll}\n",
       "  & 2.5 \\% & 97.5 \\%\\\\\n",
       "\\hline\n",
       "\tV1 &  4.5145877 & 5.21430498\\\\\n",
       "\tV2 & -0.3142909 & 0.30494650\\\\\n",
       "\tV3 & -0.3524109 & 0.18678880\\\\\n",
       "\tV4 & -0.2542430 & 0.28738914\\\\\n",
       "\tV5 & -0.2765802 & 0.27627177\\\\\n",
       "\tV6 & -0.3214676 & 0.29422684\\\\\n",
       "\tV7 & -0.2262507 & 0.30094168\\\\\n",
       "\tV8 & -0.0473541 & 0.47366372\\\\\n",
       "\tV9 & -0.1865636 & 0.39023520\\\\\n",
       "\tV10 & -0.2372356 & 0.26411185\\\\\n",
       "\tV11 & -0.3147091 & 0.20945872\\\\\n",
       "\tV12 & -0.3091905 & 0.26572176\\\\\n",
       "\tV13 & -0.1741550 & 0.37682465\\\\\n",
       "\tV14 & -0.3235734 & 0.38543162\\\\\n",
       "\tV15 & -0.3219763 & 0.31312486\\\\\n",
       "\tV16 & -0.2649505 & 0.33100700\\\\\n",
       "\tV17 & -0.1792080 & 0.41696169\\\\\n",
       "\tV18 & -0.3693247 & 0.04695928\\\\\n",
       "\tV19 & -0.1073109 & 0.39368776\\\\\n",
       "\tV20 & -0.2157182 & 0.25543839\\\\\n",
       "\\end{tabular}\n"
      ],
      "text/markdown": [
       "\n",
       "A matrix: 20 × 2 of type dbl\n",
       "\n",
       "| <!--/--> | 2.5 % | 97.5 % |\n",
       "|---|---|---|\n",
       "| V1 |  4.5145877 | 5.21430498 |\n",
       "| V2 | -0.3142909 | 0.30494650 |\n",
       "| V3 | -0.3524109 | 0.18678880 |\n",
       "| V4 | -0.2542430 | 0.28738914 |\n",
       "| V5 | -0.2765802 | 0.27627177 |\n",
       "| V6 | -0.3214676 | 0.29422684 |\n",
       "| V7 | -0.2262507 | 0.30094168 |\n",
       "| V8 | -0.0473541 | 0.47366372 |\n",
       "| V9 | -0.1865636 | 0.39023520 |\n",
       "| V10 | -0.2372356 | 0.26411185 |\n",
       "| V11 | -0.3147091 | 0.20945872 |\n",
       "| V12 | -0.3091905 | 0.26572176 |\n",
       "| V13 | -0.1741550 | 0.37682465 |\n",
       "| V14 | -0.3235734 | 0.38543162 |\n",
       "| V15 | -0.3219763 | 0.31312486 |\n",
       "| V16 | -0.2649505 | 0.33100700 |\n",
       "| V17 | -0.1792080 | 0.41696169 |\n",
       "| V18 | -0.3693247 | 0.04695928 |\n",
       "| V19 | -0.1073109 | 0.39368776 |\n",
       "| V20 | -0.2157182 | 0.25543839 |\n",
       "\n"
      ],
      "text/plain": [
       "    2.5 %      97.5 %    \n",
       "V1   4.5145877 5.21430498\n",
       "V2  -0.3142909 0.30494650\n",
       "V3  -0.3524109 0.18678880\n",
       "V4  -0.2542430 0.28738914\n",
       "V5  -0.2765802 0.27627177\n",
       "V6  -0.3214676 0.29422684\n",
       "V7  -0.2262507 0.30094168\n",
       "V8  -0.0473541 0.47366372\n",
       "V9  -0.1865636 0.39023520\n",
       "V10 -0.2372356 0.26411185\n",
       "V11 -0.3147091 0.20945872\n",
       "V12 -0.3091905 0.26572176\n",
       "V13 -0.1741550 0.37682465\n",
       "V14 -0.3235734 0.38543162\n",
       "V15 -0.3219763 0.31312486\n",
       "V16 -0.2649505 0.33100700\n",
       "V17 -0.1792080 0.41696169\n",
       "V18 -0.3693247 0.04695928\n",
       "V19 -0.1073109 0.39368776\n",
       "V20 -0.2157182 0.25543839"
      ]
     },
     "metadata": {},
     "output_type": "display_data"
    }
   ],
   "source": [
    "confint(rlassoEffects(X, Y, index = c(1:p1)), joint = TRUE)"
   ]
  },
  {
   "cell_type": "code",
   "execution_count": null,
   "metadata": {
    "vscode": {
     "languageId": "r"
    }
   },
   "outputs": [],
   "source": []
  },
  {
   "cell_type": "code",
   "execution_count": null,
   "metadata": {
    "vscode": {
     "languageId": "r"
    }
   },
   "outputs": [],
   "source": []
  },
  {
   "cell_type": "code",
   "execution_count": null,
   "metadata": {
    "vscode": {
     "languageId": "r"
    }
   },
   "outputs": [],
   "source": []
  }
 ],
 "metadata": {
  "kernelspec": {
   "display_name": "R",
   "language": "R",
   "name": "ir"
  },
  "language_info": {
   "codemirror_mode": "r",
   "file_extension": ".r",
   "mimetype": "text/x-r-source",
   "name": "R",
   "pygments_lexer": "r",
   "version": "4.2.0"
  },
  "orig_nbformat": 4
 },
 "nbformat": 4,
 "nbformat_minor": 2
}
