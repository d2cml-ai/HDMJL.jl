{
 "cells": [
  {
   "cell_type": "markdown",
   "metadata": {},
   "source": [
    "# HIGH-DIMENSIONAL METRICS IN R"
   ]
  },
  {
   "cell_type": "markdown",
   "metadata": {},
   "source": [
    "## 2. How to get started"
   ]
  },
  {
   "cell_type": "code",
   "execution_count": 1,
   "metadata": {
    "vscode": {
     "languageId": "r"
    }
   },
   "outputs": [
    {
     "name": "stderr",
     "output_type": "stream",
     "text": [
      "Warning message:\n",
      "\"package 'hdm' was built under R version 4.2.1\"\n",
      "Warning message:\n",
      "\"package 'glmnet' was built under R version 4.2.1\"\n",
      "Loading required package: Matrix\n",
      "\n",
      "Loaded glmnet 4.1-4\n",
      "\n"
     ]
    }
   ],
   "source": [
    "library(hdm)\n",
    "library(stats)\n",
    "library(glmnet)"
   ]
  },
  {
   "cell_type": "markdown",
   "metadata": {},
   "source": [
    "### 3.1. Prediction in Linear Models using Approximate Sparsity"
   ]
  },
  {
   "cell_type": "markdown",
   "metadata": {},
   "source": [
    "### 3.2. A Joint Significance Test for Lasso Regression."
   ]
  },
  {
   "cell_type": "code",
   "execution_count": 28,
   "metadata": {
    "vscode": {
     "languageId": "r"
    }
   },
   "outputs": [],
   "source": [
    "set.seed(12345)\n",
    "n = 100 #sample size\n",
    "p = 100 # number of variables\n",
    "s = 3 # nubmer of variables with non-zero coefficients\n",
    "X = matrix(rnorm(n * p), ncol = p)\n",
    "beta = c(rep(5, s), rep(0, p - s))\n",
    "Y = X %*% beta + rnorm(n)\n",
    "#data = data.frame(cbind(Y, X))\n",
    "#write.csv(data,\"../data/3_2.csv\", row.names = FALSE)"
   ]
  },
  {
   "cell_type": "code",
   "execution_count": 29,
   "metadata": {
    "vscode": {
     "languageId": "r"
    }
   },
   "outputs": [
    {
     "name": "stdout",
     "output_type": "stream",
     "text": [
      "\n",
      "Call:\n",
      "rlasso.formula(formula = Y ~ X, post = FALSE)\n",
      "\n",
      "Post-Lasso Estimation:  FALSE \n",
      "\n",
      "Total number of variables: 100\n",
      "Number of selected variables: 11 \n",
      "\n",
      "Residuals: \n",
      "     Min       1Q   Median       3Q      Max \n",
      "-2.09008 -0.45801 -0.01237  0.50291  2.25098 \n",
      "\n",
      "            Estimate\n",
      "(Intercept)    0.057\n",
      "1              4.771\n",
      "2              4.693\n",
      "3              4.766\n",
      "13            -0.045\n",
      "15            -0.047\n",
      "16            -0.005\n",
      "19            -0.092\n",
      "22            -0.027\n",
      "40            -0.011\n",
      "61             0.114\n",
      "100           -0.025\n",
      "\n",
      "Residual standard error: 0.8039\n",
      "Multiple R-squared:  0.9913\n",
      "Adjusted R-squared:  0.9902\n",
      "Joint significance test:\n",
      " the sup score statistic for joint significance test is 64.02 with a p-value of     0\n"
     ]
    }
   ],
   "source": [
    "lasso.reg = rlasso(Y ~ X, post = FALSE) # use lasso, not-Post-lasso\n",
    "# lasso.reg = rlasso(X, Y, post=FALSE)\n",
    "sum.lasso <- summary(lasso.reg, all = FALSE) # can also do print(lasso.reg, all=FALSE)"
   ]
  },
  {
   "cell_type": "code",
   "execution_count": 30,
   "metadata": {
    "vscode": {
     "languageId": "r"
    }
   },
   "outputs": [],
   "source": [
    "set.seed(123)\n",
    "yhat.lasso = predict(lasso.reg) #in-sample prediction\n",
    "Xnew = matrix(rnorm(n * p), ncol = p) # new X\n",
    "Ynew = Xnew %*% beta + rnorm(n) #new Y\n",
    "yhat.lasso.new = predict(lasso.reg, newdata = Xnew) #out-of-sample prediction\n",
    "# data = data.frame(cbind(Ynew, Xnew))\n",
    "# write.csv(data,\"../data/3_2_2.csv\", row.names = FALSE)"
   ]
  },
  {
   "cell_type": "code",
   "execution_count": 31,
   "metadata": {
    "vscode": {
     "languageId": "r"
    }
   },
   "outputs": [
    {
     "name": "stdout",
     "output_type": "stream",
     "text": [
      "\n",
      "Call:\n",
      "rlasso.formula(formula = Y ~ X, post = TRUE)\n",
      "\n",
      "(Intercept)            1            2            3  \n",
      "     0.0341       4.9241       4.8579       4.9644  \n",
      "\n"
     ]
    }
   ],
   "source": [
    "post.lasso.reg = rlasso(Y ~ X, post = TRUE) #now use post-lasso\n",
    "print(post.lasso.reg, all = FALSE) # or use summary(post.lasso.reg, all=FALSE)"
   ]
  },
  {
   "cell_type": "code",
   "execution_count": 32,
   "metadata": {
    "vscode": {
     "languageId": "r"
    }
   },
   "outputs": [
    {
     "name": "stdout",
     "output_type": "stream",
     "text": [
      "     lasso MAE Post-lasso MAE \n",
      "          0.88           0.78 \n"
     ]
    }
   ],
   "source": [
    "yhat.postlasso = predict(post.lasso.reg) #in-sample prediction\n",
    "yhat.postlasso.new = predict(post.lasso.reg, newdata = Xnew) #out-of-sample prediction\n",
    "MAE <- apply(cbind(abs(Ynew - yhat.lasso.new), abs(Ynew - yhat.postlasso.new)), 2,\n",
    "mean)\n",
    "names(MAE) <- c(\"lasso MAE\", \"Post-lasso MAE\")\n",
    "print(MAE, digits = 2) # MAE for Lasso and Post-Lasso"
   ]
  },
  {
   "cell_type": "markdown",
   "metadata": {},
   "source": [
    "## 4. Inference on Target Regression Coefficients"
   ]
  },
  {
   "cell_type": "markdown",
   "metadata": {},
   "source": [
    "### 4.1. Intuition for the Orthogonality Principle in Linear Models via Partialling Out."
   ]
  },
  {
   "cell_type": "code",
   "execution_count": 8,
   "metadata": {
    "vscode": {
     "languageId": "r"
    }
   },
   "outputs": [],
   "source": [
    "set.seed(1)\n",
    "n = 5000\n",
    "p = 20\n",
    "X = matrix(rnorm(n * p), ncol = p)\n",
    "colnames(X) = c(\"d\", paste(\"x\", 1:19, sep = \"\"))\n",
    "xnames = colnames(X)[-1]\n",
    "beta = rep(1, 20)\n",
    "y = X %*% beta + rnorm(n)\n",
    "dat = data.frame(y = y, X)\n",
    "#save(dat, file = \"../data/4_1.csv\")\n",
    "#write.csv(dat,\"../data/4_1.csv\", row.names = FALSE)\n"
   ]
  },
  {
   "cell_type": "code",
   "execution_count": 9,
   "metadata": {
    "vscode": {
     "languageId": "r"
    }
   },
   "outputs": [
    {
     "data": {
      "text/html": [
       "<style>\n",
       ".dl-inline {width: auto; margin:0; padding: 0}\n",
       ".dl-inline>dt, .dl-inline>dd {float: none; width: auto; display: inline-block}\n",
       ".dl-inline>dt::after {content: \":\\0020\"; padding-right: .5ex}\n",
       ".dl-inline>dt:not(:first-of-type) {padding-left: .5ex}\n",
       "</style><dl class=dl-inline><dt>Estimate</dt><dd>0.978074548374755</dd><dt>Std. Error</dt><dd>0.0137122468163772</dd></dl>\n"
      ],
      "text/latex": [
       "\\begin{description*}\n",
       "\\item[Estimate] 0.978074548374755\n",
       "\\item[Std. Error] 0.0137122468163772\n",
       "\\end{description*}\n"
      ],
      "text/markdown": [
       "Estimate\n",
       ":   0.978074548374755Std. Error\n",
       ":   0.0137122468163772\n",
       "\n"
      ],
      "text/plain": [
       "  Estimate Std. Error \n",
       "0.97807455 0.01371225 "
      ]
     },
     "metadata": {},
     "output_type": "display_data"
    }
   ],
   "source": [
    "# full fit\n",
    "fmla = as.formula(paste(\"y ~ \", paste(colnames(X), collapse = \"+\")))\n",
    "full.fit = lm(fmla, data = dat)\n",
    "summary(full.fit)$coef[\"d\", 1:2]"
   ]
  },
  {
   "cell_type": "code",
   "execution_count": 10,
   "metadata": {
    "vscode": {
     "languageId": "r"
    }
   },
   "outputs": [
    {
     "data": {
      "text/html": [
       "<style>\n",
       ".dl-inline {width: auto; margin:0; padding: 0}\n",
       ".dl-inline>dt, .dl-inline>dd {float: none; width: auto; display: inline-block}\n",
       ".dl-inline>dt::after {content: \":\\0020\"; padding-right: .5ex}\n",
       ".dl-inline>dt:not(:first-of-type) {padding-left: .5ex}\n",
       "</style><dl class=dl-inline><dt>Estimate</dt><dd>0.978074548374761</dd><dt>Std. Error</dt><dd>0.0136861583043357</dd></dl>\n"
      ],
      "text/latex": [
       "\\begin{description*}\n",
       "\\item[Estimate] 0.978074548374761\n",
       "\\item[Std. Error] 0.0136861583043357\n",
       "\\end{description*}\n"
      ],
      "text/markdown": [
       "Estimate\n",
       ":   0.978074548374761Std. Error\n",
       ":   0.0136861583043357\n",
       "\n"
      ],
      "text/plain": [
       "  Estimate Std. Error \n",
       "0.97807455 0.01368616 "
      ]
     },
     "metadata": {},
     "output_type": "display_data"
    }
   ],
   "source": [
    "fmla.y = as.formula(paste(\"y ~ \", paste(xnames, collapse = \"+\")))\n",
    "fmla.d = as.formula(paste(\"d ~ \", paste(xnames, collapse = \"+\")))\n",
    "# partial fit via ols\n",
    "rY = lm(fmla.y, data = dat)$res\n",
    "rD = lm(fmla.d, data = dat)$res\n",
    "partial.fit.ls = lm(rY ~ rD)\n",
    "summary(partial.fit.ls)$coef[\"rD\", 1:2]"
   ]
  },
  {
   "cell_type": "code",
   "execution_count": 11,
   "metadata": {
    "vscode": {
     "languageId": "r"
    }
   },
   "outputs": [
    {
     "data": {
      "text/html": [
       "<style>\n",
       ".dl-inline {width: auto; margin:0; padding: 0}\n",
       ".dl-inline>dt, .dl-inline>dd {float: none; width: auto; display: inline-block}\n",
       ".dl-inline>dt::after {content: \":\\0020\"; padding-right: .5ex}\n",
       ".dl-inline>dt:not(:first-of-type) {padding-left: .5ex}\n",
       "</style><dl class=dl-inline><dt>Estimate</dt><dd>0.972738704584573</dd><dt>Std. Error</dt><dd>0.0136867656564768</dd></dl>\n"
      ],
      "text/latex": [
       "\\begin{description*}\n",
       "\\item[Estimate] 0.972738704584573\n",
       "\\item[Std. Error] 0.0136867656564768\n",
       "\\end{description*}\n"
      ],
      "text/markdown": [
       "Estimate\n",
       ":   0.972738704584573Std. Error\n",
       ":   0.0136867656564768\n",
       "\n"
      ],
      "text/plain": [
       "  Estimate Std. Error \n",
       "0.97273870 0.01368677 "
      ]
     },
     "metadata": {},
     "output_type": "display_data"
    }
   ],
   "source": [
    "rY = rlasso(fmla.y, data = dat)$res\n",
    "rD = rlasso(fmla.d, data = dat)$res\n",
    "partial.fit.postlasso = lm(rY ~ rD)\n",
    "summary(partial.fit.postlasso)$coef[\"rD\", 1:2]"
   ]
  },
  {
   "cell_type": "code",
   "execution_count": 12,
   "metadata": {
    "vscode": {
     "languageId": "r"
    }
   },
   "outputs": [
    {
     "data": {
      "text/html": [
       "<table class=\"dataframe\">\n",
       "<caption>A matrix: 1 × 4 of type dbl</caption>\n",
       "<thead>\n",
       "\t<tr><th scope=col>Estimate.</th><th scope=col>Std. Error</th><th scope=col>t value</th><th scope=col>Pr(&gt;|t|)</th></tr>\n",
       "</thead>\n",
       "<tbody>\n",
       "\t<tr><td>0.9727387</td><td>0.01368677</td><td>71.07148</td><td>0</td></tr>\n",
       "</tbody>\n",
       "</table>\n"
      ],
      "text/latex": [
       "A matrix: 1 × 4 of type dbl\n",
       "\\begin{tabular}{llll}\n",
       " Estimate. & Std. Error & t value & Pr(>\\textbar{}t\\textbar{})\\\\\n",
       "\\hline\n",
       "\t 0.9727387 & 0.01368677 & 71.07148 & 0\\\\\n",
       "\\end{tabular}\n"
      ],
      "text/markdown": [
       "\n",
       "A matrix: 1 × 4 of type dbl\n",
       "\n",
       "| Estimate. | Std. Error | t value | Pr(&gt;|t|) |\n",
       "|---|---|---|---|\n",
       "| 0.9727387 | 0.01368677 | 71.07148 | 0 |\n",
       "\n"
      ],
      "text/plain": [
       "     Estimate. Std. Error t value  Pr(>|t|)\n",
       "[1,] 0.9727387 0.01368677 71.07148 0       "
      ]
     },
     "metadata": {},
     "output_type": "display_data"
    }
   ],
   "source": [
    "Eff = rlassoEffect(X[, -1], y, X[, 1], method = \"partialling out\")\n",
    "summary(Eff)$coef"
   ]
  },
  {
   "cell_type": "code",
   "execution_count": 25,
   "metadata": {
    "vscode": {
     "languageId": "r"
    }
   },
   "outputs": [
    {
     "data": {
      "text/html": [
       "<style>\n",
       ".dl-inline {width: auto; margin:0; padding: 0}\n",
       ".dl-inline>dt, .dl-inline>dd {float: none; width: auto; display: inline-block}\n",
       ".dl-inline>dt::after {content: \":\\0020\"; padding-right: .5ex}\n",
       ".dl-inline>dt:not(:first-of-type) {padding-left: .5ex}\n",
       "</style><dl class=dl-inline><dt>Estimate.</dt><dd>0.978074548374755</dd><dt>Std. Error</dt><dd>0.0141562427002124</dd></dl>\n"
      ],
      "text/latex": [
       "\\begin{description*}\n",
       "\\item[Estimate.] 0.978074548374755\n",
       "\\item[Std. Error] 0.0141562427002124\n",
       "\\end{description*}\n"
      ],
      "text/markdown": [
       "Estimate.\n",
       ":   0.978074548374755Std. Error\n",
       ":   0.0141562427002124\n",
       "\n"
      ],
      "text/plain": [
       " Estimate. Std. Error \n",
       "0.97807455 0.01415624 "
      ]
     },
     "metadata": {},
     "output_type": "display_data"
    }
   ],
   "source": [
    "Eff = rlassoEffect(X[, -1], y, X[, 1], method = \"double selection\")\n",
    "summary(Eff)$coef[, 1:2]"
   ]
  },
  {
   "cell_type": "markdown",
   "metadata": {},
   "source": [
    "### 4.2. Inference: Confidence Intervals and Significance Testing. The function rlassoEffects"
   ]
  },
  {
   "cell_type": "code",
   "execution_count": 26,
   "metadata": {
    "vscode": {
     "languageId": "r"
    }
   },
   "outputs": [],
   "source": [
    "set.seed(1)\n",
    "n = 100 #sample size\n",
    "p = 100 # number of variables\n",
    "s = 3 # nubmer of non-zero variables\n",
    "X = matrix(rnorm(n * p), ncol = p)\n",
    "colnames(X) <- paste(\"X\", 1:p, sep = \"\")\n",
    "beta = c(rep(3, s), rep(0, p - s))\n",
    "y = 1 + X %*% beta + rnorm(n)\n",
    "data = data.frame(cbind(y, X))\n",
    "#write.csv(data,\"../data/4_2.csv\", row.names = FALSE)\n",
    "colnames(data)[1] <- \"y\"\n",
    "fm = paste(\"y ~\", paste(colnames(X), collapse = \"+\"))\n",
    "fm = as.formula(fm)"
   ]
  },
  {
   "cell_type": "code",
   "execution_count": 27,
   "metadata": {
    "vscode": {
     "languageId": "r"
    }
   },
   "outputs": [
    {
     "name": "stdout",
     "output_type": "stream",
     "text": [
      "\n",
      "Call:\n",
      "rlassoEffects.formula(formula = fm, data = data, I = ~X1 + X2 + \n",
      "    X3 + X50)\n",
      "\n",
      "Coefficients:\n",
      "     X1       X2       X3      X50  \n",
      "2.94448  3.04127  2.97540  0.07196  \n",
      "\n"
     ]
    }
   ],
   "source": [
    "# lasso.effect = rlassoEffects(X, y, index=c(1,2,3,50))\n",
    "lasso.effect = rlassoEffects(fm, I = ~X1 + X2 + X3 + X50, data = data)\n",
    "print(lasso.effect)"
   ]
  },
  {
   "cell_type": "code",
   "execution_count": 28,
   "metadata": {
    "vscode": {
     "languageId": "r"
    }
   },
   "outputs": [
    {
     "data": {
      "text/plain": [
       "[1] \"Estimates and significance testing of the effect of target variables\"\n",
       "    Estimate. Std. Error t value Pr(>|t|)    \n",
       "X1    2.94448    0.08815  33.404   <2e-16 ***\n",
       "X2    3.04127    0.08389  36.253   <2e-16 ***\n",
       "X3    2.97540    0.07804  38.127   <2e-16 ***\n",
       "X50   0.07196    0.07765   0.927    0.354    \n",
       "---\n",
       "Signif. codes:  0 '***' 0.001 '**' 0.01 '*' 0.05 '.' 0.1 ' ' 1\n",
       "\n"
      ]
     },
     "metadata": {},
     "output_type": "display_data"
    }
   ],
   "source": [
    "summary(lasso.effect)"
   ]
  },
  {
   "cell_type": "code",
   "execution_count": 29,
   "metadata": {
    "vscode": {
     "languageId": "r"
    }
   },
   "outputs": [
    {
     "data": {
      "text/html": [
       "<table class=\"dataframe\">\n",
       "<caption>A matrix: 4 × 2 of type dbl</caption>\n",
       "<thead>\n",
       "\t<tr><th></th><th scope=col>2.5 %</th><th scope=col>97.5 %</th></tr>\n",
       "</thead>\n",
       "<tbody>\n",
       "\t<tr><th scope=row>X1</th><td> 2.77171308</td><td>3.1172421</td></tr>\n",
       "\t<tr><th scope=row>X2</th><td> 2.87685121</td><td>3.2056979</td></tr>\n",
       "\t<tr><th scope=row>X3</th><td> 2.82244962</td><td>3.1283583</td></tr>\n",
       "\t<tr><th scope=row>X50</th><td>-0.08022708</td><td>0.2241377</td></tr>\n",
       "</tbody>\n",
       "</table>\n"
      ],
      "text/latex": [
       "A matrix: 4 × 2 of type dbl\n",
       "\\begin{tabular}{r|ll}\n",
       "  & 2.5 \\% & 97.5 \\%\\\\\n",
       "\\hline\n",
       "\tX1 &  2.77171308 & 3.1172421\\\\\n",
       "\tX2 &  2.87685121 & 3.2056979\\\\\n",
       "\tX3 &  2.82244962 & 3.1283583\\\\\n",
       "\tX50 & -0.08022708 & 0.2241377\\\\\n",
       "\\end{tabular}\n"
      ],
      "text/markdown": [
       "\n",
       "A matrix: 4 × 2 of type dbl\n",
       "\n",
       "| <!--/--> | 2.5 % | 97.5 % |\n",
       "|---|---|---|\n",
       "| X1 |  2.77171308 | 3.1172421 |\n",
       "| X2 |  2.87685121 | 3.2056979 |\n",
       "| X3 |  2.82244962 | 3.1283583 |\n",
       "| X50 | -0.08022708 | 0.2241377 |\n",
       "\n"
      ],
      "text/plain": [
       "    2.5 %       97.5 %   \n",
       "X1   2.77171308 3.1172421\n",
       "X2   2.87685121 3.2056979\n",
       "X3   2.82244962 3.1283583\n",
       "X50 -0.08022708 0.2241377"
      ]
     },
     "metadata": {},
     "output_type": "display_data"
    }
   ],
   "source": [
    "confint(lasso.effect)\n"
   ]
  },
  {
   "cell_type": "code",
   "execution_count": 31,
   "metadata": {
    "vscode": {
     "languageId": "r"
    }
   },
   "outputs": [
    {
     "data": {
      "text/html": [
       "<table class=\"dataframe\">\n",
       "<caption>A matrix: 4 × 2 of type dbl</caption>\n",
       "<thead>\n",
       "\t<tr><th></th><th scope=col>2.5 %</th><th scope=col>97.5 %</th></tr>\n",
       "</thead>\n",
       "<tbody>\n",
       "\t<tr><th scope=row>X1</th><td> 2.7357949</td><td>3.1531603</td></tr>\n",
       "\t<tr><th scope=row>X2</th><td> 2.8445200</td><td>3.2380291</td></tr>\n",
       "\t<tr><th scope=row>X3</th><td> 2.7902789</td><td>3.1605290</td></tr>\n",
       "\t<tr><th scope=row>X50</th><td>-0.1086592</td><td>0.2525698</td></tr>\n",
       "</tbody>\n",
       "</table>\n"
      ],
      "text/latex": [
       "A matrix: 4 × 2 of type dbl\n",
       "\\begin{tabular}{r|ll}\n",
       "  & 2.5 \\% & 97.5 \\%\\\\\n",
       "\\hline\n",
       "\tX1 &  2.7357949 & 3.1531603\\\\\n",
       "\tX2 &  2.8445200 & 3.2380291\\\\\n",
       "\tX3 &  2.7902789 & 3.1605290\\\\\n",
       "\tX50 & -0.1086592 & 0.2525698\\\\\n",
       "\\end{tabular}\n"
      ],
      "text/markdown": [
       "\n",
       "A matrix: 4 × 2 of type dbl\n",
       "\n",
       "| <!--/--> | 2.5 % | 97.5 % |\n",
       "|---|---|---|\n",
       "| X1 |  2.7357949 | 3.1531603 |\n",
       "| X2 |  2.8445200 | 3.2380291 |\n",
       "| X3 |  2.7902789 | 3.1605290 |\n",
       "| X50 | -0.1086592 | 0.2525698 |\n",
       "\n"
      ],
      "text/plain": [
       "    2.5 %      97.5 %   \n",
       "X1   2.7357949 3.1531603\n",
       "X2   2.8445200 3.2380291\n",
       "X3   2.7902789 3.1605290\n",
       "X50 -0.1086592 0.2525698"
      ]
     },
     "metadata": {},
     "output_type": "display_data"
    }
   ],
   "source": [
    "confint(lasso.effect, level = 0.95, joint = TRUE)\n"
   ]
  },
  {
   "cell_type": "markdown",
   "metadata": {},
   "source": [
    "### 4.3. Application: the effect of gender on wage."
   ]
  },
  {
   "cell_type": "code",
   "execution_count": 50,
   "metadata": {
    "vscode": {
     "languageId": "r"
    }
   },
   "outputs": [
    {
     "data": {
      "text/html": [
       "<style>\n",
       ".list-inline {list-style: none; margin:0; padding: 0}\n",
       ".list-inline>li {display: inline-block}\n",
       ".list-inline>li:not(:last-child)::after {content: \"\\00b7\"; padding: 0 .5ex}\n",
       "</style>\n",
       "<ol class=list-inline><li>29217</li><li>136</li></ol>\n"
      ],
      "text/latex": [
       "\\begin{enumerate*}\n",
       "\\item 29217\n",
       "\\item 136\n",
       "\\end{enumerate*}\n"
      ],
      "text/markdown": [
       "1. 29217\n",
       "2. 136\n",
       "\n",
       "\n"
      ],
      "text/plain": [
       "[1] 29217   136"
      ]
     },
     "metadata": {},
     "output_type": "display_data"
    },
    {
     "data": {
      "text/html": [
       "<style>\n",
       ".list-inline {list-style: none; margin:0; padding: 0}\n",
       ".list-inline>li {display: inline-block}\n",
       ".list-inline>li:not(:last-child)::after {content: \"\\00b7\"; padding: 0 .5ex}\n",
       "</style>\n",
       "<ol class=list-inline><li>29217</li><li>116</li></ol>\n"
      ],
      "text/latex": [
       "\\begin{enumerate*}\n",
       "\\item 29217\n",
       "\\item 116\n",
       "\\end{enumerate*}\n"
      ],
      "text/markdown": [
       "1. 29217\n",
       "2. 116\n",
       "\n",
       "\n"
      ],
      "text/plain": [
       "[1] 29217   116"
      ]
     },
     "metadata": {},
     "output_type": "display_data"
    }
   ],
   "source": [
    "library(hdm)\n",
    "data(cps2012)\n",
    "X <- model.matrix(~-1 + female + female:(widowed + divorced + separated + nevermarried +\n",
    "hsd08 + hsd911 + hsg + cg + ad + mw + so + we + exp1 + exp2 + exp3) + +(widowed +\n",
    "divorced + separated + nevermarried + hsd08 + hsd911 + hsg + cg + ad + mw + so +\n",
    "we + exp1 + exp2 + exp3)^2, data = cps2012)\n",
    "dim(X)\n",
    "## [1] 29217 136\n",
    "X <- X[, which(apply(X, 2, var) != 0)] # exclude all constant variables\n",
    "dim(X)\n",
    "## [1] 29217 116\n",
    "index.gender <- grep(\"female\", colnames(X))\n",
    "y <- cps2012$lnw"
   ]
  },
  {
   "cell_type": "code",
   "execution_count": 51,
   "metadata": {
    "vscode": {
     "languageId": "r"
    }
   },
   "outputs": [
    {
     "data": {
      "text/plain": [
       "[1] \"Estimates and significance testing of the effect of target variables\"\n",
       "                    Estimate. Std. Error t value Pr(>|t|)    \n",
       "female              -0.154923   0.050162  -3.088 0.002012 ** \n",
       "female:widowed       0.136095   0.090663   1.501 0.133325    \n",
       "female:divorced      0.136939   0.022182   6.174 6.68e-10 ***\n",
       "female:separated     0.023303   0.053212   0.438 0.661441    \n",
       "female:nevermarried  0.186853   0.019942   9.370  < 2e-16 ***\n",
       "female:hsd08         0.027810   0.120914   0.230 0.818092    \n",
       "female:hsd911       -0.119335   0.051880  -2.300 0.021435 *  \n",
       "female:hsg          -0.012890   0.019223  -0.671 0.502518    \n",
       "female:cg            0.010139   0.018327   0.553 0.580114    \n",
       "female:ad           -0.030464   0.021806  -1.397 0.162405    \n",
       "female:mw           -0.001063   0.019192  -0.055 0.955811    \n",
       "female:so           -0.008183   0.019357  -0.423 0.672468    \n",
       "female:we           -0.004226   0.021168  -0.200 0.841760    \n",
       "female:exp1          0.004935   0.007804   0.632 0.527139    \n",
       "female:exp2         -0.159519   0.045300  -3.521 0.000429 ***\n",
       "female:exp3          0.038451   0.007861   4.891 1.00e-06 ***\n",
       "---\n",
       "Signif. codes:  0 '***' 0.001 '**' 0.01 '*' 0.05 '.' 0.1 ' ' 1\n",
       "\n"
      ]
     },
     "metadata": {},
     "output_type": "display_data"
    }
   ],
   "source": [
    "effects.female <- rlassoEffects(x = X, y = y, index = index.gender)\n",
    "summary(effects.female)"
   ]
  },
  {
   "cell_type": "code",
   "execution_count": 52,
   "metadata": {
    "vscode": {
     "languageId": "r"
    }
   },
   "outputs": [
    {
     "data": {
      "text/html": [
       "<table class=\"dataframe\">\n",
       "<caption>A matrix: 16 × 2 of type dbl</caption>\n",
       "<thead>\n",
       "\t<tr><th></th><th scope=col>2.5 %</th><th scope=col>97.5 %</th></tr>\n",
       "</thead>\n",
       "<tbody>\n",
       "\t<tr><th scope=row>female</th><td>-0.29478224</td><td>-0.01506433</td></tr>\n",
       "\t<tr><th scope=row>female:widowed</th><td>-0.13475121</td><td> 0.40694218</td></tr>\n",
       "\t<tr><th scope=row>female:divorced</th><td> 0.07454815</td><td> 0.19933062</td></tr>\n",
       "\t<tr><th scope=row>female:separated</th><td>-0.11727723</td><td> 0.16388275</td></tr>\n",
       "\t<tr><th scope=row>female:nevermarried</th><td> 0.12902723</td><td> 0.24467974</td></tr>\n",
       "\t<tr><th scope=row>female:hsd08</th><td>-0.37611300</td><td> 0.43173362</td></tr>\n",
       "\t<tr><th scope=row>female:hsd911</th><td>-0.26962418</td><td> 0.03095410</td></tr>\n",
       "\t<tr><th scope=row>female:hsg</th><td>-0.06534868</td><td> 0.03956912</td></tr>\n",
       "\t<tr><th scope=row>female:cg</th><td>-0.04188922</td><td> 0.06216633</td></tr>\n",
       "\t<tr><th scope=row>female:ad</th><td>-0.09609866</td><td> 0.03517117</td></tr>\n",
       "\t<tr><th scope=row>female:mw</th><td>-0.05492271</td><td> 0.05279584</td></tr>\n",
       "\t<tr><th scope=row>female:so</th><td>-0.06293909</td><td> 0.04657240</td></tr>\n",
       "\t<tr><th scope=row>female:we</th><td>-0.06587457</td><td> 0.05742232</td></tr>\n",
       "\t<tr><th scope=row>female:exp1</th><td>-0.01658120</td><td> 0.02645172</td></tr>\n",
       "\t<tr><th scope=row>female:exp2</th><td>-0.28464359</td><td>-0.03439506</td></tr>\n",
       "\t<tr><th scope=row>female:exp3</th><td> 0.01676128</td><td> 0.06013987</td></tr>\n",
       "</tbody>\n",
       "</table>\n"
      ],
      "text/latex": [
       "A matrix: 16 × 2 of type dbl\n",
       "\\begin{tabular}{r|ll}\n",
       "  & 2.5 \\% & 97.5 \\%\\\\\n",
       "\\hline\n",
       "\tfemale & -0.29478224 & -0.01506433\\\\\n",
       "\tfemale:widowed & -0.13475121 &  0.40694218\\\\\n",
       "\tfemale:divorced &  0.07454815 &  0.19933062\\\\\n",
       "\tfemale:separated & -0.11727723 &  0.16388275\\\\\n",
       "\tfemale:nevermarried &  0.12902723 &  0.24467974\\\\\n",
       "\tfemale:hsd08 & -0.37611300 &  0.43173362\\\\\n",
       "\tfemale:hsd911 & -0.26962418 &  0.03095410\\\\\n",
       "\tfemale:hsg & -0.06534868 &  0.03956912\\\\\n",
       "\tfemale:cg & -0.04188922 &  0.06216633\\\\\n",
       "\tfemale:ad & -0.09609866 &  0.03517117\\\\\n",
       "\tfemale:mw & -0.05492271 &  0.05279584\\\\\n",
       "\tfemale:so & -0.06293909 &  0.04657240\\\\\n",
       "\tfemale:we & -0.06587457 &  0.05742232\\\\\n",
       "\tfemale:exp1 & -0.01658120 &  0.02645172\\\\\n",
       "\tfemale:exp2 & -0.28464359 & -0.03439506\\\\\n",
       "\tfemale:exp3 &  0.01676128 &  0.06013987\\\\\n",
       "\\end{tabular}\n"
      ],
      "text/markdown": [
       "\n",
       "A matrix: 16 × 2 of type dbl\n",
       "\n",
       "| <!--/--> | 2.5 % | 97.5 % |\n",
       "|---|---|---|\n",
       "| female | -0.29478224 | -0.01506433 |\n",
       "| female:widowed | -0.13475121 |  0.40694218 |\n",
       "| female:divorced |  0.07454815 |  0.19933062 |\n",
       "| female:separated | -0.11727723 |  0.16388275 |\n",
       "| female:nevermarried |  0.12902723 |  0.24467974 |\n",
       "| female:hsd08 | -0.37611300 |  0.43173362 |\n",
       "| female:hsd911 | -0.26962418 |  0.03095410 |\n",
       "| female:hsg | -0.06534868 |  0.03956912 |\n",
       "| female:cg | -0.04188922 |  0.06216633 |\n",
       "| female:ad | -0.09609866 |  0.03517117 |\n",
       "| female:mw | -0.05492271 |  0.05279584 |\n",
       "| female:so | -0.06293909 |  0.04657240 |\n",
       "| female:we | -0.06587457 |  0.05742232 |\n",
       "| female:exp1 | -0.01658120 |  0.02645172 |\n",
       "| female:exp2 | -0.28464359 | -0.03439506 |\n",
       "| female:exp3 |  0.01676128 |  0.06013987 |\n",
       "\n"
      ],
      "text/plain": [
       "                    2.5 %       97.5 %     \n",
       "female              -0.29478224 -0.01506433\n",
       "female:widowed      -0.13475121  0.40694218\n",
       "female:divorced      0.07454815  0.19933062\n",
       "female:separated    -0.11727723  0.16388275\n",
       "female:nevermarried  0.12902723  0.24467974\n",
       "female:hsd08        -0.37611300  0.43173362\n",
       "female:hsd911       -0.26962418  0.03095410\n",
       "female:hsg          -0.06534868  0.03956912\n",
       "female:cg           -0.04188922  0.06216633\n",
       "female:ad           -0.09609866  0.03517117\n",
       "female:mw           -0.05492271  0.05279584\n",
       "female:so           -0.06293909  0.04657240\n",
       "female:we           -0.06587457  0.05742232\n",
       "female:exp1         -0.01658120  0.02645172\n",
       "female:exp2         -0.28464359 -0.03439506\n",
       "female:exp3          0.01676128  0.06013987"
      ]
     },
     "metadata": {},
     "output_type": "display_data"
    }
   ],
   "source": [
    "joint.CI <- confint(effects.female, level = 0.95, joint = TRUE)\n",
    "joint.CI"
   ]
  },
  {
   "cell_type": "markdown",
   "metadata": {},
   "source": [
    "### 4.4. Application: Estimation of the treatment effect in a linear model with many confounding factors"
   ]
  },
  {
   "cell_type": "code",
   "execution_count": 53,
   "metadata": {
    "vscode": {
     "languageId": "r"
    }
   },
   "outputs": [
    {
     "data": {
      "text/html": [
       "<style>\n",
       ".list-inline {list-style: none; margin:0; padding: 0}\n",
       ".list-inline>li {display: inline-block}\n",
       ".list-inline>li:not(:last-child)::after {content: \"\\00b7\"; padding: 0 .5ex}\n",
       "</style>\n",
       "<ol class=list-inline><li>90</li><li>63</li></ol>\n"
      ],
      "text/latex": [
       "\\begin{enumerate*}\n",
       "\\item 90\n",
       "\\item 63\n",
       "\\end{enumerate*}\n"
      ],
      "text/markdown": [
       "1. 90\n",
       "2. 63\n",
       "\n",
       "\n"
      ],
      "text/plain": [
       "[1] 90 63"
      ]
     },
     "metadata": {},
     "output_type": "display_data"
    }
   ],
   "source": [
    "data(GrowthData)\n",
    "dim(GrowthData)\n",
    "## [1] 90 63\n",
    "y = GrowthData[, 1, drop = F]\n",
    "d = GrowthData[, 3, drop = F]\n",
    "X = as.matrix(GrowthData)[, -c(1, 2, 3)]\n",
    "varnames = colnames(GrowthData)"
   ]
  },
  {
   "cell_type": "code",
   "execution_count": 54,
   "metadata": {
    "vscode": {
     "languageId": "r"
    }
   },
   "outputs": [],
   "source": [
    "xnames = varnames[-c(1, 2, 3)] # names of X variables\n",
    "dandxnames = varnames[-c(1, 2)] # names of D and X variables\n",
    "# create formulas by pasting names (this saves typing times)\n",
    "fmla = as.formula(paste(\"Outcome ~ \", paste(dandxnames, collapse = \"+\")))\n",
    "ls.effect = lm(fmla, data = GrowthData)"
   ]
  },
  {
   "cell_type": "code",
   "execution_count": 55,
   "metadata": {
    "vscode": {
     "languageId": "r"
    }
   },
   "outputs": [
    {
     "data": {
      "text/plain": [
       "[1] \"Estimates and significance testing of the effect of target variables\"\n",
       "     Estimate. Std. Error t value Pr(>|t|)    \n",
       "[1,]  -0.04981    0.01394  -3.574 0.000351 ***\n",
       "---\n",
       "Signif. codes:  0 '***' 0.001 '**' 0.01 '*' 0.05 '.' 0.1 ' ' 1\n",
       "\n"
      ]
     },
     "metadata": {},
     "output_type": "display_data"
    }
   ],
   "source": [
    "dX = as.matrix(cbind(d, X))\n",
    "lasso.effect = rlassoEffect(x = X, y = y, d = d, method = \"partialling out\")\n",
    "summary(lasso.effect)"
   ]
  },
  {
   "cell_type": "code",
   "execution_count": 56,
   "metadata": {
    "vscode": {
     "languageId": "r"
    }
   },
   "outputs": [
    {
     "data": {
      "text/plain": [
       "[1] \"Estimates and significance testing of the effect of target variables\"\n",
       "         Estimate. Std. Error t value Pr(>|t|)   \n",
       "gdpsh465  -0.05001    0.01579  -3.167  0.00154 **\n",
       "---\n",
       "Signif. codes:  0 '***' 0.001 '**' 0.01 '*' 0.05 '.' 0.1 ' ' 1\n",
       "\n"
      ]
     },
     "metadata": {},
     "output_type": "display_data"
    }
   ],
   "source": [
    "doublesel.effect = rlassoEffect(x = X, y = y, d = d, method = \"double selection\")\n",
    "summary(doublesel.effect)"
   ]
  },
  {
   "cell_type": "code",
   "execution_count": 58,
   "metadata": {
    "vscode": {
     "languageId": "r"
    }
   },
   "outputs": [
    {
     "data": {
      "text/html": [
       "<table class=\"dataframe\">\n",
       "<caption>A xtable: 3 × 2</caption>\n",
       "<thead>\n",
       "\t<tr><th></th><th scope=col>Estimate</th><th scope=col>Std. Error</th></tr>\n",
       "\t<tr><th></th><th scope=col>&lt;dbl&gt;</th><th scope=col>&lt;dbl&gt;</th></tr>\n",
       "</thead>\n",
       "<tbody>\n",
       "\t<tr><th scope=row>full reg via ols</th><td>-0.009377989</td><td>0.02988773</td></tr>\n",
       "\t<tr><th scope=row>partial reg\n",
       "via post-lasso </th><td>-0.049811465</td><td>0.01393636</td></tr>\n",
       "\t<tr><th scope=row>partial reg via double selection</th><td>-0.050005855</td><td>0.01579138</td></tr>\n",
       "</tbody>\n",
       "</table>\n"
      ],
      "text/latex": [
       "A xtable: 3 × 2\n",
       "\\begin{tabular}{r|ll}\n",
       "  & Estimate & Std. Error\\\\\n",
       "  & <dbl> & <dbl>\\\\\n",
       "\\hline\n",
       "\tfull reg via ols & -0.009377989 & 0.02988773\\\\\n",
       "\tpartial reg\n",
       "via post-lasso  & -0.049811465 & 0.01393636\\\\\n",
       "\tpartial reg via double selection & -0.050005855 & 0.01579138\\\\\n",
       "\\end{tabular}\n"
      ],
      "text/markdown": [
       "\n",
       "A xtable: 3 × 2\n",
       "\n",
       "| <!--/--> | Estimate &lt;dbl&gt; | Std. Error &lt;dbl&gt; |\n",
       "|---|---|---|\n",
       "| full reg via ols | -0.009377989 | 0.02988773 |\n",
       "| partial reg\n",
       "via post-lasso  | -0.049811465 | 0.01393636 |\n",
       "| partial reg via double selection | -0.050005855 | 0.01579138 |\n",
       "\n"
      ],
      "text/plain": [
       "                                 Estimate     Std. Error\n",
       "full reg via ols                 -0.009377989 0.02988773\n",
       "partial reg\\nvia post-lasso      -0.049811465 0.01393636\n",
       "partial reg via double selection -0.050005855 0.01579138"
      ]
     },
     "metadata": {},
     "output_type": "display_data"
    }
   ],
   "source": [
    "library(xtable)\n",
    "table = rbind(summary(ls.effect)$coef[\"gdpsh465\", 1:2], summary(lasso.effect)$coef[,\n",
    "1:2], summary(doublesel.effect)$coef[, 1:2])\n",
    "colnames(table) = c(\"Estimate\", \"Std. Error\") #names(summary(full.fit)£coef)[1:2]\n",
    "rownames(table) = c(\"full reg via ols\", \"partial reg\n",
    "via post-lasso \", \"partial reg via double selection\")\n",
    "tab = xtable(table, digits = c(2, 2, 5))\n",
    "tab"
   ]
  },
  {
   "cell_type": "markdown",
   "metadata": {},
   "source": [
    "## 5. Instrumental Variable Estimation in a High-Dimensional Setting"
   ]
  },
  {
   "cell_type": "code",
   "execution_count": null,
   "metadata": {
    "vscode": {
     "languageId": "r"
    }
   },
   "outputs": [],
   "source": []
  },
  {
   "cell_type": "markdown",
   "metadata": {},
   "source": [
    "### 5.2. Application: Economic Development and Institutions."
   ]
  },
  {
   "cell_type": "code",
   "execution_count": 2,
   "metadata": {
    "vscode": {
     "languageId": "r"
    }
   },
   "outputs": [
    {
     "data": {
      "text/html": [
       "<style>\n",
       ".list-inline {list-style: none; margin:0; padding: 0}\n",
       ".list-inline>li {display: inline-block}\n",
       ".list-inline>li:not(:last-child)::after {content: \"\\00b7\"; padding: 0 .5ex}\n",
       "</style>\n",
       "<ol class=list-inline><li>64</li><li>21</li></ol>\n"
      ],
      "text/latex": [
       "\\begin{enumerate*}\n",
       "\\item 64\n",
       "\\item 21\n",
       "\\end{enumerate*}\n"
      ],
      "text/markdown": [
       "1. 64\n",
       "2. 21\n",
       "\n",
       "\n"
      ],
      "text/plain": [
       "[1] 64 21"
      ]
     },
     "metadata": {},
     "output_type": "display_data"
    }
   ],
   "source": [
    "data(AJR)\n",
    "y = AJR$GDP\n",
    "d = AJR$Exprop\n",
    "z = AJR$logMort\n",
    "x = model.matrix(~-1 + (Latitude + Latitude2 + Africa + Asia + Namer + Samer)^2,\n",
    "data = AJR)\n",
    "dim(x)"
   ]
  },
  {
   "cell_type": "code",
   "execution_count": 59,
   "metadata": {
    "vscode": {
     "languageId": "r"
    }
   },
   "outputs": [
    {
     "name": "stdout",
     "output_type": "stream",
     "text": [
      "[1] \"Estimation and significance testing of the effect of target variables in the IV regression model\"\n",
      "       coeff.    se. t-value p-value   \n",
      "Exprop 0.8450 0.2699   3.131 0.00174 **\n",
      "---\n",
      "Signif. codes:  0 '***' 0.001 '**' 0.01 '*' 0.05 '.' 0.1 ' ' 1\n",
      "\n",
      "\n"
     ]
    }
   ],
   "source": [
    "AJR.Xselect = rlassoIV(GDP ~ Exprop + (Latitude + Latitude2 + Africa + Asia + Namer +\n",
    "Samer)^2 | logMort + (Latitude + Latitude2 + Africa + Asia + Namer + Samer)^2,\n",
    "data = AJR, select.X = TRUE, select.Z = FALSE)\n",
    "summary(AJR.Xselect)\n"
   ]
  },
  {
   "cell_type": "code",
   "execution_count": 60,
   "metadata": {
    "vscode": {
     "languageId": "r"
    }
   },
   "outputs": [
    {
     "name": "stdout",
     "output_type": "stream",
     "text": [
      "           2.5 %   97.5 %\n",
      "Exprop 0.3159812 1.374072\n"
     ]
    }
   ],
   "source": [
    "confint(AJR.Xselect)"
   ]
  },
  {
   "cell_type": "code",
   "execution_count": 62,
   "metadata": {
    "vscode": {
     "languageId": "r"
    }
   },
   "outputs": [
    {
     "name": "stdout",
     "output_type": "stream",
     "text": [
      "   [,1] [,2]\n",
      "rD 1.27 1.73\n"
     ]
    }
   ],
   "source": [
    "# parialling out by linear model\n",
    "fmla.y = GDP ~ (Latitude + Latitude2 + Africa + Asia + Namer + Samer)^2\n",
    "fmla.d = Exprop ~ (Latitude + Latitude2 + Africa + Asia + Namer + Samer)^2\n",
    "fmla.z = logMort ~ (Latitude + Latitude2 + Africa + Asia + Namer + Samer)^2\n",
    "rY = lm(fmla.y, data = AJR)$res\n",
    "rD = lm(fmla.d, data = AJR)$res\n",
    "rZ = lm(fmla.z, data = AJR)$res\n",
    "# ivfit.lm = tsls(y=rY,d=rD, x=NULL, z=rZ, intercept=FALSE)\n",
    "ivfit.lm = tsls(rY ~ rD | rZ, intercept = FALSE)\n",
    "print(cbind(ivfit.lm$coef, ivfit.lm$se), digits = 3)"
   ]
  },
  {
   "cell_type": "code",
   "execution_count": 63,
   "metadata": {
    "vscode": {
     "languageId": "r"
    }
   },
   "outputs": [],
   "source": [
    "# parialling out by lasso\n",
    "rY = rlasso(fmla.y, data = AJR)$res\n",
    "rD = rlasso(fmla.d, data = AJR)$res\n",
    "rZ = rlasso(fmla.z, data = AJR)$res\n",
    "# ivfit.lasso = tsls(y=rY,d=rD, x=NULL, z=rZ, intercept=FALSE)\n",
    "ivfit.lasso = tsls(rY ~ rD | rZ, intercept = FALSE)"
   ]
  },
  {
   "cell_type": "code",
   "execution_count": 64,
   "metadata": {
    "vscode": {
     "languageId": "r"
    }
   },
   "outputs": [
    {
     "name": "stdout",
     "output_type": "stream",
     "text": [
      "[1] \"Estimates and Significance Testing from from tsls\"\n",
      "   Estimate Std. Error t value p value   \n",
      "rD   0.8450     0.2699   3.131 0.00174 **\n",
      "---\n",
      "Signif. codes:  0 '***' 0.001 '**' 0.01 '*' 0.05 '.' 0.1 ' ' 1\n",
      "\n",
      "\n"
     ]
    }
   ],
   "source": [
    "summary(ivfit.lasso)"
   ]
  },
  {
   "cell_type": "markdown",
   "metadata": {},
   "source": [
    "### 5.3. Application: Impact of Eminent Domain Decisions on Economic Outcomes."
   ]
  },
  {
   "cell_type": "code",
   "execution_count": 68,
   "metadata": {
    "vscode": {
     "languageId": "r"
    }
   },
   "outputs": [],
   "source": [
    "data(EminentDomain)\n",
    "z <- as.matrix(EminentDomain$logGDP$z)\n",
    "x <- as.matrix(EminentDomain$logGDP$x)\n",
    "y <- EminentDomain$logGDP$y\n",
    "d <- EminentDomain$logGDP$d\n",
    "x <- x[, apply(x, 2, mean, na.rm = TRUE) > 0.05] #\n",
    "z <- z[, apply(z, 2, mean, na.rm = TRUE) > 0.05] #"
   ]
  },
  {
   "cell_type": "code",
   "execution_count": 69,
   "metadata": {
    "vscode": {
     "languageId": "r"
    }
   },
   "outputs": [],
   "source": [
    "ED.ols = lm(y ~ cbind(d, x))\n",
    "ED.2sls = tsls(y = y, d = d, x = x, z = z[, 1:2], intercept = FALSE)"
   ]
  },
  {
   "cell_type": "code",
   "execution_count": 72,
   "metadata": {
    "vscode": {
     "languageId": "r"
    }
   },
   "outputs": [
    {
     "name": "stdout",
     "output_type": "stream",
     "text": [
      "[1] \"Estimates and significance testing of the effect of target variables in the IV regression model\"\n",
      "   coeff.    se. t-value p-value\n",
      "d1 0.4146 0.2902   1.428   0.153\n",
      "\n",
      "\n"
     ]
    }
   ],
   "source": [
    "lasso.IV.Z = rlassoIV(x = x, d = d, y = y, z = z, select.X = FALSE, select.Z = TRUE)\n",
    "summary(lasso.IV.Z)"
   ]
  },
  {
   "cell_type": "code",
   "execution_count": 73,
   "metadata": {
    "vscode": {
     "languageId": "r"
    }
   },
   "outputs": [
    {
     "name": "stdout",
     "output_type": "stream",
     "text": [
      "        2.5 %    97.5 %\n",
      "d1 -0.1542764 0.9834796\n"
     ]
    }
   ],
   "source": [
    "confint(lasso.IV.Z)"
   ]
  },
  {
   "cell_type": "code",
   "execution_count": 74,
   "metadata": {
    "vscode": {
     "languageId": "r"
    }
   },
   "outputs": [
    {
     "name": "stdout",
     "output_type": "stream",
     "text": [
      "Estimates and Significance Testing of the effect of target variables in the IV regression model \n",
      "     coeff.      se. t-value p-value\n",
      "d1 -0.02383  0.12851  -0.185   0.853\n",
      "\n",
      "\n"
     ]
    }
   ],
   "source": [
    "lasso.IV.XZ = rlassoIV(x = x, d = d, y = y, z = z, select.X = TRUE, select.Z = TRUE)\n",
    "summary(lasso.IV.XZ)"
   ]
  },
  {
   "cell_type": "code",
   "execution_count": 75,
   "metadata": {
    "vscode": {
     "languageId": "r"
    }
   },
   "outputs": [
    {
     "name": "stdout",
     "output_type": "stream",
     "text": [
      "        2.5 %    97.5 %\n",
      "d1 -0.2757029 0.2280335\n"
     ]
    }
   ],
   "source": [
    "confint(lasso.IV.XZ)"
   ]
  },
  {
   "cell_type": "code",
   "execution_count": 79,
   "metadata": {
    "vscode": {
     "languageId": "r"
    }
   },
   "outputs": [
    {
     "name": "stdout",
     "output_type": "stream",
     "text": [
      "[1] \"Estimates and significance testing of the effect of target variables in the IV regression model\"\n",
      "   coeff.    se. t-value p-value\n",
      "d1 0.4146 0.2902   1.428   0.153\n",
      "\n",
      "\n",
      "Estimates and Significance Testing of the effect of target variables in the IV regression model \n",
      "     coeff.      se. t-value p-value\n",
      "d1 -0.02383  0.12851  -0.185   0.853\n",
      "\n",
      "\n"
     ]
    },
    {
     "data": {
      "text/html": [
       "<table class=\"dataframe\">\n",
       "<caption>A xtable: 4 × 2</caption>\n",
       "<thead>\n",
       "\t<tr><th></th><th scope=col>Estimate</th><th scope=col>Std. Error</th></tr>\n",
       "\t<tr><th></th><th scope=col>&lt;dbl&gt;</th><th scope=col>&lt;dbl&gt;</th></tr>\n",
       "</thead>\n",
       "<tbody>\n",
       "\t<tr><th scope=row>ols regression</th><td> 0.007864732</td><td>0.009865927</td></tr>\n",
       "\t<tr><th scope=row>IV estimation </th><td>-0.010733269</td><td>0.033766362</td></tr>\n",
       "\t<tr><th scope=row>selection on Z</th><td> 0.414601641</td><td>0.290249208</td></tr>\n",
       "\t<tr><th scope=row>selection on X and Z</th><td>-0.023834697</td><td>0.128506538</td></tr>\n",
       "</tbody>\n",
       "</table>\n"
      ],
      "text/latex": [
       "A xtable: 4 × 2\n",
       "\\begin{tabular}{r|ll}\n",
       "  & Estimate & Std. Error\\\\\n",
       "  & <dbl> & <dbl>\\\\\n",
       "\\hline\n",
       "\tols regression &  0.007864732 & 0.009865927\\\\\n",
       "\tIV estimation  & -0.010733269 & 0.033766362\\\\\n",
       "\tselection on Z &  0.414601641 & 0.290249208\\\\\n",
       "\tselection on X and Z & -0.023834697 & 0.128506538\\\\\n",
       "\\end{tabular}\n"
      ],
      "text/markdown": [
       "\n",
       "A xtable: 4 × 2\n",
       "\n",
       "| <!--/--> | Estimate &lt;dbl&gt; | Std. Error &lt;dbl&gt; |\n",
       "|---|---|---|\n",
       "| ols regression |  0.007864732 | 0.009865927 |\n",
       "| IV estimation  | -0.010733269 | 0.033766362 |\n",
       "| selection on Z |  0.414601641 | 0.290249208 |\n",
       "| selection on X and Z | -0.023834697 | 0.128506538 |\n",
       "\n"
      ],
      "text/plain": [
       "                     Estimate     Std. Error \n",
       "ols regression        0.007864732 0.009865927\n",
       "IV estimation        -0.010733269 0.033766362\n",
       "selection on Z        0.414601641 0.290249208\n",
       "selection on X and Z -0.023834697 0.128506538"
      ]
     },
     "metadata": {},
     "output_type": "display_data"
    }
   ],
   "source": [
    "library(xtable)\n",
    "table = matrix(0, 4, 2)\n",
    "table[1, ] = summary(ED.ols)$coef[2, 1:2]\n",
    "table[2, ] = cbind(ED.2sls$coef[1], ED.2sls$se[1])\n",
    "table[3, ] = summary(lasso.IV.Z)[, 1:2]\n",
    "table[4, ] = summary(lasso.IV.XZ)[, 1:2]\n",
    "colnames(table) = c(\"Estimate\", \"Std. Error\")\n",
    "rownames(table) = c(\"ols regression\", \"IV estimation \", \"selection on Z\", \"selection on X and Z\")\n",
    "tab = xtable(table, digits = c(2, 2, 7))\n",
    "tab"
   ]
  },
  {
   "cell_type": "markdown",
   "metadata": {},
   "source": [
    "## 6. Inference on Treatment Effects in a High-Dimensional Setting"
   ]
  },
  {
   "cell_type": "markdown",
   "metadata": {},
   "source": [
    "### 6.3. Application: 401(k) plan participation."
   ]
  },
  {
   "cell_type": "code",
   "execution_count": 2,
   "metadata": {
    "vscode": {
     "languageId": "r"
    }
   },
   "outputs": [],
   "source": [
    "data(pension)\n",
    "y = pension$tw\n",
    "d = pension$p401\n",
    "z = pension$e401\n",
    "X = pension[, c(\"i2\", \"i3\", \"i4\", \"i5\", \"i6\", \"i7\", \"a2\", \"a3\", \"a4\", \"a5\", \"fsize\",\n",
    "\"hs\", \"smcol\", \"col\", \"marr\", \"twoearn\", \"db\", \"pira\", \"hown\")] # simple model\n",
    "xvar = c(\"i2\", \"i3\", \"i4\", \"i5\", \"i6\", \"i7\", \"a2\", \"a3\", \"a4\", \"a5\", \"fsize\", \"hs\",\n",
    "\"smcol\", \"col\", \"marr\", \"twoearn\", \"db\", \"pira\", \"hown\")\n",
    "xpart = paste(xvar, collapse = \"+\")\n",
    "form = as.formula(paste(\"tw ~ \", paste(c(\"p401\", xvar), collapse = \"+\"), \"|\", paste(xvar,\n",
    "collapse = \"+\")))\n",
    "formZ = as.formula(paste(\"tw ~ \", paste(c(\"p401\", xvar), collapse = \"+\"), \"|\", paste(c(\"e401\",\n",
    "xvar), collapse = \"+\")))"
   ]
  },
  {
   "cell_type": "code",
   "execution_count": 3,
   "metadata": {
    "vscode": {
     "languageId": "r"
    }
   },
   "outputs": [
    {
     "name": "stdout",
     "output_type": "stream",
     "text": [
      "Estimation and significance testing of the treatment effect \n",
      "Type: ATE \n",
      "Bootstrap: not applicable \n",
      "   coeff.   se. t-value  p-value    \n",
      "TE  10180  1931   5.273 1.34e-07 ***\n",
      "---\n",
      "Signif. codes:  0 '***' 0.001 '**' 0.01 '*' 0.05 '.' 0.1 ' ' 1\n",
      "\n",
      "\n"
     ]
    }
   ],
   "source": [
    "pension.ate = rlassoATE(form, data = pension)\n",
    "summary(pension.ate)"
   ]
  },
  {
   "cell_type": "code",
   "execution_count": 4,
   "metadata": {
    "vscode": {
     "languageId": "r"
    }
   },
   "outputs": [
    {
     "name": "stdout",
     "output_type": "stream",
     "text": [
      "Estimation and significance testing of the treatment effect \n",
      "Type: ATET \n",
      "Bootstrap: not applicable \n",
      "   coeff.   se. t-value p-value    \n",
      "TE  12628  2944   4.289 1.8e-05 ***\n",
      "---\n",
      "Signif. codes:  0 '***' 0.001 '**' 0.01 '*' 0.05 '.' 0.1 ' ' 1\n",
      "\n",
      "\n"
     ]
    }
   ],
   "source": [
    "# pension.atet = rlassoATET(X,d,y)\n",
    "pension.atet = rlassoATET(form, data = pension)\n",
    "summary(pension.atet)"
   ]
  },
  {
   "cell_type": "code",
   "execution_count": 6,
   "metadata": {
    "vscode": {
     "languageId": "r"
    }
   },
   "outputs": [
    {
     "ename": "ERROR",
     "evalue": "Error in h(simpleError(msg, call)): error in evaluating the argument 'x' in selecting a method for function 'drop': argumentos no compatibles\n",
     "output_type": "error",
     "traceback": [
      "Error in h(simpleError(msg, call)): error in evaluating the argument 'x' in selecting a method for function 'drop': argumentos no compatibles\nTraceback:\n",
      "1. rlassoLATE(X, d, y, z)",
      "2. rlassoLATE.default(X, d, y, z)",
      "3. rlassologit(d[indz0] ~ x[indz0, , drop = FALSE], post = post, \n .     intercept = intercept, penalty = penalty)",
      "4. rlassologit.formula(d[indz0] ~ x[indz0, , drop = FALSE], post = post, \n .     intercept = intercept, penalty = penalty)",
      "5. rlassologit(x, y, post = post, intercept = intercept, model = model, \n .     penalty = penalty, control = control, ...)",
      "6. rlassologit.default(x, y, post = post, intercept = intercept, \n .     model = model, penalty = penalty, control = control, ...)",
      "7. glmnet::glmnet(x, y, family = c(\"binomial\"), alpha = 1, lambda = lambda[1], \n .     standardize = TRUE, intercept = intercept)",
      "8. lognet(xd, is.sparse, ix, jx, y, weights, offset, alpha, nobs, \n .     nvars, jd, vp, cl, ne, nx, nlam, flmin, ulam, thresh, isd, \n .     intr, vnames, maxit, kopt, family, pb)",
      "9. drop(y %*% rep(1, nc))",
      "10. .handleSimpleError(function (cond) \n  . .Internal(C_tryCatchHelper(addr, 1L, cond)), \"argumentos no compatibles\", \n  .     base::quote(y %*% rep(1, nc)))",
      "11. h(simpleError(msg, call))"
     ]
    }
   ],
   "source": [
    "pension.late = rlassoLATE(X, d, y, z)\n",
    "summary(pension.late)"
   ]
  },
  {
   "cell_type": "code",
   "execution_count": null,
   "metadata": {
    "vscode": {
     "languageId": "r"
    }
   },
   "outputs": [],
   "source": [
    "pension.latet = rlassoLATET(X, d, y, z)\n",
    "summary(pension.latet)"
   ]
  },
  {
   "cell_type": "code",
   "execution_count": null,
   "metadata": {
    "vscode": {
     "languageId": "r"
    }
   },
   "outputs": [],
   "source": [
    "library(xtable)\n",
    "table = matrix(0, 4, 2)\n",
    "table[1, ] = summary(pension.ate)[, 1:2]\n",
    "table[2, ] = summary(pension.atet)[, 1:2]\n",
    "table[3, ] = summary(pension.late)[, 1:2]\n",
    "table[4, ] = summary(pension.latet)[, 1:2]\n",
    "colnames(table) = c(\"Estimate\", \"Std. Error\")\n",
    "rownames(table) = c(\"ATE\", \"ATET \", \"LATE\", \"LATET\")\n",
    "tab = xtable(table, digits = c(2, 2, 2))"
   ]
  },
  {
   "cell_type": "code",
   "execution_count": 18,
   "metadata": {
    "vscode": {
     "languageId": "r"
    }
   },
   "outputs": [],
   "source": [
    "# X = model.matrix(~ -1 + (i2 + i3 + i4 + i5 + i6 + i7 + a2 + a3 + a4 + a5 +\n",
    "# fsize + hs + smcol + col + marr + twoearn + db + pira + hown)^2, data =\n",
    "# pension) # model with interactions\n",
    "xvar2 <- paste(\"(\", xvar, \")^2\", sep = \"\")\n",
    "formExt = as.formula(paste(\"tw ~ \", paste(c(\"p401\", xvar2), collapse = \"+\"), \"|\",\n",
    "paste(xvar2, collapse = \"+\")))\n",
    "formZExt = as.formula(paste(\"tw ~ \", paste(c(\"p401\", xvar2), collapse = \"+\"), \"|\",\n",
    "paste(c(\"e401\", xvar2), collapse = \"+\")))"
   ]
  },
  {
   "cell_type": "code",
   "execution_count": 24,
   "metadata": {
    "vscode": {
     "languageId": "r"
    }
   },
   "outputs": [],
   "source": [
    "pension.ate = rlassoATE(X, z, y)\n",
    "pension.atet = rlassoATET(X, z, y)\n",
    "pension.late = rlassoLATE(X, d, y, z)\n",
    "pension.latet = rlassoLATET(X, d, y, z)\n",
    "# pension.ate = rlassoATE(formExt, data = pension) pension.atet =\n",
    "# rlassoATET(formExt, data = pension) pension.late = rlassoLATE(formZExt, data =\n",
    "# pension) pension.latet = rlassoLATET(formZExt, data = pension)\n",
    "table = matrix(0, 4, 2)\n",
    "table[1, ] = summary(pension.ate)[, 1:2]\n",
    "table[2, ] = summary(pension.atet)[, 1:2]\n",
    "table[3, ] = summary(pension.late)[, 1:2]\n",
    "table[4, ] = summary(pension.latet)[, 1:2]\n",
    "colnames(table) = c(\"Estimate\", \"Std. Error\")\n",
    "rownames(table) = c(\"ATE\", \"ATET \", \"LATE\", \"LATET\")\n",
    "tab = xtable(table, digits = c(2, 2, 2))"
   ]
  },
  {
   "cell_type": "code",
   "execution_count": null,
   "metadata": {
    "vscode": {
     "languageId": "r"
    }
   },
   "outputs": [],
   "source": []
  },
  {
   "cell_type": "markdown",
   "metadata": {},
   "source": [
    "## 7. The Lasso Methods for Discovery of Significant Causes amongst Many Potential Causes, with Many Controls"
   ]
  },
  {
   "cell_type": "code",
   "execution_count": 50,
   "metadata": {
    "vscode": {
     "languageId": "r"
    }
   },
   "outputs": [],
   "source": [
    "# library(hdm) library(stats)\n",
    "set.seed(1)\n",
    "n = 100\n",
    "p1 = 20\n",
    "p2 = 20\n",
    "D = matrix(rnorm(n * p1), n, p1) # Causes\n",
    "W = matrix(rnorm(n * p2), n, p2) # Controls\n",
    "X = cbind(D, W) # Regressors\n",
    "Y = D[, 1] * 5 + W[, 1] * 5 + rnorm(n) #Outcome"
   ]
  },
  {
   "cell_type": "code",
   "execution_count": 51,
   "metadata": {
    "vscode": {
     "languageId": "r"
    }
   },
   "outputs": [
    {
     "data": {
      "text/html": [
       "<table class=\"dataframe\">\n",
       "<caption>A matrix: 20 × 2 of type dbl</caption>\n",
       "<thead>\n",
       "\t<tr><th></th><th scope=col>2.5 %</th><th scope=col>97.5 %</th></tr>\n",
       "</thead>\n",
       "<tbody>\n",
       "\t<tr><th scope=row>V1</th><td> 4.5145877</td><td>5.21430498</td></tr>\n",
       "\t<tr><th scope=row>V2</th><td>-0.3142909</td><td>0.30494650</td></tr>\n",
       "\t<tr><th scope=row>V3</th><td>-0.3524109</td><td>0.18678880</td></tr>\n",
       "\t<tr><th scope=row>V4</th><td>-0.2542430</td><td>0.28738914</td></tr>\n",
       "\t<tr><th scope=row>V5</th><td>-0.2765802</td><td>0.27627177</td></tr>\n",
       "\t<tr><th scope=row>V6</th><td>-0.3214676</td><td>0.29422684</td></tr>\n",
       "\t<tr><th scope=row>V7</th><td>-0.2262507</td><td>0.30094168</td></tr>\n",
       "\t<tr><th scope=row>V8</th><td>-0.0473541</td><td>0.47366372</td></tr>\n",
       "\t<tr><th scope=row>V9</th><td>-0.1865636</td><td>0.39023520</td></tr>\n",
       "\t<tr><th scope=row>V10</th><td>-0.2372356</td><td>0.26411185</td></tr>\n",
       "\t<tr><th scope=row>V11</th><td>-0.3147091</td><td>0.20945872</td></tr>\n",
       "\t<tr><th scope=row>V12</th><td>-0.3091905</td><td>0.26572176</td></tr>\n",
       "\t<tr><th scope=row>V13</th><td>-0.1741550</td><td>0.37682465</td></tr>\n",
       "\t<tr><th scope=row>V14</th><td>-0.3235734</td><td>0.38543162</td></tr>\n",
       "\t<tr><th scope=row>V15</th><td>-0.3219763</td><td>0.31312486</td></tr>\n",
       "\t<tr><th scope=row>V16</th><td>-0.2649505</td><td>0.33100700</td></tr>\n",
       "\t<tr><th scope=row>V17</th><td>-0.1792080</td><td>0.41696169</td></tr>\n",
       "\t<tr><th scope=row>V18</th><td>-0.3693247</td><td>0.04695928</td></tr>\n",
       "\t<tr><th scope=row>V19</th><td>-0.1073109</td><td>0.39368776</td></tr>\n",
       "\t<tr><th scope=row>V20</th><td>-0.2157182</td><td>0.25543839</td></tr>\n",
       "</tbody>\n",
       "</table>\n"
      ],
      "text/latex": [
       "A matrix: 20 × 2 of type dbl\n",
       "\\begin{tabular}{r|ll}\n",
       "  & 2.5 \\% & 97.5 \\%\\\\\n",
       "\\hline\n",
       "\tV1 &  4.5145877 & 5.21430498\\\\\n",
       "\tV2 & -0.3142909 & 0.30494650\\\\\n",
       "\tV3 & -0.3524109 & 0.18678880\\\\\n",
       "\tV4 & -0.2542430 & 0.28738914\\\\\n",
       "\tV5 & -0.2765802 & 0.27627177\\\\\n",
       "\tV6 & -0.3214676 & 0.29422684\\\\\n",
       "\tV7 & -0.2262507 & 0.30094168\\\\\n",
       "\tV8 & -0.0473541 & 0.47366372\\\\\n",
       "\tV9 & -0.1865636 & 0.39023520\\\\\n",
       "\tV10 & -0.2372356 & 0.26411185\\\\\n",
       "\tV11 & -0.3147091 & 0.20945872\\\\\n",
       "\tV12 & -0.3091905 & 0.26572176\\\\\n",
       "\tV13 & -0.1741550 & 0.37682465\\\\\n",
       "\tV14 & -0.3235734 & 0.38543162\\\\\n",
       "\tV15 & -0.3219763 & 0.31312486\\\\\n",
       "\tV16 & -0.2649505 & 0.33100700\\\\\n",
       "\tV17 & -0.1792080 & 0.41696169\\\\\n",
       "\tV18 & -0.3693247 & 0.04695928\\\\\n",
       "\tV19 & -0.1073109 & 0.39368776\\\\\n",
       "\tV20 & -0.2157182 & 0.25543839\\\\\n",
       "\\end{tabular}\n"
      ],
      "text/markdown": [
       "\n",
       "A matrix: 20 × 2 of type dbl\n",
       "\n",
       "| <!--/--> | 2.5 % | 97.5 % |\n",
       "|---|---|---|\n",
       "| V1 |  4.5145877 | 5.21430498 |\n",
       "| V2 | -0.3142909 | 0.30494650 |\n",
       "| V3 | -0.3524109 | 0.18678880 |\n",
       "| V4 | -0.2542430 | 0.28738914 |\n",
       "| V5 | -0.2765802 | 0.27627177 |\n",
       "| V6 | -0.3214676 | 0.29422684 |\n",
       "| V7 | -0.2262507 | 0.30094168 |\n",
       "| V8 | -0.0473541 | 0.47366372 |\n",
       "| V9 | -0.1865636 | 0.39023520 |\n",
       "| V10 | -0.2372356 | 0.26411185 |\n",
       "| V11 | -0.3147091 | 0.20945872 |\n",
       "| V12 | -0.3091905 | 0.26572176 |\n",
       "| V13 | -0.1741550 | 0.37682465 |\n",
       "| V14 | -0.3235734 | 0.38543162 |\n",
       "| V15 | -0.3219763 | 0.31312486 |\n",
       "| V16 | -0.2649505 | 0.33100700 |\n",
       "| V17 | -0.1792080 | 0.41696169 |\n",
       "| V18 | -0.3693247 | 0.04695928 |\n",
       "| V19 | -0.1073109 | 0.39368776 |\n",
       "| V20 | -0.2157182 | 0.25543839 |\n",
       "\n"
      ],
      "text/plain": [
       "    2.5 %      97.5 %    \n",
       "V1   4.5145877 5.21430498\n",
       "V2  -0.3142909 0.30494650\n",
       "V3  -0.3524109 0.18678880\n",
       "V4  -0.2542430 0.28738914\n",
       "V5  -0.2765802 0.27627177\n",
       "V6  -0.3214676 0.29422684\n",
       "V7  -0.2262507 0.30094168\n",
       "V8  -0.0473541 0.47366372\n",
       "V9  -0.1865636 0.39023520\n",
       "V10 -0.2372356 0.26411185\n",
       "V11 -0.3147091 0.20945872\n",
       "V12 -0.3091905 0.26572176\n",
       "V13 -0.1741550 0.37682465\n",
       "V14 -0.3235734 0.38543162\n",
       "V15 -0.3219763 0.31312486\n",
       "V16 -0.2649505 0.33100700\n",
       "V17 -0.1792080 0.41696169\n",
       "V18 -0.3693247 0.04695928\n",
       "V19 -0.1073109 0.39368776\n",
       "V20 -0.2157182 0.25543839"
      ]
     },
     "metadata": {},
     "output_type": "display_data"
    }
   ],
   "source": [
    "confint(rlassoEffects(X, Y, index = c(1:p1)), joint = TRUE)"
   ]
  },
  {
   "cell_type": "code",
   "execution_count": null,
   "metadata": {
    "vscode": {
     "languageId": "r"
    }
   },
   "outputs": [],
   "source": []
  },
  {
   "cell_type": "code",
   "execution_count": null,
   "metadata": {
    "vscode": {
     "languageId": "r"
    }
   },
   "outputs": [],
   "source": []
  },
  {
   "cell_type": "code",
   "execution_count": null,
   "metadata": {
    "vscode": {
     "languageId": "r"
    }
   },
   "outputs": [],
   "source": []
  }
 ],
 "metadata": {
  "kernelspec": {
   "display_name": "R",
   "language": "R",
   "name": "ir"
  },
  "language_info": {
   "codemirror_mode": "r",
   "file_extension": ".r",
   "mimetype": "text/x-r-source",
   "name": "R",
   "pygments_lexer": "r",
   "version": "4.2.0"
  },
  "orig_nbformat": 4
 },
 "nbformat": 4,
 "nbformat_minor": 2
}
