{
 "cells": [
  {
   "cell_type": "markdown",
   "metadata": {},
   "source": [
    "# HIGH-DIMENSIONAL METRICS IN R"
   ]
  },
  {
   "cell_type": "markdown",
   "metadata": {},
   "source": [
    "## 2. How to get started"
   ]
  },
  {
   "cell_type": "code",
   "execution_count": 1,
   "metadata": {
    "vscode": {
     "languageId": "r"
    }
   },
   "outputs": [
    {
     "name": "stderr",
     "output_type": "stream",
     "text": [
      "Warning message:\n",
      "\"package 'hdm' was built under R version 4.2.1\"\n"
     ]
    }
   ],
   "source": [
    "library(hdm)\n",
    "library(stats)"
   ]
  },
  {
   "cell_type": "code",
   "execution_count": null,
   "metadata": {
    "vscode": {
     "languageId": "r"
    }
   },
   "outputs": [],
   "source": []
  },
  {
   "cell_type": "code",
   "execution_count": 115,
   "metadata": {
    "vscode": {
     "languageId": "r"
    }
   },
   "outputs": [
    {
     "data": {
      "text/html": [
       "<style>\n",
       ".list-inline {list-style: none; margin:0; padding: 0}\n",
       ".list-inline>li {display: inline-block}\n",
       ".list-inline>li:not(:last-child)::after {content: \"\\00b7\"; padding: 0 .5ex}\n",
       "</style>\n",
       "<ol class=list-inline><li>90</li><li>63</li></ol>\n"
      ],
      "text/latex": [
       "\\begin{enumerate*}\n",
       "\\item 90\n",
       "\\item 63\n",
       "\\end{enumerate*}\n"
      ],
      "text/markdown": [
       "1. 90\n",
       "2. 63\n",
       "\n",
       "\n"
      ],
      "text/plain": [
       "[1] 90 63"
      ]
     },
     "metadata": {},
     "output_type": "display_data"
    }
   ],
   "source": [
    "data(GrowthData)\n",
    "dim(GrowthData)\n",
    "## [1] 90 63\n",
    "y = GrowthData[, 1, drop = F]\n",
    "d = GrowthData[, 3, drop = F]\n",
    "x = as.matrix(GrowthData)[, -c(1, 2, 3)]\n",
    "\n",
    "# a = (rlasso(x = x, y = y)"
   ]
  },
  {
   "cell_type": "code",
   "execution_count": 118,
   "metadata": {
    "vscode": {
     "languageId": "r"
    }
   },
   "outputs": [
    {
     "data": {
      "text/plain": [
       "\n",
       "Call:\n",
       "rlasso.default(x = x, y = y)\n",
       "\n",
       "Coefficients:\n",
       "(Intercept)        bmp1l       freeop      freetar          h65         hm65  \n",
       "    0.05810     -0.07557      0.00000      0.00000      0.00000      0.00000  \n",
       "       hf65          p65         pm65         pf65          s65         sm65  \n",
       "    0.00000      0.00000      0.00000      0.00000      0.00000      0.00000  \n",
       "       sf65       fert65       mort65     lifee065        gpop1        fert1  \n",
       "    0.00000      0.00000      0.00000      0.00000      0.00000      0.00000  \n",
       "      mort1      invsh41      geetot1      geerec1         gde1       govwb1  \n",
       "    0.00000      0.00000      0.00000      0.00000      0.00000      0.00000  \n",
       "    govsh41     gvxdxe41       high65      highm65      highf65      highc65  \n",
       "    0.00000      0.00000      0.00000      0.00000      0.00000      0.00000  \n",
       "   highcm65     highcf65      human65     humanm65     humanf65        hyr65  \n",
       "    0.00000      0.00000      0.00000      0.00000      0.00000      0.00000  \n",
       "     hyrm65       hyrf65         no65        nom65        nof65     pinstab1  \n",
       "    0.00000      0.00000      0.00000      0.00000      0.00000      0.00000  \n",
       "      pop65     worker65      pop1565      pop6565        sec65       secm65  \n",
       "    0.00000      0.00000      0.00000      0.00000      0.00000      0.00000  \n",
       "     secf65       secc65      seccm65      seccf65        syr65       syrm65  \n",
       "    0.00000      0.00000      0.00000      0.00000      0.00000      0.00000  \n",
       "     syrf65     teapri65     teasec65          ex1          im1         xr65  \n",
       "    0.00000      0.00000      0.00000      0.00000      0.00000      0.00000  \n",
       "       tot1  \n",
       "    0.00000  \n"
      ]
     },
     "metadata": {},
     "output_type": "display_data"
    }
   ],
   "source": [
    "rlasso(x = x, y = y)"
   ]
  },
  {
   "cell_type": "code",
   "execution_count": 117,
   "metadata": {
    "vscode": {
     "languageId": "r"
    }
   },
   "outputs": [],
   "source": [
    "a = 5"
   ]
  },
  {
   "cell_type": "markdown",
   "metadata": {},
   "source": [
    "## 4. Inference on Target Regression Coefficients"
   ]
  },
  {
   "cell_type": "markdown",
   "metadata": {},
   "source": [
    "### 4.1. Intuition for the Orthogonality Principle in Linear Models via Partialling Out."
   ]
  },
  {
   "cell_type": "code",
   "execution_count": 469,
   "metadata": {
    "vscode": {
     "languageId": "r"
    }
   },
   "outputs": [],
   "source": [
    "set.seed(1)\n",
    "n = 5000\n",
    "p = 20\n",
    "X = matrix(rnorm(n * p), ncol = p)\n",
    "colnames(X) = c(\"d\", paste(\"x\", 1:19, sep = \"\"))\n",
    "xnames = colnames(X)[-1]\n",
    "beta = rep(1, 20)\n",
    "y = X %*% beta + rnorm(n)\n",
    "dat = data.frame(y = y, X)\n",
    "#save(dat, file = \"../data/4_1.csv\")\n",
    "#write.csv(dat,\"../data/4_1.csv\", row.names = FALSE)\n"
   ]
  },
  {
   "cell_type": "code",
   "execution_count": 471,
   "metadata": {
    "vscode": {
     "languageId": "r"
    }
   },
   "outputs": [
    {
     "data": {
      "text/html": [
       "<style>\n",
       ".dl-inline {width: auto; margin:0; padding: 0}\n",
       ".dl-inline>dt, .dl-inline>dd {float: none; width: auto; display: inline-block}\n",
       ".dl-inline>dt::after {content: \":\\0020\"; padding-right: .5ex}\n",
       ".dl-inline>dt:not(:first-of-type) {padding-left: .5ex}\n",
       "</style><dl class=dl-inline><dt>Estimate</dt><dd>0.978074548374755</dd><dt>Std. Error</dt><dd>0.0137122468163772</dd></dl>\n"
      ],
      "text/latex": [
       "\\begin{description*}\n",
       "\\item[Estimate] 0.978074548374755\n",
       "\\item[Std. Error] 0.0137122468163772\n",
       "\\end{description*}\n"
      ],
      "text/markdown": [
       "Estimate\n",
       ":   0.978074548374755Std. Error\n",
       ":   0.0137122468163772\n",
       "\n"
      ],
      "text/plain": [
       "  Estimate Std. Error \n",
       "0.97807455 0.01371225 "
      ]
     },
     "metadata": {},
     "output_type": "display_data"
    }
   ],
   "source": [
    "# full fit\n",
    "fmla = as.formula(paste(\"y ~ \", paste(colnames(X), collapse = \"+\")))\n",
    "full.fit = lm(fmla, data = dat)\n",
    "summary(full.fit)$coef[\"d\", 1:2]"
   ]
  },
  {
   "cell_type": "code",
   "execution_count": 485,
   "metadata": {
    "vscode": {
     "languageId": "r"
    }
   },
   "outputs": [
    {
     "data": {
      "text/html": [
       "<style>\n",
       ".dl-inline {width: auto; margin:0; padding: 0}\n",
       ".dl-inline>dt, .dl-inline>dd {float: none; width: auto; display: inline-block}\n",
       ".dl-inline>dt::after {content: \":\\0020\"; padding-right: .5ex}\n",
       ".dl-inline>dt:not(:first-of-type) {padding-left: .5ex}\n",
       "</style><dl class=dl-inline><dt>Estimate</dt><dd>0.978074548374761</dd><dt>Std. Error</dt><dd>0.0136861583043357</dd></dl>\n"
      ],
      "text/latex": [
       "\\begin{description*}\n",
       "\\item[Estimate] 0.978074548374761\n",
       "\\item[Std. Error] 0.0136861583043357\n",
       "\\end{description*}\n"
      ],
      "text/markdown": [
       "Estimate\n",
       ":   0.978074548374761Std. Error\n",
       ":   0.0136861583043357\n",
       "\n"
      ],
      "text/plain": [
       "  Estimate Std. Error \n",
       "0.97807455 0.01368616 "
      ]
     },
     "metadata": {},
     "output_type": "display_data"
    }
   ],
   "source": [
    "fmla.y = as.formula(paste(\"y ~ \", paste(xnames, collapse = \"+\")))\n",
    "fmla.d = as.formula(paste(\"d ~ \", paste(xnames, collapse = \"+\")))\n",
    "# partial fit via ols\n",
    "rY = lm(fmla.y, data = dat)$res\n",
    "rD = lm(fmla.d, data = dat)$res\n",
    "partial.fit.ls = lm(rY ~ rD)\n",
    "summary(partial.fit.ls)$coef[\"rD\", 1:2]"
   ]
  },
  {
   "cell_type": "code",
   "execution_count": 488,
   "metadata": {
    "vscode": {
     "languageId": "r"
    }
   },
   "outputs": [
    {
     "data": {
      "text/html": [
       "<style>\n",
       ".dl-inline {width: auto; margin:0; padding: 0}\n",
       ".dl-inline>dt, .dl-inline>dd {float: none; width: auto; display: inline-block}\n",
       ".dl-inline>dt::after {content: \":\\0020\"; padding-right: .5ex}\n",
       ".dl-inline>dt:not(:first-of-type) {padding-left: .5ex}\n",
       "</style><dl class=dl-inline><dt>Estimate</dt><dd>0.972738704584573</dd><dt>Std. Error</dt><dd>0.0136867656564768</dd></dl>\n"
      ],
      "text/latex": [
       "\\begin{description*}\n",
       "\\item[Estimate] 0.972738704584573\n",
       "\\item[Std. Error] 0.0136867656564768\n",
       "\\end{description*}\n"
      ],
      "text/markdown": [
       "Estimate\n",
       ":   0.972738704584573Std. Error\n",
       ":   0.0136867656564768\n",
       "\n"
      ],
      "text/plain": [
       "  Estimate Std. Error \n",
       "0.97273870 0.01368677 "
      ]
     },
     "metadata": {},
     "output_type": "display_data"
    }
   ],
   "source": [
    "rY = rlasso(fmla.y, data = dat)$res\n",
    "rD = rlasso(fmla.d, data = dat)$res\n",
    "partial.fit.postlasso = lm(rY ~ rD)\n",
    "summary(partial.fit.postlasso)$coef[\"rD\", 1:2]"
   ]
  },
  {
   "cell_type": "code",
   "execution_count": null,
   "metadata": {
    "vscode": {
     "languageId": "r"
    }
   },
   "outputs": [],
   "source": []
  },
  {
   "cell_type": "code",
   "execution_count": null,
   "metadata": {
    "vscode": {
     "languageId": "r"
    }
   },
   "outputs": [],
   "source": []
  },
  {
   "cell_type": "code",
   "execution_count": null,
   "metadata": {
    "vscode": {
     "languageId": "r"
    }
   },
   "outputs": [],
   "source": []
  },
  {
   "cell_type": "code",
   "execution_count": null,
   "metadata": {
    "vscode": {
     "languageId": "r"
    }
   },
   "outputs": [],
   "source": []
  },
  {
   "cell_type": "markdown",
   "metadata": {},
   "source": [
    "### 4.2. Inference: Confidence Intervals and Significance Testing. The function rlassoEffects"
   ]
  },
  {
   "cell_type": "code",
   "execution_count": 496,
   "metadata": {
    "vscode": {
     "languageId": "r"
    }
   },
   "outputs": [],
   "source": [
    "set.seed(1)\n",
    "n = 100 #sample size\n",
    "p = 100 # number of variables\n",
    "s = 3 # nubmer of non-zero variables\n",
    "X = matrix(rnorm(n * p), ncol = p)\n",
    "colnames(X) <- paste(\"X\", 1:p, sep = \"\")\n",
    "beta = c(rep(3, s), rep(0, p - s))\n",
    "y = 1 + X %*% beta + rnorm(n)\n",
    "data = data.frame(cbind(y, X))\n",
    "#write.csv(data,\"../data/4_2.csv\", row.names = FALSE)\n",
    "colnames(data)[1] <- \"y\"\n",
    "fm = paste(\"y ~\", paste(colnames(X), collapse = \"+\"))\n",
    "fm = as.formula(fm)"
   ]
  },
  {
   "cell_type": "code",
   "execution_count": 497,
   "metadata": {
    "vscode": {
     "languageId": "r"
    }
   },
   "outputs": [
    {
     "name": "stdout",
     "output_type": "stream",
     "text": [
      "\n",
      "Call:\n",
      "rlassoEffects.formula(formula = fm, data = data, I = ~X1 + X2 + \n",
      "    X3 + X50)\n",
      "\n",
      "Coefficients:\n",
      "     X1       X2       X3      X50  \n",
      "2.94448  3.04127  2.97540  0.07196  \n",
      "\n"
     ]
    }
   ],
   "source": [
    "# lasso.effect = rlassoEffects(X, y, index=c(1,2,3,50))\n",
    "lasso.effect = rlassoEffects(fm, I = ~X1 + X2 + X3 + X50, data = data)\n",
    "print(lasso.effect)"
   ]
  },
  {
   "cell_type": "code",
   "execution_count": 499,
   "metadata": {
    "vscode": {
     "languageId": "r"
    }
   },
   "outputs": [
    {
     "data": {
      "text/plain": [
       "[1] \"Estimates and significance testing of the effect of target variables\"\n",
       "    Estimate. Std. Error t value Pr(>|t|)    \n",
       "X1    2.94448    0.08815  33.404   <2e-16 ***\n",
       "X2    3.04127    0.08389  36.253   <2e-16 ***\n",
       "X3    2.97540    0.07804  38.127   <2e-16 ***\n",
       "X50   0.07196    0.07765   0.927    0.354    \n",
       "---\n",
       "Signif. codes:  0 '***' 0.001 '**' 0.01 '*' 0.05 '.' 0.1 ' ' 1\n",
       "\n"
      ]
     },
     "metadata": {},
     "output_type": "display_data"
    }
   ],
   "source": [
    "summary(lasso.effect)"
   ]
  },
  {
   "cell_type": "code",
   "execution_count": 500,
   "metadata": {
    "vscode": {
     "languageId": "r"
    }
   },
   "outputs": [
    {
     "data": {
      "text/html": [
       "<table class=\"dataframe\">\n",
       "<caption>A matrix: 4 × 2 of type dbl</caption>\n",
       "<thead>\n",
       "\t<tr><th></th><th scope=col>2.5 %</th><th scope=col>97.5 %</th></tr>\n",
       "</thead>\n",
       "<tbody>\n",
       "\t<tr><th scope=row>X1</th><td> 2.77171308</td><td>3.1172421</td></tr>\n",
       "\t<tr><th scope=row>X2</th><td> 2.87685121</td><td>3.2056979</td></tr>\n",
       "\t<tr><th scope=row>X3</th><td> 2.82244962</td><td>3.1283583</td></tr>\n",
       "\t<tr><th scope=row>X50</th><td>-0.08022708</td><td>0.2241377</td></tr>\n",
       "</tbody>\n",
       "</table>\n"
      ],
      "text/latex": [
       "A matrix: 4 × 2 of type dbl\n",
       "\\begin{tabular}{r|ll}\n",
       "  & 2.5 \\% & 97.5 \\%\\\\\n",
       "\\hline\n",
       "\tX1 &  2.77171308 & 3.1172421\\\\\n",
       "\tX2 &  2.87685121 & 3.2056979\\\\\n",
       "\tX3 &  2.82244962 & 3.1283583\\\\\n",
       "\tX50 & -0.08022708 & 0.2241377\\\\\n",
       "\\end{tabular}\n"
      ],
      "text/markdown": [
       "\n",
       "A matrix: 4 × 2 of type dbl\n",
       "\n",
       "| <!--/--> | 2.5 % | 97.5 % |\n",
       "|---|---|---|\n",
       "| X1 |  2.77171308 | 3.1172421 |\n",
       "| X2 |  2.87685121 | 3.2056979 |\n",
       "| X3 |  2.82244962 | 3.1283583 |\n",
       "| X50 | -0.08022708 | 0.2241377 |\n",
       "\n"
      ],
      "text/plain": [
       "    2.5 %       97.5 %   \n",
       "X1   2.77171308 3.1172421\n",
       "X2   2.87685121 3.2056979\n",
       "X3   2.82244962 3.1283583\n",
       "X50 -0.08022708 0.2241377"
      ]
     },
     "metadata": {},
     "output_type": "display_data"
    }
   ],
   "source": [
    "confint(lasso.effect)\n"
   ]
  },
  {
   "cell_type": "code",
   "execution_count": 501,
   "metadata": {
    "vscode": {
     "languageId": "r"
    }
   },
   "outputs": [
    {
     "data": {
      "text/html": [
       "<table class=\"dataframe\">\n",
       "<caption>A matrix: 4 × 2 of type dbl</caption>\n",
       "<thead>\n",
       "\t<tr><th></th><th scope=col>2.5 %</th><th scope=col>97.5 %</th></tr>\n",
       "</thead>\n",
       "<tbody>\n",
       "\t<tr><th scope=row>X1</th><td> 2.7279477</td><td>3.1610075</td></tr>\n",
       "\t<tr><th scope=row>X2</th><td> 2.8371214</td><td>3.2454278</td></tr>\n",
       "\t<tr><th scope=row>X3</th><td> 2.7833176</td><td>3.1674903</td></tr>\n",
       "\t<tr><th scope=row>X50</th><td>-0.1154509</td><td>0.2593615</td></tr>\n",
       "</tbody>\n",
       "</table>\n"
      ],
      "text/latex": [
       "A matrix: 4 × 2 of type dbl\n",
       "\\begin{tabular}{r|ll}\n",
       "  & 2.5 \\% & 97.5 \\%\\\\\n",
       "\\hline\n",
       "\tX1 &  2.7279477 & 3.1610075\\\\\n",
       "\tX2 &  2.8371214 & 3.2454278\\\\\n",
       "\tX3 &  2.7833176 & 3.1674903\\\\\n",
       "\tX50 & -0.1154509 & 0.2593615\\\\\n",
       "\\end{tabular}\n"
      ],
      "text/markdown": [
       "\n",
       "A matrix: 4 × 2 of type dbl\n",
       "\n",
       "| <!--/--> | 2.5 % | 97.5 % |\n",
       "|---|---|---|\n",
       "| X1 |  2.7279477 | 3.1610075 |\n",
       "| X2 |  2.8371214 | 3.2454278 |\n",
       "| X3 |  2.7833176 | 3.1674903 |\n",
       "| X50 | -0.1154509 | 0.2593615 |\n",
       "\n"
      ],
      "text/plain": [
       "    2.5 %      97.5 %   \n",
       "X1   2.7279477 3.1610075\n",
       "X2   2.8371214 3.2454278\n",
       "X3   2.7833176 3.1674903\n",
       "X50 -0.1154509 0.2593615"
      ]
     },
     "metadata": {},
     "output_type": "display_data"
    }
   ],
   "source": [
    "confint(lasso.effect, level = 0.95, joint = TRUE)\n"
   ]
  },
  {
   "cell_type": "markdown",
   "metadata": {},
   "source": [
    "### 4.3. Application: the effect of gender on wage."
   ]
  },
  {
   "cell_type": "code",
   "execution_count": 311,
   "metadata": {
    "vscode": {
     "languageId": "r"
    }
   },
   "outputs": [
    {
     "data": {
      "text/html": [
       "<style>\n",
       ".list-inline {list-style: none; margin:0; padding: 0}\n",
       ".list-inline>li {display: inline-block}\n",
       ".list-inline>li:not(:last-child)::after {content: \"\\00b7\"; padding: 0 .5ex}\n",
       "</style>\n",
       "<ol class=list-inline><li>29217</li><li>136</li></ol>\n"
      ],
      "text/latex": [
       "\\begin{enumerate*}\n",
       "\\item 29217\n",
       "\\item 136\n",
       "\\end{enumerate*}\n"
      ],
      "text/markdown": [
       "1. 29217\n",
       "2. 136\n",
       "\n",
       "\n"
      ],
      "text/plain": [
       "[1] 29217   136"
      ]
     },
     "metadata": {},
     "output_type": "display_data"
    },
    {
     "data": {
      "text/html": [
       "<style>\n",
       ".list-inline {list-style: none; margin:0; padding: 0}\n",
       ".list-inline>li {display: inline-block}\n",
       ".list-inline>li:not(:last-child)::after {content: \"\\00b7\"; padding: 0 .5ex}\n",
       "</style>\n",
       "<ol class=list-inline><li>29217</li><li>116</li></ol>\n"
      ],
      "text/latex": [
       "\\begin{enumerate*}\n",
       "\\item 29217\n",
       "\\item 116\n",
       "\\end{enumerate*}\n"
      ],
      "text/markdown": [
       "1. 29217\n",
       "2. 116\n",
       "\n",
       "\n"
      ],
      "text/plain": [
       "[1] 29217   116"
      ]
     },
     "metadata": {},
     "output_type": "display_data"
    }
   ],
   "source": [
    "library(hdm)\n",
    "data(cps2012)\n",
    "X <- model.matrix(~-1 + female + female:(widowed + divorced + separated + nevermarried +\n",
    "hsd08 + hsd911 + hsg + cg + ad + mw + so + we + exp1 + exp2 + exp3) + +(widowed +\n",
    "divorced + separated + nevermarried + hsd08 + hsd911 + hsg + cg + ad + mw + so +\n",
    "we + exp1 + exp2 + exp3)^2, data = cps2012)\n",
    "dim(X)\n",
    "X <- X[, which(apply(X, 2, var) != 0)] # exclude all constant variables\n",
    "dim(X)\n",
    "index.gender <- grep(\"female\", colnames(X))\n",
    "index.gender <- grep(\"female\", colnames(X))\n",
    "y <- cps2012$lnw"
   ]
  },
  {
   "cell_type": "code",
   "execution_count": 319,
   "metadata": {
    "vscode": {
     "languageId": "r"
    }
   },
   "outputs": [
    {
     "data": {
      "text/plain": [
       "[1] \"Estimates and significance testing of the effect of target variables\"\n",
       "                    Estimate. Std. Error t value Pr(>|t|)    \n",
       "female              -0.154923   0.050162  -3.088 0.002012 ** \n",
       "female:widowed       0.136095   0.090663   1.501 0.133325    \n",
       "female:divorced      0.136939   0.022182   6.174 6.68e-10 ***\n",
       "female:separated     0.023303   0.053212   0.438 0.661441    \n",
       "female:nevermarried  0.186853   0.019942   9.370  < 2e-16 ***\n",
       "female:hsd08         0.027810   0.120914   0.230 0.818092    \n",
       "female:hsd911       -0.119335   0.051880  -2.300 0.021435 *  \n",
       "female:hsg          -0.012890   0.019223  -0.671 0.502518    \n",
       "female:cg            0.010139   0.018327   0.553 0.580114    \n",
       "female:ad           -0.030464   0.021806  -1.397 0.162405    \n",
       "female:mw           -0.001063   0.019192  -0.055 0.955811    \n",
       "female:so           -0.008183   0.019357  -0.423 0.672468    \n",
       "female:we           -0.004226   0.021168  -0.200 0.841760    \n",
       "female:exp1          0.004935   0.007804   0.632 0.527139    \n",
       "female:exp2         -0.159519   0.045300  -3.521 0.000429 ***\n",
       "female:exp3          0.038451   0.007861   4.891 1.00e-06 ***\n",
       "---\n",
       "Signif. codes:  0 '***' 0.001 '**' 0.01 '*' 0.05 '.' 0.1 ' ' 1\n",
       "\n"
      ]
     },
     "metadata": {},
     "output_type": "display_data"
    }
   ],
   "source": [
    "effects.female <- rlassoEffects(x = X, y = y, index = index.gender)\n",
    "summary(effects.female)"
   ]
  },
  {
   "cell_type": "code",
   "execution_count": 320,
   "metadata": {
    "vscode": {
     "languageId": "r"
    }
   },
   "outputs": [
    {
     "data": {
      "text/html": [
       "<table class=\"dataframe\">\n",
       "<caption>A matrix: 16 × 2 of type dbl</caption>\n",
       "<thead>\n",
       "\t<tr><th></th><th scope=col>2.5 %</th><th scope=col>97.5 %</th></tr>\n",
       "</thead>\n",
       "<tbody>\n",
       "\t<tr><th scope=row>female</th><td>-0.29392716</td><td>-0.01591940</td></tr>\n",
       "\t<tr><th scope=row>female:widowed</th><td>-0.13309530</td><td> 0.40528626</td></tr>\n",
       "\t<tr><th scope=row>female:divorced</th><td> 0.07492960</td><td> 0.19894917</td></tr>\n",
       "\t<tr><th scope=row>female:separated</th><td>-0.11641774</td><td> 0.16302326</td></tr>\n",
       "\t<tr><th scope=row>female:nevermarried</th><td> 0.12938077</td><td> 0.24432620</td></tr>\n",
       "\t<tr><th scope=row>female:hsd08</th><td>-0.37364347</td><td> 0.42926409</td></tr>\n",
       "\t<tr><th scope=row>female:hsd911</th><td>-0.26870533</td><td> 0.03003525</td></tr>\n",
       "\t<tr><th scope=row>female:hsg</th><td>-0.06502795</td><td> 0.03924839</td></tr>\n",
       "\t<tr><th scope=row>female:cg</th><td>-0.04157113</td><td> 0.06184824</td></tr>\n",
       "\t<tr><th scope=row>female:ad</th><td>-0.09569738</td><td> 0.03476989</td></tr>\n",
       "\t<tr><th scope=row>female:mw</th><td>-0.05459343</td><td> 0.05246655</td></tr>\n",
       "\t<tr><th scope=row>female:so</th><td>-0.06260432</td><td> 0.04623763</td></tr>\n",
       "\t<tr><th scope=row>female:we</th><td>-0.06549766</td><td> 0.05704541</td></tr>\n",
       "\t<tr><th scope=row>female:exp1</th><td>-0.01644965</td><td> 0.02632017</td></tr>\n",
       "\t<tr><th scope=row>female:exp2</th><td>-0.28387860</td><td>-0.03516005</td></tr>\n",
       "\t<tr><th scope=row>female:exp3</th><td> 0.01689389</td><td> 0.06000727</td></tr>\n",
       "</tbody>\n",
       "</table>\n"
      ],
      "text/latex": [
       "A matrix: 16 × 2 of type dbl\n",
       "\\begin{tabular}{r|ll}\n",
       "  & 2.5 \\% & 97.5 \\%\\\\\n",
       "\\hline\n",
       "\tfemale & -0.29392716 & -0.01591940\\\\\n",
       "\tfemale:widowed & -0.13309530 &  0.40528626\\\\\n",
       "\tfemale:divorced &  0.07492960 &  0.19894917\\\\\n",
       "\tfemale:separated & -0.11641774 &  0.16302326\\\\\n",
       "\tfemale:nevermarried &  0.12938077 &  0.24432620\\\\\n",
       "\tfemale:hsd08 & -0.37364347 &  0.42926409\\\\\n",
       "\tfemale:hsd911 & -0.26870533 &  0.03003525\\\\\n",
       "\tfemale:hsg & -0.06502795 &  0.03924839\\\\\n",
       "\tfemale:cg & -0.04157113 &  0.06184824\\\\\n",
       "\tfemale:ad & -0.09569738 &  0.03476989\\\\\n",
       "\tfemale:mw & -0.05459343 &  0.05246655\\\\\n",
       "\tfemale:so & -0.06260432 &  0.04623763\\\\\n",
       "\tfemale:we & -0.06549766 &  0.05704541\\\\\n",
       "\tfemale:exp1 & -0.01644965 &  0.02632017\\\\\n",
       "\tfemale:exp2 & -0.28387860 & -0.03516005\\\\\n",
       "\tfemale:exp3 &  0.01689389 &  0.06000727\\\\\n",
       "\\end{tabular}\n"
      ],
      "text/markdown": [
       "\n",
       "A matrix: 16 × 2 of type dbl\n",
       "\n",
       "| <!--/--> | 2.5 % | 97.5 % |\n",
       "|---|---|---|\n",
       "| female | -0.29392716 | -0.01591940 |\n",
       "| female:widowed | -0.13309530 |  0.40528626 |\n",
       "| female:divorced |  0.07492960 |  0.19894917 |\n",
       "| female:separated | -0.11641774 |  0.16302326 |\n",
       "| female:nevermarried |  0.12938077 |  0.24432620 |\n",
       "| female:hsd08 | -0.37364347 |  0.42926409 |\n",
       "| female:hsd911 | -0.26870533 |  0.03003525 |\n",
       "| female:hsg | -0.06502795 |  0.03924839 |\n",
       "| female:cg | -0.04157113 |  0.06184824 |\n",
       "| female:ad | -0.09569738 |  0.03476989 |\n",
       "| female:mw | -0.05459343 |  0.05246655 |\n",
       "| female:so | -0.06260432 |  0.04623763 |\n",
       "| female:we | -0.06549766 |  0.05704541 |\n",
       "| female:exp1 | -0.01644965 |  0.02632017 |\n",
       "| female:exp2 | -0.28387860 | -0.03516005 |\n",
       "| female:exp3 |  0.01689389 |  0.06000727 |\n",
       "\n"
      ],
      "text/plain": [
       "                    2.5 %       97.5 %     \n",
       "female              -0.29392716 -0.01591940\n",
       "female:widowed      -0.13309530  0.40528626\n",
       "female:divorced      0.07492960  0.19894917\n",
       "female:separated    -0.11641774  0.16302326\n",
       "female:nevermarried  0.12938077  0.24432620\n",
       "female:hsd08        -0.37364347  0.42926409\n",
       "female:hsd911       -0.26870533  0.03003525\n",
       "female:hsg          -0.06502795  0.03924839\n",
       "female:cg           -0.04157113  0.06184824\n",
       "female:ad           -0.09569738  0.03476989\n",
       "female:mw           -0.05459343  0.05246655\n",
       "female:so           -0.06260432  0.04623763\n",
       "female:we           -0.06549766  0.05704541\n",
       "female:exp1         -0.01644965  0.02632017\n",
       "female:exp2         -0.28387860 -0.03516005\n",
       "female:exp3          0.01689389  0.06000727"
      ]
     },
     "metadata": {},
     "output_type": "display_data"
    }
   ],
   "source": [
    "joint.CI <- confint(effects.female, level = 0.95, joint = TRUE)\n",
    "joint.CI"
   ]
  },
  {
   "cell_type": "code",
   "execution_count": null,
   "metadata": {
    "vscode": {
     "languageId": "r"
    }
   },
   "outputs": [],
   "source": []
  },
  {
   "cell_type": "markdown",
   "metadata": {},
   "source": [
    "### 4.4. Application: Estimation of the treatment effect in a linear model with many confounding factors"
   ]
  },
  {
   "cell_type": "code",
   "execution_count": 321,
   "metadata": {
    "vscode": {
     "languageId": "r"
    }
   },
   "outputs": [
    {
     "data": {
      "text/html": [
       "<style>\n",
       ".list-inline {list-style: none; margin:0; padding: 0}\n",
       ".list-inline>li {display: inline-block}\n",
       ".list-inline>li:not(:last-child)::after {content: \"\\00b7\"; padding: 0 .5ex}\n",
       "</style>\n",
       "<ol class=list-inline><li>90</li><li>63</li></ol>\n"
      ],
      "text/latex": [
       "\\begin{enumerate*}\n",
       "\\item 90\n",
       "\\item 63\n",
       "\\end{enumerate*}\n"
      ],
      "text/markdown": [
       "1. 90\n",
       "2. 63\n",
       "\n",
       "\n"
      ],
      "text/plain": [
       "[1] 90 63"
      ]
     },
     "metadata": {},
     "output_type": "display_data"
    }
   ],
   "source": [
    "data(GrowthData)\n",
    "dim(GrowthData)\n",
    "## [1] 90 63\n",
    "y = GrowthData[, 1, drop = F]\n",
    "d = GrowthData[, 3, drop = F]\n",
    "X = as.matrix(GrowthData)[, -c(1, 2, 3)]\n",
    "varnames = colnames(GrowthData)"
   ]
  },
  {
   "cell_type": "code",
   "execution_count": 322,
   "metadata": {
    "vscode": {
     "languageId": "r"
    }
   },
   "outputs": [],
   "source": [
    "xnames = varnames[-c(1, 2, 3)] # names of X variables\n",
    "dandxnames = varnames[-c(1, 2)] # names of D and X variables\n",
    "# create formulas by pasting names (this saves typing times)\n",
    "fmla = as.formula(paste(\"Outcome ~ \", paste(dandxnames, collapse = \"+\")))\n",
    "ls.effect = lm(fmla, data = GrowthData)"
   ]
  },
  {
   "cell_type": "code",
   "execution_count": 331,
   "metadata": {
    "vscode": {
     "languageId": "r"
    }
   },
   "outputs": [
    {
     "data": {
      "text/html": [
       "<table class=\"dataframe\">\n",
       "<caption>A matrix: 62 × 4 of type dbl</caption>\n",
       "<thead>\n",
       "\t<tr><th></th><th scope=col>Estimate</th><th scope=col>Std. Error</th><th scope=col>t value</th><th scope=col>Pr(&gt;|t|)</th></tr>\n",
       "</thead>\n",
       "<tbody>\n",
       "\t<tr><th scope=row>(Intercept)</th><td> 0.247160893</td><td>0.78450163</td><td> 0.31505466</td><td>0.755056170</td></tr>\n",
       "\t<tr><th scope=row>gdpsh465</th><td>-0.009377989</td><td>0.02988773</td><td>-0.31377391</td><td>0.756018518</td></tr>\n",
       "\t<tr><th scope=row>bmp1l</th><td>-0.068862679</td><td>0.03253065</td><td>-2.11685513</td><td>0.043289718</td></tr>\n",
       "\t<tr><th scope=row>freeop</th><td> 0.080068974</td><td>0.20786400</td><td> 0.38519885</td><td>0.703000838</td></tr>\n",
       "\t<tr><th scope=row>freetar</th><td>-0.488962605</td><td>0.41816285</td><td>-1.16931143</td><td>0.252136477</td></tr>\n",
       "\t<tr><th scope=row>h65</th><td>-2.362098638</td><td>0.85729167</td><td>-2.75530338</td><td>0.010192435</td></tr>\n",
       "\t<tr><th scope=row>hm65</th><td> 0.707143400</td><td>0.52314511</td><td> 1.35171560</td><td>0.187285919</td></tr>\n",
       "\t<tr><th scope=row>hf65</th><td> 1.693448425</td><td>0.50318881</td><td> 3.36543337</td><td>0.002232683</td></tr>\n",
       "\t<tr><th scope=row>p65</th><td> 0.265526695</td><td>0.16429407</td><td> 1.61616729</td><td>0.117271229</td></tr>\n",
       "\t<tr><th scope=row>pm65</th><td> 0.136952626</td><td>0.15121749</td><td> 0.90566657</td><td>0.372840111</td></tr>\n",
       "\t<tr><th scope=row>pf65</th><td>-0.331266948</td><td>0.16512299</td><td>-2.00618303</td><td>0.054583866</td></tr>\n",
       "\t<tr><th scope=row>s65</th><td> 0.039079306</td><td>0.18552248</td><td> 0.21064459</td><td>0.834690082</td></tr>\n",
       "\t<tr><th scope=row>sm65</th><td>-0.030668507</td><td>0.11679396</td><td>-0.26258642</td><td>0.794791807</td></tr>\n",
       "\t<tr><th scope=row>sf65</th><td>-0.179917280</td><td>0.11809892</td><td>-1.52344556</td><td>0.138863011</td></tr>\n",
       "\t<tr><th scope=row>fert65</th><td> 0.006880834</td><td>0.02705142</td><td> 0.25436128</td><td>0.801075252</td></tr>\n",
       "\t<tr><th scope=row>mort65</th><td>-0.233454503</td><td>0.81742198</td><td>-0.28559852</td><td>0.777287824</td></tr>\n",
       "\t<tr><th scope=row>lifee065</th><td>-0.014914473</td><td>0.19333559</td><td>-0.07714292</td><td>0.939058459</td></tr>\n",
       "\t<tr><th scope=row>gpop1</th><td> 0.970184579</td><td>1.81220835</td><td> 0.53536039</td><td>0.596627593</td></tr>\n",
       "\t<tr><th scope=row>fert1</th><td> 0.008838189</td><td>0.03504148</td><td> 0.25222077</td><td>0.802712696</td></tr>\n",
       "\t<tr><th scope=row>mort1</th><td> 0.066562928</td><td>0.68481002</td><td> 0.09719911</td><td>0.923260701</td></tr>\n",
       "\t<tr><th scope=row>invsh41</th><td> 0.074461126</td><td>0.10844692</td><td> 0.68661354</td><td>0.497973611</td></tr>\n",
       "\t<tr><th scope=row>geetot1</th><td>-0.715104906</td><td>1.68013567</td><td>-0.42562331</td><td>0.673636102</td></tr>\n",
       "\t<tr><th scope=row>geerec1</th><td> 0.630004630</td><td>2.44737848</td><td> 0.25742019</td><td>0.798736842</td></tr>\n",
       "\t<tr><th scope=row>gde1</th><td>-0.443575219</td><td>1.67120674</td><td>-0.26542211</td><td>0.792628757</td></tr>\n",
       "\t<tr><th scope=row>govwb1</th><td> 0.337452364</td><td>0.43798695</td><td> 0.77046214</td><td>0.447478336</td></tr>\n",
       "\t<tr><th scope=row>govsh41</th><td> 0.463174632</td><td>1.92543733</td><td> 0.24055555</td><td>0.811652246</td></tr>\n",
       "\t<tr><th scope=row>gvxdxe41</th><td>-0.793381582</td><td>2.05939737</td><td>-0.38524939</td><td>0.702963815</td></tr>\n",
       "\t<tr><th scope=row>high65</th><td>-0.752483828</td><td>0.90572159</td><td>-0.83081141</td><td>0.413108816</td></tr>\n",
       "\t<tr><th scope=row>highm65</th><td>-0.390261804</td><td>0.68124930</td><td>-0.57286195</td><td>0.571310302</td></tr>\n",
       "\t<tr><th scope=row>highf65</th><td>-0.417748705</td><td>0.56149048</td><td>-0.74399963</td><td>0.463075062</td></tr>\n",
       "\t<tr><th scope=row>⋮</th><td>⋮</td><td>⋮</td><td>⋮</td><td>⋮</td></tr>\n",
       "\t<tr><th scope=row>highcf65</th><td> 3.920771e-01</td><td>7.660246e-01</td><td> 0.51183360</td><td>0.61278088</td></tr>\n",
       "\t<tr><th scope=row>human65</th><td> 2.337269e+00</td><td>3.307269e+00</td><td> 0.70670678</td><td>0.48558873</td></tr>\n",
       "\t<tr><th scope=row>humanm65</th><td>-1.209249e+00</td><td>1.618516e+00</td><td>-0.74713475</td><td>0.46121072</td></tr>\n",
       "\t<tr><th scope=row>humanf65</th><td>-1.103947e+00</td><td>1.684693e+00</td><td>-0.65528075</td><td>0.51763499</td></tr>\n",
       "\t<tr><th scope=row>hyr65</th><td> 5.491388e+01</td><td>2.388729e+01</td><td> 2.29887430</td><td>0.02918450</td></tr>\n",
       "\t<tr><th scope=row>hyrm65</th><td> 1.293505e+01</td><td>2.317142e+01</td><td> 0.55823278</td><td>0.58112223</td></tr>\n",
       "\t<tr><th scope=row>hyrf65</th><td> 9.092580e+00</td><td>1.766958e+01</td><td> 0.51458948</td><td>0.61087820</td></tr>\n",
       "\t<tr><th scope=row>no65</th><td> 3.720986e-02</td><td>1.319733e-01</td><td> 0.28194994</td><td>0.78005541</td></tr>\n",
       "\t<tr><th scope=row>nom65</th><td>-2.119769e-02</td><td>6.495975e-02</td><td>-0.32632032</td><td>0.74660861</td></tr>\n",
       "\t<tr><th scope=row>nof65</th><td>-1.685782e-02</td><td>6.700258e-02</td><td>-0.25159954</td><td>0.80318810</td></tr>\n",
       "\t<tr><th scope=row>pinstab1</th><td>-4.997113e-02</td><td>3.092081e-02</td><td>-1.61610019</td><td>0.11728579</td></tr>\n",
       "\t<tr><th scope=row>pop65</th><td> 1.031796e-07</td><td>1.317950e-07</td><td> 0.78287929</td><td>0.44026959</td></tr>\n",
       "\t<tr><th scope=row>worker65</th><td> 3.407897e-02</td><td>1.561909e-01</td><td> 0.21818786</td><td>0.82886516</td></tr>\n",
       "\t<tr><th scope=row>pop1565</th><td>-4.655346e-01</td><td>4.713340e-01</td><td>-0.98769582</td><td>0.33176044</td></tr>\n",
       "\t<tr><th scope=row>pop6565</th><td>-1.357450e+00</td><td>6.349424e-01</td><td>-2.13791049</td><td>0.04139326</td></tr>\n",
       "\t<tr><th scope=row>sec65</th><td>-1.089278e-02</td><td>3.076618e-01</td><td>-0.03540506</td><td>0.97200796</td></tr>\n",
       "\t<tr><th scope=row>secm65</th><td> 3.343664e-03</td><td>1.511923e-01</td><td> 0.02211530</td><td>0.98251284</td></tr>\n",
       "\t<tr><th scope=row>secf65</th><td>-2.304329e-03</td><td>1.579715e-01</td><td>-0.01458699</td><td>0.98846512</td></tr>\n",
       "\t<tr><th scope=row>secc65</th><td>-4.915284e-01</td><td>7.290408e-01</td><td>-0.67421246</td><td>0.50570489</td></tr>\n",
       "\t<tr><th scope=row>seccm65</th><td> 2.596016e-01</td><td>3.556533e-01</td><td> 0.72992873</td><td>0.47149686</td></tr>\n",
       "\t<tr><th scope=row>seccf65</th><td> 2.206524e-01</td><td>3.733333e-01</td><td> 0.59103325</td><td>0.55923950</td></tr>\n",
       "\t<tr><th scope=row>syr65</th><td>-7.555807e-01</td><td>7.976763e+00</td><td>-0.09472273</td><td>0.92520970</td></tr>\n",
       "\t<tr><th scope=row>syrm65</th><td> 3.109007e-01</td><td>3.896731e+00</td><td> 0.07978502</td><td>0.93697576</td></tr>\n",
       "\t<tr><th scope=row>syrf65</th><td> 7.592811e-01</td><td>4.110634e+00</td><td> 0.18471143</td><td>0.85478676</td></tr>\n",
       "\t<tr><th scope=row>teapri65</th><td> 3.954523e-05</td><td>7.700406e-04</td><td> 0.05135474</td><td>0.95940747</td></tr>\n",
       "\t<tr><th scope=row>teasec65</th><td> 2.496674e-04</td><td>1.171230e-03</td><td> 0.21316678</td><td>0.83274136</td></tr>\n",
       "\t<tr><th scope=row>ex1</th><td>-5.804081e-01</td><td>2.418472e-01</td><td>-2.39989593</td><td>0.02329485</td></tr>\n",
       "\t<tr><th scope=row>im1</th><td> 5.914450e-01</td><td>2.502978e-01</td><td> 2.36296558</td><td>0.02530892</td></tr>\n",
       "\t<tr><th scope=row>xr65</th><td>-1.037768e-04</td><td>5.416760e-05</td><td>-1.91584652</td><td>0.06564690</td></tr>\n",
       "\t<tr><th scope=row>tot1</th><td>-1.279011e-01</td><td>1.125951e-01</td><td>-1.13593842</td><td>0.26561200</td></tr>\n",
       "</tbody>\n",
       "</table>\n"
      ],
      "text/latex": [
       "A matrix: 62 × 4 of type dbl\n",
       "\\begin{tabular}{r|llll}\n",
       "  & Estimate & Std. Error & t value & Pr(>\\textbar{}t\\textbar{})\\\\\n",
       "\\hline\n",
       "\t(Intercept) &  0.247160893 & 0.78450163 &  0.31505466 & 0.755056170\\\\\n",
       "\tgdpsh465 & -0.009377989 & 0.02988773 & -0.31377391 & 0.756018518\\\\\n",
       "\tbmp1l & -0.068862679 & 0.03253065 & -2.11685513 & 0.043289718\\\\\n",
       "\tfreeop &  0.080068974 & 0.20786400 &  0.38519885 & 0.703000838\\\\\n",
       "\tfreetar & -0.488962605 & 0.41816285 & -1.16931143 & 0.252136477\\\\\n",
       "\th65 & -2.362098638 & 0.85729167 & -2.75530338 & 0.010192435\\\\\n",
       "\thm65 &  0.707143400 & 0.52314511 &  1.35171560 & 0.187285919\\\\\n",
       "\thf65 &  1.693448425 & 0.50318881 &  3.36543337 & 0.002232683\\\\\n",
       "\tp65 &  0.265526695 & 0.16429407 &  1.61616729 & 0.117271229\\\\\n",
       "\tpm65 &  0.136952626 & 0.15121749 &  0.90566657 & 0.372840111\\\\\n",
       "\tpf65 & -0.331266948 & 0.16512299 & -2.00618303 & 0.054583866\\\\\n",
       "\ts65 &  0.039079306 & 0.18552248 &  0.21064459 & 0.834690082\\\\\n",
       "\tsm65 & -0.030668507 & 0.11679396 & -0.26258642 & 0.794791807\\\\\n",
       "\tsf65 & -0.179917280 & 0.11809892 & -1.52344556 & 0.138863011\\\\\n",
       "\tfert65 &  0.006880834 & 0.02705142 &  0.25436128 & 0.801075252\\\\\n",
       "\tmort65 & -0.233454503 & 0.81742198 & -0.28559852 & 0.777287824\\\\\n",
       "\tlifee065 & -0.014914473 & 0.19333559 & -0.07714292 & 0.939058459\\\\\n",
       "\tgpop1 &  0.970184579 & 1.81220835 &  0.53536039 & 0.596627593\\\\\n",
       "\tfert1 &  0.008838189 & 0.03504148 &  0.25222077 & 0.802712696\\\\\n",
       "\tmort1 &  0.066562928 & 0.68481002 &  0.09719911 & 0.923260701\\\\\n",
       "\tinvsh41 &  0.074461126 & 0.10844692 &  0.68661354 & 0.497973611\\\\\n",
       "\tgeetot1 & -0.715104906 & 1.68013567 & -0.42562331 & 0.673636102\\\\\n",
       "\tgeerec1 &  0.630004630 & 2.44737848 &  0.25742019 & 0.798736842\\\\\n",
       "\tgde1 & -0.443575219 & 1.67120674 & -0.26542211 & 0.792628757\\\\\n",
       "\tgovwb1 &  0.337452364 & 0.43798695 &  0.77046214 & 0.447478336\\\\\n",
       "\tgovsh41 &  0.463174632 & 1.92543733 &  0.24055555 & 0.811652246\\\\\n",
       "\tgvxdxe41 & -0.793381582 & 2.05939737 & -0.38524939 & 0.702963815\\\\\n",
       "\thigh65 & -0.752483828 & 0.90572159 & -0.83081141 & 0.413108816\\\\\n",
       "\thighm65 & -0.390261804 & 0.68124930 & -0.57286195 & 0.571310302\\\\\n",
       "\thighf65 & -0.417748705 & 0.56149048 & -0.74399963 & 0.463075062\\\\\n",
       "\t⋮ & ⋮ & ⋮ & ⋮ & ⋮\\\\\n",
       "\thighcf65 &  3.920771e-01 & 7.660246e-01 &  0.51183360 & 0.61278088\\\\\n",
       "\thuman65 &  2.337269e+00 & 3.307269e+00 &  0.70670678 & 0.48558873\\\\\n",
       "\thumanm65 & -1.209249e+00 & 1.618516e+00 & -0.74713475 & 0.46121072\\\\\n",
       "\thumanf65 & -1.103947e+00 & 1.684693e+00 & -0.65528075 & 0.51763499\\\\\n",
       "\thyr65 &  5.491388e+01 & 2.388729e+01 &  2.29887430 & 0.02918450\\\\\n",
       "\thyrm65 &  1.293505e+01 & 2.317142e+01 &  0.55823278 & 0.58112223\\\\\n",
       "\thyrf65 &  9.092580e+00 & 1.766958e+01 &  0.51458948 & 0.61087820\\\\\n",
       "\tno65 &  3.720986e-02 & 1.319733e-01 &  0.28194994 & 0.78005541\\\\\n",
       "\tnom65 & -2.119769e-02 & 6.495975e-02 & -0.32632032 & 0.74660861\\\\\n",
       "\tnof65 & -1.685782e-02 & 6.700258e-02 & -0.25159954 & 0.80318810\\\\\n",
       "\tpinstab1 & -4.997113e-02 & 3.092081e-02 & -1.61610019 & 0.11728579\\\\\n",
       "\tpop65 &  1.031796e-07 & 1.317950e-07 &  0.78287929 & 0.44026959\\\\\n",
       "\tworker65 &  3.407897e-02 & 1.561909e-01 &  0.21818786 & 0.82886516\\\\\n",
       "\tpop1565 & -4.655346e-01 & 4.713340e-01 & -0.98769582 & 0.33176044\\\\\n",
       "\tpop6565 & -1.357450e+00 & 6.349424e-01 & -2.13791049 & 0.04139326\\\\\n",
       "\tsec65 & -1.089278e-02 & 3.076618e-01 & -0.03540506 & 0.97200796\\\\\n",
       "\tsecm65 &  3.343664e-03 & 1.511923e-01 &  0.02211530 & 0.98251284\\\\\n",
       "\tsecf65 & -2.304329e-03 & 1.579715e-01 & -0.01458699 & 0.98846512\\\\\n",
       "\tsecc65 & -4.915284e-01 & 7.290408e-01 & -0.67421246 & 0.50570489\\\\\n",
       "\tseccm65 &  2.596016e-01 & 3.556533e-01 &  0.72992873 & 0.47149686\\\\\n",
       "\tseccf65 &  2.206524e-01 & 3.733333e-01 &  0.59103325 & 0.55923950\\\\\n",
       "\tsyr65 & -7.555807e-01 & 7.976763e+00 & -0.09472273 & 0.92520970\\\\\n",
       "\tsyrm65 &  3.109007e-01 & 3.896731e+00 &  0.07978502 & 0.93697576\\\\\n",
       "\tsyrf65 &  7.592811e-01 & 4.110634e+00 &  0.18471143 & 0.85478676\\\\\n",
       "\tteapri65 &  3.954523e-05 & 7.700406e-04 &  0.05135474 & 0.95940747\\\\\n",
       "\tteasec65 &  2.496674e-04 & 1.171230e-03 &  0.21316678 & 0.83274136\\\\\n",
       "\tex1 & -5.804081e-01 & 2.418472e-01 & -2.39989593 & 0.02329485\\\\\n",
       "\tim1 &  5.914450e-01 & 2.502978e-01 &  2.36296558 & 0.02530892\\\\\n",
       "\txr65 & -1.037768e-04 & 5.416760e-05 & -1.91584652 & 0.06564690\\\\\n",
       "\ttot1 & -1.279011e-01 & 1.125951e-01 & -1.13593842 & 0.26561200\\\\\n",
       "\\end{tabular}\n"
      ],
      "text/markdown": [
       "\n",
       "A matrix: 62 × 4 of type dbl\n",
       "\n",
       "| <!--/--> | Estimate | Std. Error | t value | Pr(&gt;|t|) |\n",
       "|---|---|---|---|---|\n",
       "| (Intercept) |  0.247160893 | 0.78450163 |  0.31505466 | 0.755056170 |\n",
       "| gdpsh465 | -0.009377989 | 0.02988773 | -0.31377391 | 0.756018518 |\n",
       "| bmp1l | -0.068862679 | 0.03253065 | -2.11685513 | 0.043289718 |\n",
       "| freeop |  0.080068974 | 0.20786400 |  0.38519885 | 0.703000838 |\n",
       "| freetar | -0.488962605 | 0.41816285 | -1.16931143 | 0.252136477 |\n",
       "| h65 | -2.362098638 | 0.85729167 | -2.75530338 | 0.010192435 |\n",
       "| hm65 |  0.707143400 | 0.52314511 |  1.35171560 | 0.187285919 |\n",
       "| hf65 |  1.693448425 | 0.50318881 |  3.36543337 | 0.002232683 |\n",
       "| p65 |  0.265526695 | 0.16429407 |  1.61616729 | 0.117271229 |\n",
       "| pm65 |  0.136952626 | 0.15121749 |  0.90566657 | 0.372840111 |\n",
       "| pf65 | -0.331266948 | 0.16512299 | -2.00618303 | 0.054583866 |\n",
       "| s65 |  0.039079306 | 0.18552248 |  0.21064459 | 0.834690082 |\n",
       "| sm65 | -0.030668507 | 0.11679396 | -0.26258642 | 0.794791807 |\n",
       "| sf65 | -0.179917280 | 0.11809892 | -1.52344556 | 0.138863011 |\n",
       "| fert65 |  0.006880834 | 0.02705142 |  0.25436128 | 0.801075252 |\n",
       "| mort65 | -0.233454503 | 0.81742198 | -0.28559852 | 0.777287824 |\n",
       "| lifee065 | -0.014914473 | 0.19333559 | -0.07714292 | 0.939058459 |\n",
       "| gpop1 |  0.970184579 | 1.81220835 |  0.53536039 | 0.596627593 |\n",
       "| fert1 |  0.008838189 | 0.03504148 |  0.25222077 | 0.802712696 |\n",
       "| mort1 |  0.066562928 | 0.68481002 |  0.09719911 | 0.923260701 |\n",
       "| invsh41 |  0.074461126 | 0.10844692 |  0.68661354 | 0.497973611 |\n",
       "| geetot1 | -0.715104906 | 1.68013567 | -0.42562331 | 0.673636102 |\n",
       "| geerec1 |  0.630004630 | 2.44737848 |  0.25742019 | 0.798736842 |\n",
       "| gde1 | -0.443575219 | 1.67120674 | -0.26542211 | 0.792628757 |\n",
       "| govwb1 |  0.337452364 | 0.43798695 |  0.77046214 | 0.447478336 |\n",
       "| govsh41 |  0.463174632 | 1.92543733 |  0.24055555 | 0.811652246 |\n",
       "| gvxdxe41 | -0.793381582 | 2.05939737 | -0.38524939 | 0.702963815 |\n",
       "| high65 | -0.752483828 | 0.90572159 | -0.83081141 | 0.413108816 |\n",
       "| highm65 | -0.390261804 | 0.68124930 | -0.57286195 | 0.571310302 |\n",
       "| highf65 | -0.417748705 | 0.56149048 | -0.74399963 | 0.463075062 |\n",
       "| ⋮ | ⋮ | ⋮ | ⋮ | ⋮ |\n",
       "| highcf65 |  3.920771e-01 | 7.660246e-01 |  0.51183360 | 0.61278088 |\n",
       "| human65 |  2.337269e+00 | 3.307269e+00 |  0.70670678 | 0.48558873 |\n",
       "| humanm65 | -1.209249e+00 | 1.618516e+00 | -0.74713475 | 0.46121072 |\n",
       "| humanf65 | -1.103947e+00 | 1.684693e+00 | -0.65528075 | 0.51763499 |\n",
       "| hyr65 |  5.491388e+01 | 2.388729e+01 |  2.29887430 | 0.02918450 |\n",
       "| hyrm65 |  1.293505e+01 | 2.317142e+01 |  0.55823278 | 0.58112223 |\n",
       "| hyrf65 |  9.092580e+00 | 1.766958e+01 |  0.51458948 | 0.61087820 |\n",
       "| no65 |  3.720986e-02 | 1.319733e-01 |  0.28194994 | 0.78005541 |\n",
       "| nom65 | -2.119769e-02 | 6.495975e-02 | -0.32632032 | 0.74660861 |\n",
       "| nof65 | -1.685782e-02 | 6.700258e-02 | -0.25159954 | 0.80318810 |\n",
       "| pinstab1 | -4.997113e-02 | 3.092081e-02 | -1.61610019 | 0.11728579 |\n",
       "| pop65 |  1.031796e-07 | 1.317950e-07 |  0.78287929 | 0.44026959 |\n",
       "| worker65 |  3.407897e-02 | 1.561909e-01 |  0.21818786 | 0.82886516 |\n",
       "| pop1565 | -4.655346e-01 | 4.713340e-01 | -0.98769582 | 0.33176044 |\n",
       "| pop6565 | -1.357450e+00 | 6.349424e-01 | -2.13791049 | 0.04139326 |\n",
       "| sec65 | -1.089278e-02 | 3.076618e-01 | -0.03540506 | 0.97200796 |\n",
       "| secm65 |  3.343664e-03 | 1.511923e-01 |  0.02211530 | 0.98251284 |\n",
       "| secf65 | -2.304329e-03 | 1.579715e-01 | -0.01458699 | 0.98846512 |\n",
       "| secc65 | -4.915284e-01 | 7.290408e-01 | -0.67421246 | 0.50570489 |\n",
       "| seccm65 |  2.596016e-01 | 3.556533e-01 |  0.72992873 | 0.47149686 |\n",
       "| seccf65 |  2.206524e-01 | 3.733333e-01 |  0.59103325 | 0.55923950 |\n",
       "| syr65 | -7.555807e-01 | 7.976763e+00 | -0.09472273 | 0.92520970 |\n",
       "| syrm65 |  3.109007e-01 | 3.896731e+00 |  0.07978502 | 0.93697576 |\n",
       "| syrf65 |  7.592811e-01 | 4.110634e+00 |  0.18471143 | 0.85478676 |\n",
       "| teapri65 |  3.954523e-05 | 7.700406e-04 |  0.05135474 | 0.95940747 |\n",
       "| teasec65 |  2.496674e-04 | 1.171230e-03 |  0.21316678 | 0.83274136 |\n",
       "| ex1 | -5.804081e-01 | 2.418472e-01 | -2.39989593 | 0.02329485 |\n",
       "| im1 |  5.914450e-01 | 2.502978e-01 |  2.36296558 | 0.02530892 |\n",
       "| xr65 | -1.037768e-04 | 5.416760e-05 | -1.91584652 | 0.06564690 |\n",
       "| tot1 | -1.279011e-01 | 1.125951e-01 | -1.13593842 | 0.26561200 |\n",
       "\n"
      ],
      "text/plain": [
       "            Estimate      Std. Error   t value     Pr(>|t|)   \n",
       "(Intercept)  0.247160893  0.78450163    0.31505466 0.755056170\n",
       "gdpsh465    -0.009377989  0.02988773   -0.31377391 0.756018518\n",
       "bmp1l       -0.068862679  0.03253065   -2.11685513 0.043289718\n",
       "freeop       0.080068974  0.20786400    0.38519885 0.703000838\n",
       "freetar     -0.488962605  0.41816285   -1.16931143 0.252136477\n",
       "h65         -2.362098638  0.85729167   -2.75530338 0.010192435\n",
       "hm65         0.707143400  0.52314511    1.35171560 0.187285919\n",
       "hf65         1.693448425  0.50318881    3.36543337 0.002232683\n",
       "p65          0.265526695  0.16429407    1.61616729 0.117271229\n",
       "pm65         0.136952626  0.15121749    0.90566657 0.372840111\n",
       "pf65        -0.331266948  0.16512299   -2.00618303 0.054583866\n",
       "s65          0.039079306  0.18552248    0.21064459 0.834690082\n",
       "sm65        -0.030668507  0.11679396   -0.26258642 0.794791807\n",
       "sf65        -0.179917280  0.11809892   -1.52344556 0.138863011\n",
       "fert65       0.006880834  0.02705142    0.25436128 0.801075252\n",
       "mort65      -0.233454503  0.81742198   -0.28559852 0.777287824\n",
       "lifee065    -0.014914473  0.19333559   -0.07714292 0.939058459\n",
       "gpop1        0.970184579  1.81220835    0.53536039 0.596627593\n",
       "fert1        0.008838189  0.03504148    0.25222077 0.802712696\n",
       "mort1        0.066562928  0.68481002    0.09719911 0.923260701\n",
       "invsh41      0.074461126  0.10844692    0.68661354 0.497973611\n",
       "geetot1     -0.715104906  1.68013567   -0.42562331 0.673636102\n",
       "geerec1      0.630004630  2.44737848    0.25742019 0.798736842\n",
       "gde1        -0.443575219  1.67120674   -0.26542211 0.792628757\n",
       "govwb1       0.337452364  0.43798695    0.77046214 0.447478336\n",
       "govsh41      0.463174632  1.92543733    0.24055555 0.811652246\n",
       "gvxdxe41    -0.793381582  2.05939737   -0.38524939 0.702963815\n",
       "high65      -0.752483828  0.90572159   -0.83081141 0.413108816\n",
       "highm65     -0.390261804  0.68124930   -0.57286195 0.571310302\n",
       "highf65     -0.417748705  0.56149048   -0.74399963 0.463075062\n",
       "⋮           ⋮             ⋮            ⋮           ⋮          \n",
       "highcf65     3.920771e-01 7.660246e-01  0.51183360 0.61278088 \n",
       "human65      2.337269e+00 3.307269e+00  0.70670678 0.48558873 \n",
       "humanm65    -1.209249e+00 1.618516e+00 -0.74713475 0.46121072 \n",
       "humanf65    -1.103947e+00 1.684693e+00 -0.65528075 0.51763499 \n",
       "hyr65        5.491388e+01 2.388729e+01  2.29887430 0.02918450 \n",
       "hyrm65       1.293505e+01 2.317142e+01  0.55823278 0.58112223 \n",
       "hyrf65       9.092580e+00 1.766958e+01  0.51458948 0.61087820 \n",
       "no65         3.720986e-02 1.319733e-01  0.28194994 0.78005541 \n",
       "nom65       -2.119769e-02 6.495975e-02 -0.32632032 0.74660861 \n",
       "nof65       -1.685782e-02 6.700258e-02 -0.25159954 0.80318810 \n",
       "pinstab1    -4.997113e-02 3.092081e-02 -1.61610019 0.11728579 \n",
       "pop65        1.031796e-07 1.317950e-07  0.78287929 0.44026959 \n",
       "worker65     3.407897e-02 1.561909e-01  0.21818786 0.82886516 \n",
       "pop1565     -4.655346e-01 4.713340e-01 -0.98769582 0.33176044 \n",
       "pop6565     -1.357450e+00 6.349424e-01 -2.13791049 0.04139326 \n",
       "sec65       -1.089278e-02 3.076618e-01 -0.03540506 0.97200796 \n",
       "secm65       3.343664e-03 1.511923e-01  0.02211530 0.98251284 \n",
       "secf65      -2.304329e-03 1.579715e-01 -0.01458699 0.98846512 \n",
       "secc65      -4.915284e-01 7.290408e-01 -0.67421246 0.50570489 \n",
       "seccm65      2.596016e-01 3.556533e-01  0.72992873 0.47149686 \n",
       "seccf65      2.206524e-01 3.733333e-01  0.59103325 0.55923950 \n",
       "syr65       -7.555807e-01 7.976763e+00 -0.09472273 0.92520970 \n",
       "syrm65       3.109007e-01 3.896731e+00  0.07978502 0.93697576 \n",
       "syrf65       7.592811e-01 4.110634e+00  0.18471143 0.85478676 \n",
       "teapri65     3.954523e-05 7.700406e-04  0.05135474 0.95940747 \n",
       "teasec65     2.496674e-04 1.171230e-03  0.21316678 0.83274136 \n",
       "ex1         -5.804081e-01 2.418472e-01 -2.39989593 0.02329485 \n",
       "im1          5.914450e-01 2.502978e-01  2.36296558 0.02530892 \n",
       "xr65        -1.037768e-04 5.416760e-05 -1.91584652 0.06564690 \n",
       "tot1        -1.279011e-01 1.125951e-01 -1.13593842 0.26561200 "
      ]
     },
     "metadata": {},
     "output_type": "display_data"
    }
   ],
   "source": [
    "summary(ls.effect)$coef"
   ]
  },
  {
   "cell_type": "code",
   "execution_count": 324,
   "metadata": {
    "vscode": {
     "languageId": "r"
    }
   },
   "outputs": [
    {
     "data": {
      "text/plain": [
       "[1] \"Estimates and significance testing of the effect of target variables\"\n",
       "     Estimate. Std. Error t value Pr(>|t|)    \n",
       "[1,]  -0.04981    0.01394  -3.574 0.000351 ***\n",
       "---\n",
       "Signif. codes:  0 '***' 0.001 '**' 0.01 '*' 0.05 '.' 0.1 ' ' 1\n",
       "\n"
      ]
     },
     "metadata": {},
     "output_type": "display_data"
    }
   ],
   "source": [
    "dX = as.matrix(cbind(d, X))\n",
    "lasso.effect = rlassoEffect(x = X, y = y, d = d, method = \"partialling out\")\n",
    "summary(lasso.effect)"
   ]
  },
  {
   "cell_type": "code",
   "execution_count": 325,
   "metadata": {
    "vscode": {
     "languageId": "r"
    }
   },
   "outputs": [
    {
     "data": {
      "text/plain": [
       "[1] \"Estimates and significance testing of the effect of target variables\"\n",
       "         Estimate. Std. Error t value Pr(>|t|)   \n",
       "gdpsh465  -0.05001    0.01579  -3.167  0.00154 **\n",
       "---\n",
       "Signif. codes:  0 '***' 0.001 '**' 0.01 '*' 0.05 '.' 0.1 ' ' 1\n",
       "\n"
      ]
     },
     "metadata": {},
     "output_type": "display_data"
    }
   ],
   "source": [
    "doublesel.effect = rlassoEffect(x = X, y = y, d = d, method = \"double selection\")\n",
    "summary(doublesel.effect)"
   ]
  },
  {
   "cell_type": "code",
   "execution_count": 495,
   "metadata": {
    "vscode": {
     "languageId": "r"
    }
   },
   "outputs": [
    {
     "data": {
      "text/plain": [
       "\n",
       "Call:\n",
       "lm(formula = fmla, data = GrowthData)\n",
       "\n",
       "Residuals:\n",
       "      Min        1Q    Median        3Q       Max \n",
       "-0.040338 -0.011298 -0.000863  0.011813  0.043247 \n",
       "\n",
       "Coefficients:\n",
       "              Estimate Std. Error t value Pr(>|t|)   \n",
       "(Intercept)  2.472e-01  7.845e-01   0.315  0.75506   \n",
       "gdpsh465    -9.378e-03  2.989e-02  -0.314  0.75602   \n",
       "bmp1l       -6.886e-02  3.253e-02  -2.117  0.04329 * \n",
       "freeop       8.007e-02  2.079e-01   0.385  0.70300   \n",
       "freetar     -4.890e-01  4.182e-01  -1.169  0.25214   \n",
       "h65         -2.362e+00  8.573e-01  -2.755  0.01019 * \n",
       "hm65         7.071e-01  5.231e-01   1.352  0.18729   \n",
       "hf65         1.693e+00  5.032e-01   3.365  0.00223 **\n",
       "p65          2.655e-01  1.643e-01   1.616  0.11727   \n",
       "pm65         1.370e-01  1.512e-01   0.906  0.37284   \n",
       "pf65        -3.313e-01  1.651e-01  -2.006  0.05458 . \n",
       "s65          3.908e-02  1.855e-01   0.211  0.83469   \n",
       "sm65        -3.067e-02  1.168e-01  -0.263  0.79479   \n",
       "sf65        -1.799e-01  1.181e-01  -1.523  0.13886   \n",
       "fert65       6.881e-03  2.705e-02   0.254  0.80108   \n",
       "mort65      -2.335e-01  8.174e-01  -0.286  0.77729   \n",
       "lifee065    -1.491e-02  1.933e-01  -0.077  0.93906   \n",
       "gpop1        9.702e-01  1.812e+00   0.535  0.59663   \n",
       "fert1        8.838e-03  3.504e-02   0.252  0.80271   \n",
       "mort1        6.656e-02  6.848e-01   0.097  0.92326   \n",
       "invsh41      7.446e-02  1.084e-01   0.687  0.49797   \n",
       "geetot1     -7.151e-01  1.680e+00  -0.426  0.67364   \n",
       "geerec1      6.300e-01  2.447e+00   0.257  0.79874   \n",
       "gde1        -4.436e-01  1.671e+00  -0.265  0.79263   \n",
       "govwb1       3.375e-01  4.380e-01   0.770  0.44748   \n",
       "govsh41      4.632e-01  1.925e+00   0.241  0.81165   \n",
       "gvxdxe41    -7.934e-01  2.059e+00  -0.385  0.70296   \n",
       "high65      -7.525e-01  9.057e-01  -0.831  0.41311   \n",
       "highm65     -3.903e-01  6.812e-01  -0.573  0.57131   \n",
       "highf65     -4.177e-01  5.615e-01  -0.744  0.46308   \n",
       "highc65     -2.216e+00  1.481e+00  -1.496  0.14575   \n",
       "highcm65     2.797e-01  6.582e-01   0.425  0.67412   \n",
       "highcf65     3.921e-01  7.660e-01   0.512  0.61278   \n",
       "human65      2.337e+00  3.307e+00   0.707  0.48559   \n",
       "humanm65    -1.209e+00  1.619e+00  -0.747  0.46121   \n",
       "humanf65    -1.104e+00  1.685e+00  -0.655  0.51763   \n",
       "hyr65        5.491e+01  2.389e+01   2.299  0.02918 * \n",
       "hyrm65       1.294e+01  2.317e+01   0.558  0.58112   \n",
       "hyrf65       9.093e+00  1.767e+01   0.515  0.61088   \n",
       "no65         3.721e-02  1.320e-01   0.282  0.78006   \n",
       "nom65       -2.120e-02  6.496e-02  -0.326  0.74661   \n",
       "nof65       -1.686e-02  6.700e-02  -0.252  0.80319   \n",
       "pinstab1    -4.997e-02  3.092e-02  -1.616  0.11729   \n",
       "pop65        1.032e-07  1.318e-07   0.783  0.44027   \n",
       "worker65     3.408e-02  1.562e-01   0.218  0.82887   \n",
       "pop1565     -4.655e-01  4.713e-01  -0.988  0.33176   \n",
       "pop6565     -1.357e+00  6.349e-01  -2.138  0.04139 * \n",
       "sec65       -1.089e-02  3.077e-01  -0.035  0.97201   \n",
       "secm65       3.344e-03  1.512e-01   0.022  0.98251   \n",
       "secf65      -2.304e-03  1.580e-01  -0.015  0.98847   \n",
       "secc65      -4.915e-01  7.290e-01  -0.674  0.50570   \n",
       "seccm65      2.596e-01  3.557e-01   0.730  0.47150   \n",
       "seccf65      2.207e-01  3.733e-01   0.591  0.55924   \n",
       "syr65       -7.556e-01  7.977e+00  -0.095  0.92521   \n",
       "syrm65       3.109e-01  3.897e+00   0.080  0.93698   \n",
       "syrf65       7.593e-01  4.111e+00   0.185  0.85479   \n",
       "teapri65     3.955e-05  7.700e-04   0.051  0.95941   \n",
       "teasec65     2.497e-04  1.171e-03   0.213  0.83274   \n",
       "ex1         -5.804e-01  2.418e-01  -2.400  0.02329 * \n",
       "im1          5.914e-01  2.503e-01   2.363  0.02531 * \n",
       "xr65        -1.038e-04  5.417e-05  -1.916  0.06565 . \n",
       "tot1        -1.279e-01  1.126e-01  -1.136  0.26561   \n",
       "---\n",
       "Signif. codes:  0 '***' 0.001 '**' 0.01 '*' 0.05 '.' 0.1 ' ' 1\n",
       "\n",
       "Residual standard error: 0.03074 on 28 degrees of freedom\n",
       "Multiple R-squared:  0.8871,\tAdjusted R-squared:  0.6411 \n",
       "F-statistic: 3.607 on 61 and 28 DF,  p-value: 0.0002003\n"
      ]
     },
     "metadata": {},
     "output_type": "display_data"
    }
   ],
   "source": [
    "xnames = varnames[-c(1, 2, 3)] # names of X variables\n",
    "dandxnames = varnames[-c(1, 2)] # names of D and X variables\n",
    "# create formulas by pasting names (this saves typing times)\n",
    "fmla = as.formula(paste(\"Outcome ~ \", paste(dandxnames, collapse = \"+\")))\n",
    "ls.effect = lm(fmla, data = GrowthData)\n",
    "summary((ls.effect))"
   ]
  },
  {
   "cell_type": "markdown",
   "metadata": {},
   "source": [
    "## 5. Instrumental Variable Estimation in a High-Dimensional Setting"
   ]
  },
  {
   "cell_type": "code",
   "execution_count": null,
   "metadata": {
    "vscode": {
     "languageId": "r"
    }
   },
   "outputs": [],
   "source": []
  },
  {
   "cell_type": "markdown",
   "metadata": {},
   "source": [
    "### 5.2. Application: Economic Development and Institutions."
   ]
  },
  {
   "cell_type": "code",
   "execution_count": 2,
   "metadata": {
    "vscode": {
     "languageId": "r"
    }
   },
   "outputs": [
    {
     "data": {
      "text/html": [
       "<style>\n",
       ".list-inline {list-style: none; margin:0; padding: 0}\n",
       ".list-inline>li {display: inline-block}\n",
       ".list-inline>li:not(:last-child)::after {content: \"\\00b7\"; padding: 0 .5ex}\n",
       "</style>\n",
       "<ol class=list-inline><li>64</li><li>21</li></ol>\n"
      ],
      "text/latex": [
       "\\begin{enumerate*}\n",
       "\\item 64\n",
       "\\item 21\n",
       "\\end{enumerate*}\n"
      ],
      "text/markdown": [
       "1. 64\n",
       "2. 21\n",
       "\n",
       "\n"
      ],
      "text/plain": [
       "[1] 64 21"
      ]
     },
     "metadata": {},
     "output_type": "display_data"
    }
   ],
   "source": [
    "data(AJR)\n",
    "y = AJR$GDP\n",
    "d = AJR$Exprop\n",
    "z = AJR$logMort\n",
    "x = model.matrix(~-1 + (Latitude + Latitude2 + Africa + Asia + Namer + Samer)^2,\n",
    "data = AJR)\n",
    "dim(x)\n"
   ]
  },
  {
   "cell_type": "code",
   "execution_count": 3,
   "metadata": {
    "vscode": {
     "languageId": "r"
    }
   },
   "outputs": [
    {
     "name": "stdout",
     "output_type": "stream",
     "text": [
      "[1] \"Estimation and significance testing of the effect of target variables in the IV regression model\"\n",
      "       coeff.    se. t-value p-value   \n",
      "Exprop 0.8450 0.2699   3.131 0.00174 **\n",
      "---\n",
      "Signif. codes:  0 '***' 0.001 '**' 0.01 '*' 0.05 '.' 0.1 ' ' 1\n",
      "\n",
      "\n"
     ]
    }
   ],
   "source": [
    "AJR.Xselect = rlassoIV(GDP ~ Exprop + (Latitude + Latitude2 + Africa + Asia + Namer +\n",
    "Samer)^2 | logMort + (Latitude + Latitude2 + Africa + Asia + Namer + Samer)^2,\n",
    "data = AJR, select.X = TRUE, select.Z = FALSE)\n",
    "summary(AJR.Xselect)\n"
   ]
  },
  {
   "cell_type": "code",
   "execution_count": 4,
   "metadata": {
    "vscode": {
     "languageId": "r"
    }
   },
   "outputs": [
    {
     "name": "stdout",
     "output_type": "stream",
     "text": [
      "           2.5 %   97.5 %\n",
      "Exprop 0.3159812 1.374072\n"
     ]
    }
   ],
   "source": [
    "confint(AJR.Xselect)"
   ]
  },
  {
   "cell_type": "code",
   "execution_count": 5,
   "metadata": {
    "vscode": {
     "languageId": "r"
    }
   },
   "outputs": [
    {
     "name": "stdout",
     "output_type": "stream",
     "text": [
      "   [,1] [,2]\n",
      "rD 1.27 1.73\n"
     ]
    }
   ],
   "source": [
    "# parialling out by linear model\n",
    "fmla.y = GDP ~ (Latitude + Latitude2 + Africa + Asia + Namer + Samer)^2\n",
    "fmla.d = Exprop ~ (Latitude + Latitude2 + Africa + Asia + Namer + Samer)^2\n",
    "fmla.z = logMort ~ (Latitude + Latitude2 + Africa + Asia + Namer + Samer)^2\n",
    "rY = lm(fmla.y, data = AJR)$res\n",
    "rD = lm(fmla.d, data = AJR)$res\n",
    "rZ = lm(fmla.z, data = AJR)$res\n",
    "# ivfit.lm = tsls(y=rY,d=rD, x=NULL, z=rZ, intercept=FALSE)\n",
    "ivfit.lm = tsls(rY ~ rD | rZ, intercept = FALSE)\n",
    "print(cbind(ivfit.lm$coef, ivfit.lm$se), digits = 3)"
   ]
  },
  {
   "cell_type": "code",
   "execution_count": 6,
   "metadata": {
    "vscode": {
     "languageId": "r"
    }
   },
   "outputs": [],
   "source": [
    "# parialling out by lasso\n",
    "rY = rlasso(fmla.y, data = AJR)$res\n",
    "rD = rlasso(fmla.d, data = AJR)$res\n",
    "rZ = rlasso(fmla.z, data = AJR)$res\n",
    "# ivfit.lasso = tsls(y=rY,d=rD, x=NULL, z=rZ, intercept=FALSE)\n",
    "ivfit.lasso = tsls(rY ~ rD | rZ, intercept = FALSE)"
   ]
  },
  {
   "cell_type": "code",
   "execution_count": 10,
   "metadata": {
    "vscode": {
     "languageId": "r"
    }
   },
   "outputs": [
    {
     "name": "stdout",
     "output_type": "stream",
     "text": [
      "[1] \"Estimates and Significance Testing from from tsls\"\n",
      "   Estimate Std. Error t value p value   \n",
      "rD   0.8450     0.2699   3.131 0.00174 **\n",
      "---\n",
      "Signif. codes:  0 '***' 0.001 '**' 0.01 '*' 0.05 '.' 0.1 ' ' 1\n",
      "\n",
      "\n"
     ]
    }
   ],
   "source": [
    "summary(ivfit.lasso)"
   ]
  },
  {
   "cell_type": "markdown",
   "metadata": {},
   "source": [
    "### 5.3. Application: Impact of Eminent Domain Decisions on Economic Outcomes."
   ]
  },
  {
   "cell_type": "code",
   "execution_count": 45,
   "metadata": {
    "vscode": {
     "languageId": "r"
    }
   },
   "outputs": [],
   "source": [
    "data(EminentDomain)\n",
    "z <- as.matrix(EminentDomain$logGDP$z)\n",
    "x <- as.matrix(EminentDomain$logGDP$x)\n",
    "y <- EminentDomain$logGDP$y\n",
    "d <- EminentDomain$logGDP$d\n",
    "x <- x[, apply(x, 2, mean, na.rm = TRUE) > 0.05] #\n",
    "z <- z[, apply(z, 2, mean, na.rm = TRUE) > 0.05] #"
   ]
  },
  {
   "cell_type": "code",
   "execution_count": 46,
   "metadata": {
    "vscode": {
     "languageId": "r"
    }
   },
   "outputs": [],
   "source": [
    "ED.ols = lm(y ~ cbind(d, x))\n",
    "ED.2sls = tsls(y = y, d = d, x = x, z = z[, 1:2], intercept = FALSE)"
   ]
  },
  {
   "cell_type": "code",
   "execution_count": 47,
   "metadata": {
    "vscode": {
     "languageId": "r"
    }
   },
   "outputs": [
    {
     "name": "stdout",
     "output_type": "stream",
     "text": [
      "[1] \"Estimates and significance testing of the effect of target variables in the IV regression model\"\n",
      "   coeff.    se. t-value p-value\n",
      "d1 0.4146 0.2902   1.428   0.153\n",
      "\n",
      "\n"
     ]
    }
   ],
   "source": [
    "lasso.IV.Z = rlassoIV(x = x, d = d, y = y, z = z, select.X = FALSE, select.Z = TRUE)\n",
    "summary(lasso.IV.Z)"
   ]
  },
  {
   "cell_type": "code",
   "execution_count": 22,
   "metadata": {
    "vscode": {
     "languageId": "r"
    }
   },
   "outputs": [
    {
     "name": "stdout",
     "output_type": "stream",
     "text": [
      "        2.5 %    97.5 %\n",
      "d1 -0.1542764 0.9834796\n"
     ]
    }
   ],
   "source": [
    "confint(lasso.IV.Z)"
   ]
  },
  {
   "cell_type": "code",
   "execution_count": 49,
   "metadata": {
    "vscode": {
     "languageId": "r"
    }
   },
   "outputs": [
    {
     "name": "stdout",
     "output_type": "stream",
     "text": [
      "Estimates and Significance Testing of the effect of target variables in the IV regression model \n",
      "     coeff.      se. t-value p-value\n",
      "d1 -0.02383  0.12851  -0.185   0.853\n",
      "\n",
      "\n"
     ]
    }
   ],
   "source": [
    "lasso.IV.XZ = rlassoIV(x = x, d = d, y = y, z = z, select.X = TRUE, select.Z = TRUE)\n",
    "summary(lasso.IV.XZ)"
   ]
  },
  {
   "cell_type": "code",
   "execution_count": 24,
   "metadata": {
    "vscode": {
     "languageId": "r"
    }
   },
   "outputs": [
    {
     "name": "stdout",
     "output_type": "stream",
     "text": [
      "        2.5 %    97.5 %\n",
      "d1 -0.2757029 0.2280335\n"
     ]
    }
   ],
   "source": [
    "confint(lasso.IV.XZ)"
   ]
  },
  {
   "cell_type": "code",
   "execution_count": 30,
   "metadata": {
    "vscode": {
     "languageId": "r"
    }
   },
   "outputs": [
    {
     "data": {
      "text/html": [
       "<style>\n",
       ".dl-inline {width: auto; margin:0; padding: 0}\n",
       ".dl-inline>dt, .dl-inline>dd {float: none; width: auto; display: inline-block}\n",
       ".dl-inline>dt::after {content: \":\\0020\"; padding-right: .5ex}\n",
       ".dl-inline>dt:not(:first-of-type) {padding-left: .5ex}\n",
       "</style><dl class=dl-inline><dt>Estimate</dt><dd>0.00786473183385086</dd><dt>Std. Error</dt><dd>0.00986592662133842</dd></dl>\n"
      ],
      "text/latex": [
       "\\begin{description*}\n",
       "\\item[Estimate] 0.00786473183385086\n",
       "\\item[Std. Error] 0.00986592662133842\n",
       "\\end{description*}\n"
      ],
      "text/markdown": [
       "Estimate\n",
       ":   0.00786473183385086Std. Error\n",
       ":   0.00986592662133842\n",
       "\n"
      ],
      "text/plain": [
       "   Estimate  Std. Error \n",
       "0.007864732 0.009865927 "
      ]
     },
     "metadata": {},
     "output_type": "display_data"
    }
   ],
   "source": [
    "summary(ED.ols)$coef[2, 1:2]"
   ]
  },
  {
   "cell_type": "code",
   "execution_count": 31,
   "metadata": {
    "vscode": {
     "languageId": "r"
    }
   },
   "outputs": [
    {
     "data": {
      "text/html": [
       "<table class=\"dataframe\">\n",
       "<caption>A matrix: 1 × 2 of type dbl</caption>\n",
       "<tbody>\n",
       "\t<tr><th scope=row>d1</th><td>-0.01073327</td><td>0.03376636</td></tr>\n",
       "</tbody>\n",
       "</table>\n"
      ],
      "text/latex": [
       "A matrix: 1 × 2 of type dbl\n",
       "\\begin{tabular}{r|ll}\n",
       "\td1 & -0.01073327 & 0.03376636\\\\\n",
       "\\end{tabular}\n"
      ],
      "text/markdown": [
       "\n",
       "A matrix: 1 × 2 of type dbl\n",
       "\n",
       "| d1 | -0.01073327 | 0.03376636 |\n",
       "\n"
      ],
      "text/plain": [
       "   [,1]        [,2]      \n",
       "d1 -0.01073327 0.03376636"
      ]
     },
     "metadata": {},
     "output_type": "display_data"
    }
   ],
   "source": [
    "cbind(ED.2sls$coef[1], ED.2sls$se[1])"
   ]
  },
  {
   "cell_type": "code",
   "execution_count": 32,
   "metadata": {
    "vscode": {
     "languageId": "r"
    }
   },
   "outputs": [
    {
     "name": "stdout",
     "output_type": "stream",
     "text": [
      "[1] \"Estimates and significance testing of the effect of target variables in the IV regression model\"\n",
      "   coeff.    se. t-value p-value\n",
      "d1 0.4146 0.2902   1.428   0.153\n",
      "\n",
      "\n"
     ]
    }
   ],
   "source": [
    "library(xtable)\n",
    "table = matrix(0, 4, 2)\n",
    "table[1, ] = summary(ED.ols)$coef[2, 1:2]\n",
    "table[2, ] = cbind(ED.2sls$coef[1], ED.2sls$se[1])\n",
    "table[3, ] = summary(lasso.IV.Z)[, 1:2]"
   ]
  },
  {
   "cell_type": "code",
   "execution_count": 27,
   "metadata": {
    "vscode": {
     "languageId": "r"
    }
   },
   "outputs": [
    {
     "data": {
      "text/html": [
       "<table class=\"dataframe\">\n",
       "<caption>A matrix: 4 × 2 of type dbl</caption>\n",
       "<tbody>\n",
       "\t<tr><td> 0.007864732</td><td>0.009865927</td></tr>\n",
       "\t<tr><td>-0.010733269</td><td>0.033766362</td></tr>\n",
       "\t<tr><td> 0.414601641</td><td>0.290249208</td></tr>\n",
       "\t<tr><td> 0.000000000</td><td>0.000000000</td></tr>\n",
       "</tbody>\n",
       "</table>\n"
      ],
      "text/latex": [
       "A matrix: 4 × 2 of type dbl\n",
       "\\begin{tabular}{ll}\n",
       "\t  0.007864732 & 0.009865927\\\\\n",
       "\t -0.010733269 & 0.033766362\\\\\n",
       "\t  0.414601641 & 0.290249208\\\\\n",
       "\t  0.000000000 & 0.000000000\\\\\n",
       "\\end{tabular}\n"
      ],
      "text/markdown": [
       "\n",
       "A matrix: 4 × 2 of type dbl\n",
       "\n",
       "|  0.007864732 | 0.009865927 |\n",
       "| -0.010733269 | 0.033766362 |\n",
       "|  0.414601641 | 0.290249208 |\n",
       "|  0.000000000 | 0.000000000 |\n",
       "\n"
      ],
      "text/plain": [
       "     [,1]         [,2]       \n",
       "[1,]  0.007864732 0.009865927\n",
       "[2,] -0.010733269 0.033766362\n",
       "[3,]  0.414601641 0.290249208\n",
       "[4,]  0.000000000 0.000000000"
      ]
     },
     "metadata": {},
     "output_type": "display_data"
    }
   ],
   "source": [
    "table"
   ]
  },
  {
   "cell_type": "code",
   "execution_count": null,
   "metadata": {
    "vscode": {
     "languageId": "r"
    }
   },
   "outputs": [],
   "source": []
  },
  {
   "cell_type": "markdown",
   "metadata": {},
   "source": [
    "## 7. The Lasso Methods for Discovery of Significant Causes amongst Many Potential Causes, with Many Controls"
   ]
  },
  {
   "cell_type": "code",
   "execution_count": 50,
   "metadata": {
    "vscode": {
     "languageId": "r"
    }
   },
   "outputs": [],
   "source": [
    "# library(hdm) library(stats)\n",
    "set.seed(1)\n",
    "n = 100\n",
    "p1 = 20\n",
    "p2 = 20\n",
    "D = matrix(rnorm(n * p1), n, p1) # Causes\n",
    "W = matrix(rnorm(n * p2), n, p2) # Controls\n",
    "X = cbind(D, W) # Regressors\n",
    "Y = D[, 1] * 5 + W[, 1] * 5 + rnorm(n) #Outcome"
   ]
  },
  {
   "cell_type": "code",
   "execution_count": 233,
   "metadata": {
    "vscode": {
     "languageId": "r"
    }
   },
   "outputs": [],
   "source": [
    "# data = data.frame(cbind(Y, X))\n",
    "# write.csv(data,\"../data/7_.csv\", row.names = FALSE)"
   ]
  },
  {
   "cell_type": "code",
   "execution_count": 51,
   "metadata": {
    "vscode": {
     "languageId": "r"
    }
   },
   "outputs": [
    {
     "data": {
      "text/html": [
       "<table class=\"dataframe\">\n",
       "<caption>A matrix: 20 × 2 of type dbl</caption>\n",
       "<thead>\n",
       "\t<tr><th></th><th scope=col>2.5 %</th><th scope=col>97.5 %</th></tr>\n",
       "</thead>\n",
       "<tbody>\n",
       "\t<tr><th scope=row>V1</th><td> 4.5145877</td><td>5.21430498</td></tr>\n",
       "\t<tr><th scope=row>V2</th><td>-0.3142909</td><td>0.30494650</td></tr>\n",
       "\t<tr><th scope=row>V3</th><td>-0.3524109</td><td>0.18678880</td></tr>\n",
       "\t<tr><th scope=row>V4</th><td>-0.2542430</td><td>0.28738914</td></tr>\n",
       "\t<tr><th scope=row>V5</th><td>-0.2765802</td><td>0.27627177</td></tr>\n",
       "\t<tr><th scope=row>V6</th><td>-0.3214676</td><td>0.29422684</td></tr>\n",
       "\t<tr><th scope=row>V7</th><td>-0.2262507</td><td>0.30094168</td></tr>\n",
       "\t<tr><th scope=row>V8</th><td>-0.0473541</td><td>0.47366372</td></tr>\n",
       "\t<tr><th scope=row>V9</th><td>-0.1865636</td><td>0.39023520</td></tr>\n",
       "\t<tr><th scope=row>V10</th><td>-0.2372356</td><td>0.26411185</td></tr>\n",
       "\t<tr><th scope=row>V11</th><td>-0.3147091</td><td>0.20945872</td></tr>\n",
       "\t<tr><th scope=row>V12</th><td>-0.3091905</td><td>0.26572176</td></tr>\n",
       "\t<tr><th scope=row>V13</th><td>-0.1741550</td><td>0.37682465</td></tr>\n",
       "\t<tr><th scope=row>V14</th><td>-0.3235734</td><td>0.38543162</td></tr>\n",
       "\t<tr><th scope=row>V15</th><td>-0.3219763</td><td>0.31312486</td></tr>\n",
       "\t<tr><th scope=row>V16</th><td>-0.2649505</td><td>0.33100700</td></tr>\n",
       "\t<tr><th scope=row>V17</th><td>-0.1792080</td><td>0.41696169</td></tr>\n",
       "\t<tr><th scope=row>V18</th><td>-0.3693247</td><td>0.04695928</td></tr>\n",
       "\t<tr><th scope=row>V19</th><td>-0.1073109</td><td>0.39368776</td></tr>\n",
       "\t<tr><th scope=row>V20</th><td>-0.2157182</td><td>0.25543839</td></tr>\n",
       "</tbody>\n",
       "</table>\n"
      ],
      "text/latex": [
       "A matrix: 20 × 2 of type dbl\n",
       "\\begin{tabular}{r|ll}\n",
       "  & 2.5 \\% & 97.5 \\%\\\\\n",
       "\\hline\n",
       "\tV1 &  4.5145877 & 5.21430498\\\\\n",
       "\tV2 & -0.3142909 & 0.30494650\\\\\n",
       "\tV3 & -0.3524109 & 0.18678880\\\\\n",
       "\tV4 & -0.2542430 & 0.28738914\\\\\n",
       "\tV5 & -0.2765802 & 0.27627177\\\\\n",
       "\tV6 & -0.3214676 & 0.29422684\\\\\n",
       "\tV7 & -0.2262507 & 0.30094168\\\\\n",
       "\tV8 & -0.0473541 & 0.47366372\\\\\n",
       "\tV9 & -0.1865636 & 0.39023520\\\\\n",
       "\tV10 & -0.2372356 & 0.26411185\\\\\n",
       "\tV11 & -0.3147091 & 0.20945872\\\\\n",
       "\tV12 & -0.3091905 & 0.26572176\\\\\n",
       "\tV13 & -0.1741550 & 0.37682465\\\\\n",
       "\tV14 & -0.3235734 & 0.38543162\\\\\n",
       "\tV15 & -0.3219763 & 0.31312486\\\\\n",
       "\tV16 & -0.2649505 & 0.33100700\\\\\n",
       "\tV17 & -0.1792080 & 0.41696169\\\\\n",
       "\tV18 & -0.3693247 & 0.04695928\\\\\n",
       "\tV19 & -0.1073109 & 0.39368776\\\\\n",
       "\tV20 & -0.2157182 & 0.25543839\\\\\n",
       "\\end{tabular}\n"
      ],
      "text/markdown": [
       "\n",
       "A matrix: 20 × 2 of type dbl\n",
       "\n",
       "| <!--/--> | 2.5 % | 97.5 % |\n",
       "|---|---|---|\n",
       "| V1 |  4.5145877 | 5.21430498 |\n",
       "| V2 | -0.3142909 | 0.30494650 |\n",
       "| V3 | -0.3524109 | 0.18678880 |\n",
       "| V4 | -0.2542430 | 0.28738914 |\n",
       "| V5 | -0.2765802 | 0.27627177 |\n",
       "| V6 | -0.3214676 | 0.29422684 |\n",
       "| V7 | -0.2262507 | 0.30094168 |\n",
       "| V8 | -0.0473541 | 0.47366372 |\n",
       "| V9 | -0.1865636 | 0.39023520 |\n",
       "| V10 | -0.2372356 | 0.26411185 |\n",
       "| V11 | -0.3147091 | 0.20945872 |\n",
       "| V12 | -0.3091905 | 0.26572176 |\n",
       "| V13 | -0.1741550 | 0.37682465 |\n",
       "| V14 | -0.3235734 | 0.38543162 |\n",
       "| V15 | -0.3219763 | 0.31312486 |\n",
       "| V16 | -0.2649505 | 0.33100700 |\n",
       "| V17 | -0.1792080 | 0.41696169 |\n",
       "| V18 | -0.3693247 | 0.04695928 |\n",
       "| V19 | -0.1073109 | 0.39368776 |\n",
       "| V20 | -0.2157182 | 0.25543839 |\n",
       "\n"
      ],
      "text/plain": [
       "    2.5 %      97.5 %    \n",
       "V1   4.5145877 5.21430498\n",
       "V2  -0.3142909 0.30494650\n",
       "V3  -0.3524109 0.18678880\n",
       "V4  -0.2542430 0.28738914\n",
       "V5  -0.2765802 0.27627177\n",
       "V6  -0.3214676 0.29422684\n",
       "V7  -0.2262507 0.30094168\n",
       "V8  -0.0473541 0.47366372\n",
       "V9  -0.1865636 0.39023520\n",
       "V10 -0.2372356 0.26411185\n",
       "V11 -0.3147091 0.20945872\n",
       "V12 -0.3091905 0.26572176\n",
       "V13 -0.1741550 0.37682465\n",
       "V14 -0.3235734 0.38543162\n",
       "V15 -0.3219763 0.31312486\n",
       "V16 -0.2649505 0.33100700\n",
       "V17 -0.1792080 0.41696169\n",
       "V18 -0.3693247 0.04695928\n",
       "V19 -0.1073109 0.39368776\n",
       "V20 -0.2157182 0.25543839"
      ]
     },
     "metadata": {},
     "output_type": "display_data"
    }
   ],
   "source": [
    "confint(rlassoEffects(X, Y, index = c(1:p1)), joint = TRUE)"
   ]
  },
  {
   "cell_type": "code",
   "execution_count": null,
   "metadata": {
    "vscode": {
     "languageId": "r"
    }
   },
   "outputs": [],
   "source": []
  },
  {
   "cell_type": "code",
   "execution_count": null,
   "metadata": {
    "vscode": {
     "languageId": "r"
    }
   },
   "outputs": [],
   "source": []
  },
  {
   "cell_type": "code",
   "execution_count": null,
   "metadata": {
    "vscode": {
     "languageId": "r"
    }
   },
   "outputs": [],
   "source": []
  }
 ],
 "metadata": {
  "kernelspec": {
   "display_name": "R",
   "language": "R",
   "name": "ir"
  },
  "language_info": {
   "codemirror_mode": "r",
   "file_extension": ".r",
   "mimetype": "text/x-r-source",
   "name": "R",
   "pygments_lexer": "r",
   "version": "4.2.0"
  },
  "orig_nbformat": 4
 },
 "nbformat": 4,
 "nbformat_minor": 2
}
