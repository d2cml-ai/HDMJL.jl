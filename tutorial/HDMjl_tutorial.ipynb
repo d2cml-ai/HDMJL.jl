{
 "cells": [
  {
   "cell_type": "markdown",
   "metadata": {},
   "source": [
    "# HIGH-DIMENSIONAL METRICS IN R"
   ]
  },
  {
   "cell_type": "markdown",
   "metadata": {},
   "source": [
    "## 2. How to get started"
   ]
  },
  {
   "cell_type": "code",
   "execution_count": 56,
   "metadata": {},
   "outputs": [],
   "source": [
    "import Pkg; Pkg.add(\"HDMjl\")"
   ]
  },
  {
   "cell_type": "markdown",
   "metadata": {},
   "source": [
    "or"
   ]
  },
  {
   "cell_type": "code",
   "execution_count": 38,
   "metadata": {},
   "outputs": [
    {
     "name": "stderr",
     "output_type": "stream",
     "text": [
      "\u001b[32m\u001b[1m    Updating\u001b[22m\u001b[39m git-repo `https://github.com/d2cml-ai/HDMjl.jl`\n"
     ]
    },
    {
     "name": "stderr",
     "output_type": "stream",
     "text": [
      "\u001b[32m\u001b[1m   Resolving\u001b[22m\u001b[39m package versions..."
     ]
    },
    {
     "name": "stderr",
     "output_type": "stream",
     "text": [
      "\n",
      "\u001b[32m\u001b[1m  No Changes\u001b[22m\u001b[39m to `C:\\Users\\User\\.julia\\environments\\v1.8\\Project.toml`\n"
     ]
    },
    {
     "name": "stderr",
     "output_type": "stream",
     "text": [
      "\u001b[32m\u001b[1m  No Changes\u001b[22m\u001b[39m to `C:\\Users\\User\\.julia\\environments\\v1.8\\Manifest.toml`\n"
     ]
    }
   ],
   "source": [
    "import Pkg; Pkg.add(url = \"https://github.com/d2cml-ai/HDMjl.jl\")"
   ]
  },
  {
   "cell_type": "code",
   "execution_count": 17,
   "metadata": {},
   "outputs": [
    {
     "data": {
      "text/plain": [
       "Process(`\u001b[4mcmd\u001b[24m \u001b[4m/c\u001b[24m \u001b[4mstart\u001b[24m \u001b[4m'C:\\Users\\User\\AppData\\Local\\Programs\\julia-1.8.1\\bin\\julia.exe'\u001b[24m \u001b[4m-Cnative\u001b[24m \u001b[4m'-JC:\\Users\\User\\AppData\\Local\\Programs\\julia-1.8.1\\lib\\julia\\sys.dll'\u001b[24m \u001b[4m-g1\u001b[24m \u001b[4m--color=yes\u001b[24m \u001b[4m--banner=no\u001b[24m \u001b[4m-i\u001b[24m \u001b[4mmyscript.jl\u001b[24m`, ProcessExited(0))"
      ]
     },
     "metadata": {},
     "output_type": "display_data"
    }
   ],
   "source": [
    "run(`cmd /c start  $(Base.julia_cmd()) --banner=no -i myscript.jl`)"
   ]
  },
  {
   "cell_type": "code",
   "execution_count": 299,
   "metadata": {},
   "outputs": [],
   "source": [
    "using HDMjl, CodecXz, RData, DataFrames, StatsModels, Statistics, Distributions, PrettyTables"
   ]
  },
  {
   "cell_type": "code",
   "execution_count": 22,
   "metadata": {},
   "outputs": [],
   "source": [
    "using UUIDs"
   ]
  },
  {
   "cell_type": "code",
   "execution_count": 21,
   "metadata": {},
   "outputs": [
    {
     "name": "stderr",
     "output_type": "stream",
     "text": [
      "\u001b[32m\u001b[1m    Updating\u001b[22m\u001b[39m registry at `C:\\Users\\User\\.julia\\registries\\General`\n"
     ]
    },
    {
     "name": "stderr",
     "output_type": "stream",
     "text": [
      "\u001b[32m\u001b[1m    Updating\u001b[22m\u001b[39m git-repo `https://github.com/JuliaRegistries/General.git`"
     ]
    },
    {
     "name": "stderr",
     "output_type": "stream",
     "text": [
      "\n",
      "\u001b[32m\u001b[1m   Resolving\u001b[22m\u001b[39m "
     ]
    },
    {
     "name": "stderr",
     "output_type": "stream",
     "text": [
      "package versions...\n",
      "\u001b[32m\u001b[1m    Updating\u001b[22m\u001b[39m `C:\\Users\\User\\.julia\\environments\\v1.8\\Project.toml`\n"
     ]
    },
    {
     "name": "stderr",
     "output_type": "stream",
     "text": [
      " \u001b[90m [cf7118a7] \u001b[39m\u001b[92m+ UUIDs\u001b[39m\n",
      "\u001b[32m\u001b[1m  No Changes\u001b[22m\u001b[39m to `C:\\Users\\User\\.julia\\environments\\v1.8\\Manifest.toml`\n"
     ]
    }
   ],
   "source": [
    "Pkg.add(\"UUIDs\")"
   ]
  },
  {
   "cell_type": "code",
   "execution_count": 23,
   "metadata": {},
   "outputs": [
    {
     "data": {
      "text/plain": [
       "UUID(\"70f5ce91-05bc-4285-b635-19f216e408f8\")"
      ]
     },
     "metadata": {},
     "output_type": "display_data"
    }
   ],
   "source": [
    "uuid4()"
   ]
  },
  {
   "cell_type": "code",
   "execution_count": 2,
   "metadata": {},
   "outputs": [],
   "source": [
    "import Pkg"
   ]
  },
  {
   "cell_type": "code",
   "execution_count": 6,
   "metadata": {},
   "outputs": [
    {
     "name": "stderr",
     "output_type": "stream",
     "text": [
      "\u001b[32m\u001b[1m    Updating\u001b[22m\u001b[39m `C:\\Users\\User\\.julia\\environments\\v1.8\\Project.toml`"
     ]
    },
    {
     "name": "stderr",
     "output_type": "stream",
     "text": [
      "\n",
      " \u001b[90m [8de29b41] \u001b[39m\u001b[91m- HDMjl v0.0.10 `E:/causal_ml/hdm_paper/HDMjl.jl`\u001b[39m\n",
      "\u001b[32m\u001b[1m    Updating\u001b[22m\u001b[39m `C:\\Users\\User\\.julia\\environments\\v1.8\\Manifest.toml`\n"
     ]
    },
    {
     "name": "stderr",
     "output_type": "stream",
     "text": [
      " \u001b[90m [8de29b41] \u001b[39m\u001b[91m- HDMjl v0.0.10 `E:/causal_ml/hdm_paper/HDMjl.jl`\u001b[39m\n"
     ]
    }
   ],
   "source": [
    "Pkg.rm(\"HDMjl\")"
   ]
  },
  {
   "cell_type": "code",
   "execution_count": 7,
   "metadata": {},
   "outputs": [
    {
     "name": "stderr",
     "output_type": "stream",
     "text": [
      "\u001b[32m\u001b[1m   Resolving\u001b[22m\u001b[39m package versions..."
     ]
    },
    {
     "name": "stderr",
     "output_type": "stream",
     "text": [
      "\n",
      "\u001b[32m\u001b[1m    Updating\u001b[22m\u001b[39m `C:\\Users\\User\\.julia\\environments\\v1.8\\Project.toml`\n"
     ]
    },
    {
     "name": "stderr",
     "output_type": "stream",
     "text": [
      " \u001b[90m [8de29b41] \u001b[39m\u001b[92m+ HDMjl v0.0.10 `E:/causal_ml/hdm_paper/HDMjl.jl`\u001b[39m\n",
      "\u001b[32m\u001b[1m    Updating\u001b[22m\u001b[39m `C:\\Users\\User\\.julia\\environments\\v1.8\\Manifest.toml`\n"
     ]
    },
    {
     "name": "stderr",
     "output_type": "stream",
     "text": [
      " \u001b[90m [8de29b41] \u001b[39m\u001b[92m+ HDMjl v0.0.10 `E:/causal_ml/hdm_paper/HDMjl.jl`\u001b[39m\n"
     ]
    }
   ],
   "source": [
    "Pkg.develop(path = \"E:/causal_ml/hdm_paper/HDMjl.jl\")"
   ]
  },
  {
   "cell_type": "code",
   "execution_count": 9,
   "metadata": {},
   "outputs": [],
   "source": [
    "#Pkg.update(\"HDMjl\")"
   ]
  },
  {
   "cell_type": "code",
   "execution_count": 43,
   "metadata": {},
   "outputs": [],
   "source": [
    "using HDMjl"
   ]
  },
  {
   "cell_type": "code",
   "execution_count": 41,
   "metadata": {},
   "outputs": [],
   "source": []
  },
  {
   "cell_type": "markdown",
   "metadata": {},
   "source": [
    "## 3. Prediction using Approximate Sparsity"
   ]
  },
  {
   "cell_type": "markdown",
   "metadata": {},
   "source": [
    "### 3.2. A Joint Significance Test for Lasso Regression."
   ]
  },
  {
   "cell_type": "code",
   "execution_count": 10,
   "metadata": {},
   "outputs": [],
   "source": [
    "using Random\n",
    "Random.seed!(1234);\n",
    "n = 100;\n",
    "p = 100;\n",
    "s = 3;\n",
    "X = randn(n, p);\n",
    "beta = vcat(fill(5, s), zeros(p - s));\n",
    "Y = X * beta + randn(n);"
   ]
  },
  {
   "cell_type": "code",
   "execution_count": 11,
   "metadata": {},
   "outputs": [
    {
     "data": {
      "text/plain": [
       "100"
      ]
     },
     "metadata": {},
     "output_type": "display_data"
    }
   ],
   "source": [
    "a = rlasso(X, Y, post = false)\n",
    "length(a[\"residuals\"])"
   ]
  },
  {
   "cell_type": "code",
   "execution_count": 12,
   "metadata": {},
   "outputs": [
    {
     "data": {
      "text/plain": [
       "1×101 adjoint(::Vector{Float64}) with eltype Float64:\n",
       " -0.00682754  5.00958  4.93178  5.17705  …  0.0  0.0  0.0  0.0  0.0  0.0  0.0"
      ]
     },
     "metadata": {},
     "output_type": "display_data"
    }
   ],
   "source": [
    "post_lasso_reg = rlasso(X, Y, post = true) #now use post-lasso\n",
    "post_lasso_reg[\"coefficients\"]'"
   ]
  },
  {
   "cell_type": "code",
   "execution_count": 11,
   "metadata": {},
   "outputs": [
    {
     "ename": "UndefVarError",
     "evalue": "UndefVarError: Normal not defined",
     "output_type": "error",
     "traceback": [
      "UndefVarError: Normal not defined\n",
      "\n",
      "Stacktrace:\n",
      " [1] top-level scope\n",
      "   @ e:\\causal_ml\\hdm_paper\\HDMjl_tutorial.ipynb:4"
     ]
    }
   ],
   "source": [
    "level = 0.95\n",
    "a = (1 - level)/2\n",
    "a = [a, 1 - a]\n",
    "quantile.(Normal(), a)\n",
    "round.(a; digits = 3)"
   ]
  },
  {
   "cell_type": "markdown",
   "metadata": {},
   "source": [
    "## 4. Inference on Target Regression Coefficients"
   ]
  },
  {
   "cell_type": "markdown",
   "metadata": {},
   "source": [
    "### 4.1. Intuition for the Orthogonality Principle in Linear Models via Partialling Out."
   ]
  },
  {
   "cell_type": "code",
   "execution_count": null,
   "metadata": {},
   "outputs": [],
   "source": []
  },
  {
   "cell_type": "markdown",
   "metadata": {},
   "source": [
    "### 4.2. Inference: Confidence Intervals and Significance Testing. The function rlassoEffects"
   ]
  },
  {
   "cell_type": "code",
   "execution_count": 576,
   "metadata": {},
   "outputs": [],
   "source": [
    "using Random\n",
    "Random.seed!(1234);\n",
    "n = 100;\n",
    "p = 100;\n",
    "s = 3;\n",
    "x = randn(n, p);\n",
    "beta = vcat(fill(3, s), zeros(p - s));\n",
    "y =1 .+ X * beta + randn(n);"
   ]
  },
  {
   "cell_type": "code",
   "execution_count": 575,
   "metadata": {},
   "outputs": [],
   "source": []
  },
  {
   "cell_type": "code",
   "execution_count": 577,
   "metadata": {},
   "outputs": [
    {
     "ename": "MethodError",
     "evalue": "MethodError: no method matching isless(::Int64, ::Set{Int64})\nClosest candidates are:\n  isless(::Union{AbstractChar, AbstractString, Number}, !Matched::CategoricalArrays.CategoricalValue) at C:\\Users\\User\\.julia\\packages\\CategoricalArrays\\tJ8hD\\src\\value.jl:157\n  isless(::Real, !Matched::AbstractFloat) at operators.jl:185\n  isless(::Real, !Matched::Union{StatsBase.PValue, StatsBase.TestStat}) at C:\\Users\\User\\.julia\\packages\\StatsBase\\XgjIN\\src\\statmodels.jl:91\n  ...",
     "output_type": "error",
     "traceback": [
      "MethodError: no method matching isless(::Int64, ::Set{Int64})\n",
      "Closest candidates are:\n",
      "  isless(::Union{AbstractChar, AbstractString, Number}, !Matched::CategoricalArrays.CategoricalValue) at C:\\Users\\User\\.julia\\packages\\CategoricalArrays\\tJ8hD\\src\\value.jl:157\n",
      "  isless(::Real, !Matched::AbstractFloat) at operators.jl:185\n",
      "  isless(::Real, !Matched::Union{StatsBase.PValue, StatsBase.TestStat}) at C:\\Users\\User\\.julia\\packages\\StatsBase\\XgjIN\\src\\statmodels.jl:91\n",
      "  ...\n",
      "\n",
      "Stacktrace:\n",
      " [1] <(x::Int64, y::Set{Int64})\n",
      "   @ Base .\\operators.jl:356\n",
      " [2] >(x::Set{Int64}, y::Int64)\n",
      "   @ Base .\\operators.jl:382\n",
      " [3] rlassoEffects(x::Matrix{Float64}, y::Vector{Float64}; index::UnitRange{Int64}, I3::Nothing)\n",
      "   @ HDMjl E:\\causal_ml\\hdm_paper\\HDMjl.jl\\src\\rlassoEffect.jl:112\n",
      " [4] rlassoEffects(x::Matrix{Float64}, y::Vector{Float64})\n",
      "   @ HDMjl E:\\causal_ml\\hdm_paper\\HDMjl.jl\\src\\rlassoEffect.jl:107\n",
      " [5] top-level scope\n",
      "   @ e:\\causal_ml\\hdm_paper\\HDMjl_tutorial.ipynb:1"
     ]
    }
   ],
   "source": [
    "rlassoEffects(x, y)"
   ]
  },
  {
   "cell_type": "code",
   "execution_count": 601,
   "metadata": {},
   "outputs": [
    {
     "data": {
      "text/plain": [
       "false"
      ]
     },
     "metadata": {},
     "output_type": "display_data"
    }
   ],
   "source": [
    "any(t)"
   ]
  },
  {
   "cell_type": "code",
   "execution_count": 602,
   "metadata": {},
   "outputs": [
    {
     "data": {
      "text/plain": [
       "Set{Int64} with 10 elements:\n",
       "  5\n",
       "  4\n",
       "  6\n",
       "  7\n",
       "  2\n",
       "  10\n",
       "  9\n",
       "  8\n",
       "  3\n",
       "  1"
      ]
     },
     "metadata": {},
     "output_type": "display_data"
    }
   ],
   "source": [
    "#Set(index)\n",
    "Set([1:10;])"
   ]
  },
  {
   "cell_type": "code",
   "execution_count": 616,
   "metadata": {},
   "outputs": [
    {
     "data": {
      "text/plain": [
       "100×100 Matrix{Float64}:\n",
       " 0.0  0.0  0.0  0.0  0.0  0.0  0.0  0.0  …  0.0  0.0  0.0  0.0  0.0  0.0  0.0\n",
       " 0.0  0.0  0.0  0.0  0.0  0.0  0.0  0.0     0.0  0.0  0.0  0.0  0.0  0.0  0.0\n",
       " 0.0  0.0  0.0  0.0  0.0  0.0  0.0  0.0     0.0  0.0  0.0  0.0  0.0  0.0  0.0\n",
       " 0.0  0.0  0.0  0.0  0.0  0.0  0.0  0.0     0.0  0.0  0.0  0.0  0.0  0.0  0.0\n",
       " 0.0  0.0  0.0  0.0  0.0  0.0  0.0  0.0     0.0  0.0  0.0  0.0  0.0  0.0  0.0\n",
       " 0.0  0.0  0.0  0.0  0.0  0.0  0.0  0.0  …  0.0  0.0  0.0  0.0  0.0  0.0  0.0\n",
       " 0.0  0.0  0.0  0.0  0.0  0.0  0.0  0.0     0.0  0.0  0.0  0.0  0.0  0.0  0.0\n",
       " 0.0  0.0  0.0  0.0  0.0  0.0  0.0  0.0     0.0  0.0  0.0  0.0  0.0  0.0  0.0\n",
       " 0.0  0.0  0.0  0.0  0.0  0.0  0.0  0.0     0.0  0.0  0.0  0.0  0.0  0.0  0.0\n",
       " 0.0  0.0  0.0  0.0  0.0  0.0  0.0  0.0     0.0  0.0  0.0  0.0  0.0  0.0  0.0\n",
       " ⋮                        ⋮              ⋱            ⋮                   \n",
       " 0.0  0.0  0.0  0.0  0.0  0.0  0.0  0.0     0.0  0.0  0.0  0.0  0.0  0.0  0.0\n",
       " 0.0  0.0  0.0  0.0  0.0  0.0  0.0  0.0     0.0  0.0  0.0  0.0  0.0  0.0  0.0\n",
       " 0.0  0.0  0.0  0.0  0.0  0.0  0.0  0.0     0.0  0.0  0.0  0.0  0.0  0.0  0.0\n",
       " 0.0  0.0  0.0  0.0  0.0  0.0  0.0  0.0     0.0  0.0  0.0  0.0  0.0  0.0  0.0\n",
       " 0.0  0.0  0.0  0.0  0.0  0.0  0.0  0.0  …  0.0  0.0  0.0  0.0  0.0  0.0  0.0\n",
       " 0.0  0.0  0.0  0.0  0.0  0.0  0.0  0.0     0.0  0.0  0.0  0.0  0.0  0.0  0.0\n",
       " 0.0  0.0  0.0  0.0  0.0  0.0  0.0  0.0     0.0  0.0  0.0  0.0  0.0  0.0  0.0\n",
       " 0.0  0.0  0.0  0.0  0.0  0.0  0.0  0.0     0.0  0.0  0.0  0.0  0.0  0.0  0.0\n",
       " 0.0  0.0  0.0  0.0  0.0  0.0  0.0  0.0     0.0  0.0  0.0  0.0  0.0  0.0  0.0"
      ]
     },
     "metadata": {},
     "output_type": "display_data"
    }
   ],
   "source": [
    "index = 1:size(x, 2) \n",
    "I3 = nothing\n",
    "x = Matrix(x)\n",
    "y = Matrix(y[:, :])\n",
    "\n",
    "# if Set(index) > 2\n",
    "#     k = p = length(index)\n",
    "#     # all(all())\n",
    "# else\n",
    "#     k = p = sum(index)\n",
    "# end\n",
    "\n",
    "k = p1 = length(index)\n",
    "n, p0 = size(x)\n",
    "\n",
    "coefficients = zeros(k)\n",
    "se = zeros(k)\n",
    "t = zeros(k)\n",
    "lasso_reg = Dict()\n",
    "\n",
    "reside = zeros(n, p1)\n",
    "residv = zeros(n, p1)\n",
    "\n",
    "selection_matrix = zeros(k\n",
    ", size(x)[2])\n",
    "# coef_mat = Dict()\n",
    "# for i in 1:k\n",
    "#     d = x[:, index[i]]\n",
    "#     xt = x[:, Not(index[i])]\n",
    "#     if isnothing(I3)\n",
    "#         I3m = I3\n",
    "#     else\n",
    "#         I3m = I3[Not(index[i])]\n",
    "#         lasso_reg[i] = try\n",
    "#             rlassoEffect(xt, y, d, method = method, I3 = I3m, post = post)\n",
    "#         catch\n",
    "#             \"try-error\"\n",
    "#         end\n",
    "#     end\n",
    "#     if lasso_regs[i] == \"try-error\"\n",
    "#         continue\n",
    "#     else\n",
    "#         coefficients[i] = lasso_regs[i][\"alpha\"]\n",
    "#         se[i] = lasso_regs[i][\"se\"]\n",
    "#         t[i] = lasso_regs[i][\"t\"]\n",
    "#         coef_mat[i] = lasso_reg[\"coefficients_reg\"]\n",
    "#         reside[:, i] = lasso_regs[i][\"residuals\"][\"epsilon\"]\n",
    "#         residv[:, i] = lasso_regs[i][\"residuals\"][\"v\"]\n",
    "#         selection_matrix[Not(index[i]), i] = lasso_reg[\"selection_index\"]\n",
    "#     end\n",
    "# end"
   ]
  },
  {
   "cell_type": "code",
   "execution_count": null,
   "metadata": {},
   "outputs": [],
   "source": []
  },
  {
   "cell_type": "code",
   "execution_count": null,
   "metadata": {},
   "outputs": [],
   "source": []
  },
  {
   "cell_type": "code",
   "execution_count": null,
   "metadata": {},
   "outputs": [],
   "source": []
  },
  {
   "cell_type": "code",
   "execution_count": null,
   "metadata": {},
   "outputs": [],
   "source": []
  },
  {
   "cell_type": "code",
   "execution_count": null,
   "metadata": {},
   "outputs": [],
   "source": []
  },
  {
   "cell_type": "code",
   "execution_count": null,
   "metadata": {},
   "outputs": [],
   "source": []
  },
  {
   "cell_type": "markdown",
   "metadata": {},
   "source": [
    "### 4.3. Application: the effect of gender on wage"
   ]
  },
  {
   "cell_type": "code",
   "execution_count": null,
   "metadata": {},
   "outputs": [],
   "source": []
  },
  {
   "cell_type": "markdown",
   "metadata": {},
   "source": [
    "### 4.4. Application: Estimation of the treatment effect in a linear model with many confounding factors"
   ]
  },
  {
   "cell_type": "code",
   "execution_count": 545,
   "metadata": {},
   "outputs": [
    {
     "data": {
      "text/plain": [
       "summary_effect (generic function with 1 method)"
      ]
     },
     "metadata": {},
     "output_type": "display_data"
    }
   ],
   "source": [
    "function summary_effect(object)\n",
    "    if length(object) != 0\n",
    "        k = length(object[\"coefficients\"])\n",
    "        table = zeros(k, 4)\n",
    "        table[:, 1] .= object[\"coefficients\"]\n",
    "        table[:, 2] .= object[\"se\"]\n",
    "        table[:, 3] .= table[:, 1]/table[:, 2]\n",
    "        table[:, 4] .= 2 * cdf(Normal(), -abs.(table[:, 3]))\n",
    "        print(\"\"\",\"Estimates and significance testing of the effect of target variables\",\"\"\", \n",
    "                \"\\n\")\n",
    "        pretty_table(table, show_row_number = true, header = [\"Estimate.\", \"Std. Error\", \"t value\", \"Pr(>|t|)\"], tf = tf_borderless)\n",
    "        print(\"---\", \"\\n\", \"Signif. codes:\",\"\\n\", \"0 '***' 0.001 '**' 0.01 '*' 0.05 '.' 0.1 ' ' 1\")\n",
    "        print(\"\\n\")\n",
    "    else\n",
    "        print(\"No coefficients\\n\")\n",
    "    end\n",
    "end"
   ]
  },
  {
   "cell_type": "code",
   "execution_count": 546,
   "metadata": {},
   "outputs": [],
   "source": [
    "using CodecXz\n",
    "using RData\n",
    "using DataFrames\n",
    "url = \"https://github.com/cran/hdm/raw/master/data/GrowthData.rda\";\n",
    "GrowthData = load(download(url))[\"GrowthData\"];\n",
    "y = GrowthData[:, 1];\n",
    "d = GrowthData[:, 3];\n",
    "X = Matrix(GrowthData[:, Not(1, 2, 3)]);"
   ]
  },
  {
   "cell_type": "code",
   "execution_count": 547,
   "metadata": {},
   "outputs": [],
   "source": [
    "lasso_effect = rlassoEffect(X, y, d, method = \"partialling out\");"
   ]
  },
  {
   "cell_type": "code",
   "execution_count": 548,
   "metadata": {},
   "outputs": [
    {
     "name": "stdout",
     "output_type": "stream",
     "text": [
      ",\"Estimates and significance testing of the effect of target variables\",\n",
      " \u001b[1m Row \u001b[0m \u001b[1m Estimate. \u001b[0m \u001b[1m Std. Error \u001b[0m \u001b[1m t value \u001b[0m \u001b[1m    Pr(>|t|) \u001b[0m\n",
      "\n",
      "    1    -0.05333    0.0143283    -3.722   0.000197655\n",
      "---\n",
      "Signif. codes:\n",
      "0 '***' 0.001 '**' 0.01 '*' 0.05 '.' 0.1 ' ' 1\n"
     ]
    }
   ],
   "source": [
    "summary_effect(lasso_effect)"
   ]
  },
  {
   "cell_type": "code",
   "execution_count": 549,
   "metadata": {},
   "outputs": [],
   "source": [
    "doublesel_effect = rlassoEffect(X, y, d, method = \"double selection\");"
   ]
  },
  {
   "cell_type": "code",
   "execution_count": 550,
   "metadata": {},
   "outputs": [
    {
     "name": "stdout",
     "output_type": "stream",
     "text": [
      ",\"Estimates and significance testing of the effect of target variables\",\n",
      " \u001b[1m Row \u001b[0m \u001b[1m  Estimate. \u001b[0m \u001b[1m Std. Error \u001b[0m \u001b[1m  t value \u001b[0m \u001b[1m  Pr(>|t|) \u001b[0m\n",
      "\n",
      "    1   -0.0453558     0.018656   -2.43116   0.0150506\n",
      "---\n",
      "Signif. codes:\n",
      "0 '***' 0.001 '**' 0.01 '*' 0.05 '.' 0.1 ' ' 1\n"
     ]
    }
   ],
   "source": [
    "summary_effect(doublesel_effect)"
   ]
  },
  {
   "cell_type": "code",
   "execution_count": null,
   "metadata": {},
   "outputs": [],
   "source": []
  },
  {
   "cell_type": "code",
   "execution_count": null,
   "metadata": {},
   "outputs": [],
   "source": []
  },
  {
   "cell_type": "code",
   "execution_count": 551,
   "metadata": {},
   "outputs": [],
   "source": []
  },
  {
   "cell_type": "markdown",
   "metadata": {},
   "source": [
    "## 5. Instrumental Variable Estimation in a High-Dimensional Setting"
   ]
  },
  {
   "cell_type": "markdown",
   "metadata": {},
   "source": [
    "### 5.2. Application: Economic Development and Institutions."
   ]
  },
  {
   "cell_type": "code",
   "execution_count": 542,
   "metadata": {},
   "outputs": [
    {
     "data": {
      "text/plain": [
       "confintIV (generic function with 2 methods)"
      ]
     },
     "metadata": {},
     "output_type": "display_data"
    }
   ],
   "source": [
    "function confintIV(object, level = 0.95)\n",
    "    n = object[\"sample_size\"]\n",
    "    k = length(object[\"coefficients\"])\n",
    "    cf = object[\"coefficients\"]\n",
    "    #pnames <- names(cf)\n",
    "    # if (missing(parm)) \n",
    "    #     parm <- pnames else if (is.numeric(parm)) \n",
    "    #       parm <- pnames[parm]\n",
    "    a = (1 - level)/2\n",
    "    a = [a, 1 - a]\n",
    "    fac = quantile.(Normal(), a)\n",
    "    pct = string.(round.(a; digits = 3)*100, \"%\")\n",
    "    ses = object[\"se\"]\n",
    "    c_i = []\n",
    "    for i in 1:length(cf)\n",
    "        if i == 1\n",
    "            c_i = (cf[i] .+ ses * fac)[:,:]'\n",
    "        else|\n",
    "            c_i = vcat(c_i, (cf[i] .+ ses * fac)[:,:]')\n",
    "        end\n",
    "    end\n",
    "    #ci = NamedArray(c_i, (1:size(c_i)[1], pct))\n",
    "    ci = pretty_table(c_i; header = pct, show_row_number = true, tf = tf_borderless)\n",
    "    #return c_i;;\n",
    "end"
   ]
  },
  {
   "cell_type": "code",
   "execution_count": 294,
   "metadata": {},
   "outputs": [],
   "source": [
    "# using PrettyTables\n",
    "# object = AJR_Xselect\n",
    "# level = 0.95\n",
    "\n",
    "# n = object[\"sample_size\"]\n",
    "# k = length(object[\"coefficients\"])\n",
    "# cf = object[\"coefficients\"]\n",
    "# #pnames <- names(cf)\n",
    "# # if (missing(parm)) \n",
    "# #     parm <- pnames else if (is.numeric(parm)) \n",
    "# #       parm <- pnames[parm]\n",
    "# a = (1 - level)/2\n",
    "# a = [a, 1 - a]\n",
    "# fac = quantile.(Normal(), a)\n",
    "# pct = string.(round.(a; digits = 3)*100, \"%\")\n",
    "# ses = object[\"se\"]\n",
    "# c_i = []\n",
    "# for i in 1:length(cf)\n",
    "#     if i == 1\n",
    "#         c_i = (cf[i] .+ ses * fac)[:,:]'\n",
    "#     else|\n",
    "#         c_i = vcat(c_i, (cf[i] .+ ses * fac)[:,:]')\n",
    "#     end\n",
    "# end\n",
    "# #ci = NamedArray(c_i, (1:size(c_i)[1], pct))\n",
    "# ci = pretty_table(c_i; header = pct, show_row_number = true, tf = tf_borderless)\n",
    "# ci"
   ]
  },
  {
   "cell_type": "code",
   "execution_count": 541,
   "metadata": {},
   "outputs": [
    {
     "data": {
      "text/plain": [
       "summaryIV (generic function with 1 method)"
      ]
     },
     "metadata": {},
     "output_type": "display_data"
    }
   ],
   "source": [
    "function summaryIV(object)\n",
    "    if length(object) != 0\n",
    "        k = length(object[\"coefficients\"])\n",
    "        table = zeros(k, 4)\n",
    "        table[:, 1] .= object[\"coefficients\"]\n",
    "        table[:, 2] .= object[\"se\"]\n",
    "        table[:, 3] .= table[:, 1]/table[:, 2]\n",
    "        table[:, 4] .= 2 * cdf(Normal(), -abs.(table[:, 3]))\n",
    "        print(\"Estimates and Significance Testing of the effect of target variables in the IV regression model\", \n",
    "                \"\\n\")\n",
    "        pretty_table(table, show_row_number = true, header = [\"coeff.\", \"se.\", \"t-value\", \"p-value\"], tf = tf_borderless)\n",
    "        print(\"---\", \"\\n\", \"Signif. codes:\",\"\\n\", \"0 '***' 0.001 '**' 0.01 '*' 0.05 '.' 0.1 ' ' 1\")\n",
    "        print(\"\\n\")\n",
    "    else\n",
    "        print(\"No coefficients\\n\")\n",
    "        #table = []\n",
    "    end\n",
    "    #return table;;\n",
    "end"
   ]
  },
  {
   "cell_type": "code",
   "execution_count": 464,
   "metadata": {},
   "outputs": [
    {
     "data": {
      "text/plain": [
       "(64, 21)"
      ]
     },
     "metadata": {},
     "output_type": "display_data"
    }
   ],
   "source": [
    "using Statistics, StatsModels\n",
    "url = \"https://github.com/cran/hdm/raw/master/data/AJR.rda\";\n",
    "AJR = load(download(url))[\"AJR\"];\n",
    "y = AJR[!,\"GDP\"]\n",
    "d = AJR[!,\"Exprop\"]\n",
    "z = AJR[!,\"logMort\"];\n",
    "x_formula = @formula(GDP ~ -1 + Latitude + Latitude2 + Africa + Asia + Namer + Samer\n",
    "    + Latitude*Latitude2 + Latitude*Africa + Latitude*Asia + Latitude*Namer + Latitude*Samer\n",
    "    + Latitude2*Africa + Latitude2*Asia + Latitude2*Namer + Latitude2*Samer\n",
    "    + Africa*Asia + Africa*Namer + Africa*Samer\n",
    "    + Asia*Namer + Asia*Samer\n",
    "    + Namer*Samer)\n",
    "x_dframe = ModelFrame( x_formula, AJR)\n",
    "x1 = ModelMatrix(x_dframe)\n",
    "x = x1.m\n",
    "size(x)"
   ]
  },
  {
   "cell_type": "code",
   "execution_count": 465,
   "metadata": {},
   "outputs": [],
   "source": [
    "AJR_Xselect  = rlassoIV(x, d, y, z, select_X=true, select_Z=false);"
   ]
  },
  {
   "cell_type": "code",
   "execution_count": 544,
   "metadata": {},
   "outputs": [
    {
     "name": "stdout",
     "output_type": "stream",
     "text": [
      "Estimates and Significance Testing of the effect of target variables in the IV regression model\n",
      " \u001b[1m Row \u001b[0m \u001b[1m  coeff. \u001b[0m \u001b[1m     se. \u001b[0m \u001b[1m t-value \u001b[0m \u001b[1m  p-value \u001b[0m\n",
      "\n",
      "    1   1.27623   0.87538   1.45791   0.144865\n",
      "---\n",
      "Signif. codes:\n",
      "0 '***' 0.001 '**' 0.01 '*' 0.05 '.' 0.1 ' ' 1\n"
     ]
    }
   ],
   "source": [
    "summaryIV(AJR_Xselect)"
   ]
  },
  {
   "cell_type": "code",
   "execution_count": 543,
   "metadata": {},
   "outputs": [
    {
     "name": "stdout",
     "output_type": "stream",
     "text": [
      " \u001b[1m Row \u001b[0m \u001b[1m      2.5% \u001b[0m \u001b[1m   97.5% \u001b[0m\n",
      "\n",
      "    1   -0.439485   2.99194\n"
     ]
    }
   ],
   "source": [
    "confintIV(AJR_Xselect)"
   ]
  },
  {
   "cell_type": "code",
   "execution_count": 519,
   "metadata": {},
   "outputs": [],
   "source": []
  },
  {
   "cell_type": "code",
   "execution_count": 509,
   "metadata": {},
   "outputs": [],
   "source": []
  },
  {
   "cell_type": "markdown",
   "metadata": {},
   "source": [
    "### 5.3. Application: Impact of Eminent Domain Decisions on Economic Outcomes."
   ]
  },
  {
   "cell_type": "code",
   "execution_count": 56,
   "metadata": {},
   "outputs": [
    {
     "data": {
      "text/plain": [
       "Dict{String, Any} with 4 entries:\n",
       "  \"samplesize\"   => 312\n",
       "  \"se\"           => [2.32377]\n",
       "  \"residuals\"    => [0.114175; 0.056835; … ; 0.256009; 0.305468;;]\n",
       "  \"coefficients\" => [-0.451027;;]"
      ]
     },
     "metadata": {},
     "output_type": "display_data"
    }
   ],
   "source": [
    "using Statistics\n",
    "url = \"https://github.com/cran/hdm/raw/master/data/EminentDomain.rda\";\n",
    "EminentDomain = load(download(url))[\"EminentDomain\"];\n",
    "z = EminentDomain[\"logGDP\"][\"z\"];\n",
    "x = EminentDomain[\"logGDP\"][\"x\"];\n",
    "d = EminentDomain[\"logGDP\"][\"d\"];\n",
    "y = EminentDomain[\"logGDP\"][\"y\"];\n",
    "x = x[:, (mean(x, dims = 1) .> 0.05)'];\n",
    "z = z[:, (mean(z, dims = 1) .> 0.05)'];\n",
    "rlassoIV(x, d, y, z, select_X = false, select_Z = true)"
   ]
  },
  {
   "cell_type": "code",
   "execution_count": 534,
   "metadata": {},
   "outputs": [
    {
     "data": {
      "text/plain": [
       "Dict{String, Any} with 5 entries:\n",
       "  \"se\"           => 0.125636\n",
       "  \"sample_size\"  => 64\n",
       "  \"vcov\"         => 0.0157844\n",
       "  \"residuals\"    => [0.407001, 0.734715, 0.325353, -0.0492531, 0.0376143, -0.40…\n",
       "  \"coefficients\" => 0.337263"
      ]
     },
     "metadata": {},
     "output_type": "display_data"
    }
   ],
   "source": [
    "a = rlassoIV(x, d, y, z, select_X = true, select_Z = true)"
   ]
  },
  {
   "cell_type": "markdown",
   "metadata": {},
   "source": [
    "## 6. Inference on Treatment Effects in a High-Dimensional Setting"
   ]
  },
  {
   "cell_type": "markdown",
   "metadata": {},
   "source": [
    "### 6.3. Application: 401(k) plan participation."
   ]
  },
  {
   "cell_type": "code",
   "execution_count": 18,
   "metadata": {},
   "outputs": [
    {
     "data": {
      "text/plain": [
       "Dict{String, Any} with 5 entries:\n",
       "  \"se\"          => 1930.68\n",
       "  \"individual\"  => [-30618.3, -57537.6, -71442.9, 21383.3, -2.32925e5, 3.40765e…\n",
       "  \"sample_size\" => 9915\n",
       "  \"te\"          => 10180.1\n",
       "  \"type\"        => \"ATE\""
      ]
     },
     "metadata": {},
     "output_type": "display_data"
    }
   ],
   "source": [
    "url = \"https://github.com/cran/hdm/raw/master/data/pension.rda\";\n",
    "pension = load(download(url))[\"pension\"];\n",
    "y = pension[:, \"tw\"];\n",
    "d = pension[:, \"p401\"];\n",
    "z = pension[:, \"e401\"];\n",
    "X = Matrix(pension[:, [\"i2\", \"i3\", \"i4\", \"i5\", \"i6\", \"i7\", \"a2\", \"a3\", \"a4\", \"a5\", \"fsize\", \"hs\", \"smcol\", \"col\", \"marr\", \"twoearn\", \"db\", \"pira\", \"hown\"]]);\n",
    "rlassoATE(X, d, y)"
   ]
  },
  {
   "cell_type": "code",
   "execution_count": 51,
   "metadata": {},
   "outputs": [
    {
     "data": {
      "text/plain": [
       "Dict{String, Any} with 5 entries:\n",
       "  \"se\"          => 2944.43\n",
       "  \"individual\"  => [-21536.4, -52877.2, -1.44867e5, -2739.29, -307741.0, 7.3912…\n",
       "  \"sample_size\" => 9915\n",
       "  \"te\"          => 12628.5\n",
       "  \"type\"        => \"ATET\""
      ]
     },
     "metadata": {},
     "output_type": "display_data"
    }
   ],
   "source": [
    "rlassoATET(X, d, y)"
   ]
  },
  {
   "cell_type": "code",
   "execution_count": 52,
   "metadata": {},
   "outputs": [
    {
     "data": {
      "text/plain": [
       "Dict{String, Any} with 5 entries:\n",
       "  \"se\"          => 2326.9\n",
       "  \"individual\"  => [-50526.8, -1.39158e5, -1.37102e5, 38508.0, -6.5644e5, 7.943…\n",
       "  \"sample_size\" => 9915\n",
       "  \"te\"          => 12992.1\n",
       "  \"type\"        => \"LATE\""
      ]
     },
     "metadata": {},
     "output_type": "display_data"
    }
   ],
   "source": [
    "rlassoLATE(X, d, y, z)"
   ]
  },
  {
   "cell_type": "code",
   "execution_count": 53,
   "metadata": {},
   "outputs": [
    {
     "data": {
      "text/plain": [
       "Dict{String, Any} with 5 entries:\n",
       "  \"se\"          => 3645.28\n",
       "  \"individual\"  => [-35580.5, -90558.0, -1.83628e5, -5303.13, -8.0766e5, 1.8866…\n",
       "  \"sample_size\" => 9915\n",
       "  \"te\"          => 15323.2\n",
       "  \"type\"        => \"LATET\""
      ]
     },
     "metadata": {},
     "output_type": "display_data"
    }
   ],
   "source": [
    "rlassoLATET(X, d, y, z)"
   ]
  },
  {
   "cell_type": "code",
   "execution_count": null,
   "metadata": {},
   "outputs": [],
   "source": []
  },
  {
   "cell_type": "code",
   "execution_count": null,
   "metadata": {},
   "outputs": [],
   "source": []
  }
 ],
 "metadata": {
  "kernelspec": {
   "display_name": "Julia 1.8.1",
   "language": "julia",
   "name": "julia-1.8"
  },
  "language_info": {
   "file_extension": ".jl",
   "mimetype": "application/julia",
   "name": "julia",
   "version": "1.8.1"
  },
  "orig_nbformat": 4
 },
 "nbformat": 4,
 "nbformat_minor": 2
}
