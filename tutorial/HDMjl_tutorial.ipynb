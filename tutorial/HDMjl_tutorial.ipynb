{
 "cells": [
  {
   "cell_type": "markdown",
   "metadata": {},
   "source": [
    "# HIGH-DIMENSIONAL METRICS IN JULIA"
   ]
  },
  {
   "cell_type": "markdown",
   "metadata": {},
   "source": [
    "## 2. How to get started"
   ]
  },
  {
   "cell_type": "code",
   "execution_count": 108,
   "metadata": {},
   "outputs": [],
   "source": [
    "import Pkg; using Pkg"
   ]
  },
  {
   "cell_type": "code",
   "execution_count": 251,
   "metadata": {},
   "outputs": [],
   "source": [
    "# Pkg.rm(\"HDMjl\")"
   ]
  },
  {
   "cell_type": "code",
   "execution_count": 18,
   "metadata": {},
   "outputs": [],
   "source": [
    "# Pkg.add(url = \"https://github.com/d2cml-ai/HDMjl.jl\", rev = \"prueba2\")"
   ]
  },
  {
   "cell_type": "code",
   "execution_count": 20,
   "metadata": {},
   "outputs": [
    {
     "name": "stderr",
     "output_type": "stream",
     "text": [
      "\u001b[32m\u001b[1m    Updating\u001b[22m\u001b[39m git-repo `https://github.com/d2cml-ai/HDMjl.jl`\n"
     ]
    },
    {
     "name": "stderr",
     "output_type": "stream",
     "text": [
      "\u001b[32m\u001b[1m   Resolving\u001b[22m\u001b[39m package versions..."
     ]
    },
    {
     "name": "stderr",
     "output_type": "stream",
     "text": [
      "\n",
      "\u001b[32m\u001b[1m    Updating\u001b[22m\u001b[39m `C:\\Users\\User\\.julia\\environments\\v1.8\\Project.toml`"
     ]
    },
    {
     "name": "stderr",
     "output_type": "stream",
     "text": [
      "\n"
     ]
    },
    {
     "name": "stderr",
     "output_type": "stream",
     "text": [
      " \u001b[90m [8de29b41] \u001b[39m"
     ]
    },
    {
     "name": "stderr",
     "output_type": "stream",
     "text": [
      "\u001b[92m+ HDMjl v0.0.11 `https://github.com/d2cml-ai/HDMjl.jl#main`\u001b[39m\n",
      "\u001b[32m\u001b[1m    Updating\u001b[22m\u001b[39m "
     ]
    },
    {
     "name": "stderr",
     "output_type": "stream",
     "text": [
      "`C:\\Users\\User\\.julia\\environments\\v1.8\\Manifest.toml`\n"
     ]
    },
    {
     "name": "stderr",
     "output_type": "stream",
     "text": [
      " \u001b[90m [8de29b41] \u001b[39m\u001b[92m+ HDMjl v0.0.11 `https://github.com/d2cml-ai/HDMjl.jl#main`\u001b[39m"
     ]
    },
    {
     "name": "stderr",
     "output_type": "stream",
     "text": [
      "\n"
     ]
    },
    {
     "name": "stderr",
     "output_type": "stream",
     "text": [
      "\u001b[32m\u001b[1mPrecompiling\u001b[22m\u001b[39m"
     ]
    },
    {
     "name": "stderr",
     "output_type": "stream",
     "text": [
      " project..."
     ]
    },
    {
     "name": "stderr",
     "output_type": "stream",
     "text": [
      "\n"
     ]
    },
    {
     "name": "stderr",
     "output_type": "stream",
     "text": [
      "\u001b[33m  ✓ \u001b[39mHDMjl\n",
      "  1 dependency successfully precompiled in 42 seconds. 297 already precompiled.\n",
      "  \u001b[33m1\u001b[39m dependency precompiled but a different version is currently loaded. Restart julia to access the new version\n"
     ]
    }
   ],
   "source": [
    "Pkg.add(url = \"https://github.com/d2cml-ai/HDMjl.jl\")"
   ]
  },
  {
   "cell_type": "code",
   "execution_count": 110,
   "metadata": {},
   "outputs": [],
   "source": [
    "using CodecXz, RData, DataFrames, StatsModels, Statistics, Distributions, PrettyTables, GLM, CSV, LinearAlgebra, StatsModels"
   ]
  },
  {
   "cell_type": "markdown",
   "metadata": {},
   "source": [
    "## 3. Prediction using Approximate Sparsity"
   ]
  },
  {
   "cell_type": "markdown",
   "metadata": {},
   "source": [
    "### 3.2. A Joint Significance Test for Lasso Regression."
   ]
  },
  {
   "cell_type": "markdown",
   "metadata": {},
   "source": [
    "Example. (Prediction Using Lasso and Post-Lasso) Consider generated data from a sparse linear model:"
   ]
  },
  {
   "cell_type": "code",
   "execution_count": 6,
   "metadata": {},
   "outputs": [],
   "source": [
    "dta = get_data(\"seed_100\")\n",
    "n, p = size(dta);\n",
    "Y = dta[:,1];\n",
    "X = dta[:,2:end];"
   ]
  },
  {
   "cell_type": "markdown",
   "metadata": {},
   "source": [
    "Next we estimate the model, print the results, and make in-sample and out-of sample predictions. We can use methods print and summarize to print the results, where the option all can be set to FALSE to limit the print only to the non-zero coefficients.\n"
   ]
  },
  {
   "cell_type": "code",
   "execution_count": 10,
   "metadata": {},
   "outputs": [
    {
     "name": "stdout",
     "output_type": "stream",
     "text": [
      "\n",
      "    Post-Lasso Estimation: false\n",
      "    Total number of variables: 100\n",
      "    Number of selected variables: 11\n",
      "    ---\n",
      "     \n",
      "============ ==============\n",
      " \u001b[1m Variable  \u001b[0m \u001b[1m Estimate    \u001b[0m\n",
      "============ ==============\n",
      "  Intercept   0.056855\n",
      "  X2          4.77121\n",
      "  X3          4.69284\n",
      "  X4          4.76568\n",
      "  X14         -0.0453685\n",
      "  X16         -0.0467382\n",
      "  X17         -0.00499617\n",
      "  X20         -0.0922336\n",
      "  X23         -0.0272553\n",
      "  X41         -0.0105032\n",
      "  X62         0.113585\n",
      "  X101        -0.0247296\n",
      "============ ==============\n",
      "\n",
      "    ----\n",
      "    Multiple R-squared: 0.9912720815874809\n",
      "    Adjusted R-squared: 0.9901810917859161\n",
      "    "
     ]
    }
   ],
   "source": [
    "lasso_reg = rlasso(X, Y, post = false);\n",
    "sum_lasso = r_summary(lasso_reg)"
   ]
  },
  {
   "cell_type": "code",
   "execution_count": 15,
   "metadata": {},
   "outputs": [
    {
     "name": "stdout",
     "output_type": "stream",
     "text": [
      "\n",
      "    Post-Lasso Estimation: true\n",
      "    Total number of variables: 100\n",
      "    Number of selected variables: 3\n",
      "    ---\n",
      "     \n",
      "============ ============\n",
      " \u001b[1m Variable  \u001b[0m \u001b[1m Estimate  \u001b[0m\n",
      "============ ============\n",
      "  Intercept   0.0341043\n",
      "  X2          4.92413\n",
      "  X3          4.85787\n",
      "  X4          4.96442\n",
      "============ ============\n",
      "\n",
      "    ----\n",
      "    Multiple R-squared: 0.9906284190077158\n",
      "    Adjusted R-squared: 0.990335557101707\n",
      "    "
     ]
    }
   ],
   "source": [
    "new_dta = get_data(\"seed_200\")\n",
    "Xnew = new_dta[:, Not(1)]\n",
    "Ynew = new_dta[:, 1]\n",
    "yhat_lasso_new = r_predict(lasso_reg, xnew = Matrix(Xnew))\n",
    "post_lasso_reg = rlasso(X, Y, post = true)\n",
    "y_hat_postlasso = r_predict(post_lasso_reg, xnew = Matrix(Xnew))\n",
    "r_summary(post_lasso_reg)"
   ]
  },
  {
   "cell_type": "code",
   "execution_count": 16,
   "metadata": {},
   "outputs": [],
   "source": [
    "yhat_postlasso = r_predict(post_lasso_reg) #in-sample prediction\n",
    "yhat_postlasso_new = r_predict(post_lasso_reg, xnew = Matrix(Xnew)) #in-sample prediction\n",
    ";"
   ]
  },
  {
   "cell_type": "code",
   "execution_count": 17,
   "metadata": {},
   "outputs": [
    {
     "name": "stdout",
     "output_type": "stream",
     "text": [
      "============ =================\n",
      " \u001b[1m lasso MAE \u001b[0m \u001b[1m Post-lasso MAE \u001b[0m\n",
      "============ =================\n",
      "   0.879583          0.78017\n",
      "============ =================\n"
     ]
    }
   ],
   "source": [
    "MAE = mean(eachrow(hcat(abs.(Ynew - yhat_lasso_new), abs.(Ynew - yhat_postlasso_new))))\n",
    "MAE = DataFrame([[MAE[1]], [MAE[2]]], :auto)\n",
    "MAE = rename!(MAE, [\"lasso MAE\", \"Post-lasso MAE\"])\n",
    "pretty_table(MAE, tf = tf_simple, nosubheader = true)"
   ]
  },
  {
   "cell_type": "markdown",
   "metadata": {},
   "source": [
    "## 4. Inference on Target Regression Coefficients"
   ]
  },
  {
   "cell_type": "markdown",
   "metadata": {},
   "source": [
    "### 4.1. Intuition for the Orthogonality Principle in Linear Models via Partialling Out."
   ]
  },
  {
   "cell_type": "code",
   "execution_count": 18,
   "metadata": {},
   "outputs": [],
   "source": [
    "dta = get_data(\"seed_300\")\n",
    "n, p = size(dta);\n",
    "y = dta[:,\"y\"];\n",
    "d = dta[:,\"d\"];\n",
    "x = dta[:,3:end];"
   ]
  },
  {
   "cell_type": "markdown",
   "metadata": {},
   "source": [
    "We can estimate $\\alpha_0$ by running full least squares:"
   ]
  },
  {
   "cell_type": "code",
   "execution_count": 19,
   "metadata": {},
   "outputs": [
    {
     "data": {
      "text/html": [
       "<div class=\"data-frame\"><p>1 rows × 2 columns</p><table class=\"data-frame\"><thead><tr><th></th><th>Estimate</th><th>Std_Error</th></tr><tr><th></th><th title=\"Float64\">Float64</th><th title=\"Float64\">Float64</th></tr></thead><tbody><tr><th>1</th><td>0.978075</td><td>0.0137122</td></tr></tbody></table></div>"
      ],
      "text/latex": [
       "\\begin{tabular}{r|cc}\n",
       "\t& Estimate & Std\\_Error\\\\\n",
       "\t\\hline\n",
       "\t& Float64 & Float64\\\\\n",
       "\t\\hline\n",
       "\t1 & 0.978075 & 0.0137122 \\\\\n",
       "\\end{tabular}\n"
      ],
      "text/plain": [
       "\u001b[1m1×2 DataFrame\u001b[0m\n",
       "\u001b[1m Row \u001b[0m│\u001b[1m Estimate \u001b[0m\u001b[1m Std_Error \u001b[0m\n",
       "\u001b[1m     \u001b[0m│\u001b[90m Float64  \u001b[0m\u001b[90m Float64   \u001b[0m\n",
       "─────┼─────────────────────\n",
       "   1 │ 0.978075  0.0137122"
      ]
     },
     "metadata": {},
     "output_type": "display_data"
    }
   ],
   "source": [
    "full_fit = lm(hcat(ones(length(y)), Matrix(dta[:,2:end])), y);\n",
    "DataFrame(\n",
    "    Estimate = coef(full_fit)[2], \n",
    "    Std_Error = stderror(full_fit)[2])"
   ]
  },
  {
   "cell_type": "markdown",
   "metadata": {},
   "source": [
    "Another way to estimate $\\alpha_0$ is to first partial out the x-variables from $y_i$ and $d_i$, and run least squares on the residuals:"
   ]
  },
  {
   "cell_type": "code",
   "execution_count": 20,
   "metadata": {},
   "outputs": [],
   "source": [
    "rY_1 = lm(hcat(ones(length(y)), Matrix(dta[:,3:end])), y);\n",
    "rY = y - predict(rY_1)\n",
    "rD_1 = lm(hcat(ones(length(y)), Matrix(dta[:,3:end])), d);\n",
    "rD = d - predict(rD_1);"
   ]
  },
  {
   "cell_type": "code",
   "execution_count": 21,
   "metadata": {},
   "outputs": [
    {
     "data": {
      "text/html": [
       "<div class=\"data-frame\"><p>1 rows × 2 columns</p><table class=\"data-frame\"><thead><tr><th></th><th>Estimate</th><th>Std_Error</th></tr><tr><th></th><th title=\"Float64\">Float64</th><th title=\"Float64\">Float64</th></tr></thead><tbody><tr><th>1</th><td>0.978075</td><td>0.0136862</td></tr></tbody></table></div>"
      ],
      "text/latex": [
       "\\begin{tabular}{r|cc}\n",
       "\t& Estimate & Std\\_Error\\\\\n",
       "\t\\hline\n",
       "\t& Float64 & Float64\\\\\n",
       "\t\\hline\n",
       "\t1 & 0.978075 & 0.0136862 \\\\\n",
       "\\end{tabular}\n"
      ],
      "text/plain": [
       "\u001b[1m1×2 DataFrame\u001b[0m\n",
       "\u001b[1m Row \u001b[0m│\u001b[1m Estimate \u001b[0m\u001b[1m Std_Error \u001b[0m\n",
       "\u001b[1m     \u001b[0m│\u001b[90m Float64  \u001b[0m\u001b[90m Float64   \u001b[0m\n",
       "─────┼─────────────────────\n",
       "   1 │ 0.978075  0.0136862"
      ]
     },
     "metadata": {},
     "output_type": "display_data"
    }
   ],
   "source": [
    "partial_fit_ls = lm(hcat(ones(length(y)), rD), rY)\n",
    "DataFrame(Estimate = coef(partial_fit_ls)[2], Std_Error = stderror(partial_fit_ls)[2])"
   ]
  },
  {
   "cell_type": "markdown",
   "metadata": {},
   "source": [
    "In high-dimensional settings, we can no longer rely on the full least-squares and instead may rely on\n",
    "Lasso or Post-Lasso for partialling out"
   ]
  },
  {
   "cell_type": "code",
   "execution_count": 22,
   "metadata": {},
   "outputs": [
    {
     "data": {
      "text/html": [
       "<div class=\"data-frame\"><p>1 rows × 2 columns</p><table class=\"data-frame\"><thead><tr><th></th><th>Estimate</th><th>Std_Error</th></tr><tr><th></th><th title=\"Float64\">Float64</th><th title=\"Float64\">Float64</th></tr></thead><tbody><tr><th>1</th><td>0.972739</td><td>0.0136868</td></tr></tbody></table></div>"
      ],
      "text/latex": [
       "\\begin{tabular}{r|cc}\n",
       "\t& Estimate & Std\\_Error\\\\\n",
       "\t\\hline\n",
       "\t& Float64 & Float64\\\\\n",
       "\t\\hline\n",
       "\t1 & 0.972739 & 0.0136868 \\\\\n",
       "\\end{tabular}\n"
      ],
      "text/plain": [
       "\u001b[1m1×2 DataFrame\u001b[0m\n",
       "\u001b[1m Row \u001b[0m│\u001b[1m Estimate \u001b[0m\u001b[1m Std_Error \u001b[0m\n",
       "\u001b[1m     \u001b[0m│\u001b[90m Float64  \u001b[0m\u001b[90m Float64   \u001b[0m\n",
       "─────┼─────────────────────\n",
       "   1 │ 0.972739  0.0136868"
      ]
     },
     "metadata": {},
     "output_type": "display_data"
    }
   ],
   "source": [
    "rY_1 = rlasso(hcat(ones(length(y)), Matrix(dta[:,3:end])), y);\n",
    "rY = rY_1[\"residuals\"]\n",
    "rD_1 = rlasso(hcat(ones(length(y)), Matrix(dta[:,3:end])), d);\n",
    "rD = rD_1[\"residuals\"]\n",
    "partial_fit_postlasso = lm(hcat(ones(length(y)), rD), vec(rY))\n",
    "DataFrame(Estimate = coef(partial_fit_postlasso)[2], Std_Error = stderror(partial_fit_postlasso)[2])"
   ]
  },
  {
   "cell_type": "markdown",
   "metadata": {},
   "source": [
    "The orthogonal estimating equations method – based on partialling out via Lasso or post-Lasso – is\n",
    "implemented by the function rlassoEffect, using method= \"partialling out\":"
   ]
  },
  {
   "cell_type": "code",
   "execution_count": 23,
   "metadata": {},
   "outputs": [
    {
     "name": "stdout",
     "output_type": "stream",
     "text": [
      "Estimates and significance testing of the effect of target variables\n",
      " \u001b[1m Row \u001b[0m \u001b[1m Estimate. \u001b[0m \u001b[1m Std. Error \u001b[0m \u001b[1m  t value \u001b[0m \u001b[1m Pr(>|t|) \u001b[0m\n",
      "\n",
      "    1     0.97274      0.01369   71.05478    0.0 ***\n",
      "---\n",
      "Signif. codes:\n",
      "0 '***' 0.001 '**' 0.01 '*' 0.05 '.' 0.1 ' ' 1"
     ]
    },
    {
     "name": "stdout",
     "output_type": "stream",
     "text": [
      "\n"
     ]
    }
   ],
   "source": [
    "Eff = rlassoEffect(x, y, d, method = \"partialling out\");\n",
    "r_summary(Eff);"
   ]
  },
  {
   "cell_type": "markdown",
   "metadata": {},
   "source": [
    "Another orthogonal estimating equations method – based on the double selection of covariates – is im\u0002plemented by the the function rlassoEffect, using method= \"double selection"
   ]
  },
  {
   "cell_type": "code",
   "execution_count": 24,
   "metadata": {},
   "outputs": [
    {
     "name": "stdout",
     "output_type": "stream",
     "text": [
      "Estimates and significance testing of the effect of target variables\n",
      " \u001b[1m Row \u001b[0m \u001b[1m Estimate. \u001b[0m \u001b[1m Std. Error \u001b[0m \u001b[1m  t value \u001b[0m \u001b[1m Pr(>|t|) \u001b[0m\n",
      "\n",
      "    1     0.97807      0.01416   69.07274    0.0 ***\n",
      "---\n",
      "Signif. codes:\n",
      "0 '***' 0.001 '**' 0.01 '*' 0.05 '.' 0.1 ' ' 1\n"
     ]
    }
   ],
   "source": [
    "Eff = rlassoEffect(Matrix(x), y, d, method = \"double selection\");\n",
    "r_summary(Eff);"
   ]
  },
  {
   "cell_type": "markdown",
   "metadata": {},
   "source": [
    "### 4.2. Inference: Confidence Intervals and Significance Testing. The function rlassoEffects"
   ]
  },
  {
   "cell_type": "code",
   "execution_count": 31,
   "metadata": {},
   "outputs": [],
   "source": [
    "data = get_data(\"seed_400\")\n",
    "n, p = size(data);\n",
    "y = data[:,1];\n",
    "#d = dta[:,\"d\"];\n",
    "x = data[:,2:end];"
   ]
  },
  {
   "cell_type": "markdown",
   "metadata": {},
   "source": [
    "We can do inference on a set of variables of interest, e.g. the first, second, third, and the fiftieth:"
   ]
  },
  {
   "cell_type": "code",
   "execution_count": 32,
   "metadata": {},
   "outputs": [],
   "source": [
    "lasso_effects = rlassoEffects(x, y, index = [1,2,3,50]);"
   ]
  },
  {
   "cell_type": "code",
   "execution_count": 34,
   "metadata": {},
   "outputs": [
    {
     "name": "stdout",
     "output_type": "stream",
     "text": [
      "Coefficients:\n",
      "\n",
      " \u001b[1m    X1     \u001b[0m \u001b[1m    X2     \u001b[0m \u001b[1m    X3     \u001b[0m \u001b[1m    X50    \u001b[0m\n",
      "\n",
      "   2.9445      3.0413      2.9754       0.072\n"
     ]
    }
   ],
   "source": [
    "r_print(lasso_effects, digits = 4)"
   ]
  },
  {
   "cell_type": "code",
   "execution_count": 36,
   "metadata": {},
   "outputs": [
    {
     "name": "stdout",
     "output_type": "stream",
     "text": [
      "Estimates and significance testing of the effect of target variables\n",
      " \u001b[1m     \u001b[0m \u001b[1m           \u001b[0m \u001b[1m Estimate. \u001b[0m \u001b[1m Std. Error \u001b[0m \u001b[1m  t value \u001b[0m \u001b[1m Pr(>|t|) \u001b[0m\n",
      "\n",
      " \u001b[1m  X1 \u001b[0m    2.94448     2.94448      0.08815   33.40306    0.0 ***\n",
      " \u001b[1m  X2 \u001b[0m    3.04127     3.04127      0.08389   36.25307    0.0 ***\n",
      " \u001b[1m  X3 \u001b[0m     2.9754      2.9754      0.07804    38.1266    0.0 ***\n",
      " \u001b[1m X50 \u001b[0m  0.0719553     0.07196      0.07765    0.92672   0.35407\n",
      "---\n",
      "Signif. codes:\n",
      "0 '***' 0.001 '**' 0.01 '*' 0.05 '.' 0.1 ' ' 1"
     ]
    },
    {
     "name": "stdout",
     "output_type": "stream",
     "text": [
      "\n"
     ]
    }
   ],
   "source": [
    "r_summary(lasso_effects);"
   ]
  },
  {
   "cell_type": "code",
   "execution_count": 37,
   "metadata": {},
   "outputs": [
    {
     "name": "stdout",
     "output_type": "stream",
     "text": [
      " \u001b[1m     \u001b[0m \u001b[1m       2.5% \u001b[0m \u001b[1m    97.5% \u001b[0m\n",
      "\n",
      " \u001b[1m  X1 \u001b[0m     2.77171    3.11724\n",
      " \u001b[1m  X2 \u001b[0m     2.87685     3.2057\n",
      " \u001b[1m  X3 \u001b[0m     2.82245    3.12836\n",
      " \u001b[1m X50 \u001b[0m  -0.0802271   0.224138\n"
     ]
    }
   ],
   "source": [
    "r_confint(lasso_effects);"
   ]
  },
  {
   "cell_type": "markdown",
   "metadata": {},
   "source": [
    "We will also demonstrate the application of joint confidence intervals in an empirical application in\n",
    "the next section."
   ]
  },
  {
   "cell_type": "code",
   "execution_count": 39,
   "metadata": {},
   "outputs": [
    {
     "name": "stdout",
     "output_type": "stream",
     "text": [
      " \u001b[1m     \u001b[0m \u001b[1m      2.5% \u001b[0m \u001b[1m    97.5% \u001b[0m\n",
      "\n",
      " \u001b[1m  X1 \u001b[0m    2.72666    3.16229\n",
      " \u001b[1m  X2 \u001b[0m    2.83591    3.24664\n",
      " \u001b[1m  X3 \u001b[0m    2.78218    3.16863\n",
      " \u001b[1m X50 \u001b[0m  -0.116561   0.260472\n"
     ]
    }
   ],
   "source": [
    "r_confint(lasso_effects, joint = true);"
   ]
  },
  {
   "cell_type": "markdown",
   "metadata": {},
   "source": [
    "### 4.3. Application: the effect of gender on wage"
   ]
  },
  {
   "cell_type": "code",
   "execution_count": 58,
   "metadata": {},
   "outputs": [],
   "source": [
    "using  StatsModels, StatsBase, Combinatorics"
   ]
  },
  {
   "cell_type": "code",
   "execution_count": 143,
   "metadata": {},
   "outputs": [
    {
     "name": "stdout",
     "output_type": "stream",
     "text": [
      "[\"female\", \"female & widowed\", \"female & divorced\", \"fema"
     ]
    },
    {
     "name": "stdout",
     "output_type": "stream",
     "text": [
      "le & separated\", \"female & nevermarried\", \"female & hsd08\", \"female & hsd911\", \"fem"
     ]
    },
    {
     "name": "stdout",
     "output_type": "stream",
     "text": [
      "ale & hsg\", \"female & cg\", \"female & ad\", \"female & mw\", \"female & so\", \"female & we\", \"f"
     ]
    },
    {
     "name": "stdout",
     "output_type": "stream",
     "text": [
      "emale & exp1\", \"female & exp2\", \"female & exp3\"]\n"
     ]
    }
   ],
   "source": [
    "cps2012 = get_data(\"cps2012\")\n",
    "n, p = size(cps2012);\n",
    "size(cps2012)\n",
    "x_formula1 = @formula(lnw ~ female + female & (widowed + divorced + separated + nevermarried +\n",
    "                        hsd08 + hsd911 + hsg + cg + ad + mw + so + we + exp1 + exp2 + exp3))\n",
    "y, x1 = data_formula(x_formula1, cps2012);\n",
    "\n",
    "x0 = data_formula(x_names = [\"widowed\", \"divorced\",  \"separated\", \"nevermarried\", \"hsd08\", \"hsd911\", \"hsg\", \"cg\", \"ad\", \"mw\", \"so\",\n",
    "\"we\", \"exp1\", \"exp2\", \"exp3\"], y_name = \"lnw\", Data = cps2012)\n",
    "x = hcat(x1, x0);\n",
    "\n",
    "index_gender = []\n",
    "female = findfirst.(\"female\", names(x))\n",
    "for i in eachindex(female)\n",
    "    if female[i] == nothing\n",
    "        continue\n",
    "    else\n",
    "        append!(index_gender, i)\n",
    "    end\n",
    "end\n",
    "y = cps2012.lnw;"
   ]
  },
  {
   "cell_type": "markdown",
   "metadata": {},
   "source": [
    "The parameter estimates for the target parameters, i.e. all coefficients related to gender (i.e. by\n",
    "interaction with other variables) are calculated and summarized by the following commands"
   ]
  },
  {
   "cell_type": "code",
   "execution_count": 144,
   "metadata": {},
   "outputs": [
    {
     "name": "stdout",
     "output_type": "stream",
     "text": [
      "Estimates and significance testing of the effect of target variables\n",
      " \u001b[1m                       \u001b[0m \u001b[1m Estimate. \u001b[0m \u001b[1m Std. Error \u001b[0m \u001b[1m  t value \u001b[0m \u001b[1m    Pr(>|t|) \u001b[0m\n",
      "\n",
      " \u001b[1m                female \u001b[0m   -0.17712       0.0363   -4.87934       0.0 ***\n",
      " \u001b[1m      female & widowed \u001b[0m     0.1361      0.09066    1.50121       0.1333\n",
      " \u001b[1m     female & divorced \u001b[0m    0.13694      0.02218    6.17403       0.0 ***\n",
      " \u001b[1m    female & separated \u001b[0m     0.0233      0.05321    0.43789      0.66147\n",
      " \u001b[1m female & nevermarried \u001b[0m    0.18685      0.01994    9.37061       0.0 ***\n",
      " \u001b[1m        female & hsd08 \u001b[0m    0.02781      0.12091    0.23001      0.81808\n",
      " \u001b[1m       female & hsd911 \u001b[0m   -0.11492      0.05151   -2.23102     0.02568 *\n",
      " \u001b[1m          female & hsg \u001b[0m   -0.01245      0.01922   -0.64776      0.51714\n",
      " \u001b[1m           female & cg \u001b[0m    0.01014      0.01833    0.55319      0.58013\n",
      " \u001b[1m           female & ad \u001b[0m   -0.03046      0.02181   -1.39661      0.16253\n",
      " \u001b[1m           female & mw \u001b[0m   -0.00215      0.01918    -0.1121      0.91074\n",
      " \u001b[1m           female & so \u001b[0m   -0.00818      0.01936   -0.42252      0.67265\n",
      " \u001b[1m           female & we \u001b[0m   -0.00423      0.02117   -0.19981      0.84163\n",
      " \u001b[1m         female & exp1 \u001b[0m    0.00494       0.0078    0.63333      0.52652\n",
      " \u001b[1m         female & exp2 \u001b[0m   -0.15952       0.0453   -3.52141   0.00043 ***\n",
      " \u001b[1m         female & exp3 \u001b[0m    0.03845      0.00786    4.89186       0.0 ***\n",
      "---\n",
      "Signif. codes:\n",
      "0 '***' 0.001 '**' 0.01 '*' 0.05 '.' 0.1 ' ' 1\n"
     ]
    }
   ],
   "source": [
    "effects_female = rlassoEffects(x, y, index = index_gender);\n",
    "r_summary(effects_female);"
   ]
  },
  {
   "cell_type": "markdown",
   "metadata": {},
   "source": [
    "Finally, we estimate and plot confident intervals, first ”pointwise” and then the joint confidence intervals."
   ]
  },
  {
   "cell_type": "code",
   "execution_count": 104,
   "metadata": {},
   "outputs": [
    {
     "name": "stdout",
     "output_type": "stream",
     "text": [
      " \u001b[1m                       \u001b[0m \u001b[1m       2.5% \u001b[0m \u001b[1m      97.5% \u001b[0m\n",
      "\n",
      " \u001b[1m                female \u001b[0m   -0.278032   -0.0762057\n",
      " \u001b[1m      female & widowed \u001b[0m   -0.133905     0.406096\n",
      " \u001b[1m     female & divorced \u001b[0m    0.074743     0.199136\n",
      " \u001b[1m    female & separated \u001b[0m   -0.116838     0.163444\n",
      " \u001b[1m female & nevermarried \u001b[0m    0.129208     0.244499\n",
      " \u001b[1m        female & hsd08 \u001b[0m   -0.374852     0.430472\n",
      " \u001b[1m       female & hsd911 \u001b[0m   -0.264263    0.0344301\n",
      " \u001b[1m          female & hsg \u001b[0m  -0.0647674    0.0398773\n",
      " \u001b[1m           female & cg \u001b[0m  -0.0417268    0.0620039\n",
      " \u001b[1m           female & ad \u001b[0m  -0.0958937    0.0349662\n",
      " \u001b[1m           female & mw \u001b[0m  -0.0557516    0.0514575\n",
      " \u001b[1m           female & so \u001b[0m  -0.0627681    0.0464014\n",
      " \u001b[1m           female & we \u001b[0m  -0.0656821    0.0572298\n",
      " \u001b[1m         female & exp1 \u001b[0m   -0.016514    0.0263845\n",
      " \u001b[1m         female & exp2 \u001b[0m   -0.284253   -0.0347858\n",
      " \u001b[1m         female & exp3 \u001b[0m    0.016829    0.0600721\n"
     ]
    }
   ],
   "source": [
    "joint_CI = r_confint(effects_female, 0.95, joint = true);\n",
    "joint_CI;"
   ]
  },
  {
   "cell_type": "markdown",
   "metadata": {},
   "source": [
    "### 4.4. Application: Estimation of the treatment effect in a linear model with many confounding factors"
   ]
  },
  {
   "cell_type": "markdown",
   "metadata": {},
   "source": [
    "First, we load and prepare the data"
   ]
  },
  {
   "cell_type": "code",
   "execution_count": 40,
   "metadata": {},
   "outputs": [],
   "source": [
    "GrowthData = get_data(\"GrowthData\")\n",
    "y = GrowthData[:, 1];\n",
    "d = GrowthData[:, 3:3];\n",
    "X = Matrix(GrowthData[:, Not(1, 2, 3)]);\n",
    "X_1 = Matrix(GrowthData[:, Not(1, 2)]);"
   ]
  },
  {
   "cell_type": "markdown",
   "metadata": {},
   "source": [
    "Now we can estimate the effect of the initial GDP level. First, we estimate by OLS:"
   ]
  },
  {
   "cell_type": "code",
   "execution_count": 41,
   "metadata": {},
   "outputs": [],
   "source": [
    "Q, R = qr(hcat(ones(length(y)), X_1))\n",
    "β = pinv(hcat(ones(length(y)), X_1)) * y\n",
    "\n",
    "res = y - hcat(ones(length(y)), X_1) * β;\n",
    "n = size(hcat(ones(length(y)), X_1))[1]\n",
    "k = size(hcat(ones(length(y)), X_1))[2]\n",
    "\n",
    "sigma2_hat = (res' * res) / (n - k)\n",
    "vcov_beta_hat = sigma2_hat .* inv(hcat(ones(length(y)), X_1)' * hcat(ones(length(y)), X_1));\n",
    "se = sqrt.(diag(vcov_beta_hat))\n",
    "\n",
    "ls_effect = DataFrame(Estimate = β, stderror = se);"
   ]
  },
  {
   "cell_type": "markdown",
   "metadata": {},
   "source": [
    "Second, we estimate the effect by the partialling out by Post-Lasso:"
   ]
  },
  {
   "cell_type": "code",
   "execution_count": 42,
   "metadata": {},
   "outputs": [
    {
     "name": "stdout",
     "output_type": "stream",
     "text": [
      "Estimates and significance testing of the effect of target variables\n",
      " \u001b[1m Row \u001b[0m \u001b[1m Estimate. \u001b[0m \u001b[1m Std. Error \u001b[0m \u001b[1m  t value \u001b[0m \u001b[1m    Pr(>|t|) \u001b[0m\n",
      "\n",
      "    1    -0.04981      0.01394   -3.57317   0.00035 ***\n",
      "---\n",
      "Signif. codes:\n",
      "0 '***' 0.001 '**' 0.01 '*' 0.05 '.' 0.1 ' ' 1\n"
     ]
    }
   ],
   "source": [
    "lasso_effect = rlassoEffect(X, y, d, method = \"partialling out\");\n",
    "r_summary(lasso_effect);"
   ]
  },
  {
   "cell_type": "markdown",
   "metadata": {},
   "source": [
    "Third, we estimate the effect by the double selection method:"
   ]
  },
  {
   "cell_type": "code",
   "execution_count": 43,
   "metadata": {},
   "outputs": [
    {
     "name": "stdout",
     "output_type": "stream",
     "text": [
      "Estimates and significance testing of the effect of target variables\n",
      " \u001b[1m          \u001b[0m \u001b[1m Estimate. \u001b[0m \u001b[1m Std. Error \u001b[0m \u001b[1m  t value \u001b[0m \u001b[1m   Pr(>|t|) \u001b[0m\n",
      "\n",
      "  gdpsh465    -0.05001      0.01579   -3.16719   0.00154 **\n",
      "---\n",
      "Signif. codes:\n",
      "0 '***' 0.001 '**' 0.01 '*' 0.05 '.' 0.1 ' ' 1\n"
     ]
    }
   ],
   "source": [
    "doublesel_effect = rlassoEffect(X, y, d, method = \"double selection\");\n",
    "r_summary(doublesel_effect);"
   ]
  },
  {
   "cell_type": "markdown",
   "metadata": {},
   "source": [
    "We then collect results in a nice latex table:"
   ]
  },
  {
   "cell_type": "code",
   "execution_count": 46,
   "metadata": {},
   "outputs": [
    {
     "name": "stdout",
     "output_type": "stream",
     "text": [
      "=================================== ========== =============\n",
      " \u001b[1m                                  \u001b[0m \u001b[1m Estimate \u001b[0m \u001b[1m Std. Error \u001b[0m\n",
      "=================================== ========== =============\n",
      "                  full reg via ols      -0.01      0.02989\n",
      "      partial reg\\nvia post-lasso       -0.05      0.01394\n",
      "  partial reg via double selection      -0.05      0.01579\n",
      "=================================== ========== =============\n"
     ]
    }
   ],
   "source": [
    "table = zeros(3,2)\n",
    "table[1,:] = [round(Matrix(ls_effect)[2,1], digits = 2), round.(Matrix(ls_effect)[2,2], digits = 5)]\n",
    "table[2,:] = [round(lasso_effect.coefficients, digits =2), round(lasso_effect.se, digits = 5)]\n",
    "table[3,:] = [round(doublesel_effect.coefficients, digits =2), round(doublesel_effect.se, digits = 5)];\n",
    "index = [\"full reg via ols\", \"partial reg\n",
    "via post-lasso \", \"partial reg via double selection\"]\n",
    "pretty_table(hcat(index, table), show_row_number = false, header = [\" \", \"Estimate\", \"Std. Error\"], tf = tf_simple, nosubheader = true)"
   ]
  },
  {
   "cell_type": "markdown",
   "metadata": {},
   "source": [
    "## 5. Instrumental Variable Estimation in a High-Dimensional Setting"
   ]
  },
  {
   "cell_type": "markdown",
   "metadata": {},
   "source": [
    "### 5.2. Application: Economic Development and Institutions."
   ]
  },
  {
   "cell_type": "markdown",
   "metadata": {},
   "source": [
    "First, we process the data"
   ]
  },
  {
   "cell_type": "code",
   "execution_count": 55,
   "metadata": {},
   "outputs": [
    {
     "data": {
      "text/plain": [
       "(64, 21)"
      ]
     },
     "metadata": {},
     "output_type": "display_data"
    }
   ],
   "source": [
    "AJR = get_data(\"AJR\")\n",
    "y = AJR[!,\"GDP\"]\n",
    "d = AJR[!,2:2]\n",
    "z = AJR[!,\"logMort\"];\n",
    "x_formula = @formula(GDP ~ -1 + Latitude + Latitude2 + Africa + Asia + \n",
    "    Namer + Samer + Latitude*Latitude2 + Latitude*Africa + \n",
    "    Latitude*Asia + Latitude*Namer + Latitude*Samer + Latitude2*Africa +\n",
    "    Latitude2*Asia + Latitude2*Namer + Latitude2*Samer + Africa*Asia \n",
    "    + Africa*Namer + Africa*Samer + Asia*Namer + Asia*Samer\n",
    "    + Namer*Samer\n",
    "    )\n",
    "x_formula0 = apply_schema(x_formula, schema(AJR))\n",
    "x_dframe = ModelFrame( x_formula, AJR)\n",
    "x = DataFrame(ModelMatrix(x_dframe).m, :auto)\n",
    "x = rename!(x, string.(coefnames(x_formula0)[2]))\n",
    "size(x)"
   ]
  },
  {
   "cell_type": "markdown",
   "metadata": {},
   "source": [
    "Then we estimate an IV model with selection on the X"
   ]
  },
  {
   "cell_type": "code",
   "execution_count": 48,
   "metadata": {},
   "outputs": [
    {
     "name": "stdout",
     "output_type": "stream",
     "text": [
      "Estimates and Significance Testing of the effect of target variables in the IV regression model\n",
      " \u001b[1m        \u001b[0m \u001b[1m  coeff. \u001b[0m \u001b[1m     se. \u001b[0m \u001b[1m t-value \u001b[0m \u001b[1m    p-value \u001b[0m\n",
      "\n",
      "  Exprop   0.84503   0.26993   3.13055   0.00174 **\n",
      "---\n",
      "Signif. codes:\n",
      "0 '***' 0.001 '**' 0.01 '*' 0.05 '.' 0.1 ' ' 1\n"
     ]
    }
   ],
   "source": [
    "AJR_Xselect  = rlassoIV(x, d, y, z, select_X=true, select_Z=false);\n",
    "r_summary(AJR_Xselect);"
   ]
  },
  {
   "cell_type": "code",
   "execution_count": 51,
   "metadata": {},
   "outputs": [
    {
     "name": "stdout",
     "output_type": "stream",
     "text": [
      " \u001b[1m        \u001b[0m \u001b[1m     2.5% \u001b[0m \u001b[1m   97.5% \u001b[0m\n",
      "\n",
      "  Exprop   0.315981   1.37407\n"
     ]
    }
   ],
   "source": [
    "r_confint(AJR_Xselect);"
   ]
  },
  {
   "cell_type": "markdown",
   "metadata": {},
   "source": [
    "It is interesting to understand what the procedure above is doing. In essence, it partials out xi from\n",
    "yi\n",
    ", di and zi using Post-Lasso and applies the 2SLS to the residual quantities.\n",
    "Let us investigate partialling out in more detail in this example. We can first try to use OLS for\n",
    "partialling out:\n"
   ]
  },
  {
   "cell_type": "code",
   "execution_count": 79,
   "metadata": {},
   "outputs": [],
   "source": [
    "rY_1 = lm(hcat(ones(length(y)), Matrix(AJR[:,3:end])), y);\n",
    "rY = y - predict(rY_1)\n",
    "rD_1 = lm(hcat(ones(length(y)), Matrix(AJR[:,3:end])), vec(Matrix(d[:,:])));\n",
    "rD = vec(Matrix(d[:,:])) - predict(rD_1);\n",
    "rZ_1 = lm(hcat(ones(length(y)), Matrix(AJR[:,3:end])), z);\n",
    "rZ = z - predict(rZ_1);"
   ]
  },
  {
   "cell_type": "code",
   "execution_count": 82,
   "metadata": {},
   "outputs": [],
   "source": [
    "rY_1 = lm(@formula(GDP ~ Latitude + Latitude2 + Africa + Asia + Namer + Samer + Latitude*Latitude2 + Latitude*Africa + Latitude*Asia + Latitude*Namer + Latitude*Samer\n",
    "          + Latitude2*Africa + Latitude2*Asia + Latitude2*Namer + Latitude2*Samer + Africa*Asia + Africa*Namer + Africa*Samer\n",
    "          + Asia*Namer + Asia*Samer + Namer*Samer), AJR)\n",
    "rY = y - predict(rY_1)\n",
    "\n",
    "rD_1 = lm(@formula(Exprop ~ Latitude + Latitude2 + Africa + Asia + Namer + Samer + Latitude*Latitude2 + Latitude*Africa + Latitude*Asia + Latitude*Namer + Latitude*Samer\n",
    "          + Latitude2*Africa + Latitude2*Asia + Latitude2*Namer + Latitude2*Samer + Africa*Asia + Africa*Namer + Africa*Samer\n",
    "          + Asia*Namer + Asia*Samer + Namer*Samer), AJR)\n",
    "rD = vec(Matrix(d[:,:])) - predict(rD_1)\n",
    "\n",
    "rZ_1 = lm(@formula(logMort ~ Latitude + Latitude2 + Africa + Asia + Namer + Samer + Latitude*Latitude2 + Latitude*Africa + Latitude*Asia + Latitude*Namer + Latitude*Samer\n",
    "          + Latitude2*Africa + Latitude2*Asia + Latitude2*Namer + Latitude2*Samer + Africa*Asia + Africa*Namer + Africa*Samer\n",
    "          + Asia*Namer + Asia*Samer + Namer*Samer), AJR)\n",
    "rZ = z - predict(rZ_1);"
   ]
  },
  {
   "cell_type": "code",
   "execution_count": 84,
   "metadata": {},
   "outputs": [
    {
     "data": {
      "text/html": [
       "<div class=\"data-frame\"><p>1 rows × 2 columns</p><table class=\"data-frame\"><thead><tr><th></th><th>Estimate</th><th>Std_Error</th></tr><tr><th></th><th title=\"Float64\">Float64</th><th title=\"Float64\">Float64</th></tr></thead><tbody><tr><th>1</th><td>1.26721</td><td>1.73054</td></tr></tbody></table></div>"
      ],
      "text/latex": [
       "\\begin{tabular}{r|cc}\n",
       "\t& Estimate & Std\\_Error\\\\\n",
       "\t\\hline\n",
       "\t& Float64 & Float64\\\\\n",
       "\t\\hline\n",
       "\t1 & 1.26721 & 1.73054 \\\\\n",
       "\\end{tabular}\n"
      ],
      "text/plain": [
       "\u001b[1m1×2 DataFrame\u001b[0m\n",
       "\u001b[1m Row \u001b[0m│\u001b[1m Estimate \u001b[0m\u001b[1m Std_Error \u001b[0m\n",
       "\u001b[1m     \u001b[0m│\u001b[90m Float64  \u001b[0m\u001b[90m Float64   \u001b[0m\n",
       "─────┼─────────────────────\n",
       "   1 │  1.26721    1.73054"
      ]
     },
     "metadata": {},
     "output_type": "display_data"
    }
   ],
   "source": [
    "ivfit_lm = tsls(rD, rY, rZ, nothing, intercept=false)\n",
    "DataFrame(Estimate = ivfit_lm[\"coefficients\"][1,2], Std_Error = ivfit_lm[\"se\"])"
   ]
  },
  {
   "cell_type": "markdown",
   "metadata": {},
   "source": [
    "We see that the estimates exhibit large standard errors. The imprecision is expected because dimension\n",
    "of x is quite large, comparable to the sample size.\n",
    "Next, we replace the OLS operator by post-Lasso for partialling out"
   ]
  },
  {
   "cell_type": "code",
   "execution_count": 86,
   "metadata": {},
   "outputs": [],
   "source": [
    "x_formula1 = @formula(GDP ~ Latitude + Latitude2 + Africa + Asia + Namer + Samer\n",
    "    + Latitude*Latitude2 + Latitude*Africa + Latitude*Asia + Latitude*Namer + Latitude*Samer\n",
    "    + Latitude2*Africa + Latitude2*Asia + Latitude2*Namer + Latitude2*Samer\n",
    "    + Africa*Asia + Africa*Namer + Africa*Samer\n",
    "    + Asia*Namer + Asia*Samer\n",
    "    + Namer*Samer)\n",
    "x_dframe1 = ModelFrame( x_formula, AJR)\n",
    "x1_1 = ModelMatrix(x_dframe)\n",
    "xx = x1_1.m;"
   ]
  },
  {
   "cell_type": "code",
   "execution_count": 89,
   "metadata": {},
   "outputs": [
    {
     "data": {
      "text/html": [
       "<div class=\"data-frame\"><p>1 rows × 2 columns</p><table class=\"data-frame\"><thead><tr><th></th><th>Estimate</th><th>Std_Error</th></tr><tr><th></th><th title=\"Float64\">Float64</th><th title=\"Float64\">Float64</th></tr></thead><tbody><tr><th>1</th><td>0.845027</td><td>0.272094</td></tr></tbody></table></div>"
      ],
      "text/latex": [
       "\\begin{tabular}{r|cc}\n",
       "\t& Estimate & Std\\_Error\\\\\n",
       "\t\\hline\n",
       "\t& Float64 & Float64\\\\\n",
       "\t\\hline\n",
       "\t1 & 0.845027 & 0.272094 \\\\\n",
       "\\end{tabular}\n"
      ],
      "text/plain": [
       "\u001b[1m1×2 DataFrame\u001b[0m\n",
       "\u001b[1m Row \u001b[0m│\u001b[1m Estimate \u001b[0m\u001b[1m Std_Error \u001b[0m\n",
       "\u001b[1m     \u001b[0m│\u001b[90m Float64  \u001b[0m\u001b[90m Float64   \u001b[0m\n",
       "─────┼─────────────────────\n",
       "   1 │ 0.845027   0.272094"
      ]
     },
     "metadata": {},
     "output_type": "display_data"
    }
   ],
   "source": [
    "rY_1 = rlasso(xx, y);\n",
    "rY = rY_1[\"residuals\"]\n",
    "rD_1 = rlasso(xx, d);\n",
    "rD = rD_1[\"residuals\"]\n",
    "rZ_1 = rlasso(xx, z);\n",
    "rZ = rZ_1[\"residuals\"]\n",
    "\n",
    "ivfit_lasso = tsls(rD, rY, rZ)\n",
    "DataFrame(Estimate = ivfit_lasso[\"coefficients\"][1,2], Std_Error = ivfit_lasso[\"se\"][1])"
   ]
  },
  {
   "cell_type": "markdown",
   "metadata": {},
   "source": [
    "### 5.3. Application: Impact of Eminent Domain Decisions on Economic Outcomes."
   ]
  },
  {
   "cell_type": "markdown",
   "metadata": {},
   "source": [
    "First, we load the data an construct the matrices with the controls (x), instruments (z), outcome (y),\n",
    "and treatment variables (d). Here we consider regional GDP as the outcome variable."
   ]
  },
  {
   "cell_type": "code",
   "execution_count": 90,
   "metadata": {},
   "outputs": [],
   "source": [
    "EminentDomain = get_data(\"EminentDomain\")\n",
    "z = EminentDomain[\"logGDP\"][\"z\"];\n",
    "x = EminentDomain[\"logGDP\"][\"x\"];\n",
    "d = EminentDomain[\"logGDP\"][\"d\"];\n",
    "y = EminentDomain[\"logGDP\"][\"y\"];\n",
    "x = x[:, (mean(x, dims = 1) .> 0.05)'];\n",
    "z = z[:, (mean(z, dims = 1) .> 0.05)'];"
   ]
  },
  {
   "cell_type": "markdown",
   "metadata": {},
   "source": [
    "As mentioned above, y is the economic outcome, the logarithm of the GDP, d the number of pro\n",
    "plaintiff appellate takings decisions in federal circuit court c and year t, x is a matrix with control\n",
    "variables, and z is the matrix with instruments. Here we consider socio-economic and demographic\n",
    "characteristics of the judges as instruments.\n",
    "First, we estimate the effect of the treatment variable by simple OLS and 2SLS using two instruments:"
   ]
  },
  {
   "cell_type": "code",
   "execution_count": 91,
   "metadata": {},
   "outputs": [],
   "source": [
    "ED_ols = lm(hcat(ones(length(vec(y))), hcat(d, x)), vec(y));\n",
    "ED_2sls = tsls(d, y, z[:,1:2], x, intercept = false);"
   ]
  },
  {
   "cell_type": "markdown",
   "metadata": {},
   "source": [
    "Next, we estimate the model with selection on the instruments.\n"
   ]
  },
  {
   "cell_type": "code",
   "execution_count": 92,
   "metadata": {},
   "outputs": [],
   "source": [
    "lasso_IV_Z = rlassoIV(x, d, y, z, select_X = false, select_Z = true);"
   ]
  },
  {
   "cell_type": "code",
   "execution_count": 93,
   "metadata": {},
   "outputs": [
    {
     "name": "stdout",
     "output_type": "stream",
     "text": [
      "Estimates and Significance Testing of the effect of target variables in the IV regression model\n",
      " \u001b[1m    \u001b[0m \u001b[1m coeff. \u001b[0m \u001b[1m     se. \u001b[0m \u001b[1m t-value \u001b[0m \u001b[1m  p-value \u001b[0m\n",
      "\n",
      "  d1   0.4146   0.29025   1.42842   0.15317\n",
      "---\n",
      "Signif. codes:\n",
      "0 '***' 0.001 '**' 0.01 '*' 0.05 '.' 0.1 ' ' 1\n"
     ]
    }
   ],
   "source": [
    "r_summary(lasso_IV_Z);"
   ]
  },
  {
   "cell_type": "code",
   "execution_count": 96,
   "metadata": {},
   "outputs": [
    {
     "name": "stdout",
     "output_type": "stream",
     "text": [
      " \u001b[1m    \u001b[0m \u001b[1m      2.5% \u001b[0m \u001b[1m   97.5% \u001b[0m\n",
      "\n",
      "  d1   -0.154276   0.98348\n"
     ]
    }
   ],
   "source": [
    "r_confint(lasso_IV_Z);"
   ]
  },
  {
   "cell_type": "markdown",
   "metadata": {},
   "source": [
    "Finally, we do selection on both the x and z variables."
   ]
  },
  {
   "cell_type": "code",
   "execution_count": 97,
   "metadata": {},
   "outputs": [
    {
     "name": "stdout",
     "output_type": "stream",
     "text": [
      "Estimates and Significance Testing of the effect of target variables in the IV regression model\n",
      " \u001b[1m    \u001b[0m \u001b[1m   coeff. \u001b[0m \u001b[1m     se. \u001b[0m \u001b[1m  t-value \u001b[0m \u001b[1m  p-value \u001b[0m\n",
      "\n",
      "  d1   -0.02383   0.12851   -0.18543   0.85289\n",
      "---\n",
      "Signif. codes:\n",
      "0 '***' 0.001 '**' 0.01 '*' 0.05 '.' 0.1 ' ' 1\n"
     ]
    }
   ],
   "source": [
    "lasso_IV_XZ = rlassoIV(x, d, y, z, select_X = true, select_Z = true);\n",
    "r_summary(lasso_IV_XZ);"
   ]
  },
  {
   "cell_type": "code",
   "execution_count": 98,
   "metadata": {},
   "outputs": [
    {
     "name": "stdout",
     "output_type": "stream",
     "text": [
      " \u001b[1m    \u001b[0m \u001b[1m      2.5% \u001b[0m \u001b[1m    97.5% \u001b[0m\n",
      "\n",
      "  d1   -0.275703   0.228033\n"
     ]
    }
   ],
   "source": [
    "r_confint(lasso_IV_XZ);"
   ]
  },
  {
   "cell_type": "markdown",
   "metadata": {},
   "source": [
    "Finally, we compare all results"
   ]
  },
  {
   "cell_type": "code",
   "execution_count": 100,
   "metadata": {},
   "outputs": [
    {
     "name": "stdout",
     "output_type": "stream",
     "text": [
      "Estimates and Significance Testing of the effect of target variables in the IV regression model\n",
      " \u001b[1m    \u001b[0m \u001b[1m coeff. \u001b[0m \u001b[1m     se. \u001b[0m \u001b[1m t-value \u001b[0m \u001b[1m  p-value \u001b[0m\n",
      "\n",
      "  d1   0.4146   0.29025   1.42842   0.15317\n",
      "---\n",
      "Signif. codes:\n",
      "0 '***' 0.001 '**' 0.01 '*' 0.05 '.' 0.1 ' ' 1\n",
      "Estimates and Significance Testing of the effect of target variables in the IV regression model\n",
      " \u001b[1m    \u001b[0m \u001b[1m   coeff. \u001b[0m \u001b[1m     se. \u001b[0m \u001b[1m  t-value \u001b[0m \u001b[1m  p-value \u001b[0m\n",
      "\n",
      "  d1   -0.02383   0.12851   -0.18543   0.85289\n",
      "---\n",
      "Signif. codes:\n",
      "0 '***' 0.001 '**' 0.01 '*' 0.05 '.' 0.1 ' ' 1\n",
      "======================= ============ =============\n",
      " \u001b[1m                      \u001b[0m \u001b[1m   Estimate \u001b[0m \u001b[1m Std. Error \u001b[0m\n",
      "======================= ============ =============\n",
      "        ols regression   0.00786473   0.00986593\n",
      "        IV estimation    -0.0107097    0.0337652\n",
      "        selection on Z       0.4146      0.29025\n",
      "  selection on X and Z     -0.02383      0.12851\n",
      "======================= ============ =============\n"
     ]
    }
   ],
   "source": [
    "table = zeros(4,2)\n",
    "table[1,:] = [GLM.coef(ED_ols)[2], stderror(ED_ols)[2]]\n",
    "table[2,:] = [ED_2sls[\"coefficients\"][1,2], ED_2sls[\"se\"][1]]\n",
    "table[3,:] = Matrix(r_summary(lasso_IV_Z)[:,2:3]);\n",
    "table[4, :] = Matrix(r_summary(lasso_IV_XZ)[:, 2:3]);\n",
    "index = [\"ols regression\", \"IV estimation \", \"selection on Z\", \"selection on X and Z\"]\n",
    "pretty_table(hcat(index, table), show_row_number = false, header = [\" \", \"Estimate\", \"Std. Error\"], tf = tf_simple, nosubheader = true)"
   ]
  },
  {
   "cell_type": "markdown",
   "metadata": {},
   "source": [
    "## 6. Inference on Treatment Effects in a High-Dimensional Setting"
   ]
  },
  {
   "cell_type": "markdown",
   "metadata": {},
   "source": [
    "### 6.3. Application: 401(k) plan participation."
   ]
  },
  {
   "cell_type": "markdown",
   "metadata": {},
   "source": [
    "Again, we start first with the data preparation:"
   ]
  },
  {
   "cell_type": "code",
   "execution_count": 213,
   "metadata": {},
   "outputs": [],
   "source": [
    "pension = get_data(\"pension\")\n",
    "y = pension[:, \"tw\"];\n",
    "d = pension[:, \"p401\"];\n",
    "z = pension[:, \"e401\"];\n",
    "X = pension[:, [\"i2\", \"i3\", \"i4\", \"i5\", \"i6\", \"i7\", \"a2\", \"a3\", \"a4\", \"a5\", \"fsize\", \"hs\", \"smcol\", \"col\", \"marr\", \"twoearn\", \"db\", \"pira\", \"hown\"]];"
   ]
  },
  {
   "cell_type": "markdown",
   "metadata": {},
   "source": [
    "Now we can compute the estimates of the target treatment effect parameters. For ATE and ATET we\n",
    "report the the effect of eligibility for 401(k)."
   ]
  },
  {
   "cell_type": "code",
   "execution_count": 237,
   "metadata": {},
   "outputs": [
    {
     "name": "stdout",
     "output_type": "stream",
     "text": [
      "\n",
      "    Estimation and significance tesing of the treatment effect\n",
      "    Type: ATE\n",
      "    Bootstrap: none\n",
      "    \n",
      "========== ========= ==========\n",
      " \u001b[1m   Coeff \u001b[0m \u001b[1m      SE \u001b[0m \u001b[1m t.value \u001b[0m\n",
      "========== ========= ==========\n",
      "  10180.1   1930.68    5.2728\n",
      "========== ========= ==========\n"
     ]
    }
   ],
   "source": [
    "pension_ate = rlassoATE(X, d, y);\n",
    "r_summary(pension_ate);"
   ]
  },
  {
   "cell_type": "code",
   "execution_count": 238,
   "metadata": {},
   "outputs": [
    {
     "name": "stdout",
     "output_type": "stream",
     "text": [
      "\n",
      "    Estimation and significance tesing of the treatment effect\n",
      "    Type: ATET\n",
      "    Bootstrap: none\n",
      "    \n",
      "========== ========= ==========\n",
      " \u001b[1m   Coeff \u001b[0m \u001b[1m      SE \u001b[0m \u001b[1m t.value \u001b[0m\n",
      "========== ========= ==========\n",
      "  12628.5   2944.43   4.28893\n",
      "========== ========= ==========\n"
     ]
    }
   ],
   "source": [
    "pension_atet = rlassoATET(X, d, y);\n",
    "r_summary(pension_atet);"
   ]
  },
  {
   "cell_type": "markdown",
   "metadata": {},
   "source": [
    "For LATE and LATET we estimate the effect of 401(k) participation (d) with plan eligibility (z) as\n",
    "instrument."
   ]
  },
  {
   "cell_type": "code",
   "execution_count": 239,
   "metadata": {},
   "outputs": [
    {
     "name": "stdout",
     "output_type": "stream",
     "text": [
      "\n",
      "    Estimation and significance tesing of the treatment effect\n",
      "    Type: LATE\n",
      "    Bootstrap: none\n",
      "    \n",
      "========== ======== ==========\n",
      " \u001b[1m   Coeff \u001b[0m \u001b[1m     SE \u001b[0m \u001b[1m t.value \u001b[0m\n",
      "========== ======== ==========\n",
      "  12992.1   2326.9   5.58344\n",
      "========== ======== ==========\n"
     ]
    }
   ],
   "source": [
    "pension_late = rlassoLATE(X, d, y, z);\n",
    "r_summary(pension_late);"
   ]
  },
  {
   "cell_type": "code",
   "execution_count": 240,
   "metadata": {},
   "outputs": [
    {
     "name": "stdout",
     "output_type": "stream",
     "text": [
      "\n",
      "    Estimation and significance tesing of the treatment effect\n",
      "    Type: LATET\n",
      "    Bootstrap: none\n",
      "    \n",
      "========== ========= ==========\n",
      " \u001b[1m   Coeff \u001b[0m \u001b[1m      SE \u001b[0m \u001b[1m t.value \u001b[0m\n",
      "========== ========= ==========\n",
      "  15323.2   3645.28   4.20357\n",
      "========== ========= ==========\n"
     ]
    }
   ],
   "source": [
    "pension_latet = rlassoLATET(X, d, y, z);\n",
    "r_summary(pension_latet);"
   ]
  },
  {
   "cell_type": "markdown",
   "metadata": {},
   "source": [
    "For LATE and LATET we estimate the effect of 401(k) participation (d) with plan eligibility (z) as\n",
    "instrument."
   ]
  },
  {
   "cell_type": "code",
   "execution_count": 244,
   "metadata": {},
   "outputs": [
    {
     "name": "stdout",
     "output_type": "stream",
     "text": [
      "\n",
      "    Estimation and significance tesing of the treatment effect\n",
      "    Type: ATE\n",
      "    Bootstrap: none\n",
      "    \n",
      "========== ========= ==========\n",
      " \u001b[1m   Coeff \u001b[0m \u001b[1m      SE \u001b[0m \u001b[1m t.value \u001b[0m\n",
      "========== ========= ==========\n",
      "  10180.1   1930.68    5.2728\n",
      "========== ========= ==========\n",
      "\n",
      "    Estimation and significance tesing of the treatment effect\n",
      "    Type: ATET\n",
      "    Bootstrap: none\n",
      "    \n",
      "========== ========= ==========\n",
      " \u001b[1m   Coeff \u001b[0m \u001b[1m      SE \u001b[0m \u001b[1m t.value \u001b[0m\n",
      "========== ========= ==========\n",
      "  12628.5   2944.43   4.28893\n",
      "========== ========= ==========\n",
      "\n",
      "    Estimation and significance tesing of the treatment effect\n",
      "    Type: LATE\n",
      "    Bootstrap: none\n",
      "    \n",
      "========== ======== ==========\n",
      " \u001b[1m   Coeff \u001b[0m \u001b[1m     SE \u001b[0m \u001b[1m t.value \u001b[0m\n",
      "========== ======== ==========\n",
      "  12992.1   2326.9   5.58344\n",
      "========== ======== ==========\n",
      "\n",
      "    Estimation and significance tesing of the treatment effect\n",
      "    Type: LATET\n",
      "    Bootstrap: none\n",
      "    \n",
      "========== ========= ==========\n",
      " \u001b[1m   Coeff \u001b[0m \u001b[1m      SE \u001b[0m \u001b[1m t.value \u001b[0m\n",
      "========== ========= ==========\n",
      "  15323.2   3645.28   4.20357\n",
      "========== ========= ==========\n"
     ]
    }
   ],
   "source": [
    "using PrettyTables\n",
    "table = zeros(4,2)\n",
    "table[1,:] = round.(vec(r_summary(pension_ate)[:, 1:2]), digits = 2);\n",
    "table[2,:] = round.(vec(r_summary(pension_atet)[:, 1:2]), digits = 2);\n",
    "table[3,:] = round.(vec(r_summary(pension_late)[:, 1:2]), digits = 2);\n",
    "table[4,:] = round.(vec(r_summary(pension_latet)[:, 1:2]), digits = 2);\n",
    "index = [\"ATE\", \"ATET \", \"LATE\", \"LATET\"];"
   ]
  },
  {
   "cell_type": "code",
   "execution_count": 245,
   "metadata": {},
   "outputs": [
    {
     "name": "stdout",
     "output_type": "stream",
     "text": [
      "======== ========== =============\n",
      " \u001b[1m       \u001b[0m \u001b[1m Estimate \u001b[0m \u001b[1m Std. Error \u001b[0m\n",
      "======== ========== =============\n",
      "    ATE    10180.1      1930.68\n",
      "  ATET     12628.5      2944.43\n",
      "   LATE    12992.1       2326.9\n",
      "  LATET    15323.2      3645.28\n",
      "======== ========== =============\n"
     ]
    }
   ],
   "source": [
    "pretty_table(hcat(index, table), show_row_number = false, \n",
    "            header = [\" \", \"Estimate\", \"Std. Error\"], tf = tf_simple, nosubheader = true)"
   ]
  },
  {
   "cell_type": "markdown",
   "metadata": {},
   "source": [
    "Finally, we estimate a model including all interaction effects:"
   ]
  },
  {
   "cell_type": "code",
   "execution_count": 246,
   "metadata": {},
   "outputs": [],
   "source": [
    "pension_ate = rlassoATE(X, z, y);\n",
    "pension_atet = rlassoATET(X, z, y);\n",
    "pension_late = rlassoLATE(X, d, y, z);\n",
    "pension_latet = rlassoLATET(X, d, y, z);"
   ]
  },
  {
   "cell_type": "code",
   "execution_count": 249,
   "metadata": {},
   "outputs": [
    {
     "name": "stdout",
     "output_type": "stream",
     "text": [
      "\n",
      "    Estimation and significance tesing of the treatment effect\n",
      "    Type: ATE\n",
      "    Bootstrap: none\n",
      "    \n",
      "========== ========= ==========\n",
      " \u001b[1m   Coeff \u001b[0m \u001b[1m      SE \u001b[0m \u001b[1m t.value \u001b[0m\n",
      "========== ========= ==========\n",
      "  8491.99   1902.92    4.4626\n",
      "========== ========= ==========\n",
      "\n",
      "    Estimation and significance tesing of the treatment effect\n",
      "    Type: ATET\n",
      "    Bootstrap: none\n",
      "    \n",
      "========== ========= ==========\n",
      " \u001b[1m   Coeff \u001b[0m \u001b[1m      SE \u001b[0m \u001b[1m t.value \u001b[0m\n",
      "========== ========= ==========\n",
      "  10795.3   2568.13   4.20357\n",
      "========== ========= ==========\n",
      "\n",
      "    Estimation and significance tesing of the treatment effect\n",
      "    Type: LATE\n",
      "    Bootstrap: none\n",
      "    \n",
      "========== ======== ==========\n",
      " \u001b[1m   Coeff \u001b[0m \u001b[1m     SE \u001b[0m \u001b[1m t.value \u001b[0m\n",
      "========== ======== ==========\n",
      "  12992.1   2326.9   5.58344\n",
      "========== ======== ==========\n",
      "\n",
      "    Estimation and significance tesing of the treatment effect\n",
      "    Type: LATET\n",
      "    Bootstrap: none\n",
      "    \n",
      "========== ========= ==========\n",
      " \u001b[1m   Coeff \u001b[0m \u001b[1m      SE \u001b[0m \u001b[1m t.value \u001b[0m\n",
      "========== ========= ==========\n",
      "  15323.2   3645.28   4.20357\n",
      "========== ========= ==========\n"
     ]
    }
   ],
   "source": [
    "table = zeros(4, 2)\n",
    "table[1,:] = r_summary(pension_ate)[:, 1:2]\n",
    "table[2,:] = r_summary(pension_atet)[:, 1:2]\n",
    "table[3,:] = r_summary(pension_late)[:, 1:2]\n",
    "table[4,:] = r_summary(pension_latet)[:, 1:2];"
   ]
  },
  {
   "cell_type": "code",
   "execution_count": 250,
   "metadata": {},
   "outputs": [
    {
     "name": "stdout",
     "output_type": "stream",
     "text": [
      "======== ========== =============\n",
      " \u001b[1m       \u001b[0m \u001b[1m Estimate \u001b[0m \u001b[1m Std. Error \u001b[0m\n",
      "======== ========== =============\n",
      "    ATE    8491.99      1902.92\n",
      "  ATET     10795.3      2568.13\n",
      "   LATE    12992.1       2326.9\n",
      "  LATET    15323.2      3645.28\n",
      "======== ========== =============\n"
     ]
    }
   ],
   "source": [
    "index = [\"ATE\", \"ATET \", \"LATE\", \"LATET\"]\n",
    "pretty_table(hcat(index, table), show_row_number = false, \n",
    "            header = [\" \", \"Estimate\", \"Std. Error\"], tf = tf_simple, nosubheader = true)"
   ]
  },
  {
   "cell_type": "markdown",
   "metadata": {},
   "source": [
    "## 7. The Lasso Methods for Discovery of Significant Causes amongst Many Potential Causes, with Many Controls\n"
   ]
  },
  {
   "cell_type": "code",
   "execution_count": 84,
   "metadata": {},
   "outputs": [],
   "source": [
    "data = get_data(\"seed_500\")\n",
    "n, p = size(data);\n",
    "p1 = 20;\n",
    "X = data[:,2:end]\n",
    "Y = data[:,1];"
   ]
  },
  {
   "cell_type": "code",
   "execution_count": 85,
   "metadata": {},
   "outputs": [
    {
     "name": "stdout",
     "output_type": "stream",
     "text": [
      " \u001b[1m      \u001b[0m \u001b[1m       2.5% \u001b[0m \u001b[1m     97.5% \u001b[0m\n",
      "\n",
      " \u001b[1m  V 1 \u001b[0m     4.50639     5.22251\n",
      " \u001b[1m  V 2 \u001b[0m    -0.32155    0.312205\n",
      " \u001b[1m  V 3 \u001b[0m   -0.358732    0.193109\n",
      " \u001b[1m  V 4 \u001b[0m   -0.260592    0.293738\n",
      " \u001b[1m  V 5 \u001b[0m   -0.283061    0.282752\n",
      " \u001b[1m  V 6 \u001b[0m   -0.328685    0.301444\n",
      " \u001b[1m  V 7 \u001b[0m   -0.232431    0.307122\n",
      " \u001b[1m  V 8 \u001b[0m  -0.0534616    0.479771\n",
      " \u001b[1m  V 9 \u001b[0m   -0.193325    0.396997\n",
      " \u001b[1m V 10 \u001b[0m   -0.243113    0.269989\n",
      " \u001b[1m V 11 \u001b[0m   -0.320854    0.215603\n",
      " \u001b[1m V 12 \u001b[0m    -0.31593    0.272461\n",
      " \u001b[1m V 13 \u001b[0m   -0.180614    0.383283\n",
      " \u001b[1m V 14 \u001b[0m   -0.331885    0.393743\n",
      " \u001b[1m V 15 \u001b[0m   -0.329421     0.32057\n",
      " \u001b[1m V 16 \u001b[0m   -0.271937    0.337993\n",
      " \u001b[1m V 17 \u001b[0m   -0.186196     0.42395\n",
      " \u001b[1m V 18 \u001b[0m   -0.374205   0.0518391\n",
      " \u001b[1m V 19 \u001b[0m   -0.113184    0.399561\n",
      " \u001b[1m V 20 \u001b[0m   -0.221241    0.260961\n"
     ]
    }
   ],
   "source": [
    "r_confint(rlassoEffects(Matrix(X), Y, index = [1:p1;]), joint = true);"
   ]
  }
 ],
 "metadata": {
  "kernelspec": {
   "display_name": "Julia 1.8.1",
   "language": "julia",
   "name": "julia-1.8"
  },
  "language_info": {
   "file_extension": ".jl",
   "mimetype": "application/julia",
   "name": "julia",
   "version": "1.8.1"
  },
  "orig_nbformat": 4
 },
 "nbformat": 4,
 "nbformat_minor": 2
}
