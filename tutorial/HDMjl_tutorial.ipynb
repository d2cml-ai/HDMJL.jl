{
 "cells": [
  {
   "cell_type": "markdown",
   "metadata": {},
   "source": [
    "# HIGH-DIMENSIONAL METRICS IN R"
   ]
  },
  {
   "cell_type": "markdown",
   "metadata": {},
   "source": [
    "## 2. How to get started"
   ]
  },
  {
   "cell_type": "markdown",
   "metadata": {},
   "source": [
    "or"
   ]
  },
  {
   "cell_type": "code",
   "execution_count": 184,
   "metadata": {},
   "outputs": [],
   "source": [
    "#Pkg.rm(\"HDMjl\")"
   ]
  },
  {
   "cell_type": "code",
   "execution_count": 59,
   "metadata": {},
   "outputs": [],
   "source": [
    "#Pkg.add(url = \"https://github.com/d2cml-ai/HDMjl.jl#prueba\", rev = \"dev\")"
   ]
  },
  {
   "cell_type": "code",
   "execution_count": 7,
   "metadata": {},
   "outputs": [],
   "source": [
    "# import Pkg; Pkg.add(url = \"https://github.com/d2cml-ai/HDMjl.jl#prueba\")"
   ]
  },
  {
   "cell_type": "code",
   "execution_count": null,
   "metadata": {},
   "outputs": [],
   "source": [
    "import Pkg, using Pkg"
   ]
  },
  {
   "cell_type": "code",
   "execution_count": 4,
   "metadata": {},
   "outputs": [
    {
     "name": "stderr",
     "output_type": "stream",
     "text": [
      "\u001b[32m\u001b[1m   Resolving\u001b[22m\u001b[39m package versions...\n"
     ]
    },
    {
     "name": "stderr",
     "output_type": "stream",
     "text": [
      "\u001b[32m\u001b[1m    Updating\u001b[22m\u001b[39m "
     ]
    },
    {
     "name": "stderr",
     "output_type": "stream",
     "text": [
      "`C:\\Users\\User\\.julia\\environments\\v1.8\\Project.toml`\n",
      " \u001b[90m [8de29b41] \u001b[39m\u001b[92m+ HDMjl v0.0.11 `E:/causal_ml/hdm_paper/prueba/HDMjl.jl`\u001b[39m\n",
      "\u001b[32m\u001b[1m    Updating\u001b[22m\u001b[39m `C:\\Users\\User\\.julia\\environments\\v1.8\\Manifest.toml`\n"
     ]
    },
    {
     "name": "stderr",
     "output_type": "stream",
     "text": [
      " \u001b[90m [8de29b41] \u001b[39m\u001b[92m+ HDMjl v0.0.11 `E:/causal_ml/hdm_paper/prueba/HDMjl.jl`\u001b[39m\n"
     ]
    }
   ],
   "source": [
    "Pkg.develop(path = \"E:/causal_ml/hdm_paper/prueba/HDMjl.jl\")"
   ]
  },
  {
   "cell_type": "code",
   "execution_count": 5,
   "metadata": {},
   "outputs": [],
   "source": [
    "using CodecXz, RData, DataFrames, StatsModels, \n",
    "    Statistics, Distributions, PrettyTables, GLM, CSV, HDMjl"
   ]
  },
  {
   "cell_type": "markdown",
   "metadata": {},
   "source": [
    "## 3. Prediction using Approximate Sparsity"
   ]
  },
  {
   "cell_type": "markdown",
   "metadata": {},
   "source": [
    "### 3.2. A Joint Significance Test for Lasso Regression."
   ]
  },
  {
   "cell_type": "code",
   "execution_count": 36,
   "metadata": {},
   "outputs": [],
   "source": [
    "using CSV\n",
    "url = \"https://raw.githubusercontent.com/d2cml-ai/HDMjl.jl/prueba/data/3_2.csv\"\n",
    "dta = DataFrame(CSV.read(download(url), DataFrame));\n",
    "n, p = size(dta);\n",
    "Y = dta[:,1];\n",
    "X = Matrix(dta[:,2:end]);"
   ]
  },
  {
   "cell_type": "code",
   "execution_count": 38,
   "metadata": {},
   "outputs": [
    {
     "name": "stdout",
     "output_type": "stream",
     "text": [
      "\n",
      "    Post-Lasso Estimation: false\n",
      "    Total number of variables: 100\n",
      "    Number of selected variables: 11\n",
      "    ---\n",
      "     \n",
      "============ ==============\n",
      " \u001b[1m Variable  \u001b[0m \u001b[1m Estimate    \u001b[0m\n",
      "============ ==============\n",
      "  Intercept   0.056855\n",
      "  V 1         4.77121\n",
      "  V 2         4.69284\n",
      "  V 3         4.76568\n",
      "  V 13        -0.0453685\n",
      "  V 15        -0.0467382\n",
      "  V 16        -0.00499617\n",
      "  V 19        -0.0922336\n",
      "  V 22        -0.0272553\n",
      "  V 40        -0.0105032\n",
      "  V 61        0.113585\n",
      "  V 100       -0.0247296\n",
      "============ ==============\n",
      "\n",
      "    ----\n",
      "    Multiple R-squared: 0.9912720815874809\n",
      "    Adjusted R-squared: 0.9901810917859161\n",
      "    "
     ]
    }
   ],
   "source": [
    "lasso_reg = rlasso(X, Y, post = false);\n",
    "sum_lasso = r_summary(lasso_reg)"
   ]
  },
  {
   "cell_type": "code",
   "execution_count": 39,
   "metadata": {},
   "outputs": [],
   "source": [
    "url = \"https://raw.githubusercontent.com/d2cml-ai/HDMjl.jl/prueba/data/3_2_2.csv\"\n",
    "dta = DataFrame(CSV.read(download(url), DataFrame));\n",
    "n, p = size(dta);\n",
    "yhat_lasso = r_predict(lasso_reg) #in-sample prediction\n",
    "Ynew = dta[:,1];\n",
    "Xnew = Matrix(dta[:,2:end]);\n",
    "yhat_lasso_new = r_predict(lasso_reg, xnew = Xnew) #out-of-sample prediction\n",
    ";"
   ]
  },
  {
   "cell_type": "code",
   "execution_count": 28,
   "metadata": {},
   "outputs": [
    {
     "name": "stdout",
     "output_type": "stream",
     "text": [
      "\n",
      "    Post-Lasso Estimation: true\n",
      "    Total number of variables: 100\n",
      "    Number of selected variables: 3\n",
      "    ---\n",
      "     \n",
      "============ ============\n",
      " \u001b[1m Variable  \u001b[0m \u001b[1m Estimate  \u001b[0m\n",
      "============ ============\n",
      "  Intercept   0.0341043\n",
      "  V 1         4.92413\n",
      "  V 2         4.85787\n",
      "  V 3         4.96442\n",
      "============ ============\n",
      "\n",
      "    ----\n",
      "    Multiple R-squared: 0.9906284190077158\n",
      "    Adjusted R-squared: 0.990335557101707\n",
      "    "
     ]
    }
   ],
   "source": [
    "post_lasso_reg = rlasso(X, Y, post = true) #now use post-lasso\n",
    "r_summary(post_lasso_reg)"
   ]
  },
  {
   "cell_type": "code",
   "execution_count": 32,
   "metadata": {},
   "outputs": [],
   "source": [
    "yhat_postlasso = r_predict(post_lasso_reg) #in-sample prediction\n",
    "yhat_postlasso_new = r_predict(post_lasso_reg, xnew = Xnew) #in-sample prediction\n",
    ";"
   ]
  },
  {
   "cell_type": "code",
   "execution_count": 106,
   "metadata": {},
   "outputs": [
    {
     "name": "stdout",
     "output_type": "stream",
     "text": [
      "============ =================\n",
      " \u001b[1m lasso MAE \u001b[0m \u001b[1m Post-lasso MAE \u001b[0m\n",
      "============ =================\n",
      "   0.879583          0.78017\n",
      "============ =================\n"
     ]
    }
   ],
   "source": [
    "MAE = mean(eachrow(hcat(abs.(Ynew - yhat_lasso_new), abs.(Ynew - yhat_postlasso_new))))\n",
    "MAE = DataFrame([[MAE[1]], [MAE[2]]], :auto)\n",
    "MAE = rename!(MAE, [\"lasso MAE\", \"Post-lasso MAE\"])\n",
    "pretty_table(MAE, tf = tf_simple, nosubheader = true)"
   ]
  },
  {
   "cell_type": "markdown",
   "metadata": {},
   "source": [
    "## 4. Inference on Target Regression Coefficients"
   ]
  },
  {
   "cell_type": "markdown",
   "metadata": {},
   "source": [
    "### 4.1. Intuition for the Orthogonality Principle in Linear Models via Partialling Out."
   ]
  },
  {
   "cell_type": "code",
   "execution_count": 6,
   "metadata": {},
   "outputs": [],
   "source": [
    "using CSV, GLM\n",
    "using DataFrames"
   ]
  },
  {
   "cell_type": "code",
   "execution_count": 7,
   "metadata": {},
   "outputs": [],
   "source": [
    "url = \"https://raw.githubusercontent.com/d2cml-ai/HDMjl.jl/prueba/data/4_1.csv\"\n",
    "dta = DataFrame(CSV.read(download(url), DataFrame));\n",
    "n, p = size(dta);\n",
    "y = dta[:,\"y\"];\n",
    "d = dta[:,\"d\"];\n",
    "x = Matrix(dta[:,3:end]);"
   ]
  },
  {
   "cell_type": "code",
   "execution_count": 96,
   "metadata": {},
   "outputs": [
    {
     "data": {
      "text/html": [
       "<div class=\"data-frame\"><p>1 rows × 2 columns</p><table class=\"data-frame\"><thead><tr><th></th><th>Estimate</th><th>Std_Error</th></tr><tr><th></th><th title=\"Float64\">Float64</th><th title=\"Float64\">Float64</th></tr></thead><tbody><tr><th>1</th><td>0.978075</td><td>0.0137122</td></tr></tbody></table></div>"
      ],
      "text/latex": [
       "\\begin{tabular}{r|cc}\n",
       "\t& Estimate & Std\\_Error\\\\\n",
       "\t\\hline\n",
       "\t& Float64 & Float64\\\\\n",
       "\t\\hline\n",
       "\t1 & 0.978075 & 0.0137122 \\\\\n",
       "\\end{tabular}\n"
      ],
      "text/plain": [
       "\u001b[1m1×2 DataFrame\u001b[0m\n",
       "\u001b[1m Row \u001b[0m│\u001b[1m Estimate \u001b[0m\u001b[1m Std_Error \u001b[0m\n",
       "\u001b[1m     \u001b[0m│\u001b[90m Float64  \u001b[0m\u001b[90m Float64   \u001b[0m\n",
       "─────┼─────────────────────\n",
       "   1 │ 0.978075  0.0137122"
      ]
     },
     "metadata": {},
     "output_type": "display_data"
    }
   ],
   "source": [
    "full_fit = lm(hcat(ones(length(y)), Matrix(dta[:,2:end])), y);\n",
    "DataFrame(Estimate = coef(full_fit)[2], Std_Error = stderror(full_fit)[2])"
   ]
  },
  {
   "cell_type": "code",
   "execution_count": 97,
   "metadata": {},
   "outputs": [],
   "source": [
    "rY_1 = lm(hcat(ones(length(y)), Matrix(dta[:,3:end])), y);\n",
    "rY = y - predict(rY_1)\n",
    "rD_1 = lm(hcat(ones(length(y)), Matrix(dta[:,3:end])), d);\n",
    "rD = d - predict(rD_1);"
   ]
  },
  {
   "cell_type": "code",
   "execution_count": 98,
   "metadata": {},
   "outputs": [
    {
     "data": {
      "text/html": [
       "<div class=\"data-frame\"><p>1 rows × 2 columns</p><table class=\"data-frame\"><thead><tr><th></th><th>Estimate</th><th>Std_Error</th></tr><tr><th></th><th title=\"Float64\">Float64</th><th title=\"Float64\">Float64</th></tr></thead><tbody><tr><th>1</th><td>0.978075</td><td>0.0136862</td></tr></tbody></table></div>"
      ],
      "text/latex": [
       "\\begin{tabular}{r|cc}\n",
       "\t& Estimate & Std\\_Error\\\\\n",
       "\t\\hline\n",
       "\t& Float64 & Float64\\\\\n",
       "\t\\hline\n",
       "\t1 & 0.978075 & 0.0136862 \\\\\n",
       "\\end{tabular}\n"
      ],
      "text/plain": [
       "\u001b[1m1×2 DataFrame\u001b[0m\n",
       "\u001b[1m Row \u001b[0m│\u001b[1m Estimate \u001b[0m\u001b[1m Std_Error \u001b[0m\n",
       "\u001b[1m     \u001b[0m│\u001b[90m Float64  \u001b[0m\u001b[90m Float64   \u001b[0m\n",
       "─────┼─────────────────────\n",
       "   1 │ 0.978075  0.0136862"
      ]
     },
     "metadata": {},
     "output_type": "display_data"
    }
   ],
   "source": [
    "partial_fit_ls = lm(hcat(ones(length(y)), rD), rY)\n",
    "DataFrame(Estimate = coef(partial_fit_ls)[2], Std_Error = stderror(partial_fit_ls)[2])"
   ]
  },
  {
   "cell_type": "code",
   "execution_count": 99,
   "metadata": {},
   "outputs": [
    {
     "data": {
      "text/html": [
       "<div class=\"data-frame\"><p>1 rows × 2 columns</p><table class=\"data-frame\"><thead><tr><th></th><th>Estimate</th><th>Std_Error</th></tr><tr><th></th><th title=\"Float64\">Float64</th><th title=\"Float64\">Float64</th></tr></thead><tbody><tr><th>1</th><td>0.972739</td><td>0.0136868</td></tr></tbody></table></div>"
      ],
      "text/latex": [
       "\\begin{tabular}{r|cc}\n",
       "\t& Estimate & Std\\_Error\\\\\n",
       "\t\\hline\n",
       "\t& Float64 & Float64\\\\\n",
       "\t\\hline\n",
       "\t1 & 0.972739 & 0.0136868 \\\\\n",
       "\\end{tabular}\n"
      ],
      "text/plain": [
       "\u001b[1m1×2 DataFrame\u001b[0m\n",
       "\u001b[1m Row \u001b[0m│\u001b[1m Estimate \u001b[0m\u001b[1m Std_Error \u001b[0m\n",
       "\u001b[1m     \u001b[0m│\u001b[90m Float64  \u001b[0m\u001b[90m Float64   \u001b[0m\n",
       "─────┼─────────────────────\n",
       "   1 │ 0.972739  0.0136868"
      ]
     },
     "metadata": {},
     "output_type": "display_data"
    }
   ],
   "source": [
    "rY_1 = rlasso(hcat(ones(length(y)), Matrix(dta[:,3:end])), y);\n",
    "rY = rY_1[\"residuals\"]\n",
    "rD_1 = rlasso(hcat(ones(length(y)), Matrix(dta[:,3:end])), d);\n",
    "rD = rD_1[\"residuals\"]\n",
    "partial_fit_postlasso = lm(hcat(ones(length(y)), rD), vec(rY))\n",
    "DataFrame(Estimate = coef(partial_fit_postlasso)[2], Std_Error = stderror(partial_fit_postlasso)[2])"
   ]
  },
  {
   "cell_type": "code",
   "execution_count": 101,
   "metadata": {},
   "outputs": [
    {
     "name": "stdout",
     "output_type": "stream",
     "text": [
      "Estimates and significance testing of the effect of target variables\n",
      " \u001b[1m Row \u001b[0m \u001b[1m Estimate. \u001b[0m \u001b[1m Std. Error \u001b[0m \u001b[1m t value \u001b[0m \u001b[1m Pr(>|t|) \u001b[0m\n",
      "\n",
      "    1    0.972739    0.0136868   71.0715        0.0\n",
      "---\n",
      "Signif. codes:\n",
      "0 '***' 0.001 '**' 0.01 '*' 0.05 '.' 0.1 ' ' 1\n"
     ]
    }
   ],
   "source": [
    "Eff = rlassoEffect(x, y, d, method = \"partialling out\");\n",
    "r_summary(Eff);"
   ]
  },
  {
   "cell_type": "code",
   "execution_count": 102,
   "metadata": {},
   "outputs": [
    {
     "name": "stdout",
     "output_type": "stream",
     "text": [
      "Coefficients:\n",
      "\n",
      " \u001b[1m     1 \u001b[0m\n",
      "\n",
      "  0.973\n"
     ]
    }
   ],
   "source": [
    "r_print(Eff)"
   ]
  },
  {
   "cell_type": "code",
   "execution_count": 105,
   "metadata": {},
   "outputs": [
    {
     "name": "stdout",
     "output_type": "stream",
     "text": [
      "Estimates and significance testing of the effect of target variables\n",
      " \u001b[1m Row \u001b[0m \u001b[1m Estimate. \u001b[0m \u001b[1m Std. Error \u001b[0m \u001b[1m t value \u001b[0m \u001b[1m Pr(>|t|) \u001b[0m\n",
      "\n",
      "    1    0.978075    0.0141562   69.0914        0.0\n",
      "---\n",
      "Signif. codes:\n",
      "0 '***' 0.001 '**' 0.01 '*' 0.05 '.' 0.1 ' ' 1\n"
     ]
    }
   ],
   "source": [
    "Eff = rlassoEffect(x, y, d, method = \"double selection\");\n",
    "r_summary(Eff);"
   ]
  },
  {
   "cell_type": "markdown",
   "metadata": {},
   "source": [
    "### 4.2. Inference: Confidence Intervals and Significance Testing. The function rlassoEffects"
   ]
  },
  {
   "cell_type": "code",
   "execution_count": 106,
   "metadata": {},
   "outputs": [],
   "source": [
    "using CSV\n",
    "url = \"https://raw.githubusercontent.com/d2cml-ai/HDMjl.jl/prueba/data/4_2.csv\"\n",
    "data = DataFrame(CSV.read(download(url), DataFrame));\n",
    "n, p = size(data);\n",
    "y = data[:,1];\n",
    "#d = dta[:,\"d\"];\n",
    "x = Matrix(data[:,2:end]);"
   ]
  },
  {
   "cell_type": "code",
   "execution_count": 107,
   "metadata": {},
   "outputs": [],
   "source": [
    "lasso_effects = rlassoEffects(x, y, index = [1,2,3,50]);"
   ]
  },
  {
   "cell_type": "code",
   "execution_count": 109,
   "metadata": {},
   "outputs": [
    {
     "name": "stdout",
     "output_type": "stream",
     "text": [
      "Coefficients:\n",
      "\n",
      " \u001b[1m    X1     \u001b[0m \u001b[1m    X2     \u001b[0m \u001b[1m    X3     \u001b[0m \u001b[1m    X50    \u001b[0m\n",
      "\n",
      "   2.9445      3.0413      2.9754       0.072\n"
     ]
    }
   ],
   "source": [
    "r_print(lasso_effects, digits = 4)"
   ]
  },
  {
   "cell_type": "code",
   "execution_count": 110,
   "metadata": {},
   "outputs": [
    {
     "name": "stdout",
     "output_type": "stream",
     "text": [
      "Estimates and significance testing of the effect of target variables\n",
      " \u001b[1m     \u001b[0m \u001b[1m Estimate. \u001b[0m \u001b[1m Std. Error \u001b[0m \u001b[1m  t value \u001b[0m \u001b[1m     Pr(>|t|) \u001b[0m\n",
      "\n",
      " \u001b[1m  X1 \u001b[0m    2.94448    0.0881468    33.4043    1.1892e-244\n",
      " \u001b[1m  X2 \u001b[0m    3.04127     0.083891    36.2527    9.0141e-288\n",
      " \u001b[1m  X3 \u001b[0m     2.9754    0.0780394     38.127   4.58085e-318\n",
      " \u001b[1m X50 \u001b[0m  0.0719553    0.0776455   0.926716       0.354074\n",
      "---\n",
      "Signif. codes:\n",
      "0 '***' 0.001 '**' 0.01 '*' 0.05 '.' 0.1 ' ' 1\n"
     ]
    }
   ],
   "source": [
    "r_summary(lasso_effects);"
   ]
  },
  {
   "cell_type": "code",
   "execution_count": 111,
   "metadata": {},
   "outputs": [
    {
     "name": "stdout",
     "output_type": "stream",
     "text": [
      " \u001b[1m     \u001b[0m \u001b[1m       2.5% \u001b[0m \u001b[1m    97.5% \u001b[0m\n",
      "\n",
      " \u001b[1m  X1 \u001b[0m     2.77171    3.11724\n",
      " \u001b[1m  X2 \u001b[0m     2.87685     3.2057\n",
      " \u001b[1m  X3 \u001b[0m     2.82245    3.12836\n",
      " \u001b[1m X50 \u001b[0m  -0.0802271   0.224138\n"
     ]
    }
   ],
   "source": [
    "r_confint(lasso_effects);"
   ]
  },
  {
   "cell_type": "code",
   "execution_count": 112,
   "metadata": {},
   "outputs": [
    {
     "name": "stdout",
     "output_type": "stream",
     "text": [
      " \u001b[1m     \u001b[0m \u001b[1m      2.5% \u001b[0m \u001b[1m    97.5% \u001b[0m\n",
      "\n",
      " \u001b[1m  X1 \u001b[0m     2.7304    3.15855\n",
      " \u001b[1m  X2 \u001b[0m    2.83944    3.24311\n",
      " \u001b[1m  X3 \u001b[0m     2.7855    3.16531\n",
      " \u001b[1m X50 \u001b[0m  -0.113325   0.257236\n"
     ]
    }
   ],
   "source": [
    "r_confint(lasso_effects, joint = true);"
   ]
  },
  {
   "cell_type": "markdown",
   "metadata": {},
   "source": [
    "### 4.3. Application: the effect of gender on wage"
   ]
  },
  {
   "cell_type": "code",
   "execution_count": 8,
   "metadata": {},
   "outputs": [
    {
     "data": {
      "text/plain": [
       "(29217, 23)"
      ]
     },
     "metadata": {},
     "output_type": "display_data"
    }
   ],
   "source": [
    "url = \"https://github.com/cran/hdm/raw/master/data/cps2012.rda\"\n",
    "cps2012 = load(download(url))[\"cps2012\"];\n",
    "n, p = size(cps2012);\n",
    "size(cps2012)"
   ]
  },
  {
   "cell_type": "code",
   "execution_count": 9,
   "metadata": {},
   "outputs": [
    {
     "name": "stdout",
     "output_type": "stream",
     "text": [
      "(29217, 116)"
     ]
    }
   ],
   "source": [
    "x_formula = @formula(lnw ~ -1 + female + female*widowed + female*divorced + female*separated + female*nevermarried +\n",
    "                    female*hsd08 + female*hsd911 + female*hsg + female*cg + female*ad + female*mw + female*so + female*we + female*exp1 + female*exp2 + female*exp3)\n",
    "x_dframe = ModelFrame( x_formula, cps2012)\n",
    "x1 = ModelMatrix(x_dframe)\n",
    "X = x1.m[:,Not(1:16)];\n",
    "X = hcat(x1.m[:,1:16], X)\n",
    "size(X)\n",
    "fom_1 =     [\"widowed\", \"divorced\", \"separated\", \"nevermarried\", \"hsd08\", \"hsd911\", \"hsg\", \"cg\", \"ad\", \"mw\", \"so\",\n",
    "            \"we\", \"exp1\", \"exp2\", \"exp3\"];\n",
    "data = cps2012[:,fom_1];\n",
    "sub_data = ones(size(data)[1])\n",
    "for i in 1:size(data)[2]\n",
    "    if i <= (size(data)[2] -1)\n",
    "        sub_data = hcat(sub_data, Matrix(data[:, i] .* data[:, Not(1:i)]) )\n",
    "    end\n",
    "end\n",
    "sub_data = sub_data[:,2:end]\n",
    "size(sub_data)\n",
    "x = hcat(X, sub_data)\n",
    "size(x)\n",
    "filter = var.(eachcol(x)) .!= 0\n",
    "x = x[:,filter]\n",
    "print(size(x))\n",
    "index_gender = [1,17,18,19,20,21,22,23,24,25,26,27,28,29,30,31];\n",
    "y = cps2012.lnw;\n",
    ";"
   ]
  },
  {
   "cell_type": "code",
   "execution_count": 127,
   "metadata": {},
   "outputs": [
    {
     "data": {
      "text/plain": [
       "15.0"
      ]
     },
     "metadata": {},
     "output_type": "display_data"
    }
   ],
   "source": [
    "sum(x[:,32])"
   ]
  },
  {
   "cell_type": "code",
   "execution_count": 10,
   "metadata": {},
   "outputs": [],
   "source": [
    "effects_female = rlassoEffects(x, y, index = index_gender);"
   ]
  },
  {
   "cell_type": "code",
   "execution_count": 12,
   "metadata": {},
   "outputs": [
    {
     "name": "stdout",
     "output_type": "stream",
     "text": [
      "Estimates and significance testing of the effect of target variables\n",
      " \u001b[1m     \u001b[0m \u001b[1m   Estimate. \u001b[0m \u001b[1m Std. Error \u001b[0m \u001b[1m    t value \u001b[0m \u001b[1m    Pr(>|t|) \u001b[0m\n",
      "\n",
      " \u001b[1m  X1 \u001b[0m    -0.154923    0.0501624     -3.08843    0.00201216\n",
      " \u001b[1m X17 \u001b[0m     0.136095    0.0906626      1.50112      0.133325\n",
      " \u001b[1m X18 \u001b[0m     0.136939    0.0221817      6.17353    6.6782e-10\n",
      " \u001b[1m X19 \u001b[0m    0.0233028    0.0532118     0.437925      0.661441\n",
      " \u001b[1m X20 \u001b[0m     0.186853    0.0199424      9.36966   7.27651e-21\n",
      " \u001b[1m X21 \u001b[0m    0.0278103     0.120914         0.23      0.818092\n",
      " \u001b[1m X22 \u001b[0m    -0.119335    0.0518797     -2.30023     0.0214354\n",
      " \u001b[1m X23 \u001b[0m   -0.0128898    0.0192232    -0.670533      0.502518\n",
      " \u001b[1m X24 \u001b[0m    0.0101386    0.0183265     0.553218      0.580114\n",
      " \u001b[1m X25 \u001b[0m   -0.0304637    0.0218061     -1.39703      0.162405\n",
      " \u001b[1m X26 \u001b[0m  -0.00106344    0.0191918   -0.0554112      0.955811\n",
      " \u001b[1m X27 \u001b[0m  -0.00818334    0.0193568    -0.422763      0.672468\n",
      " \u001b[1m X28 \u001b[0m  -0.00422613    0.0211684    -0.199643       0.84176\n",
      " \u001b[1m X29 \u001b[0m   0.00493526   0.00780428     0.632379      0.527139\n",
      " \u001b[1m X30 \u001b[0m    -0.159519    0.0452999     -3.52141   0.000429263\n",
      " \u001b[1m X31 \u001b[0m    0.0384506    0.0078611      4.89125    1.00199e-6\n",
      "---\n",
      "Signif. codes:\n",
      "0 '***' 0.001 '**' 0.01 '*' 0.05 '.' 0.1 ' ' 1\n"
     ]
    }
   ],
   "source": [
    "r_summary(effects_female);"
   ]
  },
  {
   "cell_type": "code",
   "execution_count": 14,
   "metadata": {},
   "outputs": [
    {
     "name": "stdout",
     "output_type": "stream",
     "text": [
      " \u001b[1m     \u001b[0m \u001b[1m       2.5% \u001b[0m \u001b[1m      97.5% \u001b[0m\n",
      "\n",
      " \u001b[1m  X1 \u001b[0m   -0.295562   -0.0142847\n",
      " \u001b[1m X17 \u001b[0m   -0.136261     0.408452\n",
      " \u001b[1m X18 \u001b[0m   0.0742004     0.199678\n",
      " \u001b[1m X19 \u001b[0m   -0.118061     0.164666\n",
      " \u001b[1m X20 \u001b[0m    0.128705     0.245002\n",
      " \u001b[1m X21 \u001b[0m   -0.378365     0.433985\n",
      " \u001b[1m X22 \u001b[0m   -0.270462    0.0317919\n",
      " \u001b[1m X23 \u001b[0m  -0.0656411    0.0398615\n",
      " \u001b[1m X24 \u001b[0m  -0.0421792    0.0624564\n",
      " \u001b[1m X25 \u001b[0m  -0.0964645    0.0355371\n",
      " \u001b[1m X26 \u001b[0m   -0.055223    0.0530961\n",
      " \u001b[1m X27 \u001b[0m  -0.0632443    0.0468776\n",
      " \u001b[1m X28 \u001b[0m  -0.0662182     0.057766\n",
      " \u001b[1m X29 \u001b[0m  -0.0167011    0.0265717\n",
      " \u001b[1m X30 \u001b[0m   -0.285341   -0.0336976\n",
      " \u001b[1m X31 \u001b[0m   0.0166404    0.0602608\n"
     ]
    }
   ],
   "source": [
    "joint_CI = r_confint(effects_female, 0.95, joint = true);\n",
    "joint_CI;"
   ]
  },
  {
   "cell_type": "markdown",
   "metadata": {},
   "source": [
    "### 4.4. Application: Estimation of the treatment effect in a linear model with many confounding factors"
   ]
  },
  {
   "cell_type": "code",
   "execution_count": 15,
   "metadata": {},
   "outputs": [],
   "source": [
    "using LinearAlgebra"
   ]
  },
  {
   "cell_type": "code",
   "execution_count": 16,
   "metadata": {},
   "outputs": [],
   "source": [
    "using GLM\n",
    "using CodecXz\n",
    "using RData\n",
    "using DataFrames\n",
    "url = \"https://github.com/cran/hdm/raw/master/data/GrowthData.rda\";\n",
    "GrowthData = load(download(url))[\"GrowthData\"];\n",
    "y = GrowthData[:, 1];\n",
    "d = GrowthData[:, 3];\n",
    "X = Matrix(GrowthData[:, Not(1, 2, 3)]);\n",
    "X_1 = Matrix(GrowthData[:, Not(1, 2)]);"
   ]
  },
  {
   "cell_type": "code",
   "execution_count": 17,
   "metadata": {},
   "outputs": [],
   "source": [
    "Q, R = qr(hcat(ones(length(y)), X_1))\n",
    "β = pinv(hcat(ones(length(y)), X_1)) * y\n",
    "# ls_effect = β;\n",
    "res = y - hcat(ones(length(y)), X_1) * β;\n",
    "n = size(hcat(ones(length(y)), X_1))[1]\n",
    "k = size(hcat(ones(length(y)), X_1))[2]\n",
    "\n",
    "sigma2_hat = (res' * res) / (n - k)\n",
    "vcov_beta_hat = sigma2_hat .* inv(hcat(ones(length(y)), X_1)' * hcat(ones(length(y)), X_1));\n",
    "se = sqrt.(diag(vcov_beta_hat))\n",
    "\n",
    "ls_effect = DataFrame(Estimate = β, stderror = se);"
   ]
  },
  {
   "cell_type": "code",
   "execution_count": 180,
   "metadata": {},
   "outputs": [],
   "source": [
    "# ls_effect = lm(hcat(ones(length(y)), X_1)[:, 1:42], y);\n",
    "# coef(ls_effect)"
   ]
  },
  {
   "cell_type": "code",
   "execution_count": 18,
   "metadata": {},
   "outputs": [
    {
     "name": "stdout",
     "output_type": "stream",
     "text": [
      "Estimates and significance testing of the effect of target variables\n",
      " \u001b[1m Row \u001b[0m \u001b[1m  Estimate. \u001b[0m \u001b[1m Std. Error \u001b[0m \u001b[1m  t value \u001b[0m \u001b[1m    Pr(>|t|) \u001b[0m\n",
      "\n",
      "    1   -0.0498115    0.0139364   -3.57421   0.000351288\n",
      "---\n",
      "Signif. codes:\n",
      "0 '***' 0.001 '**' 0.01 '*' 0.05 '.' 0.1 ' ' 1\n"
     ]
    }
   ],
   "source": [
    "lasso_effect = rlassoEffect(X, y, d, method = \"partialling out\");\n",
    "r_summary(lasso_effect);"
   ]
  },
  {
   "cell_type": "code",
   "execution_count": 19,
   "metadata": {},
   "outputs": [
    {
     "name": "stdout",
     "output_type": "stream",
     "text": [
      "Estimates and significance testing of the effect of target variables\n",
      " \u001b[1m Row \u001b[0m \u001b[1m  Estimate. \u001b[0m \u001b[1m Std. Error \u001b[0m \u001b[1m  t value \u001b[0m \u001b[1m   Pr(>|t|) \u001b[0m\n",
      "\n",
      "    1   -0.0500059    0.0157914   -3.16666   0.00154203\n",
      "---\n",
      "Signif. codes:\n",
      "0 '***' 0.001 '**' 0.01 '*' 0.05 '.' 0.1 ' ' 1\n"
     ]
    }
   ],
   "source": [
    "doublesel_effect = rlassoEffect(X, y, d, method = \"double selection\");\n",
    "r_summary(doublesel_effect);"
   ]
  },
  {
   "cell_type": "code",
   "execution_count": 20,
   "metadata": {},
   "outputs": [
    {
     "name": "stdout",
     "output_type": "stream",
     "text": [
      "=================================== ========== =============\n",
      " \u001b[1m                                  \u001b[0m \u001b[1m Estimate \u001b[0m \u001b[1m Std. Error \u001b[0m\n",
      "=================================== ========== =============\n",
      "                  full reg via ols      -0.01      0.02989\n",
      "      partial reg\\nvia post-lasso       -0.05      0.01394\n",
      "  partial reg via double selection      -0.05      0.01579\n",
      "=================================== ========== =============\n"
     ]
    }
   ],
   "source": [
    "using PrettyTables\n",
    "table = zeros(3,2)\n",
    "table[1,:] = [round(Matrix(ls_effect)[2,1], digits = 2), round.(Matrix(ls_effect)[2,2], digits = 5)]\n",
    "table[2,:] = [round(lasso_effect.coefficients, digits =2), round(lasso_effect.se, digits = 5)]\n",
    "table[3,:] = [round(doublesel_effect.coefficients, digits =2), round(doublesel_effect.se, digits = 5)];\n",
    "index = [\"full reg via ols\", \"partial reg\n",
    "via post-lasso \", \"partial reg via double selection\"]\n",
    "pretty_table(hcat(index, table), show_row_number = false, header = [\" \", \"Estimate\", \"Std. Error\"], tf = tf_simple, nosubheader = true)"
   ]
  },
  {
   "cell_type": "code",
   "execution_count": null,
   "metadata": {},
   "outputs": [],
   "source": []
  },
  {
   "cell_type": "markdown",
   "metadata": {},
   "source": [
    "## 5. Instrumental Variable Estimation in a High-Dimensional Setting"
   ]
  },
  {
   "cell_type": "code",
   "execution_count": null,
   "metadata": {},
   "outputs": [],
   "source": []
  },
  {
   "cell_type": "markdown",
   "metadata": {},
   "source": [
    "### 5.2. Application: Economic Development and Institutions."
   ]
  },
  {
   "cell_type": "code",
   "execution_count": 21,
   "metadata": {},
   "outputs": [],
   "source": [
    "using RDatasets, TexTables, LinearAlgebra, GLM"
   ]
  },
  {
   "cell_type": "code",
   "execution_count": 38,
   "metadata": {},
   "outputs": [
    {
     "data": {
      "text/plain": [
       "(64, 21)"
      ]
     },
     "metadata": {},
     "output_type": "display_data"
    }
   ],
   "source": [
    "using Statistics, StatsModels, RData\n",
    "url = \"https://github.com/cran/hdm/raw/master/data/AJR.rda\";\n",
    "AJR = load(download(url))[\"AJR\"];\n",
    "y = AJR[!,\"GDP\"]\n",
    "d = AJR[!,\"Exprop\"]\n",
    "z = AJR[!,\"logMort\"];\n",
    "x_formula = @formula(GDP ~ -1 + Latitude + Latitude2 + Africa + Asia + Namer + Samer\n",
    "    + Latitude*Latitude2 + Latitude*Africa + Latitude*Asia + Latitude*Namer + Latitude*Samer\n",
    "    + Latitude2*Africa + Latitude2*Asia + Latitude2*Namer + Latitude2*Samer\n",
    "    + Africa*Asia + Africa*Namer + Africa*Samer\n",
    "    + Asia*Namer + Asia*Samer\n",
    "    + Namer*Samer)\n",
    "x_dframe = ModelFrame( x_formula, AJR)\n",
    "x1 = ModelMatrix(x_dframe)\n",
    "x = x1.m\n",
    "size(x)"
   ]
  },
  {
   "cell_type": "code",
   "execution_count": 39,
   "metadata": {},
   "outputs": [],
   "source": [
    "AJR_Xselect  = rlassoIV(x, d, y, z, select_X=true, select_Z=false);"
   ]
  },
  {
   "cell_type": "code",
   "execution_count": 40,
   "metadata": {},
   "outputs": [
    {
     "name": "stdout",
     "output_type": "stream",
     "text": [
      "Coefficients:\n",
      "\n",
      " \u001b[1m     d1     \u001b[0m\n",
      "\n",
      "    0.845\n"
     ]
    }
   ],
   "source": [
    "r_print(AJR_Xselect)"
   ]
  },
  {
   "cell_type": "code",
   "execution_count": 41,
   "metadata": {},
   "outputs": [
    {
     "name": "stdout",
     "output_type": "stream",
     "text": [
      "Estimates and Significance Testing of the effect of target variables in the IV regression model\n",
      " \u001b[1m    \u001b[0m \u001b[1m   coeff. \u001b[0m \u001b[1m      se. \u001b[0m \u001b[1m t-value \u001b[0m \u001b[1m    p-value \u001b[0m\n",
      "\n",
      "  d1   0.845027   0.269926   3.13059   0.00174458\n",
      "---\n",
      "Signif. codes:\n",
      "0 '***' 0.001 '**' 0.01 '*' 0.05 '.' 0.1 ' ' 1\n"
     ]
    }
   ],
   "source": [
    "r_summary(AJR_Xselect);"
   ]
  },
  {
   "cell_type": "code",
   "execution_count": 42,
   "metadata": {},
   "outputs": [
    {
     "name": "stdout",
     "output_type": "stream",
     "text": [
      " \u001b[1m    \u001b[0m \u001b[1m     2.5% \u001b[0m \u001b[1m   97.5% \u001b[0m\n",
      "\n",
      "  d1   0.315981   1.37407\n"
     ]
    }
   ],
   "source": [
    "r_confint(AJR_Xselect);"
   ]
  },
  {
   "cell_type": "code",
   "execution_count": 43,
   "metadata": {},
   "outputs": [],
   "source": [
    "rY_1 = lm(hcat(ones(length(y)), Matrix(AJR[:,3:end])), y);\n",
    "rY = y - predict(rY_1)\n",
    "rD_1 = lm(hcat(ones(length(y)), Matrix(AJR[:,3:end])), d);\n",
    "rD = d - predict(rD_1);\n",
    "rZ_1 = lm(hcat(ones(length(y)), Matrix(AJR[:,3:end])), z);\n",
    "rZ = z - predict(rZ_1);"
   ]
  },
  {
   "cell_type": "code",
   "execution_count": 44,
   "metadata": {},
   "outputs": [],
   "source": [
    "rY_1 = lm(@formula(GDP ~ Latitude + Latitude2 + Africa + Asia + Namer + Samer + Latitude*Latitude2 + Latitude*Africa + Latitude*Asia + Latitude*Namer + Latitude*Samer\n",
    "          + Latitude2*Africa + Latitude2*Asia + Latitude2*Namer + Latitude2*Samer + Africa*Asia + Africa*Namer + Africa*Samer\n",
    "          + Asia*Namer + Asia*Samer + Namer*Samer), AJR)\n",
    "rY = y - predict(rY_1)\n",
    "\n",
    "rD_1 = lm(@formula(Exprop ~ Latitude + Latitude2 + Africa + Asia + Namer + Samer + Latitude*Latitude2 + Latitude*Africa + Latitude*Asia + Latitude*Namer + Latitude*Samer\n",
    "          + Latitude2*Africa + Latitude2*Asia + Latitude2*Namer + Latitude2*Samer + Africa*Asia + Africa*Namer + Africa*Samer\n",
    "          + Asia*Namer + Asia*Samer + Namer*Samer), AJR)\n",
    "rD = d - predict(rD_1)\n",
    "\n",
    "rZ_1 = lm(@formula(logMort ~ Latitude + Latitude2 + Africa + Asia + Namer + Samer + Latitude*Latitude2 + Latitude*Africa + Latitude*Asia + Latitude*Namer + Latitude*Samer\n",
    "          + Latitude2*Africa + Latitude2*Asia + Latitude2*Namer + Latitude2*Samer + Africa*Asia + Africa*Namer + Africa*Samer\n",
    "          + Asia*Namer + Asia*Samer + Namer*Samer), AJR)\n",
    "rZ = z - predict(rZ_1);"
   ]
  },
  {
   "cell_type": "code",
   "execution_count": 45,
   "metadata": {},
   "outputs": [
    {
     "data": {
      "text/html": [
       "<div class=\"data-frame\"><p>1 rows × 2 columns</p><table class=\"data-frame\"><thead><tr><th></th><th>Estimate</th><th>Std_Error</th></tr><tr><th></th><th title=\"Float64\">Float64</th><th title=\"Float64\">Float64</th></tr></thead><tbody><tr><th>1</th><td>1.26721</td><td>1.73054</td></tr></tbody></table></div>"
      ],
      "text/latex": [
       "\\begin{tabular}{r|cc}\n",
       "\t& Estimate & Std\\_Error\\\\\n",
       "\t\\hline\n",
       "\t& Float64 & Float64\\\\\n",
       "\t\\hline\n",
       "\t1 & 1.26721 & 1.73054 \\\\\n",
       "\\end{tabular}\n"
      ],
      "text/plain": [
       "\u001b[1m1×2 DataFrame\u001b[0m\n",
       "\u001b[1m Row \u001b[0m│\u001b[1m Estimate \u001b[0m\u001b[1m Std_Error \u001b[0m\n",
       "\u001b[1m     \u001b[0m│\u001b[90m Float64  \u001b[0m\u001b[90m Float64   \u001b[0m\n",
       "─────┼─────────────────────\n",
       "   1 │  1.26721    1.73054"
      ]
     },
     "metadata": {},
     "output_type": "display_data"
    }
   ],
   "source": [
    "ivfit_lm = tsls(rD, rY, rZ, nothing, intercept=false)\n",
    "DataFrame(Estimate = ivfit_lm[\"coefficients\"][1,2], Std_Error = ivfit_lm[\"se\"])"
   ]
  },
  {
   "cell_type": "code",
   "execution_count": 46,
   "metadata": {},
   "outputs": [],
   "source": [
    "x_formula1 = @formula(GDP ~ Latitude + Latitude2 + Africa + Asia + Namer + Samer\n",
    "    + Latitude*Latitude2 + Latitude*Africa + Latitude*Asia + Latitude*Namer + Latitude*Samer\n",
    "    + Latitude2*Africa + Latitude2*Asia + Latitude2*Namer + Latitude2*Samer\n",
    "    + Africa*Asia + Africa*Namer + Africa*Samer\n",
    "    + Asia*Namer + Asia*Samer\n",
    "    + Namer*Samer)\n",
    "x_dframe1 = ModelFrame( x_formula, AJR)\n",
    "x1_1 = ModelMatrix(x_dframe)\n",
    "xx = x1.m;"
   ]
  },
  {
   "cell_type": "code",
   "execution_count": 47,
   "metadata": {},
   "outputs": [
    {
     "data": {
      "text/html": [
       "<div class=\"data-frame\"><p>1 rows × 2 columns</p><table class=\"data-frame\"><thead><tr><th></th><th>Estimate</th><th>Std_Error</th></tr><tr><th></th><th title=\"Float64\">Float64</th><th title=\"Float64\">Float64</th></tr></thead><tbody><tr><th>1</th><td>0.845027</td><td>0.272094</td></tr></tbody></table></div>"
      ],
      "text/latex": [
       "\\begin{tabular}{r|cc}\n",
       "\t& Estimate & Std\\_Error\\\\\n",
       "\t\\hline\n",
       "\t& Float64 & Float64\\\\\n",
       "\t\\hline\n",
       "\t1 & 0.845027 & 0.272094 \\\\\n",
       "\\end{tabular}\n"
      ],
      "text/plain": [
       "\u001b[1m1×2 DataFrame\u001b[0m\n",
       "\u001b[1m Row \u001b[0m│\u001b[1m Estimate \u001b[0m\u001b[1m Std_Error \u001b[0m\n",
       "\u001b[1m     \u001b[0m│\u001b[90m Float64  \u001b[0m\u001b[90m Float64   \u001b[0m\n",
       "─────┼─────────────────────\n",
       "   1 │ 0.845027   0.272094"
      ]
     },
     "metadata": {},
     "output_type": "display_data"
    }
   ],
   "source": [
    "rY_1 = rlasso(xx, y);\n",
    "rY = rY_1[\"residuals\"]\n",
    "rD_1 = rlasso(xx, d);\n",
    "rD = rD_1[\"residuals\"]\n",
    "rZ_1 = rlasso(xx, z);\n",
    "rZ = rZ_1[\"residuals\"]\n",
    "\n",
    "ivfit_lasso = tsls(rD, rY, rZ)\n",
    "DataFrame(Estimate = ivfit_lasso[\"coefficients\"][1,2], Std_Error = ivfit_lasso[\"se\"][1])"
   ]
  },
  {
   "cell_type": "markdown",
   "metadata": {},
   "source": [
    "### 5.3. Application: Impact of Eminent Domain Decisions on Economic Outcomes."
   ]
  },
  {
   "cell_type": "code",
   "execution_count": 48,
   "metadata": {},
   "outputs": [],
   "source": [
    "using Statistics, GLM\n",
    "url = \"https://github.com/cran/hdm/raw/master/data/EminentDomain.rda\";\n",
    "EminentDomain = load(download(url))[\"EminentDomain\"];\n",
    "z = EminentDomain[\"logGDP\"][\"z\"];\n",
    "x = EminentDomain[\"logGDP\"][\"x\"];\n",
    "d = EminentDomain[\"logGDP\"][\"d\"];\n",
    "y = EminentDomain[\"logGDP\"][\"y\"];\n",
    "x = x[:, (mean(x, dims = 1) .> 0.05)'];\n",
    "z = z[:, (mean(z, dims = 1) .> 0.05)'];"
   ]
  },
  {
   "cell_type": "code",
   "execution_count": 50,
   "metadata": {},
   "outputs": [],
   "source": [
    "ED_ols = lm(hcat(ones(length(vec(y))), hcat(d, x)), vec(y));\n",
    "ED_2sls = tsls(d, y, z[:,1:2], x, intercept = false);"
   ]
  },
  {
   "cell_type": "code",
   "execution_count": 51,
   "metadata": {},
   "outputs": [],
   "source": [
    "lasso_IV_Z = rlassoIV(x, d, y, z, select_X = false, select_Z = true);"
   ]
  },
  {
   "cell_type": "code",
   "execution_count": 53,
   "metadata": {},
   "outputs": [
    {
     "name": "stdout",
     "output_type": "stream",
     "text": [
      "Estimates and Significance Testing of the effect of target variables in the IV regression model\n",
      " \u001b[1m    \u001b[0m \u001b[1m   coeff. \u001b[0m \u001b[1m      se. \u001b[0m \u001b[1m t-value \u001b[0m \u001b[1m  p-value \u001b[0m\n",
      "\n",
      "  d1   0.414602   0.290249   1.42843   0.153167\n",
      "---\n",
      "Signif. codes:\n",
      "0 '***' 0.001 '**' 0.01 '*' 0.05 '.' 0.1 ' ' 1\n"
     ]
    }
   ],
   "source": [
    "r_summary(lasso_IV_Z);"
   ]
  },
  {
   "cell_type": "code",
   "execution_count": 54,
   "metadata": {},
   "outputs": [
    {
     "name": "stdout",
     "output_type": "stream",
     "text": [
      " \u001b[1m    \u001b[0m \u001b[1m      2.5% \u001b[0m \u001b[1m   97.5% \u001b[0m\n",
      "\n",
      "  d1   -0.154276   0.98348\n"
     ]
    }
   ],
   "source": [
    "r_confint(lasso_IV_Z);"
   ]
  },
  {
   "cell_type": "code",
   "execution_count": 58,
   "metadata": {},
   "outputs": [
    {
     "name": "stdout",
     "output_type": "stream",
     "text": [
      "Estimates and Significance Testing of the effect of target variables in the IV regression model\n",
      " \u001b[1m    \u001b[0m \u001b[1m     coeff. \u001b[0m \u001b[1m      se. \u001b[0m \u001b[1m   t-value \u001b[0m \u001b[1m  p-value \u001b[0m\n",
      "\n",
      "  d1   -0.0238347   0.128507   -0.185475   0.852857\n",
      "---\n",
      "Signif. codes:\n",
      "0 '***' 0.001 '**' 0.01 '*' 0.05 '.' 0.1 ' ' 1\n"
     ]
    }
   ],
   "source": [
    "lasso_IV_XZ = rlassoIV(x, d, y, z, select_X = true, select_Z = true);\n",
    "r_summary(lasso_IV_XZ);"
   ]
  },
  {
   "cell_type": "code",
   "execution_count": 59,
   "metadata": {},
   "outputs": [
    {
     "name": "stdout",
     "output_type": "stream",
     "text": [
      " \u001b[1m    \u001b[0m \u001b[1m      2.5% \u001b[0m \u001b[1m    97.5% \u001b[0m\n",
      "\n",
      "  d1   -0.275703   0.228033\n"
     ]
    }
   ],
   "source": [
    "r_confint(lasso_IV_XZ);"
   ]
  },
  {
   "cell_type": "code",
   "execution_count": 62,
   "metadata": {},
   "outputs": [
    {
     "name": "stdout",
     "output_type": "stream",
     "text": [
      "Estimates and Significance Testing of the effect of target variables in the IV regression model\n",
      " \u001b[1m    \u001b[0m \u001b[1m   coeff. \u001b[0m \u001b[1m      se. \u001b[0m \u001b[1m t-value \u001b[0m \u001b[1m  p-value \u001b[0m\n",
      "\n",
      "  d1   0.414602   0.290249   1.42843   0.153167\n",
      "---\n",
      "Signif. codes:\n",
      "0 '***' 0.001 '**' 0.01 '*' 0.05 '.' 0.1 ' ' 1\n",
      "Estimates and Significance Testing of the effect of target variables in the IV regression model\n",
      " \u001b[1m    \u001b[0m \u001b[1m     coeff. \u001b[0m \u001b[1m      se. \u001b[0m \u001b[1m   t-value \u001b[0m \u001b[1m  p-value \u001b[0m\n",
      "\n",
      "  d1   -0.0238347   0.128507   -0.185475   0.852857\n",
      "---\n",
      "Signif. codes:\n",
      "0 '***' 0.001 '**' 0.01 '*' 0.05 '.' 0.1 ' ' 1\n",
      "======================= ============ =============\n",
      " \u001b[1m                      \u001b[0m \u001b[1m   Estimate \u001b[0m \u001b[1m Std. Error \u001b[0m\n",
      "======================= ============ =============\n",
      "        ols regression   0.00786473   0.00986593\n",
      "        IV estimation    -0.0107097    0.0337652\n",
      "        selection on Z     0.414602     0.290249\n",
      "  selection on X and Z   -0.0238347     0.128507\n",
      "======================= ============ =============\n"
     ]
    }
   ],
   "source": [
    "using PrettyTables\n",
    "table = zeros(4,2)\n",
    "table[1,:] = [coef(ED_ols)[2], stderror(ED_ols)[2]]\n",
    "table[2,:] = [ED_2sls[\"coefficients\"][1,2], ED_2sls[\"se\"][1]]\n",
    "table[3,:] = Matrix(r_summary(lasso_IV_Z)[:,2:3]);\n",
    "table[4, :] = Matrix(r_summary(lasso_IV_XZ)[:, 2:3]);\n",
    "index = [\"ols regression\", \"IV estimation \", \"selection on Z\", \"selection on X and Z\"]\n",
    "pretty_table(hcat(index, table), show_row_number = false, header = [\" \", \"Estimate\", \"Std. Error\"], tf = tf_simple, nosubheader = true)"
   ]
  },
  {
   "cell_type": "markdown",
   "metadata": {},
   "source": [
    "## 6. Inference on Treatment Effects in a High-Dimensional Setting"
   ]
  },
  {
   "cell_type": "markdown",
   "metadata": {},
   "source": [
    "### 6.3. Application: 401(k) plan participation."
   ]
  },
  {
   "cell_type": "code",
   "execution_count": 107,
   "metadata": {},
   "outputs": [],
   "source": [
    "url = \"https://github.com/cran/hdm/raw/master/data/pension.rda\";\n",
    "pension = load(download(url))[\"pension\"];\n",
    "y = pension[:, \"tw\"];\n",
    "d = pension[:, \"p401\"];\n",
    "z = pension[:, \"e401\"];\n",
    "X = Matrix(pension[:, [\"i2\", \"i3\", \"i4\", \"i5\", \"i6\", \"i7\", \"a2\", \"a3\", \"a4\", \"a5\", \"fsize\", \"hs\", \"smcol\", \"col\", \"marr\", \"twoearn\", \"db\", \"pira\", \"hown\"]]);"
   ]
  },
  {
   "cell_type": "code",
   "execution_count": 109,
   "metadata": {},
   "outputs": [
    {
     "name": "stdout",
     "output_type": "stream",
     "text": [
      "\n",
      "    ------\n",
      "    Post-Lasso estimation: true\n",
      "    Intercept: true\n",
      "    Control: 0\n",
      "    Total number of variables: 19\n",
      "    Number of selected variables: 9 \n",
      "    ------\n",
      "    \n",
      " \n",
      "============ ============\n",
      " \u001b[1m Variable  \u001b[0m \u001b[1m Estimate  \u001b[0m\n",
      "============ ============\n",
      "  Intercept   -2.07033\n",
      "  V 1         -0.237913\n",
      "  V 3         0.618819\n",
      "  V 4         0.846136\n",
      "  V 5         1.10569\n",
      "  V 6         1.34217\n",
      "  V 10        -0.33151\n",
      "  V 16        0.0382348\n",
      "  V 17        0.620232\n",
      "  V 18        0.335563\n",
      "============ ============\n",
      "rlassologit\n",
      "    Estimation and significance tesing of the treatment effect\n",
      "    Type: ATE\n",
      "    Bootstrap: none\n",
      "    \n",
      "========== ========= ==========\n",
      " \u001b[1m Coeff   \u001b[0m \u001b[1m SE      \u001b[0m \u001b[1m t.value \u001b[0m\n",
      "========== ========= ==========\n",
      "  10180.1   1930.68   5.2728\n",
      "========== ========= ==========\n"
     ]
    }
   ],
   "source": [
    "pension_ate = rlassoATE(X, d, y);\n",
    "r_summary(pension_ate);"
   ]
  },
  {
   "cell_type": "code",
   "execution_count": 110,
   "metadata": {},
   "outputs": [
    {
     "name": "stdout",
     "output_type": "stream",
     "text": [
      "\n",
      "    ------\n",
      "    Post-Lasso estimation: true\n",
      "    Intercept: true\n",
      "    Control: 0\n",
      "    Total number of variables: 19\n",
      "    Number of selected variables: 6 \n",
      "    ------\n",
      "    \n",
      " \n",
      "============ ============\n",
      " \u001b[1m Variable  \u001b[0m \u001b[1m Estimate  \u001b[0m\n",
      "============ ============\n",
      "  Intercept   -1.79587\n",
      "  V 1         -0.608675\n",
      "  V 5         0.622942\n",
      "  V 6         0.839653\n",
      "  V 16        0.199394\n",
      "  V 17        0.643286\n",
      "  V 18        0.374925\n",
      "============ ============\n"
     ]
    },
    {
     "name": "stdout",
     "output_type": "stream",
     "text": [
      "rlassologit\n",
      "    Estimation and significance tesing of the treatment effect\n",
      "    Type: ATET\n",
      "    Bootstrap: none\n",
      "    \n",
      "========== ========= ==========\n",
      " \u001b[1m Coeff   \u001b[0m \u001b[1m SE      \u001b[0m \u001b[1m t.value \u001b[0m\n",
      "========== ========= ==========\n",
      "  12628.5   2944.43   4.28893\n",
      "========== ========= ==========\n"
     ]
    }
   ],
   "source": [
    "pension_atet = rlassoATET(X, d, y);\n",
    "r_summary(pension_atet);"
   ]
  },
  {
   "cell_type": "code",
   "execution_count": 111,
   "metadata": {},
   "outputs": [
    {
     "name": "stdout",
     "output_type": "stream",
     "text": [
      "\n",
      "    ------\n",
      "    Post-Lasso estimation: true\n",
      "    Intercept: true\n",
      "    Control: 0\n",
      "    Total number of variables: 19\n",
      "    Number of selected variables: 10 \n",
      "    ------\n",
      "    \n",
      " \n",
      "============ ============\n",
      " \u001b[1m Variable  \u001b[0m \u001b[1m Estimate  \u001b[0m\n",
      "============ ============\n",
      "  Intercept   -1.58403\n",
      "  V 1         -0.329602\n",
      "  V 3         0.657641\n",
      "  V 4         0.836492\n",
      "  V 5         1.11528\n",
      "  V 6         1.21348\n",
      "  V 8         0.142622\n",
      "  V 10        -0.299557\n",
      "  V 16        0.0516196\n",
      "  V 17        1.03219\n",
      "  V 18        0.135758\n",
      "============ ============\n",
      "rlassologit\n",
      "    Estimation and significance tesing of the treatment effect\n",
      "    Type: LATE\n",
      "    Bootstrap: none\n",
      "    \n",
      "========== ======== ==========\n",
      " \u001b[1m Coeff   \u001b[0m \u001b[1m SE     \u001b[0m \u001b[1m t.value \u001b[0m\n",
      "========== ======== ==========\n",
      "  12992.1   2326.9   5.58344\n",
      "========== ======== ==========\n"
     ]
    }
   ],
   "source": [
    "pension_late = rlassoLATE(X, d, y, z);\n",
    "r_summary(pension_late);"
   ]
  },
  {
   "cell_type": "code",
   "execution_count": 112,
   "metadata": {},
   "outputs": [
    {
     "name": "stdout",
     "output_type": "stream",
     "text": [
      "\n",
      "    ------\n",
      "    Post-Lasso estimation: true\n",
      "    Intercept: true\n",
      "    Control: 0\n",
      "    Total number of variables: 19\n",
      "    Number of selected variables: 5 \n",
      "    ------\n",
      "    \n",
      " \n",
      "============ ============\n",
      " \u001b[1m Variable  \u001b[0m \u001b[1m Estimate  \u001b[0m\n",
      "============ ============\n",
      "  Intercept   -1.25636\n",
      "  V 1         -0.714199\n",
      "  V 5         0.677564\n",
      "  V 6         0.794049\n",
      "  V 16        0.212127\n",
      "  V 17        1.05388\n",
      "============ ============\n",
      "rlassologit\n",
      "    Estimation and significance tesing of the treatment effect\n",
      "    Type: LATET\n",
      "    Bootstrap: none\n",
      "    \n",
      "========== ========= ==========\n",
      " \u001b[1m Coeff   \u001b[0m \u001b[1m SE      \u001b[0m \u001b[1m t.value \u001b[0m\n",
      "========== ========= ==========\n",
      "  15323.2   3645.28   4.20357\n",
      "========== ========= ==========\n"
     ]
    }
   ],
   "source": [
    "pension_latet = rlassoLATET(X, d, y, z);\n",
    "r_summary(pension_latet);"
   ]
  },
  {
   "cell_type": "code",
   "execution_count": 153,
   "metadata": {},
   "outputs": [
    {
     "name": "stdout",
     "output_type": "stream",
     "text": [
      "\n",
      "    Estimation and significance tesing of the treatment effect\n",
      "    Type: ATE\n",
      "    Bootstrap: none\n",
      "    \n",
      "========== ========= ==========\n",
      " \u001b[1m Coeff   \u001b[0m \u001b[1m SE      \u001b[0m \u001b[1m t.value \u001b[0m\n",
      "========== ========= ==========\n",
      "  10180.1   1930.68   5.2728\n",
      "========== ========= ==========\n",
      "\n",
      "    Estimation and significance tesing of the treatment effect\n",
      "    Type: ATET\n",
      "    Bootstrap: none\n",
      "    \n",
      "========== ========= ==========\n",
      " \u001b[1m Coeff   \u001b[0m \u001b[1m SE      \u001b[0m \u001b[1m t.value \u001b[0m\n",
      "========== ========= ==========\n",
      "  12628.5   2944.43   4.28893\n",
      "========== ========= ==========\n",
      "\n",
      "    Estimation and significance tesing of the treatment effect\n",
      "    Type: LATE\n",
      "    Bootstrap: none\n",
      "    \n",
      "========== ======== ==========\n",
      " \u001b[1m Coeff   \u001b[0m \u001b[1m SE     \u001b[0m \u001b[1m t.value \u001b[0m\n",
      "========== ======== ==========\n",
      "  12992.1   2326.9   5.58344\n",
      "========== ======== ==========\n",
      "\n",
      "    Estimation and significance tesing of the treatment effect\n",
      "    Type: LATET\n",
      "    Bootstrap: none\n",
      "    \n",
      "========== ========= ==========\n",
      " \u001b[1m Coeff   \u001b[0m \u001b[1m SE      \u001b[0m \u001b[1m t.value \u001b[0m\n",
      "========== ========= ==========\n",
      "  15323.2   3645.28   4.20357\n",
      "========== ========= ==========\n"
     ]
    }
   ],
   "source": [
    "using PrettyTables\n",
    "table = zeros(4,2)\n",
    "table[1,:] = round.(vec(r_summary(pension_ate)[:, 1:2]), digits = 2);\n",
    "table[2,:] = round.(vec(r_summary(pension_atet)[:, 1:2]), digits = 2);\n",
    "table[3,:] = round.(vec(r_summary(pension_late)[:, 1:2]), digits = 2);\n",
    "table[4,:] = round.(vec(r_summary(pension_latet)[:, 1:2]), digits = 2);\n",
    "index = [\"ATE\", \"ATET \", \"LATE\", \"LATET\"];"
   ]
  },
  {
   "cell_type": "code",
   "execution_count": 152,
   "metadata": {},
   "outputs": [
    {
     "name": "stdout",
     "output_type": "stream",
     "text": [
      "======== ========== =============\n",
      " \u001b[1m       \u001b[0m \u001b[1m Estimate \u001b[0m \u001b[1m Std. Error \u001b[0m\n",
      "======== ========== =============\n",
      "    ATE    10180.1      1930.68\n",
      "  ATET     12628.5      2944.43\n",
      "   LATE    12992.1       2326.9\n",
      "  LATET    15323.2      3645.28\n",
      "======== ========== =============\n"
     ]
    }
   ],
   "source": [
    "pretty_table(hcat(index, table), show_row_number = false, \n",
    "            header = [\" \", \"Estimate\", \"Std. Error\"], tf = tf_simple, nosubheader = true)"
   ]
  },
  {
   "cell_type": "code",
   "execution_count": 174,
   "metadata": {},
   "outputs": [
    {
     "name": "stdout",
     "output_type": "stream",
     "text": [
      "\n",
      "    ------\n",
      "    Post-Lasso estimation: true\n",
      "    Intercept: true\n",
      "    Control: 0\n",
      "    Total number of variables: 19\n",
      "    Number of selected variables: 10 \n",
      "    ------\n",
      "    \n",
      " \n",
      "============ ============\n",
      " \u001b[1m Variable  \u001b[0m \u001b[1m Estimate  \u001b[0m\n",
      "============ ============\n",
      "  Intercept   -1.58403\n",
      "  V 1         -0.329602\n",
      "  V 3         0.657641\n",
      "  V 4         0.836492\n",
      "  V 5         1.11528\n",
      "  V 6         1.21348\n",
      "  V 8         0.142622\n",
      "  V 10        -0.299557\n",
      "  V 16        0.0516196\n",
      "  V 17        1.03219\n",
      "  V 18        0.135758\n",
      "============ ============\n",
      "rlassologit"
     ]
    },
    {
     "name": "stdout",
     "output_type": "stream",
     "text": [
      "\n",
      "    ------\n",
      "    Post-Lasso estimation: true\n",
      "    Intercept: true\n",
      "    Control: 0\n",
      "    Total number of variables: 19\n",
      "    Number of selected variables: 5 \n",
      "    ------\n",
      "    \n",
      " \n",
      "============ ============\n",
      " \u001b[1m Variable  \u001b[0m \u001b[1m Estimate  \u001b[0m\n",
      "============ ============\n",
      "  Intercept   -1.25636\n",
      "  V 1         -0.714199\n",
      "  V 5         0.677564\n",
      "  V 6         0.794049\n",
      "  V 16        0.212127\n",
      "  V 17        1.05388\n",
      "============ ============\n",
      "rlassologit"
     ]
    },
    {
     "name": "stdout",
     "output_type": "stream",
     "text": [
      "\n",
      "    ------\n",
      "    Post-Lasso estimation: true\n",
      "    Intercept: true\n",
      "    Control: 0\n",
      "    Total number of variables: 19\n",
      "    Number of selected variables: 10 \n",
      "    ------\n",
      "    \n",
      " \n",
      "============ ============\n",
      " \u001b[1m Variable  \u001b[0m \u001b[1m Estimate  \u001b[0m\n",
      "============ ============\n",
      "  Intercept   -1.58403\n",
      "  V 1         -0.329602\n",
      "  V 3         0.657641\n",
      "  V 4         0.836492\n",
      "  V 5         1.11528\n",
      "  V 6         1.21348\n",
      "  V 8         0.142622\n",
      "  V 10        -0.299557\n",
      "  V 16        0.0516196\n",
      "  V 17        1.03219\n",
      "  V 18        0.135758\n",
      "============ ============\n",
      "rlassologit"
     ]
    },
    {
     "name": "stdout",
     "output_type": "stream",
     "text": [
      "\n",
      "    ------\n",
      "    Post-Lasso estimation: true\n",
      "    Intercept: true\n",
      "    Control: 0\n",
      "    Total number of variables: 19\n",
      "    Number of selected variables: 5 \n",
      "    ------\n",
      "    \n",
      " \n",
      "============ ============\n",
      " \u001b[1m Variable  \u001b[0m \u001b[1m Estimate  \u001b[0m\n",
      "============ ============\n",
      "  Intercept   -1.25636\n",
      "  V 1         -0.714199\n",
      "  V 5         0.677564\n",
      "  V 6         0.794049\n",
      "  V 16        0.212127\n",
      "  V 17        1.05388\n",
      "============ ============\n",
      "rlassologit"
     ]
    }
   ],
   "source": [
    "pension_ate = rlassoATE(X, z, y);\n",
    "pension_atet = rlassoATET(X, z, y);\n",
    "pension_late = rlassoLATE(X, d, y, z);\n",
    "pension_latet = rlassoLATET(X, d, y, z);"
   ]
  },
  {
   "cell_type": "code",
   "execution_count": 182,
   "metadata": {},
   "outputs": [
    {
     "name": "stdout",
     "output_type": "stream",
     "text": [
      "\n",
      "    Estimation and significance tesing of the treatment effect\n",
      "    Type: ATE\n",
      "    Bootstrap: none\n",
      "    \n",
      "========== ========= ==========\n",
      " \u001b[1m Coeff   \u001b[0m \u001b[1m SE      \u001b[0m \u001b[1m t.value \u001b[0m\n",
      "========== ========= ==========\n",
      "  8491.99   1902.92   4.4626\n",
      "========== ========= ==========\n",
      "\n",
      "    Estimation and significance tesing of the treatment effect\n",
      "    Type: ATET\n",
      "    Bootstrap: none\n",
      "    \n",
      "========== ========= ==========\n",
      " \u001b[1m Coeff   \u001b[0m \u001b[1m SE      \u001b[0m \u001b[1m t.value \u001b[0m\n",
      "========== ========= ==========\n",
      "  10795.3   2568.13   4.20357\n",
      "========== ========= ==========\n",
      "\n",
      "    Estimation and significance tesing of the treatment effect\n",
      "    Type: LATE\n",
      "    Bootstrap: none\n",
      "    \n",
      "========== ======== ==========\n",
      " \u001b[1m Coeff   \u001b[0m \u001b[1m SE     \u001b[0m \u001b[1m t.value \u001b[0m\n",
      "========== ======== ==========\n",
      "  12992.1   2326.9   5.58344\n",
      "========== ======== ==========\n",
      "\n",
      "    Estimation and significance tesing of the treatment effect\n",
      "    Type: LATET\n",
      "    Bootstrap: none\n",
      "    \n"
     ]
    },
    {
     "name": "stdout",
     "output_type": "stream",
     "text": [
      "========== ========= ==========\n",
      " \u001b[1m Coeff   \u001b[0m \u001b[1m SE      \u001b[0m \u001b[1m t.value \u001b[0m\n",
      "========== ========= ==========\n",
      "  15323.2   3645.28   4.20357\n",
      "========== ========= ==========\n"
     ]
    }
   ],
   "source": [
    "table = zeros(4, 2)\n",
    "table[1,:] = r_summary(pension_ate)[:, 1:2]\n",
    "table[2,:] = r_summary(pension_atet)[:, 1:2]\n",
    "table[3,:] = r_summary(pension_late)[:, 1:2]\n",
    "table[4,:] = r_summary(pension_latet)[:, 1:2];"
   ]
  },
  {
   "cell_type": "code",
   "execution_count": 183,
   "metadata": {},
   "outputs": [
    {
     "name": "stdout",
     "output_type": "stream",
     "text": [
      "======== ========== =============\n",
      " \u001b[1m       \u001b[0m \u001b[1m Estimate \u001b[0m \u001b[1m Std. Error \u001b[0m\n",
      "======== ========== =============\n",
      "    ATE    8491.99      1902.92\n",
      "  ATET     10795.3      2568.13\n",
      "   LATE    12992.1       2326.9\n",
      "  LATET    15323.2      3645.28\n",
      "======== ========== =============\n"
     ]
    }
   ],
   "source": [
    "index = [\"ATE\", \"ATET \", \"LATE\", \"LATET\"]\n",
    "pretty_table(hcat(index, table), show_row_number = false, \n",
    "            header = [\" \", \"Estimate\", \"Std. Error\"], tf = tf_simple, nosubheader = true)"
   ]
  },
  {
   "cell_type": "markdown",
   "metadata": {},
   "source": [
    "## 7. The Lasso Methods for Discovery of Significant Causes amongst Many Potential Causes, with Many Controls\n"
   ]
  },
  {
   "cell_type": "code",
   "execution_count": 28,
   "metadata": {},
   "outputs": [],
   "source": [
    "using CSV\n",
    "url = \"https://raw.githubusercontent.com/d2cml-ai/HDMjl.jl/prueba/data/7_.csv\"\n",
    "data = DataFrame(CSV.read(download(url), DataFrame));\n",
    "n, p = size(data);\n",
    "p1 = 20;\n",
    "X = data[:,2:end]\n",
    "Y = data[:,1];"
   ]
  },
  {
   "cell_type": "code",
   "execution_count": 29,
   "metadata": {},
   "outputs": [
    {
     "name": "stdout",
     "output_type": "stream",
     "text": [
      " \u001b[1m     \u001b[0m \u001b[1m       2.5% \u001b[0m \u001b[1m    97.5% \u001b[0m\n",
      "\n",
      " \u001b[1m  X1 \u001b[0m     4.51533    5.21356\n",
      " \u001b[1m  X2 \u001b[0m   -0.313634    0.30429\n",
      " \u001b[1m  X3 \u001b[0m   -0.351839   0.186217\n",
      " \u001b[1m  X4 \u001b[0m   -0.253669   0.286815\n",
      " \u001b[1m  X5 \u001b[0m   -0.275994   0.275686\n",
      " \u001b[1m  X6 \u001b[0m   -0.320815   0.293574\n",
      " \u001b[1m  X7 \u001b[0m   -0.225692   0.300383\n",
      " \u001b[1m  X8 \u001b[0m  -0.0468017   0.473111\n",
      " \u001b[1m  X9 \u001b[0m   -0.185952   0.389624\n",
      " \u001b[1m X10 \u001b[0m   -0.236704    0.26358\n",
      " \u001b[1m X11 \u001b[0m   -0.314153   0.208903\n",
      " \u001b[1m X12 \u001b[0m   -0.308581   0.265112\n",
      " \u001b[1m X13 \u001b[0m   -0.173571   0.376241\n",
      " \u001b[1m X14 \u001b[0m   -0.322822    0.38468\n",
      " \u001b[1m X15 \u001b[0m   -0.321303   0.312452\n",
      " \u001b[1m X16 \u001b[0m   -0.264319   0.330375\n",
      " \u001b[1m X17 \u001b[0m   -0.178576    0.41633\n",
      " \u001b[1m X18 \u001b[0m   -0.368883   0.046518\n",
      " \u001b[1m X19 \u001b[0m    -0.10678   0.393157\n",
      " \u001b[1m X20 \u001b[0m   -0.215219   0.254939\n"
     ]
    }
   ],
   "source": [
    "r_confint(rlassoEffects(X, Y, index = [1:p1;]), joint = true);"
   ]
  }
 ],
 "metadata": {
  "kernelspec": {
   "display_name": "Julia 1.8.1",
   "language": "julia",
   "name": "julia-1.8"
  },
  "language_info": {
   "file_extension": ".jl",
   "mimetype": "application/julia",
   "name": "julia",
   "version": "1.8.1"
  },
  "orig_nbformat": 4
 },
 "nbformat": 4,
 "nbformat_minor": 2
}
