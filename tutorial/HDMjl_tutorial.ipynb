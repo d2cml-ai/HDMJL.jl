{
 "cells": [
  {
   "cell_type": "markdown",
   "metadata": {},
   "source": [
    "# HIGH-DIMENSIONAL METRICS IN R"
   ]
  },
  {
   "cell_type": "markdown",
   "metadata": {},
   "source": [
    "## 2. How to get started"
   ]
  },
  {
   "cell_type": "code",
   "execution_count": 56,
   "metadata": {},
   "outputs": [],
   "source": [
    "import Pkg; Pkg.add(\"HDMjl\")"
   ]
  },
  {
   "cell_type": "markdown",
   "metadata": {},
   "source": [
    "or"
   ]
  },
  {
   "cell_type": "code",
   "execution_count": 57,
   "metadata": {},
   "outputs": [],
   "source": [
    "import Pkg; Pkg.add(url = \"https://github.com/d2cml-ai/HDMjl.jl\")"
   ]
  },
  {
   "cell_type": "code",
   "execution_count": 102,
   "metadata": {},
   "outputs": [],
   "source": [
    "using HDMjl, CodecXz, GLM\n"
   ]
  },
  {
   "cell_type": "markdown",
   "metadata": {},
   "source": [
    "## 3. Prediction using Approximate Sparsity"
   ]
  },
  {
   "cell_type": "markdown",
   "metadata": {},
   "source": [
    "### 3.2. A Joint Significance Test for Lasso Regression."
   ]
  },
  {
   "cell_type": "code",
   "execution_count": 95,
   "metadata": {},
   "outputs": [],
   "source": [
    "using Random\n",
    "Random.seed!(1234);\n",
    "n = 100;\n",
    "p = 100;\n",
    "s = 3;\n",
    "X = randn(n, p);\n",
    "beta = vcat(fill(5, s), zeros(p - s));\n",
    "Y = X * beta + randn(n);"
   ]
  },
  {
   "cell_type": "code",
   "execution_count": 103,
   "metadata": {},
   "outputs": [
    {
     "data": {
      "text/plain": [
       "Dict{String, Any} with 15 entries:\n",
       "  \"tss\"          => 8466.4\n",
       "  \"dev\"          => [8.56479, -6.50463, -1.51601, 8.77722, -5.1338, -7.07815, 7…\n",
       "  \"model\"        => [0.970656 0.262456 … 1.86802 -0.460151; -0.979218 -0.022244…\n",
       "  \"loadings\"     => [1.99904, 1.58734, 1.67152, 1.86208, 1.859, 1.8311, 1.45692…\n",
       "  \"sigma\"        => 1.56664\n",
       "  \"lambda0\"      => 81.3601\n",
       "  \"lambda\"       => [162.642, 129.146, 135.995, 151.499, 151.248, 148.978, 118.…\n",
       "  \"intercept\"    => -0.196115\n",
       "  \"iter\"         => 16\n",
       "  \"residuals\"    => [0.119342, -0.25299, -1.17148, 0.282269, -0.643579, -0.5525…\n",
       "  \"rss\"          => 242.981\n",
       "  \"index\"        => Bool[1, 1, 1, 0, 0, 0, 0, 0, 0, 0  …  0, 0, 0, 0, 0, 0, 0, …\n",
       "  \"beta\"         => [4.31658, 4.39195, 4.45657, 0.0, 0.0, 0.0, 0.0, 0.0, 0.0, 0…\n",
       "  \"options\"      => Dict{String, Any}(\"intercept\"=>true, \"post\"=>false, \"meanx\"…\n",
       "  \"coefficients\" => [-0.196115, 4.31658, 4.39195, 4.45657, 0.0, 0.0, 0.0, 0.0, …"
      ]
     },
     "metadata": {},
     "output_type": "display_data"
    }
   ],
   "source": [
    "rlasso(X, Y, post = false)"
   ]
  },
  {
   "cell_type": "code",
   "execution_count": 89,
   "metadata": {},
   "outputs": [
    {
     "data": {
      "text/plain": [
       "1×101 adjoint(::Vector{Float64}) with eltype Float64:\n",
       " -0.00682754  5.00958  4.93178  5.17705  …  0.0  0.0  0.0  0.0  0.0  0.0  0.0"
      ]
     },
     "metadata": {},
     "output_type": "display_data"
    }
   ],
   "source": [
    "post_lasso_reg = rlasso(X, Y, post = true) #now use post-lasso\n",
    "post_lasso_reg[\"coefficients\"]'"
   ]
  },
  {
   "cell_type": "markdown",
   "metadata": {},
   "source": [
    "## 4. Inference on Target Regression Coefficients"
   ]
  },
  {
   "cell_type": "markdown",
   "metadata": {},
   "source": [
    "### 4.1. Intuition for the Orthogonality Principle in Linear Models via Partialling Out."
   ]
  },
  {
   "cell_type": "code",
   "execution_count": null,
   "metadata": {},
   "outputs": [],
   "source": []
  },
  {
   "cell_type": "markdown",
   "metadata": {},
   "source": [
    "### 4.2. Inference: Confidence Intervals and Significance Testing. The function rlassoEffects"
   ]
  },
  {
   "cell_type": "code",
   "execution_count": null,
   "metadata": {},
   "outputs": [],
   "source": []
  },
  {
   "cell_type": "markdown",
   "metadata": {},
   "source": [
    "### 4.3. Application: the effect of gender on wage"
   ]
  },
  {
   "cell_type": "code",
   "execution_count": null,
   "metadata": {},
   "outputs": [],
   "source": []
  },
  {
   "cell_type": "markdown",
   "metadata": {},
   "source": [
    "### 4.4. Application: Estimation of the treatment effect in a linear model with many confounding factors"
   ]
  },
  {
   "cell_type": "code",
   "execution_count": 92,
   "metadata": {},
   "outputs": [],
   "source": [
    "using CodecXz\n",
    "using RData\n",
    "using DataFrames\n",
    "url = \"https://github.com/cran/hdm/raw/master/data/GrowthData.rda\";\n",
    "GrowthData = load(download(url))[\"GrowthData\"];\n",
    "y = GrowthData[:, 1];\n",
    "d = GrowthData[:, 3];\n",
    "X = Matrix(GrowthData[:, Not(1, 2, 3)]);"
   ]
  },
  {
   "cell_type": "code",
   "execution_count": 93,
   "metadata": {},
   "outputs": [
    {
     "data": {
      "text/plain": [
       "Dict{String, Any} with 10 entries:\n",
       "  \"alpha\"            => -0.0453558\n",
       "  \"t\"                => -2.43116\n",
       "  \"se\"               => 0.018656\n",
       "  \"no_select\"        => 0\n",
       "  \"coefficients_reg\" => [0.2247, -0.0453558, -0.064512, 0.215358, -0.0960046, -…\n",
       "  \"sample_size\"      => 90\n",
       "  \"coefficient\"      => -0.0453558\n",
       "  \"selection_index\"  => Bool[1, 1, 1, 1, 1, 1, 1, 1, 0, 0  …  0, 0, 0, 0, 0, 0,…\n",
       "  \"residuals\"        => Dict(\"v\"=>[0.210235, 0.201381, 0.00253076, -0.0671351, …\n",
       "  \"coefficients\"     => -0.0453558"
      ]
     },
     "metadata": {},
     "output_type": "display_data"
    }
   ],
   "source": [
    "rlassoEffect(X, y, d, method = \"double selection\")"
   ]
  },
  {
   "cell_type": "code",
   "execution_count": 11,
   "metadata": {},
   "outputs": [
    {
     "data": {
      "text/plain": [
       "Dict{String, Any} with 9 entries:\n",
       "  \"alpha\"            => -0.05333\n",
       "  \"t\"                => -3.722\n",
       "  \"se\"               => 0.0143283\n",
       "  \"coefficients_reg\" => [-0.0845872, -0.0461165, 0.18946, -0.0299086, 0.0, 0.0,…\n",
       "  \"sample_size\"      => 90\n",
       "  \"coefficient\"      => -0.05333\n",
       "  \"selection_index\"  => Any[true, true, true, true, true, true, true, true, fal…\n",
       "  \"residuals\"        => Dict(\"v\"=>[0.181221, 0.116676, 0.0971757, -0.133713, 0.…\n",
       "  \"coefficients\"     => -0.05333"
      ]
     },
     "metadata": {},
     "output_type": "display_data"
    }
   ],
   "source": [
    "rlassoEffect(X, y, d, method = \"partialling out\")"
   ]
  },
  {
   "cell_type": "markdown",
   "metadata": {},
   "source": [
    "## 5. Instrumental Variable Estimation in a High-Dimensional Setting"
   ]
  },
  {
   "cell_type": "markdown",
   "metadata": {},
   "source": [
    "### 5.2. Application: Economic Development and Institutions."
   ]
  },
  {
   "cell_type": "markdown",
   "metadata": {},
   "source": [
    "### 5.3. Application: Impact of Eminent Domain Decisions on Economic Outcomes."
   ]
  },
  {
   "cell_type": "code",
   "execution_count": 43,
   "metadata": {},
   "outputs": [
    {
     "data": {
      "text/plain": [
       "Dict{String, Any} with 5 entries:\n",
       "  \"se\"           => [0.0801865]\n",
       "  \"sample_size\"  => 312\n",
       "  \"vcov\"         => [0.00642988;;]\n",
       "  \"residuals\"    => [-0.111753; 0.0588269; … ; 0.218765; 0.301602;;]\n",
       "  \"coefficients\" => [-0.0449578;;]"
      ]
     },
     "metadata": {},
     "output_type": "display_data"
    }
   ],
   "source": [
    "using Statistics\n",
    "url = \"https://github.com/cran/hdm/raw/master/data/EminentDomain.rda\";\n",
    "EminentDomain = load(download(url))[\"EminentDomain\"];\n",
    "z = EminentDomain[\"logGDP\"][\"z\"];\n",
    "x = EminentDomain[\"logGDP\"][\"x\"];\n",
    "d = EminentDomain[\"logGDP\"][\"d\"];\n",
    "y = EminentDomain[\"logGDP\"][\"y\"];\n",
    "x = x[:, (mean(x, dims = 1) .> 0.05)'];\n",
    "z = z[:, (mean(z, dims = 1) .> 0.05)'];\n",
    "rlassoIV(x, d, y, z)"
   ]
  },
  {
   "cell_type": "code",
   "execution_count": 47,
   "metadata": {},
   "outputs": [
    {
     "data": {
      "text/plain": [
       "Dict{String, Any} with 5 entries:\n",
       "  \"se\"           => [0.0801865]\n",
       "  \"sample_size\"  => 312\n",
       "  \"vcov\"         => [0.00642988;;]\n",
       "  \"residuals\"    => [-0.111753; 0.0588269; … ; 0.218765; 0.301602;;]\n",
       "  \"coefficients\" => [-0.0449578;;]"
      ]
     },
     "metadata": {},
     "output_type": "display_data"
    }
   ],
   "source": [
    "rlassoIV(x, d, y, z)"
   ]
  },
  {
   "cell_type": "markdown",
   "metadata": {},
   "source": [
    "## 6. Inference on Treatment Effects in a High-Dimensional Setting"
   ]
  },
  {
   "cell_type": "markdown",
   "metadata": {},
   "source": [
    "### 6.3. Application: 401(k) plan participation."
   ]
  },
  {
   "cell_type": "code",
   "execution_count": 18,
   "metadata": {},
   "outputs": [
    {
     "data": {
      "text/plain": [
       "Dict{String, Any} with 5 entries:\n",
       "  \"se\"          => 1930.68\n",
       "  \"individual\"  => [-30618.3, -57537.6, -71442.9, 21383.3, -2.32925e5, 3.40765e…\n",
       "  \"sample_size\" => 9915\n",
       "  \"te\"          => 10180.1\n",
       "  \"type\"        => \"ATE\""
      ]
     },
     "metadata": {},
     "output_type": "display_data"
    }
   ],
   "source": [
    "url = \"https://github.com/cran/hdm/raw/master/data/pension.rda\";\n",
    "pension = load(download(url))[\"pension\"];\n",
    "y = pension[:, \"tw\"];\n",
    "d = pension[:, \"p401\"];\n",
    "z = pension[:, \"e401\"];\n",
    "X = Matrix(pension[:, [\"i2\", \"i3\", \"i4\", \"i5\", \"i6\", \"i7\", \"a2\", \"a3\", \"a4\", \"a5\", \"fsize\", \"hs\", \"smcol\", \"col\", \"marr\", \"twoearn\", \"db\", \"pira\", \"hown\"]]);\n",
    "rlassoATE(X, d, y)"
   ]
  },
  {
   "cell_type": "code",
   "execution_count": 51,
   "metadata": {},
   "outputs": [
    {
     "data": {
      "text/plain": [
       "Dict{String, Any} with 5 entries:\n",
       "  \"se\"          => 2944.43\n",
       "  \"individual\"  => [-21536.4, -52877.2, -1.44867e5, -2739.29, -307741.0, 7.3912…\n",
       "  \"sample_size\" => 9915\n",
       "  \"te\"          => 12628.5\n",
       "  \"type\"        => \"ATET\""
      ]
     },
     "metadata": {},
     "output_type": "display_data"
    }
   ],
   "source": [
    "rlassoATET(X, d, y)"
   ]
  },
  {
   "cell_type": "code",
   "execution_count": 52,
   "metadata": {},
   "outputs": [
    {
     "data": {
      "text/plain": [
       "Dict{String, Any} with 5 entries:\n",
       "  \"se\"          => 2326.9\n",
       "  \"individual\"  => [-50526.8, -1.39158e5, -1.37102e5, 38508.0, -6.5644e5, 7.943…\n",
       "  \"sample_size\" => 9915\n",
       "  \"te\"          => 12992.1\n",
       "  \"type\"        => \"LATE\""
      ]
     },
     "metadata": {},
     "output_type": "display_data"
    }
   ],
   "source": [
    "rlassoLATE(X, d, y, z)"
   ]
  },
  {
   "cell_type": "code",
   "execution_count": 53,
   "metadata": {},
   "outputs": [
    {
     "data": {
      "text/plain": [
       "Dict{String, Any} with 5 entries:\n",
       "  \"se\"          => 3645.28\n",
       "  \"individual\"  => [-35580.5, -90558.0, -1.83628e5, -5303.13, -8.0766e5, 1.8866…\n",
       "  \"sample_size\" => 9915\n",
       "  \"te\"          => 15323.2\n",
       "  \"type\"        => \"LATET\""
      ]
     },
     "metadata": {},
     "output_type": "display_data"
    }
   ],
   "source": [
    "rlassoLATET(X, d, y, z)"
   ]
  },
  {
   "cell_type": "code",
   "execution_count": null,
   "metadata": {},
   "outputs": [],
   "source": []
  },
  {
   "cell_type": "code",
   "execution_count": null,
   "metadata": {},
   "outputs": [],
   "source": []
  }
 ],
 "metadata": {
  "kernelspec": {
   "display_name": "Julia 1.8.1",
   "language": "julia",
   "name": "julia-1.8"
  },
  "language_info": {
   "file_extension": ".jl",
   "mimetype": "application/julia",
   "name": "julia",
   "version": "1.8.1"
  },
  "orig_nbformat": 4
 },
 "nbformat": 4,
 "nbformat_minor": 2
}
