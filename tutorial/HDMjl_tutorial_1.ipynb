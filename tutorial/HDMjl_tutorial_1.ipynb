{
 "cells": [
  {
   "cell_type": "markdown",
   "metadata": {},
   "source": [
    "# HIGH-DIMENSIONAL METRICS IN R"
   ]
  },
  {
   "cell_type": "markdown",
   "metadata": {},
   "source": [
    "## 2. How to get started"
   ]
  },
  {
   "cell_type": "markdown",
   "metadata": {},
   "source": [
    "or"
   ]
  },
  {
   "cell_type": "code",
   "execution_count": 4,
   "metadata": {},
   "outputs": [
    {
     "name": "stderr",
     "output_type": "stream",
     "text": [
      "\u001b[32m\u001b[1m    Updating\u001b[22m\u001b[39m `C:\\Users\\User\\.julia\\environments\\v1.8\\Project.toml`"
     ]
    },
    {
     "name": "stderr",
     "output_type": "stream",
     "text": [
      "\n",
      " \u001b[90m [8de29b41] \u001b[39m\u001b[91m- HDMjl v0.0.11 `https://github.com/d2cml-ai/HDMjl.jl#main`\u001b[39m\n",
      "\u001b[32m\u001b[1m    Updating\u001b[22m\u001b[39m `C:\\Users\\User\\.julia\\environments\\v1.8\\Manifest.toml`\n"
     ]
    },
    {
     "name": "stderr",
     "output_type": "stream",
     "text": [
      " \u001b[90m [8de29b41] \u001b[39m\u001b[91m- HDMjl v0.0.11 `https://github.com/d2cml-ai/HDMjl.jl#main`\u001b[39m\n",
      "┌ Info: We haven't cleaned this depot up for a bit, running Pkg.gc()...\n",
      "└ @ Pkg C:\\buildbot\\worker\\package_win64\\build\\usr\\share\\julia\\stdlib\\v1.8\\Pkg\\src\\Pkg.jl:719\n"
     ]
    },
    {
     "name": "stderr",
     "output_type": "stream",
     "text": [
      "\u001b[32m\u001b[1m      Active\u001b[22m\u001b[39m manifest files: 2 found"
     ]
    },
    {
     "name": "stderr",
     "output_type": "stream",
     "text": [
      "\n",
      "\u001b[32m\u001b[1m      Active\u001b[22m\u001b[39m artifact files: 99 found\n",
      "\u001b[32m\u001b[1m      Active\u001b[22m\u001b[39m scratchspaces: 13 found\n"
     ]
    },
    {
     "name": "stderr",
     "output_type": "stream",
     "text": [
      "\u001b[32m\u001b[1m     Deleted\u001b[22m\u001b[39m 234 package installations (598.311 MiB)\n",
      "\u001b[32m\u001b[1m     Deleted\u001b[22m\u001b[39m 4 repos (9.640 MiB)\n"
     ]
    }
   ],
   "source": [
    "Pkg.rm(\"HDMjl\")"
   ]
  },
  {
   "cell_type": "code",
   "execution_count": 1,
   "metadata": {},
   "outputs": [
    {
     "name": "stderr",
     "output_type": "stream",
     "text": [
      "\u001b[32m\u001b[1m    Updating\u001b[22m\u001b[39m git-repo `https://github.com/d2cml-ai/HDMjl.jl`"
     ]
    },
    {
     "name": "stderr",
     "output_type": "stream",
     "text": [
      "\n"
     ]
    },
    {
     "name": "stderr",
     "output_type": "stream",
     "text": [
      "\u001b[32m\u001b[1m    Updating\u001b[22m\u001b[39m registry at `C:\\Users\\User\\.julia\\registries\\General`\n"
     ]
    },
    {
     "name": "stderr",
     "output_type": "stream",
     "text": [
      "\u001b[32m\u001b[1m    Updating\u001b[22m\u001b[39m git-repo `https://github.com/JuliaRegistries/General.git`"
     ]
    },
    {
     "name": "stderr",
     "output_type": "stream",
     "text": [
      "\n",
      "\u001b[32m\u001b[1m   Resolving\u001b[22m\u001b[39m "
     ]
    },
    {
     "name": "stderr",
     "output_type": "stream",
     "text": [
      "package versions...\n"
     ]
    },
    {
     "name": "stderr",
     "output_type": "stream",
     "text": [
      "\u001b[32m\u001b[1m  No Changes\u001b[22m\u001b[39m to `C:\\Users\\User\\.julia\\environments\\v1.8\\Project.toml`"
     ]
    },
    {
     "name": "stderr",
     "output_type": "stream",
     "text": [
      "\n",
      "\u001b[32m\u001b[1m  No Changes\u001b[22m\u001b[39m to `C:\\Users\\User\\.julia\\environments\\v1.8\\Manifest.toml`"
     ]
    },
    {
     "name": "stderr",
     "output_type": "stream",
     "text": [
      "\n"
     ]
    }
   ],
   "source": [
    "import Pkg; Pkg.add(url = \"https://github.com/d2cml-ai/HDMjl.jl\")"
   ]
  },
  {
   "cell_type": "code",
   "execution_count": 3,
   "metadata": {},
   "outputs": [],
   "source": [
    "using CodecXz, RData, DataFrames, StatsModels, Statistics, Distributions, PrettyTables"
   ]
  },
  {
   "cell_type": "code",
   "execution_count": 4,
   "metadata": {},
   "outputs": [],
   "source": [
    "import Pkg"
   ]
  },
  {
   "cell_type": "code",
   "execution_count": 5,
   "metadata": {},
   "outputs": [
    {
     "name": "stderr",
     "output_type": "stream",
     "text": [
      "WARNING: replacing module HDMjl.\n"
     ]
    },
    {
     "data": {
      "text/plain": [
       "Main.HDMjl"
      ]
     },
     "metadata": {},
     "output_type": "display_data"
    }
   ],
   "source": [
    "include(\"E:/causal_ml/hdm_paper/prueba/HDMjl.jl/src/HDMjl.jl\")"
   ]
  },
  {
   "cell_type": "code",
   "execution_count": 1,
   "metadata": {},
   "outputs": [],
   "source": [
    "using HDMjl"
   ]
  },
  {
   "cell_type": "markdown",
   "metadata": {},
   "source": [
    "## 3. Prediction using Approximate Sparsity"
   ]
  },
  {
   "cell_type": "markdown",
   "metadata": {},
   "source": [
    "### 3.2. A Joint Significance Test for Lasso Regression."
   ]
  },
  {
   "cell_type": "code",
   "execution_count": 3,
   "metadata": {},
   "outputs": [],
   "source": [
    "using Random\n",
    "Random.seed!(1234);\n",
    "n = 100;\n",
    "p = 100;\n",
    "s = 3;\n",
    "X = randn(n, p);\n",
    "beta = vcat(fill(5, s), zeros(p - s));\n",
    "Y = X * beta + randn(n);"
   ]
  },
  {
   "cell_type": "code",
   "execution_count": 4,
   "metadata": {},
   "outputs": [],
   "source": [
    "lasso_reg = HDMjl.rlasso(X, Y, post = false);"
   ]
  },
  {
   "cell_type": "code",
   "execution_count": 5,
   "metadata": {},
   "outputs": [
    {
     "data": {
      "text/plain": [
       "1×101 adjoint(::Vector{Float64}) with eltype Float64:\n",
       " -0.00682754  5.00958  4.93178  5.17705  …  0.0  0.0  0.0  0.0  0.0  0.0  0.0"
      ]
     },
     "metadata": {},
     "output_type": "display_data"
    }
   ],
   "source": [
    "post_lasso_reg = HDMjl.rlasso(X, Y, post = true) #now use post-lasso\n",
    "post_lasso_reg[\"coefficients\"]'"
   ]
  },
  {
   "cell_type": "markdown",
   "metadata": {},
   "source": [
    "## 4. Inference on Target Regression Coefficients"
   ]
  },
  {
   "cell_type": "markdown",
   "metadata": {},
   "source": [
    "### 4.1. Intuition for the Orthogonality Principle in Linear Models via Partialling Out."
   ]
  },
  {
   "cell_type": "code",
   "execution_count": 911,
   "metadata": {},
   "outputs": [],
   "source": [
    "using CSV\n",
    "using DataFrames"
   ]
  },
  {
   "cell_type": "code",
   "execution_count": 696,
   "metadata": {},
   "outputs": [
    {
     "name": "stderr",
     "output_type": "stream",
     "text": [
      "WARNING: replacing module HDMjl.\n"
     ]
    },
    {
     "data": {
      "text/plain": [
       "Main.HDMjl"
      ]
     },
     "metadata": {},
     "output_type": "display_data"
    }
   ],
   "source": [
    "include(\"E:/causal_ml/hdm_paper/prueba/HDMjl.jl/src/HDMjl.jl\")"
   ]
  },
  {
   "cell_type": "code",
   "execution_count": 954,
   "metadata": {},
   "outputs": [],
   "source": [
    "url = \"https://raw.githubusercontent.com/d2cml-ai/HDMjl.jl/prueba/data/4_1.csv\"\n",
    "dta = DataFrame(CSV.read(download(url), DataFrame));\n",
    "n, p = size(dta);\n",
    "y = dta[:,\"y\"];\n",
    "d = dta[:,\"d\"];\n",
    "x = Matrix(dta[:,3:end]);"
   ]
  },
  {
   "cell_type": "code",
   "execution_count": 1017,
   "metadata": {},
   "outputs": [
    {
     "data": {
      "text/html": [
       "<div class=\"data-frame\"><p>1 rows × 2 columns</p><table class=\"data-frame\"><thead><tr><th></th><th>Estimate</th><th>Std_Error</th></tr><tr><th></th><th title=\"Float64\">Float64</th><th title=\"Float64\">Float64</th></tr></thead><tbody><tr><th>1</th><td>0.978075</td><td>0.0137122</td></tr></tbody></table></div>"
      ],
      "text/latex": [
       "\\begin{tabular}{r|cc}\n",
       "\t& Estimate & Std\\_Error\\\\\n",
       "\t\\hline\n",
       "\t& Float64 & Float64\\\\\n",
       "\t\\hline\n",
       "\t1 & 0.978075 & 0.0137122 \\\\\n",
       "\\end{tabular}\n"
      ],
      "text/plain": [
       "\u001b[1m1×2 DataFrame\u001b[0m\n",
       "\u001b[1m Row \u001b[0m│\u001b[1m Estimate \u001b[0m\u001b[1m Std_Error \u001b[0m\n",
       "\u001b[1m     \u001b[0m│\u001b[90m Float64  \u001b[0m\u001b[90m Float64   \u001b[0m\n",
       "─────┼─────────────────────\n",
       "   1 │ 0.978075  0.0137122"
      ]
     },
     "metadata": {},
     "output_type": "display_data"
    }
   ],
   "source": [
    "full_fit = lm(hcat(ones(length(y)), Matrix(dta[:,2:end])), y);\n",
    "DataFrame(Estimate = coef(full_fit)[2], Std_Error = stderror(full_fit)[2])"
   ]
  },
  {
   "cell_type": "code",
   "execution_count": 1026,
   "metadata": {},
   "outputs": [],
   "source": [
    "rY_1 = lm(hcat(ones(length(y)), Matrix(dta[:,3:end])), y);\n",
    "rY = y - predict(rY_1)\n",
    "rD_1 = lm(hcat(ones(length(y)), Matrix(dta[:,3:end])), d);\n",
    "rD = d - predict(rD_1);"
   ]
  },
  {
   "cell_type": "code",
   "execution_count": 1049,
   "metadata": {},
   "outputs": [
    {
     "data": {
      "text/html": [
       "<div class=\"data-frame\"><p>1 rows × 2 columns</p><table class=\"data-frame\"><thead><tr><th></th><th>Estimate</th><th>Std_Error</th></tr><tr><th></th><th title=\"Float64\">Float64</th><th title=\"Float64\">Float64</th></tr></thead><tbody><tr><th>1</th><td>0.978075</td><td>0.0136862</td></tr></tbody></table></div>"
      ],
      "text/latex": [
       "\\begin{tabular}{r|cc}\n",
       "\t& Estimate & Std\\_Error\\\\\n",
       "\t\\hline\n",
       "\t& Float64 & Float64\\\\\n",
       "\t\\hline\n",
       "\t1 & 0.978075 & 0.0136862 \\\\\n",
       "\\end{tabular}\n"
      ],
      "text/plain": [
       "\u001b[1m1×2 DataFrame\u001b[0m\n",
       "\u001b[1m Row \u001b[0m│\u001b[1m Estimate \u001b[0m\u001b[1m Std_Error \u001b[0m\n",
       "\u001b[1m     \u001b[0m│\u001b[90m Float64  \u001b[0m\u001b[90m Float64   \u001b[0m\n",
       "─────┼─────────────────────\n",
       "   1 │ 0.978075  0.0136862"
      ]
     },
     "metadata": {},
     "output_type": "display_data"
    }
   ],
   "source": [
    "partial_fit_ls = lm(hcat(ones(length(y)), rD), rY)\n",
    "DataFrame(Estimate = coef(partial_fit_ls)[2], Std_Error = stderror(partial_fit_ls)[2])"
   ]
  },
  {
   "cell_type": "code",
   "execution_count": 1057,
   "metadata": {},
   "outputs": [
    {
     "data": {
      "text/html": [
       "<div class=\"data-frame\"><p>1 rows × 2 columns</p><table class=\"data-frame\"><thead><tr><th></th><th>Estimate</th><th>Std_Error</th></tr><tr><th></th><th title=\"Float64\">Float64</th><th title=\"Float64\">Float64</th></tr></thead><tbody><tr><th>1</th><td>0.972739</td><td>0.0136868</td></tr></tbody></table></div>"
      ],
      "text/latex": [
       "\\begin{tabular}{r|cc}\n",
       "\t& Estimate & Std\\_Error\\\\\n",
       "\t\\hline\n",
       "\t& Float64 & Float64\\\\\n",
       "\t\\hline\n",
       "\t1 & 0.972739 & 0.0136868 \\\\\n",
       "\\end{tabular}\n"
      ],
      "text/plain": [
       "\u001b[1m1×2 DataFrame\u001b[0m\n",
       "\u001b[1m Row \u001b[0m│\u001b[1m Estimate \u001b[0m\u001b[1m Std_Error \u001b[0m\n",
       "\u001b[1m     \u001b[0m│\u001b[90m Float64  \u001b[0m\u001b[90m Float64   \u001b[0m\n",
       "─────┼─────────────────────\n",
       "   1 │ 0.972739  0.0136868"
      ]
     },
     "metadata": {},
     "output_type": "display_data"
    }
   ],
   "source": [
    "rY_1 = HDMjl.rlasso(hcat(ones(length(y)), Matrix(dta[:,3:end])), y);\n",
    "rY = rY_1[\"residuals\"]\n",
    "rD_1 = HDMjl.rlasso(hcat(ones(length(y)), Matrix(dta[:,3:end])), d);\n",
    "rD = rD_1[\"residuals\"]\n",
    "partial_fit_postlasso = lm(hcat(ones(length(y)), rD), rY)\n",
    "DataFrame(Estimate = coef(partial_fit_postlasso)[2], Std_Error = stderror(partial_fit_postlasso)[2])"
   ]
  },
  {
   "cell_type": "code",
   "execution_count": 1059,
   "metadata": {},
   "outputs": [
    {
     "name": "stdout",
     "output_type": "stream",
     "text": [
      "Estimates and significance testing of the effect of target variables\n",
      " \u001b[1m Row \u001b[0m \u001b[1m Estimate. \u001b[0m \u001b[1m Std. Error \u001b[0m \u001b[1m t value \u001b[0m \u001b[1m Pr(>|t|) \u001b[0m\n",
      "\n",
      "    1    0.972739    0.0136868   71.0715        0.0\n",
      "---\n",
      "Signif. codes:\n",
      "0 '***' 0.001 '**' 0.01 '*' 0.05 '.' 0.1 ' ' 1"
     ]
    },
    {
     "name": "stdout",
     "output_type": "stream",
     "text": [
      "\n"
     ]
    }
   ],
   "source": [
    "Eff = HDMjl.rlassoEffect(x, y, d, method = \"partialling out\");\n",
    "HDMjl.r_summary(Eff);"
   ]
  },
  {
   "cell_type": "code",
   "execution_count": 1062,
   "metadata": {},
   "outputs": [
    {
     "name": "stdout",
     "output_type": "stream",
     "text": [
      "Coefficients:\n",
      "\n",
      " \u001b[1m     1 \u001b[0m\n",
      "\n",
      "  0.973\n"
     ]
    }
   ],
   "source": [
    "HDMjl.r_print(Eff)"
   ]
  },
  {
   "cell_type": "code",
   "execution_count": 1063,
   "metadata": {},
   "outputs": [
    {
     "name": "stdout",
     "output_type": "stream",
     "text": [
      "Estimates and significance testing of the effect of target variables\n",
      " \u001b[1m Row \u001b[0m \u001b[1m Estimate. \u001b[0m \u001b[1m Std. Error \u001b[0m \u001b[1m t value \u001b[0m \u001b[1m Pr(>|t|) \u001b[0m\n",
      "\n",
      "    1    0.978075    0.0141562   69.0914        0.0\n",
      "---\n",
      "Signif. codes:\n",
      "0 '***' 0.001 '**' 0.01 '*' 0.05 '.' 0.1 ' ' 1\n"
     ]
    }
   ],
   "source": [
    "Eff = HDMjl.rlassoEffect(x, y, d, method = \"double selection\");\n",
    "HDMjl.r_summary(Eff);"
   ]
  },
  {
   "cell_type": "markdown",
   "metadata": {},
   "source": [
    "### 4.2. Inference: Confidence Intervals and Significance Testing. The function rlassoEffects"
   ]
  },
  {
   "cell_type": "code",
   "execution_count": 1092,
   "metadata": {},
   "outputs": [],
   "source": [
    "# using Random, Distributions, PrettyTables, DataFrames\n",
    "# Random.seed!(1234);\n",
    "# n = 100;\n",
    "# p = 100;\n",
    "# s = 3;\n",
    "# x = randn(n, p);\n",
    "# beta = vcat(fill(3, s), zeros(p - s));\n",
    "# y =1 .+ x * beta + randn(n);"
   ]
  },
  {
   "cell_type": "code",
   "execution_count": 1170,
   "metadata": {},
   "outputs": [
    {
     "name": "stderr",
     "output_type": "stream",
     "text": [
      "WARNING: replacing module HDMjl.\n"
     ]
    },
    {
     "data": {
      "text/plain": [
       "Main.HDMjl"
      ]
     },
     "metadata": {},
     "output_type": "display_data"
    }
   ],
   "source": [
    "include(\"E:/causal_ml/hdm_paper/prueba/HDMjl.jl/src/HDMjl.jl\")"
   ]
  },
  {
   "cell_type": "code",
   "execution_count": 357,
   "metadata": {},
   "outputs": [],
   "source": [
    "using CSV\n",
    "url = \"https://raw.githubusercontent.com/d2cml-ai/HDMjl.jl/prueba/data/4_2.csv\"\n",
    "data = DataFrame(CSV.read(download(url), DataFrame));\n",
    "n, p = size(data);\n",
    "y = data[:,1];\n",
    "#d = dta[:,\"d\"];\n",
    "x = Matrix(data[:,2:end]);"
   ]
  },
  {
   "cell_type": "code",
   "execution_count": 358,
   "metadata": {},
   "outputs": [],
   "source": [
    "lasso_effects = HDMjl.rlassoEffects(x, y, index = [1,2,3,50]);"
   ]
  },
  {
   "cell_type": "code",
   "execution_count": 360,
   "metadata": {},
   "outputs": [
    {
     "name": "stdout",
     "output_type": "stream",
     "text": [
      "Coefficients:\n",
      "\n",
      " \u001b[1m    X1     \u001b[0m \u001b[1m    X2     \u001b[0m \u001b[1m    X3     \u001b[0m \u001b[1m    X50    \u001b[0m\n",
      "\n",
      "   2.9445      3.0413      2.9754       0.072\n"
     ]
    }
   ],
   "source": [
    "HDMjl.r_print(lasso_effects, digits = 4)"
   ]
  },
  {
   "cell_type": "code",
   "execution_count": 1180,
   "metadata": {},
   "outputs": [
    {
     "name": "stdout",
     "output_type": "stream",
     "text": [
      "Estimates and significance testing of the effect of target variables\n",
      " \u001b[1m     \u001b[0m \u001b[1m Estimate. \u001b[0m \u001b[1m Std. Error \u001b[0m \u001b[1m  t value \u001b[0m \u001b[1m     Pr(>|t|) \u001b[0m\n",
      "\n",
      " \u001b[1m  X1 \u001b[0m    2.94448    0.0881468    33.4043    1.1892e-244\n",
      " \u001b[1m  X2 \u001b[0m    3.04127     0.083891    36.2527    9.0141e-288\n",
      " \u001b[1m  X3 \u001b[0m     2.9754    0.0780394     38.127   4.58085e-318\n",
      " \u001b[1m X50 \u001b[0m  0.0719553    0.0776455   0.926716       0.354074\n",
      "---\n",
      "Signif. codes:\n",
      "0 '***' 0.001 '**' 0.01 '*' 0.05 '.' 0.1 ' ' 1\n"
     ]
    }
   ],
   "source": [
    "HDMjl.r_summary(lasso_effects);"
   ]
  },
  {
   "cell_type": "code",
   "execution_count": 1179,
   "metadata": {},
   "outputs": [
    {
     "name": "stdout",
     "output_type": "stream",
     "text": [
      " \u001b[1m     \u001b[0m \u001b[1m       2.5% \u001b[0m \u001b[1m    97.5% \u001b[0m\n",
      "\n",
      " \u001b[1m  X1 \u001b[0m     2.77171    3.11724\n",
      " \u001b[1m  X2 \u001b[0m     2.87685     3.2057\n",
      " \u001b[1m  X3 \u001b[0m     2.82245    3.12836\n",
      " \u001b[1m X50 \u001b[0m  -0.0802271   0.224138\n"
     ]
    }
   ],
   "source": [
    "HDMjl.r_confint(lasso_effects);"
   ]
  },
  {
   "cell_type": "code",
   "execution_count": 1186,
   "metadata": {},
   "outputs": [
    {
     "name": "stdout",
     "output_type": "stream",
     "text": [
      " \u001b[1m     \u001b[0m \u001b[1m      2.5% \u001b[0m \u001b[1m    97.5% \u001b[0m\n",
      "\n",
      " \u001b[1m  X1 \u001b[0m    2.72895    3.16001\n",
      " \u001b[1m  X2 \u001b[0m    2.83806    3.24448\n",
      " \u001b[1m  X3 \u001b[0m     2.7842     3.1666\n",
      " \u001b[1m X50 \u001b[0m  -0.114585   0.258496\n"
     ]
    }
   ],
   "source": [
    "HDMjl.r_confint(lasso_effects, joint = true);"
   ]
  },
  {
   "cell_type": "markdown",
   "metadata": {},
   "source": [
    "### 4.3. Application: the effect of gender on wage"
   ]
  },
  {
   "cell_type": "code",
   "execution_count": 18,
   "metadata": {},
   "outputs": [
    {
     "name": "stderr",
     "output_type": "stream",
     "text": [
      "WARNING: replacing module HDMjl.\n"
     ]
    },
    {
     "data": {
      "text/plain": [
       "Main.HDMjl"
      ]
     },
     "metadata": {},
     "output_type": "display_data"
    }
   ],
   "source": [
    "include(\"E:/causal_ml/hdm_paper/prueba/HDMjl.jl/src/HDMjl.jl\")"
   ]
  },
  {
   "cell_type": "code",
   "execution_count": 127,
   "metadata": {},
   "outputs": [
    {
     "data": {
      "text/plain": [
       "(29217, 23)"
      ]
     },
     "metadata": {},
     "output_type": "display_data"
    }
   ],
   "source": [
    "url = \"https://github.com/cran/hdm/raw/master/data/cps2012.rda\"\n",
    "cps2012 = load(download(url))[\"cps2012\"];\n",
    "n, p = size(cps2012);\n",
    "size(cps2012)"
   ]
  },
  {
   "cell_type": "code",
   "execution_count": 380,
   "metadata": {},
   "outputs": [
    {
     "name": "stdout",
     "output_type": "stream",
     "text": [
      "(29217, 116)"
     ]
    }
   ],
   "source": [
    "x_formula = @formula(lnw ~ -1 + female + female*widowed + female*divorced + female*separated + female*nevermarried +\n",
    "                    female*hsd08 + female*hsd911 + female*hsg + female*cg + female*ad + female*mw + female*so + female*we + female*exp1 + female*exp2 + female*exp3)\n",
    "x_dframe = ModelFrame( x_formula, cps2012)\n",
    "x1 = ModelMatrix(x_dframe)\n",
    "X = x1.m[:,Not(1:16)];\n",
    "X = hcat(x1.m[:,1:16], X)\n",
    "size(X)\n",
    "fom_1 =     [\"widowed\", \"divorced\", \"separated\", \"nevermarried\", \"hsd08\", \"hsd911\", \"hsg\", \"cg\", \"ad\", \"mw\", \"so\",\n",
    "            \"we\", \"exp1\", \"exp2\", \"exp3\"];\n",
    "data = cps2012[:,fom_1];\n",
    "sub_data = ones(size(data)[1])\n",
    "for i in 1:size(data)[2]\n",
    "    if i <= (size(data)[2] -1)\n",
    "        sub_data = hcat(sub_data, Matrix(data[:, i] .* data[:, Not(1:i)]) )\n",
    "    end\n",
    "end\n",
    "sub_data = sub_data[:,2:end]\n",
    "size(sub_data)\n",
    "x = hcat(X, sub_data)\n",
    "size(x)\n",
    "filter = var.(eachcol(x)) .!= 0\n",
    "x = x[:,filter]\n",
    "print(size(x))\n",
    "index_gender = [1,17,18,19,20,21,22,23,24,25,26,27,28,29,30,31];\n",
    "y = cps2012.lnw;\n",
    ";"
   ]
  },
  {
   "cell_type": "code",
   "execution_count": 389,
   "metadata": {},
   "outputs": [],
   "source": [
    "effects_female = HDMjl.rlassoEffects(x, y, index = index_gender);"
   ]
  },
  {
   "cell_type": "code",
   "execution_count": 390,
   "metadata": {},
   "outputs": [
    {
     "name": "stdout",
     "output_type": "stream",
     "text": [
      "Estimates and significance testing of the effect of target variables\n",
      " \u001b[1m     \u001b[0m \u001b[1m   Estimate. \u001b[0m \u001b[1m Std. Error \u001b[0m \u001b[1m    t value \u001b[0m \u001b[1m    Pr(>|t|) \u001b[0m\n",
      "\n",
      " \u001b[1m  X1 \u001b[0m    -0.154923    0.0501624     -3.08843    0.00201216\n",
      " \u001b[1m X17 \u001b[0m     0.136095    0.0906626      1.50112      0.133325\n",
      " \u001b[1m X18 \u001b[0m     0.136939    0.0221817      6.17353    6.6782e-10\n",
      " \u001b[1m X19 \u001b[0m    0.0233028    0.0532118     0.437925      0.661441\n",
      " \u001b[1m X20 \u001b[0m     0.186853    0.0199424      9.36966   7.27651e-21\n",
      " \u001b[1m X21 \u001b[0m    0.0278103     0.120914         0.23      0.818092\n",
      " \u001b[1m X22 \u001b[0m    -0.119335    0.0518797     -2.30023     0.0214354\n",
      " \u001b[1m X23 \u001b[0m   -0.0128898    0.0192232    -0.670533      0.502518\n",
      " \u001b[1m X24 \u001b[0m    0.0101386    0.0183265     0.553218      0.580114\n",
      " \u001b[1m X25 \u001b[0m   -0.0304637    0.0218061     -1.39703      0.162405\n",
      " \u001b[1m X26 \u001b[0m  -0.00106344    0.0191918   -0.0554112      0.955811\n",
      " \u001b[1m X27 \u001b[0m  -0.00818334    0.0193568    -0.422763      0.672468\n",
      " \u001b[1m X28 \u001b[0m  -0.00422613    0.0211684    -0.199643       0.84176\n",
      " \u001b[1m X29 \u001b[0m   0.00493526   0.00780428     0.632379      0.527139\n",
      " \u001b[1m X30 \u001b[0m    -0.159519    0.0452999     -3.52141   0.000429263\n",
      " \u001b[1m X31 \u001b[0m    0.0384506    0.0078611      4.89125    1.00199e-6\n",
      "---\n",
      "Signif. codes:\n",
      "0 '***' 0.001 '**' 0.01 '*' 0.05 '.' 0.1 ' ' 1\n"
     ]
    }
   ],
   "source": [
    "HDMjl.r_summary(effects_female);"
   ]
  },
  {
   "cell_type": "code",
   "execution_count": 399,
   "metadata": {},
   "outputs": [
    {
     "name": "stdout",
     "output_type": "stream",
     "text": [
      " \u001b[1m     \u001b[0m \u001b[1m       2.5% \u001b[0m \u001b[1m      97.5% \u001b[0m\n",
      "\n",
      " \u001b[1m  X1 \u001b[0m   -0.292471   -0.0173751\n",
      " \u001b[1m X17 \u001b[0m   -0.130276     0.402467\n",
      " \u001b[1m X18 \u001b[0m    0.075579       0.1983\n",
      " \u001b[1m X19 \u001b[0m   -0.114955      0.16156\n",
      " \u001b[1m X20 \u001b[0m    0.129983     0.243724\n",
      " \u001b[1m X21 \u001b[0m   -0.369439      0.42506\n",
      " \u001b[1m X22 \u001b[0m   -0.267141     0.028471\n",
      " \u001b[1m X23 \u001b[0m  -0.0644819    0.0387024\n",
      " \u001b[1m X24 \u001b[0m  -0.0410296    0.0613067\n",
      " \u001b[1m X25 \u001b[0m  -0.0950142    0.0340867\n",
      " \u001b[1m X26 \u001b[0m  -0.0540328     0.051906\n",
      " \u001b[1m X27 \u001b[0m  -0.0620344    0.0456677\n",
      " \u001b[1m X28 \u001b[0m   -0.064856    0.0564037\n",
      " \u001b[1m X29 \u001b[0m  -0.0162257    0.0260962\n",
      " \u001b[1m X30 \u001b[0m   -0.282576   -0.0364624\n",
      " \u001b[1m X31 \u001b[0m   0.0171196    0.0597815\n"
     ]
    }
   ],
   "source": [
    "joint_CI = HDMjl.r_confint(effects_female, 0.95, joint = true);\n",
    "joint_CI;"
   ]
  },
  {
   "cell_type": "code",
   "execution_count": 195,
   "metadata": {},
   "outputs": [],
   "source": []
  },
  {
   "cell_type": "markdown",
   "metadata": {},
   "source": [
    "### 4.4. Application: Estimation of the treatment effect in a linear model with many confounding factors"
   ]
  },
  {
   "cell_type": "code",
   "execution_count": 14,
   "metadata": {},
   "outputs": [
    {
     "name": "stderr",
     "output_type": "stream",
     "text": [
      "WARNING: replacing module HDMjl.\n"
     ]
    },
    {
     "data": {
      "text/plain": [
       "Main.HDMjl"
      ]
     },
     "metadata": {},
     "output_type": "display_data"
    }
   ],
   "source": [
    "include(\"E:/causal_ml/hdm_paper/prueba/HDMjl.jl/src/HDMjl.jl\")"
   ]
  },
  {
   "cell_type": "code",
   "execution_count": 18,
   "metadata": {},
   "outputs": [],
   "source": [
    "using GLM\n",
    "using CodecXz\n",
    "using RData\n",
    "using DataFrames\n",
    "url = \"https://github.com/cran/hdm/raw/master/data/GrowthData.rda\";\n",
    "GrowthData = load(download(url))[\"GrowthData\"];\n",
    "y = GrowthData[:, 1];\n",
    "d = GrowthData[:, 3];\n",
    "X = Matrix(GrowthData[:, Not(1, 2, 3)]);\n",
    "X_1 = Matrix(GrowthData[:, Not(1, 2)]);"
   ]
  },
  {
   "cell_type": "code",
   "execution_count": 22,
   "metadata": {},
   "outputs": [
    {
     "data": {
      "text/plain": [
       "LinearModel{GLM.LmResp{Vector{Float64}}, GLM.DensePredChol{Float64, LinearAlgebra.CholeskyPivoted{Float64, Matrix{Float64}, Vector{Int64}}}}:\n",
       "\n",
       "Coefficients:\n",
       "────────────────────────────────────────────────────────────────────────────────\n",
       "            Coef.     Std. Error       t  Pr(>|t|)      Lower 95%      Upper 95%\n",
       "────────────────────────────────────────────────────────────────────────────────\n",
       "x1    0.0          NaN            NaN       NaN     NaN            NaN\n",
       "x2   -0.0366232      0.0216873     -1.69    0.0987   -0.08039        0.0071436\n",
       "x3   -0.049561       0.0277206     -1.79    0.0810   -0.105503       0.00638146\n",
       "x4    0.0109733      0.144971       0.08    0.9400   -0.28159        0.303536\n",
       "x5   -0.61884        0.392592      -1.58    0.1225   -1.41112        0.173443\n",
       "x6    0.0          NaN            NaN       NaN     NaN            NaN\n",
       "x7    0.0653886      0.191762       0.34    0.7348   -0.321604       0.452381\n",
       "x8   -0.0130227      0.220896      -0.06    0.9533   -0.458809       0.432764\n",
       "x9    0.317601       0.136132       2.33    0.0245    0.0428751      0.592327\n",
       "x10   0.0192542      0.104553       0.18    0.8548   -0.191742       0.23025\n",
       "x11  -0.223675       0.111066      -2.01    0.0505   -0.447816       0.000465448\n",
       "x12  -0.0285525      0.172121      -0.17    0.8690   -0.375908       0.318803\n",
       "x13  -0.06466        0.110926      -0.58    0.5631   -0.288518       0.159198\n",
       "x14  -0.0827085      0.106666      -0.78    0.4425   -0.29797        0.132553\n",
       "x15  -0.00952063     0.0254533     -0.37    0.7103   -0.0608875      0.0418462\n",
       "x16   0.0          NaN            NaN       NaN     NaN            NaN\n",
       "x17   0.0785956      0.0659261      1.19    0.2399   -0.0544487      0.21164\n",
       "x18   0.0          NaN            NaN       NaN     NaN            NaN\n",
       "x19   0.0147886      0.0300756      0.49    0.6255   -0.0459065      0.0754837\n",
       "x20  -0.313055       0.27212       -1.15    0.2565   -0.862216       0.236105\n",
       "x21   0.101771       0.090829       1.12    0.2689   -0.0815298      0.285071\n",
       "x22   0.0          NaN            NaN       NaN     NaN            NaN\n",
       "x23   0.0          NaN            NaN       NaN     NaN            NaN\n",
       "x24   0.357228       0.24998        1.43    0.1604   -0.147253       0.861708\n",
       "x25  -0.287676       0.263885      -1.09    0.2819   -0.820218       0.244866\n",
       "x26  -0.134781       0.144646      -0.93    0.3568   -0.426689       0.157128\n",
       "x27   0.0          NaN            NaN       NaN     NaN            NaN\n",
       "x28  -0.0570462      0.171219      -0.33    0.7407   -0.40258        0.288487\n",
       "x29   0.0410234      0.0861237      0.48    0.6363   -0.132781       0.214828\n",
       "x30   0.0122654      0.0897691      0.14    0.8920   -0.168896       0.193427\n",
       "x31   0.0          NaN            NaN       NaN     NaN            NaN\n",
       "x32   0.00856028     0.0183311      0.47    0.6429   -0.0284333      0.0455539\n",
       "x33  -0.0141407      0.0214721     -0.66    0.5138   -0.0574733      0.0291918\n",
       "x34   0.0          NaN            NaN       NaN     NaN            NaN\n",
       "x35  -0.0401447      0.0489759     -0.82    0.4170   -0.138982       0.0586928\n",
       "x36   0.0406806      0.0523095      0.78    0.4411   -0.0648842      0.146245\n",
       "x37   0.0          NaN            NaN       NaN     NaN            NaN\n",
       "x38   0.0          NaN            NaN       NaN     NaN            NaN\n",
       "x39   0.0          NaN            NaN       NaN     NaN            NaN\n",
       "x40  -0.0438831      0.0354963     -1.24    0.2232   -0.115518       0.0277514\n",
       "x41   0.0198653      0.0177205      1.12    0.2686   -0.0158962      0.0556268\n",
       "x42   0.0237951      0.018077       1.32    0.1952   -0.0126858      0.0602759\n",
       "x43  -0.0245828      0.0246516     -1.00    0.3244   -0.0743318      0.0251662\n",
       "x44  -2.58955e-8     1.06384e-7    -0.24    0.8089   -2.40586e-7     1.88795e-7\n",
       "x45   0.0634478      0.134926       0.47    0.6406   -0.208844       0.33574\n",
       "x46  -0.111512       0.33659       -0.33    0.7421   -0.790778       0.567755\n",
       "x47   0.0          NaN            NaN       NaN     NaN            NaN\n",
       "x48  -0.0673765      0.230006      -0.29    0.7710   -0.531548       0.396795\n",
       "x49   0.0348377      0.112888       0.31    0.7591   -0.192979       0.262654\n",
       "x50   0.0306221      0.11848        0.26    0.7973   -0.208481       0.269725\n",
       "x51   0.114321       0.447811       0.26    0.7997   -0.789399       1.01804\n",
       "x52  -0.0403413      0.217537      -0.19    0.8538   -0.479349       0.398666\n",
       "x53  -0.0794911      0.229381      -0.35    0.7307   -0.542401       0.383419\n",
       "x54   0.0          NaN            NaN       NaN     NaN            NaN\n",
       "x55  -0.113094       0.133428      -0.85    0.4015   -0.382363       0.156175\n",
       "x56   0.231347       0.201217       1.15    0.2568   -0.174726       0.637419\n",
       "x57   2.00279e-5     0.000732672    0.03    0.9783   -0.00145856     0.00149862\n",
       "x58   0.000279117    0.00108839     0.26    0.7989   -0.00191734     0.00247558\n",
       "x59  -0.311523       0.18417       -1.69    0.0982   -0.683194       0.0601472\n",
       "x60   0.298687       0.18672        1.60    0.1172   -0.0781284      0.675503\n",
       "x61  -3.25316e-5     4.94833e-5    -0.66    0.5145   -0.000132393    6.73298e-5\n",
       "x62  -0.0515082      0.0905298     -0.57    0.5724   -0.234205       0.131188\n",
       "────────────────────────────────────────────────────────────────────────────────\n"
      ]
     },
     "metadata": {},
     "output_type": "display_data"
    }
   ],
   "source": [
    "ls_effect = lm(hcat(ones(length(y)), X_1), y)"
   ]
  },
  {
   "cell_type": "code",
   "execution_count": 1158,
   "metadata": {},
   "outputs": [],
   "source": [
    "lasso_effect = HDMjl.rlassoEffect(X, y, d, method = \"partialling out\");"
   ]
  },
  {
   "cell_type": "code",
   "execution_count": 1163,
   "metadata": {},
   "outputs": [
    {
     "name": "stdout",
     "output_type": "stream",
     "text": [
      "Coefficients:\n",
      "\n",
      " \u001b[1m       1 \u001b[0m\n",
      "\n",
      "  -0.0498\n"
     ]
    }
   ],
   "source": [
    "HDMjl.r_print(lasso_effect,  digits = 4)"
   ]
  },
  {
   "cell_type": "code",
   "execution_count": 13,
   "metadata": {},
   "outputs": [
    {
     "name": "stdout",
     "output_type": "stream",
     "text": [
      "Estimates and significance testing of the effect of target variables\n",
      " \u001b[1m Row \u001b[0m \u001b[1m  Estimate. \u001b[0m \u001b[1m Std. Error \u001b[0m \u001b[1m  t value \u001b[0m \u001b[1m    Pr(>|t|) \u001b[0m\n",
      "\n",
      "    1   -0.0498115    0.0139364   -3.57421   0.000351288\n",
      "---\n",
      "Signif. codes:\n",
      "0 '***' 0.001 '**' 0.01 '*' 0.05 '.' 0.1 ' ' 1\n"
     ]
    }
   ],
   "source": [
    "HDMjl.r_summary(lasso_effect);"
   ]
  },
  {
   "cell_type": "code",
   "execution_count": 14,
   "metadata": {},
   "outputs": [],
   "source": [
    "doublesel_effect = HDMjl.rlassoEffect(X, y, d, method = \"double selection\");"
   ]
  },
  {
   "cell_type": "code",
   "execution_count": 20,
   "metadata": {},
   "outputs": [
    {
     "name": "stdout",
     "output_type": "stream",
     "text": [
      "Coefficients:\n",
      "\n",
      " \u001b[1m        1 \u001b[0m\n",
      "\n",
      "  -0.05001\n"
     ]
    }
   ],
   "source": [
    "HDMjl.r_print(doublesel_effect, 5)"
   ]
  },
  {
   "cell_type": "code",
   "execution_count": 22,
   "metadata": {},
   "outputs": [
    {
     "name": "stdout",
     "output_type": "stream",
     "text": [
      "Estimates and significance testing of the effect of target variables\n",
      " \u001b[1m Row \u001b[0m \u001b[1m  Estimate. \u001b[0m \u001b[1m Std. Error \u001b[0m \u001b[1m  t value \u001b[0m \u001b[1m   Pr(>|t|) \u001b[0m\n",
      "\n",
      "    1   -0.0500059    0.0157914   -3.16666   0.00154203\n",
      "---\n",
      "Signif. codes:\n",
      "0 '***' 0.001 '**' 0.01 '*' 0.05 '.' 0.1 ' ' 1\n"
     ]
    }
   ],
   "source": [
    "HDMjl.r_summary(doublesel_effect);"
   ]
  },
  {
   "cell_type": "code",
   "execution_count": 1169,
   "metadata": {},
   "outputs": [
    {
     "data": {
      "text/plain": [
       "LinearModel{GLM.LmResp{Vector{Float64}}, GLM.DensePredChol{Float64, CholeskyPivoted{Float64, Matrix{Float64}, Vector{Int64}}}}:\n",
       "\n",
       "Coefficients:\n",
       "────────────────────────────────────────────────────────────────────────────\n",
       "           Coef.    Std. Error       t  Pr(>|t|)     Lower 95%     Upper 95%\n",
       "────────────────────────────────────────────────────────────────────────────\n",
       "x1   -0.0515095     0.0134834    -3.82    0.0003   -0.0785095    -0.0245095\n",
       "x2   -0.0698222     0.0222899    -3.13    0.0027   -0.114457     -0.0251875\n",
       "x3    0.144115      0.0817989     1.76    0.0835   -0.019685      0.307914\n",
       "x4   -0.549012      0.33678      -1.63    0.1086   -1.2234        0.125378\n",
       "x5    0.0         NaN           NaN       NaN     NaN           NaN\n",
       "x6   -0.00178011    0.16532      -0.01    0.9914   -0.332827      0.329267\n",
       "x7   -0.0499058     0.19071      -0.26    0.7945   -0.431796      0.331984\n",
       "x8    0.344992      0.118384      2.91    0.0051    0.107931      0.582052\n",
       "x9   -0.0276954     0.0967556    -0.29    0.7757   -0.221445      0.166054\n",
       "x10  -0.191668      0.0974433    -1.97    0.0541   -0.386795      0.00345863\n",
       "x11  -0.0617711     0.153902     -0.40    0.6897   -0.369954      0.246412\n",
       "x12  -0.0199024     0.101637     -0.20    0.8454   -0.223427      0.183622\n",
       "x13  -0.0329039     0.0960136    -0.34    0.7331   -0.225168      0.15936\n",
       "x14  -0.0292139     0.0209751    -1.39    0.1691   -0.0712158     0.0127879\n",
       "x15   1.00723       0.42872       2.35    0.0223    0.148738      1.86573\n",
       "x16   0.0935241     0.0284037     3.29    0.0017    0.0366466     0.150402\n",
       "x17   0.0         NaN           NaN       NaN     NaN           NaN\n",
       "x18   0.0231697     0.0203674     1.14    0.2601   -0.0176153     0.0639547\n",
       "x19  -0.898484      0.378689     -2.37    0.0211   -1.6568       -0.140171\n",
       "x20   0.106289      0.0709861     1.50    0.1398   -0.0358584     0.248436\n",
       "x21   0.0         NaN           NaN       NaN     NaN           NaN\n",
       "x22   0.0         NaN           NaN       NaN     NaN           NaN\n",
       "x23   0.566105      0.20177       2.81    0.0069    0.162067      0.970142\n",
       "x24  -0.291019      0.248987     -1.17    0.2473   -0.789607      0.207569\n",
       "x25  -0.0611354     0.126924     -0.48    0.6319   -0.315296      0.193025\n",
       "x26   0.0         NaN           NaN       NaN     NaN           NaN\n",
       "x27  -0.00073184    0.13671      -0.01    0.9957   -0.274489      0.273026\n",
       "x28  -0.00117443    0.0656851    -0.02    0.9858   -0.132707      0.130358\n",
       "x29   0.00512217    0.0725344     0.07    0.9439   -0.140125      0.15037\n",
       "x30   0.0         NaN           NaN       NaN     NaN           NaN\n",
       "x31   0.013586      0.00993516    1.37    0.1768   -0.00630877    0.0334808\n",
       "x32  -0.0169288     0.0119869    -1.41    0.1633   -0.0409322     0.00707452\n",
       "x33   0.0         NaN           NaN       NaN     NaN           NaN\n",
       "x34  -0.00277954    0.0154127    -0.18    0.8575   -0.033643      0.0280839\n",
       "x35   0.00440392    0.0165118     0.27    0.7907   -0.0286605     0.0374683\n",
       "x36   0.0         NaN           NaN       NaN     NaN           NaN\n",
       "x37   0.0         NaN           NaN       NaN     NaN           NaN\n",
       "x38   0.0         NaN           NaN       NaN     NaN           NaN\n",
       "x39  -0.0438025     0.0252029    -1.74    0.0876   -0.0942704     0.00666544\n",
       "x40   0.020849      0.0124995     1.67    0.1008   -0.0041807     0.0458788\n",
       "x41   0.0227094     0.0128426     1.77    0.0824   -0.00300744    0.0484262\n",
       "x42  -0.0248346     0.0218271    -1.14    0.2600   -0.0685426     0.0188735\n",
       "x43  -8.29688e-8    8.04977e-8   -1.03    0.3070   -2.44163e-7    7.82252e-8\n",
       "────────────────────────────────────────────────────────────────────────────\n"
      ]
     },
     "metadata": {},
     "output_type": "display_data"
    }
   ],
   "source": [
    "ls_effect = lm(X_1[:,1:43], y)"
   ]
  },
  {
   "cell_type": "code",
   "execution_count": null,
   "metadata": {},
   "outputs": [],
   "source": []
  },
  {
   "cell_type": "markdown",
   "metadata": {},
   "source": [
    "## 5. Instrumental Variable Estimation in a High-Dimensional Setting"
   ]
  },
  {
   "cell_type": "code",
   "execution_count": null,
   "metadata": {},
   "outputs": [],
   "source": []
  },
  {
   "cell_type": "markdown",
   "metadata": {},
   "source": [
    "### 5.2. Application: Economic Development and Institutions."
   ]
  },
  {
   "cell_type": "code",
   "execution_count": 19,
   "metadata": {},
   "outputs": [],
   "source": [
    "using RDatasets, TexTables, LinearAlgebra, GLM"
   ]
  },
  {
   "cell_type": "code",
   "execution_count": 4,
   "metadata": {},
   "outputs": [
    {
     "name": "stderr",
     "output_type": "stream",
     "text": [
      "WARNING: replacing module HDMjl.\n"
     ]
    },
    {
     "data": {
      "text/plain": [
       "Main.HDMjl"
      ]
     },
     "metadata": {},
     "output_type": "display_data"
    }
   ],
   "source": [
    "include(\"E:/causal_ml/hdm_paper/prueba/HDMjl.jl/src/HDMjl.jl\")"
   ]
  },
  {
   "cell_type": "code",
   "execution_count": 5,
   "metadata": {},
   "outputs": [
    {
     "data": {
      "text/plain": [
       "(64, 21)"
      ]
     },
     "metadata": {},
     "output_type": "display_data"
    }
   ],
   "source": [
    "using Statistics, StatsModels, RData\n",
    "url = \"https://github.com/cran/hdm/raw/master/data/AJR.rda\";\n",
    "AJR = load(download(url))[\"AJR\"];\n",
    "y = AJR[!,\"GDP\"]\n",
    "d = AJR[!,\"Exprop\"]\n",
    "z = AJR[!,\"logMort\"];\n",
    "x_formula = @formula(GDP ~ -1 + Latitude + Latitude2 + Africa + Asia + Namer + Samer\n",
    "    + Latitude*Latitude2 + Latitude*Africa + Latitude*Asia + Latitude*Namer + Latitude*Samer\n",
    "    + Latitude2*Africa + Latitude2*Asia + Latitude2*Namer + Latitude2*Samer\n",
    "    + Africa*Asia + Africa*Namer + Africa*Samer\n",
    "    + Asia*Namer + Asia*Samer\n",
    "    + Namer*Samer)\n",
    "x_dframe = ModelFrame( x_formula, AJR)\n",
    "x1 = ModelMatrix(x_dframe)\n",
    "x = x1.m\n",
    "size(x)"
   ]
  },
  {
   "cell_type": "code",
   "execution_count": 15,
   "metadata": {},
   "outputs": [],
   "source": [
    "AJR_Xselect  = HDMjl.rlassoIV(x, d, y, z, select_X=true, select_Z=false);"
   ]
  },
  {
   "cell_type": "code",
   "execution_count": 16,
   "metadata": {},
   "outputs": [
    {
     "name": "stdout",
     "output_type": "stream",
     "text": [
      "Coefficients:\n",
      "\n",
      " \u001b[1m     d1     \u001b[0m\n",
      "\n",
      "    0.845\n"
     ]
    }
   ],
   "source": [
    "HDMjl.r_print(AJR_Xselect)"
   ]
  },
  {
   "cell_type": "code",
   "execution_count": 20,
   "metadata": {},
   "outputs": [
    {
     "name": "stdout",
     "output_type": "stream",
     "text": [
      "Estimates and Significance Testing of the effect of target variables in the IV regression model\n",
      " \u001b[1m    \u001b[0m \u001b[1m   coeff. \u001b[0m \u001b[1m      se. \u001b[0m \u001b[1m t-value \u001b[0m \u001b[1m    p-value \u001b[0m\n",
      "\n",
      "  d1   0.845027   0.269926   3.13059   0.00174458\n",
      "---\n",
      "Signif. codes:\n",
      "0 '***' 0.001 '**' 0.01 '*' 0.05 '.' 0.1 ' ' 1"
     ]
    },
    {
     "name": "stdout",
     "output_type": "stream",
     "text": [
      "\n"
     ]
    }
   ],
   "source": [
    "HDMjl.r_summary(AJR_Xselect);"
   ]
  },
  {
   "cell_type": "code",
   "execution_count": 9,
   "metadata": {},
   "outputs": [
    {
     "name": "stdout",
     "output_type": "stream",
     "text": [
      " \u001b[1m    \u001b[0m \u001b[1m     2.5% \u001b[0m \u001b[1m   97.5% \u001b[0m\n",
      "\n",
      "  d1   0.315981   1.37407\n"
     ]
    }
   ],
   "source": [
    "HDMjl.r_confint(AJR_Xselect);"
   ]
  },
  {
   "cell_type": "code",
   "execution_count": 21,
   "metadata": {},
   "outputs": [],
   "source": [
    "rY_1 = lm(hcat(ones(length(y)), Matrix(AJR[:,3:end])), y);\n",
    "rY = y - predict(rY_1)\n",
    "rD_1 = lm(hcat(ones(length(y)), Matrix(AJR[:,3:end])), d);\n",
    "rD = d - predict(rD_1);\n",
    "rZ_1 = lm(hcat(ones(length(y)), Matrix(AJR[:,3:end])), z);\n",
    "rZ = z - predict(rZ_1);"
   ]
  },
  {
   "cell_type": "code",
   "execution_count": 22,
   "metadata": {},
   "outputs": [],
   "source": [
    "rY_1 = lm(@formula(GDP ~ Latitude + Latitude2 + Africa + Asia + Namer + Samer + Latitude*Latitude2 + Latitude*Africa + Latitude*Asia + Latitude*Namer + Latitude*Samer\n",
    "          + Latitude2*Africa + Latitude2*Asia + Latitude2*Namer + Latitude2*Samer + Africa*Asia + Africa*Namer + Africa*Samer\n",
    "          + Asia*Namer + Asia*Samer + Namer*Samer), AJR)\n",
    "rY = y - predict(rY_1)\n",
    "\n",
    "rD_1 = lm(@formula(Exprop ~ Latitude + Latitude2 + Africa + Asia + Namer + Samer + Latitude*Latitude2 + Latitude*Africa + Latitude*Asia + Latitude*Namer + Latitude*Samer\n",
    "          + Latitude2*Africa + Latitude2*Asia + Latitude2*Namer + Latitude2*Samer + Africa*Asia + Africa*Namer + Africa*Samer\n",
    "          + Asia*Namer + Asia*Samer + Namer*Samer), AJR)\n",
    "rD = d - predict(rD_1)\n",
    "\n",
    "rZ_1 = lm(@formula(logMort ~ Latitude + Latitude2 + Africa + Asia + Namer + Samer + Latitude*Latitude2 + Latitude*Africa + Latitude*Asia + Latitude*Namer + Latitude*Samer\n",
    "          + Latitude2*Africa + Latitude2*Asia + Latitude2*Namer + Latitude2*Samer + Africa*Asia + Africa*Namer + Africa*Samer\n",
    "          + Asia*Namer + Asia*Samer + Namer*Samer), AJR)\n",
    "rZ = z - predict(rZ_1);"
   ]
  },
  {
   "cell_type": "code",
   "execution_count": 23,
   "metadata": {},
   "outputs": [
    {
     "data": {
      "text/html": [
       "<div class=\"data-frame\"><p>1 rows × 2 columns</p><table class=\"data-frame\"><thead><tr><th></th><th>Estimate</th><th>Std_Error</th></tr><tr><th></th><th title=\"Float64\">Float64</th><th title=\"Float64\">Float64</th></tr></thead><tbody><tr><th>1</th><td>1.26721</td><td>1.73054</td></tr></tbody></table></div>"
      ],
      "text/latex": [
       "\\begin{tabular}{r|cc}\n",
       "\t& Estimate & Std\\_Error\\\\\n",
       "\t\\hline\n",
       "\t& Float64 & Float64\\\\\n",
       "\t\\hline\n",
       "\t1 & 1.26721 & 1.73054 \\\\\n",
       "\\end{tabular}\n"
      ],
      "text/plain": [
       "\u001b[1m1×2 DataFrame\u001b[0m\n",
       "\u001b[1m Row \u001b[0m│\u001b[1m Estimate \u001b[0m\u001b[1m Std_Error \u001b[0m\n",
       "\u001b[1m     \u001b[0m│\u001b[90m Float64  \u001b[0m\u001b[90m Float64   \u001b[0m\n",
       "─────┼─────────────────────\n",
       "   1 │  1.26721    1.73054"
      ]
     },
     "metadata": {},
     "output_type": "display_data"
    }
   ],
   "source": [
    "ivfit_lm = HDMjl.tsls(rD, rY, rZ, nothing, intercept=false)\n",
    "DataFrame(Estimate = ivfit_lm[\"coefficients\"][1,2], Std_Error = ivfit_lm[\"se\"])"
   ]
  },
  {
   "cell_type": "code",
   "execution_count": 24,
   "metadata": {},
   "outputs": [],
   "source": [
    "x_formula1 = @formula(GDP ~ Latitude + Latitude2 + Africa + Asia + Namer + Samer\n",
    "    + Latitude*Latitude2 + Latitude*Africa + Latitude*Asia + Latitude*Namer + Latitude*Samer\n",
    "    + Latitude2*Africa + Latitude2*Asia + Latitude2*Namer + Latitude2*Samer\n",
    "    + Africa*Asia + Africa*Namer + Africa*Samer\n",
    "    + Asia*Namer + Asia*Samer\n",
    "    + Namer*Samer)\n",
    "x_dframe1 = ModelFrame( x_formula, AJR)\n",
    "x1_1 = ModelMatrix(x_dframe)\n",
    "xx = x1.m;"
   ]
  },
  {
   "cell_type": "code",
   "execution_count": 35,
   "metadata": {},
   "outputs": [
    {
     "data": {
      "text/html": [
       "<div class=\"data-frame\"><p>1 rows × 2 columns</p><table class=\"data-frame\"><thead><tr><th></th><th>Estimate</th><th>Std_Error</th></tr><tr><th></th><th title=\"Float64\">Float64</th><th title=\"Float64\">Float64</th></tr></thead><tbody><tr><th>1</th><td>0.845027</td><td>0.272094</td></tr></tbody></table></div>"
      ],
      "text/latex": [
       "\\begin{tabular}{r|cc}\n",
       "\t& Estimate & Std\\_Error\\\\\n",
       "\t\\hline\n",
       "\t& Float64 & Float64\\\\\n",
       "\t\\hline\n",
       "\t1 & 0.845027 & 0.272094 \\\\\n",
       "\\end{tabular}\n"
      ],
      "text/plain": [
       "\u001b[1m1×2 DataFrame\u001b[0m\n",
       "\u001b[1m Row \u001b[0m│\u001b[1m Estimate \u001b[0m\u001b[1m Std_Error \u001b[0m\n",
       "\u001b[1m     \u001b[0m│\u001b[90m Float64  \u001b[0m\u001b[90m Float64   \u001b[0m\n",
       "─────┼─────────────────────\n",
       "   1 │ 0.845027   0.272094"
      ]
     },
     "metadata": {},
     "output_type": "display_data"
    }
   ],
   "source": [
    "rY_1 = HDMjl.rlasso(xx, y);\n",
    "rY = rY_1[\"residuals\"]\n",
    "rD_1 = HDMjl.rlasso(xx, d);\n",
    "rD = rD_1[\"residuals\"]\n",
    "rZ_1 = HDMjl.rlasso(xx, z);\n",
    "rZ = rZ_1[\"residuals\"]\n",
    "\n",
    "ivfit_lasso = HDMjl.tsls(rD, rY, rZ)\n",
    "DataFrame(Estimate = ivfit_lasso[\"coefficients\"][1,2], Std_Error = ivfit_lasso[\"se\"][1])"
   ]
  },
  {
   "cell_type": "markdown",
   "metadata": {},
   "source": [
    "### 5.3. Application: Impact of Eminent Domain Decisions on Economic Outcomes."
   ]
  },
  {
   "cell_type": "code",
   "execution_count": 67,
   "metadata": {},
   "outputs": [],
   "source": [
    "using Crayons, Distributions, GLM"
   ]
  },
  {
   "cell_type": "code",
   "execution_count": 136,
   "metadata": {},
   "outputs": [
    {
     "name": "stderr",
     "output_type": "stream",
     "text": [
      "WARNING: replacing module HDMjl.\n"
     ]
    },
    {
     "data": {
      "text/plain": [
       "Main.HDMjl"
      ]
     },
     "metadata": {},
     "output_type": "display_data"
    }
   ],
   "source": [
    "include(\"E:/causal_ml/hdm_paper/prueba/HDMjl.jl/src/HDMjl.jl\")"
   ]
  },
  {
   "cell_type": "code",
   "execution_count": 137,
   "metadata": {},
   "outputs": [],
   "source": [
    "using Statistics, GLM\n",
    "url = \"https://github.com/cran/hdm/raw/master/data/EminentDomain.rda\";\n",
    "EminentDomain = load(download(url))[\"EminentDomain\"];\n",
    "z = EminentDomain[\"logGDP\"][\"z\"];\n",
    "x = EminentDomain[\"logGDP\"][\"x\"];\n",
    "d = EminentDomain[\"logGDP\"][\"d\"];\n",
    "y = EminentDomain[\"logGDP\"][\"y\"];\n",
    "x = x[:, (mean(x, dims = 1) .> 0.05)'];\n",
    "z = z[:, (mean(z, dims = 1) .> 0.05)'];"
   ]
  },
  {
   "cell_type": "code",
   "execution_count": 138,
   "metadata": {},
   "outputs": [],
   "source": [
    "ED_ols = lm(hcat(ones(length(vec(y))), hcat(d, x)), vec(y));\n",
    "ED_2sls = HDMjl.tsls(d, y, z[:,1:2], x, intercept = false);"
   ]
  },
  {
   "cell_type": "code",
   "execution_count": 141,
   "metadata": {},
   "outputs": [],
   "source": [
    "lasso_IV_Z = HDMjl.rlassoIV(x, d, y, z, select_X = false, select_Z = true);"
   ]
  },
  {
   "cell_type": "code",
   "execution_count": 140,
   "metadata": {},
   "outputs": [
    {
     "name": "stdout",
     "output_type": "stream",
     "text": [
      "Estimates and Significance Testing of the effect of target variables in the IV regression model\n",
      " \u001b[1m    \u001b[0m \u001b[1m   coeff. \u001b[0m \u001b[1m      se. \u001b[0m \u001b[1m t-value \u001b[0m \u001b[1m  p-value \u001b[0m\n",
      "\n",
      "  d1   0.414602   0.290249   1.42843   0.153167\n",
      "---\n",
      "Signif. codes:\n",
      "0 '***' 0.001 '**' 0.01 '*' 0.05 '.' 0.1 ' ' 1\n"
     ]
    }
   ],
   "source": [
    "HDMjl.r_summary(lasso_IV_Z);"
   ]
  },
  {
   "cell_type": "code",
   "execution_count": 142,
   "metadata": {},
   "outputs": [
    {
     "name": "stdout",
     "output_type": "stream",
     "text": [
      " \u001b[1m    \u001b[0m \u001b[1m      2.5% \u001b[0m \u001b[1m   97.5% \u001b[0m\n",
      "\n",
      "  d1   -0.154276   0.98348\n"
     ]
    }
   ],
   "source": [
    "HDMjl.r_confint(lasso_IV_Z);"
   ]
  },
  {
   "cell_type": "code",
   "execution_count": 143,
   "metadata": {},
   "outputs": [
    {
     "name": "stdout",
     "output_type": "stream",
     "text": [
      "Coefficients:\n",
      "\n",
      " \u001b[1m     d1     \u001b[0m\n",
      "\n",
      "    0.415\n"
     ]
    }
   ],
   "source": [
    "HDMjl.r_print(lasso_IV_Z)"
   ]
  },
  {
   "cell_type": "code",
   "execution_count": 144,
   "metadata": {},
   "outputs": [],
   "source": [
    "lasso_IV_XZ = HDMjl.rlassoIV(x, d, y, z, select_X = true, select_Z = true);"
   ]
  },
  {
   "cell_type": "code",
   "execution_count": 145,
   "metadata": {},
   "outputs": [
    {
     "name": "stdout",
     "output_type": "stream",
     "text": [
      "Estimates and Significance Testing of the effect of target variables in the IV regression model\n",
      " \u001b[1m    \u001b[0m \u001b[1m     coeff. \u001b[0m \u001b[1m      se. \u001b[0m \u001b[1m   t-value \u001b[0m \u001b[1m  p-value \u001b[0m\n",
      "\n",
      "  d1   -0.0238347   0.128507   -0.185475   0.852857\n",
      "---\n",
      "Signif. codes:\n",
      "0 '***' 0.001 '**' 0.01 '*' 0.05 '.' 0.1 ' ' 1\n"
     ]
    }
   ],
   "source": [
    "HDMjl.r_summary(lasso_IV_XZ);"
   ]
  },
  {
   "cell_type": "code",
   "execution_count": 146,
   "metadata": {},
   "outputs": [
    {
     "name": "stdout",
     "output_type": "stream",
     "text": [
      " \u001b[1m    \u001b[0m \u001b[1m      2.5% \u001b[0m \u001b[1m    97.5% \u001b[0m\n",
      "\n",
      "  d1   -0.275703   0.228033\n"
     ]
    }
   ],
   "source": [
    "HDMjl.r_confint(lasso_IV_XZ);"
   ]
  },
  {
   "cell_type": "code",
   "execution_count": 147,
   "metadata": {},
   "outputs": [
    {
     "name": "stdout",
     "output_type": "stream",
     "text": [
      "Coefficients:\n",
      "\n",
      " \u001b[1m     d1     \u001b[0m\n",
      "\n",
      "    -0.024\n"
     ]
    }
   ],
   "source": [
    "HDMjl.r_print(lasso_IV_XZ)"
   ]
  },
  {
   "cell_type": "code",
   "execution_count": 152,
   "metadata": {},
   "outputs": [
    {
     "name": "stdout",
     "output_type": "stream",
     "text": [
      "Estimates and Significance Testing of the effect of target variables in the IV regression model\n",
      " \u001b[1m    \u001b[0m \u001b[1m     coeff. \u001b[0m \u001b[1m      se. \u001b[0m \u001b[1m   t-value \u001b[0m \u001b[1m  p-value \u001b[0m\n",
      "\n",
      "  d1   -0.0238347   0.128507   -0.185475   0.852857\n",
      "---\n",
      "Signif. codes:\n",
      "0 '***' 0.001 '**' 0.01 '*' 0.05 '.' 0.1 ' ' 1\n"
     ]
    },
    {
     "data": {
      "text/plain": [
       "1×2 Matrix{Any}:\n",
       " -0.0238347  0.128507"
      ]
     },
     "metadata": {},
     "output_type": "display_data"
    }
   ],
   "source": [
    "Matrix(HDMjl.r_summary(lasso_IV_XZ)[:, 2:3])"
   ]
  },
  {
   "cell_type": "code",
   "execution_count": 155,
   "metadata": {},
   "outputs": [
    {
     "name": "stdout",
     "output_type": "stream",
     "text": [
      "Estimates and Significance Testing of the effect of target variables in the IV regression model\n",
      " \u001b[1m    \u001b[0m \u001b[1m   coeff. \u001b[0m \u001b[1m      se. \u001b[0m \u001b[1m t-value \u001b[0m \u001b[1m  p-value \u001b[0m\n",
      "\n",
      "  d1   0.414602   0.290249   1.42843   0.153167\n",
      "---\n",
      "Signif. codes:\n",
      "0 '***' 0.001 '**' 0.01 '*' 0.05 '.' 0.1 ' ' 1\n",
      "Estimates and Significance Testing of the effect of target variables in the IV regression model\n",
      " \u001b[1m    \u001b[0m \u001b[1m     coeff. \u001b[0m \u001b[1m      se. \u001b[0m \u001b[1m   t-value \u001b[0m \u001b[1m  p-value \u001b[0m\n",
      "\n",
      "  d1   -0.0238347   0.128507   -0.185475   0.852857\n",
      "---\n",
      "Signif. codes:\n",
      "0 '***' 0.001 '**' 0.01 '*' 0.05 '.' 0.1 ' ' 1\n"
     ]
    }
   ],
   "source": [
    "using PrettyTables\n",
    "table = zeros(4,2)\n",
    "table[1,:] = [coef(ED_ols)[2], stderror(ED_ols)[2]]\n",
    "table[2,:] = [ED_2sls[\"coefficients\"][1,2], ED_2sls[\"se\"][1]]\n",
    "table[3,:] = Matrix(HDMjl.r_summary(lasso_IV_Z)[:,2:3]);\n",
    "table[4, :] = Matrix(HDMjl.r_summary(lasso_IV_XZ)[:, 2:3]);"
   ]
  },
  {
   "cell_type": "code",
   "execution_count": 171,
   "metadata": {},
   "outputs": [
    {
     "name": "stdout",
     "output_type": "stream",
     "text": [
      "======================= ============ =============\n",
      " \u001b[1m                      \u001b[0m \u001b[1m   Estimate \u001b[0m \u001b[1m Std. Error \u001b[0m\n",
      "======================= ============ =============\n",
      "        ols regression   0.00786473   0.00986593\n",
      "        IV estimation    -0.0107097    0.0337652\n",
      "        selection on Z     0.414602     0.290249\n",
      "  selection on X and Z   -0.0238347     0.128507\n",
      "======================= ============ =============\n"
     ]
    }
   ],
   "source": [
    "# table1 = DataFrame(table, :auto)\n",
    "# table1 = rename(table1, [\"Estimate\", \"Std. Error\"])\n",
    "index = [\"ols regression\", \"IV estimation \", \"selection on Z\", \"selection on X and Z\"]\n",
    "pretty_table(hcat(index, table), show_row_number = false, header = [\" \", \"Estimate\", \"Std. Error\"], tf = tf_simple, nosubheader = true)"
   ]
  },
  {
   "cell_type": "markdown",
   "metadata": {},
   "source": [
    "## 6. Inference on Treatment Effects in a High-Dimensional Setting"
   ]
  },
  {
   "cell_type": "markdown",
   "metadata": {},
   "source": [
    "### 6.3. Application: 401(k) plan participation."
   ]
  },
  {
   "cell_type": "code",
   "execution_count": 26,
   "metadata": {},
   "outputs": [
    {
     "data": {
      "text/plain": [
       "Dict{String, Any} with 5 entries:\n",
       "  \"se\"          => 1930.68\n",
       "  \"individual\"  => [-30618.3, -57537.6, -71442.9, 21383.3, -2.32925e5, 3.40765e…\n",
       "  \"sample_size\" => 9915\n",
       "  \"te\"          => 10180.1\n",
       "  \"type\"        => \"ATE\""
      ]
     },
     "metadata": {},
     "output_type": "display_data"
    }
   ],
   "source": [
    "url = \"https://github.com/cran/hdm/raw/master/data/pension.rda\";\n",
    "pension = load(download(url))[\"pension\"];\n",
    "y = pension[:, \"tw\"];\n",
    "d = pension[:, \"p401\"];\n",
    "z = pension[:, \"e401\"];\n",
    "X = Matrix(pension[:, [\"i2\", \"i3\", \"i4\", \"i5\", \"i6\", \"i7\", \"a2\", \"a3\", \"a4\", \"a5\", \"fsize\", \"hs\", \"smcol\", \"col\", \"marr\", \"twoearn\", \"db\", \"pira\", \"hown\"]]);\n",
    "rlassoATE(X, d, y)"
   ]
  },
  {
   "cell_type": "code",
   "execution_count": 51,
   "metadata": {},
   "outputs": [
    {
     "data": {
      "text/plain": [
       "Dict{String, Any} with 5 entries:\n",
       "  \"se\"          => 2944.43\n",
       "  \"individual\"  => [-21536.4, -52877.2, -1.44867e5, -2739.29, -307741.0, 7.3912…\n",
       "  \"sample_size\" => 9915\n",
       "  \"te\"          => 12628.5\n",
       "  \"type\"        => \"ATET\""
      ]
     },
     "metadata": {},
     "output_type": "display_data"
    }
   ],
   "source": [
    "rlassoATET(X, d, y)"
   ]
  },
  {
   "cell_type": "code",
   "execution_count": 52,
   "metadata": {},
   "outputs": [
    {
     "data": {
      "text/plain": [
       "Dict{String, Any} with 5 entries:\n",
       "  \"se\"          => 2326.9\n",
       "  \"individual\"  => [-50526.8, -1.39158e5, -1.37102e5, 38508.0, -6.5644e5, 7.943…\n",
       "  \"sample_size\" => 9915\n",
       "  \"te\"          => 12992.1\n",
       "  \"type\"        => \"LATE\""
      ]
     },
     "metadata": {},
     "output_type": "display_data"
    }
   ],
   "source": [
    "rlassoLATE(X, d, y, z)"
   ]
  },
  {
   "cell_type": "code",
   "execution_count": 53,
   "metadata": {},
   "outputs": [
    {
     "data": {
      "text/plain": [
       "Dict{String, Any} with 5 entries:\n",
       "  \"se\"          => 3645.28\n",
       "  \"individual\"  => [-35580.5, -90558.0, -1.83628e5, -5303.13, -8.0766e5, 1.8866…\n",
       "  \"sample_size\" => 9915\n",
       "  \"te\"          => 15323.2\n",
       "  \"type\"        => \"LATET\""
      ]
     },
     "metadata": {},
     "output_type": "display_data"
    }
   ],
   "source": [
    "rlassoLATET(X, d, y, z)"
   ]
  },
  {
   "cell_type": "markdown",
   "metadata": {},
   "source": [
    "## 7. The Lasso Methods for Discovery of Significant Causes amongst Many Potential Causes, with Many Controls\n"
   ]
  },
  {
   "cell_type": "code",
   "execution_count": 686,
   "metadata": {},
   "outputs": [
    {
     "name": "stderr",
     "output_type": "stream",
     "text": [
      "WARNING: replacing module HDMjl.\n"
     ]
    },
    {
     "data": {
      "text/plain": [
       "Main.HDMjl"
      ]
     },
     "metadata": {},
     "output_type": "display_data"
    }
   ],
   "source": [
    "include(\"E:/causal_ml/hdm_paper/prueba/HDMjl.jl/src/HDMjl.jl\")"
   ]
  },
  {
   "cell_type": "code",
   "execution_count": 173,
   "metadata": {},
   "outputs": [],
   "source": [
    "using CSV\n",
    "url = \"https://raw.githubusercontent.com/d2cml-ai/HDMjl.jl/prueba/data/7_.csv\"\n",
    "data = DataFrame(CSV.read(download(url), DataFrame));\n",
    "n, p = size(data);\n",
    "p1 = 20;\n",
    "X = data[:,2:end]\n",
    "Y = data[:,1];"
   ]
  },
  {
   "cell_type": "code",
   "execution_count": 178,
   "metadata": {},
   "outputs": [
    {
     "name": "stdout",
     "output_type": "stream",
     "text": [
      " \u001b[1m     \u001b[0m \u001b[1m       2.5% \u001b[0m \u001b[1m    97.5% \u001b[0m\n",
      "\n",
      " \u001b[1m  X1 \u001b[0m     4.50675    5.22214\n",
      " \u001b[1m  X2 \u001b[0m   -0.321224   0.311879\n",
      " \u001b[1m  X3 \u001b[0m   -0.358448   0.192826\n",
      " \u001b[1m  X4 \u001b[0m   -0.260307   0.293453\n",
      " \u001b[1m  X5 \u001b[0m    -0.28277   0.282461\n",
      " \u001b[1m  X6 \u001b[0m   -0.328361    0.30112\n",
      " \u001b[1m  X7 \u001b[0m   -0.232153   0.306844\n",
      " \u001b[1m  X8 \u001b[0m  -0.0531874   0.479497\n",
      " \u001b[1m  X9 \u001b[0m   -0.193021   0.396693\n",
      " \u001b[1m X10 \u001b[0m   -0.242849   0.269725\n",
      " \u001b[1m X11 \u001b[0m   -0.320578   0.215327\n",
      " \u001b[1m X12 \u001b[0m   -0.315627   0.272158\n",
      " \u001b[1m X13 \u001b[0m   -0.180324   0.382993\n",
      " \u001b[1m X14 \u001b[0m   -0.331511    0.39337\n",
      " \u001b[1m X15 \u001b[0m   -0.329087   0.320235\n",
      " \u001b[1m X16 \u001b[0m   -0.271623   0.337679\n",
      " \u001b[1m X17 \u001b[0m   -0.185883   0.423636\n",
      " \u001b[1m X18 \u001b[0m   -0.373985    0.05162\n",
      " \u001b[1m X19 \u001b[0m    -0.11292   0.399297\n",
      " \u001b[1m X20 \u001b[0m   -0.220993   0.260713\n"
     ]
    }
   ],
   "source": [
    "HDMjl.r_confint(HDMjl.rlassoEffects(X, Y, index = [1:p1;]), joint = true);"
   ]
  },
  {
   "cell_type": "code",
   "execution_count": 179,
   "metadata": {},
   "outputs": [],
   "source": []
  }
 ],
 "metadata": {
  "kernelspec": {
   "display_name": "Julia 1.8.1",
   "language": "julia",
   "name": "julia-1.8"
  },
  "language_info": {
   "file_extension": ".jl",
   "mimetype": "application/julia",
   "name": "julia",
   "version": "1.8.1"
  },
  "orig_nbformat": 4
 },
 "nbformat": 4,
 "nbformat_minor": 2
}
