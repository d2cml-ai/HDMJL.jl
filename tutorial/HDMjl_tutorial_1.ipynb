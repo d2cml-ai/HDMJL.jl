{
 "cells": [
  {
   "cell_type": "markdown",
   "metadata": {},
   "source": [
    "# HIGH-DIMENSIONAL METRICS IN R"
   ]
  },
  {
   "cell_type": "markdown",
   "metadata": {},
   "source": [
    "## 2. How to get started"
   ]
  },
  {
   "cell_type": "code",
   "execution_count": 1,
   "metadata": {},
   "outputs": [
    {
     "name": "stderr",
     "output_type": "stream",
     "text": [
      "\u001b[32m\u001b[1m    Updating\u001b[22m\u001b[39m registry at `C:\\Users\\User\\.julia\\registries\\General`"
     ]
    },
    {
     "name": "stderr",
     "output_type": "stream",
     "text": [
      "\n",
      "\u001b[32m\u001b[1m    Updating\u001b[22m\u001b[39m"
     ]
    },
    {
     "name": "stderr",
     "output_type": "stream",
     "text": [
      " git-repo `https://github.com/JuliaRegistries/General.git`\n"
     ]
    },
    {
     "name": "stderr",
     "output_type": "stream",
     "text": [
      "\u001b[32m\u001b[1m   Resolving\u001b[22m\u001b[39m package versions..."
     ]
    },
    {
     "name": "stderr",
     "output_type": "stream",
     "text": [
      "\n",
      "\u001b[32m\u001b[1m  No Changes\u001b[22m\u001b[39m to `C:\\Users\\User\\.julia\\environments\\v1.8\\Project.toml`\n",
      "\u001b[32m\u001b[1m  No Changes\u001b[22m\u001b[39m to `C:\\Users\\User\\.julia\\environments\\v1.8\\Manifest.toml`"
     ]
    },
    {
     "name": "stderr",
     "output_type": "stream",
     "text": [
      "\n"
     ]
    }
   ],
   "source": [
    "import Pkg; Pkg.add(\"HDMjl\")"
   ]
  },
  {
   "cell_type": "markdown",
   "metadata": {},
   "source": [
    "or"
   ]
  },
  {
   "cell_type": "code",
   "execution_count": 14,
   "metadata": {},
   "outputs": [
    {
     "name": "stderr",
     "output_type": "stream",
     "text": [
      "\u001b[32m\u001b[1m    Updating\u001b[22m\u001b[39m git-repo `https://github.com/d2cml-ai/HDMjl.jl`"
     ]
    },
    {
     "name": "stderr",
     "output_type": "stream",
     "text": [
      "\n"
     ]
    },
    {
     "name": "stderr",
     "output_type": "stream",
     "text": [
      "\u001b[32m\u001b[1m   Resolving\u001b[22m\u001b[39m package versions..."
     ]
    },
    {
     "name": "stderr",
     "output_type": "stream",
     "text": [
      "\n",
      "\u001b[32m\u001b[1m    Updating\u001b[22m\u001b[39m `C:\\Users\\User\\.julia\\environments\\v1.8\\Project.toml`\n",
      " \u001b[90m [8de29b41] \u001b[39m"
     ]
    },
    {
     "name": "stderr",
     "output_type": "stream",
     "text": [
      "\u001b[93m~ HDMjl v0.0.10 ⇒ v0.0.10 `https://github.com/d2cml-ai/HDMjl.jl#main`\u001b[39m\n",
      "\u001b[32m\u001b[1m    Updating\u001b[22m\u001b[39m `C:\\Users\\User\\.julia\\environments\\v1.8\\Manifest.toml`\n"
     ]
    },
    {
     "name": "stderr",
     "output_type": "stream",
     "text": [
      " \u001b[90m [8de29b41] \u001b[39m\u001b[93m~ HDMjl v0.0.10 ⇒ v0.0.10 `https://github.com/d2cml-ai/HDMjl.jl#main`\u001b[39m"
     ]
    },
    {
     "name": "stderr",
     "output_type": "stream",
     "text": [
      "\n"
     ]
    },
    {
     "name": "stderr",
     "output_type": "stream",
     "text": [
      "\u001b[32m\u001b[1mPrecompiling\u001b[22m\u001b[39m"
     ]
    },
    {
     "name": "stderr",
     "output_type": "stream",
     "text": [
      " project..."
     ]
    },
    {
     "name": "stderr",
     "output_type": "stream",
     "text": [
      "\n"
     ]
    },
    {
     "name": "stderr",
     "output_type": "stream",
     "text": [
      "\u001b[33m  ✓ \u001b[39mHDMjl\n",
      "  1 dependency successfully precompiled in 17 seconds. 277 already precompiled.\n",
      "  \u001b[33m1\u001b[39m dependency precompiled but a different version is currently loaded. Restart julia to access the new version\n"
     ]
    }
   ],
   "source": [
    "import Pkg; Pkg.add(url = \"https://github.com/d2cml-ai/HDMjl.jl\")"
   ]
  },
  {
   "cell_type": "code",
   "execution_count": 42,
   "metadata": {},
   "outputs": [
    {
     "data": {
      "text/plain": [
       "Process(`\u001b[4mcmd\u001b[24m \u001b[4m/c\u001b[24m \u001b[4mstart\u001b[24m \u001b[4m'C:\\Users\\User\\AppData\\Local\\Programs\\julia-1.8.1\\bin\\julia.exe'\u001b[24m \u001b[4m-Cnative\u001b[24m \u001b[4m'-JC:\\Users\\User\\AppData\\Local\\Programs\\julia-1.8.1\\lib\\julia\\sys.dll'\u001b[24m \u001b[4m-g1\u001b[24m \u001b[4m--color=yes\u001b[24m \u001b[4m--banner=no\u001b[24m \u001b[4m-i\u001b[24m \u001b[4mmyscript.jl\u001b[24m`, ProcessExited(0))"
      ]
     },
     "metadata": {},
     "output_type": "display_data"
    }
   ],
   "source": [
    "run(`cmd /c start  $(Base.julia_cmd()) --banner=no -i myscript.jl`)"
   ]
  },
  {
   "cell_type": "code",
   "execution_count": 1,
   "metadata": {},
   "outputs": [],
   "source": [
    "using HDMjl, CodecXz, RData, DataFrames, StatsModels, Statistics, Distributions, PrettyTables"
   ]
  },
  {
   "cell_type": "code",
   "execution_count": 2,
   "metadata": {},
   "outputs": [],
   "source": [
    "import Pkg"
   ]
  },
  {
   "cell_type": "code",
   "execution_count": 32,
   "metadata": {},
   "outputs": [
    {
     "name": "stderr",
     "output_type": "stream",
     "text": [
      "\u001b[32m\u001b[1m    Updating\u001b[22m\u001b[39m `C:\\Users\\User\\.julia\\environments\\v1.8\\Project.toml`\n"
     ]
    },
    {
     "name": "stderr",
     "output_type": "stream",
     "text": [
      " \u001b[90m [8de29b41] \u001b[39m\u001b[91m- HDMjl v0.0.10 `E:/causal_ml/hdm_paper/HDMjl.jl`\u001b[39m\n"
     ]
    },
    {
     "name": "stderr",
     "output_type": "stream",
     "text": [
      "\u001b[32m\u001b[1m    Updating\u001b[22m\u001b[39m `C:\\Users\\User\\.julia\\environments\\v1.8\\Manifest.toml`\n"
     ]
    },
    {
     "name": "stderr",
     "output_type": "stream",
     "text": [
      " \u001b[90m [8de29b41] \u001b[39m\u001b[91m- HDMjl v0.0.10 `E:/causal_ml/hdm_paper/HDMjl.jl`\u001b[39m\n"
     ]
    }
   ],
   "source": [
    "Pkg.rm(\"HDMjl\")"
   ]
  },
  {
   "cell_type": "code",
   "execution_count": 3,
   "metadata": {},
   "outputs": [
    {
     "name": "stderr",
     "output_type": "stream",
     "text": [
      "\u001b[32m\u001b[1m   Resolving\u001b[22m\u001b[39m package versions...\n"
     ]
    },
    {
     "name": "stderr",
     "output_type": "stream",
     "text": [
      "\u001b[32m\u001b[1m  No Changes\u001b[22m\u001b[39m"
     ]
    },
    {
     "name": "stderr",
     "output_type": "stream",
     "text": [
      " to `C:\\Users\\User\\.julia\\environments\\v1.8\\Project.toml`\n",
      "\u001b[32m\u001b[1m  No Changes\u001b[22m\u001b[39m"
     ]
    },
    {
     "name": "stderr",
     "output_type": "stream",
     "text": [
      " to `C:\\Users\\User\\.julia\\environments\\v1.8\\Manifest.toml`\n"
     ]
    }
   ],
   "source": [
    "Pkg.develop(path = \"E:/causal_ml/hdm_paper/HDMjl.jl\")"
   ]
  },
  {
   "cell_type": "code",
   "execution_count": null,
   "metadata": {},
   "outputs": [],
   "source": [
    "using HDMjl"
   ]
  },
  {
   "cell_type": "code",
   "execution_count": 33,
   "metadata": {},
   "outputs": [
    {
     "name": "stdout",
     "output_type": "stream",
     "text": [
      "\u001b[32m\u001b[1mNo Matches\u001b[22m\u001b[39m in `C:\\Users\\User\\.julia\\environments\\v1.8\\Project.toml`\n"
     ]
    }
   ],
   "source": [
    "Pkg.status(\"HDMjl\")"
   ]
  },
  {
   "cell_type": "markdown",
   "metadata": {},
   "source": [
    "## 3. Prediction using Approximate Sparsity"
   ]
  },
  {
   "cell_type": "markdown",
   "metadata": {},
   "source": [
    "### 3.2. A Joint Significance Test for Lasso Regression."
   ]
  },
  {
   "cell_type": "code",
   "execution_count": 2,
   "metadata": {},
   "outputs": [],
   "source": [
    "using Random\n",
    "Random.seed!(1234);\n",
    "n = 100;\n",
    "p = 100;\n",
    "s = 3;\n",
    "X = randn(n, p);\n",
    "beta = vcat(fill(5, s), zeros(p - s));\n",
    "Y = X * beta + randn(n);"
   ]
  },
  {
   "cell_type": "code",
   "execution_count": 3,
   "metadata": {},
   "outputs": [
    {
     "data": {
      "text/plain": [
       "100"
      ]
     },
     "metadata": {},
     "output_type": "display_data"
    }
   ],
   "source": [
    "a = rlasso(X, Y, post = false)\n",
    "length(a[\"residuals\"])"
   ]
  },
  {
   "cell_type": "code",
   "execution_count": 4,
   "metadata": {},
   "outputs": [
    {
     "data": {
      "text/plain": [
       "1×101 adjoint(::Vector{Float64}) with eltype Float64:\n",
       " -0.00682754  5.00958  4.93178  5.17705  …  0.0  0.0  0.0  0.0  0.0  0.0  0.0"
      ]
     },
     "metadata": {},
     "output_type": "display_data"
    }
   ],
   "source": [
    "post_lasso_reg = rlasso(X, Y, post = true) #now use post-lasso\n",
    "post_lasso_reg[\"coefficients\"]'"
   ]
  },
  {
   "cell_type": "markdown",
   "metadata": {},
   "source": [
    "## 4. Inference on Target Regression Coefficients"
   ]
  },
  {
   "cell_type": "markdown",
   "metadata": {},
   "source": [
    "### 4.1. Intuition for the Orthogonality Principle in Linear Models via Partialling Out."
   ]
  },
  {
   "cell_type": "code",
   "execution_count": null,
   "metadata": {},
   "outputs": [],
   "source": []
  },
  {
   "cell_type": "markdown",
   "metadata": {},
   "source": [
    "### 4.2. Inference: Confidence Intervals and Significance Testing. The function rlassoEffects"
   ]
  },
  {
   "cell_type": "code",
   "execution_count": 16,
   "metadata": {},
   "outputs": [],
   "source": [
    "using Random\n",
    "Random.seed!(1234);\n",
    "n = 100;\n",
    "p = 100;\n",
    "s = 3;\n",
    "x = randn(n, p);\n",
    "beta = vcat(fill(3, s), zeros(p - s));\n",
    "y =1 .+ x * beta + randn(n);"
   ]
  },
  {
   "cell_type": "code",
   "execution_count": 575,
   "metadata": {},
   "outputs": [],
   "source": []
  },
  {
   "cell_type": "code",
   "execution_count": 17,
   "metadata": {},
   "outputs": [
    {
     "ename": "MethodError",
     "evalue": "MethodError: no method matching isless(::Int64, ::Set{Int64})\nClosest candidates are:\n  isless(::Union{AbstractChar, AbstractString, Number}, !Matched::CategoricalArrays.CategoricalValue) at C:\\Users\\User\\.julia\\packages\\CategoricalArrays\\tJ8hD\\src\\value.jl:157\n  isless(::Real, !Matched::AbstractFloat) at operators.jl:185\n  isless(::Real, !Matched::Union{StatsBase.PValue, StatsBase.TestStat}) at C:\\Users\\User\\.julia\\packages\\StatsBase\\XgjIN\\src\\statmodels.jl:91\n  ...",
     "output_type": "error",
     "traceback": [
      "MethodError: no method matching isless(::Int64, ::Set{Int64})\n",
      "Closest candidates are:\n",
      "  isless(::Union{AbstractChar, AbstractString, Number}, !Matched::CategoricalArrays.CategoricalValue) at C:\\Users\\User\\.julia\\packages\\CategoricalArrays\\tJ8hD\\src\\value.jl:157\n",
      "  isless(::Real, !Matched::AbstractFloat) at operators.jl:185\n",
      "  isless(::Real, !Matched::Union{StatsBase.PValue, StatsBase.TestStat}) at C:\\Users\\User\\.julia\\packages\\StatsBase\\XgjIN\\src\\statmodels.jl:91\n",
      "  ...\n",
      "\n",
      "Stacktrace:\n",
      " [1] <(x::Int64, y::Set{Int64})\n",
      "   @ Base .\\operators.jl:356\n",
      " [2] >(x::Set{Int64}, y::Int64)\n",
      "   @ Base .\\operators.jl:382\n",
      " [3] rlassoEffects(x::Matrix{Float64}, y::Vector{Float64}; index::Vector{Int64}, I3::Nothing)\n",
      "   @ HDMjl E:\\causal_ml\\hdm_paper\\HDMjl.jl\\src\\rlassoEffect.jl:112\n",
      " [4] top-level scope\n",
      "   @ e:\\causal_ml\\hdm_paper\\HDMjl_tutorial.ipynb:1"
     ]
    }
   ],
   "source": [
    "rlassoEffects(x, y, index = [1,2,3,50])"
   ]
  },
  {
   "cell_type": "code",
   "execution_count": 82,
   "metadata": {},
   "outputs": [
    {
     "ename": "BoundsError",
     "evalue": "BoundsError: attempt to access Int64 at index [2]",
     "output_type": "error",
     "traceback": [
      "BoundsError: attempt to access Int64 at index [2]\n",
      "\n",
      "Stacktrace:\n",
      " [1] indexed_iterate(I::Int64, i::Int64, state::Nothing)\n",
      "   @ Base .\\tuple.jl:97\n",
      " [2] top-level scope\n",
      "   @ e:\\causal_ml\\hdm_paper\\HDMjl_tutorial.ipynb:13"
     ]
    }
   ],
   "source": [
    "index = [1,2,3,50]\n",
    "I3 = nothing\n",
    "x = Matrix(x)\n",
    "y = Matrix(y[:, :])\n",
    "\n",
    "# if Set(index) > 2\n",
    "#     k = p = length(index)\n",
    "#     # all(all())\n",
    "# else\n",
    "#     k = p = sum(index)\n",
    "# end\n",
    "\n",
    "n, p0 = size(x, 1)\n",
    "\n",
    "coefficients = zeros(k)\n",
    "se = zeros(k)\n",
    "t = zeros(k)\n",
    "lasso_reg = Dict()\n",
    "\n",
    "reside = zeros(n, p1)\n",
    "residv = zeros(n, p1)\n",
    "\n",
    "selection_matrix = zeros(p0, k)\n",
    "coef_mat = Dict()\n",
    "for i in 1:k\n",
    "    d = x[:, index[i]]\n",
    "    xt = x[:, Not(index[i])]\n",
    "    if isnothing(I3)\n",
    "        I3m = I3\n",
    "    else\n",
    "        I3m = I3[Not(index[i])]\n",
    "        lasso_reg[i] = try\n",
    "            rlassoEffect(xt, y, d, method = method, I3 = I3m, post = post)\n",
    "        catch\n",
    "            \"try-error\"\n",
    "        end\n",
    "    end\n",
    "    if lasso_regs[i] == \"try-error\"\n",
    "        continue\n",
    "    else\n",
    "        coefficients[i] = lasso_regs[i][\"alpha\"]\n",
    "        se[i] = lasso_regs[i][\"se\"]\n",
    "        t[i] = lasso_regs[i][\"t\"]\n",
    "        coef_mat[i] = lasso_reg[\"coefficients_reg\"]\n",
    "        reside[:, i] = lasso_regs[i][\"residuals\"][\"epsilon\"]\n",
    "        residv[:, i] = lasso_regs[i][\"residuals\"][\"v\"]\n",
    "        selection_matrix[Not(index[i]), i] = lasso_reg[\"selection_index\"]\n",
    "    end\n",
    "end"
   ]
  },
  {
   "cell_type": "code",
   "execution_count": 90,
   "metadata": {},
   "outputs": [
    {
     "ename": "MethodError",
     "evalue": "MethodError: no method matching getindex(::Nothing, ::InvertedIndex{Int64})",
     "output_type": "error",
     "traceback": [
      "MethodError: no method matching getindex(::Nothing, ::InvertedIndex{Int64})\n",
      "\n",
      "Stacktrace:\n",
      " [1] top-level scope\n",
      "   @ e:\\causal_ml\\hdm_paper\\HDMjl_tutorial.ipynb:6"
     ]
    }
   ],
   "source": [
    "d = x[:, index[1]]\n",
    "xt = x[:, Not(index[1])]\n",
    "if isnothing(I3)\n",
    "I3m = I3\n",
    "\n",
    "I3m = I3[Not(index[1])]\n",
    "# lasso_reg[1] = try\n",
    "#     rlassoEffect(xt, y, d, method = method, I3 = I3m, post = post)\n",
    "# catch\n",
    "#     \"try-error\"\n",
    "# end\n",
    "\n",
    "# if lasso_regs[1] == \"try-error\"\n",
    "#     continue\n",
    "# else\n",
    "#     coefficients[1] = lasso_regs[1][\"alpha\"]\n",
    "#     se[1] = lasso_regs[1][\"se\"]\n",
    "#     t[1] = lasso_regs[1][\"t\"]\n",
    "#     coef_mat[1] = lasso_reg[\"coefficients_reg\"]\n",
    "#     reside[:, i] = lasso_regs[1][\"residuals\"][\"epsilon\"]\n",
    "#     residv[:, i] = lasso_regs[1][\"residuals\"][\"v\"]\n",
    "#     selection_matrix[Not(index[1]), i] = lasso_reg[\"selection_index\"]\n",
    "end"
   ]
  },
  {
   "cell_type": "code",
   "execution_count": null,
   "metadata": {},
   "outputs": [],
   "source": [
    "# preprocessing index numerischer Vektor\n",
    "if (is.numeric(index)) {\n",
    "    index <- as.integer(index)\n",
    "    stopifnot(all(index <= ncol(x)) && length(index) <= ncol(x))\n",
    "  } else {\n",
    "    # logical Vektor\n",
    "    if (is.logical(index)) {\n",
    "      stopifnot(length(index) == ncol(x))\n",
    "      index <- which(index == T)\n",
    "    } else {\n",
    "      # character Vektor\n",
    "      if (is.character(index)) {\n",
    "        stopifnot(all(is.element(index, colnames(x))))\n",
    "        index <- which(is.element(colnames(x), index))\n",
    "      } else {\n",
    "        stop(\"argument index has an invalid type\")\n",
    "      }\n",
    "    }\n",
    "  }\n",
    "\n",
    "  if (method == \"double selection\") {\n",
    "    # check validity of I3\n",
    "    I3ind <- which(I3 == T)\n",
    "    if (length(intersect(index, I3ind) != 0)) \n",
    "      stop(\"I3 and index must not overlap!\")\n",
    "  }"
   ]
  },
  {
   "cell_type": "code",
   "execution_count": 887,
   "metadata": {},
   "outputs": [],
   "source": []
  },
  {
   "cell_type": "code",
   "execution_count": 899,
   "metadata": {},
   "outputs": [
    {
     "name": "stdout",
     "output_type": "stream",
     "text": [
      "1\n",
      "2\n",
      "3\n",
      "4\n",
      "5\n"
     ]
    }
   ],
   "source": [
    "for i in 1:10\n",
    "    if i == 6 && i+1==7\n",
    "        # Using 'break' keyword\n",
    "        break\n",
    "    else\n",
    "        println(i)\n",
    "    end\n",
    "end"
   ]
  },
  {
   "cell_type": "code",
   "execution_count": 900,
   "metadata": {},
   "outputs": [
    {
     "name": "stdout",
     "output_type": "stream",
     "text": [
      "error"
     ]
    }
   ],
   "source": [
    "if typeof(index[1]) <:Number\n",
    "    index = trunc.(Int, index)\n",
    "    all(index .<= size(x)[2]) && length(index) <= size(x)[2]\n",
    "    print(\"error\")\n",
    "end"
   ]
  },
  {
   "cell_type": "code",
   "execution_count": 53,
   "metadata": {},
   "outputs": [
    {
     "data": {
      "text/plain": [
       "1-element Vector{Int64}:\n",
       " 1"
      ]
     },
     "metadata": {},
     "output_type": "display_data"
    }
   ],
   "source": [
    "findall(index .== true)"
   ]
  },
  {
   "cell_type": "code",
   "execution_count": 67,
   "metadata": {},
   "outputs": [
    {
     "ename": "UndefVarError",
     "evalue": "UndefVarError: lasso_regs not defined",
     "output_type": "error",
     "traceback": [
      "UndefVarError: lasso_regs not defined\n",
      "\n",
      "Stacktrace:\n",
      " [1] top-level scope\n",
      "   @ e:\\causal_ml\\hdm_paper\\HDMjl_tutorial.ipynb:47"
     ]
    }
   ],
   "source": [
    "method = \"double selection\"\n",
    "post = true\n",
    "index = [1,2,3,50]\n",
    "I3 = nothing\n",
    "x = Matrix(x)\n",
    "y = Matrix(y[:, :]);\n",
    "\n",
    "k = p1 = length(index)\n",
    "n = size(x)[1]\n",
    "#@assert false \"Expected true\"\n",
    "\n",
    "if typeof(index[1]) <:Number\n",
    "    index = trunc.(Int, index)\n",
    "    all(index .<= size(x)[2]) && length(index) <= size(x)[2]\n",
    "else \n",
    "    if typeof(index) == Bool\n",
    "        length(index) == size(x)[2]\n",
    "    end\n",
    "end\n",
    "\n",
    "coefficients = zeros(k)\n",
    "se = zeros(k)\n",
    "t = zeros(k)\n",
    "pval = zeros(k)\n",
    "lasso_reg = Dict()\n",
    "\n",
    "reside = zeros(n, p1)\n",
    "residv = zeros(n, p1)\n",
    "coef_mat = Dict()\n",
    "\n",
    "selection_matrix = zeros(size(x)[2], k)\n",
    "\n",
    "\n",
    "for i in 1:k\n",
    "    d = x[:, index[i]]\n",
    "    xt = x[:, Not(index[i])]\n",
    "    if isnothing(I3)\n",
    "        I3m = I3\n",
    "    else\n",
    "        I3m = I3[Not(index[i])]\n",
    "        try\n",
    "            lasso_regs[i] = rlassoEffect(xt, y, d, method = method, I3 = I3m, post = post)\n",
    "        catch\n",
    "            \"try-error\"\n",
    "        end\n",
    "    end\n",
    "    if lasso_regs[i] == \"try-error\"\n",
    "        continue\n",
    "    else\n",
    "        coefficients[i] = lasso_regs[i][\"alpha\"]\n",
    "        se[i] = lasso_regs[i][\"se\"]\n",
    "        t[i] = lasso_regs[i][\"t\"]\n",
    "        coef_mat[i] = lasso_reg[\"coefficients_reg\"]\n",
    "        reside[:, i] = lasso_regs[i][\"residuals\"][\"epsilon\"]\n",
    "        residv[:, i] = lasso_regs[i][\"residuals\"][\"v\"]\n",
    "        selection_matrix[Not(index[i]), i] = lasso_reg[\"selection_index\"]\n",
    "    end\n",
    "end\n"
   ]
  },
  {
   "cell_type": "code",
   "execution_count": 68,
   "metadata": {},
   "outputs": [
    {
     "ename": "UndefVarError",
     "evalue": "UndefVarError: lasso_regs not defined",
     "output_type": "error",
     "traceback": [
      "UndefVarError: lasso_regs not defined\n",
      "\n",
      "Stacktrace:\n",
      " [1] top-level scope\n",
      "   @ e:\\causal_ml\\hdm_paper\\HDMjl_tutorial.ipynb:14"
     ]
    }
   ],
   "source": [
    "for i in 1:k\n",
    "    d = x[:, index[i]]\n",
    "    xt = x[:, Not(index[i])]\n",
    "    if isnothing(I3)\n",
    "        I3m = I3\n",
    "    else\n",
    "        I3m = I3[Not(index[i])]\n",
    "        try\n",
    "            lasso_regs[i] = rlassoEffect(xt, y, d, method = method, I3 = I3m, post = post)\n",
    "        catch\n",
    "            \"try-error\"\n",
    "        end\n",
    "    end\n",
    "    if lasso_regs[i] == \"try-error\"\n",
    "        continue\n",
    "    else\n",
    "        coefficients[i] = lasso_regs[i][\"alpha\"]\n",
    "        se[i] = lasso_regs[i][\"se\"]\n",
    "        t[i] = lasso_regs[i][\"t\"]\n",
    "        coef_mat[i] = lasso_reg[\"coefficients_reg\"]\n",
    "        reside[:, i] = lasso_regs[i][\"residuals\"][\"epsilon\"]\n",
    "        residv[:, i] = lasso_regs[i][\"residuals\"][\"v\"]\n",
    "        selection_matrix[Not(index[i]), i] = lasso_reg[\"selection_index\"]\n",
    "    end\n",
    "end"
   ]
  },
  {
   "cell_type": "code",
   "execution_count": 73,
   "metadata": {},
   "outputs": [
    {
     "ename": "MethodError",
     "evalue": "MethodError: no method matching fit(::Type{GLM.LinearModel}, ::Matrix{Float64}, ::Matrix{Float64}, ::Nothing)\nClosest candidates are:\n  fit(::Type{T}, !Matched::FormulaTerm, ::Any, ::Any...; contrasts, kwargs...) where T<:RegressionModel at C:\\Users\\User\\.julia\\packages\\StatsModels\\fK0P3\\src\\statsmodel.jl:78\n  fit(::Type{T}, !Matched::FormulaTerm, ::Any, ::Any...; contrasts, kwargs...) where T<:StatisticalModel at C:\\Users\\User\\.julia\\packages\\StatsModels\\fK0P3\\src\\statsmodel.jl:78\n  fit(!Matched::Type{StatsBase.Histogram}, ::Any...; kwargs...) at C:\\Users\\User\\.julia\\packages\\StatsBase\\XgjIN\\src\\hist.jl:407\n  ...",
     "output_type": "error",
     "traceback": [
      "MethodError: no method matching fit(::Type{GLM.LinearModel}, ::Matrix{Float64}, ::Matrix{Float64}, ::Nothing)\n",
      "Closest candidates are:\n",
      "  fit(::Type{T}, !Matched::FormulaTerm, ::Any, ::Any...; contrasts, kwargs...) where T<:RegressionModel at C:\\Users\\User\\.julia\\packages\\StatsModels\\fK0P3\\src\\statsmodel.jl:78\n",
      "  fit(::Type{T}, !Matched::FormulaTerm, ::Any, ::Any...; contrasts, kwargs...) where T<:StatisticalModel at C:\\Users\\User\\.julia\\packages\\StatsModels\\fK0P3\\src\\statsmodel.jl:78\n",
      "  fit(!Matched::Type{StatsBase.Histogram}, ::Any...; kwargs...) at C:\\Users\\User\\.julia\\packages\\StatsBase\\XgjIN\\src\\hist.jl:407\n",
      "  ...\n",
      "\n",
      "Stacktrace:\n",
      " [1] lm(X::Matrix{Float64}, y::Matrix{Float64}, allowrankdeficient_dep::Nothing; kwargs::Base.Pairs{Symbol, Union{}, Tuple{}, NamedTuple{(), Tuple{}}})\n",
      "   @ GLM C:\\Users\\User\\.julia\\packages\\GLM\\P0Ris\\src\\lm.jl:184\n",
      " [2] lm(X::Matrix{Float64}, y::Matrix{Float64}, allowrankdeficient_dep::Nothing) (repeats 2 times)\n",
      "   @ GLM C:\\Users\\User\\.julia\\packages\\GLM\\P0Ris\\src\\lm.jl:184\n",
      " [3] rlassoEffect(x::Matrix{Float64}, y::Matrix{Float64}, d::Vector{Float64}; method::String, I3::Nothing, post::Bool)\n",
      "   @ HDMjl E:\\causal_ml\\hdm_paper\\HDMjl.jl\\src\\rlassoEffect.jl:37\n",
      " [4] top-level scope\n",
      "   @ e:\\causal_ml\\hdm_paper\\HDMjl_tutorial.ipynb:2"
     ]
    }
   ],
   "source": [
    "xt = x[:, Not(index[1])]\n",
    "rlassoEffect(xt, y, d, method = method, post = post)"
   ]
  },
  {
   "cell_type": "code",
   "execution_count": null,
   "metadata": {},
   "outputs": [],
   "source": []
  },
  {
   "cell_type": "code",
   "execution_count": null,
   "metadata": {},
   "outputs": [],
   "source": []
  },
  {
   "cell_type": "code",
   "execution_count": 802,
   "metadata": {},
   "outputs": [
    {
     "ename": "BoundsError",
     "evalue": "BoundsError: attempt to access 0-element Vector{Any} at index [1]",
     "output_type": "error",
     "traceback": [
      "BoundsError: attempt to access 0-element Vector{Any} at index [1]\n",
      "\n",
      "Stacktrace:\n",
      " [1] getindex(A::Vector{Any}, i1::Int64)\n",
      "   @ Base .\\array.jl:924\n",
      " [2] top-level scope\n",
      "   @ e:\\causal_ml\\hdm_paper\\HDMjl_tutorial.ipynb:37"
     ]
    }
   ],
   "source": [
    "\n",
    "\n",
    "# if Set(index) > 2\n",
    "#     k = p = length(index)\n",
    "#     # all(all())\n",
    "# else\n",
    "#     k = p = sum(index)\n",
    "# end\n",
    "\n",
    "k = p1 = length(index)\n",
    "n = size(x)[1]\n",
    "\n",
    "coefficients = zeros(k)\n",
    "se = zeros(k)\n",
    "t = zeros(k)\n",
    "lasso_reg = Dict()\n",
    "\n",
    "reside = zeros(n, p1)\n",
    "residv = zeros(n, p1)\n",
    "\n",
    "selection_matrix = zeros(size(x)[2], k)\n",
    "coef_mat = Dict()\n",
    "\n",
    "for i in 1:k\n",
    "    d = x[:, index[i]]\n",
    "    xt = x[:, Not(index[i])]\n",
    "    if isnothing(I3)\n",
    "        I3m = I3\n",
    "    else\n",
    "        I3m = I3[Not(index[i])]\n",
    "        lasso_reg[i] = try\n",
    "            rlassoEffect(xt, y, d, method = method, I3 = I3m, post = post)\n",
    "        catch\n",
    "            \"try-error\"\n",
    "        end\n",
    "    end\n",
    "    if lasso_regs[i] == \"try-error\"\n",
    "        continue\n",
    "    else\n",
    "        coefficients[i] = lasso_regs[i][\"alpha\"]\n",
    "        se[i] = lasso_regs[i][\"se\"]\n",
    "        t[i] = lasso_regs[i][\"t\"]\n",
    "        coef_mat[i] = lasso_reg[\"coefficients_reg\"]\n",
    "        reside[:, i] = lasso_regs[i][\"residuals\"][\"epsilon\"]\n",
    "        residv[:, i] = lasso_regs[i][\"residuals\"][\"v\"]\n",
    "        selection_matrix[Not(index[i]), i] = lasso_reg[\"selection_index\"]\n",
    "    end\n",
    "end"
   ]
  },
  {
   "cell_type": "code",
   "execution_count": 799,
   "metadata": {},
   "outputs": [
    {
     "data": {
      "text/plain": [
       "Dict{Any, Any}()"
      ]
     },
     "metadata": {},
     "output_type": "display_data"
    }
   ],
   "source": [
    "method = \"double selection\"\n",
    "post = true\n",
    "index = [1,2,3,50]\n",
    "I3 = nothing\n",
    "x = Matrix(x)\n",
    "y = Matrix(y[:, :])\n",
    "\n",
    "# if Set(index) > 2\n",
    "#     k = p = length(index)\n",
    "#     # all(all())\n",
    "# else\n",
    "#     k = p = sum(index)\n",
    "# end\n",
    "\n",
    "k = p1 = length(index)\n",
    "n, p0 = size(x)\n",
    "\n",
    "coefficients = zeros(k)\n",
    "se = zeros(k)\n",
    "t = zeros(k)\n",
    "lasso_reg = Dict()\n",
    "\n",
    "reside = zeros(n, p1)\n",
    "residv = zeros(n, p1)\n",
    "\n",
    "selection_matrix = zeros(size(x)[2], k)\n",
    "coef_mat = Dict()"
   ]
  },
  {
   "cell_type": "code",
   "execution_count": null,
   "metadata": {},
   "outputs": [],
   "source": []
  },
  {
   "cell_type": "code",
   "execution_count": 755,
   "metadata": {},
   "outputs": [
    {
     "ename": "UndefVarError",
     "evalue": "UndefVarError: lasso_regs not defined",
     "output_type": "error",
     "traceback": [
      "UndefVarError: lasso_regs not defined\n",
      "\n",
      "Stacktrace:\n",
      " [1] top-level scope\n",
      "   @ e:\\causal_ml\\hdm_paper\\HDMjl_tutorial.ipynb:14"
     ]
    }
   ],
   "source": [
    "for i in 1:k\n",
    "    d = x[:, index[i]]\n",
    "    xt = x[:, Not(index[i])]\n",
    "    if isnothing(I3)\n",
    "        I3m = I3\n",
    "    else\n",
    "        I3m = I3[Not(index[i])]\n",
    "        lasso_regs[i] = try\n",
    "            rlassoEffect(xt, y, d, method = method, I3 = I3m, post = post)\n",
    "        catch\n",
    "            \"try-error\"\n",
    "        end\n",
    "    end\n",
    "    if lasso_regs[i] == \"try-error\"\n",
    "        continue\n",
    "    else\n",
    "        coefficients[i] = lasso_regs[i][\"alpha\"]\n",
    "        se[i] = lasso_regs[i][\"se\"]\n",
    "        t[i] = lasso_regs[i][\"t\"]\n",
    "        coef_mat[i] = lasso_reg[\"coefficients_reg\"]\n",
    "        reside[:, i] = lasso_regs[i][\"residuals\"][\"epsilon\"]\n",
    "        residv[:, i] = lasso_regs[i][\"residuals\"][\"v\"]\n",
    "        selection_matrix[Not(index[i]), i] = lasso_reg[\"selection_index\"]\n",
    "    end\n",
    "end"
   ]
  },
  {
   "cell_type": "code",
   "execution_count": 798,
   "metadata": {},
   "outputs": [],
   "source": [
    "I3"
   ]
  },
  {
   "cell_type": "code",
   "execution_count": 774,
   "metadata": {},
   "outputs": [],
   "source": [
    "d = x[:, index[1]]\n",
    "xt = x[:, Not(index[1])]\n",
    "\n",
    "I3m = I3[:,Not(index[1])]\n",
    "\n",
    "\n",
    "if isnothing(I3)\n",
    "    I3m = I3\n",
    "else\n",
    "    I3m = I3[Not(index[1])]\n",
    "    lasso_reg[1] = try\n",
    "        rlassoEffect(xt, y, d, method = method, I3 = I3m, post = post)\n",
    "    catch\n",
    "        \"try-error\"\n",
    "    end\n",
    "end\n",
    "# if lasso_regs[1] == \"try-error\"\n",
    "#     continue\n",
    "else\n",
    "    coefficients[1] = lasso_regs[i][\"alpha\"]\n",
    "    se[1] = lasso_regs[i][\"se\"]\n",
    "    t[1] = lasso_regs[i][\"t\"]\n",
    "    coef_mat[1] = lasso_reg[\"coefficients_reg\"]\n",
    "    reside[:, 1] = lasso_regs[i][\"residuals\"][\"epsilon\"]\n",
    "    residv[:, 1] = lasso_regs[i][\"residuals\"][\"v\"]\n",
    "    selection_matrix[Not(index[1]), 1] = lasso_reg[\"selection_index\"]\n",
    "end"
   ]
  },
  {
   "cell_type": "code",
   "execution_count": 790,
   "metadata": {},
   "outputs": [],
   "source": [
    "#I3m = I3[:,Not(index[1])]\n",
    "I3m"
   ]
  },
  {
   "cell_type": "code",
   "execution_count": 784,
   "metadata": {},
   "outputs": [
    {
     "ename": "BoundsError",
     "evalue": "BoundsError: attempt to access 0-element Vector{Any} at index [1]",
     "output_type": "error",
     "traceback": [
      "BoundsError: attempt to access 0-element Vector{Any} at index [1]\n",
      "\n",
      "Stacktrace:\n",
      " [1] getindex(A::Vector{Any}, i1::Int64)\n",
      "   @ Base .\\array.jl:924\n",
      " [2] top-level scope\n",
      "   @ e:\\causal_ml\\hdm_paper\\HDMjl_tutorial.ipynb:1"
     ]
    }
   ],
   "source": [
    "coefficients[1] = lasso_regs[1][\"alpha\"]\n",
    "# se[1] = lasso_regs[1][\"se\"]\n",
    "# t[1] = lasso_regs[1][\"t\"]\n",
    "# coef_mat[1] = lasso_reg[\"coefficients_reg\"]\n",
    "# reside[:, 1] = lasso_regs[1][\"residuals\"][\"epsilon\"]\n",
    "# residv[:, 1] = lasso_regs[1][\"residuals\"][\"v\"]\n",
    "# selection_matrix[Not(index[1]), 1] = lasso_reg[\"selection_index\"]"
   ]
  },
  {
   "cell_type": "code",
   "execution_count": 787,
   "metadata": {},
   "outputs": [],
   "source": []
  },
  {
   "cell_type": "code",
   "execution_count": null,
   "metadata": {},
   "outputs": [],
   "source": []
  },
  {
   "cell_type": "code",
   "execution_count": null,
   "metadata": {},
   "outputs": [],
   "source": []
  },
  {
   "cell_type": "code",
   "execution_count": null,
   "metadata": {},
   "outputs": [],
   "source": []
  },
  {
   "cell_type": "markdown",
   "metadata": {},
   "source": [
    "### 4.3. Application: the effect of gender on wage"
   ]
  },
  {
   "cell_type": "code",
   "execution_count": null,
   "metadata": {},
   "outputs": [],
   "source": []
  },
  {
   "cell_type": "markdown",
   "metadata": {},
   "source": [
    "### 4.4. Application: Estimation of the treatment effect in a linear model with many confounding factors"
   ]
  },
  {
   "cell_type": "code",
   "execution_count": 91,
   "metadata": {},
   "outputs": [
    {
     "data": {
      "text/plain": [
       "summary_effect (generic function with 1 method)"
      ]
     },
     "metadata": {},
     "output_type": "display_data"
    }
   ],
   "source": [
    "function summary_effect(object)\n",
    "    if length(object) != 0\n",
    "        k = length(object[\"coefficients\"])\n",
    "        table = zeros(k, 4)\n",
    "        table[:, 1] .= object[\"coefficients\"]\n",
    "        table[:, 2] .= object[\"se\"]\n",
    "        table[:, 3] .= table[:, 1]/table[:, 2]\n",
    "        table[:, 4] .= 2 * cdf(Normal(), -abs.(table[:, 3]))\n",
    "        print(\"\"\",\"Estimates and significance testing of the effect of target variables\",\"\"\", \n",
    "                \"\\n\")\n",
    "        pretty_table(table, show_row_number = true, header = [\"Estimate.\", \"Std. Error\", \"t value\", \"Pr(>|t|)\"], tf = tf_borderless)\n",
    "        print(\"---\", \"\\n\", \"Signif. codes:\",\"\\n\", \"0 '***' 0.001 '**' 0.01 '*' 0.05 '.' 0.1 ' ' 1\")\n",
    "        print(\"\\n\")\n",
    "    else\n",
    "        print(\"No coefficients\\n\")\n",
    "    end\n",
    "end"
   ]
  },
  {
   "cell_type": "code",
   "execution_count": 92,
   "metadata": {},
   "outputs": [],
   "source": [
    "using CodecXz\n",
    "using RData\n",
    "using DataFrames\n",
    "url = \"https://github.com/cran/hdm/raw/master/data/GrowthData.rda\";\n",
    "GrowthData = load(download(url))[\"GrowthData\"];\n",
    "y = GrowthData[:, 1];\n",
    "d = GrowthData[:, 3];\n",
    "X = Matrix(GrowthData[:, Not(1, 2, 3)]);"
   ]
  },
  {
   "cell_type": "code",
   "execution_count": 93,
   "metadata": {},
   "outputs": [],
   "source": [
    "lasso_effect = rlassoEffect(X, y, d, method = \"partialling out\");"
   ]
  },
  {
   "cell_type": "code",
   "execution_count": 94,
   "metadata": {},
   "outputs": [
    {
     "name": "stdout",
     "output_type": "stream",
     "text": [
      ",\"Estimates and significance testing of the effect of target variables\",\n",
      " \u001b[1m Row \u001b[0m \u001b[1m Estimate. \u001b[0m \u001b[1m Std. Error \u001b[0m \u001b[1m t value \u001b[0m \u001b[1m    Pr(>|t|) \u001b[0m\n",
      "\n",
      "    1    -0.05333    0.0143283    -3.722   0.000197655\n",
      "---\n",
      "Signif. codes:\n",
      "0 '***' 0.001 '**' 0.01 '*' 0.05 '.' 0.1 ' ' 1\n"
     ]
    }
   ],
   "source": [
    "summary_effect(lasso_effect)"
   ]
  },
  {
   "cell_type": "code",
   "execution_count": 9,
   "metadata": {},
   "outputs": [],
   "source": [
    "doublesel_effect = rlassoEffect(X, y, d, method = \"double selection\");"
   ]
  },
  {
   "cell_type": "code",
   "execution_count": 10,
   "metadata": {},
   "outputs": [
    {
     "name": "stdout",
     "output_type": "stream",
     "text": [
      ",\"Estimates and significance testing of the effect of target variables\",\n",
      " \u001b[1m Row \u001b[0m \u001b[1m  Estimate. \u001b[0m \u001b[1m Std. Error \u001b[0m \u001b[1m  t value \u001b[0m \u001b[1m  Pr(>|t|) \u001b[0m\n",
      "\n",
      "    1   -0.0453558     0.018656   -2.43116   0.0150506\n"
     ]
    },
    {
     "name": "stdout",
     "output_type": "stream",
     "text": [
      "---\n",
      "Signif. codes:\n",
      "0 '***' 0.001 '**' 0.01 '*' 0.05 '.' 0.1 ' ' 1\n"
     ]
    }
   ],
   "source": [
    "summary_effect(doublesel_effect)"
   ]
  },
  {
   "cell_type": "code",
   "execution_count": null,
   "metadata": {},
   "outputs": [],
   "source": []
  },
  {
   "cell_type": "markdown",
   "metadata": {},
   "source": [
    "## 5. Instrumental Variable Estimation in a High-Dimensional Setting"
   ]
  },
  {
   "cell_type": "markdown",
   "metadata": {},
   "source": [
    "### 5.2. Application: Economic Development and Institutions."
   ]
  },
  {
   "cell_type": "code",
   "execution_count": 27,
   "metadata": {},
   "outputs": [
    {
     "data": {
      "text/plain": [
       "confintIV (generic function with 2 methods)"
      ]
     },
     "metadata": {},
     "output_type": "display_data"
    }
   ],
   "source": [
    "function confintIV(object, level = 0.95)\n",
    "    n = object[\"sample_size\"]\n",
    "    k = length(object[\"coefficients\"])\n",
    "    cf = object[\"coefficients\"]\n",
    "    #pnames <- names(cf)\n",
    "    # if (missing(parm)) \n",
    "    #     parm <- pnames else if (is.numeric(parm)) \n",
    "    #       parm <- pnames[parm]\n",
    "    a = (1 - level)/2\n",
    "    a = [a, 1 - a]\n",
    "    fac = quantile.(Normal(), a)\n",
    "    pct = string.(round.(a; digits = 3)*100, \"%\")\n",
    "    ses = object[\"se\"]\n",
    "    c_i = []\n",
    "    for i in 1:length(cf)\n",
    "        if i == 1\n",
    "            c_i = (cf[i] .+ ses .* fac)[:,:]'\n",
    "        else\n",
    "            c_i = vcat(c_i, (cf[i] .+ ses * fac)[:,:]')\n",
    "        end\n",
    "    end\n",
    "    #ci = NamedArray(c_i, (1:size(c_i)[1], pct))\n",
    "    ci = pretty_table(c_i; header = pct, show_row_number = true, tf = tf_borderless)\n",
    "    #return c_i;;\n",
    "end"
   ]
  },
  {
   "cell_type": "code",
   "execution_count": 28,
   "metadata": {},
   "outputs": [
    {
     "data": {
      "text/plain": [
       "summaryIV (generic function with 1 method)"
      ]
     },
     "metadata": {},
     "output_type": "display_data"
    }
   ],
   "source": [
    "function summaryIV(object)\n",
    "    if length(object) != 0\n",
    "        k = length(object[\"coefficients\"])\n",
    "        table = zeros(k, 4)\n",
    "        table[:, 1] .= object[\"coefficients\"]\n",
    "        table[:, 2] .= object[\"se\"]\n",
    "        table[:, 3] .= table[:, 1]/table[:, 2]\n",
    "        table[:, 4] .= 2 * cdf(Normal(), -abs.(table[:, 3]))\n",
    "        print(\"Estimates and Significance Testing of the effect of target variables in the IV regression model\", \n",
    "                \"\\n\")\n",
    "        pretty_table(table, show_row_number = true, header = [\"coeff.\", \"se.\", \"t-value\", \"p-value\"], tf = tf_borderless)\n",
    "        print(\"---\", \"\\n\", \"Signif. codes:\",\"\\n\", \"0 '***' 0.001 '**' 0.01 '*' 0.05 '.' 0.1 ' ' 1\")\n",
    "        print(\"\\n\")\n",
    "    else\n",
    "        print(\"No coefficients\\n\")\n",
    "        #table = []\n",
    "    end\n",
    "    #return table;;\n",
    "end"
   ]
  },
  {
   "cell_type": "code",
   "execution_count": 36,
   "metadata": {},
   "outputs": [
    {
     "data": {
      "text/plain": [
       "(64, 21)"
      ]
     },
     "metadata": {},
     "output_type": "display_data"
    }
   ],
   "source": [
    "using Statistics, StatsModels\n",
    "url = \"https://github.com/cran/hdm/raw/master/data/AJR.rda\";\n",
    "AJR = load(download(url))[\"AJR\"];\n",
    "y = AJR[!,\"GDP\"]\n",
    "d = AJR[!,\"Exprop\"]\n",
    "z = AJR[!,\"logMort\"];\n",
    "x_formula = @formula(GDP ~ -1 + Latitude + Latitude2 + Africa + Asia + Namer + Samer\n",
    "    + Latitude*Latitude2 + Latitude*Africa + Latitude*Asia + Latitude*Namer + Latitude*Samer\n",
    "    + Latitude2*Africa + Latitude2*Asia + Latitude2*Namer + Latitude2*Samer\n",
    "    + Africa*Asia + Africa*Namer + Africa*Samer\n",
    "    + Asia*Namer + Asia*Samer\n",
    "    + Namer*Samer)\n",
    "x_dframe = ModelFrame( x_formula, AJR)\n",
    "x1 = ModelMatrix(x_dframe)\n",
    "x = x1.m\n",
    "size(x)"
   ]
  },
  {
   "cell_type": "code",
   "execution_count": 43,
   "metadata": {},
   "outputs": [
    {
     "data": {
      "text/plain": [
       "Dict{String, Float64} with 4 entries:\n",
       "  \"se\"           => 0.87538\n",
       "  \"sample_size\"  => 64.0\n",
       "  \"vcov\"         => 0.76629\n",
       "  \"coefficients\" => 1.27623"
      ]
     },
     "metadata": {},
     "output_type": "display_data"
    }
   ],
   "source": [
    "AJR_Xselect  = rlassoIV(x, d, y, z, select_X=true, select_Z=false)"
   ]
  },
  {
   "cell_type": "code",
   "execution_count": 39,
   "metadata": {},
   "outputs": [
    {
     "name": "stdout",
     "output_type": "stream",
     "text": [
      "Estimates and Significance Testing of the effect of target variables in the IV regression model\n",
      " \u001b[1m Row \u001b[0m \u001b[1m  coeff. \u001b[0m \u001b[1m     se. \u001b[0m \u001b[1m t-value \u001b[0m \u001b[1m  p-value \u001b[0m\n",
      "\n",
      "    1   1.27623   0.87538   1.45791   0.144865\n",
      "---\n",
      "Signif. codes:\n",
      "0 '***' 0.001 '**' 0.01 '*' 0.05 '.' 0.1 ' ' 1\n"
     ]
    }
   ],
   "source": [
    "summaryIV(AJR_Xselect)"
   ]
  },
  {
   "cell_type": "code",
   "execution_count": 42,
   "metadata": {},
   "outputs": [
    {
     "name": "stdout",
     "output_type": "stream",
     "text": [
      " \u001b[1m Row \u001b[0m \u001b[1m      2.5% \u001b[0m \u001b[1m   97.5% \u001b[0m\n",
      "\n",
      "    1   -0.439485   2.99194\n"
     ]
    }
   ],
   "source": [
    "confintIV(AJR_Xselect)"
   ]
  },
  {
   "cell_type": "code",
   "execution_count": 24,
   "metadata": {},
   "outputs": [],
   "source": []
  },
  {
   "cell_type": "markdown",
   "metadata": {},
   "source": [
    "### 5.3. Application: Impact of Eminent Domain Decisions on Economic Outcomes."
   ]
  },
  {
   "cell_type": "code",
   "execution_count": 34,
   "metadata": {},
   "outputs": [
    {
     "data": {
      "text/plain": [
       "Dict{String, Any} with 5 entries:\n",
       "  \"samplesize\"   => 312\n",
       "  \"se\"           => [2.32377]\n",
       "  \"sample_size\"  => 312\n",
       "  \"residuals\"    => [0.114175; 0.056835; … ; 0.256009; 0.305468;;]\n",
       "  \"coefficients\" => [-0.451027;;]"
      ]
     },
     "metadata": {},
     "output_type": "display_data"
    }
   ],
   "source": [
    "using Statistics, GLM\n",
    "url = \"https://github.com/cran/hdm/raw/master/data/EminentDomain.rda\";\n",
    "EminentDomain = load(download(url))[\"EminentDomain\"];\n",
    "z = EminentDomain[\"logGDP\"][\"z\"];\n",
    "x = EminentDomain[\"logGDP\"][\"x\"];\n",
    "d = EminentDomain[\"logGDP\"][\"d\"];\n",
    "y = EminentDomain[\"logGDP\"][\"y\"];\n",
    "x = x[:, (mean(x, dims = 1) .> 0.05)'];\n",
    "z = z[:, (mean(z, dims = 1) .> 0.05)'];\n",
    "lasso_IV_Z = rlassoIV(x, d, y, z, select_X = false, select_Z = true)"
   ]
  },
  {
   "cell_type": "code",
   "execution_count": 31,
   "metadata": {},
   "outputs": [],
   "source": [
    "#hcat(d,x[:,1]);"
   ]
  },
  {
   "cell_type": "code",
   "execution_count": 20,
   "metadata": {},
   "outputs": [],
   "source": [
    "# lm(hcat(d,x[:,1]), y)"
   ]
  },
  {
   "cell_type": "code",
   "execution_count": 19,
   "metadata": {},
   "outputs": [],
   "source": [
    "# x_1 = hcat(d,x)\n",
    "# lm(x_1, y)"
   ]
  },
  {
   "cell_type": "code",
   "execution_count": 18,
   "metadata": {},
   "outputs": [],
   "source": [
    "#ED_ols = lm(hcat(d,x), y)"
   ]
  },
  {
   "cell_type": "code",
   "execution_count": 35,
   "metadata": {},
   "outputs": [
    {
     "name": "stdout",
     "output_type": "stream",
     "text": [
      "Estimates and Significance Testing of the effect of target variables in the IV regression model\n",
      " \u001b[1m Row \u001b[0m \u001b[1m    coeff. \u001b[0m \u001b[1m     se. \u001b[0m \u001b[1m   t-value \u001b[0m \u001b[1m  p-value \u001b[0m\n",
      "\n",
      "    1   -0.451027   2.32377   -0.194093   0.846103\n",
      "---\n",
      "Signif. codes:\n",
      "0 '***' 0.001 '**' 0.01 '*' 0.05 '.' 0.1 ' ' 1\n"
     ]
    }
   ],
   "source": [
    "summaryIV(lasso_IV_Z)"
   ]
  },
  {
   "cell_type": "code",
   "execution_count": 30,
   "metadata": {},
   "outputs": [
    {
     "name": "stdout",
     "output_type": "stream",
     "text": [
      " \u001b[1m Row \u001b[0m \u001b[1m     2.5% \u001b[0m \u001b[1m   97.5% \u001b[0m\n",
      "\n",
      "    1   -5.00553   4.10348\n"
     ]
    }
   ],
   "source": [
    "confintIV(lasso_IV_Z)"
   ]
  },
  {
   "cell_type": "code",
   "execution_count": 25,
   "metadata": {},
   "outputs": [
    {
     "data": {
      "text/plain": [
       "Dict{String, Any} with 5 entries:\n",
       "  \"se\"           => [0.0801865]\n",
       "  \"sample_size\"  => 312\n",
       "  \"vcov\"         => [0.00642988;;]\n",
       "  \"residuals\"    => [-0.111753; 0.0588269; … ; 0.218765; 0.301602;;]\n",
       "  \"coefficients\" => [-0.0449578;;]"
      ]
     },
     "metadata": {},
     "output_type": "display_data"
    }
   ],
   "source": [
    "lasso_IV_XZ = rlassoIV(x, d, y, z, select_X = true, select_Z = true)"
   ]
  },
  {
   "cell_type": "code",
   "execution_count": 32,
   "metadata": {},
   "outputs": [
    {
     "name": "stdout",
     "output_type": "stream",
     "text": [
      "Estimates and Significance Testing of the effect of target variables in the IV regression model\n",
      " \u001b[1m Row \u001b[0m \u001b[1m     coeff. \u001b[0m \u001b[1m       se. \u001b[0m \u001b[1m   t-value \u001b[0m \u001b[1m  p-value \u001b[0m\n",
      "\n",
      "    1   -0.0449578   0.0801865   -0.560665   0.575026\n",
      "---\n",
      "Signif. codes:\n",
      "0 '***' 0.001 '**' 0.01 '*' 0.05 '.' 0.1 ' ' 1\n"
     ]
    }
   ],
   "source": [
    "summaryIV(lasso_IV_XZ)"
   ]
  },
  {
   "cell_type": "code",
   "execution_count": 33,
   "metadata": {},
   "outputs": [
    {
     "name": "stdout",
     "output_type": "stream",
     "text": [
      " \u001b[1m Row \u001b[0m \u001b[1m      2.5% \u001b[0m \u001b[1m    97.5% \u001b[0m\n",
      "\n",
      "    1   -0.202121   0.112205\n"
     ]
    }
   ],
   "source": [
    "confintIV(lasso_IV_XZ)"
   ]
  },
  {
   "cell_type": "code",
   "execution_count": null,
   "metadata": {},
   "outputs": [],
   "source": []
  },
  {
   "cell_type": "code",
   "execution_count": null,
   "metadata": {},
   "outputs": [],
   "source": []
  },
  {
   "cell_type": "markdown",
   "metadata": {},
   "source": [
    "## 6. Inference on Treatment Effects in a High-Dimensional Setting"
   ]
  },
  {
   "cell_type": "markdown",
   "metadata": {},
   "source": [
    "### 6.3. Application: 401(k) plan participation."
   ]
  },
  {
   "cell_type": "code",
   "execution_count": 26,
   "metadata": {},
   "outputs": [
    {
     "data": {
      "text/plain": [
       "Dict{String, Any} with 5 entries:\n",
       "  \"se\"          => 1930.68\n",
       "  \"individual\"  => [-30618.3, -57537.6, -71442.9, 21383.3, -2.32925e5, 3.40765e…\n",
       "  \"sample_size\" => 9915\n",
       "  \"te\"          => 10180.1\n",
       "  \"type\"        => \"ATE\""
      ]
     },
     "metadata": {},
     "output_type": "display_data"
    }
   ],
   "source": [
    "url = \"https://github.com/cran/hdm/raw/master/data/pension.rda\";\n",
    "pension = load(download(url))[\"pension\"];\n",
    "y = pension[:, \"tw\"];\n",
    "d = pension[:, \"p401\"];\n",
    "z = pension[:, \"e401\"];\n",
    "X = Matrix(pension[:, [\"i2\", \"i3\", \"i4\", \"i5\", \"i6\", \"i7\", \"a2\", \"a3\", \"a4\", \"a5\", \"fsize\", \"hs\", \"smcol\", \"col\", \"marr\", \"twoearn\", \"db\", \"pira\", \"hown\"]]);\n",
    "rlassoATE(X, d, y)"
   ]
  },
  {
   "cell_type": "code",
   "execution_count": 51,
   "metadata": {},
   "outputs": [
    {
     "data": {
      "text/plain": [
       "Dict{String, Any} with 5 entries:\n",
       "  \"se\"          => 2944.43\n",
       "  \"individual\"  => [-21536.4, -52877.2, -1.44867e5, -2739.29, -307741.0, 7.3912…\n",
       "  \"sample_size\" => 9915\n",
       "  \"te\"          => 12628.5\n",
       "  \"type\"        => \"ATET\""
      ]
     },
     "metadata": {},
     "output_type": "display_data"
    }
   ],
   "source": [
    "rlassoATET(X, d, y)"
   ]
  },
  {
   "cell_type": "code",
   "execution_count": 52,
   "metadata": {},
   "outputs": [
    {
     "data": {
      "text/plain": [
       "Dict{String, Any} with 5 entries:\n",
       "  \"se\"          => 2326.9\n",
       "  \"individual\"  => [-50526.8, -1.39158e5, -1.37102e5, 38508.0, -6.5644e5, 7.943…\n",
       "  \"sample_size\" => 9915\n",
       "  \"te\"          => 12992.1\n",
       "  \"type\"        => \"LATE\""
      ]
     },
     "metadata": {},
     "output_type": "display_data"
    }
   ],
   "source": [
    "rlassoLATE(X, d, y, z)"
   ]
  },
  {
   "cell_type": "code",
   "execution_count": 53,
   "metadata": {},
   "outputs": [
    {
     "data": {
      "text/plain": [
       "Dict{String, Any} with 5 entries:\n",
       "  \"se\"          => 3645.28\n",
       "  \"individual\"  => [-35580.5, -90558.0, -1.83628e5, -5303.13, -8.0766e5, 1.8866…\n",
       "  \"sample_size\" => 9915\n",
       "  \"te\"          => 15323.2\n",
       "  \"type\"        => \"LATET\""
      ]
     },
     "metadata": {},
     "output_type": "display_data"
    }
   ],
   "source": [
    "rlassoLATET(X, d, y, z)"
   ]
  },
  {
   "cell_type": "code",
   "execution_count": null,
   "metadata": {},
   "outputs": [],
   "source": []
  },
  {
   "cell_type": "code",
   "execution_count": null,
   "metadata": {},
   "outputs": [],
   "source": []
  },
  {
   "cell_type": "code",
   "execution_count": null,
   "metadata": {},
   "outputs": [],
   "source": []
  },
  {
   "cell_type": "code",
   "execution_count": null,
   "metadata": {},
   "outputs": [],
   "source": []
  },
  {
   "cell_type": "code",
   "execution_count": 46,
   "metadata": {},
   "outputs": [
    {
     "data": {
      "text/plain": [
       "summaryIV (generic function with 1 method)"
      ]
     },
     "metadata": {},
     "output_type": "display_data"
    }
   ],
   "source": [
    "function summaryIV(object)\n",
    "    if length(object) != 0\n",
    "        k = length(object[\"coefficients\"])\n",
    "        table = zeros(k, 4)\n",
    "        table[:, 1] .= object[\"coefficients\"]\n",
    "        table[:, 2] .= object[\"se\"]\n",
    "        table[:, 3] .= table[:, 1]/table[:, 2]\n",
    "        table[:, 4] .= 2 * cdf(Normal(), -abs.(table[:, 3]))\n",
    "        print(\"Estimates and Significance Testing of the effect of target variables in the IV regression model\", \n",
    "                \"\\n\")\n",
    "        pretty_table(table, show_row_number = true, header = [\"coeff.\", \"se.\", \"t-value\", \"p-value\"], tf = tf_borderless)\n",
    "        print(\"---\", \"\\n\", \"Signif. codes:\",\"\\n\", \"0 '***' 0.001 '**' 0.01 '*' 0.05 '.' 0.1 ' ' 1\")\n",
    "        print(\"\\n\")\n",
    "    else\n",
    "        print(\"No coefficients\\n\")\n",
    "        #table = []\n",
    "    end\n",
    "    #return table;;\n",
    "end"
   ]
  },
  {
   "cell_type": "code",
   "execution_count": 47,
   "metadata": {},
   "outputs": [
    {
     "data": {
      "text/plain": [
       "Dict{String, Any} with 5 entries:\n",
       "  \"samplesize\"   => 312\n",
       "  \"se\"           => [2.32377]\n",
       "  \"sample_size\"  => 312\n",
       "  \"residuals\"    => [0.114175; 0.056835; … ; 0.256009; 0.305468;;]\n",
       "  \"coefficients\" => [-0.451027;;]"
      ]
     },
     "metadata": {},
     "output_type": "display_data"
    }
   ],
   "source": [
    "using Statistics, GLM\n",
    "url = \"https://github.com/cran/hdm/raw/master/data/EminentDomain.rda\";\n",
    "EminentDomain = load(download(url))[\"EminentDomain\"];\n",
    "z = EminentDomain[\"logGDP\"][\"z\"];\n",
    "x = EminentDomain[\"logGDP\"][\"x\"];\n",
    "d = EminentDomain[\"logGDP\"][\"d\"];\n",
    "y = EminentDomain[\"logGDP\"][\"y\"];\n",
    "x = x[:, (mean(x, dims = 1) .> 0.05)'];\n",
    "z = z[:, (mean(z, dims = 1) .> 0.05)'];\n",
    "lasso_IV_Z = rlassoIV(x, d, y, z, select_X = false, select_Z = true)"
   ]
  },
  {
   "cell_type": "code",
   "execution_count": 49,
   "metadata": {},
   "outputs": [
    {
     "name": "stdout",
     "output_type": "stream",
     "text": [
      "Estimates and Significance Testing of the effect of target variables in the IV regression model\n",
      " \u001b[1m Row \u001b[0m \u001b[1m    coeff. \u001b[0m \u001b[1m     se. \u001b[0m \u001b[1m   t-value \u001b[0m \u001b[1m  p-value \u001b[0m\n",
      "\n",
      "    1   -0.451027   2.32377   -0.194093   0.846103\n",
      "---\n",
      "Signif. codes:\n",
      "0 '***' 0.001 '**' 0.01 '*' 0.05 '.' 0.1 ' ' 1"
     ]
    },
    {
     "name": "stdout",
     "output_type": "stream",
     "text": [
      "\n"
     ]
    }
   ],
   "source": [
    "summaryIV(lasso_IV_Z)"
   ]
  },
  {
   "cell_type": "code",
   "execution_count": null,
   "metadata": {},
   "outputs": [],
   "source": []
  },
  {
   "cell_type": "code",
   "execution_count": null,
   "metadata": {},
   "outputs": [],
   "source": []
  },
  {
   "cell_type": "code",
   "execution_count": null,
   "metadata": {},
   "outputs": [],
   "source": []
  },
  {
   "cell_type": "code",
   "execution_count": null,
   "metadata": {},
   "outputs": [],
   "source": [
    "mutable struct rlassoIV\n",
    "    resultado::String\n",
    "    tabla::String\n",
    "end"
   ]
  },
  {
   "cell_type": "code",
   "execution_count": 56,
   "metadata": {},
   "outputs": [
    {
     "data": {
      "text/plain": [
       "summ"
      ]
     },
     "metadata": {},
     "output_type": "display_data"
    }
   ],
   "source": [
    "function rlassoIV(numero, texto)\n",
    "    x = numero\n",
    "    y = texto\n",
    "    ##3 usando la estructura de testing (tipo javascript)\n",
    "    ## no se esta recurseando la funcion se esta usando la estructura\n",
    "    out = summ(x, y)\n",
    "    return out\n",
    "end"
   ]
  },
  {
   "cell_type": "code",
   "execution_count": null,
   "metadata": {},
   "outputs": [],
   "source": []
  },
  {
   "cell_type": "code",
   "execution_count": null,
   "metadata": {},
   "outputs": [],
   "source": [
    "mutable struct summ\n",
    "    resultado::String\n",
    "    tabla::String\n",
    "end"
   ]
  },
  {
   "cell_type": "code",
   "execution_count": 45,
   "metadata": {},
   "outputs": [
    {
     "data": {
      "text/plain": [
       "summ"
      ]
     },
     "metadata": {},
     "output_type": "display_data"
    }
   ],
   "source": [
    "mutable struct summ\n",
    "    resultado::String\n",
    "    tabla::String\n",
    "end\n",
    "function summ(numero, texto)\n",
    "    x = numero\n",
    "    y = texto\n",
    "    ##3 usando la estructura de testing (tipo javascript)\n",
    "    ## no se esta recurseando la funcion se esta usando la estructura\n",
    "    out = summ(x, y)\n",
    "    return out\n",
    "end"
   ]
  },
  {
   "cell_type": "code",
   "execution_count": 54,
   "metadata": {},
   "outputs": [
    {
     "data": {
      "text/plain": [
       "summ"
      ]
     },
     "metadata": {},
     "output_type": "display_data"
    }
   ],
   "source": [
    "obj_param = summ(\"hla\", \"mundo\")\n",
    "typeof(obj_param)"
   ]
  },
  {
   "cell_type": "code",
   "execution_count": 62,
   "metadata": {},
   "outputs": [
    {
     "name": "stdout",
     "output_type": "stream",
     "text": [
      "El resultado es: hla\n",
      "la tabla es: mundo"
     ]
    }
   ],
   "source": [
    "function imprime(structutura::summ) #recibe un parametro de tipo `summ`\n",
    "    ## Lammamos a los elementos dentro de la estructura mediante puntos\n",
    "    fir_st =  \"El resultado es: $(structutura.resultado)\\n\"\n",
    "    sec_ond =  \"la tabla es: $(structutura.tabla)\"\n",
    "    print(fir_st)\n",
    "    print(sec_ond)\n",
    "end\n",
    "imprime(obj_param)"
   ]
  },
  {
   "cell_type": "code",
   "execution_count": 44,
   "metadata": {},
   "outputs": [
    {
     "name": "stdout",
     "output_type": "stream",
     "text": [
      "El resultado es: hla\n",
      "la tabla es: mundo"
     ]
    }
   ],
   "source": [
    "mutable struct summ\n",
    "    resultado::String\n",
    "    tabla::String\n",
    "end\n",
    "function summ(numero, texto)\n",
    "    x = numero\n",
    "    y = texto\n",
    "    ##3 usando la estructura de testing (tipo javascript)\n",
    "    ## no se esta recurseando la funcion se esta usando la estructura\n",
    "    out = summ(x, y)\n",
    "    return out\n",
    "end\n",
    "obj_param = summ(\"hla\", \"mundo\")\n",
    "typeof(obj_param)\n",
    "# Funciones para el objeto `summ`\n",
    "function imprime(structutura::summ) #recibe un parametro de tipo `summ`\n",
    "    ## Lammamos a los elementos dentro de la estructura mediante puntos\n",
    "    fir_st =  \"El resultado es: $(structutura.resultado)\\n\"\n",
    "    sec_ond =  \"la tabla es: $(structutura.tabla)\"\n",
    "    print(fir_st)\n",
    "    print(sec_ond)\n",
    "end\n",
    "imprime(obj_param)"
   ]
  },
  {
   "cell_type": "code",
   "execution_count": null,
   "metadata": {},
   "outputs": [],
   "source": []
  },
  {
   "cell_type": "code",
   "execution_count": null,
   "metadata": {},
   "outputs": [],
   "source": []
  },
  {
   "cell_type": "code",
   "execution_count": null,
   "metadata": {},
   "outputs": [],
   "source": []
  },
  {
   "cell_type": "code",
   "execution_count": null,
   "metadata": {},
   "outputs": [],
   "source": []
  },
  {
   "cell_type": "code",
   "execution_count": null,
   "metadata": {},
   "outputs": [],
   "source": []
  },
  {
   "cell_type": "code",
   "execution_count": null,
   "metadata": {},
   "outputs": [],
   "source": []
  },
  {
   "cell_type": "code",
   "execution_count": null,
   "metadata": {},
   "outputs": [],
   "source": []
  }
 ],
 "metadata": {
  "kernelspec": {
   "display_name": "Julia 1.8.1",
   "language": "julia",
   "name": "julia-1.8"
  },
  "language_info": {
   "file_extension": ".jl",
   "mimetype": "application/julia",
   "name": "julia",
   "version": "1.8.1"
  },
  "orig_nbformat": 4
 },
 "nbformat": 4,
 "nbformat_minor": 2
}
