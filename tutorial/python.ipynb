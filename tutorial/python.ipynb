{
 "cells": [
  {
   "cell_type": "code",
   "execution_count": null,
   "metadata": {},
   "outputs": [],
   "source": []
  },
  {
   "cell_type": "code",
   "execution_count": 1,
   "metadata": {},
   "outputs": [],
   "source": [
    "# Import packages\n",
    "import pandas as pd\n",
    "import numpy as np\n",
    "import pyreadr\n",
    "import os\n",
    "from urllib.request import urlopen\n",
    "from sklearn import preprocessing\n",
    "import patsy\n",
    "\n",
    "from numpy import loadtxt\n",
    "from keras.models import Sequential\n",
    "from keras.layers import Dense\n",
    "\n",
    "import hdmpy\n",
    "import numpy as np\n",
    "import random\n",
    "import statsmodels.api as sm\n",
    "import matplotlib.pyplot as plt\n",
    "import numpy as np\n",
    "from matplotlib import colors\n",
    "from sklearn.tree import DecisionTreeRegressor\n",
    "from sklearn.ensemble import RandomForestRegressor\n",
    "from sklearn.ensemble import GradientBoostingRegressor\n",
    "from sklearn.linear_model import LassoCV\n",
    "from sklearn.preprocessing import StandardScaler\n",
    "from sklearn.linear_model import RidgeCV, ElasticNetCV\n",
    "from sklearn.linear_model import LinearRegression\n",
    "from sklearn import linear_model\n",
    "import itertools\n",
    "from pandas.api.types import is_string_dtype\n",
    "from pandas.api.types import is_numeric_dtype\n",
    "from pandas.api.types import is_categorical_dtype\n",
    "from itertools import compress\n",
    "import statsmodels.api as sm\n",
    "import statsmodels.formula.api as smf\n",
    "from sklearn.feature_selection import SelectFromModel\n",
    "from statsmodels.tools import add_constant\n",
    "from sklearn.linear_model import ElasticNet\n",
    "import hdmpy\n",
    "from scipy.stats import chi2\n",
    "from sklearn.model_selection import KFold\n",
    "import warnings\n",
    "warnings.filterwarnings('ignore')\n",
    "\n",
    "from linearmodels.iv import IV2SLS\n",
    "\n",
    "import numpy as np\n",
    "from statsmodels.api import add_constant\n",
    "from linearmodels.datasets import mroz"
   ]
  },
  {
   "cell_type": "code",
   "execution_count": 4,
   "metadata": {},
   "outputs": [
    {
     "data": {
      "text/plain": [
       "(29217, 23)"
      ]
     },
     "execution_count": 4,
     "metadata": {},
     "output_type": "execute_result"
    }
   ],
   "source": [
    "link=\"https://github.com/cran/hdm/raw/master/data/cps2012.rda\"\n",
    "response = urlopen(link)\n",
    "content = response.read()\n",
    "fhandle = open( 'cps2012.Rdata', 'wb')\n",
    "fhandle.write(content)\n",
    "fhandle.close()\n",
    "result = pyreadr.read_r(\"cps2012.Rdata\")\n",
    "os.remove(\"cps2012.Rdata\")\n",
    "\n",
    "# Extracting the data frame from rdata_read\n",
    "cps2012 = result[ 'cps2012' ]\n",
    "cps2012.shape"
   ]
  },
  {
   "cell_type": "code",
   "execution_count": 15,
   "metadata": {},
   "outputs": [],
   "source": [
    "x_formula = \" lnw ~ -1 +(widowed + divorced + separated + nevermarried + hsd08 + hsd911 + hsg + cg + ad + mw + so + we + exp1 + exp2 + exp3)**2\"\n",
    "\n",
    "y_model, x_dframe = patsy.dmatrices( x_formula, cps2012 , return_type='matrix')\n",
    "\n",
    "x = np.asarray( x_dframe , dtype = np.float64)"
   ]
  },
  {
   "cell_type": "code",
   "execution_count": 21,
   "metadata": {},
   "outputs": [],
   "source": [
    "y_model, x_dframe2 = patsy.dmatrices( x_formula, cps2012 , return_type='dataframe')"
   ]
  },
  {
   "cell_type": "code",
   "execution_count": 24,
   "metadata": {},
   "outputs": [
    {
     "data": {
      "text/plain": [
       "Index(['widowed', 'divorced', 'separated', 'nevermarried', 'hsd08', 'hsd911',\n",
       "       'hsg', 'cg', 'ad', 'mw',\n",
       "       ...\n",
       "       'so:we', 'so:exp1', 'so:exp2', 'so:exp3', 'we:exp1', 'we:exp2',\n",
       "       'we:exp3', 'exp1:exp2', 'exp1:exp3', 'exp2:exp3'],\n",
       "      dtype='object', length=120)"
      ]
     },
     "execution_count": 24,
     "metadata": {},
     "output_type": "execute_result"
    }
   ],
   "source": [
    "x_dframe2.columns"
   ]
  },
  {
   "cell_type": "code",
   "execution_count": 31,
   "metadata": {},
   "outputs": [
    {
     "name": "stdout",
     "output_type": "stream",
     "text": [
      "widowed\n",
      "divorced\n",
      "separated\n",
      "nevermarried\n",
      "hsd08\n",
      "hsd911\n",
      "hsg\n",
      "cg\n",
      "ad\n",
      "mw\n",
      "so\n",
      "we\n",
      "exp1\n",
      "exp2\n",
      "exp3\n",
      "widowed:divorced\n",
      "widowed:separated\n",
      "widowed:nevermarried\n",
      "widowed:hsd08\n",
      "widowed:hsd911\n",
      "widowed:hsg\n",
      "widowed:cg\n",
      "widowed:ad\n",
      "widowed:mw\n",
      "widowed:so\n",
      "widowed:we\n",
      "widowed:exp1\n",
      "widowed:exp2\n",
      "widowed:exp3\n",
      "divorced:separated\n",
      "divorced:nevermarried\n",
      "divorced:hsd08\n",
      "divorced:hsd911\n",
      "divorced:hsg\n",
      "divorced:cg\n",
      "divorced:ad\n",
      "divorced:mw\n",
      "divorced:so\n",
      "divorced:we\n",
      "divorced:exp1\n",
      "divorced:exp2\n",
      "divorced:exp3\n",
      "separated:nevermarried\n",
      "separated:hsd08\n",
      "separated:hsd911\n",
      "separated:hsg\n",
      "separated:cg\n",
      "separated:ad\n",
      "separated:mw\n",
      "separated:so\n",
      "separated:we\n",
      "separated:exp1\n",
      "separated:exp2\n",
      "separated:exp3\n",
      "nevermarried:hsd08\n",
      "nevermarried:hsd911\n",
      "nevermarried:hsg\n",
      "nevermarried:cg\n",
      "nevermarried:ad\n",
      "nevermarried:mw\n",
      "nevermarried:so\n",
      "nevermarried:we\n",
      "nevermarried:exp1\n",
      "nevermarried:exp2\n",
      "nevermarried:exp3\n",
      "hsd08:hsd911\n",
      "hsd08:hsg\n",
      "hsd08:cg\n",
      "hsd08:ad\n",
      "hsd08:mw\n",
      "hsd08:so\n",
      "hsd08:we\n",
      "hsd08:exp1\n",
      "hsd08:exp2\n",
      "hsd08:exp3\n",
      "hsd911:hsg\n",
      "hsd911:cg\n",
      "hsd911:ad\n",
      "hsd911:mw\n",
      "hsd911:so\n",
      "hsd911:we\n",
      "hsd911:exp1\n",
      "hsd911:exp2\n",
      "hsd911:exp3\n",
      "hsg:cg\n",
      "hsg:ad\n",
      "hsg:mw\n",
      "hsg:so\n",
      "hsg:we\n",
      "hsg:exp1\n",
      "hsg:exp2\n",
      "hsg:exp3\n",
      "cg:ad\n",
      "cg:mw\n",
      "cg:so\n",
      "cg:we\n",
      "cg:exp1\n",
      "cg:exp2\n",
      "cg:exp3\n",
      "ad:mw\n",
      "ad:so\n",
      "ad:we\n",
      "ad:exp1\n",
      "ad:exp2\n",
      "ad:exp3\n",
      "mw:so\n",
      "mw:we\n",
      "mw:exp1\n",
      "mw:exp2\n",
      "mw:exp3\n",
      "so:we\n",
      "so:exp1\n",
      "so:exp2\n",
      "so:exp3\n",
      "we:exp1\n",
      "we:exp2\n",
      "we:exp3\n",
      "exp1:exp2\n",
      "exp1:exp3\n",
      "exp2:exp3\n"
     ]
    }
   ],
   "source": [
    "for col in x_dframe2.columns:\n",
    "    print(col)"
   ]
  },
  {
   "cell_type": "code",
   "execution_count": null,
   "metadata": {},
   "outputs": [],
   "source": []
  },
  {
   "cell_type": "code",
   "execution_count": null,
   "metadata": {},
   "outputs": [],
   "source": []
  },
  {
   "cell_type": "code",
   "execution_count": null,
   "metadata": {},
   "outputs": [],
   "source": []
  },
  {
   "cell_type": "code",
   "execution_count": null,
   "metadata": {},
   "outputs": [],
   "source": []
  }
 ],
 "metadata": {
  "kernelspec": {
   "display_name": "Python 3.9.12 ('base')",
   "language": "python",
   "name": "python3"
  },
  "language_info": {
   "codemirror_mode": {
    "name": "ipython",
    "version": 3
   },
   "file_extension": ".py",
   "mimetype": "text/x-python",
   "name": "python",
   "nbconvert_exporter": "python",
   "pygments_lexer": "ipython3",
   "version": "3.9.12"
  },
  "orig_nbformat": 4,
  "vscode": {
   "interpreter": {
    "hash": "f08154012ddadd8e950e6e9e035c7a7b32c136e7647e9b7c77e02eb723a8bedb"
   }
  }
 },
 "nbformat": 4,
 "nbformat_minor": 2
}
