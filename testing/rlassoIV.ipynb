{
 "cells": [
  {
   "cell_type": "code",
   "execution_count": 13,
   "id": "0da60251-dc9c-4355-aec0-32ab33597886",
   "metadata": {},
   "outputs": [],
   "source": [
    "include(\"../jl/hdmjl.jl\");"
   ]
  },
  {
   "cell_type": "code",
   "execution_count": 4,
   "id": "e012d675-b002-4a0c-a1ba-cc6713c411cd",
   "metadata": {},
   "outputs": [
    {
     "data": {
      "text/plain": [
       "64-element Vector{Float64}:\n",
       " 4.359269647551265\n",
       " 5.634789603169249\n",
       " 4.232656178019613\n",
       " 2.145931282948669\n",
       " 4.442651256490317\n",
       " 4.268437915561019\n",
       " 4.2626798770413155\n",
       " 4.2626798770413155\n",
       " 5.634789603169249\n",
       " 5.634789603169249\n",
       " 2.7788192719904172\n",
       " 4.232656178019613\n",
       " 4.2626798770413155\n",
       " ⋮\n",
       " 4.2456340097683265\n",
       " 4.4796069630127455\n",
       " 4.976733742420574\n",
       " 6.504288173536645\n",
       " 4.442651256490317\n",
       " 4.143134726391533\n",
       " 5.634789603169249\n",
       " 4.2626798770413155\n",
       " 2.70805020110221\n",
       " 4.35799005684564\n",
       " 4.941642422609304\n",
       " 5.480638923341991"
      ]
     },
     "execution_count": 4,
     "metadata": {},
     "output_type": "execute_result"
    }
   ],
   "source": [
    "using RData\n",
    "AJR = load(\"data/AJR.RData\")[\"AJR\"]\n",
    "categorical!(AJR, [:Africa, :Asia, :Namer, :Samer])\n",
    "y = AJR.GDP\n",
    "x_form = @formula(GDP ~ Latitude + Latitude2 + Africa + Asia + Namer + Samer)\n",
    "x = modelmatrix(x_form, AJR)\n",
    "d = AJR.Exprop\n",
    "z = AJR.logMort;"
   ]
  },
  {
   "cell_type": "code",
   "execution_count": 14,
   "id": "950c858e-e7c4-4d26-9c52-b57c4fe32641",
   "metadata": {},
   "outputs": [
    {
     "data": {
      "text/plain": [
       "Dict{String, Any} with 5 entries:\n",
       "  \"se\"           => 0.250599\n",
       "  \"sample_size\"  => 64\n",
       "  \"vcov\"         => 0.0628001\n",
       "  \"residuals\"    => [0.754726, 0.951057, 1.03525, -0.619513, 0.224824, -0.27419…\n",
       "  \"coefficients\" => 0.810165"
      ]
     },
     "execution_count": 14,
     "metadata": {},
     "output_type": "execute_result"
    }
   ],
   "source": [
    "rlassoIV(x, d, y, z)"
   ]
  },
  {
   "cell_type": "code",
   "execution_count": null,
   "id": "41b149c5-04bf-4b78-930a-23162227e50c",
   "metadata": {},
   "outputs": [],
   "source": []
  }
 ],
 "metadata": {
  "kernelspec": {
   "display_name": "Julia 1.7.3",
   "language": "julia",
   "name": "julia-1.7"
  },
  "language_info": {
   "file_extension": ".jl",
   "mimetype": "application/julia",
   "name": "julia",
   "version": "1.7.3"
  }
 },
 "nbformat": 4,
 "nbformat_minor": 5
}
