{
 "cells": [
  {
   "cell_type": "code",
   "execution_count": 2,
   "id": "ac521230-18f0-4376-837d-1969ea70692f",
   "metadata": {},
   "outputs": [],
   "source": [
    "include(\"../jl/hdmjl.jl\");"
   ]
  },
  {
   "cell_type": "code",
   "execution_count": 3,
   "id": "da79381e-0838-481c-b5f0-36eb5066d2c0",
   "metadata": {},
   "outputs": [],
   "source": [
    "using RData\n",
    "AJR = load(\"data/AJR.RData\")[\"AJR\"]\n",
    "categorical!(AJR, [:Africa, :Asia, :Namer, :Samer])\n",
    "y = AJR.GDP\n",
    "x_form = @formula(GDP ~ Latitude + Latitude2 + Africa + Asia + Namer + Samer)\n",
    "x = modelmatrix(x_form, AJR)\n",
    "d = AJR.Exprop\n",
    "z = AJR.logMort\n",
    "colnames = coefnames(apply_schema(x_form, schema(AJR)).rhs);"
   ]
  },
  {
   "cell_type": "code",
   "execution_count": 7,
   "id": "962856b0-bde8-40d8-ba59-4ee3549d45fc",
   "metadata": {},
   "outputs": [
    {
     "data": {
      "text/plain": [
       "Dict{String, Any} with 3 entries:\n",
       "  \"lambda0\" => 42.134\n",
       "  \"lambda\"  => [19.6053; 7.73987; … ; 23.1587; 35.2883;;]\n",
       "  \"Ups0\"    => [0.465308; 0.183696; … ; 0.549644; 0.837525;;]"
      ]
     },
     "execution_count": 7,
     "metadata": {},
     "output_type": "execute_result"
    }
   ],
   "source": [
    "startingval = init_values(x, y)[\"residuals\"]\n",
    "pen = lambdaCalculation(x = x, y = startingval)"
   ]
  },
  {
   "cell_type": "code",
   "execution_count": 11,
   "id": "5e753b30-85d7-406c-8e4e-c630026d98e6",
   "metadata": {},
   "outputs": [
    {
     "data": {
      "text/plain": [
       "Dict{String, Any} with 3 entries:\n",
       "  \"lambda0\" => 42.134\n",
       "  \"lambda\"  => [75.4677; 34.8827; … ; 134.972; 118.837;;]\n",
       "  \"Ups0\"    => [1.79113; 0.827897; … ; 3.2034; 2.82044;;]"
      ]
     },
     "execution_count": 11,
     "metadata": {},
     "output_type": "execute_result"
    }
   ],
   "source": [
    "lambdaCalculation(x = x, y = d)"
   ]
  },
  {
   "cell_type": "code",
   "execution_count": 5,
   "id": "d0c76d7f-c323-4b00-a4d5-aec788ad5649",
   "metadata": {},
   "outputs": [
    {
     "data": {
      "text/plain": [
       "6×1 Matrix{Float64}:\n",
       " 19.60532615950801\n",
       "  7.739872081702783\n",
       " 51.415712379684955\n",
       " 85.12941090350026\n",
       " 23.15872836765126\n",
       " 35.288325772714124"
      ]
     },
     "execution_count": 5,
     "metadata": {},
     "output_type": "execute_result"
    }
   ],
   "source": [
    "lambda = pen[\"lambda\"]"
   ]
  },
  {
   "cell_type": "code",
   "execution_count": null,
   "id": "5d26b996-6f5a-42e6-918a-04b6728d3b55",
   "metadata": {},
   "outputs": [],
   "source": []
  }
 ],
 "metadata": {
  "kernelspec": {
   "display_name": "Julia 1.7.3",
   "language": "julia",
   "name": "julia-1.7"
  },
  "language_info": {
   "file_extension": ".jl",
   "mimetype": "application/julia",
   "name": "julia",
   "version": "1.7.3"
  }
 },
 "nbformat": 4,
 "nbformat_minor": 5
}
