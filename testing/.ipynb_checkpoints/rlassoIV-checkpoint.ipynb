{
 "cells": [
  {
   "cell_type": "code",
   "execution_count": 1,
   "id": "0da60251-dc9c-4355-aec0-32ab33597886",
   "metadata": {},
   "outputs": [],
   "source": [
    "include(\"../jl/hdmjl.jl\");"
   ]
  },
  {
   "cell_type": "code",
   "execution_count": 2,
   "id": "e012d675-b002-4a0c-a1ba-cc6713c411cd",
   "metadata": {},
   "outputs": [],
   "source": [
    "using RData\n",
    "AJR = load(\"data/AJR.RData\")[\"AJR\"]\n",
    "categorical!(AJR, [:Africa, :Asia, :Namer, :Samer])\n",
    "y = AJR.GDP\n",
    "x_form = @formula(GDP ~ Latitude + Latitude2 + Africa + Asia + Namer + Samer)\n",
    "x = modelmatrix(x_form, AJR)\n",
    "d = AJR.Exprop\n",
    "z = AJR.logMort;"
   ]
  },
  {
   "cell_type": "code",
   "execution_count": 3,
   "id": "950c858e-e7c4-4d26-9c52-b57c4fe32641",
   "metadata": {},
   "outputs": [
    {
     "data": {
      "text/plain": [
       "Dict{String, Any} with 5 entries:\n",
       "  \"se\"           => 0.275001\n",
       "  \"sample_size\"  => 64\n",
       "  \"vcov\"         => 0.0756254\n",
       "  \"residuals\"    => [0.754726, 0.951057, 1.03525, -0.619513, 0.224824, -0.27419…\n",
       "  \"coefficients\" => 0.810165"
      ]
     },
     "execution_count": 3,
     "metadata": {},
     "output_type": "execute_result"
    }
   ],
   "source": [
    "rlassoIV(x, d, y, z)"
   ]
  }
 ],
 "metadata": {
  "kernelspec": {
   "display_name": "Julia 1.7.3",
   "language": "julia",
   "name": "julia-1.7"
  },
  "language_info": {
   "file_extension": ".jl",
   "mimetype": "application/julia",
   "name": "julia",
   "version": "1.7.3"
  }
 },
 "nbformat": 4,
 "nbformat_minor": 5
}
