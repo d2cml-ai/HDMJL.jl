{
 "cells": [
  {
   "cell_type": "code",
   "execution_count": 20,
   "id": "159064e0-bed1-4e9f-8e71-914d9bd737ac",
   "metadata": {},
   "outputs": [],
   "source": [
    "include(\"../jl/hdmjl.jl\");"
   ]
  },
  {
   "cell_type": "code",
   "execution_count": 3,
   "id": "0a92ff55-87ec-4be5-93a5-0eb145021e4b",
   "metadata": {},
   "outputs": [],
   "source": [
    "using RData\n",
    "AJR = load(\"data/AJR.RData\")[\"AJR\"]\n",
    "categorical!(AJR, [:Africa, :Asia, :Namer, :Samer])\n",
    "y = AJR.GDP\n",
    "x_form = @formula(GDP ~ Latitude + Latitude2 + Africa + Asia + Namer + Samer)\n",
    "x = modelmatrix(x_form, AJR)\n",
    "d = AJR.Exprop\n",
    "z = AJR.logMort\n",
    "colnames = coefnames(apply_schema(x_form, schema(AJR)).rhs);"
   ]
  },
  {
   "cell_type": "code",
   "execution_count": 23,
   "id": "96c1c4ce-f5b5-4d29-972b-0a4ada268ec4",
   "metadata": {},
   "outputs": [
    {
     "data": {
      "text/plain": [
       "Dict{String, Any} with 15 entries:\n",
       "  \"tss\"          => 98.8384\n",
       "  \"dev\"          => [-0.287479, 0.988041, -0.414093, -2.50082, -0.204098, -0.37…\n",
       "  \"model\"        => [0.3111 0.0967832 … 0.0 0.0; 0.1367 0.0186869 … 0.0 0.0; … …\n",
       "  \"loadings\"     => [0.134972, 0.0809192, 0.495542, 0.328988, 0.292991, 0.22045…\n",
       "  \"sigma\"        => 0.946722\n",
       "  \"lambda0\"      => 50.6453\n",
       "  \"lambda\"       => [6.83571, 4.09818, 25.0969, 16.6617, 14.8386, 11.165]\n",
       "  \"intercept\"    => 4.52004\n",
       "  \"iter\"         => 3\n",
       "  \"residuals\"    => [-0.799722, 0.0552362, 0.623671, -1.65067, 0.569609, 0.3915…\n",
       "  \"rss\"          => 56.4658\n",
       "  \"index\"        => Bool[1, 0, 1, 0, 0, 0]\n",
       "  \"beta\"         => [-2.41148, 0.0, 1.38916, 0.0, 0.0, 0.0]\n",
       "  \"options\"      => Dict{String, Any}(\"intercept\"=>true, \"post\"=>true, \"meanx\"=…\n",
       "  \"coefficients\" => [4.52004, -2.41148, 0.0, 1.38916, 0.0, 0.0, 0.0]"
      ]
     },
     "execution_count": 23,
     "metadata": {},
     "output_type": "execute_result"
    }
   ],
   "source": [
    "rlasso_test = rlasso(x, z)"
   ]
  }
 ],
 "metadata": {
  "kernelspec": {
   "display_name": "Julia 1.7.3",
   "language": "julia",
   "name": "julia-1.7"
  },
  "language_info": {
   "file_extension": ".jl",
   "mimetype": "application/julia",
   "name": "julia",
   "version": "1.7.3"
  }
 },
 "nbformat": 4,
 "nbformat_minor": 5
}
