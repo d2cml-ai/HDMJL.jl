{
 "cells": [
  {
   "cell_type": "code",
   "execution_count": 1,
   "id": "159064e0-bed1-4e9f-8e71-914d9bd737ac",
   "metadata": {},
   "outputs": [
    {
     "data": {
      "text/plain": [
       "LassoShooting_fit (generic function with 7 methods)"
      ]
     },
     "execution_count": 1,
     "metadata": {},
     "output_type": "execute_result"
    }
   ],
   "source": [
    "include(\"../jl/hdmjl.jl\")"
   ]
  },
  {
   "cell_type": "code",
   "execution_count": null,
   "id": "0b34e827-8a99-439c-a269-b6d39f58905b",
   "metadata": {},
   "outputs": [],
   "source": []
  }
 ],
 "metadata": {
  "kernelspec": {
   "display_name": "Julia 1.7.3",
   "language": "julia",
   "name": "julia-1.7"
  },
  "language_info": {
   "file_extension": ".jl",
   "mimetype": "application/julia",
   "name": "julia",
   "version": "1.7.3"
  }
 },
 "nbformat": 4,
 "nbformat_minor": 5
}
