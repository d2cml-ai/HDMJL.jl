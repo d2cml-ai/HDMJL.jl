{
 "cells": [
  {
   "cell_type": "code",
   "execution_count": 45,
   "id": "159064e0-bed1-4e9f-8e71-914d9bd737ac",
   "metadata": {},
   "outputs": [],
   "source": [
    "include(\"../jl/hdmjl.jl\");"
   ]
  },
  {
   "cell_type": "code",
   "execution_count": 12,
   "id": "0a92ff55-87ec-4be5-93a5-0eb145021e4b",
   "metadata": {},
   "outputs": [],
   "source": [
    "using RData\n",
    "AJR = load(\"data/AJR.RData\")[\"AJR\"]\n",
    "categorical!(AJR, [:Africa, :Asia, :Namer, :Samer])\n",
    "y = AJR.GDP\n",
    "x_form = @formula(GDP ~ Latitude + Latitude2 + Africa + Asia + Namer + Samer)\n",
    "x = modelmatrix(x_form, AJR)\n",
    "d = AJR.Exprop\n",
    "z = AJR.logMort\n",
    "colnames = coefnames(apply_schema(x_form, schema(AJR)).rhs);"
   ]
  },
  {
   "cell_type": "code",
   "execution_count": 46,
   "id": "96c1c4ce-f5b5-4d29-972b-0a4ada268ec4",
   "metadata": {},
   "outputs": [
    {
     "data": {
      "text/html": [
       "<table class=\"data-frame\"><thead><tr><th></th><th>x1</th><th>x2</th></tr><tr><th></th><th>String</th><th>Float64</th></tr></thead><tbody><p>7 rows × 2 columns</p><tr><th>1</th><td>Intercept</td><td>4.54528</td></tr><tr><th>2</th><td>V1</td><td>-1.47241</td></tr><tr><th>3</th><td>V2</td><td>-1.94483</td></tr><tr><th>4</th><td>V3</td><td>1.30273</td></tr><tr><th>5</th><td>V4</td><td>-0.403847</td></tr><tr><th>6</th><td>V5</td><td>0.0</td></tr><tr><th>7</th><td>V6</td><td>0.0</td></tr></tbody></table>"
      ],
      "text/latex": [
       "\\begin{tabular}{r|cc}\n",
       "\t& x1 & x2\\\\\n",
       "\t\\hline\n",
       "\t& String & Float64\\\\\n",
       "\t\\hline\n",
       "\t1 & Intercept & 4.54528 \\\\\n",
       "\t2 & V1 & -1.47241 \\\\\n",
       "\t3 & V2 & -1.94483 \\\\\n",
       "\t4 & V3 & 1.30273 \\\\\n",
       "\t5 & V4 & -0.403847 \\\\\n",
       "\t6 & V5 & 0.0 \\\\\n",
       "\t7 & V6 & 0.0 \\\\\n",
       "\\end{tabular}\n"
      ],
      "text/plain": [
       "\u001b[1m7×2 DataFrame\u001b[0m\n",
       "\u001b[1m Row \u001b[0m│\u001b[1m x1        \u001b[0m\u001b[1m x2        \u001b[0m\n",
       "\u001b[1m     \u001b[0m│\u001b[90m String    \u001b[0m\u001b[90m Float64   \u001b[0m\n",
       "─────┼──────────────────────\n",
       "   1 │ Intercept   4.54528\n",
       "   2 │ V1         -1.47241\n",
       "   3 │ V2         -1.94483\n",
       "   4 │ V3          1.30273\n",
       "   5 │ V4         -0.403847\n",
       "   6 │ V5          0.0\n",
       "   7 │ V6          0.0"
      ]
     },
     "execution_count": 46,
     "metadata": {},
     "output_type": "execute_result"
    }
   ],
   "source": [
    "rlasso_test = rlasso(x, z)\n",
    "rlasso_test[\"coefficients\"]"
   ]
  },
  {
   "cell_type": "code",
   "execution_count": 47,
   "id": "6c08c9a8-fc17-464d-b37d-86087c1ab9ae",
   "metadata": {},
   "outputs": [
    {
     "data": {
      "text/plain": [
       "64-element Vector{Float64}:\n",
       " -0.8424424715299083\n",
       "  0.0244048792076903\n",
       "  0.5212446624669635\n",
       " -1.7825902940221758\n",
       "  0.4324179028972327\n",
       "  0.6580308353844284\n",
       "  0.06493646414845061\n",
       " -0.09500943905501286\n",
       "  0.03995196922104316\n",
       "  1.6328959172308704\n",
       "  0.07965208942179869\n",
       "  0.3941802218950641\n",
       " -0.21339070705298757\n",
       "  ⋮\n",
       "  0.23052662579466654\n",
       " -1.0689035898566033\n",
       " -0.7644102180853531\n",
       "  0.8025497921719698\n",
       "  0.10634208987728216\n",
       " -0.871003292530877\n",
       " -0.1966330836144894\n",
       "  0.5188526085644997\n",
       " -0.8689058458604366\n",
       " -0.04102182114927483\n",
       "  1.1234859750049582\n",
       " -0.36736713850297176"
      ]
     },
     "execution_count": 47,
     "metadata": {},
     "output_type": "execute_result"
    }
   ],
   "source": [
    "rlasso_test[\"residuals\"]"
   ]
  },
  {
   "cell_type": "code",
   "execution_count": 49,
   "id": "4c883c16-83e1-4ab2-96b4-53001e59b252",
   "metadata": {},
   "outputs": [
    {
     "data": {
      "text/plain": [
       "50.645264767783424"
      ]
     },
     "execution_count": 49,
     "metadata": {},
     "output_type": "execute_result"
    }
   ],
   "source": [
    "rlasso_test[\"lambda0\"]"
   ]
  },
  {
   "cell_type": "code",
   "execution_count": null,
   "id": "7fd94531-10ce-4d45-9f55-8d49f9a3cfcf",
   "metadata": {},
   "outputs": [],
   "source": []
  }
 ],
 "metadata": {
  "kernelspec": {
   "display_name": "Julia 1.7.3",
   "language": "julia",
   "name": "julia-1.7"
  },
  "language_info": {
   "file_extension": ".jl",
   "mimetype": "application/julia",
   "name": "julia",
   "version": "1.7.3"
  }
 },
 "nbformat": 4,
 "nbformat_minor": 5
}
