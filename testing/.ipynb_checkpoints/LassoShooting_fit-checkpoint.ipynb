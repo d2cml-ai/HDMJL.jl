{
 "cells": [
  {
   "cell_type": "code",
   "execution_count": 13,
   "id": "ac521230-18f0-4376-837d-1969ea70692f",
   "metadata": {},
   "outputs": [],
   "source": [
    "include(\"../jl/hdmjl.jl\");"
   ]
  },
  {
   "cell_type": "code",
   "execution_count": 3,
   "id": "da79381e-0838-481c-b5f0-36eb5066d2c0",
   "metadata": {},
   "outputs": [],
   "source": [
    "using RData\n",
    "AJR = load(\"data/AJR.RData\")[\"AJR\"]\n",
    "categorical!(AJR, [:Africa, :Asia, :Namer, :Samer])\n",
    "y = AJR.GDP\n",
    "x_form = @formula(GDP ~ Latitude + Latitude2 + Africa + Asia + Namer + Samer)\n",
    "x = modelmatrix(x_form, AJR)\n",
    "d = AJR.Exprop\n",
    "z = AJR.logMort\n",
    "colnames = coefnames(apply_schema(x_form, schema(AJR)).rhs);"
   ]
  },
  {
   "cell_type": "code",
   "execution_count": 17,
   "id": "53f5549c-acde-436d-b568-0a0dbdd8809b",
   "metadata": {},
   "outputs": [
    {
     "data": {
      "text/plain": [
       "64-element Vector{Float64}:\n",
       "  0.32750000000000057\n",
       " -0.2925000000000004\n",
       "  1.0675000000000008\n",
       "  1.8375000000000004\n",
       "  1.2274999999999991\n",
       " -1.1825\n",
       " -0.13250000000000028\n",
       "  0.6675000000000004\n",
       " -1.2125000000000004\n",
       " -0.5625\n",
       "  1.9275000000000002\n",
       "  1.2774999999999999\n",
       "  0.7475000000000005\n",
       "  ⋮\n",
       " -0.3324999999999996\n",
       " -0.7525000000000004\n",
       " -1.8125\n",
       " -0.8425000000000002\n",
       "  0.7074999999999996\n",
       "  0.4175000000000004\n",
       " -1.0925000000000002\n",
       "  0.9674999999999994\n",
       "  2.1575000000000006\n",
       "  1.0075000000000003\n",
       " -0.7824999999999998\n",
       " -1.1925"
      ]
     },
     "execution_count": 17,
     "metadata": {},
     "output_type": "execute_result"
    }
   ],
   "source": [
    "meanx = mean(x, dims = 1)\n",
    "x = x .- meanx\n",
    "mu = mean(y)\n",
    "y = y .- mu;"
   ]
  },
  {
   "cell_type": "code",
   "execution_count": 18,
   "id": "962856b0-bde8-40d8-ba59-4ee3549d45fc",
   "metadata": {},
   "outputs": [
    {
     "data": {
      "text/plain": [
       "Dict{String, Any} with 3 entries:\n",
       "  \"lambda0\" => 42.134\n",
       "  \"lambda\"  => [5.20251; 3.17143; … ; 12.0013; 7.92386;;]\n",
       "  \"Ups0\"    => [0.123475; 0.07527; … ; 0.284836; 0.188063;;]"
      ]
     },
     "execution_count": 18,
     "metadata": {},
     "output_type": "execute_result"
    }
   ],
   "source": [
    "startingval = init_values(x, y)[\"residuals\"]\n",
    "pen = lambdaCalculation(x = x, y = startingval)"
   ]
  },
  {
   "cell_type": "code",
   "execution_count": null,
   "id": "d0c76d7f-c323-4b00-a4d5-aec788ad5649",
   "metadata": {},
   "outputs": [],
   "source": []
  }
 ],
 "metadata": {
  "kernelspec": {
   "display_name": "Julia 1.7.3",
   "language": "julia",
   "name": "julia-1.7"
  },
  "language_info": {
   "file_extension": ".jl",
   "mimetype": "application/julia",
   "name": "julia",
   "version": "1.7.3"
  }
 },
 "nbformat": 4,
 "nbformat_minor": 5
}
