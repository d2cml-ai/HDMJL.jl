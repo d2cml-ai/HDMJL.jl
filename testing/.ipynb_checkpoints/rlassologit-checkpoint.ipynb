{
 "cells": [
  {
   "cell_type": "code",
   "execution_count": 35,
   "id": "45dff74e-4573-4cad-995f-b322f795ad71",
   "metadata": {},
   "outputs": [],
   "source": [
    "include(\"../jl/hdmjl.jl\");"
   ]
  },
  {
   "cell_type": "code",
   "execution_count": 25,
   "id": "0634274a-5a09-428e-b343-24b130add815",
   "metadata": {},
   "outputs": [],
   "source": [
    "using Distributions\n",
    "n = 250\n",
    "p = 100\n",
    "px = 10\n",
    "X = randn((n, p))\n",
    "beta = vcat(repeat([2.], px), zeros(p - px))\n",
    "intercept = 1\n",
    "P = exp.(intercept .+ X * beta) ./ (1 .+ exp.(intercept .+ X * beta))\n",
    "y = Float64[]\n",
    "for i in P\n",
    "    y = vcat(y, rand(Binomial(1, i)))\n",
    "end\n"
   ]
  },
  {
   "cell_type": "code",
   "execution_count": 36,
   "id": "726e98d9-90b5-4f65-b064-afc7353babe1",
   "metadata": {},
   "outputs": [
    {
     "ename": "LoadError",
     "evalue": "MethodError: no method matching zero(::Type{Any})\n\u001b[0mClosest candidates are:\n\u001b[0m  zero(::Type{Union{Missing, T}}) where T at C:\\Users\\Work\\AppData\\Local\\Programs\\Julia-1.7.3\\share\\julia\\base\\missing.jl:105\n\u001b[0m  zero(\u001b[91m::Union{Type{P}, P}\u001b[39m) where P<:Dates.Period at C:\\Users\\Work\\AppData\\Local\\Programs\\Julia-1.7.3\\share\\julia\\stdlib\\v1.7\\Dates\\src\\periods.jl:53\n\u001b[0m  zero(\u001b[91m::T\u001b[39m) where T<:Dates.TimeType at C:\\Users\\Work\\AppData\\Local\\Programs\\Julia-1.7.3\\share\\julia\\stdlib\\v1.7\\Dates\\src\\types.jl:450\n\u001b[0m  ...",
     "output_type": "error",
     "traceback": [
      "MethodError: no method matching zero(::Type{Any})\n\u001b[0mClosest candidates are:\n\u001b[0m  zero(::Type{Union{Missing, T}}) where T at C:\\Users\\Work\\AppData\\Local\\Programs\\Julia-1.7.3\\share\\julia\\base\\missing.jl:105\n\u001b[0m  zero(\u001b[91m::Union{Type{P}, P}\u001b[39m) where P<:Dates.Period at C:\\Users\\Work\\AppData\\Local\\Programs\\Julia-1.7.3\\share\\julia\\stdlib\\v1.7\\Dates\\src\\periods.jl:53\n\u001b[0m  zero(\u001b[91m::T\u001b[39m) where T<:Dates.TimeType at C:\\Users\\Work\\AppData\\Local\\Programs\\Julia-1.7.3\\share\\julia\\stdlib\\v1.7\\Dates\\src\\types.jl:450\n\u001b[0m  ...",
      "",
      "Stacktrace:",
      "  [1] zero(#unused#::Type{Any})",
      "    @ Base .\\missing.jl:106",
      "  [2] float(A::Vector{Any})",
      "    @ Base .\\missing.jl:186",
      "  [3] fit(::Type{GeneralizedLinearModel}, X::Matrix{Float64}, y::Vector{Any}, d::Binomial{Float64}, l::LogitLink; kwargs::Base.Pairs{Symbol, Union{}, Tuple{}, NamedTuple{(), Tuple{}}})",
      "    @ GLM C:\\Users\\Work\\.julia\\packages\\GLM\\P0Ris\\src\\glmfit.jl:497",
      "  [4] fit(::Type{GeneralizedLinearModel}, X::Matrix{Float64}, y::Vector{Any}, d::Binomial{Float64}, l::LogitLink)",
      "    @ GLM C:\\Users\\Work\\.julia\\packages\\GLM\\P0Ris\\src\\glmfit.jl:497",
      "  [5] glm(::Matrix{Float64}, ::Vector{Any}, ::Binomial{Float64}, ::Vararg{Any}; kwargs::Base.Pairs{Symbol, Union{}, Tuple{}, NamedTuple{(), Tuple{}}})",
      "    @ GLM C:\\Users\\Work\\.julia\\packages\\GLM\\P0Ris\\src\\glmfit.jl:510",
      "  [6] glm(::Matrix{Float64}, ::Vector{Any}, ::Binomial{Float64}, ::Vararg{Any})",
      "    @ GLM C:\\Users\\Work\\.julia\\packages\\GLM\\P0Ris\\src\\glmfit.jl:510",
      "  [7] rlassologit(x::Matrix{Float64}, y::Vector{Any}; penalty_c::Float64, post::Bool, penalty_gamma::Float64, penalty_lambda::Nothing, intercept::Bool, control_threshold::Nothing)",
      "    @ Main C:\\Users\\Work\\Documents\\Work\\d2cml-ai\\HDMJL.jl\\jl\\rlassologit.jl:117",
      "  [8] rlassologit(x::Matrix{Float64}, y::Vector{Any})",
      "    @ Main C:\\Users\\Work\\Documents\\Work\\d2cml-ai\\HDMJL.jl\\jl\\rlassologit.jl:34",
      "  [9] top-level scope",
      "    @ In[36]:1",
      " [10] eval",
      "    @ .\\boot.jl:373 [inlined]",
      " [11] include_string(mapexpr::typeof(REPL.softscope), mod::Module, code::String, filename::String)",
      "    @ Base .\\loading.jl:1196"
     ]
    }
   ],
   "source": [
    "rlassologit(X, y)"
   ]
  },
  {
   "cell_type": "code",
   "execution_count": 37,
   "id": "26c9ea5e-5fae-4a27-834b-291dc3d3ca22",
   "metadata": {},
   "outputs": [
    {
     "data": {
      "text/plain": [
       "250-element Vector{Any}:\n",
       " 1\n",
       " 1\n",
       " 0\n",
       " 1\n",
       " 0\n",
       " 1\n",
       " 0\n",
       " 0\n",
       " 1\n",
       " 0\n",
       " 1\n",
       " 1\n",
       " 1\n",
       " ⋮\n",
       " 0\n",
       " 1\n",
       " 1\n",
       " 1\n",
       " 1\n",
       " 1\n",
       " 0\n",
       " 0\n",
       " 1\n",
       " 1\n",
       " 0\n",
       " 0"
      ]
     },
     "execution_count": 37,
     "metadata": {},
     "output_type": "execute_result"
    }
   ],
   "source": [
    "y"
   ]
  }
 ],
 "metadata": {
  "kernelspec": {
   "display_name": "Julia 1.7.3",
   "language": "julia",
   "name": "julia-1.7"
  },
  "language_info": {
   "file_extension": ".jl",
   "mimetype": "application/julia",
   "name": "julia",
   "version": "1.7.3"
  }
 },
 "nbformat": 4,
 "nbformat_minor": 5
}
