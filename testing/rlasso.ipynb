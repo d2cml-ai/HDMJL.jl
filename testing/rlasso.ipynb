{
 "cells": [
  {
   "cell_type": "code",
   "execution_count": 25,
   "id": "159064e0-bed1-4e9f-8e71-914d9bd737ac",
   "metadata": {},
   "outputs": [],
   "source": [
    "include(\"../jl/hdmjl.jl\");"
   ]
  },
  {
   "cell_type": "code",
   "execution_count": 3,
   "id": "0a92ff55-87ec-4be5-93a5-0eb145021e4b",
   "metadata": {},
   "outputs": [],
   "source": [
    "using RData\n",
    "AJR = load(\"data/AJR.RData\")[\"AJR\"]\n",
    "categorical!(AJR, [:Africa, :Asia, :Namer, :Samer])\n",
    "y = AJR.GDP\n",
    "x_form = @formula(GDP ~ Latitude + Latitude2 + Africa + Asia + Namer + Samer)\n",
    "x = modelmatrix(x_form, AJR)\n",
    "d = AJR.Exprop\n",
    "z = AJR.logMort\n",
    "colnames = coefnames(apply_schema(x_form, schema(AJR)).rhs);"
   ]
  },
  {
   "cell_type": "code",
   "execution_count": 26,
   "id": "96c1c4ce-f5b5-4d29-972b-0a4ada268ec4",
   "metadata": {},
   "outputs": [
    {
     "data": {
      "text/plain": [
       "Dict{String, Any} with 15 entries:\n",
       "  \"tss\"          => 135.922\n",
       "  \"dev\"          => [-0.0160938, -1.15609, -0.126094, 2.80391, 0.983906, -1.376…\n",
       "  \"model\"        => [0.3111 0.0967832 … 0.0 0.0; 0.1367 0.0186869 … 0.0 0.0; … …\n",
       "  \"loadings\"     => [0.190507, 0.111788, 0.614054, 0.491963, 0.56841, 0.337995]\n",
       "  \"sigma\"        => 1.26732\n",
       "  \"lambda0\"      => 50.6453\n",
       "  \"lambda\"       => [9.64826, 5.66152, 31.0989, 24.9156, 28.7873, 17.1178]\n",
       "  \"intercept\"    => 6.61749\n",
       "  \"iter\"         => 3\n",
       "  \"residuals\"    => [0.344886, -0.342749, -1.05425, 2.1812, 0.465547, -1.88949,…\n",
       "  \"rss\"          => 101.185\n",
       "  \"index\"        => Bool[0, 1, 1, 0, 0, 0]\n",
       "  \"beta\"         => [0.0, 5.79239, -1.02298, 0.0, 0.0, 0.0]\n",
       "  \"options\"      => Dict{String, Any}(\"intercept\"=>true, \"post\"=>true, \"meanx\"=…\n",
       "  \"coefficients\" => [6.61749, 0.0, 5.79239, -1.02298, 0.0, 0.0, 0.0]"
      ]
     },
     "execution_count": 26,
     "metadata": {},
     "output_type": "execute_result"
    }
   ],
   "source": [
    "rlasso_test = rlasso(x, d)"
   ]
  }
 ],
 "metadata": {
  "kernelspec": {
   "display_name": "Julia 1.7.3",
   "language": "julia",
   "name": "julia-1.7"
  },
  "language_info": {
   "file_extension": ".jl",
   "mimetype": "application/julia",
   "name": "julia",
   "version": "1.7.3"
  }
 },
 "nbformat": 4,
 "nbformat_minor": 5
}
