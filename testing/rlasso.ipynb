{
 "cells": [
  {
   "cell_type": "code",
   "execution_count": 68,
   "id": "159064e0-bed1-4e9f-8e71-914d9bd737ac",
   "metadata": {},
   "outputs": [],
   "source": [
    "include(\"../jl/hdmjl.jl\");"
   ]
  },
  {
   "cell_type": "code",
   "execution_count": 3,
   "id": "0a92ff55-87ec-4be5-93a5-0eb145021e4b",
   "metadata": {},
   "outputs": [],
   "source": [
    "using RData\n",
    "AJR = load(\"data/AJR.RData\")[\"AJR\"]\n",
    "categorical!(AJR, [:Africa, :Asia, :Namer, :Samer])\n",
    "y = AJR.GDP\n",
    "x_form = @formula(GDP ~ Latitude + Latitude2 + Africa + Asia + Namer + Samer)\n",
    "x = modelmatrix(x_form, AJR)\n",
    "d = AJR.Exprop\n",
    "z = AJR.logMort\n",
    "colnames = coefnames(apply_schema(x_form, schema(AJR)).rhs);"
   ]
  },
  {
   "cell_type": "code",
   "execution_count": 70,
   "id": "96c1c4ce-f5b5-4d29-972b-0a4ada268ec4",
   "metadata": {},
   "outputs": [
    {
     "data": {
      "text/plain": [
       "7-element Vector{Float64}:\n",
       "  6.476288121344424\n",
       "  0.0\n",
       "  6.053488783223089\n",
       " -0.894415921709402\n",
       "  0.5125595239855838\n",
       "  0.0\n",
       "  0.0"
      ]
     },
     "execution_count": 70,
     "metadata": {},
     "output_type": "execute_result"
    }
   ],
   "source": [
    "rlasso_test = rlasso(x, d)[\"coefficients\"]"
   ]
  },
  {
   "cell_type": "code",
   "execution_count": 75,
   "id": "d90f21cb-ebb9-4e29-ae6f-a1b8c8b6c211",
   "metadata": {},
   "outputs": [
    {
     "data": {
      "text/plain": [
       "64×6 Matrix{Float64}:\n",
       " 0.3111  0.0967832   1.0  0.0  0.0  0.0\n",
       " 0.1367  0.0186869   1.0  0.0  0.0  0.0\n",
       " 0.3778  0.142733    0.0  0.0  0.0  1.0\n",
       " 0.3     0.09        0.0  0.0  0.0  0.0\n",
       " 0.2683  0.0719849   0.0  0.0  1.0  0.0\n",
       " 0.2667  0.0711289   0.0  1.0  0.0  0.0\n",
       " 0.1889  0.0356832   0.0  0.0  0.0  1.0\n",
       " 0.1111  0.0123432   0.0  0.0  0.0  1.0\n",
       " 0.1444  0.0208514   1.0  0.0  0.0  0.0\n",
       " 0.6667  0.444489    1.0  0.0  0.0  0.0\n",
       " 0.6667  0.444489    0.0  0.0  1.0  0.0\n",
       " 0.3333  0.111089    0.0  0.0  0.0  1.0\n",
       " 0.0444  0.00197136  0.0  0.0  0.0  1.0\n",
       " ⋮                                  ⋮\n",
       " 0.0778  0.00605284  0.0  1.0  0.0  0.0\n",
       " 0.1667  0.0277889   1.0  0.0  0.0  0.0\n",
       " 0.0667  0.00444889  1.0  0.0  0.0  0.0\n",
       " 0.0889  0.00790321  1.0  0.0  0.0  0.0\n",
       " 0.1222  0.0149328   0.0  0.0  1.0  0.0\n",
       " 0.3778  0.142733    1.0  0.0  0.0  0.0\n",
       " 0.0111  0.00012321  1.0  0.0  0.0  0.0\n",
       " 0.3667  0.134469    0.0  0.0  0.0  1.0\n",
       " 0.4222  0.178253    0.0  0.0  1.0  0.0\n",
       " 0.0889  0.00790321  0.0  0.0  0.0  1.0\n",
       " 0.1778  0.0316128   0.0  1.0  0.0  0.0\n",
       " 0.0     0.0         1.0  0.0  0.0  0.0"
      ]
     },
     "execution_count": 75,
     "metadata": {},
     "output_type": "execute_result"
    }
   ],
   "source": [
    "x"
   ]
  },
  {
   "cell_type": "code",
   "execution_count": null,
   "id": "7e201559-6ca4-43f9-b72d-98f1b1c66ac9",
   "metadata": {},
   "outputs": [],
   "source": [
    "d"
   ]
  }
 ],
 "metadata": {
  "kernelspec": {
   "display_name": "Julia 1.7.3",
   "language": "julia",
   "name": "julia-1.7"
  },
  "language_info": {
   "file_extension": ".jl",
   "mimetype": "application/julia",
   "name": "julia",
   "version": "1.7.3"
  }
 },
 "nbformat": 4,
 "nbformat_minor": 5
}
