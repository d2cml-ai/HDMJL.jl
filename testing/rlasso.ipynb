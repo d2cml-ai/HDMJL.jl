{
 "cells": [
  {
   "cell_type": "code",
<<<<<<< HEAD
   "execution_count": 25,
=======
   "execution_count": 1,
>>>>>>> main
   "id": "159064e0-bed1-4e9f-8e71-914d9bd737ac",
   "metadata": {},
   "outputs": [],
   "source": [
    "include(\"../jl/hdmjl.jl\");"
   ]
  },
  {
   "cell_type": "code",
   "execution_count": 3,
   "id": "0a92ff55-87ec-4be5-93a5-0eb145021e4b",
   "metadata": {},
   "outputs": [],
   "source": [
    "using RData\n",
    "AJR = load(\"data/AJR.RData\")[\"AJR\"]\n",
    "categorical!(AJR, [:Africa, :Asia, :Namer, :Samer])\n",
    "y = AJR.GDP\n",
    "x_form = @formula(GDP ~ Latitude + Latitude2 + Africa + Asia + Namer + Samer)\n",
    "x = modelmatrix(x_form, AJR)\n",
    "d = AJR.Exprop\n",
    "z = AJR.logMort\n",
    "colnames = coefnames(apply_schema(x_form, schema(AJR)).rhs);"
   ]
  },
  {
   "cell_type": "code",
<<<<<<< HEAD
   "execution_count": 27,
=======
   "execution_count": 4,
>>>>>>> main
   "id": "96c1c4ce-f5b5-4d29-972b-0a4ada268ec4",
   "metadata": {},
   "outputs": [
    {
     "data": {
      "text/plain": [
       "Dict{String, Any} with 15 entries:\n",
       "  \"tss\"          => 68.6266\n",
       "  \"dev\"          => [0.3275, -0.2925, 1.0675, 1.8375, 1.2275, -1.1825, -0.1325,…\n",
       "  \"model\"        => [0.3111 0.0967832 … 0.0 0.0; 0.1367 0.0186869 … 0.0 0.0; … …\n",
       "  \"loadings\"     => [0.122995, 0.0751357, 0.369992, 0.412363, 0.286121, 0.19147…\n",
       "  \"sigma\"        => 0.771812\n",
       "  \"lambda0\"      => 50.6453\n",
       "  \"lambda\"       => [6.22911, 3.80527, 18.7384, 20.8842, 14.4907, 9.69708]\n",
       "  \"intercept\"    => 8.35079\n",
       "  \"iter\"         => 16\n",
       "  \"residuals\"    => [0.867786, 0.543648, 0.238474, 1.20825, 0.666497, -1.74026,…\n",
       "  \"rss\"          => 37.5287\n",
       "  \"index\"        => Bool[0, 1, 1, 0, 0, 0]\n",
       "  \"beta\"         => [0.0, 3.78842, -1.19524, 0.0, 0.0, 0.0]\n",
       "  \"options\"      => Dict{String, Any}(\"intercept\"=>true, \"post\"=>true, \"meanx\"=…\n",
       "  \"coefficients\" => [8.35079, 0.0, 3.78842, -1.19524, 0.0, 0.0, 0.0]"
      ]
     },
<<<<<<< HEAD
     "execution_count": 27,
=======
>>>>>>> main
     "metadata": {},
     "output_type": "display_data"
    }
   ],
   "source": [
    "rlasso_test = rlasso(x, y)"
   ]
  }
 ],
 "metadata": {
  "kernelspec": {
   "display_name": "Julia 1.7.3",
   "language": "julia",
   "name": "julia-1.7"
  },
  "language_info": {
   "file_extension": ".jl",
   "mimetype": "application/julia",
   "name": "julia",
   "version": "1.7.3"
  }
 },
 "nbformat": 4,
 "nbformat_minor": 5
}
