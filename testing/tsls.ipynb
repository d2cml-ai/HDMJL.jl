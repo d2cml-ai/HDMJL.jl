{
 "cells": [
  {
   "cell_type": "code",
   "execution_count": 18,
   "id": "bc36aff6-5b66-4b21-a733-698f05f0afae",
   "metadata": {},
   "outputs": [],
   "source": [
    "include(\"../jl/hdmjl.jl\");"
   ]
  },
  {
   "cell_type": "code",
   "execution_count": 10,
   "id": "a3fa7c3f-31e5-43f9-b2dc-9342bd15875d",
   "metadata": {},
   "outputs": [],
   "source": [
    "using RData\n",
    "AJR = load(\"data/AJR.RData\")[\"AJR\"]\n",
    "categorical!(AJR, [:Africa, :Asia, :Namer, :Samer])\n",
    "y = AJR.GDP\n",
    "x_form = @formula(GDP ~ Latitude + Latitude2 + Africa + Asia + Namer + Samer)\n",
    "x = modelmatrix(x_form, AJR)\n",
    "d = AJR.Exprop\n",
    "z = AJR.logMort\n",
    "colnames = coefnames(apply_schema(x_form, schema(AJR)).rhs);"
   ]
  },
  {
   "cell_type": "code",
   "execution_count": 19,
   "id": "fa41c797-224b-4f1a-8eb7-4d2554d6f2a5",
   "metadata": {},
   "outputs": [
    {
     "data": {
      "text/plain": [
       "Dict{String, Any} with 5 entries:\n",
       "  \"se\"           => [0.465689, 3.95426, 2.84271, 6.00445, 1.34634, 0.89367, 1.0…\n",
       "  \"sample_size\"  => 64\n",
       "  \"vcov\"         => [0.216866 -1.80618 … 0.391361 0.340013; -1.80618 15.6362 … …\n",
       "  \"residuals\"    => [0.34521, 0.880337, 1.02393, -0.582899, -0.318495, 0.911684…\n",
       "  \"coefficients\" => [1.08794, 0.234942, 2.08469, -5.74545, 0.645727, -0.0059788…"
      ]
     },
     "execution_count": 19,
     "metadata": {},
     "output_type": "execute_result"
    }
   ],
   "source": [
    "tsls_test = tsls(d, y, z, x)"
   ]
  },
  {
   "cell_type": "code",
   "execution_count": 20,
   "id": "060aa50e-c420-4bb8-b3df-cc9c4dfd28b6",
   "metadata": {},
   "outputs": [
    {
     "data": {
      "text/plain": [
       "8-element Vector{Float64}:\n",
       "  1.0879443719175867\n",
       "  0.23494206149325692\n",
       "  2.0846865492076176\n",
       " -5.745449731719646\n",
       "  0.6457269996681134\n",
       " -0.005978867749206529\n",
       "  1.0682340473510408\n",
       "  0.9516328699075984"
      ]
     },
     "execution_count": 20,
     "metadata": {},
     "output_type": "execute_result"
    }
   ],
   "source": [
    "tsls_test[\"coefficients\"]"
   ]
  },
  {
   "cell_type": "code",
   "execution_count": 21,
   "id": "37d3a4c6-b362-40c9-b976-652f403e5a95",
   "metadata": {},
   "outputs": [
    {
     "data": {
      "text/plain": [
       "8-element Vector{Float64}:\n",
       " 0.4656885437436601\n",
       " 3.9542603736107753\n",
       " 2.842706564861566\n",
       " 6.004445246795934\n",
       " 1.34634483304847\n",
       " 0.8936695921468216\n",
       " 1.088910166529986\n",
       " 1.0263532732993497"
      ]
     },
     "execution_count": 21,
     "metadata": {},
     "output_type": "execute_result"
    }
   ],
   "source": [
    "tsls_test[\"se\"]"
   ]
  }
 ],
 "metadata": {
  "kernelspec": {
   "display_name": "Julia 1.7.3",
   "language": "julia",
   "name": "julia-1.7"
  },
  "language_info": {
   "file_extension": ".jl",
   "mimetype": "application/julia",
   "name": "julia",
   "version": "1.7.3"
  }
 },
 "nbformat": 4,
 "nbformat_minor": 5
}
