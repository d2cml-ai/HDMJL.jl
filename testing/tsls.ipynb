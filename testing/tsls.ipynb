{
 "cells": [
  {
   "cell_type": "code",
   "execution_count": 22,
   "id": "bc36aff6-5b66-4b21-a733-698f05f0afae",
   "metadata": {},
   "outputs": [],
   "source": [
    "include(\"../jl/hdmjl.jl\");"
   ]
  },
  {
   "cell_type": "code",
   "execution_count": 2,
   "id": "a3fa7c3f-31e5-43f9-b2dc-9342bd15875d",
   "metadata": {},
   "outputs": [],
   "source": [
    "using RData\n",
    "AJR = load(\"data/AJR.RData\")[\"AJR\"]\n",
    "categorical!(AJR, [:Africa, :Asia, :Namer, :Samer])\n",
    "y = AJR.GDP\n",
    "x_form = @formula(GDP ~ Latitude + Latitude2 + Africa + Asia + Namer + Samer)\n",
    "x = modelmatrix(x_form, AJR)\n",
    "d = AJR.Exprop\n",
    "z = AJR.logMort\n",
    "colnames = coefnames(apply_schema(x_form, schema(AJR)).rhs);"
   ]
  },
  {
   "cell_type": "code",
   "execution_count": 23,
   "id": "fa41c797-224b-4f1a-8eb7-4d2554d6f2a5",
   "metadata": {},
   "outputs": [
    {
     "ename": "LoadError",
     "evalue": "DomainError with -1163.7408840062108:\nsqrt will only return a complex result if called with a complex argument. Try sqrt(Complex(x)).",
     "output_type": "error",
     "traceback": [
      "DomainError with -1163.7408840062108:\nsqrt will only return a complex result if called with a complex argument. Try sqrt(Complex(x)).",
      "",
      "Stacktrace:",
      "  [1] throw_complex_domainerror(f::Symbol, x::Float64)",
      "    @ Base.Math .\\math.jl:33",
      "  [2] sqrt",
      "    @ .\\math.jl:567 [inlined]",
      "  [3] _broadcast_getindex_evalf",
      "    @ .\\broadcast.jl:670 [inlined]",
      "  [4] _broadcast_getindex",
      "    @ .\\broadcast.jl:643 [inlined]",
      "  [5] getindex",
      "    @ .\\broadcast.jl:597 [inlined]",
      "  [6] macro expansion",
      "    @ .\\broadcast.jl:961 [inlined]",
      "  [7] macro expansion",
      "    @ .\\simdloop.jl:77 [inlined]",
      "  [8] copyto!",
      "    @ .\\broadcast.jl:960 [inlined]",
      "  [9] copyto!",
      "    @ .\\broadcast.jl:913 [inlined]",
      " [10] copy",
      "    @ .\\broadcast.jl:885 [inlined]",
      " [11] materialize",
      "    @ .\\broadcast.jl:860 [inlined]",
      " [12] tsls(d::Vector{Float64}, y::Vector{Float64}, z::Vector{Float64}, x::Matrix{Float64}; intercept::Bool, homoscedastic::Bool)",
      "    @ Main C:\\Users\\Work\\Documents\\Work\\d2cml-ai\\HDMJL.jl\\jl\\tsls.jl:57",
      " [13] top-level scope",
      "    @ In[23]:1",
      " [14] eval",
      "    @ .\\boot.jl:373 [inlined]",
      " [15] include_string(mapexpr::typeof(REPL.softscope), mod::Module, code::String, filename::String)",
      "    @ Base .\\loading.jl:1196"
     ]
    }
   ],
   "source": [
    "tsls_test = tsls(d, y, z, x, homoscedastic = false)"
   ]
  },
  {
   "cell_type": "code",
   "execution_count": 17,
   "id": "060aa50e-c420-4bb8-b3df-cc9c4dfd28b6",
   "metadata": {},
   "outputs": [
    {
     "data": {
      "text/plain": [
       "0.3452096038452943"
      ]
     },
     "execution_count": 17,
     "metadata": {},
     "output_type": "execute_result"
    }
   ],
   "source": [
    "tsls_test[\"residuals\"][1, :][1]"
   ]
  },
  {
   "cell_type": "code",
   "execution_count": 21,
   "id": "37d3a4c6-b362-40c9-b976-652f403e5a95",
   "metadata": {},
   "outputs": [
    {
     "data": {
      "text/plain": [
       "8-element Vector{Float64}:\n",
       " 0.4656885437436601\n",
       " 3.9542603736107753\n",
       " 2.842706564861566\n",
       " 6.004445246795934\n",
       " 1.34634483304847\n",
       " 0.8936695921468216\n",
       " 1.088910166529986\n",
       " 1.0263532732993497"
      ]
     },
     "execution_count": 21,
     "metadata": {},
     "output_type": "execute_result"
    }
   ],
   "source": [
    "tsls_test[\"se\"]"
   ]
  }
 ],
 "metadata": {
  "kernelspec": {
   "display_name": "Julia 1.7.3",
   "language": "julia",
   "name": "julia-1.7"
  },
  "language_info": {
   "file_extension": ".jl",
   "mimetype": "application/julia",
   "name": "julia",
   "version": "1.7.3"
  }
 },
 "nbformat": 4,
 "nbformat_minor": 5
}
