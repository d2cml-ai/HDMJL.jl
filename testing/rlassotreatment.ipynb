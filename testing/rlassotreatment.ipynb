{
 "cells": [
  {
   "cell_type": "code",
   "execution_count": 42,
   "metadata": {},
   "outputs": [],
   "source": [
    "include(\"../jl/hdmjl.jl\");"
   ]
  },
  {
   "cell_type": "code",
   "execution_count": 13,
   "metadata": {},
   "outputs": [],
   "source": [
    "using CodecXz\n",
    "using RData\n",
    "logGDP = load(\"data/EminentDomain.rda\")[\"EminentDomain\"][\"logGDP\"]\n",
    "x = logGDP[\"x\"]\n",
    "d = logGDP[\"d\"]\n",
    "y = logGDP[\"y\"]\n",
    "z = logGDP[\"z\"];\n",
    "d[d .== 2] .= 1\n",
    "d = vec(d)\n",
    "y = vec(y);"
   ]
  },
  {
   "cell_type": "code",
   "execution_count": 45,
   "metadata": {},
   "outputs": [
    {
     "data": {
      "text/plain": [
       "Dict{String, Any} with 5 entries:\n",
       "  \"se\"          => 0.0667822\n",
       "  \"individual\"  => [1.03096, 0.916613, 0.789615, 0.703376, 0.595739, 0.438428, …\n",
       "  \"sample_size\" => 312\n",
       "  \"te\"          => 0.0512192\n",
       "  \"type\"        => \"ATET\""
      ]
     },
     "execution_count": 45,
     "metadata": {},
     "output_type": "execute_result"
    }
   ],
   "source": [
    "rlassoATET(x, d, y)"
   ]
  }
 ],
 "metadata": {
  "kernelspec": {
   "display_name": "Julia 1.7.3",
   "language": "julia",
   "name": "julia-1.7"
  },
  "language_info": {
   "file_extension": ".jl",
   "mimetype": "application/julia",
   "name": "julia",
   "version": "1.7.3"
  },
  "orig_nbformat": 4,
  "vscode": {
   "interpreter": {
    "hash": "62c7d5262a5f0b4026fa8117f6e20ec6429638b3cc17308fe00f86bed13a96d9"
   }
  }
 },
 "nbformat": 4,
 "nbformat_minor": 2
}
