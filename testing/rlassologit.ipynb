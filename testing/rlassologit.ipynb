{
 "cells": [
  {
   "cell_type": "code",
   "execution_count": 52,
   "id": "45dff74e-4573-4cad-995f-b322f795ad71",
   "metadata": {},
   "outputs": [],
   "source": [
    "include(\"../jl/hdmjl.jl\");"
   ]
  },
  {
   "cell_type": "code",
   "execution_count": 49,
   "id": "0634274a-5a09-428e-b343-24b130add815",
   "metadata": {},
   "outputs": [],
   "source": [
    "using Distributions\n",
    "n = 250\n",
    "p = 100\n",
    "px = 10\n",
    "X = randn((n, p))\n",
    "beta = vcat(repeat([2.], px), zeros(p - px))\n",
    "intercept = 1\n",
    "P = exp.(intercept .+ X * beta) ./ (1 .+ exp.(intercept .+ X * beta))\n",
    "y = Int64[]\n",
    "for i in P\n",
    "    y = vcat(y, rand(Binomial(1, i)))\n",
    "end\n"
   ]
  },
  {
   "cell_type": "code",
   "execution_count": 53,
   "id": "726e98d9-90b5-4f65-b064-afc7353babe1",
   "metadata": {},
   "outputs": [
    {
     "data": {
      "text/plain": [
       "Dict{String, Any} with 8 entries:\n",
       "  \"coefficients\" => [1.4376; 2.22774; … ; 0.0; 0.0;;]\n",
       "  \"intercept\"    => 1.4376\n",
       "  \"sigma\"        => 0.235829\n",
       "  \"lambda0\"      => 28.6153\n",
       "  \"Options\"      => Dict{String, Union{Nothing, Bool}}(\"intercept\"=>true, \"post…\n",
       "  \"residuals\"    => [-9.8666e-5, -3.90065e-5, 0.898462, -0.0596309, 3.19199e-5,…\n",
       "  \"index\"        => Bool[1; 1; … ; 0; 0;;]\n",
       "  \"beta\"         => [2.22774; 2.28361; … ; 0.0; 0.0;;]"
      ]
     },
     "execution_count": 53,
     "metadata": {},
     "output_type": "execute_result"
    }
   ],
   "source": [
    "rlassologit(X, y)"
   ]
  }
 ],
 "metadata": {
  "kernelspec": {
   "display_name": "Julia 1.7.3",
   "language": "julia",
   "name": "julia-1.7"
  },
  "language_info": {
   "file_extension": ".jl",
   "mimetype": "application/julia",
   "name": "julia",
   "version": "1.7.3"
  }
 },
 "nbformat": 4,
 "nbformat_minor": 5
}
