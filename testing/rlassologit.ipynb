{
 "cells": [
  {
   "cell_type": "code",
   "execution_count": 57,
   "id": "45dff74e-4573-4cad-995f-b322f795ad71",
   "metadata": {},
   "outputs": [],
   "source": [
    "include(\"../jl/hdmjl.jl\");"
   ]
  },
  {
   "cell_type": "code",
   "execution_count": 69,
   "id": "0634274a-5a09-428e-b343-24b130add815",
   "metadata": {},
   "outputs": [],
   "source": [
    "using CodecXz\n",
    "using RData\n",
    "logGDP = load(\"data/EminentDomain.rda\")[\"EminentDomain\"][\"logGDP\"]\n",
    "x = logGDP[\"x\"]\n",
    "d = logGDP[\"d\"]\n",
    "y = logGDP[\"y\"]\n",
    "z = logGDP[\"z\"]\n",
    "d[d .== 2] .= 1\n",
    "d = vec(d);"
   ]
  },
  {
   "cell_type": "code",
   "execution_count": 59,
   "id": "726e98d9-90b5-4f65-b064-afc7353babe1",
   "metadata": {},
   "outputs": [
    {
     "data": {
      "text/plain": [
       "0.057567071559687176"
      ]
     },
     "metadata": {},
     "output_type": "display_data"
    }
   ],
   "source": [
    "c = 1.1\n",
    "n, p = size(x)\n",
    "gamma = 0.1 / log(n)\n",
    "lambda0 = c / 2 * sqrt(n) *quantile(Normal(0.0, 1.0), 1 - gamma/(2*p))\n",
    "lambda = lambda0 / (2 * n);"
   ]
  },
  {
   "cell_type": "code",
   "execution_count": 78,
   "id": "a976b99c",
   "metadata": {},
   "outputs": [
    {
     "data": {
      "text/plain": [
       "Least Squares GLMNet Solution Path (1 solutions for 80 predictors in 17 passes):\n",
       "────────────────────────────\n",
       "     df   pct_dev          λ\n",
       "────────────────────────────\n",
       "[1]   3  0.230754  0.0575671\n",
       "────────────────────────────"
      ]
     },
     "metadata": {},
     "output_type": "display_data"
    }
   ],
   "source": [
    "log_lasso = glmnet(x, d, lambda = [lambda[1]], alpha = 1, intercept = true, standardize = true)"
   ]
  },
  {
   "cell_type": "code",
   "execution_count": 74,
   "id": "4b77a06e",
   "metadata": {},
   "outputs": [
    {
     "data": {
      "text/plain": [
       "Dict{String, Any} with 8 entries:\n",
       "  \"coefficients\" => [-1.738, -13.8412, 0.479654, 0.0, 0.0, 0.0, 0.0, 0.0, 0.0, …\n",
       "  \"intercept\"    => -1.738\n",
       "  \"sigma\"        => 0.297124\n",
       "  \"options\"      => Dict{String, Integer}(\"intercept\"=>true, \"post\"=>true, \"con…\n",
       "  \"lambda0\"      => 35.9219\n",
       "  \"residuals\"    => [-1.71413e-7, -1.71413e-7, -0.221259, -1.71413e-7, -1.71413…\n",
       "  \"index\"        => Bool[1, 1, 0, 0, 0, 0, 0, 0, 0, 1  …  0, 0, 0, 0, 0, 0, 0, …\n",
       "  \"beta\"         => [-13.8412, 0.479654, 0.0, 0.0, 0.0, 0.0, 0.0, 0.0, 0.0, 0.8…"
      ]
     },
     "metadata": {},
     "output_type": "display_data"
    }
   ],
   "source": [
    "rlassologit(x, d)"
   ]
  }
 ],
 "metadata": {
  "kernelspec": {
   "display_name": "Julia 1.7.3",
   "language": "julia",
   "name": "julia-1.7"
  },
  "language_info": {
   "file_extension": ".jl",
   "mimetype": "application/julia",
   "name": "julia",
   "version": "1.7.3"
  }
 },
 "nbformat": 4,
 "nbformat_minor": 5
}
