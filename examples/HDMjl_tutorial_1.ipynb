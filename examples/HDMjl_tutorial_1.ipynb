{
 "cells": [
  {
   "cell_type": "markdown",
   "metadata": {},
   "source": [
    "# HIGH-DIMENSIONAL METRICS IN R"
   ]
  },
  {
   "cell_type": "markdown",
   "metadata": {},
   "source": [
    "## 2. How to get started"
   ]
  },
  {
   "cell_type": "markdown",
   "metadata": {},
   "source": [
    "or"
   ]
  },
  {
   "cell_type": "code",
   "execution_count": 445,
   "metadata": {},
   "outputs": [],
   "source": [
    "#import Pkg; Pkg.add(url = \"https://github.com/d2cml-ai/HDMjl.jl\")"
   ]
  },
  {
   "cell_type": "code",
   "execution_count": 1,
   "metadata": {},
   "outputs": [],
   "source": [
    "using CodecXz, RData, DataFrames, StatsModels, Statistics, Distributions, PrettyTables, Distributions"
   ]
  },
  {
   "cell_type": "code",
   "execution_count": 1,
   "metadata": {},
   "outputs": [],
   "source": [
    "import Pkg"
   ]
  },
  {
   "cell_type": "code",
   "execution_count": 88,
   "metadata": {},
   "outputs": [
    {
     "name": "stderr",
     "output_type": "stream",
     "text": [
      "WARNING: replacing module HDMjl.\n"
     ]
    },
    {
     "data": {
      "text/plain": [
       "Main.HDMjl"
      ]
     },
     "metadata": {},
     "output_type": "display_data"
    }
   ],
   "source": [
    "include(\"E:/causal_ml/hdm_paper/prueba/HDMjl.jl/src/HDMjl.jl\")"
   ]
  },
  {
   "cell_type": "code",
   "execution_count": 444,
   "metadata": {},
   "outputs": [],
   "source": [
    "#Pkg.develop(path = \"E:/causal_ml/hdm_paper/HDMjl.jl\")"
   ]
  },
  {
   "cell_type": "markdown",
   "metadata": {},
   "source": [
    "## 3. Prediction using Approximate Sparsity"
   ]
  },
  {
   "cell_type": "markdown",
   "metadata": {},
   "source": [
    "### 3.2. A Joint Significance Test for Lasso Regression."
   ]
  },
  {
   "cell_type": "code",
   "execution_count": 3,
   "metadata": {},
   "outputs": [],
   "source": [
    "using Random\n",
    "Random.seed!(1234);\n",
    "n = 100;\n",
    "p = 100;\n",
    "s = 3;\n",
    "X = randn(n, p);\n",
    "beta = vcat(fill(5, s), zeros(p - s));\n",
    "Y = X * beta + randn(n);"
   ]
  },
  {
   "cell_type": "code",
   "execution_count": 4,
   "metadata": {},
   "outputs": [],
   "source": [
    "lasso_reg = HDMjl.rlasso(X, Y, post = false);"
   ]
  },
  {
   "cell_type": "code",
   "execution_count": 5,
   "metadata": {},
   "outputs": [
    {
     "data": {
      "text/plain": [
       "1×101 adjoint(::Vector{Float64}) with eltype Float64:\n",
       " -0.00682754  5.00958  4.93178  5.17705  …  0.0  0.0  0.0  0.0  0.0  0.0  0.0"
      ]
     },
     "metadata": {},
     "output_type": "display_data"
    }
   ],
   "source": [
    "post_lasso_reg = HDMjl.rlasso(X, Y, post = true) #now use post-lasso\n",
    "post_lasso_reg[\"coefficients\"]'"
   ]
  },
  {
   "cell_type": "markdown",
   "metadata": {},
   "source": [
    "## 4. Inference on Target Regression Coefficients"
   ]
  },
  {
   "cell_type": "markdown",
   "metadata": {},
   "source": [
    "### 4.1. Intuition for the Orthogonality Principle in Linear Models via Partialling Out."
   ]
  },
  {
   "cell_type": "code",
   "execution_count": null,
   "metadata": {},
   "outputs": [],
   "source": []
  },
  {
   "cell_type": "markdown",
   "metadata": {},
   "source": [
    "### 4.2. Inference: Confidence Intervals and Significance Testing. The function rlassoEffects"
   ]
  },
  {
   "cell_type": "code",
   "execution_count": 31,
   "metadata": {},
   "outputs": [
    {
     "data": {
      "text/plain": [
       "print_effects (generic function with 2 methods)"
      ]
     },
     "metadata": {},
     "output_type": "display_data"
    }
   ],
   "source": [
    "function print_effects(object, digits = 3)\n",
    "    if length(object[\"coefficients\"]) !=  0\n",
    "        b = [\"X$y\" for y = object[\"index\"]]\n",
    "        b = reshape(b,(1,length(b)))\n",
    "        a = vcat(b, round.(object[\"coefficients\"]', digits = digits))\n",
    "        if length(object[\"coefficients\"]) <= 10\n",
    "            \n",
    "            println(\"Coefficients:\\n\")\n",
    "            pretty_table(a[2,:]', tf = tf_borderless, header = a[1,:])\n",
    "        else \n",
    "            for i in 1:trunc(length(object[\"coefficients\"])/10)\n",
    "                pretty_table(a[2,10*(i-1)+1:10*i]', tf = tf_borderless, header = a[1,10*(i-1)+1:10*i])\n",
    "            end\n",
    "        pretty_table(a[2,10*trunc(length(object[\"coefficients\"])/10)+1:length(object[\"coefficients\"])]',\n",
    "                            tf = tf_borderless, header = a[1,10*trunc(length(object[\"coefficients\"])/10)+1:length(object[\"coefficients\"])])\n",
    "        end\n",
    "    else \n",
    "        print(\"No coefficients\\n\")\n",
    "    end\n",
    "end"
   ]
  },
  {
   "cell_type": "code",
   "execution_count": 4,
   "metadata": {},
   "outputs": [
    {
     "data": {
      "text/plain": [
       "summary_effects (generic function with 1 method)"
      ]
     },
     "metadata": {},
     "output_type": "display_data"
    }
   ],
   "source": [
    "function summary_effects(object)\n",
    "    if length(object) != 0\n",
    "        k = length(object[\"coefficients\"])\n",
    "        table = zeros(k, 4)\n",
    "        table[:, 1] .= object[\"coefficients\"]\n",
    "        table[:, 2] .= object[\"se\"]\n",
    "        table[:, 3] .= table[:, 1]./table[:, 2]\n",
    "        table[:, 4] .= 2 * cdf(Normal(), -abs.(table[:, 3]))\n",
    "        table1 = DataFrame(hcat([\"X$y\" for y = object[\"index\"]], table), :auto)\n",
    "        rename(table1, [\"index\", \"Estimate.\", \"Std. Error\", \"t value\", \"Pr(>|t|)\"])\n",
    "        print(\"Estimates and significance testing of the effect of target variables\", \n",
    "                \"\\n\")\n",
    "        pretty_table(table, show_row_number = false, header = [\"Estimate.\", \"Std. Error\", \"t value\", \"Pr(>|t|)\"], tf = tf_borderless, row_names = [\"X$y\" for y = object[\"index\"]])\n",
    "        print(\"---\", \"\\n\", \"Signif. codes:\",\"\\n\", \"0 '***' 0.001 '**' 0.01 '*' 0.05 '.' 0.1 ' ' 1\")\n",
    "        print(\"\\n\")\n",
    "    else\n",
    "        print(\"No coefficients\\n\")\n",
    "    end\n",
    "end"
   ]
  },
  {
   "cell_type": "code",
   "execution_count": 5,
   "metadata": {},
   "outputs": [
    {
     "data": {
      "text/plain": [
       "confint_effects (generic function with 2 methods)"
      ]
     },
     "metadata": {},
     "output_type": "display_data"
    }
   ],
   "source": [
    "function confint_effects(object, level = 0.95)\n",
    "    n = object[\"sample_size\"]\n",
    "    k = length(object[\"coefficients\"])\n",
    "    cf = object[\"coefficients\"]\n",
    "    #pnames <- names(cf)\n",
    "    # if (missing(parm)) \n",
    "    #     parm <- pnames else if (is.numeric(parm)) \n",
    "    #       parm <- pnames[parm]\n",
    "    a = (1 - level)/2\n",
    "    a = [a, 1 - a]\n",
    "    fac = quantile.(Normal(), a)\n",
    "    pct = string.(round.(a; digits = 3)*100, \"%\")\n",
    "    ses = object[\"se\"]\n",
    "    c_i = []\n",
    "    for i in 1:length(cf)\n",
    "        if i == 1\n",
    "            c_i = (cf[i] .+ ses[i] .* fac)[:,:]'\n",
    "        else\n",
    "            c_i = vcat(c_i, (cf[i] .+ ses[i] * fac)[:,:]')\n",
    "        end\n",
    "    end\n",
    "    table1 = DataFrame(hcat([\"X$y\" for y = object[\"index\"]], c_i), :auto)\n",
    "    rename(table1, vcat(\"index\", pct))\n",
    "    #ci = NamedArray(c_i, (1:size(c_i)[1], pct))\n",
    "    ci = pretty_table(c_i; header = pct, show_row_number = false, tf = tf_borderless, row_names = [\"X$y\" for y = object[\"index\"]])\n",
    "    #return c_i;;\n",
    "end"
   ]
  },
  {
   "cell_type": "code",
   "execution_count": 6,
   "metadata": {},
   "outputs": [],
   "source": [
    "using Random, Distributions, PrettyTables, DataFrames\n",
    "Random.seed!(1234);\n",
    "n = 100;\n",
    "p = 100;\n",
    "s = 3;\n",
    "x = randn(n, p);\n",
    "beta = vcat(fill(3, s), zeros(p - s));\n",
    "y =1 .+ x * beta + randn(n);"
   ]
  },
  {
   "cell_type": "code",
   "execution_count": 7,
   "metadata": {},
   "outputs": [],
   "source": [
    "lasso_effects = HDMjl.rlassoEffects(x, y, index = [1,2,3,50]);"
   ]
  },
  {
   "cell_type": "code",
   "execution_count": 10,
   "metadata": {},
   "outputs": [
    {
     "name": "stdout",
     "output_type": "stream",
     "text": [
      "Coefficients:\n",
      "\n",
      " \u001b[1m    X1 \u001b[0m \u001b[1m    X2 \u001b[0m \u001b[1m    X3 \u001b[0m \u001b[1m    X50 \u001b[0m\n",
      "\n",
      "  2.925   2.903   3.101   -0.227\n"
     ]
    }
   ],
   "source": [
    "HDMjl.r_print(lasso_effects)"
   ]
  },
  {
   "cell_type": "code",
   "execution_count": 12,
   "metadata": {},
   "outputs": [
    {
     "name": "stdout",
     "output_type": "stream",
     "text": [
      "Estimates and significance testing of the effect of target variables\n",
      " \u001b[1m     \u001b[0m \u001b[1m Estimate. \u001b[0m \u001b[1m Std. Error \u001b[0m \u001b[1m  t value \u001b[0m \u001b[1m     Pr(>|t|) \u001b[0m\n",
      "\n",
      " \u001b[1m  X1 \u001b[0m    2.92541     0.103597    28.2384   1.97828e-175\n",
      " \u001b[1m  X2 \u001b[0m    2.90258     0.105907     27.407   2.26599e-165\n",
      " \u001b[1m  X3 \u001b[0m    3.10095     0.110626     28.031   6.80893e-173\n",
      " \u001b[1m X50 \u001b[0m   -0.22712    0.0910927   -2.49329      0.0126566\n",
      "---\n",
      "Signif. codes:\n",
      "0 '***' 0.001 '**' 0.01 '*' 0.05 '.' 0.1 ' ' 1\n"
     ]
    }
   ],
   "source": [
    "HDMjl.r_summary(lasso_effects)"
   ]
  },
  {
   "cell_type": "code",
   "execution_count": 13,
   "metadata": {},
   "outputs": [
    {
     "name": "stdout",
     "output_type": "stream",
     "text": [
      " \u001b[1m     \u001b[0m \u001b[1m      2.5% \u001b[0m \u001b[1m     97.5% \u001b[0m\n",
      "\n",
      " \u001b[1m  X1 \u001b[0m    2.72236     3.12845\n",
      " \u001b[1m  X2 \u001b[0m    2.69501     3.11016\n",
      " \u001b[1m  X3 \u001b[0m    2.88413     3.31778\n",
      " \u001b[1m X50 \u001b[0m  -0.405659   -0.048582\n"
     ]
    }
   ],
   "source": [
    "HDMjl.r_confint(lasso_effects)"
   ]
  },
  {
   "cell_type": "code",
   "execution_count": 216,
   "metadata": {},
   "outputs": [],
   "source": []
  },
  {
   "cell_type": "markdown",
   "metadata": {},
   "source": [
    "### 4.3. Application: the effect of gender on wage"
   ]
  },
  {
   "cell_type": "code",
   "execution_count": null,
   "metadata": {},
   "outputs": [],
   "source": []
  },
  {
   "cell_type": "markdown",
   "metadata": {},
   "source": [
    "### 4.4. Application: Estimation of the treatment effect in a linear model with many confounding factors"
   ]
  },
  {
   "cell_type": "code",
   "execution_count": 44,
   "metadata": {},
   "outputs": [],
   "source": [
    "using CodecXz\n",
    "using RData\n",
    "using DataFrames\n",
    "url = \"https://github.com/cran/hdm/raw/master/data/GrowthData.rda\";\n",
    "GrowthData = load(download(url))[\"GrowthData\"];\n",
    "y = GrowthData[:, 1];\n",
    "d = GrowthData[:, 3];\n",
    "X = Matrix(GrowthData[:, Not(1, 2, 3)]);"
   ]
  },
  {
   "cell_type": "code",
   "execution_count": 45,
   "metadata": {},
   "outputs": [],
   "source": [
    "lasso_effect = HDMjl.rlassoEffect(X, y, d, method = \"partialling out\");"
   ]
  },
  {
   "cell_type": "code",
   "execution_count": 18,
   "metadata": {},
   "outputs": [
    {
     "name": "stdout",
     "output_type": "stream",
     "text": [
      "Coefficients:\n",
      "\n",
      " \u001b[1m     X1 \u001b[0m\n",
      "\n",
      "  -0.053\n"
     ]
    }
   ],
   "source": [
    "HDMjl.r_print(lasso_effect)"
   ]
  },
  {
   "cell_type": "code",
   "execution_count": 20,
   "metadata": {},
   "outputs": [
    {
     "name": "stdout",
     "output_type": "stream",
     "text": [
      "Estimates and significance testing of the effect of target variables\n",
      " \u001b[1m Row \u001b[0m \u001b[1m Estimate. \u001b[0m \u001b[1m Std. Error \u001b[0m \u001b[1m t value \u001b[0m \u001b[1m    Pr(>|t|) \u001b[0m\n",
      "\n",
      "    1    -0.05333    0.0143283    -3.722   0.000197655\n",
      "---\n",
      "Signif. codes:\n",
      "0 '***' 0.001 '**' 0.01 '*' 0.05 '.' 0.1 ' ' 1\n"
     ]
    }
   ],
   "source": [
    "HDMjl.r_summary(lasso_effect);"
   ]
  },
  {
   "cell_type": "code",
   "execution_count": 21,
   "metadata": {},
   "outputs": [],
   "source": [
    "doublesel_effect = HDMjl.rlassoEffect(X, y, d, method = \"double selection\");"
   ]
  },
  {
   "cell_type": "code",
   "execution_count": 22,
   "metadata": {},
   "outputs": [
    {
     "name": "stdout",
     "output_type": "stream",
     "text": [
      "Coefficients:\n",
      "\n",
      " \u001b[1m     X1 \u001b[0m\n",
      "\n",
      "  -0.045\n"
     ]
    }
   ],
   "source": [
    "HDMjl.r_print(doublesel_effect)"
   ]
  },
  {
   "cell_type": "code",
   "execution_count": 26,
   "metadata": {},
   "outputs": [
    {
     "name": "stdout",
     "output_type": "stream",
     "text": [
      "Estimates and significance testing of the effect of target variables\n",
      " \u001b[1m Row \u001b[0m \u001b[1m  Estimate. \u001b[0m \u001b[1m Std. Error \u001b[0m \u001b[1m  t value \u001b[0m \u001b[1m  Pr(>|t|) \u001b[0m\n",
      "\n",
      "    1   -0.0453558     0.018656   -2.43116   0.0150506\n",
      "---\n",
      "Signif. codes:\n",
      "0 '***' 0.001 '**' 0.01 '*' 0.05 '.' 0.1 ' ' 1\n"
     ]
    }
   ],
   "source": [
    "HDMjl.r_summary(doublesel_effect);"
   ]
  },
  {
   "cell_type": "code",
   "execution_count": 62,
   "metadata": {},
   "outputs": [
    {
     "data": {
      "text/plain": [
       "false"
      ]
     },
     "metadata": {},
     "output_type": "display_data"
    }
   ],
   "source": [
    "select_Z=true\n",
    "select_X=false\n",
    "\n",
    "select_Z==false & select_X==false"
   ]
  },
  {
   "cell_type": "markdown",
   "metadata": {},
   "source": [
    "## 5. Instrumental Variable Estimation in a High-Dimensional Setting"
   ]
  },
  {
   "cell_type": "markdown",
   "metadata": {},
   "source": [
    "### 5.2. Application: Economic Development and Institutions."
   ]
  },
  {
   "cell_type": "code",
   "execution_count": 115,
   "metadata": {},
   "outputs": [
    {
     "name": "stderr",
     "output_type": "stream",
     "text": [
      "WARNING: replacing module HDMjl.\n"
     ]
    },
    {
     "data": {
      "text/plain": [
       "Main.HDMjl"
      ]
     },
     "metadata": {},
     "output_type": "display_data"
    }
   ],
   "source": [
    "include(\"E:/causal_ml/hdm_paper/prueba/HDMjl.jl/src/HDMjl.jl\")"
   ]
  },
  {
   "cell_type": "code",
   "execution_count": 92,
   "metadata": {},
   "outputs": [
    {
     "data": {
      "text/plain": [
       "(64, 21)"
      ]
     },
     "metadata": {},
     "output_type": "display_data"
    }
   ],
   "source": [
    "using Statistics, StatsModels\n",
    "url = \"https://github.com/cran/hdm/raw/master/data/AJR.rda\";\n",
    "AJR = load(download(url))[\"AJR\"];\n",
    "y = AJR[!,\"GDP\"]\n",
    "d = AJR[!,\"Exprop\"]\n",
    "z = AJR[!,\"logMort\"];\n",
    "x_formula = @formula(GDP ~ -1 + Latitude + Latitude2 + Africa + Asia + Namer + Samer\n",
    "    + Latitude*Latitude2 + Latitude*Africa + Latitude*Asia + Latitude*Namer + Latitude*Samer\n",
    "    + Latitude2*Africa + Latitude2*Asia + Latitude2*Namer + Latitude2*Samer\n",
    "    + Africa*Asia + Africa*Namer + Africa*Samer\n",
    "    + Asia*Namer + Asia*Samer\n",
    "    + Namer*Samer)\n",
    "x_dframe = ModelFrame( x_formula, AJR)\n",
    "x1 = ModelMatrix(x_dframe)\n",
    "x = x1.m\n",
    "size(x)"
   ]
  },
  {
   "cell_type": "code",
   "execution_count": 109,
   "metadata": {},
   "outputs": [],
   "source": [
    "AJR_Xselect  = HDMjl.rlassoIV(x, d, y, z, select_X=true, select_Z=false);"
   ]
  },
  {
   "cell_type": "code",
   "execution_count": 110,
   "metadata": {},
   "outputs": [
    {
     "name": "stdout",
     "output_type": "stream",
     "text": [
      "Coefficients:\n",
      "\n",
      " \u001b[1m    X1 \u001b[0m\n",
      "\n",
      "  1.276\n"
     ]
    }
   ],
   "source": [
    "HDMjl.r_print(AJR_Xselect)"
   ]
  },
  {
   "cell_type": "code",
   "execution_count": 111,
   "metadata": {},
   "outputs": [
    {
     "name": "stdout",
     "output_type": "stream",
     "text": [
      "Estimates and Significance Testing of the effect of target variables in the IV regression model\n",
      " \u001b[1m Row \u001b[0m \u001b[1m  coeff. \u001b[0m \u001b[1m     se. \u001b[0m \u001b[1m t-value \u001b[0m \u001b[1m  p-value \u001b[0m\n",
      "\n",
      "    1   1.27623   0.87538   1.45791   0.144865\n",
      "---\n",
      "Signif. codes:\n",
      "0 '***' 0.001 '**' 0.01 '*' 0.05 '.' 0.1 ' ' 1\n"
     ]
    }
   ],
   "source": [
    "HDMjl.r_summary(AJR_Xselect);"
   ]
  },
  {
   "cell_type": "code",
   "execution_count": 112,
   "metadata": {},
   "outputs": [
    {
     "name": "stdout",
     "output_type": "stream",
     "text": [
      " \u001b[1m Row \u001b[0m \u001b[1m      2.5% \u001b[0m \u001b[1m   97.5% \u001b[0m\n",
      "\n",
      "    1   -0.439485   2.99194\n"
     ]
    }
   ],
   "source": [
    "HDMjl.r_confint(AJR_Xselect);"
   ]
  },
  {
   "cell_type": "markdown",
   "metadata": {},
   "source": [
    "### 5.3. Application: Impact of Eminent Domain Decisions on Economic Outcomes."
   ]
  },
  {
   "cell_type": "code",
   "execution_count": 113,
   "metadata": {},
   "outputs": [],
   "source": [
    "using Statistics, GLM\n",
    "url = \"https://github.com/cran/hdm/raw/master/data/EminentDomain.rda\";\n",
    "EminentDomain = load(download(url))[\"EminentDomain\"];\n",
    "z = EminentDomain[\"logGDP\"][\"z\"];\n",
    "x = EminentDomain[\"logGDP\"][\"x\"];\n",
    "d = EminentDomain[\"logGDP\"][\"d\"];\n",
    "y = EminentDomain[\"logGDP\"][\"y\"];\n",
    "x = x[:, (mean(x, dims = 1) .> 0.05)'];\n",
    "z = z[:, (mean(z, dims = 1) .> 0.05)'];"
   ]
  },
  {
   "cell_type": "code",
   "execution_count": 117,
   "metadata": {},
   "outputs": [],
   "source": [
    "lasso_IV_Z = HDMjl.rlassoIV(x, d, y, z, select_X = false, select_Z = true);"
   ]
  },
  {
   "cell_type": "code",
   "execution_count": 120,
   "metadata": {},
   "outputs": [
    {
     "name": "stdout",
     "output_type": "stream",
     "text": [
      "Estimates and Significance Testing of the effect of target variables in the IV regression model\n",
      " \u001b[1m Row \u001b[0m \u001b[1m    coeff. \u001b[0m \u001b[1m     se. \u001b[0m \u001b[1m   t-value \u001b[0m \u001b[1m  p-value \u001b[0m\n",
      "\n",
      "    1   -0.451027   2.32377   -0.194093   0.846103\n",
      "---\n",
      "Signif. codes:\n",
      "0 '***' 0.001 '**' 0.01 '*' 0.05 '.' 0.1 ' ' 1\n"
     ]
    }
   ],
   "source": [
    "HDMjl.r_summary(lasso_IV_Z);"
   ]
  },
  {
   "cell_type": "code",
   "execution_count": 122,
   "metadata": {},
   "outputs": [
    {
     "name": "stdout",
     "output_type": "stream",
     "text": [
      " \u001b[1m Row \u001b[0m \u001b[1m     2.5% \u001b[0m \u001b[1m   97.5% \u001b[0m\n",
      "\n",
      "    1   -5.00553   4.10348\n"
     ]
    }
   ],
   "source": [
    "HDMjl.r_confint(lasso_IV_Z);"
   ]
  },
  {
   "cell_type": "code",
   "execution_count": 125,
   "metadata": {},
   "outputs": [],
   "source": [
    "lasso_IV_XZ = HDMjl.rlassoIV(x, d, y, z, select_X = true, select_Z = true);"
   ]
  },
  {
   "cell_type": "code",
   "execution_count": 127,
   "metadata": {},
   "outputs": [
    {
     "name": "stdout",
     "output_type": "stream",
     "text": [
      "Estimates and Significance Testing of the effect of target variables in the IV regression model\n",
      " \u001b[1m Row \u001b[0m \u001b[1m     coeff. \u001b[0m \u001b[1m       se. \u001b[0m \u001b[1m   t-value \u001b[0m \u001b[1m  p-value \u001b[0m\n",
      "\n",
      "    1   -0.0449578   0.0801865   -0.560665   0.575026\n",
      "---\n",
      "Signif. codes:\n",
      "0 '***' 0.001 '**' 0.01 '*' 0.05 '.' 0.1 ' ' 1\n"
     ]
    }
   ],
   "source": [
    "HDMjl.r_summary(lasso_IV_XZ);"
   ]
  },
  {
   "cell_type": "code",
   "execution_count": 129,
   "metadata": {},
   "outputs": [
    {
     "name": "stdout",
     "output_type": "stream",
     "text": [
      " \u001b[1m Row \u001b[0m \u001b[1m      2.5% \u001b[0m \u001b[1m    97.5% \u001b[0m\n",
      "\n",
      "    1   -0.202121   0.112205\n"
     ]
    }
   ],
   "source": [
    "HDMjl.r_confint(lasso_IV_XZ);"
   ]
  },
  {
   "cell_type": "code",
   "execution_count": null,
   "metadata": {},
   "outputs": [],
   "source": []
  },
  {
   "cell_type": "markdown",
   "metadata": {},
   "source": [
    "## 6. Inference on Treatment Effects in a High-Dimensional Setting"
   ]
  },
  {
   "cell_type": "markdown",
   "metadata": {},
   "source": [
    "### 6.3. Application: 401(k) plan participation."
   ]
  },
  {
   "cell_type": "code",
   "execution_count": 26,
   "metadata": {},
   "outputs": [
    {
     "data": {
      "text/plain": [
       "Dict{String, Any} with 5 entries:\n",
       "  \"se\"          => 1930.68\n",
       "  \"individual\"  => [-30618.3, -57537.6, -71442.9, 21383.3, -2.32925e5, 3.40765e…\n",
       "  \"sample_size\" => 9915\n",
       "  \"te\"          => 10180.1\n",
       "  \"type\"        => \"ATE\""
      ]
     },
     "metadata": {},
     "output_type": "display_data"
    }
   ],
   "source": [
    "url = \"https://github.com/cran/hdm/raw/master/data/pension.rda\";\n",
    "pension = load(download(url))[\"pension\"];\n",
    "y = pension[:, \"tw\"];\n",
    "d = pension[:, \"p401\"];\n",
    "z = pension[:, \"e401\"];\n",
    "X = Matrix(pension[:, [\"i2\", \"i3\", \"i4\", \"i5\", \"i6\", \"i7\", \"a2\", \"a3\", \"a4\", \"a5\", \"fsize\", \"hs\", \"smcol\", \"col\", \"marr\", \"twoearn\", \"db\", \"pira\", \"hown\"]]);\n",
    "rlassoATE(X, d, y)"
   ]
  },
  {
   "cell_type": "code",
   "execution_count": 51,
   "metadata": {},
   "outputs": [
    {
     "data": {
      "text/plain": [
       "Dict{String, Any} with 5 entries:\n",
       "  \"se\"          => 2944.43\n",
       "  \"individual\"  => [-21536.4, -52877.2, -1.44867e5, -2739.29, -307741.0, 7.3912…\n",
       "  \"sample_size\" => 9915\n",
       "  \"te\"          => 12628.5\n",
       "  \"type\"        => \"ATET\""
      ]
     },
     "metadata": {},
     "output_type": "display_data"
    }
   ],
   "source": [
    "rlassoATET(X, d, y)"
   ]
  },
  {
   "cell_type": "code",
   "execution_count": 52,
   "metadata": {},
   "outputs": [
    {
     "data": {
      "text/plain": [
       "Dict{String, Any} with 5 entries:\n",
       "  \"se\"          => 2326.9\n",
       "  \"individual\"  => [-50526.8, -1.39158e5, -1.37102e5, 38508.0, -6.5644e5, 7.943…\n",
       "  \"sample_size\" => 9915\n",
       "  \"te\"          => 12992.1\n",
       "  \"type\"        => \"LATE\""
      ]
     },
     "metadata": {},
     "output_type": "display_data"
    }
   ],
   "source": [
    "rlassoLATE(X, d, y, z)"
   ]
  },
  {
   "cell_type": "code",
   "execution_count": 53,
   "metadata": {},
   "outputs": [
    {
     "data": {
      "text/plain": [
       "Dict{String, Any} with 5 entries:\n",
       "  \"se\"          => 3645.28\n",
       "  \"individual\"  => [-35580.5, -90558.0, -1.83628e5, -5303.13, -8.0766e5, 1.8866…\n",
       "  \"sample_size\" => 9915\n",
       "  \"te\"          => 15323.2\n",
       "  \"type\"        => \"LATET\""
      ]
     },
     "metadata": {},
     "output_type": "display_data"
    }
   ],
   "source": [
    "rlassoLATET(X, d, y, z)"
   ]
  },
  {
   "cell_type": "code",
   "execution_count": null,
   "metadata": {},
   "outputs": [],
   "source": []
  },
  {
   "cell_type": "code",
   "execution_count": null,
   "metadata": {},
   "outputs": [],
   "source": []
  },
  {
   "cell_type": "code",
   "execution_count": null,
   "metadata": {},
   "outputs": [],
   "source": []
  },
  {
   "cell_type": "code",
   "execution_count": null,
   "metadata": {},
   "outputs": [],
   "source": []
  },
  {
   "cell_type": "code",
   "execution_count": null,
   "metadata": {},
   "outputs": [],
   "source": []
  },
  {
   "cell_type": "code",
   "execution_count": null,
   "metadata": {},
   "outputs": [],
   "source": []
  },
  {
   "cell_type": "code",
   "execution_count": null,
   "metadata": {},
   "outputs": [],
   "source": []
  },
  {
   "cell_type": "code",
   "execution_count": null,
   "metadata": {},
   "outputs": [],
   "source": []
  },
  {
   "cell_type": "code",
   "execution_count": null,
   "metadata": {},
   "outputs": [],
   "source": []
  }
 ],
 "metadata": {
  "kernelspec": {
   "display_name": "Julia 1.8.1",
   "language": "julia",
   "name": "julia-1.8"
  },
  "language_info": {
   "file_extension": ".jl",
   "mimetype": "application/julia",
   "name": "julia",
   "version": "1.8.1"
  },
  "orig_nbformat": 4
 },
 "nbformat": 4,
 "nbformat_minor": 2
}
