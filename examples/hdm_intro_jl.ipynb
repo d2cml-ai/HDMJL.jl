{
 "cells": [
  {
   "cell_type": "markdown",
   "metadata": {},
   "source": [
    "# Hight-Dimmensional Metrics in Julia\n",
    "\n",
    "## Introduction"
   ]
  },
  {
   "cell_type": "markdown",
   "metadata": {},
   "source": [
    "## How to Get Started"
   ]
  },
  {
   "cell_type": "code",
   "execution_count": 15,
   "metadata": {},
   "outputs": [
    {
     "data": {
      "text/plain": [
       "r_data (generic function with 2 methods)"
      ]
     },
     "execution_count": 15,
     "metadata": {},
     "output_type": "execute_result"
    }
   ],
   "source": [
    "# ]add HDMjl\n",
    "using CSV, DataFrames\n",
    "function r_data(n = 1)\n",
    "    n_m = \"r_\" * string(n) * \".csv\"\n",
    "    dta = CSV.read(n_m, DataFrame)\n",
    "    return dta\n",
    "end"
   ]
  },
  {
   "cell_type": "markdown",
   "metadata": {},
   "source": [
    "## Prediction Using Approximate Sparsity"
   ]
  },
  {
   "cell_type": "code",
   "execution_count": 16,
   "metadata": {},
   "outputs": [
    {
     "name": "stderr",
     "output_type": "stream",
     "text": [
      "WARNING: replacing module HDMjl.\n"
     ]
    },
    {
     "data": {
      "text/plain": [
       "Main.HDMjl"
      ]
     },
     "execution_count": 16,
     "metadata": {},
     "output_type": "execute_result"
    }
   ],
   "source": [
    "using Random, Distributions\n",
    "include(\"..\\\\src\\\\HDMjl.jl\")\n",
    "# pwd()"
   ]
  },
  {
   "cell_type": "code",
   "execution_count": 17,
   "metadata": {},
   "outputs": [],
   "source": [
    "## 32 A Joint Significance test for Lasso Regression\n",
    "# Random.seed!(12345)\n",
    "# n = 100\n",
    "# #sample size\n",
    "# p = 100\n",
    "# # number of variables\n",
    "s = 3\n",
    "# # nubmer of variables with non-zero coefficients\n",
    "# X = rand(Normal(), (n, p))\n",
    "# Y = X * beta + randn(n);\n",
    "dta = r_data(1)\n",
    "n, p = size(dta)\n",
    "beta = vcat(fill(3, s), zeros(p - s));\n",
    "p = p-1\n",
    "X = dta[:, Not(1)]\n",
    "Y = dta[:, 1];\n"
   ]
  },
  {
   "cell_type": "code",
   "execution_count": 18,
   "metadata": {},
   "outputs": [
    {
     "name": "stdout",
     "output_type": "stream",
     "text": [
      "\n",
      "    Post-Lasso Estimation: false\n",
      "    Total number of variables: 50\n",
      "    Number of selected variables: 3\n",
      "    ---\n",
      "     \n",
      "============ ============\n",
      " \u001b[1m Variable  \u001b[0m \u001b[1m Estimate  \u001b[0m\n",
      "============ ============\n",
      "  Intercept   0.0307194\n",
      "  V2          4.40362\n",
      "  V3          4.33222\n",
      "  V4          4.39125\n",
      "============ ============\n",
      "\n",
      "    ----\n",
      "    Multiple R-squared: 0.969344147763692\n",
      "    Adjusted R-squared: 0.9683861523813074\n",
      "    "
     ]
    }
   ],
   "source": [
    "lasso_reg = HDMjl.rlasso(X, Y, post = false)\n",
    "# use lasso, not-Post-lasso\n",
    "# lassoreg = rlasso(X, Y, post=false)\n",
    "sum_lasso = HDMjl.r_summary(lasso_reg, all = false)\n",
    "# can also do print(lassoreg, all=false)"
   ]
  },
  {
   "cell_type": "code",
   "execution_count": 23,
   "metadata": {},
   "outputs": [
    {
     "name": "stdout",
     "output_type": "stream",
     "text": [
      "\n",
      "    Post-Lasso Estimation: true\n",
      "    Total number of variables: 50\n",
      "    Number of selected variables: 4\n",
      "    ---\n",
      "     \n",
      "============ =============\n",
      " \u001b[1m Variable  \u001b[0m \u001b[1m Estimate   \u001b[0m\n",
      "============ =============\n",
      "  Intercept   0.00223374\n",
      "  V2          4.98173\n",
      "  V3          5.01485\n",
      "  V4          5.02564\n",
      "  V22         -0.443961\n",
      "============ =============\n",
      "\n",
      "    ----\n",
      "    Multiple R-squared: 0.9871727371309015\n",
      "    Adjusted R-squared: 0.9866326418522026\n",
      "    "
     ]
    }
   ],
   "source": [
    "yhat_lasso = HDMjl.r_predict(lasso_reg)\n",
    "#in-sample prediction\n",
    "# Xnew = rand(Normal(), (n, p))\n",
    "# new X\n",
    "# Ynew = Xnew * beta + randn(n)\n",
    "#new Y\n",
    "\n",
    "dta11 = r_data(1.1)\n",
    "Xnew = Matrix(dta11[:, Not(1)])\n",
    "Ynew = dta11[:, 1]\n",
    "# HDMjl.r_predict()\n",
    "yhat_lasso_new = HDMjl.r_predict(lasso_reg, xnew = Xnew)\n",
    "#out-of-sample prediction\n",
    "post_lasso_reg = HDMjl.rlasso(X, Y, post = true);\n",
    "#now use post-lasso\n",
    "HDMjl.r_summary(post_lasso_reg, all = false)\n",
    "# lasso_reg"
   ]
  },
  {
   "cell_type": "code",
   "execution_count": 24,
   "metadata": {},
   "outputs": [
    {
     "data": {
      "text/plain": [
       "2-element Vector{Float64}:\n",
       " 1.4760345675461333\n",
       " 1.0345207789641953"
      ]
     },
     "execution_count": 24,
     "metadata": {},
     "output_type": "execute_result"
    }
   ],
   "source": [
    "yhat_post_lasso = HDMjl.r_predict(post_lasso_reg)\n",
    "#in-sample prediction\n",
    "yhat_post_lasso_new = HDMjl.r_predict(post_lasso_reg, xnew = Xnew)\n",
    "#out-of-sample prediction\n",
    "MAE = hcat(abs.(Ynew - yhat_lasso_new), abs.(Ynew - yhat_post_lasso_new))\n",
    "mean.(eachcol(MAE))\n",
    "# names(MAE) = c(\"lasso MAE\", \"Post-lasso MAE\")\n",
    "# print(MAE, digits = 2)"
   ]
  },
  {
   "cell_type": "markdown",
   "metadata": {},
   "source": [
    "## Inference on Target Regression Coefficients"
   ]
  },
  {
   "cell_type": "code",
   "execution_count": 26,
   "metadata": {},
   "outputs": [],
   "source": [
    "#41 Intuition for the Orthogonality Principle in Linear Models via Partialling Out\n",
    "using DataFrames, Pipe\n",
    "Random.seed!(1)\n",
    "dta2 = r_data(2)\n",
    "X = dta2[:, Not(1)]\n",
    "y = dta2[:, 1]\n",
    "d = dta2[:, 2]\n",
    "n, p = size(X)\n",
    "px = p - 2\n",
    "# n = 5000\n",
    "# p = 20\n",
    "# X = rand(Normal(), (n, p))\n",
    "# d = X[:, 1] #|> rename(_, :x1 => :d)\n",
    "X1 = X[:, 2:p]\n",
    "\n",
    "beta = ones(p)\n",
    "# y = X * beta + randn(n);"
   ]
  },
  {
   "cell_type": "code",
   "execution_count": 27,
   "metadata": {},
   "outputs": [
    {
     "name": "stdout",
     "output_type": "stream",
     "text": [
      "Estimate: 0.978 (0.014)"
     ]
    }
   ],
   "source": [
    "using GLM\n",
    "\n",
    "function intercept(mtrx)\n",
    "    mtrx = Matrix(mtrx)\n",
    "    return hcat(ones(size(mtrx, 1)), mtrx)\n",
    "end\n",
    "\n",
    "full_fit = GLM.lm(intercept(X), y)\n",
    "\n",
    "est = round(coeftable(full_fit).cols[1][2], digits = 3)\n",
    "s_td = round(coeftable(full_fit).cols[2][2], digits = 3)\n",
    "\n",
    "print(\"Estimate: $est ($s_td)\")\n"
   ]
  },
  {
   "cell_type": "code",
   "execution_count": 28,
   "metadata": {},
   "outputs": [
    {
     "name": "stdout",
     "output_type": "stream",
     "text": [
      "Estimate: 0.978 (0.014)"
     ]
    }
   ],
   "source": [
    "\n",
    "lm_y = lm(intercept(X1), y)\n",
    "lm_d = lm(intercept(X1), d)\n",
    "# lm_y\n",
    "rY = GLM.residuals(lm_y)\n",
    "rd = GLM.residuals(lm_d)\n",
    "\n",
    "partial_fit_ls = lm(hcat(ones(n), rd), rY)\n",
    "\n",
    "est = round(coeftable(partial_fit_ls).cols[1][2], digits = 3)\n",
    "s_td = round(coeftable(partial_fit_ls).cols[2][2], digits = 3)\n",
    "\n",
    "print(\"Estimate: $est ($s_td)\")\n"
   ]
  },
  {
   "cell_type": "code",
   "execution_count": 29,
   "metadata": {},
   "outputs": [
    {
     "name": "stdout",
     "output_type": "stream",
     "text": [
      "Estimate: 0.973 (0.014)"
     ]
    }
   ],
   "source": [
    "rY = HDMjl.rlasso(X1, y)[\"residuals\"]\n",
    "rd = HDMjl.rlasso(X1, d)[\"residuals\"]\n",
    "# intercept(rd)\n",
    "# rY\n",
    "partial_fit_ls = GLM.lm(intercept(rd), rY[:, 1])\n",
    "\n",
    "\n",
    "est = round(coeftable(partial_fit_ls).cols[1][2], digits = 3)\n",
    "s_td = round(coeftable(partial_fit_ls).cols[2][2], digits = 3)\n",
    "\n",
    "print(\"Estimate: $est ($s_td)\")\n"
   ]
  },
  {
   "cell_type": "markdown",
   "metadata": {},
   "source": [
    "## Instrumental Variable Esimation in a High-Dimensional Setting"
   ]
  },
  {
   "cell_type": "code",
   "execution_count": 30,
   "metadata": {},
   "outputs": [
    {
     "name": "stdout",
     "output_type": "stream",
     "text": [
      "Estimates and significance testing of the effect of target variables\n",
      " \u001b[1m Row \u001b[0m \u001b[1m Estimate. \u001b[0m \u001b[1m Std. Error \u001b[0m \u001b[1m t value \u001b[0m \u001b[1m Pr(>|t|) \u001b[0m\n",
      "\n",
      "    1    0.972739    0.0136868   71.0715        0.0\n",
      "---\n",
      "Signif. codes:\n",
      "0 '***' 0.001 '**' 0.01 '*' 0.05 '.' 0.1 ' ' 1\n"
     ]
    }
   ],
   "source": [
    "Eff = HDMjl.rlassoEffect(X[:, Not(1)], y, X[:, 1], method = \"partialling out\")\n",
    "HDMjl.r_summary(Eff);"
   ]
  },
  {
   "cell_type": "markdown",
   "metadata": {},
   "source": [
    "### Error rlassoEffect \n",
    "\n",
    "    methd = \"double selection\""
   ]
  },
  {
   "cell_type": "code",
   "execution_count": null,
   "metadata": {},
   "outputs": [],
   "source": [
    "# Eff = HDMjl.rlassoEffect(X[:, Not(1)], y, X[:, 1], method = \"double selection\")\n",
    "# HDMjl.r_summary(Eff);"
   ]
  },
  {
   "cell_type": "code",
   "execution_count": 31,
   "metadata": {},
   "outputs": [],
   "source": [
    "##42 Inference confidence Intervals and Significance Testing\n",
    "\n",
    "n = 100\n",
    "#sample size\n",
    "p = 100\n",
    "# number of variables\n",
    "s = 3\n",
    "# nubmer of non-zero variables\n",
    "X = rand(Normal(), (n, p))\n",
    "\n",
    "dta3 = r_data(3)\n",
    "y = dta3[:, 1]\n",
    "X = dta3[:, Not(1)]\n",
    "\n",
    "\n",
    "# beta = vcat(fill(3, s), zeros(p - s))\n",
    "# y = 1 .+ X * beta + randn(n);"
   ]
  },
  {
   "cell_type": "code",
   "execution_count": 32,
   "metadata": {},
   "outputs": [
    {
     "name": "stdout",
     "output_type": "stream",
     "text": [
      "Coefficients:\n",
      "\n",
      " \u001b[1m    X1 \u001b[0m \u001b[1m    X2 \u001b[0m \u001b[1m    X3 \u001b[0m \u001b[1m     X8 \u001b[0m\n",
      "\n",
      "  2.944   3.041   2.975   -0.096\n"
     ]
    }
   ],
   "source": [
    "lassoeffect = HDMjl.rlassoEffects(X, y, index = [1, 2, 3, 8])\n",
    "HDMjl.r_print(lassoeffect)"
   ]
  },
  {
   "cell_type": "code",
   "execution_count": 33,
   "metadata": {},
   "outputs": [
    {
     "name": "stdout",
     "output_type": "stream",
     "text": [
      "Estimates and significance testing of the effect of target variables\n",
      " \u001b[1m    \u001b[0m \u001b[1m  Estimate. \u001b[0m \u001b[1m Std. Error \u001b[0m \u001b[1m  t value \u001b[0m \u001b[1m     Pr(>|t|) \u001b[0m\n",
      "\n",
      " \u001b[1m X1 \u001b[0m     2.94448    0.0881468    33.4043    1.1892e-244\n",
      " \u001b[1m X2 \u001b[0m     3.04127     0.083891    36.2527    9.0141e-288\n",
      " \u001b[1m X3 \u001b[0m      2.9754    0.0780394     38.127   4.58085e-318\n",
      " \u001b[1m X8 \u001b[0m  -0.0961403    0.0790902   -1.21558       0.224146\n",
      "---\n",
      "Signif. codes:\n",
      "0 '***' 0.001 '**' 0.01 '*' 0.05 '.' 0.1 ' ' 1\n"
     ]
    }
   ],
   "source": [
    "HDMjl.r_summary(lassoeffect)"
   ]
  },
  {
   "cell_type": "code",
   "execution_count": 34,
   "metadata": {},
   "outputs": [
    {
     "name": "stdout",
     "output_type": "stream",
     "text": [
      " \u001b[1m    \u001b[0m \u001b[1m      2.5% \u001b[0m \u001b[1m     97.5% \u001b[0m\n",
      "\n",
      " \u001b[1m X1 \u001b[0m    2.77171     3.11724\n",
      " \u001b[1m X2 \u001b[0m    2.87685      3.2057\n",
      " \u001b[1m X3 \u001b[0m    2.82245     3.12836\n",
      " \u001b[1m X8 \u001b[0m  -0.251154   0.0588737\n"
     ]
    }
   ],
   "source": [
    "HDMjl.r_confint(lassoeffect)"
   ]
  },
  {
   "cell_type": "code",
   "execution_count": 35,
   "metadata": {},
   "outputs": [
    {
     "name": "stdout",
     "output_type": "stream",
     "text": [
      " \u001b[1m    \u001b[0m \u001b[1m      0.5% \u001b[0m \u001b[1m    99.5% \u001b[0m\n",
      "\n",
      " \u001b[1m X1 \u001b[0m    2.71743    3.17153\n",
      " \u001b[1m X2 \u001b[0m    2.82519    3.25736\n",
      " \u001b[1m X3 \u001b[0m    2.77439    3.17642\n",
      " \u001b[1m X8 \u001b[0m  -0.299863   0.107583\n"
     ]
    }
   ],
   "source": [
    "HDMjl.r_confint(lassoeffect, 0.99)"
   ]
  },
  {
   "cell_type": "markdown",
   "metadata": {},
   "source": [
    "#### plot_cof"
   ]
  },
  {
   "cell_type": "code",
   "execution_count": null,
   "metadata": {},
   "outputs": [],
   "source": [
    "# plot(lassoeffect, main = \"Canfidence Intervals\")"
   ]
  },
  {
   "cell_type": "code",
   "execution_count": 53,
   "metadata": {},
   "outputs": [],
   "source": [
    "using RData, CodecXz, StatsModels, DataFrames\n",
    "url = \"https://github.com/cran/hdm/raw/master/data/cps2012.rda\";\n",
    "cps2012 = load(download(url))[\"cps2012\"][1:500, :];\n",
    "\n",
    "x_formula = @formula(lnw ~ -1 + widowed + divorced + separated + nevermarried +\n",
    "hsd08 + hsd911 + hsg + cg + ad + mw + so + we + exp1 + exp2 + exp3)\n",
    " \n",
    "x_dframe = ModelFrame( x_formula, cps2012)\n",
    "x1 = ModelMatrix(x_dframe)\n",
    "x = x1.m\n",
    "y = cps2012[:,\"lnw\"];\n",
    "# rlassoEffects(x,y)"
   ]
  },
  {
   "cell_type": "code",
   "execution_count": 55,
   "metadata": {},
   "outputs": [
    {
     "name": "stdout",
     "output_type": "stream",
     "text": [
      "  2.774894 seconds (2.59 M allocations: 8.683 GiB, 16.68% gc time)\n"
     ]
    }
   ],
   "source": [
    "@time effects_female = HDMjl.rlassoEffects(x, y);"
   ]
  },
  {
   "cell_type": "code",
   "execution_count": 56,
   "metadata": {},
   "outputs": [
    {
     "name": "stdout",
     "output_type": "stream",
     "text": [
      "Estimates and significance testing of the effect of target variables\n",
      " \u001b[1m     \u001b[0m \u001b[1m  Estimate. \u001b[0m \u001b[1m Std. Error \u001b[0m \u001b[1m   t value \u001b[0m \u001b[1m    Pr(>|t|) \u001b[0m\n",
      "\n",
      " \u001b[1m  X1 \u001b[0m   0.0174897       0.2683   0.0651872      0.948025\n",
      " \u001b[1m  X2 \u001b[0m   -0.230958    0.0791962    -2.91628    0.00354238\n",
      " \u001b[1m  X3 \u001b[0m    0.194484     0.238039    0.817026      0.413914\n",
      " \u001b[1m  X4 \u001b[0m   -0.248817    0.0706749    -3.52058     0.0004306\n",
      " \u001b[1m  X5 \u001b[0m   -0.352518     0.306652    -1.14957      0.250322\n",
      " \u001b[1m  X6 \u001b[0m   -0.314656     0.153306    -2.05247     0.0401243\n",
      " \u001b[1m  X7 \u001b[0m  -0.0595341    0.0582492    -1.02206      0.306753\n",
      " \u001b[1m  X8 \u001b[0m    0.246817    0.0638804     3.86374   0.000111665\n",
      " \u001b[1m  X9 \u001b[0m    0.595771    0.0960622     6.20193   5.57746e-10\n",
      " \u001b[1m X10 \u001b[0m         0.0          NaN         NaN           NaN\n",
      " \u001b[1m X11 \u001b[0m         0.0          NaN         NaN           NaN\n",
      " \u001b[1m X12 \u001b[0m         0.0          NaN         NaN           NaN\n",
      " \u001b[1m X13 \u001b[0m   0.0220862    0.0136327     1.62008      0.105214\n",
      " \u001b[1m X14 \u001b[0m   -0.173032     0.214296   -0.807442      0.419412\n",
      " \u001b[1m X15 \u001b[0m  -0.0155836    0.0133694    -1.16562      0.243769\n",
      "---\n",
      "Signif. codes:\n",
      "0 '***' 0.001 '**' 0.01 '*' 0.05 '.' 0.1 ' ' 1\n"
     ]
    }
   ],
   "source": [
    "HDMjl.r_summary(effects_female)"
   ]
  },
  {
   "cell_type": "code",
   "execution_count": 60,
   "metadata": {},
   "outputs": [
    {
     "name": "stdout",
     "output_type": "stream",
     "text": [
      " \u001b[1m     \u001b[0m \u001b[1m        2.5% \u001b[0m \u001b[1m      97.5% \u001b[0m\n",
      "\n",
      " \u001b[1m  X1 \u001b[0m    -0.508369     0.543348\n",
      " \u001b[1m  X2 \u001b[0m     -0.38618   -0.0757362\n",
      " \u001b[1m  X3 \u001b[0m    -0.272064     0.661031\n",
      " \u001b[1m  X4 \u001b[0m    -0.387337    -0.110297\n",
      " \u001b[1m  X5 \u001b[0m    -0.953545      0.24851\n",
      " \u001b[1m  X6 \u001b[0m     -0.61513   -0.0141812\n",
      " \u001b[1m  X7 \u001b[0m      -0.1737    0.0546323\n",
      " \u001b[1m  X8 \u001b[0m     0.121614      0.37202\n",
      " \u001b[1m  X9 \u001b[0m     0.407493      0.78405\n",
      " \u001b[1m X10 \u001b[0m          NaN          NaN\n",
      " \u001b[1m X11 \u001b[0m          NaN          NaN\n",
      " \u001b[1m X12 \u001b[0m          NaN          NaN\n",
      " \u001b[1m X13 \u001b[0m  -0.00463351    0.0488058\n",
      " \u001b[1m X14 \u001b[0m    -0.593044     0.246981\n",
      " \u001b[1m X15 \u001b[0m   -0.0417872    0.0106199\n"
     ]
    }
   ],
   "source": [
    "jointCI = HDMjl.r_confint(effects_female, 0.95)#, joint = true)\n",
    "jointCI"
   ]
  },
  {
   "cell_type": "code",
   "execution_count": 24,
   "metadata": {},
   "outputs": [],
   "source": [
    "# Syssleep(7)\n",
    "# effectsfemale = rlassoEffects(lnw ~ female + female:(widowed + divorced + separated +\n",
    "# nevermarried + hsd08 + hsd911 + hsg + cg + ad + mw + so + we + exp1 + exp2 +\n",
    "# exp3) + (widowed + divorced + separated + nevermarried + hsd08 + hsd911 + hsg +\n",
    "# cg + ad + mw + so + we + exp1 + exp2 + exp3)^2, data = cps2012, I = ~female +\n",
    "# female:(widowed + divorced + separated + nevermarried + hsd08 + hsd911 + hsg +\n",
    "# cg + ad + mw + so + we + exp1 + exp2 + exp3))"
   ]
  },
  {
   "cell_type": "code",
   "execution_count": 70,
   "metadata": {},
   "outputs": [],
   "source": [
    "## 44\n",
    "url = \"https://github.com/cran/hdm/raw/master/data/GrowthData.rda\";\n",
    "GrowthData = load(download(url))[\"GrowthData\"];\n",
    "y = GrowthData[:, 1];\n",
    "# dim(GrowthData)\n",
    "\n",
    "d = GrowthData[:, 3];\n",
    "X =  Matrix(GrowthData[:, Not(1, 2, 3)]);\n",
    "X1 = Matrix(GrowthData[:, Not(1, 2)]);\n",
    "# GrowthData[1:4, :]"
   ]
  },
  {
   "cell_type": "code",
   "execution_count": 86,
   "metadata": {},
   "outputs": [],
   "source": [
    "# xnames = varnames[-c(1, 2, 3)]\n",
    "# names of X variables\n",
    "# dandxnames = varnames[-c(1, 2)]\n",
    "# names of D and X variables\n",
    "# create formulas by pasting names (this saves typing times)\n",
    "# fmla = asformula(paste(\"Outcome ~ \", paste(dandxnames, collapse = \"+\")))\n",
    "lseffect = lm(intercept(X1), y);"
   ]
  },
  {
   "cell_type": "code",
   "execution_count": 90,
   "metadata": {},
   "outputs": [
    {
     "data": {
      "text/plain": [
       "(90, 60)"
      ]
     },
     "execution_count": 90,
     "metadata": {},
     "output_type": "execute_result"
    }
   ],
   "source": [
    "size(X)"
   ]
  },
  {
   "cell_type": "code",
   "execution_count": 89,
   "metadata": {},
   "outputs": [
    {
     "name": "stdout",
     "output_type": "stream",
     "text": [
      "Estimates and significance testing of the effect of target variables\n",
      " \u001b[1m Row \u001b[0m \u001b[1m Estimate. \u001b[0m \u001b[1m Std. Error \u001b[0m \u001b[1m t value \u001b[0m \u001b[1m    Pr(>|t|) \u001b[0m\n",
      "\n",
      "    1    -0.05333    0.0143283    -3.722   0.000197655\n",
      "---\n",
      "Signif. codes:\n",
      "0 '***' 0.001 '**' 0.01 '*' 0.05 '.' 0.1 ' ' 1\n"
     ]
    },
    {
     "data": {
      "text/html": [
       "<div class=\"data-frame\"><p>1 rows × 4 columns</p><table class=\"data-frame\"><thead><tr><th></th><th>Estimate.</th><th>Std. Error</th><th>t value</th><th>Pr(&gt;|t|)</th></tr><tr><th></th><th title=\"Float64\">Float64</th><th title=\"Float64\">Float64</th><th title=\"Float64\">Float64</th><th title=\"Float64\">Float64</th></tr></thead><tbody><tr><th>1</th><td>-0.05333</td><td>0.0143283</td><td>-3.722</td><td>0.000197655</td></tr></tbody></table></div>"
      ],
      "text/latex": [
       "\\begin{tabular}{r|cccc}\n",
       "\t& Estimate. & Std. Error & t value & Pr(>|t|)\\\\\n",
       "\t\\hline\n",
       "\t& Float64 & Float64 & Float64 & Float64\\\\\n",
       "\t\\hline\n",
       "\t1 & -0.05333 & 0.0143283 & -3.722 & 0.000197655 \\\\\n",
       "\\end{tabular}\n"
      ],
      "text/plain": [
       "\u001b[1m1×4 DataFrame\u001b[0m\n",
       "\u001b[1m Row \u001b[0m│\u001b[1m Estimate. \u001b[0m\u001b[1m Std. Error \u001b[0m\u001b[1m t value \u001b[0m\u001b[1m Pr(>|t|)    \u001b[0m\n",
       "\u001b[1m     \u001b[0m│\u001b[90m Float64   \u001b[0m\u001b[90m Float64    \u001b[0m\u001b[90m Float64 \u001b[0m\u001b[90m Float64     \u001b[0m\n",
       "─────┼─────────────────────────────────────────────\n",
       "   1 │  -0.05333   0.0143283   -3.722  0.000197655"
      ]
     },
     "execution_count": 89,
     "metadata": {},
     "output_type": "execute_result"
    }
   ],
   "source": [
    "\n",
    "dX = hcat(d, X)\n",
    "# dX = asmatrix(cbind(d, X))\n",
    "\n",
    "lassoeffect = HDMjl.rlassoEffect(X, y, d, method = \"partialling out\")\n",
    "HDMjl.r_summary(lassoeffect)"
   ]
  },
  {
   "cell_type": "code",
   "execution_count": 93,
   "metadata": {},
   "outputs": [
    {
     "name": "stdout",
     "output_type": "stream",
     "text": [
      "Estimates and significance testing of the effect of target variables\n",
      " \u001b[1m Row \u001b[0m \u001b[1m  Estimate. \u001b[0m \u001b[1m Std. Error \u001b[0m \u001b[1m  t value \u001b[0m \u001b[1m  Pr(>|t|) \u001b[0m\n",
      "\n",
      "    1   -0.0453558     0.018656   -2.43116   0.0150506\n",
      "---\n",
      "Signif. codes:\n",
      "0 '***' 0.001 '**' 0.01 '*' 0.05 '.' 0.1 ' ' 1\n"
     ]
    },
    {
     "data": {
      "text/html": [
       "<div class=\"data-frame\"><p>1 rows × 4 columns</p><table class=\"data-frame\"><thead><tr><th></th><th>Estimate.</th><th>Std. Error</th><th>t value</th><th>Pr(&gt;|t|)</th></tr><tr><th></th><th title=\"Float64\">Float64</th><th title=\"Float64\">Float64</th><th title=\"Float64\">Float64</th><th title=\"Float64\">Float64</th></tr></thead><tbody><tr><th>1</th><td>-0.0453558</td><td>0.018656</td><td>-2.43116</td><td>0.0150506</td></tr></tbody></table></div>"
      ],
      "text/latex": [
       "\\begin{tabular}{r|cccc}\n",
       "\t& Estimate. & Std. Error & t value & Pr(>|t|)\\\\\n",
       "\t\\hline\n",
       "\t& Float64 & Float64 & Float64 & Float64\\\\\n",
       "\t\\hline\n",
       "\t1 & -0.0453558 & 0.018656 & -2.43116 & 0.0150506 \\\\\n",
       "\\end{tabular}\n"
      ],
      "text/plain": [
       "\u001b[1m1×4 DataFrame\u001b[0m\n",
       "\u001b[1m Row \u001b[0m│\u001b[1m Estimate.  \u001b[0m\u001b[1m Std. Error \u001b[0m\u001b[1m t value  \u001b[0m\u001b[1m Pr(>|t|)  \u001b[0m\n",
       "\u001b[1m     \u001b[0m│\u001b[90m Float64    \u001b[0m\u001b[90m Float64    \u001b[0m\u001b[90m Float64  \u001b[0m\u001b[90m Float64   \u001b[0m\n",
       "─────┼─────────────────────────────────────────────\n",
       "   1 │ -0.0453558    0.018656  -2.43116  0.0150506"
      ]
     },
     "execution_count": 93,
     "metadata": {},
     "output_type": "execute_result"
    }
   ],
   "source": [
    "# dX = asmatrix(cbind(d, X))\n",
    "doubleseleffect = HDMjl.rlassoEffect(X, y, d, method = \"double selection\")\n",
    "HDMjl.r_summary(doubleseleffect)"
   ]
  },
  {
   "cell_type": "code",
   "execution_count": 29,
   "metadata": {},
   "outputs": [
    {
     "data": {
      "text/html": [
       "<table class=\"dataframe\">\n",
       "<caption>A xtable: 3 × 2</caption>\n",
       "<thead>\n",
       "\t<tr><th></th><th scope=col>Estimate</th><th scope=col>Std. Error</th></tr>\n",
       "\t<tr><th></th><th scope=col>&lt;dbl&gt;</th><th scope=col>&lt;dbl&gt;</th></tr>\n",
       "</thead>\n",
       "<tbody>\n",
       "\t<tr><th scope=row>full reg via ols</th><td>-0.009377989</td><td>0.02988773</td></tr>\n",
       "\t<tr><th scope=row>partial reg\n",
       "via post-lasso </th><td>-0.049811465</td><td>0.01393636</td></tr>\n",
       "\t<tr><th scope=row>partial reg via double selection</th><td>-0.050005855</td><td>0.01579138</td></tr>\n",
       "</tbody>\n",
       "</table>\n"
      ],
      "text/latex": [
       "A xtable: 3 × 2\n",
       "\\begin{tabular}{r|ll}\n",
       "  & Estimate & Std. Error\\\\\n",
       "  & <dbl> & <dbl>\\\\\n",
       "\\hline\n",
       "\tfull reg via ols & -0.009377989 & 0.02988773\\\\\n",
       "\tpartial reg\n",
       "via post-lasso  & -0.049811465 & 0.01393636\\\\\n",
       "\tpartial reg via double selection & -0.050005855 & 0.01579138\\\\\n",
       "\\end{tabular}\n"
      ],
      "text/markdown": [
       "\n",
       "A xtable: 3 × 2\n",
       "\n",
       "| <!--/--> | Estimate &lt;dbl&gt; | Std. Error &lt;dbl&gt; |\n",
       "|---|---|---|\n",
       "| full reg via ols | -0.009377989 | 0.02988773 |\n",
       "| partial reg\n",
       "via post-lasso  | -0.049811465 | 0.01393636 |\n",
       "| partial reg via double selection | -0.050005855 | 0.01579138 |\n",
       "\n"
      ],
      "text/plain": [
       "                                 Estimate     Std. Error\n",
       "full reg via ols                 -0.009377989 0.02988773\n",
       "partial reg\\nvia post-lasso      -0.049811465 0.01393636\n",
       "partial reg via double selection -0.050005855 0.01579138"
      ]
     },
     "metadata": {},
     "output_type": "display_data"
    }
   ],
   "source": [
    "# library(xtable)\n",
    "# table = rbind(summary(lseffect)$coef[\"gdpsh465\", 1:2], summary(lassoeffect)$coef[,\n",
    "# 1:2], summary(doubleseleffect)$coef[, 1:2])\n",
    "# colnames(table) = c(\"Estimate\", \"Std Error\")\n",
    "# #names(summary(fullfit)£coef)[1:2]\n",
    "# rownames(table) = c(\"full reg via ols\", \"partial reg\n",
    "# via post-lasso \", \"partial reg via double selection\")\n",
    "# tab = xtable(table, digits = c(2, 2, 5))\n",
    "# tab"
   ]
  },
  {
   "cell_type": "markdown",
   "metadata": {},
   "source": [
    "## Inference on Treatment Effects in a Hight-Dimensional Setting"
   ]
  },
  {
   "cell_type": "code",
   "execution_count": 100,
   "metadata": {},
   "outputs": [],
   "source": [
    "##51\n",
    "url = \"https://github.com/cran/hdm/raw/master/data/AJR.rda\";\n",
    "AJR = load(download(url))[\"AJR\"];\n",
    "y = AJR.GDP\n",
    "d = AJR.Exprop\n",
    "z = AJR.logMort\n",
    "X = AJR[:, [\"Latitude\", \"Latitude2\", \"Africa\", \"Asia\", \"Namer\", \"Samer\"]]\n",
    "X = Matrix(X)\n",
    "# # dim(GrowthData)\n",
    "\n",
    "# d = GrowthData[:, 3];\n",
    "# X =  Matrix(GrowthData[:, Not(1, 2, 3)]);\n",
    "# X1 = Matrix(GrowthData[:, Not(1, 2)]);\n",
    "# data(AJR)\n",
    "# y = AJR$GDP\n",
    "# d = AJR$Exprop\n",
    "# z = AJR$logMort\n",
    "# x = modelmatrix(~-1 + (Latitude + Latitude2 + Africa + Asia + Namer + Samer)^2,\n",
    "# data = AJR)\n",
    "# dim(x)\n",
    "# AJR"
   ]
  },
  {
   "cell_type": "code",
   "execution_count": null,
   "metadata": {},
   "outputs": [],
   "source": [
    "AJRXselect = HDMjl.rlassoIV(X, d, y, z,  select_Z = false)\n",
    "# summary(AJRXselect)"
   ]
  },
  {
   "cell_type": "code",
   "execution_count": 32,
   "metadata": {},
   "outputs": [
    {
     "name": "stdout",
     "output_type": "stream",
     "text": [
      "           2.5 %   97.5 %\n",
      "Exprop 0.3159812 1.374072\n"
     ]
    }
   ],
   "source": [
    "confint(AJRXselect)"
   ]
  },
  {
   "cell_type": "code",
   "execution_count": 144,
   "metadata": {},
   "outputs": [],
   "source": [
    "\n",
    "# x_formula = @formula(lnw ~ -1 + widowed + divorced + separated + nevermarried +\n",
    "# hsd08 + hsd911 + hsg + cg + ad + mw + so + we + exp1 + exp2 + exp3)\n",
    " \n",
    "# x_dframe = ModelFrame( x_formula, cps2012)\n",
    "# x1 = ModelMatrix(x_dframe)\n",
    "# x = x1.m\n",
    "# y = cps2012[:,\"lnw\"];\n",
    "AJR = AJR\n",
    "x_fmla = @formula(GDP ~ (Latitude + Latitude2 + Africa + Asia + Namer + Samer))\n",
    "x_dframe = ModelMatrix(ModelFrame(x_fmla, AJR))\n",
    "y = AJR.GDP\n",
    "d = AJR.Exprop\n",
    "z = AJR.logMort;"
   ]
  },
  {
   "cell_type": "code",
   "execution_count": 137,
   "metadata": {},
   "outputs": [],
   "source": [
    "rY = residuals(lm(intercept(X), y))\n",
    "rd = residuals(lm(intercept(X), d))\n",
    "rz = residuals(lm(intercept(X), z));"
   ]
  },
  {
   "cell_type": "code",
   "execution_count": 138,
   "metadata": {},
   "outputs": [
    {
     "data": {
      "text/plain": [
       "Dict{String, Any} with 5 entries:\n",
       "  \"se\"           => [0.442582, 0.125925]\n",
       "  \"sample_size\"  => 64\n",
       "  \"vcov\"         => [0.195879 -1.33729e-16; -1.18249e-16 0.0158572]\n",
       "  \"residuals\"    => [0.34521, 0.880337, 1.02393, -0.582899, -0.318495, 0.911684…\n",
       "  \"coefficients\" => [1.08794, 3.70182e-16]"
      ]
     },
     "execution_count": 138,
     "metadata": {},
     "output_type": "execute_result"
    }
   ],
   "source": [
    "HDMjl.tsls(rd, rY, rz, nothing)"
   ]
  },
  {
   "cell_type": "code",
   "execution_count": 33,
   "metadata": {},
   "outputs": [
    {
     "name": "stdout",
     "output_type": "stream",
     "text": [
      "   [,1] [,2]\n",
      "rD 1.27 1.73\n"
     ]
    }
   ],
   "source": [
    "# fmlay = GDP ~ (Latitude + Latitude2 + Africa + Asia + Namer + Samer)^2\n",
    "# fmlad = Exprop ~ (Latitude + Latitude2 + Africa + Asia + Namer + Samer)^2\n",
    "# fmlaz = logMort ~ (Latitude + Latitude2 + Africa + Asia + Namer + Samer)^2\n",
    "# rY = lm(fmlay, data = AJR)$res\n",
    "# rD = lm(fmlad, data = AJR)$res\n",
    "# rZ = lm(fmlaz, data = AJR)$res\n",
    "# # ivfitlm = tsls(y=rY,d=rD, x=NULL, z=rZ, intercept=false)\n",
    "# ivfitlm = tsls(rY ~ rD | rZ, intercept = false)\n",
    "# print(cbind(ivfitlm$coef, ivfitlm$se), digits = 3)"
   ]
  },
  {
   "cell_type": "code",
   "execution_count": 151,
   "metadata": {},
   "outputs": [
    {
     "data": {
      "text/plain": [
       "Dict{String, Any} with 5 entries:\n",
       "  \"se\"           => [0.45288, 0.128855]\n",
       "  \"sample_size\"  => 64\n",
       "  \"vcov\"         => [0.2051 -1.40025e-16; -1.23816e-16 0.0166037]\n",
       "  \"residuals\"    => [0.27765; 0.888344; … ; -0.423318; 2.25992;;]\n",
       "  \"coefficients\" => [1.08794; -6.79326e-16;;]"
      ]
     },
     "execution_count": 151,
     "metadata": {},
     "output_type": "execute_result"
    }
   ],
   "source": [
    "rY = HDMjl.rlasso(X, y)[\"residuals\"]\n",
    "rD = HDMjl.rlasso(X, d)[\"residuals\"]\n",
    "rZ = HDMjl.rlasso(X, z)[\"residuals\"]\n",
    "HDMjl.tsls(rd, rY, rz, nothing)"
   ]
  },
  {
   "cell_type": "code",
   "execution_count": 35,
   "metadata": {},
   "outputs": [],
   "source": [
    "data(EminentDomain)\n",
    "z = asmatrix(EminentDomain$logGDP$z)\n",
    "x = asmatrix(EminentDomain$logGDP$x)\n",
    "y = EminentDomain$logGDP$y\n",
    "d = EminentDomain$logGDP$d\n",
    "x = x[, apply(x, 2, mean, narm = true) > 005]\n",
    "#\n",
    "z = z[, apply(z, 2, mean, narm = true) > 005]\n",
    "#"
   ]
  },
  {
   "cell_type": "code",
   "execution_count": 36,
   "metadata": {},
   "outputs": [],
   "source": [
    "EDols = lm(y ~ cbind(d, x))\n",
    "ED2sls = tsls(y = y, d = d, x = x, z = z[, 1:2], intercept = false)"
   ]
  },
  {
   "cell_type": "code",
   "execution_count": 37,
   "metadata": {},
   "outputs": [
    {
     "name": "stdout",
     "output_type": "stream",
     "text": [
      "[1] \"Estimates and significance testing of the effect of target variables in the IV regression model\"\n",
      "   coeff.    se. t-value p-value\n",
      "d1 0.4146 0.2902   1.428   0.153\n",
      "\n",
      "\n"
     ]
    }
   ],
   "source": [
    "lassoIVZ = rlassoIV(x = x, d = d, y = y, z = z, selectX = false, selectZ = true)\n",
    "# or lassoIVZ = rlassoIVselectZt(x=X, d=d, y=y, z=z)\n",
    "summary(lassoIVZ)"
   ]
  },
  {
   "cell_type": "code",
   "execution_count": 38,
   "metadata": {},
   "outputs": [
    {
     "name": "stdout",
     "output_type": "stream",
     "text": [
      "        2.5 %    97.5 %\n",
      "d1 -0.1542764 0.9834796\n"
     ]
    }
   ],
   "source": [
    "confint(lassoIVZ)"
   ]
  },
  {
   "cell_type": "code",
   "execution_count": 39,
   "metadata": {},
   "outputs": [
    {
     "name": "stdout",
     "output_type": "stream",
     "text": [
      "Estimates and Significance Testing of the effect of target variables in the IV regression model \n",
      "     coeff.      se. t-value p-value\n",
      "d1 -0.02383  0.12851  -0.185   0.853\n",
      "\n",
      "\n"
     ]
    }
   ],
   "source": [
    "lassoIVXZ = rlassoIV(x = x, d = d, y = y, z = z, selectX = true, selectZ = true)\n",
    "summary(lassoIVXZ)"
   ]
  },
  {
   "cell_type": "code",
   "execution_count": 40,
   "metadata": {},
   "outputs": [
    {
     "name": "stdout",
     "output_type": "stream",
     "text": [
      "        2.5 %    97.5 %\n",
      "d1 -0.2757029 0.2280335\n"
     ]
    }
   ],
   "source": [
    "confint(lassoIVXZ)"
   ]
  },
  {
   "cell_type": "code",
   "execution_count": 41,
   "metadata": {},
   "outputs": [
    {
     "name": "stdout",
     "output_type": "stream",
     "text": [
      "[1] \"Estimates and significance testing of the effect of target variables in the IV regression model\"\n",
      "   coeff.    se. t-value p-value\n",
      "d1 0.4146 0.2902   1.428   0.153\n",
      "\n",
      "\n"
     ]
    }
   ],
   "source": [
    "library(xtable)\n",
    "table = matrix(0, 4, 2)\n",
    "table[1, ] = summary(EDols)$coef[2, 1:2]\n",
    "table[2, ] = cbind(ED2sls$coef[1], ED2sls$se[1])\n",
    "table[3, ] = summary(lassoIVZ)[, 1:2]"
   ]
  },
  {
   "cell_type": "code",
   "execution_count": 42,
   "metadata": {},
   "outputs": [
    {
     "name": "stdout",
     "output_type": "stream",
     "text": [
      "Estimates and Significance Testing of the effect of target variables in the IV regression model \n",
      "     coeff.      se. t-value p-value\n",
      "d1 -0.02383  0.12851  -0.185   0.853\n",
      "\n",
      "\n"
     ]
    }
   ],
   "source": [
    "table[4, ] = summary(lassoIVXZ)[, 1:2]"
   ]
  },
  {
   "cell_type": "code",
   "execution_count": 43,
   "metadata": {},
   "outputs": [
    {
     "data": {
      "text/html": [
       "<table class=\"dataframe\">\n",
       "<caption>A xtable: 4 × 2</caption>\n",
       "<thead>\n",
       "\t<tr><th></th><th scope=col>Estimate</th><th scope=col>Std. Error</th></tr>\n",
       "\t<tr><th></th><th scope=col>&lt;dbl&gt;</th><th scope=col>&lt;dbl&gt;</th></tr>\n",
       "</thead>\n",
       "<tbody>\n",
       "\t<tr><th scope=row>ols regression</th><td> 0.007864732</td><td>0.009865927</td></tr>\n",
       "\t<tr><th scope=row>IV estimation </th><td>-0.010733269</td><td>0.033766362</td></tr>\n",
       "\t<tr><th scope=row>selection on Z</th><td> 0.414601641</td><td>0.290249208</td></tr>\n",
       "\t<tr><th scope=row>selection on X and Z</th><td>-0.023834697</td><td>0.128506538</td></tr>\n",
       "</tbody>\n",
       "</table>\n"
      ],
      "text/latex": [
       "A xtable: 4 × 2\n",
       "\\begin{tabular}{r|ll}\n",
       "  & Estimate & Std. Error\\\\\n",
       "  & <dbl> & <dbl>\\\\\n",
       "\\hline\n",
       "\tols regression &  0.007864732 & 0.009865927\\\\\n",
       "\tIV estimation  & -0.010733269 & 0.033766362\\\\\n",
       "\tselection on Z &  0.414601641 & 0.290249208\\\\\n",
       "\tselection on X and Z & -0.023834697 & 0.128506538\\\\\n",
       "\\end{tabular}\n"
      ],
      "text/markdown": [
       "\n",
       "A xtable: 4 × 2\n",
       "\n",
       "| <!--/--> | Estimate &lt;dbl&gt; | Std. Error &lt;dbl&gt; |\n",
       "|---|---|---|\n",
       "| ols regression |  0.007864732 | 0.009865927 |\n",
       "| IV estimation  | -0.010733269 | 0.033766362 |\n",
       "| selection on Z |  0.414601641 | 0.290249208 |\n",
       "| selection on X and Z | -0.023834697 | 0.128506538 |\n",
       "\n"
      ],
      "text/plain": [
       "                     Estimate     Std. Error \n",
       "ols regression        0.007864732 0.009865927\n",
       "IV estimation        -0.010733269 0.033766362\n",
       "selection on Z        0.414601641 0.290249208\n",
       "selection on X and Z -0.023834697 0.128506538"
      ]
     },
     "metadata": {},
     "output_type": "display_data"
    }
   ],
   "source": [
    "colnames(table) = c(\"Estimate\", \"Std Error\")\n",
    "rownames(table) = c(\"ols regression\", \"IV estimation \", \"selection on Z\", \"selection on X and Z\")\n",
    "tab = xtable(table, digits = c(2, 2, 7))\n",
    "tab"
   ]
  },
  {
   "cell_type": "code",
   "execution_count": 44,
   "metadata": {},
   "outputs": [],
   "source": [
    "data(pension)\n",
    "y = pension$tw\n",
    "d = pension$p401\n",
    "z = pension$e401\n",
    "X = pension[, c(\"i2\", \"i3\", \"i4\", \"i5\", \"i6\", \"i7\", \"a2\", \"a3\", \"a4\", \"a5\", \"fsize\",\n",
    "\"hs\", \"smcol\", \"col\", \"marr\", \"twoearn\", \"db\", \"pira\", \"hown\")]\n",
    "# simple model\n",
    "xvar = c(\"i2\", \"i3\", \"i4\", \"i5\", \"i6\", \"i7\", \"a2\", \"a3\", \"a4\", \"a5\", \"fsize\", \"hs\",\n",
    "\"smcol\", \"col\", \"marr\", \"twoearn\", \"db\", \"pira\", \"hown\")\n",
    "xpart = paste(xvar, collapse = \"+\")\n",
    "form = asformula(paste(\"tw ~ \", paste(c(\"p401\", xvar), collapse = \"+\"), \"|\", paste(xvar,\n",
    "collapse = \"+\")))\n",
    "formZ = asformula(paste(\"tw ~ \", paste(c(\"p401\", xvar), collapse = \"+\"), \"|\", paste(c(\"e401\",\n",
    "xvar), collapse = \"+\")))"
   ]
  },
  {
   "cell_type": "code",
   "execution_count": 45,
   "metadata": {},
   "outputs": [
    {
     "name": "stdout",
     "output_type": "stream",
     "text": [
      "Estimation and significance testing of the treatment effect \n",
      "Type: ATE \n",
      "Bootstrap: not applicable \n",
      "   coeff.   se. t-value  p-value    \n",
      "TE  10180  1931   5.273 1.34e-07 ***\n",
      "---\n",
      "Signif. codes:  0 '***' 0.001 '**' 0.01 '*' 0.05 '.' 0.1 ' ' 1\n",
      "\n",
      "\n"
     ]
    }
   ],
   "source": [
    "pensionate = rlassoATE(form, data = pension)\n",
    "summary(pensionate)"
   ]
  },
  {
   "cell_type": "code",
   "execution_count": 46,
   "metadata": {},
   "outputs": [
    {
     "name": "stdout",
     "output_type": "stream",
     "text": [
      "Estimation and significance testing of the treatment effect \n",
      "Type: ATET \n",
      "Bootstrap: not applicable \n",
      "   coeff.   se. t-value p-value    \n",
      "TE  12628  2944   4.289 1.8e-05 ***\n",
      "---\n",
      "Signif. codes:  0 '***' 0.001 '**' 0.01 '*' 0.05 '.' 0.1 ' ' 1\n",
      "\n",
      "\n"
     ]
    }
   ],
   "source": [
    "pensionatet = rlassoATET(form, data = pension)\n",
    "summary(pensionatet)"
   ]
  },
  {
   "cell_type": "markdown",
   "metadata": {},
   "source": [
    "### Error"
   ]
  },
  {
   "cell_type": "code",
   "execution_count": 53,
   "metadata": {},
   "outputs": [],
   "source": [
    "# pensionlate = rlassoLATE(X, d, y, z)\n",
    "# pensionlate = rlassoLATE(formZ, data=pension)\n",
    "# summary(pensionlate)"
   ]
  },
  {
   "cell_type": "code",
   "execution_count": 48,
   "metadata": {},
   "outputs": [],
   "source": [
    "# pensionlatet = rlassoLATET(X, d, y, z)"
   ]
  },
  {
   "cell_type": "code",
   "execution_count": 49,
   "metadata": {},
   "outputs": [],
   "source": [
    "xvar2 = paste(\"(\", xvar, \")^2\", sep = \"\")\n",
    "formExt = asformula(paste(\"tw ~ \", paste(c(\"p401\", xvar2), collapse = \"+\"), \"|\",\n",
    "paste(xvar2, collapse = \"+\")))\n",
    "formZExt = asformula(paste(\"tw ~ \", paste(c(\"p401\", xvar2), collapse = \"+\"), \"|\",\n",
    "paste(c(\"e401\", xvar2), collapse = \"+\")))"
   ]
  },
  {
   "cell_type": "code",
   "execution_count": 50,
   "metadata": {},
   "outputs": [],
   "source": [
    "pensionate = rlassoATE(X, z, y)\n",
    "pensionatet = rlassoATET(X, z, y)\n",
    "# pensionlate = rlassoLATE(X, d, y, z)\n",
    "# pensionlatet = rlassoLATET(X, d, y, z)"
   ]
  },
  {
   "cell_type": "markdown",
   "metadata": {},
   "source": [
    "## The Lasso Methods for Discovery of Significant Causes amongst Many Potential Causes, with Many Controls"
   ]
  },
  {
   "cell_type": "code",
   "execution_count": 54,
   "metadata": {},
   "outputs": [
    {
     "data": {
      "text/html": [
       "<table class=\"dataframe\">\n",
       "<caption>A matrix: 20 × 2 of type dbl</caption>\n",
       "<thead>\n",
       "\t<tr><th></th><th scope=col>2.5 %</th><th scope=col>97.5 %</th></tr>\n",
       "</thead>\n",
       "<tbody>\n",
       "\t<tr><th scope=row>V1</th><td> 4.5145877</td><td>5.21430498</td></tr>\n",
       "\t<tr><th scope=row>V2</th><td>-0.3142909</td><td>0.30494650</td></tr>\n",
       "\t<tr><th scope=row>V3</th><td>-0.3524109</td><td>0.18678880</td></tr>\n",
       "\t<tr><th scope=row>V4</th><td>-0.2542430</td><td>0.28738914</td></tr>\n",
       "\t<tr><th scope=row>V5</th><td>-0.2765802</td><td>0.27627177</td></tr>\n",
       "\t<tr><th scope=row>V6</th><td>-0.3214676</td><td>0.29422684</td></tr>\n",
       "\t<tr><th scope=row>V7</th><td>-0.2262507</td><td>0.30094168</td></tr>\n",
       "\t<tr><th scope=row>V8</th><td>-0.0473541</td><td>0.47366372</td></tr>\n",
       "\t<tr><th scope=row>V9</th><td>-0.1865636</td><td>0.39023520</td></tr>\n",
       "\t<tr><th scope=row>V10</th><td>-0.2372356</td><td>0.26411185</td></tr>\n",
       "\t<tr><th scope=row>V11</th><td>-0.3147091</td><td>0.20945872</td></tr>\n",
       "\t<tr><th scope=row>V12</th><td>-0.3091905</td><td>0.26572176</td></tr>\n",
       "\t<tr><th scope=row>V13</th><td>-0.1741550</td><td>0.37682465</td></tr>\n",
       "\t<tr><th scope=row>V14</th><td>-0.3235734</td><td>0.38543162</td></tr>\n",
       "\t<tr><th scope=row>V15</th><td>-0.3219763</td><td>0.31312486</td></tr>\n",
       "\t<tr><th scope=row>V16</th><td>-0.2649505</td><td>0.33100700</td></tr>\n",
       "\t<tr><th scope=row>V17</th><td>-0.1792080</td><td>0.41696169</td></tr>\n",
       "\t<tr><th scope=row>V18</th><td>-0.3693247</td><td>0.04695928</td></tr>\n",
       "\t<tr><th scope=row>V19</th><td>-0.1073109</td><td>0.39368776</td></tr>\n",
       "\t<tr><th scope=row>V20</th><td>-0.2157182</td><td>0.25543839</td></tr>\n",
       "</tbody>\n",
       "</table>\n"
      ],
      "text/latex": [
       "A matrix: 20 × 2 of type dbl\n",
       "\\begin{tabular}{r|ll}\n",
       "  & 2.5 \\% & 97.5 \\%\\\\\n",
       "\\hline\n",
       "\tV1 &  4.5145877 & 5.21430498\\\\\n",
       "\tV2 & -0.3142909 & 0.30494650\\\\\n",
       "\tV3 & -0.3524109 & 0.18678880\\\\\n",
       "\tV4 & -0.2542430 & 0.28738914\\\\\n",
       "\tV5 & -0.2765802 & 0.27627177\\\\\n",
       "\tV6 & -0.3214676 & 0.29422684\\\\\n",
       "\tV7 & -0.2262507 & 0.30094168\\\\\n",
       "\tV8 & -0.0473541 & 0.47366372\\\\\n",
       "\tV9 & -0.1865636 & 0.39023520\\\\\n",
       "\tV10 & -0.2372356 & 0.26411185\\\\\n",
       "\tV11 & -0.3147091 & 0.20945872\\\\\n",
       "\tV12 & -0.3091905 & 0.26572176\\\\\n",
       "\tV13 & -0.1741550 & 0.37682465\\\\\n",
       "\tV14 & -0.3235734 & 0.38543162\\\\\n",
       "\tV15 & -0.3219763 & 0.31312486\\\\\n",
       "\tV16 & -0.2649505 & 0.33100700\\\\\n",
       "\tV17 & -0.1792080 & 0.41696169\\\\\n",
       "\tV18 & -0.3693247 & 0.04695928\\\\\n",
       "\tV19 & -0.1073109 & 0.39368776\\\\\n",
       "\tV20 & -0.2157182 & 0.25543839\\\\\n",
       "\\end{tabular}\n"
      ],
      "text/markdown": [
       "\n",
       "A matrix: 20 × 2 of type dbl\n",
       "\n",
       "| <!--/--> | 2.5 % | 97.5 % |\n",
       "|---|---|---|\n",
       "| V1 |  4.5145877 | 5.21430498 |\n",
       "| V2 | -0.3142909 | 0.30494650 |\n",
       "| V3 | -0.3524109 | 0.18678880 |\n",
       "| V4 | -0.2542430 | 0.28738914 |\n",
       "| V5 | -0.2765802 | 0.27627177 |\n",
       "| V6 | -0.3214676 | 0.29422684 |\n",
       "| V7 | -0.2262507 | 0.30094168 |\n",
       "| V8 | -0.0473541 | 0.47366372 |\n",
       "| V9 | -0.1865636 | 0.39023520 |\n",
       "| V10 | -0.2372356 | 0.26411185 |\n",
       "| V11 | -0.3147091 | 0.20945872 |\n",
       "| V12 | -0.3091905 | 0.26572176 |\n",
       "| V13 | -0.1741550 | 0.37682465 |\n",
       "| V14 | -0.3235734 | 0.38543162 |\n",
       "| V15 | -0.3219763 | 0.31312486 |\n",
       "| V16 | -0.2649505 | 0.33100700 |\n",
       "| V17 | -0.1792080 | 0.41696169 |\n",
       "| V18 | -0.3693247 | 0.04695928 |\n",
       "| V19 | -0.1073109 | 0.39368776 |\n",
       "| V20 | -0.2157182 | 0.25543839 |\n",
       "\n"
      ],
      "text/plain": [
       "    2.5 %      97.5 %    \n",
       "V1   4.5145877 5.21430498\n",
       "V2  -0.3142909 0.30494650\n",
       "V3  -0.3524109 0.18678880\n",
       "V4  -0.2542430 0.28738914\n",
       "V5  -0.2765802 0.27627177\n",
       "V6  -0.3214676 0.29422684\n",
       "V7  -0.2262507 0.30094168\n",
       "V8  -0.0473541 0.47366372\n",
       "V9  -0.1865636 0.39023520\n",
       "V10 -0.2372356 0.26411185\n",
       "V11 -0.3147091 0.20945872\n",
       "V12 -0.3091905 0.26572176\n",
       "V13 -0.1741550 0.37682465\n",
       "V14 -0.3235734 0.38543162\n",
       "V15 -0.3219763 0.31312486\n",
       "V16 -0.2649505 0.33100700\n",
       "V17 -0.1792080 0.41696169\n",
       "V18 -0.3693247 0.04695928\n",
       "V19 -0.1073109 0.39368776\n",
       "V20 -0.2157182 0.25543839"
      ]
     },
     "metadata": {},
     "output_type": "display_data"
    }
   ],
   "source": [
    "setseed(1)\n",
    "n = 100\n",
    "p1 = 20\n",
    "p2 = 20\n",
    "D = matrix(rnorm(n * p1), n, p1)\n",
    "# Causes\n",
    "W = matrix(rnorm(n * p2), n, p2)\n",
    "X = cbind(D, W)\n",
    "# Regressors\n",
    "Y = D[, 1] * 5 + W[, 1] * 5 + rnorm(n)\n",
    "#Outcome\n",
    "confint(rlassoEffects(X, Y, index = c(1:p1)), joint = true)"
   ]
  }
 ],
 "metadata": {
  "kernelspec": {
   "display_name": "Julia 1.7.3",
   "language": "julia",
   "name": "julia-1.7"
  },
  "language_info": {
   "file_extension": ".jl",
   "mimetype": "application/julia",
   "name": "julia",
   "version": "1.7.3"
  },
  "orig_nbformat": 4,
  "vscode": {
   "interpreter": {
    "hash": "2a8dfe095fce2b5e88c64a2c3ee084c8e0e0d70b23e7b95b1cfb538be294c5c8"
   }
  }
 },
 "nbformat": 4,
 "nbformat_minor": 2
}
