{
 "cells": [
  {
   "cell_type": "markdown",
   "metadata": {},
   "source": [
    "# Hight-Dimmensional Metrics in Julia\n",
    "\n",
    "## Introduction"
   ]
  },
  {
   "cell_type": "markdown",
   "metadata": {},
   "source": [
    "## How to Get Started"
   ]
  },
  {
   "cell_type": "code",
   "execution_count": 44,
   "metadata": {},
   "outputs": [
    {
     "data": {
      "text/plain": [
       "r_data (generic function with 2 methods)"
      ]
     },
     "execution_count": 44,
     "metadata": {},
     "output_type": "execute_result"
    }
   ],
   "source": [
    "# ]add HDMjl\n",
    "using CSV, DataFrames\n",
    "function r_data(n = 1)\n",
    "    n_m = \"r_\" * string(n) * \".csv\"\n",
    "    dta = CSV.read(n_m, DataFrame)\n",
    "    return dta\n",
    "end"
   ]
  },
  {
   "cell_type": "markdown",
   "metadata": {},
   "source": [
    "## Prediction Using Approximate Sparsity"
   ]
  },
  {
   "cell_type": "code",
   "execution_count": 45,
   "metadata": {},
   "outputs": [
    {
     "name": "stderr",
     "output_type": "stream",
     "text": [
      "WARNING: replacing module HDMjl.\n"
     ]
    },
    {
     "data": {
      "text/plain": [
       "Main.HDMjl"
      ]
     },
     "execution_count": 45,
     "metadata": {},
     "output_type": "execute_result"
    }
   ],
   "source": [
    "using Random, Distributions\n",
    "include(\"..\\\\src\\\\HDMjl.jl\")\n",
    "# pwd()"
   ]
  },
  {
   "cell_type": "code",
   "execution_count": 64,
   "metadata": {},
   "outputs": [],
   "source": [
    "## 32 A Joint Significance test for Lasso Regression\n",
    "# Random.seed!(12345)\n",
    "# n = 100\n",
    "# #sample size\n",
    "# p = 100\n",
    "# # number of variables\n",
    "s = 3\n",
    "# # nubmer of variables with non-zero coefficients\n",
    "# X = rand(Normal(), (n, p))\n",
    "beta = vcat(fill(3, s), zeros(p - s));\n",
    "# Y = X * beta + randn(n);\n",
    "dta = r_data(1)\n",
    "n, p = size(dta)\n",
    "p = p-1\n",
    "X = dta[:, Not(1)]\n",
    "Y = dta[:, 1];\n"
   ]
  },
  {
   "cell_type": "code",
   "execution_count": 72,
   "metadata": {},
   "outputs": [
    {
     "name": "stdout",
     "output_type": "stream",
     "text": [
      "\n",
      "    Post-Lasso Estimation: false\n",
      "    Total number of variables: 50\n",
      "    Number of selected variables: 3\n",
      "    ---\n",
      "     \n",
      "============ ============\n",
      " \u001b[1m Variable  \u001b[0m \u001b[1m Estimate  \u001b[0m\n",
      "============ ============\n",
      "  Intercept   0.0307194\n",
      "  V2          4.40362\n",
      "  V3          4.33222\n",
      "  V4          4.39125\n",
      "============ ============\n",
      "\n",
      "    ----\n",
      "    Multiple R-squared: 0.969344147763692\n",
      "    Adjusted R-squared: 0.9683861523813074\n",
      "    "
     ]
    }
   ],
   "source": [
    "lasso_reg = HDMjl.rlasso(X, Y, post = false)\n",
    "# use lasso, not-Post-lasso\n",
    "# lassoreg = rlasso(X, Y, post=false)\n",
    "sum_lasso = HDMjl.r_summary(lasso_reg, all = false)\n",
    "# can also do print(lassoreg, all=false)"
   ]
  },
  {
   "cell_type": "code",
   "execution_count": 85,
   "metadata": {},
   "outputs": [
    {
     "name": "stdout",
     "output_type": "stream",
     "text": [
      "\n",
      "    Post-Lasso Estimation: true\n",
      "    Total number of variables: 50\n",
      "    Number of selected variables: 4\n",
      "    ---\n",
      "     \n",
      "============ =============\n",
      " \u001b[1m Variable  \u001b[0m \u001b[1m Estimate   \u001b[0m\n",
      "============ =============\n",
      "  Intercept   0.00223374\n",
      "  V2          4.98173\n",
      "  V3          5.01485\n",
      "  V4          5.02564\n",
      "  V22         -0.443961\n",
      "============ =============\n",
      "\n",
      "    ----\n",
      "    Multiple R-squared: 0.9871727371309015\n",
      "    Adjusted R-squared: 0.9866326418522026\n",
      "    "
     ]
    }
   ],
   "source": [
    "yhat_lasso = HDMjl.r_predict(lasso_reg)\n",
    "#in-sample prediction\n",
    "Xnew = rand(Normal(), (n, p))\n",
    "# new X\n",
    "Ynew = Xnew * beta + randn(n)\n",
    "#new Y\n",
    "\n",
    "dta11 = r_data(1.1)\n",
    "Xnew = Matrix(dta11[:, Not(1)])\n",
    "Ynew = dta11[:, 1]\n",
    "# HDMjl.r_predict()\n",
    "yhat_lasso_new = HDMjl.r_predict(lasso_reg, xnew = Xnew)\n",
    "#out-of-sample prediction\n",
    "post_lasso_reg = HDMjl.rlasso(X, Y, post = true);\n",
    "#now use post-lasso\n",
    "HDMjl.r_summary(post_lasso_reg, all = false)\n",
    "# lasso_reg"
   ]
  },
  {
   "cell_type": "code",
   "execution_count": 86,
   "metadata": {},
   "outputs": [
    {
     "data": {
      "text/plain": [
       "2-element Vector{Float64}:\n",
       " 1.4760345675461333\n",
       " 1.0345207789641953"
      ]
     },
     "execution_count": 86,
     "metadata": {},
     "output_type": "execute_result"
    }
   ],
   "source": [
    "yhat_post_lasso = HDMjl.r_predict(post_lasso_reg)\n",
    "#in-sample prediction\n",
    "yhat_post_lasso_new = HDMjl.r_predict(post_lasso_reg, xnew = Xnew)\n",
    "#out-of-sample prediction\n",
    "MAE = hcat(abs.(Ynew - yhat_lasso_new), abs.(Ynew - yhat_post_lasso_new))\n",
    "mean.(eachcol(MAE))\n",
    "# names(MAE) = c(\"lasso MAE\", \"Post-lasso MAE\")\n",
    "# print(MAE, digits = 2)"
   ]
  },
  {
   "cell_type": "markdown",
   "metadata": {},
   "source": [
    "## Inference on Target Regression Coefficients"
   ]
  },
  {
   "cell_type": "code",
   "execution_count": 137,
   "metadata": {},
   "outputs": [],
   "source": [
    "#41 Intuition for the Orthogonality Principle in Linear Models via Partialling Out\n",
    "using DataFrames, Pipe\n",
    "Random.seed!(1)\n",
    "dta2 = r_data(2)\n",
    "X = dta2[:, Not(1)]\n",
    "y = dta2[:, 1]\n",
    "d = dta2[:, 2]\n",
    "n, p = size(X)\n",
    "px = p - 2\n",
    "# n = 5000\n",
    "# p = 20\n",
    "# X = rand(Normal(), (n, p))\n",
    "# d = X[:, 1] #|> rename(_, :x1 => :d)\n",
    "X1 = X[:, 2:p]\n",
    "beta = ones(p)\n",
    "# y = X * beta + randn(n);"
   ]
  },
  {
   "cell_type": "code",
   "execution_count": 130,
   "metadata": {},
   "outputs": [
    {
     "name": "stdout",
     "output_type": "stream",
     "text": [
      "Estimate: 0.978 (0.014)"
     ]
    }
   ],
   "source": [
    "using GLM\n",
    "\n",
    "function intercept(mtrx)\n",
    "    mtrx = Matrix(mtrx)\n",
    "    return hcat(ones(size(mtrx, 1)), mtrx)\n",
    "end\n",
    "\n",
    "full_fit = GLM.lm(intercept(X), y)\n",
    "\n",
    "est = round(coeftable(full_fit).cols[1][2], digits = 3)\n",
    "s_td = round(coeftable(full_fit).cols[2][2], digits = 3)\n",
    "\n",
    "print(\"Estimate: $est ($s_td)\")\n"
   ]
  },
  {
   "cell_type": "code",
   "execution_count": 140,
   "metadata": {},
   "outputs": [
    {
     "name": "stdout",
     "output_type": "stream",
     "text": [
      "Estimate: 0.978 (0.014)"
     ]
    }
   ],
   "source": [
    "\n",
    "lm_y = lm(intercept(X1), y)\n",
    "lm_d = lm(intercept(X1), d)\n",
    "# lm_y\n",
    "rY = GLM.residuals(lm_y)\n",
    "rd = GLM.residuals(lm_d)\n",
    "\n",
    "partial_fit_ls = lm(hcat(ones(n), rd), rY)\n",
    "\n",
    "est = round(coeftable(partial_fit_ls).cols[1][2], digits = 3)\n",
    "s_td = round(coeftable(partial_fit_ls).cols[2][2], digits = 3)\n",
    "\n",
    "print(\"Estimate: $est ($s_td)\")\n"
   ]
  },
  {
   "cell_type": "code",
   "execution_count": 10,
   "metadata": {},
   "outputs": [
    {
     "name": "stdout",
     "output_type": "stream",
     "text": [
      "Estimate: 0.998 (0.014)"
     ]
    }
   ],
   "source": [
    "rY = HDMjl.rlasso(X1, y)[\"residuals\"]\n",
    "rd = HDMjl.rlasso(X1, d)[\"residuals\"]\n",
    "# intercept(rd)\n",
    "# rY\n",
    "partial_fit_ls = GLM.lm(intercept(rd), rY[:, 1])\n",
    "\n",
    "\n",
    "est = round(coeftable(partial_fit_ls).cols[1][2], digits = 3)\n",
    "s_td = round(coeftable(partial_fit_ls).cols[2][2], digits = 3)\n",
    "\n",
    "print(\"Estimate: $est ($s_td)\")\n"
   ]
  },
  {
   "cell_type": "markdown",
   "metadata": {},
   "source": [
    "## Instrumental Variable Esimation in a High-Dimensional Setting"
   ]
  },
  {
   "cell_type": "code",
   "execution_count": 141,
   "metadata": {},
   "outputs": [
    {
     "name": "stdout",
     "output_type": "stream",
     "text": [
      "Estimates and significance testing of the effect of target variables\n",
      " \u001b[1m Row \u001b[0m \u001b[1m Estimate. \u001b[0m \u001b[1m Std. Error \u001b[0m \u001b[1m t value \u001b[0m \u001b[1m Pr(>|t|) \u001b[0m\n",
      "\n",
      "    1    0.972739    0.0136868   71.0715        0.0\n",
      "---\n",
      "Signif. codes:\n",
      "0 '***' 0.001 '**' 0.01 '*' 0.05 '.' 0.1 ' ' 1\n"
     ]
    }
   ],
   "source": [
    "Eff = HDMjl.rlassoEffect(X[:, Not(1)], y, X[:, 1], method = \"partialling out\")\n",
    "HDMjl.r_summary(Eff);"
   ]
  },
  {
   "cell_type": "code",
   "execution_count": 144,
   "metadata": {},
   "outputs": [
    {
     "ename": "LoadError",
     "evalue": "DimensionMismatch(\"mismatch in dimension 1 (expected 5000 got 1)\")",
     "output_type": "error",
     "traceback": [
      "DimensionMismatch(\"mismatch in dimension 1 (expected 5000 got 1)\")",
      "",
      "Stacktrace:",
      "  [1] _cs",
      "    @ .\\abstractarray.jl:1688 [inlined]",
      "  [2] _cshp",
      "    @ .\\abstractarray.jl:1684 [inlined]",
      "  [3] _cat_size_shape (repeats 2 times)",
      "    @ .\\abstractarray.jl:1664 [inlined]",
      "  [4] cat_size_shape(::Tuple{Bool, Bool}, ::Vector{Float64}, ::Vector{Float64}, ::Vararg{Any})",
      "    @ Base .\\abstractarray.jl:1662",
      "  [5] _cat_t(::Val{2}, ::Type{Any}, ::Vector{Float64}, ::Vararg{Any})",
      "    @ Base .\\abstractarray.jl:1708",
      "  [6] cat_t(::Type{Any}, ::Vector{Float64}, ::Vararg{Any}; dims::Val{2})",
      "    @ Base .\\abstractarray.jl:1705",
      "  [7] _cat",
      "    @ .\\abstractarray.jl:1703 [inlined]",
      "  [8] #cat#141",
      "    @ .\\abstractarray.jl:1861 [inlined]",
      "  [9] hcat(::Vector{Float64}, ::Vector{Float64}, ::DataFrame)",
      "    @ Base .\\abstractarray.jl:1823",
      " [10] rlassoEffect(x::DataFrame, y::Vector{Float64}, d::Vector{Float64}; method::String, I3::Nothing, post::Bool)",
      "    @ Main.HDMjl c:\\Users\\Jhon\\Documents\\work\\HDMjl.jl\\src\\rlassoEffect.jl:43",
      " [11] top-level scope",
      "    @ In[144]:1",
      " [12] eval",
      "    @ .\\boot.jl:373 [inlined]",
      " [13] include_string(mapexpr::typeof(REPL.softscope), mod::Module, code::String, filename::String)",
      "    @ Base .\\loading.jl:1196"
     ]
    }
   ],
   "source": [
    "Eff = HDMjl.rlassoEffect(X[:, Not(1)], y, X[:, 1], method = \"double selection\")\n",
    "HDMjl.r_summary(Eff);"
   ]
  },
  {
   "cell_type": "code",
   "execution_count": 13,
   "metadata": {},
   "outputs": [],
   "source": [
    "##42 Inference confidence Intervals and Significance Testing\n",
    "\n",
    "n = 100\n",
    "#sample size\n",
    "p = 100\n",
    "# number of variables\n",
    "s = 3\n",
    "# nubmer of non-zero variables\n",
    "X = rand(Normal(), (n, p))\n",
    "# X = matrix(rnorm(n * p), ncol = p)\n",
    "# colnames(X) = paste(\"X\", 1:p, sep = \"\")\n",
    "beta = vcat(fill(3, s), zeros(p - s))\n",
    "y = 1 .+ X * beta + randn(n);"
   ]
  },
  {
   "cell_type": "code",
   "execution_count": 14,
   "metadata": {},
   "outputs": [
    {
     "name": "stdout",
     "output_type": "stream",
     "text": [
      "Coefficients:\n",
      "\n",
      " \u001b[1m    X1 \u001b[0m \u001b[1m    X2 \u001b[0m \u001b[1m   X3 \u001b[0m \u001b[1m   X50 \u001b[0m\n",
      "\n",
      "  2.914   2.916   2.83   0.119\n"
     ]
    }
   ],
   "source": [
    "lassoeffect = HDMjl.rlassoEffects(X, y, index = [1, 2, 3, 50])\n",
    "HDMjl.r_print(lassoeffect)"
   ]
  },
  {
   "cell_type": "code",
   "execution_count": 15,
   "metadata": {},
   "outputs": [
    {
     "name": "stdout",
     "output_type": "stream",
     "text": [
      "Estimates and significance testing of the effect of target variables\n",
      " \u001b[1m     \u001b[0m \u001b[1m Estimate. \u001b[0m \u001b[1m Std. Error \u001b[0m \u001b[1m t value \u001b[0m \u001b[1m     Pr(>|t|) \u001b[0m\n",
      "\n",
      " \u001b[1m  X1 \u001b[0m    2.91449    0.0994941   29.2931   1.27055e-188\n",
      " \u001b[1m  X2 \u001b[0m    2.91624    0.0977129    29.845   1.01869e-195\n",
      " \u001b[1m  X3 \u001b[0m    2.82964    0.0950844   29.7592   1.31723e-194\n",
      " \u001b[1m X50 \u001b[0m   0.119404    0.0930049   1.28385       0.199194\n",
      "---\n",
      "Signif. codes:\n",
      "0 '***' 0.001 '**' 0.01 '*' 0.05 '.' 0.1 ' ' 1\n"
     ]
    }
   ],
   "source": [
    "HDMjl.r_summary(lassoeffect)"
   ]
  },
  {
   "cell_type": "code",
   "execution_count": 16,
   "metadata": {},
   "outputs": [
    {
     "name": "stdout",
     "output_type": "stream",
     "text": [
      " \u001b[1m     \u001b[0m \u001b[1m       2.5% \u001b[0m \u001b[1m    97.5% \u001b[0m\n",
      "\n",
      " \u001b[1m  X1 \u001b[0m     2.71948    3.10949\n",
      " \u001b[1m  X2 \u001b[0m     2.72473    3.10776\n",
      " \u001b[1m  X3 \u001b[0m     2.64328      3.016\n",
      " \u001b[1m X50 \u001b[0m  -0.0628818   0.301691\n"
     ]
    }
   ],
   "source": [
    "HDMjl.r_confint(lassoeffect)"
   ]
  },
  {
   "cell_type": "code",
   "execution_count": 17,
   "metadata": {},
   "outputs": [
    {
     "name": "stdout",
     "output_type": "stream",
     "text": [
      " \u001b[1m     \u001b[0m \u001b[1m       2.5% \u001b[0m \u001b[1m    97.5% \u001b[0m\n",
      "\n",
      " \u001b[1m  X1 \u001b[0m     2.71948    3.10949\n",
      " \u001b[1m  X2 \u001b[0m     2.72473    3.10776\n",
      " \u001b[1m  X3 \u001b[0m     2.64328      3.016\n",
      " \u001b[1m X50 \u001b[0m  -0.0628818   0.301691\n"
     ]
    }
   ],
   "source": [
    "HDMjl.r_confint(lassoeffect, 0.95)"
   ]
  },
  {
   "cell_type": "markdown",
   "metadata": {},
   "source": [
    "#### plot_cof"
   ]
  },
  {
   "cell_type": "code",
   "execution_count": 18,
   "metadata": {},
   "outputs": [],
   "source": [
    "# plot(lassoeffect, main = \"Canfidence Intervals\")"
   ]
  },
  {
   "cell_type": "code",
   "execution_count": 19,
   "metadata": {},
   "outputs": [],
   "source": [
    "using RData, CodecXz, StatsModels, DataFrames\n",
    "url = \"https://github.com/cran/hdm/raw/master/data/cps2012.rda\";\n",
    "cps2012 = load(download(url))[\"cps2012\"][1:500, :];\n",
    "\n",
    "x_formula = @formula(lnw ~ -1 + female * (widowed + divorced + separated + nevermarried + hsd08 + hsd911 + hsg + cg + ad + mw + so + we + exp1 + exp2 + exp3)\n",
    " + +((widowed + divorced + separated + nevermarried + hsd08 + hsd911 + hsg + cg + ad + mw + so + we + exp1 + exp2 + exp3)* (widowed + divorced + separated + nevermarried + hsd08 + hsd911 + hsg + cg + ad + mw + so + we + exp1 + exp2 + exp3))\n",
    ")\n",
    "x_dframe = ModelFrame( x_formula, cps2012)\n",
    "x1 = ModelMatrix(x_dframe)\n",
    "x = x1.m\n",
    "y = cps2012[:,\"lnw\"];\n",
    "# rlassoEffects(x,y)"
   ]
  },
  {
   "cell_type": "code",
   "execution_count": 23,
   "metadata": {},
   "outputs": [
    {
     "name": "stdout",
     "output_type": "stream",
     "text": [
      " 88.659953 seconds (59.42 M allocations: 175.342 GiB, 12.96% gc time)\n"
     ]
    }
   ],
   "source": [
    "@time effects_female = HDMjl.rlassoEffects(x, y, index = vcat(1, 17:31));"
   ]
  },
  {
   "cell_type": "code",
   "execution_count": 132,
   "metadata": {},
   "outputs": [
    {
     "data": {
      "text/plain": [
       "ModelMatrix{Matrix{Float64}}"
      ]
     },
     "execution_count": 132,
     "metadata": {},
     "output_type": "execute_result"
    }
   ],
   "source": [
    "typeof(x1)"
   ]
  },
  {
   "cell_type": "code",
   "execution_count": 21,
   "metadata": {},
   "outputs": [
    {
     "data": {
      "text/html": [
       "<style>\n",
       ".list-inline {list-style: none; margin:0; padding: 0}\n",
       ".list-inline>li {display: inline-block}\n",
       ".list-inline>li:not(:last-child)::after {content: \"\\00b7\"; padding: 0 .5ex}\n",
       "</style>\n",
       "<ol class=list-inline><li>29217</li><li>136</li></ol>\n"
      ],
      "text/latex": [
       "\\begin{enumerate*}\n",
       "\\item 29217\n",
       "\\item 136\n",
       "\\end{enumerate*}\n"
      ],
      "text/markdown": [
       "1. 29217\n",
       "2. 136\n",
       "\n",
       "\n"
      ],
      "text/plain": [
       "[1] 29217   136"
      ]
     },
     "metadata": {},
     "output_type": "display_data"
    },
    {
     "data": {
      "text/html": [
       "136"
      ],
      "text/latex": [
       "136"
      ],
      "text/markdown": [
       "136"
      ],
      "text/plain": [
       "[1] 136"
      ]
     },
     "metadata": {},
     "output_type": "display_data"
    },
    {
     "data": {
      "text/html": [
       "<style>\n",
       ".list-inline {list-style: none; margin:0; padding: 0}\n",
       ".list-inline>li {display: inline-block}\n",
       ".list-inline>li:not(:last-child)::after {content: \"\\00b7\"; padding: 0 .5ex}\n",
       "</style>\n",
       "<ol class=list-inline><li>29217</li><li>116</li></ol>\n"
      ],
      "text/latex": [
       "\\begin{enumerate*}\n",
       "\\item 29217\n",
       "\\item 116\n",
       "\\end{enumerate*}\n"
      ],
      "text/markdown": [
       "1. 29217\n",
       "2. 116\n",
       "\n",
       "\n"
      ],
      "text/plain": [
       "[1] 29217   116"
      ]
     },
     "metadata": {},
     "output_type": "display_data"
    },
    {
     "data": {
      "text/html": [
       "116"
      ],
      "text/latex": [
       "116"
      ],
      "text/markdown": [
       "116"
      ],
      "text/plain": [
       "[1] 116"
      ]
     },
     "metadata": {},
     "output_type": "display_data"
    }
   ],
   "source": [
    "# # 43\n",
    "\n",
    "library(hdm)\n",
    "data(cps2012)\n",
    "X = modelmatrix(~-1 + female + female:(widowed + divorced + separated + nevermarried +\n",
    "hsd08 + hsd911 + hsg + cg + ad + mw + so + we + exp1 + exp2 + exp3) + +(widowed +\n",
    "divorced + separated + nevermarried + hsd08 + hsd911 + hsg + cg + ad + mw + so +\n",
    "we + exp1 + exp2 + exp3)^2, data = cps2012)\n",
    "dim(X)\n",
    "## [1] 29217\n",
    "136\n",
    "X = X[, which(apply(X, 2, var) != 0)]\n",
    "# exclude all constant variables\n",
    "dim(X)\n",
    "## [1] 29217\n",
    "116\n",
    "indexgender = grep(\"female\", colnames(X))\n",
    "y = cps2012$lnw"
   ]
  },
  {
   "cell_type": "code",
   "execution_count": 22,
   "metadata": {},
   "outputs": [
    {
     "data": {
      "text/plain": [
       "[1] \"Estimates and significance testing of the effect of target variables\"\n",
       "                    Estimate. Std. Error t value Pr(>|t|)    \n",
       "female              -0.154923   0.050162  -3.088 0.002012 ** \n",
       "female:widowed       0.136095   0.090663   1.501 0.133325    \n",
       "female:divorced      0.136939   0.022182   6.174 6.68e-10 ***\n",
       "female:separated     0.023303   0.053212   0.438 0.661441    \n",
       "female:nevermarried  0.186853   0.019942   9.370  < 2e-16 ***\n",
       "female:hsd08         0.027810   0.120914   0.230 0.818092    \n",
       "female:hsd911       -0.119335   0.051880  -2.300 0.021435 *  \n",
       "female:hsg          -0.012890   0.019223  -0.671 0.502518    \n",
       "female:cg            0.010139   0.018327   0.553 0.580114    \n",
       "female:ad           -0.030464   0.021806  -1.397 0.162405    \n",
       "female:mw           -0.001063   0.019192  -0.055 0.955811    \n",
       "female:so           -0.008183   0.019357  -0.423 0.672468    \n",
       "female:we           -0.004226   0.021168  -0.200 0.841760    \n",
       "female:exp1          0.004935   0.007804   0.632 0.527139    \n",
       "female:exp2         -0.159519   0.045300  -3.521 0.000429 ***\n",
       "female:exp3          0.038451   0.007861   4.891 1.00e-06 ***\n",
       "---\n",
       "Signif. codes:  0 '***' 0.001 '**' 0.01 '*' 0.05 '.' 0.1 ' ' 1\n",
       "\n"
      ]
     },
     "metadata": {},
     "output_type": "display_data"
    }
   ],
   "source": [
    "Syssleep(10)\n",
    "effectsfemale = rlassoEffects(x = X, y = y, index = indexgender)\n",
    "summary(effectsfemale)"
   ]
  },
  {
   "cell_type": "code",
   "execution_count": 23,
   "metadata": {},
   "outputs": [
    {
     "data": {
      "text/html": [
       "<table class=\"dataframe\">\n",
       "<caption>A matrix: 16 × 2 of type dbl</caption>\n",
       "<thead>\n",
       "\t<tr><th></th><th scope=col>2.5 %</th><th scope=col>97.5 %</th></tr>\n",
       "</thead>\n",
       "<tbody>\n",
       "\t<tr><th scope=row>female</th><td>-0.29422452</td><td>-0.01562204</td></tr>\n",
       "\t<tr><th scope=row>female:widowed</th><td>-0.13367117</td><td> 0.40586213</td></tr>\n",
       "\t<tr><th scope=row>female:divorced</th><td> 0.07479695</td><td> 0.19908182</td></tr>\n",
       "\t<tr><th scope=row>female:separated</th><td>-0.11671664</td><td> 0.16332216</td></tr>\n",
       "\t<tr><th scope=row>female:nevermarried</th><td> 0.12925782</td><td> 0.24444915</td></tr>\n",
       "\t<tr><th scope=row>female:hsd08</th><td>-0.37450228</td><td> 0.43012291</td></tr>\n",
       "\t<tr><th scope=row>female:hsd911</th><td>-0.26902488</td><td> 0.03035480</td></tr>\n",
       "\t<tr><th scope=row>female:hsg</th><td>-0.06513949</td><td> 0.03935993</td></tr>\n",
       "\t<tr><th scope=row>female:cg</th><td>-0.04168175</td><td> 0.06195886</td></tr>\n",
       "\t<tr><th scope=row>female:ad</th><td>-0.09583693</td><td> 0.03490944</td></tr>\n",
       "\t<tr><th scope=row>female:mw</th><td>-0.05470794</td><td> 0.05258106</td></tr>\n",
       "\t<tr><th scope=row>female:so</th><td>-0.06272074</td><td> 0.04635406</td></tr>\n",
       "\t<tr><th scope=row>female:we</th><td>-0.06562874</td><td> 0.05717648</td></tr>\n",
       "\t<tr><th scope=row>female:exp1</th><td>-0.01649540</td><td> 0.02636592</td></tr>\n",
       "\t<tr><th scope=row>female:exp2</th><td>-0.28414464</td><td>-0.03489402</td></tr>\n",
       "\t<tr><th scope=row>female:exp3</th><td> 0.01684777</td><td> 0.06005338</td></tr>\n",
       "</tbody>\n",
       "</table>\n"
      ],
      "text/latex": [
       "A matrix: 16 × 2 of type dbl\n",
       "\\begin{tabular}{r|ll}\n",
       "  & 2.5 \\% & 97.5 \\%\\\\\n",
       "\\hline\n",
       "\tfemale & -0.29422452 & -0.01562204\\\\\n",
       "\tfemale:widowed & -0.13367117 &  0.40586213\\\\\n",
       "\tfemale:divorced &  0.07479695 &  0.19908182\\\\\n",
       "\tfemale:separated & -0.11671664 &  0.16332216\\\\\n",
       "\tfemale:nevermarried &  0.12925782 &  0.24444915\\\\\n",
       "\tfemale:hsd08 & -0.37450228 &  0.43012291\\\\\n",
       "\tfemale:hsd911 & -0.26902488 &  0.03035480\\\\\n",
       "\tfemale:hsg & -0.06513949 &  0.03935993\\\\\n",
       "\tfemale:cg & -0.04168175 &  0.06195886\\\\\n",
       "\tfemale:ad & -0.09583693 &  0.03490944\\\\\n",
       "\tfemale:mw & -0.05470794 &  0.05258106\\\\\n",
       "\tfemale:so & -0.06272074 &  0.04635406\\\\\n",
       "\tfemale:we & -0.06562874 &  0.05717648\\\\\n",
       "\tfemale:exp1 & -0.01649540 &  0.02636592\\\\\n",
       "\tfemale:exp2 & -0.28414464 & -0.03489402\\\\\n",
       "\tfemale:exp3 &  0.01684777 &  0.06005338\\\\\n",
       "\\end{tabular}\n"
      ],
      "text/markdown": [
       "\n",
       "A matrix: 16 × 2 of type dbl\n",
       "\n",
       "| <!--/--> | 2.5 % | 97.5 % |\n",
       "|---|---|---|\n",
       "| female | -0.29422452 | -0.01562204 |\n",
       "| female:widowed | -0.13367117 |  0.40586213 |\n",
       "| female:divorced |  0.07479695 |  0.19908182 |\n",
       "| female:separated | -0.11671664 |  0.16332216 |\n",
       "| female:nevermarried |  0.12925782 |  0.24444915 |\n",
       "| female:hsd08 | -0.37450228 |  0.43012291 |\n",
       "| female:hsd911 | -0.26902488 |  0.03035480 |\n",
       "| female:hsg | -0.06513949 |  0.03935993 |\n",
       "| female:cg | -0.04168175 |  0.06195886 |\n",
       "| female:ad | -0.09583693 |  0.03490944 |\n",
       "| female:mw | -0.05470794 |  0.05258106 |\n",
       "| female:so | -0.06272074 |  0.04635406 |\n",
       "| female:we | -0.06562874 |  0.05717648 |\n",
       "| female:exp1 | -0.01649540 |  0.02636592 |\n",
       "| female:exp2 | -0.28414464 | -0.03489402 |\n",
       "| female:exp3 |  0.01684777 |  0.06005338 |\n",
       "\n"
      ],
      "text/plain": [
       "                    2.5 %       97.5 %     \n",
       "female              -0.29422452 -0.01562204\n",
       "female:widowed      -0.13367117  0.40586213\n",
       "female:divorced      0.07479695  0.19908182\n",
       "female:separated    -0.11671664  0.16332216\n",
       "female:nevermarried  0.12925782  0.24444915\n",
       "female:hsd08        -0.37450228  0.43012291\n",
       "female:hsd911       -0.26902488  0.03035480\n",
       "female:hsg          -0.06513949  0.03935993\n",
       "female:cg           -0.04168175  0.06195886\n",
       "female:ad           -0.09583693  0.03490944\n",
       "female:mw           -0.05470794  0.05258106\n",
       "female:so           -0.06272074  0.04635406\n",
       "female:we           -0.06562874  0.05717648\n",
       "female:exp1         -0.01649540  0.02636592\n",
       "female:exp2         -0.28414464 -0.03489402\n",
       "female:exp3          0.01684777  0.06005338"
      ]
     },
     "metadata": {},
     "output_type": "display_data"
    }
   ],
   "source": [
    "jointCI = confint(effectsfemale, level = 095, joint = true)\n",
    "jointCI"
   ]
  },
  {
   "cell_type": "code",
   "execution_count": 24,
   "metadata": {},
   "outputs": [],
   "source": [
    "Syssleep(7)\n",
    "effectsfemale = rlassoEffects(lnw ~ female + female:(widowed + divorced + separated +\n",
    "nevermarried + hsd08 + hsd911 + hsg + cg + ad + mw + so + we + exp1 + exp2 +\n",
    "exp3) + (widowed + divorced + separated + nevermarried + hsd08 + hsd911 + hsg +\n",
    "cg + ad + mw + so + we + exp1 + exp2 + exp3)^2, data = cps2012, I = ~female +\n",
    "female:(widowed + divorced + separated + nevermarried + hsd08 + hsd911 + hsg +\n",
    "cg + ad + mw + so + we + exp1 + exp2 + exp3))"
   ]
  },
  {
   "cell_type": "code",
   "execution_count": 25,
   "metadata": {},
   "outputs": [
    {
     "data": {
      "text/html": [
       "<style>\n",
       ".list-inline {list-style: none; margin:0; padding: 0}\n",
       ".list-inline>li {display: inline-block}\n",
       ".list-inline>li:not(:last-child)::after {content: \"\\00b7\"; padding: 0 .5ex}\n",
       "</style>\n",
       "<ol class=list-inline><li>90</li><li>63</li></ol>\n"
      ],
      "text/latex": [
       "\\begin{enumerate*}\n",
       "\\item 90\n",
       "\\item 63\n",
       "\\end{enumerate*}\n"
      ],
      "text/markdown": [
       "1. 90\n",
       "2. 63\n",
       "\n",
       "\n"
      ],
      "text/plain": [
       "[1] 90 63"
      ]
     },
     "metadata": {},
     "output_type": "display_data"
    }
   ],
   "source": [
    "## 44\n",
    "\n",
    "data(GrowthData)\n",
    "dim(GrowthData)\n",
    "## [1] 90 63\n",
    "y = GrowthData[, 1, drop = F]\n",
    "d = GrowthData[, 3, drop = F]\n",
    "X = asmatrix(GrowthData)[, -c(1, 2, 3)]\n",
    "varnames = colnames(GrowthData)"
   ]
  },
  {
   "cell_type": "code",
   "execution_count": 26,
   "metadata": {},
   "outputs": [],
   "source": [
    "xnames = varnames[-c(1, 2, 3)]\n",
    "# names of X variables\n",
    "dandxnames = varnames[-c(1, 2)]\n",
    "# names of D and X variables\n",
    "# create formulas by pasting names (this saves typing times)\n",
    "fmla = asformula(paste(\"Outcome ~ \", paste(dandxnames, collapse = \"+\")))\n",
    "lseffect = lm(fmla, data = GrowthData)"
   ]
  },
  {
   "cell_type": "code",
   "execution_count": 27,
   "metadata": {},
   "outputs": [
    {
     "data": {
      "text/plain": [
       "[1] \"Estimates and significance testing of the effect of target variables\"\n",
       "     Estimate. Std. Error t value Pr(>|t|)    \n",
       "[1,]  -0.04981    0.01394  -3.574 0.000351 ***\n",
       "---\n",
       "Signif. codes:  0 '***' 0.001 '**' 0.01 '*' 0.05 '.' 0.1 ' ' 1\n",
       "\n"
      ]
     },
     "metadata": {},
     "output_type": "display_data"
    }
   ],
   "source": [
    "dX = asmatrix(cbind(d, X))\n",
    "lassoeffect = rlassoEffect(x = X, y = y, d = d, method = \"partialling out\")\n",
    "summary(lassoeffect)"
   ]
  },
  {
   "cell_type": "code",
   "execution_count": 28,
   "metadata": {},
   "outputs": [
    {
     "data": {
      "text/plain": [
       "[1] \"Estimates and significance testing of the effect of target variables\"\n",
       "         Estimate. Std. Error t value Pr(>|t|)   \n",
       "gdpsh465  -0.05001    0.01579  -3.167  0.00154 **\n",
       "---\n",
       "Signif. codes:  0 '***' 0.001 '**' 0.01 '*' 0.05 '.' 0.1 ' ' 1\n",
       "\n"
      ]
     },
     "metadata": {},
     "output_type": "display_data"
    }
   ],
   "source": [
    "dX = asmatrix(cbind(d, X))\n",
    "doubleseleffect = rlassoEffect(x = X, y = y, d = d, method = \"double selection\")\n",
    "summary(doubleseleffect)"
   ]
  },
  {
   "cell_type": "code",
   "execution_count": 29,
   "metadata": {},
   "outputs": [
    {
     "data": {
      "text/html": [
       "<table class=\"dataframe\">\n",
       "<caption>A xtable: 3 × 2</caption>\n",
       "<thead>\n",
       "\t<tr><th></th><th scope=col>Estimate</th><th scope=col>Std. Error</th></tr>\n",
       "\t<tr><th></th><th scope=col>&lt;dbl&gt;</th><th scope=col>&lt;dbl&gt;</th></tr>\n",
       "</thead>\n",
       "<tbody>\n",
       "\t<tr><th scope=row>full reg via ols</th><td>-0.009377989</td><td>0.02988773</td></tr>\n",
       "\t<tr><th scope=row>partial reg\n",
       "via post-lasso </th><td>-0.049811465</td><td>0.01393636</td></tr>\n",
       "\t<tr><th scope=row>partial reg via double selection</th><td>-0.050005855</td><td>0.01579138</td></tr>\n",
       "</tbody>\n",
       "</table>\n"
      ],
      "text/latex": [
       "A xtable: 3 × 2\n",
       "\\begin{tabular}{r|ll}\n",
       "  & Estimate & Std. Error\\\\\n",
       "  & <dbl> & <dbl>\\\\\n",
       "\\hline\n",
       "\tfull reg via ols & -0.009377989 & 0.02988773\\\\\n",
       "\tpartial reg\n",
       "via post-lasso  & -0.049811465 & 0.01393636\\\\\n",
       "\tpartial reg via double selection & -0.050005855 & 0.01579138\\\\\n",
       "\\end{tabular}\n"
      ],
      "text/markdown": [
       "\n",
       "A xtable: 3 × 2\n",
       "\n",
       "| <!--/--> | Estimate &lt;dbl&gt; | Std. Error &lt;dbl&gt; |\n",
       "|---|---|---|\n",
       "| full reg via ols | -0.009377989 | 0.02988773 |\n",
       "| partial reg\n",
       "via post-lasso  | -0.049811465 | 0.01393636 |\n",
       "| partial reg via double selection | -0.050005855 | 0.01579138 |\n",
       "\n"
      ],
      "text/plain": [
       "                                 Estimate     Std. Error\n",
       "full reg via ols                 -0.009377989 0.02988773\n",
       "partial reg\\nvia post-lasso      -0.049811465 0.01393636\n",
       "partial reg via double selection -0.050005855 0.01579138"
      ]
     },
     "metadata": {},
     "output_type": "display_data"
    }
   ],
   "source": [
    "library(xtable)\n",
    "table = rbind(summary(lseffect)$coef[\"gdpsh465\", 1:2], summary(lassoeffect)$coef[,\n",
    "1:2], summary(doubleseleffect)$coef[, 1:2])\n",
    "colnames(table) = c(\"Estimate\", \"Std Error\")\n",
    "#names(summary(fullfit)£coef)[1:2]\n",
    "rownames(table) = c(\"full reg via ols\", \"partial reg\n",
    "via post-lasso \", \"partial reg via double selection\")\n",
    "tab = xtable(table, digits = c(2, 2, 5))\n",
    "tab"
   ]
  },
  {
   "cell_type": "markdown",
   "metadata": {},
   "source": [
    "## Inference on Treatment Effects in a Hight-Dimensional Setting"
   ]
  },
  {
   "cell_type": "code",
   "execution_count": 30,
   "metadata": {},
   "outputs": [
    {
     "data": {
      "text/html": [
       "<style>\n",
       ".list-inline {list-style: none; margin:0; padding: 0}\n",
       ".list-inline>li {display: inline-block}\n",
       ".list-inline>li:not(:last-child)::after {content: \"\\00b7\"; padding: 0 .5ex}\n",
       "</style>\n",
       "<ol class=list-inline><li>64</li><li>21</li></ol>\n"
      ],
      "text/latex": [
       "\\begin{enumerate*}\n",
       "\\item 64\n",
       "\\item 21\n",
       "\\end{enumerate*}\n"
      ],
      "text/markdown": [
       "1. 64\n",
       "2. 21\n",
       "\n",
       "\n"
      ],
      "text/plain": [
       "[1] 64 21"
      ]
     },
     "metadata": {},
     "output_type": "display_data"
    }
   ],
   "source": [
    "##51\n",
    "data(AJR)\n",
    "y = AJR$GDP\n",
    "d = AJR$Exprop\n",
    "z = AJR$logMort\n",
    "x = modelmatrix(~-1 + (Latitude + Latitude2 + Africa + Asia + Namer + Samer)^2,\n",
    "data = AJR)\n",
    "dim(x)"
   ]
  },
  {
   "cell_type": "code",
   "execution_count": 31,
   "metadata": {},
   "outputs": [
    {
     "name": "stdout",
     "output_type": "stream",
     "text": [
      "[1] \"Estimation and significance testing of the effect of target variables in the IV regression model\"\n",
      "       coeff.    se. t-value p-value   \n",
      "Exprop 0.8450 0.2699   3.131 0.00174 **\n",
      "---\n",
      "Signif. codes:  0 '***' 0.001 '**' 0.01 '*' 0.05 '.' 0.1 ' ' 1\n",
      "\n",
      "\n"
     ]
    }
   ],
   "source": [
    "AJRXselect = rlassoIV(GDP ~ Exprop + (Latitude + Latitude2 + Africa + Asia + Namer +\n",
    "Samer)^2 | logMort + (Latitude + Latitude2 + Africa + Asia + Namer + Samer)^2,\n",
    "data = AJR, selectX = true, selectZ = false)\n",
    "summary(AJRXselect)"
   ]
  },
  {
   "cell_type": "code",
   "execution_count": 32,
   "metadata": {},
   "outputs": [
    {
     "name": "stdout",
     "output_type": "stream",
     "text": [
      "           2.5 %   97.5 %\n",
      "Exprop 0.3159812 1.374072\n"
     ]
    }
   ],
   "source": [
    "confint(AJRXselect)"
   ]
  },
  {
   "cell_type": "code",
   "execution_count": 33,
   "metadata": {},
   "outputs": [
    {
     "name": "stdout",
     "output_type": "stream",
     "text": [
      "   [,1] [,2]\n",
      "rD 1.27 1.73\n"
     ]
    }
   ],
   "source": [
    "fmlay = GDP ~ (Latitude + Latitude2 + Africa + Asia + Namer + Samer)^2\n",
    "fmlad = Exprop ~ (Latitude + Latitude2 + Africa + Asia + Namer + Samer)^2\n",
    "fmlaz = logMort ~ (Latitude + Latitude2 + Africa + Asia + Namer + Samer)^2\n",
    "rY = lm(fmlay, data = AJR)$res\n",
    "rD = lm(fmlad, data = AJR)$res\n",
    "rZ = lm(fmlaz, data = AJR)$res\n",
    "# ivfitlm = tsls(y=rY,d=rD, x=NULL, z=rZ, intercept=false)\n",
    "ivfitlm = tsls(rY ~ rD | rZ, intercept = false)\n",
    "print(cbind(ivfitlm$coef, ivfitlm$se), digits = 3)"
   ]
  },
  {
   "cell_type": "code",
   "execution_count": 34,
   "metadata": {},
   "outputs": [
    {
     "name": "stdout",
     "output_type": "stream",
     "text": [
      "    [,1] [,2]\n",
      "rD 0.845 0.27\n"
     ]
    }
   ],
   "source": [
    "rY = rlasso(fmlay, data = AJR)$res\n",
    "rD = rlasso(fmlad, data = AJR)$res\n",
    "rZ = rlasso(fmlaz, data = AJR)$res\n",
    "# ivfitlasso = tsls(y=rY,d=rD, x=NULL, z=rZ, intercept=false)\n",
    "ivfitlasso = tsls(rY ~ rD | rZ, intercept = false)\n",
    "print(cbind(ivfitlasso$coef, ivfitlasso$se), digits = 3)"
   ]
  },
  {
   "cell_type": "code",
   "execution_count": 35,
   "metadata": {},
   "outputs": [],
   "source": [
    "data(EminentDomain)\n",
    "z = asmatrix(EminentDomain$logGDP$z)\n",
    "x = asmatrix(EminentDomain$logGDP$x)\n",
    "y = EminentDomain$logGDP$y\n",
    "d = EminentDomain$logGDP$d\n",
    "x = x[, apply(x, 2, mean, narm = true) > 005]\n",
    "#\n",
    "z = z[, apply(z, 2, mean, narm = true) > 005]\n",
    "#"
   ]
  },
  {
   "cell_type": "code",
   "execution_count": 36,
   "metadata": {},
   "outputs": [],
   "source": [
    "EDols = lm(y ~ cbind(d, x))\n",
    "ED2sls = tsls(y = y, d = d, x = x, z = z[, 1:2], intercept = false)"
   ]
  },
  {
   "cell_type": "code",
   "execution_count": 37,
   "metadata": {},
   "outputs": [
    {
     "name": "stdout",
     "output_type": "stream",
     "text": [
      "[1] \"Estimates and significance testing of the effect of target variables in the IV regression model\"\n",
      "   coeff.    se. t-value p-value\n",
      "d1 0.4146 0.2902   1.428   0.153\n",
      "\n",
      "\n"
     ]
    }
   ],
   "source": [
    "lassoIVZ = rlassoIV(x = x, d = d, y = y, z = z, selectX = false, selectZ = true)\n",
    "# or lassoIVZ = rlassoIVselectZt(x=X, d=d, y=y, z=z)\n",
    "summary(lassoIVZ)"
   ]
  },
  {
   "cell_type": "code",
   "execution_count": 38,
   "metadata": {},
   "outputs": [
    {
     "name": "stdout",
     "output_type": "stream",
     "text": [
      "        2.5 %    97.5 %\n",
      "d1 -0.1542764 0.9834796\n"
     ]
    }
   ],
   "source": [
    "confint(lassoIVZ)"
   ]
  },
  {
   "cell_type": "code",
   "execution_count": 39,
   "metadata": {},
   "outputs": [
    {
     "name": "stdout",
     "output_type": "stream",
     "text": [
      "Estimates and Significance Testing of the effect of target variables in the IV regression model \n",
      "     coeff.      se. t-value p-value\n",
      "d1 -0.02383  0.12851  -0.185   0.853\n",
      "\n",
      "\n"
     ]
    }
   ],
   "source": [
    "lassoIVXZ = rlassoIV(x = x, d = d, y = y, z = z, selectX = true, selectZ = true)\n",
    "summary(lassoIVXZ)"
   ]
  },
  {
   "cell_type": "code",
   "execution_count": 40,
   "metadata": {},
   "outputs": [
    {
     "name": "stdout",
     "output_type": "stream",
     "text": [
      "        2.5 %    97.5 %\n",
      "d1 -0.2757029 0.2280335\n"
     ]
    }
   ],
   "source": [
    "confint(lassoIVXZ)"
   ]
  },
  {
   "cell_type": "code",
   "execution_count": 41,
   "metadata": {},
   "outputs": [
    {
     "name": "stdout",
     "output_type": "stream",
     "text": [
      "[1] \"Estimates and significance testing of the effect of target variables in the IV regression model\"\n",
      "   coeff.    se. t-value p-value\n",
      "d1 0.4146 0.2902   1.428   0.153\n",
      "\n",
      "\n"
     ]
    }
   ],
   "source": [
    "library(xtable)\n",
    "table = matrix(0, 4, 2)\n",
    "table[1, ] = summary(EDols)$coef[2, 1:2]\n",
    "table[2, ] = cbind(ED2sls$coef[1], ED2sls$se[1])\n",
    "table[3, ] = summary(lassoIVZ)[, 1:2]"
   ]
  },
  {
   "cell_type": "code",
   "execution_count": 42,
   "metadata": {},
   "outputs": [
    {
     "name": "stdout",
     "output_type": "stream",
     "text": [
      "Estimates and Significance Testing of the effect of target variables in the IV regression model \n",
      "     coeff.      se. t-value p-value\n",
      "d1 -0.02383  0.12851  -0.185   0.853\n",
      "\n",
      "\n"
     ]
    }
   ],
   "source": [
    "table[4, ] = summary(lassoIVXZ)[, 1:2]"
   ]
  },
  {
   "cell_type": "code",
   "execution_count": 43,
   "metadata": {},
   "outputs": [
    {
     "data": {
      "text/html": [
       "<table class=\"dataframe\">\n",
       "<caption>A xtable: 4 × 2</caption>\n",
       "<thead>\n",
       "\t<tr><th></th><th scope=col>Estimate</th><th scope=col>Std. Error</th></tr>\n",
       "\t<tr><th></th><th scope=col>&lt;dbl&gt;</th><th scope=col>&lt;dbl&gt;</th></tr>\n",
       "</thead>\n",
       "<tbody>\n",
       "\t<tr><th scope=row>ols regression</th><td> 0.007864732</td><td>0.009865927</td></tr>\n",
       "\t<tr><th scope=row>IV estimation </th><td>-0.010733269</td><td>0.033766362</td></tr>\n",
       "\t<tr><th scope=row>selection on Z</th><td> 0.414601641</td><td>0.290249208</td></tr>\n",
       "\t<tr><th scope=row>selection on X and Z</th><td>-0.023834697</td><td>0.128506538</td></tr>\n",
       "</tbody>\n",
       "</table>\n"
      ],
      "text/latex": [
       "A xtable: 4 × 2\n",
       "\\begin{tabular}{r|ll}\n",
       "  & Estimate & Std. Error\\\\\n",
       "  & <dbl> & <dbl>\\\\\n",
       "\\hline\n",
       "\tols regression &  0.007864732 & 0.009865927\\\\\n",
       "\tIV estimation  & -0.010733269 & 0.033766362\\\\\n",
       "\tselection on Z &  0.414601641 & 0.290249208\\\\\n",
       "\tselection on X and Z & -0.023834697 & 0.128506538\\\\\n",
       "\\end{tabular}\n"
      ],
      "text/markdown": [
       "\n",
       "A xtable: 4 × 2\n",
       "\n",
       "| <!--/--> | Estimate &lt;dbl&gt; | Std. Error &lt;dbl&gt; |\n",
       "|---|---|---|\n",
       "| ols regression |  0.007864732 | 0.009865927 |\n",
       "| IV estimation  | -0.010733269 | 0.033766362 |\n",
       "| selection on Z |  0.414601641 | 0.290249208 |\n",
       "| selection on X and Z | -0.023834697 | 0.128506538 |\n",
       "\n"
      ],
      "text/plain": [
       "                     Estimate     Std. Error \n",
       "ols regression        0.007864732 0.009865927\n",
       "IV estimation        -0.010733269 0.033766362\n",
       "selection on Z        0.414601641 0.290249208\n",
       "selection on X and Z -0.023834697 0.128506538"
      ]
     },
     "metadata": {},
     "output_type": "display_data"
    }
   ],
   "source": [
    "colnames(table) = c(\"Estimate\", \"Std Error\")\n",
    "rownames(table) = c(\"ols regression\", \"IV estimation \", \"selection on Z\", \"selection on X and Z\")\n",
    "tab = xtable(table, digits = c(2, 2, 7))\n",
    "tab"
   ]
  },
  {
   "cell_type": "code",
   "execution_count": 44,
   "metadata": {},
   "outputs": [],
   "source": [
    "data(pension)\n",
    "y = pension$tw\n",
    "d = pension$p401\n",
    "z = pension$e401\n",
    "X = pension[, c(\"i2\", \"i3\", \"i4\", \"i5\", \"i6\", \"i7\", \"a2\", \"a3\", \"a4\", \"a5\", \"fsize\",\n",
    "\"hs\", \"smcol\", \"col\", \"marr\", \"twoearn\", \"db\", \"pira\", \"hown\")]\n",
    "# simple model\n",
    "xvar = c(\"i2\", \"i3\", \"i4\", \"i5\", \"i6\", \"i7\", \"a2\", \"a3\", \"a4\", \"a5\", \"fsize\", \"hs\",\n",
    "\"smcol\", \"col\", \"marr\", \"twoearn\", \"db\", \"pira\", \"hown\")\n",
    "xpart = paste(xvar, collapse = \"+\")\n",
    "form = asformula(paste(\"tw ~ \", paste(c(\"p401\", xvar), collapse = \"+\"), \"|\", paste(xvar,\n",
    "collapse = \"+\")))\n",
    "formZ = asformula(paste(\"tw ~ \", paste(c(\"p401\", xvar), collapse = \"+\"), \"|\", paste(c(\"e401\",\n",
    "xvar), collapse = \"+\")))"
   ]
  },
  {
   "cell_type": "code",
   "execution_count": 45,
   "metadata": {},
   "outputs": [
    {
     "name": "stdout",
     "output_type": "stream",
     "text": [
      "Estimation and significance testing of the treatment effect \n",
      "Type: ATE \n",
      "Bootstrap: not applicable \n",
      "   coeff.   se. t-value  p-value    \n",
      "TE  10180  1931   5.273 1.34e-07 ***\n",
      "---\n",
      "Signif. codes:  0 '***' 0.001 '**' 0.01 '*' 0.05 '.' 0.1 ' ' 1\n",
      "\n",
      "\n"
     ]
    }
   ],
   "source": [
    "pensionate = rlassoATE(form, data = pension)\n",
    "summary(pensionate)"
   ]
  },
  {
   "cell_type": "code",
   "execution_count": 46,
   "metadata": {},
   "outputs": [
    {
     "name": "stdout",
     "output_type": "stream",
     "text": [
      "Estimation and significance testing of the treatment effect \n",
      "Type: ATET \n",
      "Bootstrap: not applicable \n",
      "   coeff.   se. t-value p-value    \n",
      "TE  12628  2944   4.289 1.8e-05 ***\n",
      "---\n",
      "Signif. codes:  0 '***' 0.001 '**' 0.01 '*' 0.05 '.' 0.1 ' ' 1\n",
      "\n",
      "\n"
     ]
    }
   ],
   "source": [
    "pensionatet = rlassoATET(form, data = pension)\n",
    "summary(pensionatet)"
   ]
  },
  {
   "cell_type": "markdown",
   "metadata": {},
   "source": [
    "### Error"
   ]
  },
  {
   "cell_type": "code",
   "execution_count": 53,
   "metadata": {},
   "outputs": [],
   "source": [
    "# pensionlate = rlassoLATE(X, d, y, z)\n",
    "# pensionlate = rlassoLATE(formZ, data=pension)\n",
    "# summary(pensionlate)"
   ]
  },
  {
   "cell_type": "code",
   "execution_count": 48,
   "metadata": {},
   "outputs": [],
   "source": [
    "# pensionlatet = rlassoLATET(X, d, y, z)"
   ]
  },
  {
   "cell_type": "code",
   "execution_count": 49,
   "metadata": {},
   "outputs": [],
   "source": [
    "xvar2 = paste(\"(\", xvar, \")^2\", sep = \"\")\n",
    "formExt = asformula(paste(\"tw ~ \", paste(c(\"p401\", xvar2), collapse = \"+\"), \"|\",\n",
    "paste(xvar2, collapse = \"+\")))\n",
    "formZExt = asformula(paste(\"tw ~ \", paste(c(\"p401\", xvar2), collapse = \"+\"), \"|\",\n",
    "paste(c(\"e401\", xvar2), collapse = \"+\")))"
   ]
  },
  {
   "cell_type": "code",
   "execution_count": 50,
   "metadata": {},
   "outputs": [],
   "source": [
    "pensionate = rlassoATE(X, z, y)\n",
    "pensionatet = rlassoATET(X, z, y)\n",
    "# pensionlate = rlassoLATE(X, d, y, z)\n",
    "# pensionlatet = rlassoLATET(X, d, y, z)"
   ]
  },
  {
   "cell_type": "markdown",
   "metadata": {},
   "source": [
    "## The Lasso Methods for Discovery of Significant Causes amongst Many Potential Causes, with Many Controls"
   ]
  },
  {
   "cell_type": "code",
   "execution_count": 54,
   "metadata": {},
   "outputs": [
    {
     "data": {
      "text/html": [
       "<table class=\"dataframe\">\n",
       "<caption>A matrix: 20 × 2 of type dbl</caption>\n",
       "<thead>\n",
       "\t<tr><th></th><th scope=col>2.5 %</th><th scope=col>97.5 %</th></tr>\n",
       "</thead>\n",
       "<tbody>\n",
       "\t<tr><th scope=row>V1</th><td> 4.5145877</td><td>5.21430498</td></tr>\n",
       "\t<tr><th scope=row>V2</th><td>-0.3142909</td><td>0.30494650</td></tr>\n",
       "\t<tr><th scope=row>V3</th><td>-0.3524109</td><td>0.18678880</td></tr>\n",
       "\t<tr><th scope=row>V4</th><td>-0.2542430</td><td>0.28738914</td></tr>\n",
       "\t<tr><th scope=row>V5</th><td>-0.2765802</td><td>0.27627177</td></tr>\n",
       "\t<tr><th scope=row>V6</th><td>-0.3214676</td><td>0.29422684</td></tr>\n",
       "\t<tr><th scope=row>V7</th><td>-0.2262507</td><td>0.30094168</td></tr>\n",
       "\t<tr><th scope=row>V8</th><td>-0.0473541</td><td>0.47366372</td></tr>\n",
       "\t<tr><th scope=row>V9</th><td>-0.1865636</td><td>0.39023520</td></tr>\n",
       "\t<tr><th scope=row>V10</th><td>-0.2372356</td><td>0.26411185</td></tr>\n",
       "\t<tr><th scope=row>V11</th><td>-0.3147091</td><td>0.20945872</td></tr>\n",
       "\t<tr><th scope=row>V12</th><td>-0.3091905</td><td>0.26572176</td></tr>\n",
       "\t<tr><th scope=row>V13</th><td>-0.1741550</td><td>0.37682465</td></tr>\n",
       "\t<tr><th scope=row>V14</th><td>-0.3235734</td><td>0.38543162</td></tr>\n",
       "\t<tr><th scope=row>V15</th><td>-0.3219763</td><td>0.31312486</td></tr>\n",
       "\t<tr><th scope=row>V16</th><td>-0.2649505</td><td>0.33100700</td></tr>\n",
       "\t<tr><th scope=row>V17</th><td>-0.1792080</td><td>0.41696169</td></tr>\n",
       "\t<tr><th scope=row>V18</th><td>-0.3693247</td><td>0.04695928</td></tr>\n",
       "\t<tr><th scope=row>V19</th><td>-0.1073109</td><td>0.39368776</td></tr>\n",
       "\t<tr><th scope=row>V20</th><td>-0.2157182</td><td>0.25543839</td></tr>\n",
       "</tbody>\n",
       "</table>\n"
      ],
      "text/latex": [
       "A matrix: 20 × 2 of type dbl\n",
       "\\begin{tabular}{r|ll}\n",
       "  & 2.5 \\% & 97.5 \\%\\\\\n",
       "\\hline\n",
       "\tV1 &  4.5145877 & 5.21430498\\\\\n",
       "\tV2 & -0.3142909 & 0.30494650\\\\\n",
       "\tV3 & -0.3524109 & 0.18678880\\\\\n",
       "\tV4 & -0.2542430 & 0.28738914\\\\\n",
       "\tV5 & -0.2765802 & 0.27627177\\\\\n",
       "\tV6 & -0.3214676 & 0.29422684\\\\\n",
       "\tV7 & -0.2262507 & 0.30094168\\\\\n",
       "\tV8 & -0.0473541 & 0.47366372\\\\\n",
       "\tV9 & -0.1865636 & 0.39023520\\\\\n",
       "\tV10 & -0.2372356 & 0.26411185\\\\\n",
       "\tV11 & -0.3147091 & 0.20945872\\\\\n",
       "\tV12 & -0.3091905 & 0.26572176\\\\\n",
       "\tV13 & -0.1741550 & 0.37682465\\\\\n",
       "\tV14 & -0.3235734 & 0.38543162\\\\\n",
       "\tV15 & -0.3219763 & 0.31312486\\\\\n",
       "\tV16 & -0.2649505 & 0.33100700\\\\\n",
       "\tV17 & -0.1792080 & 0.41696169\\\\\n",
       "\tV18 & -0.3693247 & 0.04695928\\\\\n",
       "\tV19 & -0.1073109 & 0.39368776\\\\\n",
       "\tV20 & -0.2157182 & 0.25543839\\\\\n",
       "\\end{tabular}\n"
      ],
      "text/markdown": [
       "\n",
       "A matrix: 20 × 2 of type dbl\n",
       "\n",
       "| <!--/--> | 2.5 % | 97.5 % |\n",
       "|---|---|---|\n",
       "| V1 |  4.5145877 | 5.21430498 |\n",
       "| V2 | -0.3142909 | 0.30494650 |\n",
       "| V3 | -0.3524109 | 0.18678880 |\n",
       "| V4 | -0.2542430 | 0.28738914 |\n",
       "| V5 | -0.2765802 | 0.27627177 |\n",
       "| V6 | -0.3214676 | 0.29422684 |\n",
       "| V7 | -0.2262507 | 0.30094168 |\n",
       "| V8 | -0.0473541 | 0.47366372 |\n",
       "| V9 | -0.1865636 | 0.39023520 |\n",
       "| V10 | -0.2372356 | 0.26411185 |\n",
       "| V11 | -0.3147091 | 0.20945872 |\n",
       "| V12 | -0.3091905 | 0.26572176 |\n",
       "| V13 | -0.1741550 | 0.37682465 |\n",
       "| V14 | -0.3235734 | 0.38543162 |\n",
       "| V15 | -0.3219763 | 0.31312486 |\n",
       "| V16 | -0.2649505 | 0.33100700 |\n",
       "| V17 | -0.1792080 | 0.41696169 |\n",
       "| V18 | -0.3693247 | 0.04695928 |\n",
       "| V19 | -0.1073109 | 0.39368776 |\n",
       "| V20 | -0.2157182 | 0.25543839 |\n",
       "\n"
      ],
      "text/plain": [
       "    2.5 %      97.5 %    \n",
       "V1   4.5145877 5.21430498\n",
       "V2  -0.3142909 0.30494650\n",
       "V3  -0.3524109 0.18678880\n",
       "V4  -0.2542430 0.28738914\n",
       "V5  -0.2765802 0.27627177\n",
       "V6  -0.3214676 0.29422684\n",
       "V7  -0.2262507 0.30094168\n",
       "V8  -0.0473541 0.47366372\n",
       "V9  -0.1865636 0.39023520\n",
       "V10 -0.2372356 0.26411185\n",
       "V11 -0.3147091 0.20945872\n",
       "V12 -0.3091905 0.26572176\n",
       "V13 -0.1741550 0.37682465\n",
       "V14 -0.3235734 0.38543162\n",
       "V15 -0.3219763 0.31312486\n",
       "V16 -0.2649505 0.33100700\n",
       "V17 -0.1792080 0.41696169\n",
       "V18 -0.3693247 0.04695928\n",
       "V19 -0.1073109 0.39368776\n",
       "V20 -0.2157182 0.25543839"
      ]
     },
     "metadata": {},
     "output_type": "display_data"
    }
   ],
   "source": [
    "setseed(1)\n",
    "n = 100\n",
    "p1 = 20\n",
    "p2 = 20\n",
    "D = matrix(rnorm(n * p1), n, p1)\n",
    "# Causes\n",
    "W = matrix(rnorm(n * p2), n, p2)\n",
    "X = cbind(D, W)\n",
    "# Regressors\n",
    "Y = D[, 1] * 5 + W[, 1] * 5 + rnorm(n)\n",
    "#Outcome\n",
    "confint(rlassoEffects(X, Y, index = c(1:p1)), joint = true)"
   ]
  }
 ],
 "metadata": {
  "kernelspec": {
   "display_name": "Julia 1.7.3",
   "language": "julia",
   "name": "julia-1.7"
  },
  "language_info": {
   "file_extension": ".jl",
   "mimetype": "application/julia",
   "name": "julia",
   "version": "1.7.3"
  },
  "orig_nbformat": 4,
  "vscode": {
   "interpreter": {
    "hash": "2a8dfe095fce2b5e88c64a2c3ee084c8e0e0d70b23e7b95b1cfb538be294c5c8"
   }
  }
 },
 "nbformat": 4,
 "nbformat_minor": 2
}
