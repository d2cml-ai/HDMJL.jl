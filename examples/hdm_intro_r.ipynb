{
 "cells": [
  {
   "cell_type": "markdown",
   "metadata": {},
   "source": [
    "# Hight-Dimmensional Metrics in Julia\n",
    "\n",
    "# Introduction"
   ]
  },
  {
   "cell_type": "markdown",
   "metadata": {},
   "source": [
    "# How to Get Started"
   ]
  },
  {
   "cell_type": "code",
   "execution_count": 1,
   "metadata": {
    "vscode": {
     "languageId": "r"
    }
   },
   "outputs": [],
   "source": [
    "# install.packages(\"hdm\")"
   ]
  },
  {
   "cell_type": "markdown",
   "metadata": {},
   "source": [
    "# Prediction Using Approximate Sparsity"
   ]
  },
  {
   "cell_type": "code",
   "execution_count": 2,
   "metadata": {
    "vscode": {
     "languageId": "r"
    }
   },
   "outputs": [
    {
     "data": {
      "text/html": [
       "<table class=\"dataframe\">\n",
       "<caption>A matrix: 6 × 1 of type dbl</caption>\n",
       "<tbody>\n",
       "\t<tr><td> 8.7974383</td></tr>\n",
       "\t<tr><td> 1.0688589</td></tr>\n",
       "\t<tr><td> 6.1139907</td></tr>\n",
       "\t<tr><td>-0.2032082</td></tr>\n",
       "\t<tr><td> 1.0882188</td></tr>\n",
       "\t<tr><td>20.8121398</td></tr>\n",
       "</tbody>\n",
       "</table>\n"
      ],
      "text/latex": [
       "A matrix: 6 × 1 of type dbl\n",
       "\\begin{tabular}{l}\n",
       "\t  8.7974383\\\\\n",
       "\t  1.0688589\\\\\n",
       "\t  6.1139907\\\\\n",
       "\t -0.2032082\\\\\n",
       "\t  1.0882188\\\\\n",
       "\t 20.8121398\\\\\n",
       "\\end{tabular}\n"
      ],
      "text/markdown": [
       "\n",
       "A matrix: 6 × 1 of type dbl\n",
       "\n",
       "|  8.7974383 |\n",
       "|  1.0688589 |\n",
       "|  6.1139907 |\n",
       "| -0.2032082 |\n",
       "|  1.0882188 |\n",
       "| 20.8121398 |\n",
       "\n"
      ],
      "text/plain": [
       "     [,1]      \n",
       "[1,]  8.7974383\n",
       "[2,]  1.0688589\n",
       "[3,]  6.1139907\n",
       "[4,] -0.2032082\n",
       "[5,]  1.0882188\n",
       "[6,] 20.8121398"
      ]
     },
     "metadata": {},
     "output_type": "display_data"
    }
   ],
   "source": [
    "library(hdm)\n",
    "# 3.2 A Joint Significance test for Lasso Regression\n",
    "set.seed(1235)\n",
    "n = 100\n",
    "#sample size\n",
    "p = 50\n",
    "# number of variables\n",
    "s = 3\n",
    "# nubmer of variables with non-zero coefficients\n",
    "X = matrix(rnorm(n * p), ncol = p)\n",
    "beta = c(rep(5, s), rep(0, p - s))\n",
    "Y = X %*% beta + rnorm(n) \n",
    "\n",
    "# cbind(Y, X)\n",
    "\n",
    "r_data = function (name = \"nn\", ...){\n",
    "    nn = paste0(\"r_\", name, \".csv\")\n",
    "    # cbind(...)\n",
    "    dta = cbind(...)\n",
    "    write.csv(dta, nn, row.names = F)\n",
    "    # print(head(dta))\n",
    "}\n",
    "\n",
    "# r_data()\n",
    "r_data(name = \"1\", Y, X)\n",
    "head(Y)"
   ]
  },
  {
   "cell_type": "code",
   "execution_count": 3,
   "metadata": {
    "vscode": {
     "languageId": "r"
    }
   },
   "outputs": [
    {
     "name": "stdout",
     "output_type": "stream",
     "text": [
      "\n",
      "Call:\n",
      "rlasso.formula(formula = Y ~ X, post = FALSE)\n",
      "\n",
      "Post-Lasso Estimation:  FALSE \n",
      "\n",
      "Total number of variables: 50\n",
      "Number of selected variables: 8 \n",
      "\n",
      "Residuals: \n",
      "    Min      1Q  Median      3Q     Max \n",
      "-2.9036 -0.7971  0.1192  0.6712  2.8503 \n",
      "\n",
      "            Estimate\n",
      "(Intercept)    0.015\n",
      "1              4.809\n",
      "2              4.825\n",
      "3              4.840\n",
      "13            -0.002\n",
      "21            -0.266\n",
      "28            -0.053\n",
      "29             0.011\n",
      "37            -0.022\n",
      "\n",
      "Residual standard error: 1.068\n",
      "Multiple R-squared:  0.986\n",
      "Adjusted R-squared:  0.9847\n",
      "Joint significance test:\n",
      " the sup score statistic for joint significance test is 57.69 with a p-value of     0\n"
     ]
    }
   ],
   "source": [
    "lasso.reg = rlasso(Y ~ X, post = FALSE)\n",
    "# use lasso, not-Post-lasso\n",
    "# lasso.reg = rlasso(X, Y, post=FALSE)\n",
    "sum.lasso <- summary(lasso.reg, all = FALSE)\n",
    "# can also do print(lasso.reg, all=FALSE)"
   ]
  },
  {
   "cell_type": "code",
   "execution_count": 4,
   "metadata": {
    "vscode": {
     "languageId": "r"
    }
   },
   "outputs": [
    {
     "name": "stdout",
     "output_type": "stream",
     "text": [
      "\n",
      "Call:\n",
      "rlasso.formula(formula = Y ~ X, post = TRUE)\n",
      "\n",
      "(Intercept)            1            2            3           21  \n",
      "   0.002234     4.981728     5.014848     5.025642    -0.443961  \n",
      "\n"
     ]
    }
   ],
   "source": [
    "set.seed(9)\n",
    "yhat.lasso = predict(lasso.reg)\n",
    "#in-sample prediction\n",
    "Xnew = matrix(rnorm(n * p), ncol = p)\n",
    "# new X\n",
    "Ynew = Xnew %*% beta + rnorm(n)\n",
    "#new Y\n",
    "yhat.lasso.new = predict(lasso.reg, newdata = Xnew)\n",
    "#out-of-sample prediction\n",
    "post.lasso.reg = rlasso(Y ~ X, post = TRUE)\n",
    "#now use post-lasso\n",
    "r_data(\"1.1\", Ynew, Xnew)\n",
    "print(post.lasso.reg, all = FALSE)"
   ]
  },
  {
   "cell_type": "code",
   "execution_count": 5,
   "metadata": {
    "vscode": {
     "languageId": "r"
    }
   },
   "outputs": [
    {
     "name": "stdout",
     "output_type": "stream",
     "text": [
      "     lasso MAE Post-lasso MAE \n",
      "           1.1            1.0 \n"
     ]
    }
   ],
   "source": [
    "yhat.postlasso = predict(post.lasso.reg)\n",
    "#in-sample prediction\n",
    "yhat.postlasso.new = predict(post.lasso.reg, newdata = Xnew)\n",
    "#out-of-sample prediction\n",
    "MAE <- apply(cbind(abs(Ynew - yhat.lasso.new), abs(Ynew - yhat.postlasso.new)), 2,\n",
    "mean)\n",
    "names(MAE) <- c(\"lasso MAE\", \"Post-lasso MAE\")\n",
    "print(MAE, digits = 2)"
   ]
  },
  {
   "cell_type": "markdown",
   "metadata": {},
   "source": [
    "# Inference on Target Regression Coefficients"
   ]
  },
  {
   "cell_type": "code",
   "execution_count": 6,
   "metadata": {
    "vscode": {
     "languageId": "r"
    }
   },
   "outputs": [],
   "source": [
    "#4.1 Intuition for the Orthogonality Principle in Linear Models via Partialling Out\n",
    "set.seed(1)\n",
    "n = 5000\n",
    "p = 20\n",
    "X = matrix(rnorm(n * p), ncol = p)\n",
    "colnames(X) = c(\"d\", paste(\"x\", 1:19, sep = \"\"))\n",
    "xnames = colnames(X)[-1]\n",
    "beta = rep(1, 20)\n",
    "y = X %*% beta + rnorm(n)\n",
    "dat = data.frame(y = y, X)\n",
    "r_data(\"2\", dat)\n",
    "# dat"
   ]
  },
  {
   "cell_type": "code",
   "execution_count": 7,
   "metadata": {
    "vscode": {
     "languageId": "r"
    }
   },
   "outputs": [
    {
     "data": {
      "text/html": [
       "<style>\n",
       ".dl-inline {width: auto; margin:0; padding: 0}\n",
       ".dl-inline>dt, .dl-inline>dd {float: none; width: auto; display: inline-block}\n",
       ".dl-inline>dt::after {content: \":\\0020\"; padding-right: .5ex}\n",
       ".dl-inline>dt:not(:first-of-type) {padding-left: .5ex}\n",
       "</style><dl class=dl-inline><dt>Estimate</dt><dd>0.978074548374755</dd><dt>Std. Error</dt><dd>0.0137122468163772</dd></dl>\n"
      ],
      "text/latex": [
       "\\begin{description*}\n",
       "\\item[Estimate] 0.978074548374755\n",
       "\\item[Std. Error] 0.0137122468163772\n",
       "\\end{description*}\n"
      ],
      "text/markdown": [
       "Estimate\n",
       ":   0.978074548374755Std. Error\n",
       ":   0.0137122468163772\n",
       "\n"
      ],
      "text/plain": [
       "  Estimate Std. Error \n",
       "0.97807455 0.01371225 "
      ]
     },
     "metadata": {},
     "output_type": "display_data"
    }
   ],
   "source": [
    "fmla = as.formula(paste(\"y ~ \", paste(colnames(X), collapse = \"+\")))\n",
    "full.fit = lm(fmla, data = dat)\n",
    "summary(full.fit)$coef[\"d\", 1:2]"
   ]
  },
  {
   "cell_type": "code",
   "execution_count": 8,
   "metadata": {
    "vscode": {
     "languageId": "r"
    }
   },
   "outputs": [
    {
     "data": {
      "text/html": [
       "<style>\n",
       ".dl-inline {width: auto; margin:0; padding: 0}\n",
       ".dl-inline>dt, .dl-inline>dd {float: none; width: auto; display: inline-block}\n",
       ".dl-inline>dt::after {content: \":\\0020\"; padding-right: .5ex}\n",
       ".dl-inline>dt:not(:first-of-type) {padding-left: .5ex}\n",
       "</style><dl class=dl-inline><dt>Estimate</dt><dd>0.978074548374761</dd><dt>Std. Error</dt><dd>0.0136861583043357</dd></dl>\n"
      ],
      "text/latex": [
       "\\begin{description*}\n",
       "\\item[Estimate] 0.978074548374761\n",
       "\\item[Std. Error] 0.0136861583043357\n",
       "\\end{description*}\n"
      ],
      "text/markdown": [
       "Estimate\n",
       ":   0.978074548374761Std. Error\n",
       ":   0.0136861583043357\n",
       "\n"
      ],
      "text/plain": [
       "  Estimate Std. Error \n",
       "0.97807455 0.01368616 "
      ]
     },
     "metadata": {},
     "output_type": "display_data"
    }
   ],
   "source": [
    "fmla.y = as.formula(paste(\"y ~ \", paste(xnames, collapse = \"+\")))\n",
    "fmla.d = as.formula(paste(\"d ~ \", paste(xnames, collapse = \"+\")))\n",
    "rY = lm(fmla.y, data = dat)$res\n",
    "# summary(rY)\n",
    "# rY\n",
    "rD = lm(fmla.d, data = dat)$res\n",
    "partial.fit.ls = lm(rY ~ rD)\n",
    "summary(partial.fit.ls)$coef[\"rD\", 1:2]"
   ]
  },
  {
   "cell_type": "code",
   "execution_count": 9,
   "metadata": {
    "vscode": {
     "languageId": "r"
    }
   },
   "outputs": [
    {
     "data": {
      "text/html": [
       "<style>\n",
       ".dl-inline {width: auto; margin:0; padding: 0}\n",
       ".dl-inline>dt, .dl-inline>dd {float: none; width: auto; display: inline-block}\n",
       ".dl-inline>dt::after {content: \":\\0020\"; padding-right: .5ex}\n",
       ".dl-inline>dt:not(:first-of-type) {padding-left: .5ex}\n",
       "</style><dl class=dl-inline><dt>Estimate</dt><dd>0.972738704584573</dd><dt>Std. Error</dt><dd>0.0136867656564768</dd></dl>\n"
      ],
      "text/latex": [
       "\\begin{description*}\n",
       "\\item[Estimate] 0.972738704584573\n",
       "\\item[Std. Error] 0.0136867656564768\n",
       "\\end{description*}\n"
      ],
      "text/markdown": [
       "Estimate\n",
       ":   0.972738704584573Std. Error\n",
       ":   0.0136867656564768\n",
       "\n"
      ],
      "text/plain": [
       "  Estimate Std. Error \n",
       "0.97273870 0.01368677 "
      ]
     },
     "metadata": {},
     "output_type": "display_data"
    }
   ],
   "source": [
    "rY = rlasso(fmla.y, data = dat)$res\n",
    "rD = rlasso(fmla.d, data = dat)$res\n",
    "partial.fit.postlasso = lm(rY ~ rD)\n",
    "summary(partial.fit.postlasso)$coef[\"rD\", 1:2]"
   ]
  },
  {
   "cell_type": "markdown",
   "metadata": {},
   "source": [
    "# Instrumental Variable Esimation in a High-Dimensional Setting"
   ]
  },
  {
   "cell_type": "code",
   "execution_count": 10,
   "metadata": {
    "vscode": {
     "languageId": "r"
    }
   },
   "outputs": [
    {
     "data": {
      "text/html": [
       "<style>\n",
       ".dl-inline {width: auto; margin:0; padding: 0}\n",
       ".dl-inline>dt, .dl-inline>dd {float: none; width: auto; display: inline-block}\n",
       ".dl-inline>dt::after {content: \":\\0020\"; padding-right: .5ex}\n",
       ".dl-inline>dt:not(:first-of-type) {padding-left: .5ex}\n",
       "</style><dl class=dl-inline><dt>Estimate.</dt><dd>0.972738704584573</dd><dt>Std. Error</dt><dd>0.0136867656564768</dd></dl>\n"
      ],
      "text/latex": [
       "\\begin{description*}\n",
       "\\item[Estimate.] 0.972738704584573\n",
       "\\item[Std. Error] 0.0136867656564768\n",
       "\\end{description*}\n"
      ],
      "text/markdown": [
       "Estimate.\n",
       ":   0.972738704584573Std. Error\n",
       ":   0.0136867656564768\n",
       "\n"
      ],
      "text/plain": [
       " Estimate. Std. Error \n",
       "0.97273870 0.01368677 "
      ]
     },
     "metadata": {},
     "output_type": "display_data"
    }
   ],
   "source": [
    "Eff = rlassoEffect(X[, -1], y, X[, 1], method = \"partialling out\")\n",
    "summary(Eff)$coef[, 1:2]"
   ]
  },
  {
   "cell_type": "code",
   "execution_count": 11,
   "metadata": {
    "vscode": {
     "languageId": "r"
    }
   },
   "outputs": [
    {
     "data": {
      "text/html": [
       "<style>\n",
       ".dl-inline {width: auto; margin:0; padding: 0}\n",
       ".dl-inline>dt, .dl-inline>dd {float: none; width: auto; display: inline-block}\n",
       ".dl-inline>dt::after {content: \":\\0020\"; padding-right: .5ex}\n",
       ".dl-inline>dt:not(:first-of-type) {padding-left: .5ex}\n",
       "</style><dl class=dl-inline><dt>Estimate.</dt><dd>0.978074548374755</dd><dt>Std. Error</dt><dd>0.0141562427002124</dd></dl>\n"
      ],
      "text/latex": [
       "\\begin{description*}\n",
       "\\item[Estimate.] 0.978074548374755\n",
       "\\item[Std. Error] 0.0141562427002124\n",
       "\\end{description*}\n"
      ],
      "text/markdown": [
       "Estimate.\n",
       ":   0.978074548374755Std. Error\n",
       ":   0.0141562427002124\n",
       "\n"
      ],
      "text/plain": [
       " Estimate. Std. Error \n",
       "0.97807455 0.01415624 "
      ]
     },
     "metadata": {},
     "output_type": "display_data"
    }
   ],
   "source": [
    "Eff = rlassoEffect(X[, -1], y, X[, 1], method = \"double selection\")\n",
    "summary(Eff)$coef[, 1:2]"
   ]
  },
  {
   "cell_type": "code",
   "execution_count": 12,
   "metadata": {
    "vscode": {
     "languageId": "r"
    }
   },
   "outputs": [],
   "source": [
    "#4.2 Inference confidence Intervals and Significance Testing\n",
    "set.seed(1)\n",
    "n = 100\n",
    "#sample size\n",
    "p = 100\n",
    "# number of variables\n",
    "s = 3\n",
    "# nubmer of non-zero variables\n",
    "X = matrix(rnorm(n * p), ncol = p)\n",
    "colnames(X) <- paste(\"X\", 1:p, sep = \"\")\n",
    "beta = c(rep(3, s), rep(0, p - s))\n",
    "y = 1 + X %*% beta + rnorm(n)\n",
    "data = data.frame(cbind(y, X))\n",
    "colnames(data)[1] <- \"y\"\n",
    "fm = paste(\"y ~\", paste(colnames(X), collapse = \"+\"))\n",
    "fm = as.formula(fm)\n",
    "\n",
    "r_data(name = \"3\", data)\n"
   ]
  },
  {
   "cell_type": "code",
   "execution_count": 13,
   "metadata": {
    "vscode": {
     "languageId": "r"
    }
   },
   "outputs": [
    {
     "name": "stdout",
     "output_type": "stream",
     "text": [
      "\n",
      "Call:\n",
      "rlassoEffects.formula(formula = fm, data = data, I = ~X1 + X2 + \n",
      "    X3 + X8)\n",
      "\n",
      "Coefficients:\n",
      "     X1       X2       X3       X8  \n",
      "2.94448  3.04127  2.97540  0.03693  \n",
      "\n"
     ]
    }
   ],
   "source": [
    "lasso.effect = rlassoEffects(fm, I = ~X1 + X2 + X3 + X8, data = data)\n",
    "print(lasso.effect)"
   ]
  },
  {
   "cell_type": "code",
   "execution_count": 14,
   "metadata": {
    "vscode": {
     "languageId": "r"
    }
   },
   "outputs": [
    {
     "data": {
      "text/plain": [
       "[1] \"Estimates and significance testing of the effect of target variables\"\n",
       "   Estimate. Std. Error t value Pr(>|t|)    \n",
       "X1   2.94448    0.08815  33.404   <2e-16 ***\n",
       "X2   3.04127    0.08389  36.253   <2e-16 ***\n",
       "X3   2.97540    0.07804  38.127   <2e-16 ***\n",
       "X8   0.03693    0.07192   0.513    0.608    \n",
       "---\n",
       "Signif. codes:  0 '***' 0.001 '**' 0.01 '*' 0.05 '.' 0.1 ' ' 1\n",
       "\n"
      ]
     },
     "metadata": {},
     "output_type": "display_data"
    }
   ],
   "source": [
    "summary(lasso.effect)"
   ]
  },
  {
   "cell_type": "code",
   "execution_count": 15,
   "metadata": {
    "vscode": {
     "languageId": "r"
    }
   },
   "outputs": [
    {
     "data": {
      "text/html": [
       "<table class=\"dataframe\">\n",
       "<caption>A matrix: 4 × 2 of type dbl</caption>\n",
       "<thead>\n",
       "\t<tr><th></th><th scope=col>2.5 %</th><th scope=col>97.5 %</th></tr>\n",
       "</thead>\n",
       "<tbody>\n",
       "\t<tr><th scope=row>X1</th><td> 2.7717131</td><td>3.1172421</td></tr>\n",
       "\t<tr><th scope=row>X2</th><td> 2.8768512</td><td>3.2056979</td></tr>\n",
       "\t<tr><th scope=row>X3</th><td> 2.8224496</td><td>3.1283583</td></tr>\n",
       "\t<tr><th scope=row>X8</th><td>-0.1040258</td><td>0.1778843</td></tr>\n",
       "</tbody>\n",
       "</table>\n"
      ],
      "text/latex": [
       "A matrix: 4 × 2 of type dbl\n",
       "\\begin{tabular}{r|ll}\n",
       "  & 2.5 \\% & 97.5 \\%\\\\\n",
       "\\hline\n",
       "\tX1 &  2.7717131 & 3.1172421\\\\\n",
       "\tX2 &  2.8768512 & 3.2056979\\\\\n",
       "\tX3 &  2.8224496 & 3.1283583\\\\\n",
       "\tX8 & -0.1040258 & 0.1778843\\\\\n",
       "\\end{tabular}\n"
      ],
      "text/markdown": [
       "\n",
       "A matrix: 4 × 2 of type dbl\n",
       "\n",
       "| <!--/--> | 2.5 % | 97.5 % |\n",
       "|---|---|---|\n",
       "| X1 |  2.7717131 | 3.1172421 |\n",
       "| X2 |  2.8768512 | 3.2056979 |\n",
       "| X3 |  2.8224496 | 3.1283583 |\n",
       "| X8 | -0.1040258 | 0.1778843 |\n",
       "\n"
      ],
      "text/plain": [
       "   2.5 %      97.5 %   \n",
       "X1  2.7717131 3.1172421\n",
       "X2  2.8768512 3.2056979\n",
       "X3  2.8224496 3.1283583\n",
       "X8 -0.1040258 0.1778843"
      ]
     },
     "metadata": {},
     "output_type": "display_data"
    }
   ],
   "source": [
    "confint(lasso.effect)"
   ]
  },
  {
   "cell_type": "code",
   "execution_count": 16,
   "metadata": {
    "vscode": {
     "languageId": "r"
    }
   },
   "outputs": [
    {
     "data": {
      "text/html": [
       "<table class=\"dataframe\">\n",
       "<caption>A matrix: 4 × 2 of type dbl</caption>\n",
       "<thead>\n",
       "\t<tr><th></th><th scope=col>0.5 %</th><th scope=col>99.5 %</th></tr>\n",
       "</thead>\n",
       "<tbody>\n",
       "\t<tr><th scope=row>X1</th><td> 2.7174265</td><td>3.1715287</td></tr>\n",
       "\t<tr><th scope=row>X2</th><td> 2.8251856</td><td>3.2573635</td></tr>\n",
       "\t<tr><th scope=row>X3</th><td> 2.7743879</td><td>3.1764200</td></tr>\n",
       "\t<tr><th scope=row>X8</th><td>-0.1483171</td><td>0.2221756</td></tr>\n",
       "</tbody>\n",
       "</table>\n"
      ],
      "text/latex": [
       "A matrix: 4 × 2 of type dbl\n",
       "\\begin{tabular}{r|ll}\n",
       "  & 0.5 \\% & 99.5 \\%\\\\\n",
       "\\hline\n",
       "\tX1 &  2.7174265 & 3.1715287\\\\\n",
       "\tX2 &  2.8251856 & 3.2573635\\\\\n",
       "\tX3 &  2.7743879 & 3.1764200\\\\\n",
       "\tX8 & -0.1483171 & 0.2221756\\\\\n",
       "\\end{tabular}\n"
      ],
      "text/markdown": [
       "\n",
       "A matrix: 4 × 2 of type dbl\n",
       "\n",
       "| <!--/--> | 0.5 % | 99.5 % |\n",
       "|---|---|---|\n",
       "| X1 |  2.7174265 | 3.1715287 |\n",
       "| X2 |  2.8251856 | 3.2573635 |\n",
       "| X3 |  2.7743879 | 3.1764200 |\n",
       "| X8 | -0.1483171 | 0.2221756 |\n",
       "\n"
      ],
      "text/plain": [
       "   0.5 %      99.5 %   \n",
       "X1  2.7174265 3.1715287\n",
       "X2  2.8251856 3.2573635\n",
       "X3  2.7743879 3.1764200\n",
       "X8 -0.1483171 0.2221756"
      ]
     },
     "metadata": {},
     "output_type": "display_data"
    }
   ],
   "source": [
    "confint(lasso.effect, level = 0.99)"
   ]
  },
  {
   "cell_type": "code",
   "execution_count": 17,
   "metadata": {
    "vscode": {
     "languageId": "r"
    }
   },
   "outputs": [
    {
     "name": "stderr",
     "output_type": "stream",
     "text": [
      "Warning message:\n",
      "\"Ignoring unknown aesthetics: width, h\"\n"
     ]
    },
    {
     "data": {
      "image/png": "[encoded data removed]",
      "text/plain": [
       "plot without title"
      ]
     },
     "metadata": {
      "image/png": {
       "height": 420,
       "width": 420
      }
     },
     "output_type": "display_data"
    }
   ],
   "source": [
    "plot(lasso.effect, main = \"Confidence Intervals\")"
   ]
  },
  {
   "cell_type": "code",
   "execution_count": 18,
   "metadata": {
    "vscode": {
     "languageId": "r"
    }
   },
   "outputs": [
    {
     "data": {
      "text/plain": [
       "NULL"
      ]
     },
     "metadata": {},
     "output_type": "display_data"
    }
   ],
   "source": [
    "cps2012$cps2012"
   ]
  },
  {
   "cell_type": "code",
   "execution_count": 19,
   "metadata": {
    "vscode": {
     "languageId": "r"
    }
   },
   "outputs": [
    {
     "data": {
      "text/html": [],
      "text/latex": [],
      "text/markdown": [],
      "text/plain": [
       "integer(0)"
      ]
     },
     "metadata": {},
     "output_type": "display_data"
    }
   ],
   "source": [
    "# # 4.3\n",
    "\n",
    "library(hdm)\n",
    "cps2012 = head(hdm::cps2012, 200)\n",
    "# cps2012 = data(cps2012)\n",
    "X <- model.matrix(~-1 + widowed + divorced + separated + nevermarried +\n",
    "hsd08 + hsd911 + hsg + cg + ad + mw + so + we + exp1 + exp2 + exp3, data = cps2012)\n",
    "# dim(X)\n",
    "# [1] 29217\n",
    "# 136\n",
    "# X <- X[, which(apply(X, 2, var) != 0)]\n",
    "# exclude all constant variables\n",
    "# dim(X)\n",
    "# [1] 29217\n",
    "# 116\n",
    "index.gender <- grep(\"female\", colnames(X))\n",
    "y <- cps2012$lnw\n",
    "index.gender"
   ]
  },
  {
   "cell_type": "code",
   "execution_count": 20,
   "metadata": {
    "vscode": {
     "languageId": "r"
    }
   },
   "outputs": [],
   "source": [
    "# X[, 13:15]"
   ]
  },
  {
   "cell_type": "code",
   "execution_count": 21,
   "metadata": {
    "vscode": {
     "languageId": "r"
    }
   },
   "outputs": [
    {
     "data": {
      "text/plain": [
       "[1] \"Estimates and significance testing of the effect of target variables\"\n",
       "     Estimate. Std. Error t value Pr(>|t|)\n",
       "exp1   0.02949    0.02204   1.338    0.181\n",
       "exp2  -0.09115    0.36770  -0.248    0.804\n",
       "exp3  -0.02748    0.02227  -1.234    0.217\n",
       "\n"
      ]
     },
     "metadata": {},
     "output_type": "display_data"
    }
   ],
   "source": [
    "# Sys.sleep(10)\n",
    "effects.female <- rlassoEffects(x = X[, 13:15], y = y)#index.gender)\n",
    "summary(effects.female)"
   ]
  },
  {
   "cell_type": "code",
   "execution_count": 22,
   "metadata": {
    "vscode": {
     "languageId": "r"
    }
   },
   "outputs": [
    {
     "data": {
      "text/html": [
       "<table class=\"dataframe\">\n",
       "<caption>A matrix: 3 × 2 of type dbl</caption>\n",
       "<thead>\n",
       "\t<tr><th></th><th scope=col>2.5 %</th><th scope=col>97.5 %</th></tr>\n",
       "</thead>\n",
       "<tbody>\n",
       "\t<tr><th scope=row>exp1</th><td>-0.01371119</td><td>0.07268410</td></tr>\n",
       "\t<tr><th scope=row>exp2</th><td>-0.81183008</td><td>0.62953799</td></tr>\n",
       "\t<tr><th scope=row>exp3</th><td>-0.07113002</td><td>0.01617279</td></tr>\n",
       "</tbody>\n",
       "</table>\n"
      ],
      "text/latex": [
       "A matrix: 3 × 2 of type dbl\n",
       "\\begin{tabular}{r|ll}\n",
       "  & 2.5 \\% & 97.5 \\%\\\\\n",
       "\\hline\n",
       "\texp1 & -0.01371119 & 0.07268410\\\\\n",
       "\texp2 & -0.81183008 & 0.62953799\\\\\n",
       "\texp3 & -0.07113002 & 0.01617279\\\\\n",
       "\\end{tabular}\n"
      ],
      "text/markdown": [
       "\n",
       "A matrix: 3 × 2 of type dbl\n",
       "\n",
       "| <!--/--> | 2.5 % | 97.5 % |\n",
       "|---|---|---|\n",
       "| exp1 | -0.01371119 | 0.07268410 |\n",
       "| exp2 | -0.81183008 | 0.62953799 |\n",
       "| exp3 | -0.07113002 | 0.01617279 |\n",
       "\n"
      ],
      "text/plain": [
       "     2.5 %       97.5 %    \n",
       "exp1 -0.01371119 0.07268410\n",
       "exp2 -0.81183008 0.62953799\n",
       "exp3 -0.07113002 0.01617279"
      ]
     },
     "metadata": {},
     "output_type": "display_data"
    }
   ],
   "source": [
    "joint.CI <- confint(effects.female, level = 0.95)#, joint = TRUE)\n",
    "joint.CI"
   ]
  },
  {
   "cell_type": "code",
   "execution_count": 23,
   "metadata": {
    "vscode": {
     "languageId": "r"
    }
   },
   "outputs": [
    {
     "ename": "ERROR",
     "evalue": "Error in lasso.regs[[i]] <- try(col <- rlassoEffect(Xt, y, d, method = method, : attempt to select less than one element in integerOneIndex\n",
     "output_type": "error",
     "traceback": [
      "Error in lasso.regs[[i]] <- try(col <- rlassoEffect(Xt, y, d, method = method, : attempt to select less than one element in integerOneIndex\nTraceback:\n",
      "1. rlassoEffects(lnw ~ female + female:(widowed + divorced + separated + \n .     nevermarried + hsd08 + hsd911 + hsg + cg + ad + mw + so + \n .     we + exp1 + exp2 + exp3) + (widowed + divorced + separated + \n .     nevermarried + hsd08 + hsd911 + hsg + cg + ad + mw + so + \n .     we + exp1 + exp2 + exp3)^2, data = cps2012, I = ~female + \n .     female:(widowed + divorced + separated + nevermarried + hsd08 + \n .         hsd911 + hsg + cg + ad + mw + so + we + exp1 + exp2 + \n .         exp3))",
      "2. rlassoEffects.formula(lnw ~ female + female:(widowed + divorced + \n .     separated + nevermarried + hsd08 + hsd911 + hsg + cg + ad + \n .     mw + so + we + exp1 + exp2 + exp3) + (widowed + divorced + \n .     separated + nevermarried + hsd08 + hsd911 + hsg + cg + ad + \n .     mw + so + we + exp1 + exp2 + exp3)^2, data = cps2012, I = ~female + \n .     female:(widowed + divorced + separated + nevermarried + hsd08 + \n .         hsd911 + hsg + cg + ad + mw + so + we + exp1 + exp2 + \n .         exp3))",
      "3. rlassoEffects(x, y, index = I.c, method = method, I3 = I3, post = post, \n .     ...)",
      "4. rlassoEffects.default(x, y, index = I.c, method = method, I3 = I3, \n .     post = post, ...)"
     ]
    }
   ],
   "source": [
    "# Sys.sleep(7)\n",
    "effects.female <- rlassoEffects(lnw ~ female + female:(widowed + divorced + separated +\n",
    "nevermarried + hsd08 + hsd911 + hsg + cg + ad + mw + so + we + exp1 + exp2 +\n",
    "exp3) + (widowed + divorced + separated + nevermarried + hsd08 + hsd911 + hsg +\n",
    "cg + ad + mw + so + we + exp1 + exp2 + exp3)^2, data = cps2012, I = ~female +\n",
    "female:(widowed + divorced + separated + nevermarried + hsd08 + hsd911 + hsg +\n",
    "cg + ad + mw + so + we + exp1 + exp2 + exp3))"
   ]
  },
  {
   "cell_type": "code",
   "execution_count": 24,
   "metadata": {
    "vscode": {
     "languageId": "r"
    }
   },
   "outputs": [],
   "source": [
    "# 4.4\n",
    "\n",
    "GrowthData = head(hdm::GrowthData, 200)\n",
    "# data(GrowthData)\n",
    "# dim(GrowthData)\n",
    "# [1] 90 63\n",
    "y = GrowthData[, 1, drop = F]\n",
    "d = GrowthData[, 3, drop = F]\n",
    "X = as.matrix(GrowthData)[, -c(1, 2, 3)]\n",
    "X1 = as.matrix(GrowthData)[, -c(1, 2)]\n",
    "varnames = colnames(GrowthData)"
   ]
  },
  {
   "cell_type": "code",
   "execution_count": null,
   "metadata": {
    "vscode": {
     "languageId": "r"
    }
   },
   "outputs": [],
   "source": [
    "xnames = varnames[-c(1, 2, 3)]\n",
    "# names of X variables\n",
    "dandxnames = varnames[-c(1, 2)]\n",
    "# names of D and X variables\n",
    "# create formulas by pasting names (this saves typing times)\n",
    "fmla = as.formula(paste(\"Outcome ~ \", paste(dandxnames, collapse = \"+\")))\n",
    "ls.effect = lm(fmla, data = GrowthData)\n",
    "ls.effect = lm(as.matrix(y) ~ X1[, 1:42])\n",
    "ls.effect\n",
    "# ls.effect\n",
    "# lm(y ~ X1)\n",
    "# y\n",
    "# solve(t(X1) %*% X1) %*% (t(X1) %*% Y)"
   ]
  },
  {
   "cell_type": "code",
   "execution_count": 99,
   "metadata": {
    "vscode": {
     "languageId": "r"
    }
   },
   "outputs": [
    {
     "data": {
      "text/html": [
       "<style>\n",
       ".list-inline {list-style: none; margin:0; padding: 0}\n",
       ".list-inline>li {display: inline-block}\n",
       ".list-inline>li:not(:last-child)::after {content: \"\\00b7\"; padding: 0 .5ex}\n",
       "</style>\n",
       "<ol class=list-inline><li>90</li><li>60</li></ol>\n"
      ],
      "text/latex": [
       "\\begin{enumerate*}\n",
       "\\item 90\n",
       "\\item 60\n",
       "\\end{enumerate*}\n"
      ],
      "text/markdown": [
       "1. 90\n",
       "2. 60\n",
       "\n",
       "\n"
      ],
      "text/plain": [
       "[1] 90 60"
      ]
     },
     "metadata": {},
     "output_type": "display_data"
    }
   ],
   "source": [
    "dim(X)"
   ]
  },
  {
   "cell_type": "code",
   "execution_count": 31,
   "metadata": {
    "vscode": {
     "languageId": "r"
    }
   },
   "outputs": [
    {
     "data": {
      "text/plain": [
       "[1] \"Estimates and significance testing of the effect of target variables\"\n",
       "     Estimate. Std. Error t value Pr(>|t|)    \n",
       "[1,]  -0.04981    0.01394  -3.574 0.000351 ***\n",
       "---\n",
       "Signif. codes:  0 '***' 0.001 '**' 0.01 '*' 0.05 '.' 0.1 ' ' 1\n",
       "\n"
      ]
     },
     "metadata": {},
     "output_type": "display_data"
    }
   ],
   "source": [
    "dX = as.matrix(cbind(d, X))\n",
    "lasso.effect = rlassoEffect(x = X, y = y, d = d, method = \"partialling out\")\n",
    "summary(lasso.effect)"
   ]
  },
  {
   "cell_type": "code",
   "execution_count": 32,
   "metadata": {
    "vscode": {
     "languageId": "r"
    }
   },
   "outputs": [
    {
     "data": {
      "text/plain": [
       "[1] \"Estimates and significance testing of the effect of target variables\"\n",
       "         Estimate. Std. Error t value Pr(>|t|)   \n",
       "gdpsh465  -0.05001    0.01579  -3.167  0.00154 **\n",
       "---\n",
       "Signif. codes:  0 '***' 0.001 '**' 0.01 '*' 0.05 '.' 0.1 ' ' 1\n",
       "\n"
      ]
     },
     "metadata": {},
     "output_type": "display_data"
    }
   ],
   "source": [
    "dX = as.matrix(cbind(d, X))\n",
    "doublesel.effect = rlassoEffect(x = X, y = y, d = d, method = \"double selection\")\n",
    "summary(doublesel.effect)"
   ]
  },
  {
   "cell_type": "code",
   "execution_count": 30,
   "metadata": {
    "vscode": {
     "languageId": "r"
    }
   },
   "outputs": [
    {
     "data": {
      "text/html": [
       "<table class=\"dataframe\">\n",
       "<caption>A xtable: 3 × 2</caption>\n",
       "<thead>\n",
       "\t<tr><th></th><th scope=col>Estimate</th><th scope=col>Std. Error</th></tr>\n",
       "\t<tr><th></th><th scope=col>&lt;dbl&gt;</th><th scope=col>&lt;dbl&gt;</th></tr>\n",
       "</thead>\n",
       "<tbody>\n",
       "\t<tr><th scope=row>full reg via ols</th><td>-0.009377989</td><td>0.02988773</td></tr>\n",
       "\t<tr><th scope=row>partial reg\n",
       "via post-lasso </th><td>-0.049811465</td><td>0.01393636</td></tr>\n",
       "\t<tr><th scope=row>partial reg via double selection</th><td>-0.050005855</td><td>0.01579138</td></tr>\n",
       "</tbody>\n",
       "</table>\n"
      ],
      "text/latex": [
       "A xtable: 3 × 2\n",
       "\\begin{tabular}{r|ll}\n",
       "  & Estimate & Std. Error\\\\\n",
       "  & <dbl> & <dbl>\\\\\n",
       "\\hline\n",
       "\tfull reg via ols & -0.009377989 & 0.02988773\\\\\n",
       "\tpartial reg\n",
       "via post-lasso  & -0.049811465 & 0.01393636\\\\\n",
       "\tpartial reg via double selection & -0.050005855 & 0.01579138\\\\\n",
       "\\end{tabular}\n"
      ],
      "text/markdown": [
       "\n",
       "A xtable: 3 × 2\n",
       "\n",
       "| <!--/--> | Estimate &lt;dbl&gt; | Std. Error &lt;dbl&gt; |\n",
       "|---|---|---|\n",
       "| full reg via ols | -0.009377989 | 0.02988773 |\n",
       "| partial reg\n",
       "via post-lasso  | -0.049811465 | 0.01393636 |\n",
       "| partial reg via double selection | -0.050005855 | 0.01579138 |\n",
       "\n"
      ],
      "text/plain": [
       "                                 Estimate     Std. Error\n",
       "full reg via ols                 -0.009377989 0.02988773\n",
       "partial reg\\nvia post-lasso      -0.049811465 0.01393636\n",
       "partial reg via double selection -0.050005855 0.01579138"
      ]
     },
     "metadata": {},
     "output_type": "display_data"
    }
   ],
   "source": [
    "library(xtable)\n",
    "table = rbind(summary(ls.effect)$coef[\"gdpsh465\", 1:2], summary(lasso.effect)$coef[,\n",
    "1:2], summary(doublesel.effect)$coef[, 1:2])\n",
    "colnames(table) = c(\"Estimate\", \"Std. Error\")\n",
    "#names(summary(full.fit)£coef)[1:2]\n",
    "rownames(table) = c(\"full reg via ols\", \"partial reg\n",
    "via post-lasso \", \"partial reg via double selection\")\n",
    "tab = xtable(table, digits = c(2, 2, 5))\n",
    "tab"
   ]
  },
  {
   "cell_type": "markdown",
   "metadata": {},
   "source": [
    "# Inference on Treatment Effects in a Hight-Dimensional Setting"
   ]
  },
  {
   "cell_type": "code",
   "execution_count": 33,
   "metadata": {
    "vscode": {
     "languageId": "r"
    }
   },
   "outputs": [],
   "source": [
    "#5.1\n",
    "AJR = head(hdm::AJR, 200)\n",
    "y = AJR$GDP\n",
    "d = AJR$Exprop\n",
    "z = AJR$logMort\n",
    "x = model.matrix(~-1 + Latitude + Latitude2 + Africa + Asia + Namer + Samer,\n",
    "data = AJR)\n",
    "# dim(AJR)"
   ]
  },
  {
   "cell_type": "code",
   "execution_count": 32,
   "metadata": {
    "vscode": {
     "languageId": "r"
    }
   },
   "outputs": [
    {
     "name": "stdout",
     "output_type": "stream",
     "text": [
      "[1] \"Estimation and significance testing of the effect of target variables in the IV regression model\"\n",
      "       coeff.    se. t-value p-value   \n",
      "Exprop 0.8450 0.2699   3.131 0.00174 **\n",
      "---\n",
      "Signif. codes:  0 '***' 0.001 '**' 0.01 '*' 0.05 '.' 0.1 ' ' 1\n",
      "\n",
      "\n"
     ]
    }
   ],
   "source": [
    "AJR.Xselect = rlassoIV(GDP ~ Exprop + (Latitude + Latitude2 + Africa + Asia + Namer +\n",
    "Samer)^2 | logMort + (Latitude + Latitude2 + Africa + Asia + Namer + Samer)^2,\n",
    "data = AJR, select.X = TRUE, select.Z = FALSE)\n",
    "summary(AJR.Xselect)"
   ]
  },
  {
   "cell_type": "code",
   "execution_count": 33,
   "metadata": {
    "vscode": {
     "languageId": "r"
    }
   },
   "outputs": [
    {
     "name": "stdout",
     "output_type": "stream",
     "text": [
      "           2.5 %   97.5 %\n",
      "Exprop 0.3159812 1.374072\n"
     ]
    }
   ],
   "source": [
    "confint(AJR.Xselect)"
   ]
  },
  {
   "cell_type": "code",
   "execution_count": 35,
   "metadata": {
    "vscode": {
     "languageId": "r"
    }
   },
   "outputs": [
    {
     "data": {
      "text/plain": [
       "\n",
       "Call:\n",
       "tsls.formula(formula = rY ~ rD | rZ, intercept = FALSE)\n",
       "\n",
       "Coefficients:\n",
       "    Estimate\n",
       "rD  1.088   \n"
      ]
     },
     "metadata": {},
     "output_type": "display_data"
    }
   ],
   "source": [
    "fmla.y = GDP ~ Latitude + Latitude2 + Africa + Asia + Namer + Samer\n",
    "fmla.d = Exprop ~ (Latitude + Latitude2 + Africa + Asia + Namer + Samer)\n",
    "fmla.z = logMort ~ (Latitude + Latitude2 + Africa + Asia + Namer + Samer)\n",
    "rY = lm(fmla.y, data = AJR)$res\n",
    "rD = lm(fmla.d, data = AJR)$res\n",
    "rZ = lm(fmla.z, data = AJR)$res\n",
    "# ivfit.lm = tsls(y=rY,d=rD, x=NULL, z=rZ, intercept=FALSE)\n",
    "ivfit.lm = tsls(rY ~ rD | rZ, intercept = FALSE)\n",
    "ivfit.lm\n",
    "# print(cbind(ivfit.lm$coef, ivfit.lm$se), digits = 3)"
   ]
  },
  {
   "cell_type": "code",
   "execution_count": 36,
   "metadata": {
    "vscode": {
     "languageId": "r"
    }
   },
   "outputs": [
    {
     "data": {
      "text/plain": [
       "\n",
       "Call:\n",
       "tsls.default(x = NULL, d = rD, y = rY, z = rZ, intercept = FALSE)\n",
       "\n",
       "Coefficients:\n",
       "    Estimate\n",
       "d1  0.7978  \n"
      ]
     },
     "metadata": {},
     "output_type": "display_data"
    }
   ],
   "source": [
    "rY = rlasso(fmla.y, data = AJR)$res\n",
    "rD = rlasso(fmla.d, data = AJR)$res\n",
    "rZ = rlasso(fmla.z, data = AJR)$res\n",
    "ivfit.lasso = tsls(y=rY,d=rD, x=NULL, z=rZ, intercept=FALSE)\n",
    "# ivfit.lasso = tsls(rY ~ rD | rZ, intercept = FALSE)\n",
    "ivfit.lasso\n",
    "# print(cbind(ivfit.lasso$coef, ivfit.lasso$se), digits = 3)"
   ]
  },
  {
   "cell_type": "code",
   "execution_count": 36,
   "metadata": {
    "vscode": {
     "languageId": "r"
    }
   },
   "outputs": [],
   "source": [
    "EminentDomain = head(hdm::EminentDomain, 200)\n",
    "z <- as.matrix(EminentDomain$logGDP$z)\n",
    "x <- as.matrix(EminentDomain$logGDP$x)\n",
    "y <- EminentDomain$logGDP$y\n",
    "d <- EminentDomain$logGDP$d\n",
    "x <- x[, apply(x, 2, mean, na.rm = TRUE) > 0.05]\n",
    "#\n",
    "z <- z[, apply(z, 2, mean, na.rm = TRUE) > 0.05]\n",
    "#"
   ]
  },
  {
   "cell_type": "code",
   "execution_count": 37,
   "metadata": {
    "vscode": {
     "languageId": "r"
    }
   },
   "outputs": [],
   "source": [
    "ED.ols = lm(y ~ cbind(d, x))\n",
    "ED.2sls = tsls(y = y, d = d, x = x, z = z[, 1:2], intercept = FALSE)"
   ]
  },
  {
   "cell_type": "code",
   "execution_count": 38,
   "metadata": {
    "vscode": {
     "languageId": "r"
    }
   },
   "outputs": [
    {
     "name": "stdout",
     "output_type": "stream",
     "text": [
      "[1] \"Estimates and significance testing of the effect of target variables in the IV regression model\"\n",
      "   coeff.    se. t-value p-value\n",
      "d1 0.4146 0.2902   1.428   0.153\n",
      "\n",
      "\n"
     ]
    }
   ],
   "source": [
    "lasso.IV.Z = rlassoIV(x = x, d = d, y = y, z = z, select.X = FALSE, select.Z = TRUE)\n",
    "# or lasso.IV.Z = rlassoIVselectZt(x=X, d=d, y=y, z=z)\n",
    "summary(lasso.IV.Z)"
   ]
  },
  {
   "cell_type": "code",
   "execution_count": 39,
   "metadata": {
    "vscode": {
     "languageId": "r"
    }
   },
   "outputs": [
    {
     "name": "stdout",
     "output_type": "stream",
     "text": [
      "        2.5 %    97.5 %\n",
      "d1 -0.1542764 0.9834796\n"
     ]
    }
   ],
   "source": [
    "confint(lasso.IV.Z)"
   ]
  },
  {
   "cell_type": "code",
   "execution_count": 40,
   "metadata": {
    "vscode": {
     "languageId": "r"
    }
   },
   "outputs": [
    {
     "name": "stdout",
     "output_type": "stream",
     "text": [
      "Estimates and Significance Testing of the effect of target variables in the IV regression model \n",
      "     coeff.      se. t-value p-value\n",
      "d1 -0.02383  0.12851  -0.185   0.853\n",
      "\n",
      "\n"
     ]
    }
   ],
   "source": [
    "lasso.IV.XZ = rlassoIV(x = x, d = d, y = y, z = z, select.X = TRUE, select.Z = TRUE)\n",
    "summary(lasso.IV.XZ)"
   ]
  },
  {
   "cell_type": "code",
   "execution_count": 41,
   "metadata": {
    "vscode": {
     "languageId": "r"
    }
   },
   "outputs": [
    {
     "name": "stdout",
     "output_type": "stream",
     "text": [
      "        2.5 %    97.5 %\n",
      "d1 -0.2757029 0.2280335\n"
     ]
    }
   ],
   "source": [
    "confint(lasso.IV.XZ)"
   ]
  },
  {
   "cell_type": "code",
   "execution_count": 42,
   "metadata": {
    "vscode": {
     "languageId": "r"
    }
   },
   "outputs": [
    {
     "name": "stdout",
     "output_type": "stream",
     "text": [
      "[1] \"Estimates and significance testing of the effect of target variables in the IV regression model\"\n",
      "   coeff.    se. t-value p-value\n",
      "d1 0.4146 0.2902   1.428   0.153\n",
      "\n",
      "\n"
     ]
    }
   ],
   "source": [
    "library(xtable)\n",
    "table = matrix(0, 4, 2)\n",
    "table[1, ] = summary(ED.ols)$coef[2, 1:2]\n",
    "table[2, ] = cbind(ED.2sls$coef[1], ED.2sls$se[1])\n",
    "table[3, ] = summary(lasso.IV.Z)[, 1:2]"
   ]
  },
  {
   "cell_type": "code",
   "execution_count": 43,
   "metadata": {
    "vscode": {
     "languageId": "r"
    }
   },
   "outputs": [
    {
     "name": "stdout",
     "output_type": "stream",
     "text": [
      "Estimates and Significance Testing of the effect of target variables in the IV regression model \n",
      "     coeff.      se. t-value p-value\n",
      "d1 -0.02383  0.12851  -0.185   0.853\n",
      "\n",
      "\n"
     ]
    }
   ],
   "source": [
    "table[4, ] = summary(lasso.IV.XZ)[, 1:2]"
   ]
  },
  {
   "cell_type": "code",
   "execution_count": 44,
   "metadata": {
    "vscode": {
     "languageId": "r"
    }
   },
   "outputs": [
    {
     "data": {
      "text/html": [
       "<table class=\"dataframe\">\n",
       "<caption>A xtable: 4 × 2</caption>\n",
       "<thead>\n",
       "\t<tr><th></th><th scope=col>Estimate</th><th scope=col>Std. Error</th></tr>\n",
       "\t<tr><th></th><th scope=col>&lt;dbl&gt;</th><th scope=col>&lt;dbl&gt;</th></tr>\n",
       "</thead>\n",
       "<tbody>\n",
       "\t<tr><th scope=row>ols regression</th><td> 0.007864732</td><td>0.009865927</td></tr>\n",
       "\t<tr><th scope=row>IV estimation </th><td>-0.010733269</td><td>0.033766362</td></tr>\n",
       "\t<tr><th scope=row>selection on Z</th><td> 0.414601641</td><td>0.290249208</td></tr>\n",
       "\t<tr><th scope=row>selection on X and Z</th><td>-0.023834697</td><td>0.128506538</td></tr>\n",
       "</tbody>\n",
       "</table>\n"
      ],
      "text/latex": [
       "A xtable: 4 × 2\n",
       "\\begin{tabular}{r|ll}\n",
       "  & Estimate & Std. Error\\\\\n",
       "  & <dbl> & <dbl>\\\\\n",
       "\\hline\n",
       "\tols regression &  0.007864732 & 0.009865927\\\\\n",
       "\tIV estimation  & -0.010733269 & 0.033766362\\\\\n",
       "\tselection on Z &  0.414601641 & 0.290249208\\\\\n",
       "\tselection on X and Z & -0.023834697 & 0.128506538\\\\\n",
       "\\end{tabular}\n"
      ],
      "text/markdown": [
       "\n",
       "A xtable: 4 × 2\n",
       "\n",
       "| <!--/--> | Estimate &lt;dbl&gt; | Std. Error &lt;dbl&gt; |\n",
       "|---|---|---|\n",
       "| ols regression |  0.007864732 | 0.009865927 |\n",
       "| IV estimation  | -0.010733269 | 0.033766362 |\n",
       "| selection on Z |  0.414601641 | 0.290249208 |\n",
       "| selection on X and Z | -0.023834697 | 0.128506538 |\n",
       "\n"
      ],
      "text/plain": [
       "                     Estimate     Std. Error \n",
       "ols regression        0.007864732 0.009865927\n",
       "IV estimation        -0.010733269 0.033766362\n",
       "selection on Z        0.414601641 0.290249208\n",
       "selection on X and Z -0.023834697 0.128506538"
      ]
     },
     "metadata": {},
     "output_type": "display_data"
    }
   ],
   "source": [
    "colnames(table) = c(\"Estimate\", \"Std. Error\")\n",
    "rownames(table) = c(\"ols regression\", \"IV estimation \", \"selection on Z\", \"selection on X and Z\")\n",
    "tab = xtable(table, digits = c(2, 2, 7))\n",
    "tab"
   ]
  },
  {
   "cell_type": "code",
   "execution_count": 45,
   "metadata": {
    "vscode": {
     "languageId": "r"
    }
   },
   "outputs": [],
   "source": [
    "pension = head(hdm::pension, 200)\n",
    "y = pension$tw\n",
    "d = pension$p401\n",
    "z = pension$e401\n",
    "X = pension[, c(\"i2\", \"i3\", \"i4\", \"i5\", \"i6\", \"i7\", \"a2\", \"a3\", \"a4\", \"a5\", \"fsize\",\n",
    "\"hs\", \"smcol\", \"col\", \"marr\", \"twoearn\", \"db\", \"pira\", \"hown\")]\n",
    "# simple model\n",
    "xvar = c(\"i2\", \"i3\", \"i4\", \"i5\", \"i6\", \"i7\", \"a2\", \"a3\", \"a4\", \"a5\", \"fsize\", \"hs\",\n",
    "\"smcol\", \"col\", \"marr\", \"twoearn\", \"db\", \"pira\", \"hown\")\n",
    "xpart = paste(xvar, collapse = \"+\")\n",
    "form = as.formula(paste(\"tw ~ \", paste(c(\"p401\", xvar), collapse = \"+\"), \"|\", paste(xvar,\n",
    "collapse = \"+\")))\n",
    "formZ = as.formula(paste(\"tw ~ \", paste(c(\"p401\", xvar), collapse = \"+\"), \"|\", paste(c(\"e401\",\n",
    "xvar), collapse = \"+\")))"
   ]
  },
  {
   "cell_type": "code",
   "execution_count": 46,
   "metadata": {
    "vscode": {
     "languageId": "r"
    }
   },
   "outputs": [
    {
     "ename": "ERROR",
     "evalue": "Error in check_binary(d): Treatment variable and Instrumental Variable should be binary (0/1)!\n",
     "output_type": "error",
     "traceback": [
      "Error in check_binary(d): Treatment variable and Instrumental Variable should be binary (0/1)!\nTraceback:\n",
      "1. rlassoATE(form, data = pension)",
      "2. rlassoATE.formula(form, data = pension)",
      "3. check_binary(d)",
      "4. stop(\"Treatment variable and Instrumental Variable should be binary (0/1)!\")"
     ]
    }
   ],
   "source": [
    "pension.ate = rlassoATE(form, data = pension)\n",
    "summary(pension.ate)"
   ]
  },
  {
   "cell_type": "code",
   "execution_count": null,
   "metadata": {
    "vscode": {
     "languageId": "r"
    }
   },
   "outputs": [
    {
     "name": "stdout",
     "output_type": "stream",
     "text": [
      "Estimation and significance testing of the treatment effect \n",
      "Type: ATET \n",
      "Bootstrap: not applicable \n",
      "   coeff.   se. t-value p-value    \n",
      "TE  12628  2944   4.289 1.8e-05 ***\n",
      "---\n",
      "Signif. codes:  0 '***' 0.001 '**' 0.01 '*' 0.05 '.' 0.1 ' ' 1\n",
      "\n",
      "\n"
     ]
    }
   ],
   "source": [
    "pension.atet = rlassoATET(form, data = pension)\n",
    "summary(pension.atet)"
   ]
  },
  {
   "cell_type": "markdown",
   "metadata": {},
   "source": [
    "## Error"
   ]
  },
  {
   "cell_type": "code",
   "execution_count": null,
   "metadata": {
    "vscode": {
     "languageId": "r"
    }
   },
   "outputs": [],
   "source": [
    "# pension.late = rlassoLATE(X, d, y, z)\n",
    "# pension.late = rlassoLATE(formZ, data=pension)\n",
    "# summary(pension.late)"
   ]
  },
  {
   "cell_type": "code",
   "execution_count": null,
   "metadata": {
    "vscode": {
     "languageId": "r"
    }
   },
   "outputs": [],
   "source": [
    "# pension.latet = rlassoLATET(X, d, y, z)"
   ]
  },
  {
   "cell_type": "code",
   "execution_count": null,
   "metadata": {
    "vscode": {
     "languageId": "r"
    }
   },
   "outputs": [],
   "source": [
    "xvar2 <- paste(\"(\", xvar, \")^2\", sep = \"\")\n",
    "formExt = as.formula(paste(\"tw ~ \", paste(c(\"p401\", xvar2), collapse = \"+\"), \"|\",\n",
    "paste(xvar2, collapse = \"+\")))\n",
    "formZExt = as.formula(paste(\"tw ~ \", paste(c(\"p401\", xvar2), collapse = \"+\"), \"|\",\n",
    "paste(c(\"e401\", xvar2), collapse = \"+\")))"
   ]
  },
  {
   "cell_type": "code",
   "execution_count": null,
   "metadata": {
    "vscode": {
     "languageId": "r"
    }
   },
   "outputs": [],
   "source": [
    "pension.ate = rlassoATE(X, z, y)\n",
    "pension.atet = rlassoATET(X, z, y)\n",
    "# pension.late = rlassoLATE(X, d, y, z)\n",
    "# pension.latet = rlassoLATET(X, d, y, z)"
   ]
  },
  {
   "cell_type": "markdown",
   "metadata": {},
   "source": [
    "# The Lasso Methods for Discovery of Significant Causes amongst Many Potential Causes, with Many Controls"
   ]
  },
  {
   "cell_type": "code",
   "execution_count": null,
   "metadata": {
    "vscode": {
     "languageId": "r"
    }
   },
   "outputs": [
    {
     "data": {
      "text/html": [
       "<table class=\"dataframe\">\n",
       "<caption>A matrix: 20 × 2 of type dbl</caption>\n",
       "<thead>\n",
       "\t<tr><th></th><th scope=col>2.5 %</th><th scope=col>97.5 %</th></tr>\n",
       "</thead>\n",
       "<tbody>\n",
       "\t<tr><th scope=row>V1</th><td> 4.5145877</td><td>5.21430498</td></tr>\n",
       "\t<tr><th scope=row>V2</th><td>-0.3142909</td><td>0.30494650</td></tr>\n",
       "\t<tr><th scope=row>V3</th><td>-0.3524109</td><td>0.18678880</td></tr>\n",
       "\t<tr><th scope=row>V4</th><td>-0.2542430</td><td>0.28738914</td></tr>\n",
       "\t<tr><th scope=row>V5</th><td>-0.2765802</td><td>0.27627177</td></tr>\n",
       "\t<tr><th scope=row>V6</th><td>-0.3214676</td><td>0.29422684</td></tr>\n",
       "\t<tr><th scope=row>V7</th><td>-0.2262507</td><td>0.30094168</td></tr>\n",
       "\t<tr><th scope=row>V8</th><td>-0.0473541</td><td>0.47366372</td></tr>\n",
       "\t<tr><th scope=row>V9</th><td>-0.1865636</td><td>0.39023520</td></tr>\n",
       "\t<tr><th scope=row>V10</th><td>-0.2372356</td><td>0.26411185</td></tr>\n",
       "\t<tr><th scope=row>V11</th><td>-0.3147091</td><td>0.20945872</td></tr>\n",
       "\t<tr><th scope=row>V12</th><td>-0.3091905</td><td>0.26572176</td></tr>\n",
       "\t<tr><th scope=row>V13</th><td>-0.1741550</td><td>0.37682465</td></tr>\n",
       "\t<tr><th scope=row>V14</th><td>-0.3235734</td><td>0.38543162</td></tr>\n",
       "\t<tr><th scope=row>V15</th><td>-0.3219763</td><td>0.31312486</td></tr>\n",
       "\t<tr><th scope=row>V16</th><td>-0.2649505</td><td>0.33100700</td></tr>\n",
       "\t<tr><th scope=row>V17</th><td>-0.1792080</td><td>0.41696169</td></tr>\n",
       "\t<tr><th scope=row>V18</th><td>-0.3693247</td><td>0.04695928</td></tr>\n",
       "\t<tr><th scope=row>V19</th><td>-0.1073109</td><td>0.39368776</td></tr>\n",
       "\t<tr><th scope=row>V20</th><td>-0.2157182</td><td>0.25543839</td></tr>\n",
       "</tbody>\n",
       "</table>\n"
      ],
      "text/latex": [
       "A matrix: 20 × 2 of type dbl\n",
       "\\begin{tabular}{r|ll}\n",
       "  & 2.5 \\% & 97.5 \\%\\\\\n",
       "\\hline\n",
       "\tV1 &  4.5145877 & 5.21430498\\\\\n",
       "\tV2 & -0.3142909 & 0.30494650\\\\\n",
       "\tV3 & -0.3524109 & 0.18678880\\\\\n",
       "\tV4 & -0.2542430 & 0.28738914\\\\\n",
       "\tV5 & -0.2765802 & 0.27627177\\\\\n",
       "\tV6 & -0.3214676 & 0.29422684\\\\\n",
       "\tV7 & -0.2262507 & 0.30094168\\\\\n",
       "\tV8 & -0.0473541 & 0.47366372\\\\\n",
       "\tV9 & -0.1865636 & 0.39023520\\\\\n",
       "\tV10 & -0.2372356 & 0.26411185\\\\\n",
       "\tV11 & -0.3147091 & 0.20945872\\\\\n",
       "\tV12 & -0.3091905 & 0.26572176\\\\\n",
       "\tV13 & -0.1741550 & 0.37682465\\\\\n",
       "\tV14 & -0.3235734 & 0.38543162\\\\\n",
       "\tV15 & -0.3219763 & 0.31312486\\\\\n",
       "\tV16 & -0.2649505 & 0.33100700\\\\\n",
       "\tV17 & -0.1792080 & 0.41696169\\\\\n",
       "\tV18 & -0.3693247 & 0.04695928\\\\\n",
       "\tV19 & -0.1073109 & 0.39368776\\\\\n",
       "\tV20 & -0.2157182 & 0.25543839\\\\\n",
       "\\end{tabular}\n"
      ],
      "text/markdown": [
       "\n",
       "A matrix: 20 × 2 of type dbl\n",
       "\n",
       "| <!--/--> | 2.5 % | 97.5 % |\n",
       "|---|---|---|\n",
       "| V1 |  4.5145877 | 5.21430498 |\n",
       "| V2 | -0.3142909 | 0.30494650 |\n",
       "| V3 | -0.3524109 | 0.18678880 |\n",
       "| V4 | -0.2542430 | 0.28738914 |\n",
       "| V5 | -0.2765802 | 0.27627177 |\n",
       "| V6 | -0.3214676 | 0.29422684 |\n",
       "| V7 | -0.2262507 | 0.30094168 |\n",
       "| V8 | -0.0473541 | 0.47366372 |\n",
       "| V9 | -0.1865636 | 0.39023520 |\n",
       "| V10 | -0.2372356 | 0.26411185 |\n",
       "| V11 | -0.3147091 | 0.20945872 |\n",
       "| V12 | -0.3091905 | 0.26572176 |\n",
       "| V13 | -0.1741550 | 0.37682465 |\n",
       "| V14 | -0.3235734 | 0.38543162 |\n",
       "| V15 | -0.3219763 | 0.31312486 |\n",
       "| V16 | -0.2649505 | 0.33100700 |\n",
       "| V17 | -0.1792080 | 0.41696169 |\n",
       "| V18 | -0.3693247 | 0.04695928 |\n",
       "| V19 | -0.1073109 | 0.39368776 |\n",
       "| V20 | -0.2157182 | 0.25543839 |\n",
       "\n"
      ],
      "text/plain": [
       "    2.5 %      97.5 %    \n",
       "V1   4.5145877 5.21430498\n",
       "V2  -0.3142909 0.30494650\n",
       "V3  -0.3524109 0.18678880\n",
       "V4  -0.2542430 0.28738914\n",
       "V5  -0.2765802 0.27627177\n",
       "V6  -0.3214676 0.29422684\n",
       "V7  -0.2262507 0.30094168\n",
       "V8  -0.0473541 0.47366372\n",
       "V9  -0.1865636 0.39023520\n",
       "V10 -0.2372356 0.26411185\n",
       "V11 -0.3147091 0.20945872\n",
       "V12 -0.3091905 0.26572176\n",
       "V13 -0.1741550 0.37682465\n",
       "V14 -0.3235734 0.38543162\n",
       "V15 -0.3219763 0.31312486\n",
       "V16 -0.2649505 0.33100700\n",
       "V17 -0.1792080 0.41696169\n",
       "V18 -0.3693247 0.04695928\n",
       "V19 -0.1073109 0.39368776\n",
       "V20 -0.2157182 0.25543839"
      ]
     },
     "metadata": {},
     "output_type": "display_data"
    }
   ],
   "source": [
    "set.seed(1)\n",
    "n = 100\n",
    "p1 = 20\n",
    "p2 = 20\n",
    "D = matrix(rnorm(n * p1), n, p1)\n",
    "# Causes\n",
    "W = matrix(rnorm(n * p2), n, p2)\n",
    "X = cbind(D, W)\n",
    "# Regressors\n",
    "Y = D[, 1] * 5 + W[, 1] * 5 + rnorm(n)\n",
    "#Outcome\n",
    "confint(rlassoEffects(X, Y, index = c(1:p1)), joint = TRUE)"
   ]
  }
 ],
 "metadata": {
  "kernelspec": {
   "display_name": "R",
   "language": "R",
   "name": "ir"
  },
  "language_info": {
   "codemirror_mode": "r",
   "file_extension": ".r",
   "mimetype": "text/x-r-source",
   "name": "R",
   "pygments_lexer": "r",
   "version": "4.2.1"
  },
  "orig_nbformat": 4,
  "vscode": {
   "interpreter": {
    "hash": "2a8dfe095fce2b5e88c64a2c3ee084c8e0e0d70b23e7b95b1cfb538be294c5c8"
   }
  }
 },
 "nbformat": 4,
 "nbformat_minor": 2
}
