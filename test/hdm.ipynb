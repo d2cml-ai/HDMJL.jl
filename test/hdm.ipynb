{
  "cells": [
    {
      "cell_type": "raw",
      "metadata": {},
      "source": [
        "---\n",
        "title: Plots Demo\n",
        "author: Norah Jones\n",
        "date: 5/22/2021\n",
        "format:\n",
        "  pdf:\n",
        "    code-fold: true\n",
        "---"
      ],
      "id": "d1006825"
    },
    {
      "cell_type": "markdown",
      "metadata": {},
      "source": [
        "## Parametric Plots\n",
        "\n",
        "Plot function pair (x(u), y(u)). \n",
        "See @fig-parametric for an example.\n"
      ],
      "id": "ed194bc4"
    },
    {
      "cell_type": "code",
      "metadata": {},
      "source": [
        "#| label: fig-parametric\n",
        "#| fig-cap: Parametric Plots\n",
        "\n",
        "12 + 12\n",
        "\n",
        "llk() = print(\"sakjfalsj sa\")\n",
        "\n",
        "llk()"
      ],
      "id": "fig-parametric",
      "execution_count": null,
      "outputs": []
    }
  ],
  "metadata": {
    "kernelspec": {
      "name": "julia-1.7",
      "language": "julia",
      "display_name": "Julia 1.7.3"
    }
  },
  "nbformat": 4,
  "nbformat_minor": 5
}