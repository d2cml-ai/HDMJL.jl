{
 "cells": [
  {
   "cell_type": "code",
   "execution_count": 2,
   "id": "40f251ff-bb4b-487d-8b79-fcc6b07c0a11",
   "metadata": {},
   "outputs": [],
   "source": [
    "using Distributed\n",
    "\n",
    "using LinearAlgebra, GLM, DataFrames, Statistics, Random, Distributions, Tables, TableOperations, StatsBase, FreqTables"
   ]
  },
  {
   "cell_type": "code",
   "execution_count": 3,
   "id": "05a2ac59-f5a2-40c5-bfd4-2091826dbc90",
   "metadata": {},
   "outputs": [
    {
     "data": {
      "text/plain": [
       "rlassoIVselectX (generic function with 2 methods)"
      ]
     },
     "execution_count": 3,
     "metadata": {},
     "output_type": "execute_result"
    }
   ],
   "source": [
    "function rlassoIVselectX(x, y, z, d, post::Bool = true)\n",
    "    \n",
    "    n = size(y, 1)\n",
    "    numIV = size(z, 2)\n",
    "    Z = hcat(x, z, makeunique = true)\n",
    "    lasso_d_x = rlasso(rlasso_arg(x = x, y = d, post = post))\n",
    "    Dr = lasso_d_x[\"residuals\"]\n",
    "    lasso_y_x = rlasso(rlasso_arg(x = x, y = y, post = post))\n",
    "    Yr = lasso_y_x[\"residuals\"]\n",
    "    Zr = zeros(n, numIV)\n",
    "    for i in 1:numIV\n",
    "        lasso_z_x = rlasso(rlasso_arg(x = x, y = DataFrame(z = z[:, i]), post = post))\n",
    "        Zr[:, i] = lasso_z_x[\"residuals\"]\n",
    "    end\n",
    "    \n",
    "    result = tsls(Dr, Yr, Zr, nothing, false)\n",
    "    se = result[\"se\"]\n",
    "    vcov = result[\"vcov\"]\n",
    "    coef = result[\"coef\"]\n",
    "    # coefnames = result[\"coefnames\"]\n",
    "    res = Dict(\"coefnames\" => coefnames, \"coefficients\" => coef, \"vcov\" => vcov, \"se\" => se)\n",
    "    \n",
    "    return res\n",
    "end"
   ]
  }
 ],
 "metadata": {
  "kernelspec": {
   "display_name": "Julia 1.7.3",
   "language": "julia",
   "name": "julia-1.7"
  },
  "language_info": {
   "file_extension": ".jl",
   "mimetype": "application/julia",
   "name": "julia",
   "version": "1.7.3"
  }
 },
 "nbformat": 4,
 "nbformat_minor": 5
}
