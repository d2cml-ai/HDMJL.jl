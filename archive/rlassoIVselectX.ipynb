{
 "cells": [
  {
   "cell_type": "code",
   "execution_count": 1,
   "id": "40f251ff-bb4b-487d-8b79-fcc6b07c0a11",
   "metadata": {},
   "outputs": [],
   "source": [
    "using Distributed\n",
    "\n",
    "@everywhere using LinearAlgebra, GLM, DataFrames, Statistics, Random, Distributions, Tables, TableOperations, StatsBase, FreqTables, DataFrames, FixedEffectModels"
   ]
  },
  {
   "cell_type": "code",
   "execution_count": 3,
   "id": "09e7251d-1a9d-4acd-9049-890ee36c239d",
   "metadata": {},
   "outputs": [
    {
     "data": {
      "text/plain": [
       "rlassoIV_arg"
      ]
     },
     "execution_count": 3,
     "metadata": {},
     "output_type": "execute_result"
    }
   ],
   "source": [
    "Base.@kwdef mutable struct rlassoIV_arg\n",
    "    x::DataFrame\n",
    "    y::DataFrame\n",
    "    d::DataFrame\n",
    "    z::DataFrame\n",
    "    select_Z::Bool = true\n",
    "    select_X::Bool = true\n",
    "    post::Bool = true\n",
    "end"
   ]
  },
  {
   "cell_type": "code",
   "execution_count": 5,
   "id": "05a2ac59-f5a2-40c5-bfd4-2091826dbc90",
   "metadata": {},
   "outputs": [
    {
     "data": {
      "text/plain": [
       "rlassoIVselectX (generic function with 2 methods)"
      ]
     },
     "execution_count": 5,
     "metadata": {},
     "output_type": "execute_result"
    }
   ],
   "source": [
    "function rlassoIVselectX(x, d, y, z, post = true)\n",
    "    \n",
    "    d = Matrix(self.d)\n",
    "    z = Matrix(self.z)\n",
    "    \n",
    "    n = size(y, 1)\n",
    "    numIV = size(z, 2)\n",
    "    Z = hcat(x, z)\n",
    "    lasso_d_x = rlasso(rlasso_arg(x, d, post))\n",
    "    Dr = lasso_d_x[\"residuals\"]\n",
    "    lasso_y_x = rlasso(rlasso_arg(x, y, post))\n",
    "    Yr = lasso_y_x[\"residuals\"]\n",
    "    Zr = zeros(n, numIV)\n",
    "    for i in 1:numIV\n",
    "        lasso_z_x = rlasso(rlasso_arg(x, z, post))\n",
    "        Zr[:, i] = lasso_z_x[\"residuals\"]\n",
    "    end\n",
    "    \n",
    "    data = DataFrame(Yr = Yr, Dr = Dr, Zr = Zr)\n",
    "    result = reg(data, @formula(Yr ~ (Dr ~ Zr)))\n",
    "    se = FixedEffectModels.coeftable(result).cols[2]\n",
    "    vcov = vcov(result)\n",
    "    coef = coef(result)[1]\n",
    "    res = Dict(\"coefficients\" => coef, \"vcov\" => vcov, \"se\" => se)\n",
    "    \n",
    "    return res\n",
    "end\n",
    "    \n",
    "    "
   ]
  }
 ],
 "metadata": {
  "kernelspec": {
   "display_name": "Julia 1.7.3",
   "language": "julia",
   "name": "julia-1.7"
  },
  "language_info": {
   "file_extension": ".jl",
   "mimetype": "application/julia",
   "name": "julia",
   "version": "1.7.3"
  }
 },
 "nbformat": 4,
 "nbformat_minor": 5
}
