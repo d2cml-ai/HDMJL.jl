{
 "cells": [
  {
   "cell_type": "code",
   "execution_count": 2,
   "id": "97fa9c45-2804-4211-bdda-9ea6190b5602",
   "metadata": {},
   "outputs": [],
   "source": [
    "using Distributed\n",
    "\n",
    "@everywhere using LinearAlgebra, GLM, DataFrames, Statistics, Random, Distributions, Tables, TableOperations, StatsBase, FreqTables, DataFrames, FixedEffectModels"
   ]
  },
  {
   "cell_type": "code",
   "execution_count": 3,
   "id": "943eb6e4-fd74-4f11-a3f7-3d1e967733f5",
   "metadata": {},
   "outputs": [
    {
     "data": {
      "text/plain": [
       "rlassoIV_arg"
      ]
     },
     "execution_count": 3,
     "metadata": {},
     "output_type": "execute_result"
    }
   ],
   "source": [
    "Base.@kwdef mutable struct rlassoIV_arg\n",
    "    x::DataFrame\n",
    "    y::DataFrame\n",
    "    d::DataFrame\n",
    "    z::DataFrame\n",
    "    select_Z::Bool = true\n",
    "    select_X::Bool = true\n",
    "    post::Bool = true\n",
    "end"
   ]
  },
  {
   "cell_type": "code",
   "execution_count": null,
   "id": "f88bff65-2032-4168-a60e-45ade6e30b39",
   "metadata": {},
   "outputs": [],
   "source": [
    "function rlassoIV(self::rlassoIV_arg)\n",
    "    \n",
    "    x = Matrix(self.x)\n",
    "    y = Matrix(self.y)\n",
    "    d = Matrix(self.d)\n",
    "    z = Matrix(self.z)\n",
    "    select_Z = self.select_Z\n",
    "    select_X = self.select_X\n",
    "    \n",
    "    data = DataFrame(x = x, y = y, d = d, z = z)\n",
    "    \n",
    "    if !select_Z & !select_X\n",
    "        res = reg(data, @formula(y ~ x + (d ~ z)))\n",
    "        return(res)\n",
    "        \n",
    "    elseif select_Z & !select_X\n",
    "        res = rlassoIVselectX(x, y, d, z)\n",
    "        return(res)\n",
    "        \n",
    "    elseif !select_Z & select_X\n",
    "        res = rlassoIVselectZ(x, y, d, z)\n",
    "        return(res)\n",
    "        \n",
    "    elseif select_Z & select_X\n",
    "        Z = hcat(z, x)\n",
    "        lasso_d_zx = rlasso(rlasso_arg(Z, d))\n",
    "        lasso_y_x = rlasso(rlasso_arg(x, y))\n",
    "        lasso_d_x = rlasso(rlasso_arg(x, d))\n",
    "        \n",
    "        \n",
    "    end"
   ]
  },
  {
   "cell_type": "code",
   "execution_count": null,
   "id": "838d3230-5c26-4272-be80-2f1aa28580f1",
   "metadata": {},
   "outputs": [],
   "source": []
  }
 ],
 "metadata": {
  "kernelspec": {
   "display_name": "Julia 1.7.3",
   "language": "julia",
   "name": "julia-1.7"
  },
  "language_info": {
   "file_extension": ".jl",
   "mimetype": "application/julia",
   "name": "julia",
   "version": "1.7.3"
  }
 },
 "nbformat": 4,
 "nbformat_minor": 5
}
