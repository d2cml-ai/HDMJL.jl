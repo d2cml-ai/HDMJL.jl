{
 "cells": [
  {
   "cell_type": "code",
   "execution_count": 7,
   "id": "40f251ff-bb4b-487d-8b79-fcc6b07c0a11",
   "metadata": {},
   "outputs": [
    {
     "name": "stderr",
     "output_type": "stream",
     "text": [
      "┌ Info: Precompiling FixedEffectModels [9d5cd8c9-2029-5cab-9928-427838db53e3]\n",
      "└ @ Base loading.jl:1423\n",
      "\u001b[33m\u001b[1m┌ \u001b[22m\u001b[39m\u001b[33m\u001b[1mWarning: \u001b[22m\u001b[39mModule StatsBase with build ID 14330325151201 is missing from the cache.\n",
      "\u001b[33m\u001b[1m│ \u001b[22m\u001b[39mThis may mean StatsBase [2913bbd2-ae8a-5f71-8c99-4fb6c76f3a91] does not support precompilation but is imported by a module that does.\n",
      "\u001b[33m\u001b[1m└ \u001b[22m\u001b[39m\u001b[90m@ Base loading.jl:1107\u001b[39m\n",
      "\u001b[33m\u001b[1m┌ \u001b[22m\u001b[39m\u001b[33m\u001b[1mWarning: \u001b[22m\u001b[39mModule StatsBase with build ID 14330325151201 is missing from the cache.\n",
      "\u001b[33m\u001b[1m│ \u001b[22m\u001b[39mThis may mean StatsBase [2913bbd2-ae8a-5f71-8c99-4fb6c76f3a91] does not support precompilation but is imported by a module that does.\n",
      "\u001b[33m\u001b[1m└ \u001b[22m\u001b[39m\u001b[90m@ Base loading.jl:1107\u001b[39m\n",
      "┌ Info: Skipping precompilation since __precompile__(false). Importing FixedEffectModels [9d5cd8c9-2029-5cab-9928-427838db53e3].\n",
      "└ @ Base loading.jl:1124\n",
      "┌ Info: Precompiling FixedEffects [c8885935-8500-56a7-9867-7708b20db0eb]\n",
      "└ @ Base loading.jl:1423\n",
      "\u001b[33m\u001b[1m┌ \u001b[22m\u001b[39m\u001b[33m\u001b[1mWarning: \u001b[22m\u001b[39mModule StatsBase with build ID 14330325151201 is missing from the cache.\n",
      "\u001b[33m\u001b[1m│ \u001b[22m\u001b[39mThis may mean StatsBase [2913bbd2-ae8a-5f71-8c99-4fb6c76f3a91] does not support precompilation but is imported by a module that does.\n",
      "\u001b[33m\u001b[1m└ \u001b[22m\u001b[39m\u001b[90m@ Base loading.jl:1107\u001b[39m\n",
      "┌ Info: Skipping precompilation since __precompile__(false). Importing FixedEffects [c8885935-8500-56a7-9867-7708b20db0eb].\n",
      "└ @ Base loading.jl:1124\n",
      "┌ Info: Precompiling Vcov [ec2bfdc2-55df-4fc9-b9ae-4958c2cf2486]\n",
      "└ @ Base loading.jl:1423\n",
      "\u001b[33m\u001b[1m┌ \u001b[22m\u001b[39m\u001b[33m\u001b[1mWarning: \u001b[22m\u001b[39mModule StatsBase with build ID 14330325151201 is missing from the cache.\n",
      "\u001b[33m\u001b[1m│ \u001b[22m\u001b[39mThis may mean StatsBase [2913bbd2-ae8a-5f71-8c99-4fb6c76f3a91] does not support precompilation but is imported by a module that does.\n",
      "\u001b[33m\u001b[1m└ \u001b[22m\u001b[39m\u001b[90m@ Base loading.jl:1107\u001b[39m\n",
      "┌ Info: Skipping precompilation since __precompile__(false). Importing Vcov [ec2bfdc2-55df-4fc9-b9ae-4958c2cf2486].\n",
      "└ @ Base loading.jl:1124\n"
     ]
    }
   ],
   "source": [
    "using Distributed\n",
    "\n",
    "@everywhere using LinearAlgebra, GLM, DataFrames, Statistics, Random, Distributions, Tables, TableOperations, StatsBase, FreqTables, DataFrames, FixedEffectModels"
   ]
  },
  {
   "cell_type": "code",
   "execution_count": 6,
   "id": "09e7251d-1a9d-4acd-9049-890ee36c239d",
   "metadata": {},
   "outputs": [],
   "source": [
    "@everywhere mutable struct rlassoIV_arg\n",
    "    x::DataFrame\n",
    "    y::DataFrame\n",
    "    d::DataFrame\n",
    "    z::DataFrame\n",
    "    select_Z::Bool\n",
    "    select_X::Bool\n",
    "    post::Bool\n",
    "end"
   ]
  },
  {
   "cell_type": "code",
   "execution_count": 9,
   "id": "05a2ac59-f5a2-40c5-bfd4-2091826dbc90",
   "metadata": {},
   "outputs": [],
   "source": [
    "@everywhere function rlassoIVselectX(x, d, y, z, post = true)\n",
    "    \n",
    "    d = Matrix(self.d)\n",
    "    z = Matrix(self.z)\n",
    "    \n",
    "    n = size(y, 1)\n",
    "    numIV = size(z, 2)\n",
    "    Z = hcat(x, z)\n",
    "    lasso_d_x = rlasso(rlasso_arg(x, d, post))\n",
    "    Dr = lasso_d_x[\"residuals\"]\n",
    "    lasso_y_x = rlasso(rlasso_arg(x, y, post))\n",
    "    Yr = lasso_y_x[\"residuals\"]\n",
    "    Zr = zeros(n, numIV)\n",
    "    for i in 1:numIV\n",
    "        lasso_z_x = rlasso(rlasso_arg(x, z, post))\n",
    "        Zr[:, i] = lasso_z_x[\"residuals\"]\n",
    "    end\n",
    "    \n",
    "    data = DataFrame(Yr = Yr, Dr = Dr, Zr = Zr)\n",
    "    result = reg(data, @formula(Yr ~ (Dr ~ Zr)))\n",
    "    se = FixedEffectModels.coeftable(result).cols[2]\n",
    "    vcov = vcov(result)\n",
    "    coef = coef(result)[1]\n",
    "    res = Dict(\"coefficients\" => coef, \"vcov\" => vcov, \"se\" => se)\n",
    "    \n",
    "    return res\n",
    "end\n",
    "    \n",
    "    "
   ]
  }
 ],
 "metadata": {
  "kernelspec": {
   "display_name": "Julia 1.7.3",
   "language": "julia",
   "name": "julia-1.7"
  },
  "language_info": {
   "file_extension": ".jl",
   "mimetype": "application/julia",
   "name": "julia",
   "version": "1.7.3"
  }
 },
 "nbformat": 4,
 "nbformat_minor": 5
}
