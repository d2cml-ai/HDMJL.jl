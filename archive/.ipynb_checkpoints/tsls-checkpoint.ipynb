{
 "cells": [
  {
   "cell_type": "code",
   "execution_count": 15,
   "id": "d93085ce-10a9-4b90-aa74-5c72284e3f29",
   "metadata": {},
   "outputs": [],
   "source": [
    "using LinearAlgebra"
   ]
  },
  {
   "cell_type": "code",
   "execution_count": null,
   "id": "9a72dc6d-848b-4259-8c2b-9f2874713762",
   "metadata": {},
   "outputs": [],
   "source": [
    "function tsls(x = nothing, d, y, z, intercept::Bool = true, homoscedastic::Bool = true)\n",
    "    n = size(y, 1)\n",
    "    d = Matrix(d)\n",
    "    if !isnothing(x)\n",
    "        x = Matrix(x)\n",
    "    end\n",
    "    z = Matrix(z)\n",
    "    \n",
    "    if intercept & isnothing(x)\n",
    "        x = ones(n, 1)\n",
    "    elseif intercept\n",
    "        x = hcat(ones(n, 1), x)\n",
    "    end\n",
    "    \n",
    "    a1 = size(d, 2)\n",
    "    a2 = size(x, 2)\n",
    "    k = a1 + a2\n",
    "    X = hcat(d, x)\n",
    "    Z = hcat(z, x)\n",
    "    \n",
    "    Mxz = X' * Z\n",
    "    Mzz = pinv(Z' * Z)\n",
    "    \n",
    "    M = pinv(Mxz * Mzz * Mxz')\n",
    "    \n",
    "    b = M * Mxz * Mzz * (Z' * y)\n",
    "    \n",
    "    if homoscedastic\n",
    "        e = y - x * b\n",
    "        VC1 = (e' * e / (n - k)) .* M\n",
    "        \n",
    "    elseif !homoscedastic\n",
    "        e = y - x * b\n",
    "        S = 0\n",
    "        for i in 1:n\n",
    "            S = S + e[i] ^ 2 .* (Z[:, ] * Z[]'\n",
    "    "
   ]
  },
  {
   "cell_type": "code",
   "execution_count": 24,
   "id": "9f90d8f1-763f-49e0-8f1e-022899a2aed8",
   "metadata": {},
   "outputs": [
    {
     "data": {
      "text/plain": [
       "3×1 Matrix{Float16}:\n",
       " 2.67e-5\n",
       " 0.0002071\n",
       " 0.0"
      ]
     },
     "execution_count": 24,
     "metadata": {},
     "output_type": "execute_result"
    }
   ],
   "source": [
    "test = Matrix{Float16}(undef, 3, 1)"
   ]
  },
  {
   "cell_type": "code",
   "execution_count": 27,
   "id": "912b96ec-07b6-4be4-9898-24c08b4b97b5",
   "metadata": {},
   "outputs": [
    {
     "data": {
      "text/plain": [
       "Float16(0.0002071)"
      ]
     },
     "execution_count": 27,
     "metadata": {},
     "output_type": "execute_result"
    }
   ],
   "source": [
    "test[2]"
   ]
  }
 ],
 "metadata": {
  "kernelspec": {
   "display_name": "Julia 1.7.3",
   "language": "julia",
   "name": "julia-1.7"
  },
  "language_info": {
   "file_extension": ".jl",
   "mimetype": "application/julia",
   "name": "julia",
   "version": "1.7.3"
  }
 },
 "nbformat": 4,
 "nbformat_minor": 5
}
