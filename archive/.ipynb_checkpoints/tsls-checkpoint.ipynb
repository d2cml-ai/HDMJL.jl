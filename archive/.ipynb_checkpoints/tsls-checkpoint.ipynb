{
 "cells": [
  {
   "cell_type": "code",
   "execution_count": 15,
   "id": "d93085ce-10a9-4b90-aa74-5c72284e3f29",
   "metadata": {},
   "outputs": [],
   "source": [
    "using LinearAlgebra"
   ]
  },
  {
   "cell_type": "code",
   "execution_count": null,
   "id": "9a72dc6d-848b-4259-8c2b-9f2874713762",
   "metadata": {},
   "outputs": [],
   "source": [
    "function tsls(d, y, z, x::Union{Nothing, DataFrame, Array} = nothing, intercept::Bool = true, homoscedastic::Bool = true)\n",
    "    n = size(y, 1)\n",
    "    d = Matrix(d)\n",
    "    if !isnothing(x)\n",
    "        x = Matrix(x)\n",
    "    end\n",
    "    z = Matrix(z)\n",
    "    \n",
    "    if intercept & isnothing(x)\n",
    "        x = ones(n, 1)\n",
    "    elseif intercept\n",
    "        x = hcat(ones(n, 1), x)\n",
    "    end\n",
    "    \n",
    "    a1 = size(d, 2)\n",
    "    if isnothing(x)\n",
    "        a2 = 0\n",
    "    else\n",
    "        a2 = size(x, 2)\n",
    "    end\n",
    "    \n",
    "    k = a1 + a2\n",
    "    \n",
    "    if isnothing(x)\n",
    "        X = d\n",
    "        Z = z\n",
    "    else\n",
    "        X = hcat(d, x)\n",
    "        Z = hcat(z, x)\n",
    "    end\n",
    "        \n",
    "    Mxz = X' * Z\n",
    "    Mzz = pinv(Z' * Z)\n",
    "    \n",
    "    M = pinv(Mxz * Mzz * Mxz')\n",
    "    \n",
    "    b = M * Mxz * Mzz * (Z' * y)\n",
    "    \n",
    "    if homoscedastic\n",
    "        e = y - X * b\n",
    "        VC1 = (e' * e / (n - k)) .* M\n",
    "        \n",
    "    elseif !homoscedastic\n",
    "        e = y - X * b\n",
    "        S = 0\n",
    "        for i in 1:n\n",
    "            S = S + e[i] ^ 2 * (Z[i, :] * Z[i, :]')\n",
    "        end\n",
    "        S = S / n\n",
    "        VC1 = n .* M * (Mxz * Mzz .* S * Mzz * Mxz') * M\n",
    "    end\n",
    "    \n",
    "    res = Dict(\"coefficients\" => b, \"vcov\" => VC1, \"se\" => diag(VC1), \"residuals\" => e, \"sample_size\" => n)\n",
    "    return res\n",
    "end\n",
    "    "
   ]
  }
 ],
 "metadata": {
  "kernelspec": {
   "display_name": "Julia 1.7.3",
   "language": "julia",
   "name": "julia-1.7"
  },
  "language_info": {
   "file_extension": ".jl",
   "mimetype": "application/julia",
   "name": "julia",
   "version": "1.7.3"
  }
 },
 "nbformat": 4,
 "nbformat_minor": 5
}
